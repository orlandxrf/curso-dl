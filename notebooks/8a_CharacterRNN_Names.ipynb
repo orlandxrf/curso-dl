{
  "nbformat": 4,
  "nbformat_minor": 0,
  "metadata": {
    "colab": {
      "name": "8a_CharacterRNN_Names.ipynb",
      "provenance": [],
      "authorship_tag": "ABX9TyOTLo+vUU/NGQwgY8FaXgfx",
      "include_colab_link": true
    },
    "kernelspec": {
      "name": "python3",
      "display_name": "Python 3"
    },
    "language_info": {
      "name": "python"
    }
  },
  "cells": [
    {
      "cell_type": "markdown",
      "metadata": {
        "id": "view-in-github",
        "colab_type": "text"
      },
      "source": [
        "<a href=\"https://colab.research.google.com/github/orlandxrf/curso-dl/blob/main/notebooks/8a_CharacterRNN_Names.ipynb\" target=\"_parent\"><img src=\"https://colab.research.google.com/assets/colab-badge.svg\" alt=\"Open In Colab\"/></a>"
      ]
    },
    {
      "cell_type": "markdown",
      "source": [
        "# Clasificación de nombres con un RNN a nivel de carácter\n",
        "\n",
        "Tomado de [CLASSIFYING NAMES WITH A CHARACTER-LEVEL RNN](https://pytorch.org/tutorials/intermediate/char_rnn_classification_tutorial.html)\n",
        "\n"
      ],
      "metadata": {
        "id": "E_N44dnzfSYp"
      }
    },
    {
      "cell_type": "markdown",
      "source": [
        "## Obtener y descargar el conjunto de datos"
      ],
      "metadata": {
        "id": "TH6JHA6hfqR2"
      }
    },
    {
      "cell_type": "code",
      "source": [
        "# establecer parametros para almacenar y cargar el conjunto de datos del repositorio de Github\n",
        "import os\n",
        "\n",
        "names = [\n",
        "  \"Arabic.txt\",\n",
        "  \"Chinese.txt\",\n",
        "  \"Czech.txt\",\n",
        "  \"Dutch.txt\",\n",
        "  \"English.txt\",\n",
        "  \"French.txt\",\n",
        "  \"German.txt\",\n",
        "  \"Greek.txt\",\n",
        "  \"Irish.txt\",\n",
        "  \"Italian.txt\",\n",
        "  \"Japanese.txt\",\n",
        "  \"Korean.txt\",\n",
        "  \"Polish.txt\",\n",
        "  \"Portuguese.txt\",\n",
        "  \"Russian.txt\",\n",
        "  \"Scottish.txt\",\n",
        "  \"Spanish.txt\",\n",
        "  \"Vietnamese.txt\",\n",
        "]\n",
        "\n",
        "base_url = 'https://raw.githubusercontent.com/orlandxrf/curso-dl/main/data/names/'\n",
        "data_folder = 'names'\n",
        "\n",
        "# crear carpeta para almacenar el conjunto de datos\n",
        "! mkdir {data_folder}\n",
        "\n",
        "for name in names:\n",
        "  file_path = os.path.join(data_folder, name)\n",
        "  url = f\"{base_url}{name}\"\n",
        "  print (f\"\\tDescargando {url}\")\n",
        "  # descargar conjunto de datos y alamcenar\n",
        "  ! wget -nc {url} -O {file_path}\n",
        "\n",
        "# # comprobrar\n",
        "! ls -lh names/*"
      ],
      "metadata": {
        "colab": {
          "base_uri": "https://localhost:8080/"
        },
        "id": "vVDsCbEJia3E",
        "outputId": "743cf07c-d0b4-47df-c929-7f35dfc83461"
      },
      "execution_count": null,
      "outputs": [
        {
          "output_type": "stream",
          "name": "stdout",
          "text": [
            "mkdir: cannot create directory ‘names’: File exists\n",
            "\tDescargando https://raw.githubusercontent.com/orlandxrf/curso-dl/main/data/names/Arabic.txt\n",
            "File ‘names/Arabic.txt’ already there; not retrieving.\n",
            "\tDescargando https://raw.githubusercontent.com/orlandxrf/curso-dl/main/data/names/Chinese.txt\n",
            "File ‘names/Chinese.txt’ already there; not retrieving.\n",
            "\tDescargando https://raw.githubusercontent.com/orlandxrf/curso-dl/main/data/names/Czech.txt\n",
            "File ‘names/Czech.txt’ already there; not retrieving.\n",
            "\tDescargando https://raw.githubusercontent.com/orlandxrf/curso-dl/main/data/names/Dutch.txt\n",
            "File ‘names/Dutch.txt’ already there; not retrieving.\n",
            "\tDescargando https://raw.githubusercontent.com/orlandxrf/curso-dl/main/data/names/English.txt\n",
            "File ‘names/English.txt’ already there; not retrieving.\n",
            "\tDescargando https://raw.githubusercontent.com/orlandxrf/curso-dl/main/data/names/French.txt\n",
            "File ‘names/French.txt’ already there; not retrieving.\n",
            "\tDescargando https://raw.githubusercontent.com/orlandxrf/curso-dl/main/data/names/German.txt\n",
            "File ‘names/German.txt’ already there; not retrieving.\n",
            "\tDescargando https://raw.githubusercontent.com/orlandxrf/curso-dl/main/data/names/Greek.txt\n",
            "File ‘names/Greek.txt’ already there; not retrieving.\n",
            "\tDescargando https://raw.githubusercontent.com/orlandxrf/curso-dl/main/data/names/Irish.txt\n",
            "File ‘names/Irish.txt’ already there; not retrieving.\n",
            "\tDescargando https://raw.githubusercontent.com/orlandxrf/curso-dl/main/data/names/Italian.txt\n",
            "File ‘names/Italian.txt’ already there; not retrieving.\n",
            "\tDescargando https://raw.githubusercontent.com/orlandxrf/curso-dl/main/data/names/Japanese.txt\n",
            "File ‘names/Japanese.txt’ already there; not retrieving.\n",
            "\tDescargando https://raw.githubusercontent.com/orlandxrf/curso-dl/main/data/names/Korean.txt\n",
            "File ‘names/Korean.txt’ already there; not retrieving.\n",
            "\tDescargando https://raw.githubusercontent.com/orlandxrf/curso-dl/main/data/names/Polish.txt\n",
            "File ‘names/Polish.txt’ already there; not retrieving.\n",
            "\tDescargando https://raw.githubusercontent.com/orlandxrf/curso-dl/main/data/names/Portuguese.txt\n",
            "File ‘names/Portuguese.txt’ already there; not retrieving.\n",
            "\tDescargando https://raw.githubusercontent.com/orlandxrf/curso-dl/main/data/names/Russian.txt\n",
            "File ‘names/Russian.txt’ already there; not retrieving.\n",
            "\tDescargando https://raw.githubusercontent.com/orlandxrf/curso-dl/main/data/names/Scottish.txt\n",
            "File ‘names/Scottish.txt’ already there; not retrieving.\n",
            "\tDescargando https://raw.githubusercontent.com/orlandxrf/curso-dl/main/data/names/Spanish.txt\n",
            "File ‘names/Spanish.txt’ already there; not retrieving.\n",
            "\tDescargando https://raw.githubusercontent.com/orlandxrf/curso-dl/main/data/names/Vietnamese.txt\n",
            "File ‘names/Vietnamese.txt’ already there; not retrieving.\n",
            "-rw-r--r-- 1 root root  13K Mar  2 03:50 names/Arabic.txt\n",
            "-rw-r--r-- 1 root root 1.3K Mar  2 03:50 names/Chinese.txt\n",
            "-rw-r--r-- 1 root root 3.9K Mar  2 03:50 names/Czech.txt\n",
            "-rw-r--r-- 1 root root 2.3K Mar  2 03:50 names/Dutch.txt\n",
            "-rw-r--r-- 1 root root  27K Mar  2 03:50 names/English.txt\n",
            "-rw-r--r-- 1 root root 2.2K Mar  2 03:50 names/French.txt\n",
            "-rw-r--r-- 1 root root 5.5K Mar  2 03:50 names/German.txt\n",
            "-rw-r--r-- 1 root root 2.0K Mar  2 03:50 names/Greek.txt\n",
            "-rw-r--r-- 1 root root 1.9K Mar  2 03:50 names/Irish.txt\n",
            "-rw-r--r-- 1 root root 5.6K Mar  2 03:50 names/Italian.txt\n",
            "-rw-r--r-- 1 root root 7.5K Mar  2 03:50 names/Japanese.txt\n",
            "-rw-r--r-- 1 root root  423 Mar  2 03:50 names/Korean.txt\n",
            "-rw-r--r-- 1 root root 1.2K Mar  2 03:50 names/Polish.txt\n",
            "-rw-r--r-- 1 root root  554 Mar  2 03:50 names/Portuguese.txt\n",
            "-rw-r--r-- 1 root root  84K Mar  2 03:50 names/Russian.txt\n",
            "-rw-r--r-- 1 root root  752 Mar  2 03:50 names/Scottish.txt\n",
            "-rw-r--r-- 1 root root 2.3K Mar  2 03:56 names/Spanish.txt\n",
            "-rw-r--r-- 1 root root  339 Mar  2 03:56 names/Vietnamese.txt\n"
          ]
        }
      ]
    },
    {
      "cell_type": "code",
      "source": [
        "! ls -lh names/*"
      ],
      "metadata": {
        "colab": {
          "base_uri": "https://localhost:8080/"
        },
        "id": "PtalrvBZoLA0",
        "outputId": "9efb297a-fe47-44c8-89cc-b239798bf377"
      },
      "execution_count": null,
      "outputs": [
        {
          "output_type": "stream",
          "name": "stdout",
          "text": [
            "-rw-r--r-- 1 root root  13K Mar  2 03:50 names/Arabic.txt\n",
            "-rw-r--r-- 1 root root 1.3K Mar  2 03:50 names/Chinese.txt\n",
            "-rw-r--r-- 1 root root 3.9K Mar  2 03:50 names/Czech.txt\n",
            "-rw-r--r-- 1 root root 2.3K Mar  2 03:50 names/Dutch.txt\n",
            "-rw-r--r-- 1 root root  27K Mar  2 03:50 names/English.txt\n",
            "-rw-r--r-- 1 root root 2.2K Mar  2 03:50 names/French.txt\n",
            "-rw-r--r-- 1 root root 5.5K Mar  2 03:50 names/German.txt\n",
            "-rw-r--r-- 1 root root 2.0K Mar  2 03:50 names/Greek.txt\n",
            "-rw-r--r-- 1 root root 1.9K Mar  2 03:50 names/Irish.txt\n",
            "-rw-r--r-- 1 root root 5.6K Mar  2 03:50 names/Italian.txt\n",
            "-rw-r--r-- 1 root root 7.5K Mar  2 03:50 names/Japanese.txt\n",
            "-rw-r--r-- 1 root root  423 Mar  2 03:50 names/Korean.txt\n",
            "-rw-r--r-- 1 root root 1.2K Mar  2 03:50 names/Polish.txt\n",
            "-rw-r--r-- 1 root root  554 Mar  2 03:50 names/Portuguese.txt\n",
            "-rw-r--r-- 1 root root  84K Mar  2 03:50 names/Russian.txt\n",
            "-rw-r--r-- 1 root root  752 Mar  2 03:50 names/Scottish.txt\n",
            "-rw-r--r-- 1 root root 2.3K Mar  2 03:56 names/Spanish.txt\n",
            "-rw-r--r-- 1 root root  339 Mar  2 03:56 names/Vietnamese.txt\n"
          ]
        }
      ]
    },
    {
      "cell_type": "markdown",
      "source": [
        "## Preparar los datos\n",
        "\n"
      ],
      "metadata": {
        "id": "ERuIcYTGibgN"
      }
    },
    {
      "cell_type": "code",
      "execution_count": null,
      "metadata": {
        "colab": {
          "base_uri": "https://localhost:8080/"
        },
        "id": "UcoAtVZIdphP",
        "outputId": "d611fc87-b406-46e5-81ec-82bdbe7089ba"
      },
      "outputs": [
        {
          "output_type": "stream",
          "name": "stdout",
          "text": [
            "['names/German.txt', 'names/Russian.txt', 'names/Greek.txt', 'names/Vietnamese.txt', 'names/Chinese.txt', 'names/Polish.txt', 'names/English.txt', 'names/Scottish.txt', 'names/Portuguese.txt', 'names/French.txt', 'names/Korean.txt', 'names/Dutch.txt', 'names/Czech.txt', 'names/Italian.txt', 'names/Irish.txt', 'names/Japanese.txt', 'names/Spanish.txt', 'names/Arabic.txt']\n",
            "all_letters:\tabcdefghijklmnopqrstuvwxyzABCDEFGHIJKLMNOPQRSTUVWXYZ .,;'\n",
            "Slusarski\n",
            "dict_keys(['German', 'Russian', 'Greek', 'Vietnamese', 'Chinese', 'Polish', 'English', 'Scottish', 'Portuguese', 'French', 'Korean', 'Dutch', 'Czech', 'Italian', 'Irish', 'Japanese', 'Spanish', 'Arabic'])\n"
          ]
        }
      ],
      "source": [
        "from __future__ import unicode_literals, print_function, division\n",
        "from io import open\n",
        "import glob\n",
        "import os\n",
        "\n",
        "def findFiles(path): return glob.glob(path)\n",
        "\n",
        "print(findFiles('names/*.txt'))\n",
        "\n",
        "import unicodedata\n",
        "import string\n",
        "\n",
        "all_letters = string.ascii_letters + \" .,;'\"\n",
        "print (f\"all_letters:\\t{all_letters}\")\n",
        "n_letters = len(all_letters)\n",
        "\n",
        "# Turn a Unicode string to plain ASCII, thanks to https://stackoverflow.com/a/518232/2809427\n",
        "def unicodeToAscii(s):\n",
        "    return ''.join(\n",
        "        c for c in unicodedata.normalize('NFD', s)\n",
        "        if unicodedata.category(c) != 'Mn'\n",
        "        and c in all_letters\n",
        "    )\n",
        "\n",
        "print(unicodeToAscii('Ślusàrski'))\n",
        "\n",
        "# Build the category_lines dictionary, a list of names per language\n",
        "category_lines = {}\n",
        "all_categories = []\n",
        "\n",
        "# Read a file and split into lines\n",
        "def readLines(filename):\n",
        "    lines = open(filename, encoding='utf-8').read().strip().split('\\n')\n",
        "    return [unicodeToAscii(line) for line in lines]\n",
        "\n",
        "for filename in findFiles('names/*.txt'):\n",
        "    category = os.path.splitext(os.path.basename(filename))[0]\n",
        "    all_categories.append(category)\n",
        "    lines = readLines(filename)\n",
        "    category_lines[category] = lines\n",
        "\n",
        "n_categories = len(all_categories)\n",
        "print (category_lines.keys())"
      ]
    },
    {
      "cell_type": "code",
      "source": [
        "print(category_lines['Italian'][:5])\n",
        "print(category_lines['Spanish'][:5])"
      ],
      "metadata": {
        "colab": {
          "base_uri": "https://localhost:8080/"
        },
        "id": "2ugm8hNowq0m",
        "outputId": "5e31d41a-fe6b-4967-8423-9f84041269f5"
      },
      "execution_count": null,
      "outputs": [
        {
          "output_type": "stream",
          "name": "stdout",
          "text": [
            "['Abandonato', 'Abatangelo', 'Abatantuono', 'Abate', 'Abategiovanni']\n",
            "['Abana', 'Abano', 'Abarca', 'Abaroa', 'Abascal']\n"
          ]
        }
      ]
    },
    {
      "cell_type": "markdown",
      "source": [
        "## Convertir nombres en tensores"
      ],
      "metadata": {
        "id": "B59i6cITx1Pm"
      }
    },
    {
      "cell_type": "code",
      "source": [
        "import torch\n",
        "\n",
        "# Find letter index from all_letters, e.g. \"a\" = 0\n",
        "def letterToIndex(letter):\n",
        "    return all_letters.find(letter)\n",
        "\n",
        "# Just for demonstration, turn a letter into a <1 x n_letters> Tensor\n",
        "def letterToTensor(letter):\n",
        "    tensor = torch.zeros(1, n_letters)\n",
        "    tensor[0][letterToIndex(letter)] = 1\n",
        "    return tensor\n",
        "\n",
        "# Turn a line into a <line_length x 1 x n_letters>,\n",
        "# or an array of one-hot letter vectors\n",
        "def lineToTensor(line):\n",
        "    tensor = torch.zeros(len(line), 1, n_letters)\n",
        "    for li, letter in enumerate(line):\n",
        "        tensor[li][0][letterToIndex(letter)] = 1\n",
        "    return tensor\n",
        "\n",
        "print(letterToTensor('J'))\n",
        "\n",
        "print(lineToTensor('Jones').size())"
      ],
      "metadata": {
        "colab": {
          "base_uri": "https://localhost:8080/"
        },
        "id": "iQFd_kLTx2z0",
        "outputId": "9d063e83-a7ad-44b6-d610-78ecb564a33f"
      },
      "execution_count": null,
      "outputs": [
        {
          "output_type": "stream",
          "name": "stdout",
          "text": [
            "tensor([[0., 0., 0., 0., 0., 0., 0., 0., 0., 0., 0., 0., 0., 0., 0., 0., 0., 0.,\n",
            "         0., 0., 0., 0., 0., 0., 0., 0., 0., 0., 0., 0., 0., 0., 0., 0., 0., 1.,\n",
            "         0., 0., 0., 0., 0., 0., 0., 0., 0., 0., 0., 0., 0., 0., 0., 0., 0., 0.,\n",
            "         0., 0., 0.]])\n",
            "torch.Size([5, 1, 57])\n"
          ]
        }
      ]
    },
    {
      "cell_type": "markdown",
      "source": [
        "## Crear la Red Neuronal Recurrente\n",
        "Estructura de la RNN, contiene solo 2 capas lineales que operan en un estado oculto y de entrada, con una capa LogSoftmax después de la salida.\n",
        "\n",
        "![Forward](https://drive.google.com/uc?id=1oR-6-czB--j9LeDGdGnltybC3OmZkDQE)"
      ],
      "metadata": {
        "id": "3l56jJg9yj7w"
      }
    },
    {
      "cell_type": "code",
      "source": [
        "import torch.nn as nn\n",
        "\n",
        "class RNN(nn.Module):\n",
        "    def __init__(self, input_size, hidden_size, output_size):\n",
        "        super(RNN, self).__init__()\n",
        "\n",
        "        self.hidden_size = hidden_size\n",
        "\n",
        "        self.i2h = nn.Linear(input_size + hidden_size, hidden_size)\n",
        "        self.i2o = nn.Linear(input_size + hidden_size, output_size)\n",
        "        self.softmax = nn.LogSoftmax(dim=1)\n",
        "\n",
        "    def forward(self, input, hidden):\n",
        "        combined = torch.cat((input, hidden), 1)\n",
        "        hidden = self.i2h(combined)\n",
        "        output = self.i2o(combined)\n",
        "        output = self.softmax(output)\n",
        "        return output, hidden\n",
        "\n",
        "    def initHidden(self):\n",
        "        return torch.zeros(1, self.hidden_size)\n",
        "\n",
        "n_hidden = 128\n",
        "rnn = RNN(n_letters, n_hidden, n_categories)"
      ],
      "metadata": {
        "id": "M51oZApJyqK9"
      },
      "execution_count": null,
      "outputs": []
    },
    {
      "cell_type": "markdown",
      "source": [
        "Para ejecutar un paso de esta red, necesitamos pasar una entrada (en nuestro caso, el tensor de la letra actual) y un estado oculto anterior (que inicializamos como ceros al principio). Obtendremos la salida (probabilidad de cada idioma) y un siguiente estado oculto (que guardamos para el siguiente paso)."
      ],
      "metadata": {
        "id": "aPsIwkpb3np1"
      }
    },
    {
      "cell_type": "code",
      "source": [
        "input = letterToTensor('A')\n",
        "hidden = torch.zeros(1, n_hidden)\n",
        "\n",
        "output, next_hidden = rnn(input, hidden)\n",
        "\n",
        "print (f\"all_letters:\\t{all_letters}\\tLongitud: {len(all_letters)}\\n\\n\")\n",
        "print (f\"input:\\t{input}\\n{input.shape}\\n\")\n",
        "print (f\"hidden:\\t{hidden}\\n{hidden.shape}\\n\")\n",
        "print (f\"output:\\t{output}\\n{output.shape}\\n\\n\")\n",
        "\n",
        "print (f\"all_categories:\\t{all_categories}\\nLongitud:\\t{len(all_categories)}\")"
      ],
      "metadata": {
        "colab": {
          "base_uri": "https://localhost:8080/"
        },
        "id": "2i_nmkrb1dg_",
        "outputId": "99805cc5-dc03-47fa-edb9-c4342d73aec6"
      },
      "execution_count": null,
      "outputs": [
        {
          "output_type": "stream",
          "name": "stdout",
          "text": [
            "all_letters:\tabcdefghijklmnopqrstuvwxyzABCDEFGHIJKLMNOPQRSTUVWXYZ .,;'\tLongitud: 57\n",
            "\n",
            "\n",
            "input:\ttensor([[0., 0., 0., 0., 0., 0., 0., 0., 0., 0., 0., 0., 0., 0., 0., 0., 0., 0.,\n",
            "         0., 0., 0., 0., 0., 0., 0., 0., 1., 0., 0., 0., 0., 0., 0., 0., 0., 0.,\n",
            "         0., 0., 0., 0., 0., 0., 0., 0., 0., 0., 0., 0., 0., 0., 0., 0., 0., 0.,\n",
            "         0., 0., 0.]])\n",
            "torch.Size([1, 57])\n",
            "\n",
            "hidden:\ttensor([[0., 0., 0., 0., 0., 0., 0., 0., 0., 0., 0., 0., 0., 0., 0., 0., 0., 0., 0., 0., 0., 0., 0., 0.,\n",
            "         0., 0., 0., 0., 0., 0., 0., 0., 0., 0., 0., 0., 0., 0., 0., 0., 0., 0., 0., 0., 0., 0., 0., 0.,\n",
            "         0., 0., 0., 0., 0., 0., 0., 0., 0., 0., 0., 0., 0., 0., 0., 0., 0., 0., 0., 0., 0., 0., 0., 0.,\n",
            "         0., 0., 0., 0., 0., 0., 0., 0., 0., 0., 0., 0., 0., 0., 0., 0., 0., 0., 0., 0., 0., 0., 0., 0.,\n",
            "         0., 0., 0., 0., 0., 0., 0., 0., 0., 0., 0., 0., 0., 0., 0., 0., 0., 0., 0., 0., 0., 0., 0., 0.,\n",
            "         0., 0., 0., 0., 0., 0., 0., 0.]])\n",
            "torch.Size([1, 128])\n",
            "\n",
            "output:\ttensor([[-2.9520, -2.9453, -2.9181, -2.8783, -2.8592, -2.9744, -2.8601, -2.8223,\n",
            "         -2.8163, -2.8873, -2.9282, -2.7812, -2.8780, -2.9637, -2.8985, -2.8298,\n",
            "         -2.8883, -2.9739]], grad_fn=<LogSoftmaxBackward0>)\n",
            "torch.Size([1, 18])\n",
            "\n",
            "\n",
            "all_categories:\t['German', 'Russian', 'Greek', 'Vietnamese', 'Chinese', 'Polish', 'English', 'Scottish', 'Portuguese', 'French', 'Korean', 'Dutch', 'Czech', 'Italian', 'Irish', 'Japanese', 'Spanish', 'Arabic']\n",
            "Longitud:\t18\n"
          ]
        }
      ]
    },
    {
      "cell_type": "markdown",
      "source": [
        "En aras de la eficiencia, no queremos crear un nuevo Tensor para cada paso, por lo que usaremos lineToTensor en lugar de letterToTensor y usaremos particiones. Esto podría optimizarse aún más precomputando lotes de tensores."
      ],
      "metadata": {
        "id": "w7jSg9Lg4TET"
      }
    },
    {
      "cell_type": "code",
      "source": [
        "input = lineToTensor('Albert')\n",
        "hidden = torch.zeros(1, n_hidden)\n",
        "\n",
        "output, next_hidden = rnn(input[0], hidden)\n",
        "\n",
        "\n",
        "print (f\"all_letters:\\t{all_letters}\\tLongitud: {len(all_letters)}\\n\\n\")\n",
        "print (f\"input:\\t{input}\\n{input.shape}\\n\")\n",
        "print (f\"hidden:\\t{hidden}\\n{hidden.shape}\\n\")\n",
        "print (f\"output:\\t{output}\\n{output.shape}\\n\\n\")\n",
        "\n",
        "print (f\"all_categories:\\t{all_categories}\\nLongitud:\\t{len(all_categories)}\")\n"
      ],
      "metadata": {
        "colab": {
          "base_uri": "https://localhost:8080/"
        },
        "id": "GO139h7N4XjL",
        "outputId": "d4126871-1eb0-4899-84f9-50ae3c63d9c9"
      },
      "execution_count": null,
      "outputs": [
        {
          "output_type": "stream",
          "name": "stdout",
          "text": [
            "all_letters:\tabcdefghijklmnopqrstuvwxyzABCDEFGHIJKLMNOPQRSTUVWXYZ .,;'\tLongitud: 57\n",
            "\n",
            "\n",
            "input:\ttensor([[[0., 0., 0., 0., 0., 0., 0., 0., 0., 0., 0., 0., 0., 0., 0., 0., 0.,\n",
            "          0., 0., 0., 0., 0., 0., 0., 0., 0., 1., 0., 0., 0., 0., 0., 0., 0.,\n",
            "          0., 0., 0., 0., 0., 0., 0., 0., 0., 0., 0., 0., 0., 0., 0., 0., 0.,\n",
            "          0., 0., 0., 0., 0., 0.]],\n",
            "\n",
            "        [[0., 0., 0., 0., 0., 0., 0., 0., 0., 0., 0., 1., 0., 0., 0., 0., 0.,\n",
            "          0., 0., 0., 0., 0., 0., 0., 0., 0., 0., 0., 0., 0., 0., 0., 0., 0.,\n",
            "          0., 0., 0., 0., 0., 0., 0., 0., 0., 0., 0., 0., 0., 0., 0., 0., 0.,\n",
            "          0., 0., 0., 0., 0., 0.]],\n",
            "\n",
            "        [[0., 1., 0., 0., 0., 0., 0., 0., 0., 0., 0., 0., 0., 0., 0., 0., 0.,\n",
            "          0., 0., 0., 0., 0., 0., 0., 0., 0., 0., 0., 0., 0., 0., 0., 0., 0.,\n",
            "          0., 0., 0., 0., 0., 0., 0., 0., 0., 0., 0., 0., 0., 0., 0., 0., 0.,\n",
            "          0., 0., 0., 0., 0., 0.]],\n",
            "\n",
            "        [[0., 0., 0., 0., 1., 0., 0., 0., 0., 0., 0., 0., 0., 0., 0., 0., 0.,\n",
            "          0., 0., 0., 0., 0., 0., 0., 0., 0., 0., 0., 0., 0., 0., 0., 0., 0.,\n",
            "          0., 0., 0., 0., 0., 0., 0., 0., 0., 0., 0., 0., 0., 0., 0., 0., 0.,\n",
            "          0., 0., 0., 0., 0., 0.]],\n",
            "\n",
            "        [[0., 0., 0., 0., 0., 0., 0., 0., 0., 0., 0., 0., 0., 0., 0., 0., 0.,\n",
            "          1., 0., 0., 0., 0., 0., 0., 0., 0., 0., 0., 0., 0., 0., 0., 0., 0.,\n",
            "          0., 0., 0., 0., 0., 0., 0., 0., 0., 0., 0., 0., 0., 0., 0., 0., 0.,\n",
            "          0., 0., 0., 0., 0., 0.]],\n",
            "\n",
            "        [[0., 0., 0., 0., 0., 0., 0., 0., 0., 0., 0., 0., 0., 0., 0., 0., 0.,\n",
            "          0., 0., 1., 0., 0., 0., 0., 0., 0., 0., 0., 0., 0., 0., 0., 0., 0.,\n",
            "          0., 0., 0., 0., 0., 0., 0., 0., 0., 0., 0., 0., 0., 0., 0., 0., 0.,\n",
            "          0., 0., 0., 0., 0., 0.]]])\n",
            "torch.Size([6, 1, 57])\n",
            "\n",
            "hidden:\ttensor([[0., 0., 0., 0., 0., 0., 0., 0., 0., 0., 0., 0., 0., 0., 0., 0., 0., 0., 0., 0., 0., 0., 0., 0.,\n",
            "         0., 0., 0., 0., 0., 0., 0., 0., 0., 0., 0., 0., 0., 0., 0., 0., 0., 0., 0., 0., 0., 0., 0., 0.,\n",
            "         0., 0., 0., 0., 0., 0., 0., 0., 0., 0., 0., 0., 0., 0., 0., 0., 0., 0., 0., 0., 0., 0., 0., 0.,\n",
            "         0., 0., 0., 0., 0., 0., 0., 0., 0., 0., 0., 0., 0., 0., 0., 0., 0., 0., 0., 0., 0., 0., 0., 0.,\n",
            "         0., 0., 0., 0., 0., 0., 0., 0., 0., 0., 0., 0., 0., 0., 0., 0., 0., 0., 0., 0., 0., 0., 0., 0.,\n",
            "         0., 0., 0., 0., 0., 0., 0., 0.]])\n",
            "torch.Size([1, 128])\n",
            "\n",
            "output:\ttensor([[-2.9520, -2.9453, -2.9181, -2.8783, -2.8592, -2.9744, -2.8601, -2.8223,\n",
            "         -2.8163, -2.8873, -2.9282, -2.7812, -2.8780, -2.9637, -2.8985, -2.8298,\n",
            "         -2.8883, -2.9739]], grad_fn=<LogSoftmaxBackward0>)\n",
            "torch.Size([1, 18])\n",
            "\n",
            "\n",
            "all_categories:\t['German', 'Russian', 'Greek', 'Vietnamese', 'Chinese', 'Polish', 'English', 'Scottish', 'Portuguese', 'French', 'Korean', 'Dutch', 'Czech', 'Italian', 'Irish', 'Japanese', 'Spanish', 'Arabic']\n",
            "Longitud:\t18\n"
          ]
        }
      ]
    },
    {
      "cell_type": "markdown",
      "source": [
        "## Entrenamiento"
      ],
      "metadata": {
        "id": "HXI9Hz7g42jQ"
      }
    },
    {
      "cell_type": "markdown",
      "source": [
        "### Preparar el entrenamiento\n",
        "\n",
        "Antes de entrar en el entrenamiento, debemos hacer algunas funciones de ayuda. El primero es interpretar la salida de la red, que sabemos que es una probabilidad de cada categoría. Podemos usar `Tensor.topk` para obtener el índice de mayor valor:\n"
      ],
      "metadata": {
        "id": "NJpkysGG44gY"
      }
    },
    {
      "cell_type": "code",
      "source": [
        "def categoryFromOutput(output):\n",
        "    top_n, top_i = output.topk(1)\n",
        "    # print (f\"top_n:\\t{top_n}\\ntop_i:\\t{top_i}\\n\")\n",
        "\n",
        "    category_i = top_i[0].item()\n",
        "    # print (f\"category_i:\\t{category_i}\\n\")\n",
        "    \n",
        "    return all_categories[category_i], category_i\n",
        "\n",
        "print(categoryFromOutput(output))"
      ],
      "metadata": {
        "colab": {
          "base_uri": "https://localhost:8080/"
        },
        "id": "P203uUmw46nU",
        "outputId": "b513a0d6-9b49-494a-f4ab-91cc6fb44559"
      },
      "execution_count": null,
      "outputs": [
        {
          "output_type": "stream",
          "name": "stdout",
          "text": [
            "('Dutch', 11)\n"
          ]
        }
      ]
    },
    {
      "cell_type": "markdown",
      "source": [
        "También definimos una forma rápida de obtener un ejemplo de entrenamiento (un nombre y su idioma):"
      ],
      "metadata": {
        "id": "x8_c_61k6I7N"
      }
    },
    {
      "cell_type": "code",
      "source": [
        "import random\n",
        "\n",
        "def randomChoice(l):\n",
        "    return l[random.randint(0, len(l) - 1)]\n",
        "\n",
        "def randomTrainingExample():\n",
        "    category = randomChoice(all_categories)\n",
        "    line = randomChoice(category_lines[category])\n",
        "    category_tensor = torch.tensor([all_categories.index(category)], dtype=torch.long)\n",
        "    line_tensor = lineToTensor(line)\n",
        "    return category, line, category_tensor, line_tensor\n",
        "\n",
        "for i in range(10):\n",
        "    category, line, category_tensor, line_tensor = randomTrainingExample()\n",
        "    print('category =', category, '/ line =', line)"
      ],
      "metadata": {
        "colab": {
          "base_uri": "https://localhost:8080/"
        },
        "id": "rAG7R3OP6M0N",
        "outputId": "6081848d-d4cd-42e4-a924-d4ac7694ca28"
      },
      "execution_count": null,
      "outputs": [
        {
          "output_type": "stream",
          "name": "stdout",
          "text": [
            "category = Arabic / line = Awad\n",
            "category = Scottish / line = Kennedy\n",
            "category = Portuguese / line = Nunes\n",
            "category = Japanese / line = Komatsu\n",
            "category = Italian / line = Bonomo\n",
            "category = Vietnamese / line = Han\n",
            "category = French / line = Thayer\n",
            "category = Italian / line = De laurentis\n",
            "category = Korean / line = Baik\n",
            "category = Czech / line = Jirovy\n"
          ]
        }
      ]
    },
    {
      "cell_type": "markdown",
      "source": [
        "### Entrenar la red\n",
        "\n",
        "Ahora todo lo que se necesita para entrenar esta red es mostrarle un muchos ejemplos, hacer que adivine y decirle si está mal. Para la función de pérdida se elige: la **pérdida de probabilidad logarítmica negativa** `nn.NLLLoss` (The negative log likelihood loss), ya que la última capa de la RNN es `nn.LogSoftmax`."
      ],
      "metadata": {
        "id": "ARvsxwIj60Mn"
      }
    },
    {
      "cell_type": "code",
      "source": [
        "criterion = nn.NLLLoss()\n",
        "\n",
        "learning_rate = 0.005 # If you set this too high, it might explode. If too low, it might not learn\n",
        "\n",
        "def train(category_tensor, line_tensor):\n",
        "    hidden = rnn.initHidden()\n",
        "\n",
        "    rnn.zero_grad()\n",
        "\n",
        "    for i in range(line_tensor.size()[0]):\n",
        "        output, hidden = rnn(line_tensor[i], hidden)\n",
        "\n",
        "    loss = criterion(output, category_tensor)\n",
        "    loss.backward()\n",
        "\n",
        "    # Add parameters' gradients to their values, multiplied by learning rate\n",
        "    for p in rnn.parameters():\n",
        "        p.data.add_(p.grad.data, alpha=-learning_rate)\n",
        "\n",
        "    return output, loss.item()"
      ],
      "metadata": {
        "id": "wpky-xt362Bj"
      },
      "execution_count": null,
      "outputs": []
    },
    {
      "cell_type": "code",
      "source": [
        "import time\n",
        "import math\n",
        "\n",
        "n_iters = 100000\n",
        "print_every = 5000\n",
        "plot_every = 1000\n",
        "\n",
        "\n",
        "\n",
        "# Keep track of losses for plotting\n",
        "current_loss = 0\n",
        "all_losses = []\n",
        "\n",
        "def timeSince(since):\n",
        "    now = time.time()\n",
        "    s = now - since\n",
        "    m = math.floor(s / 60)\n",
        "    s -= m * 60\n",
        "    return '%dm %ds' % (m, s)\n",
        "\n",
        "start = time.time()\n",
        "\n",
        "for iter in range(1, n_iters + 1):\n",
        "    category, line, category_tensor, line_tensor = randomTrainingExample()\n",
        "    output, loss = train(category_tensor, line_tensor)\n",
        "    current_loss += loss\n",
        "\n",
        "    # Print iter number, loss, name and guess\n",
        "    if iter % print_every == 0:\n",
        "        guess, guess_i = categoryFromOutput(output)\n",
        "        correct = '✓' if guess == category else '✗ (%s)' % category\n",
        "        print('%d %d%% (%s) %.4f %s / %s %s' % (iter, iter / n_iters * 100, timeSince(start), loss, line, guess, correct))\n",
        "\n",
        "    # Add current loss avg to list of losses\n",
        "    if iter % plot_every == 0:\n",
        "        all_losses.append(current_loss / plot_every)\n",
        "        current_loss = 0"
      ],
      "metadata": {
        "colab": {
          "base_uri": "https://localhost:8080/"
        },
        "id": "-qb0_ChO8fOF",
        "outputId": "c6f84205-941c-4a8f-887e-53e918d1ab1e"
      },
      "execution_count": null,
      "outputs": [
        {
          "output_type": "stream",
          "name": "stdout",
          "text": [
            "5000 5% (0m 5s) 3.0981 Jeffries / French ✗ (English)\n",
            "10000 10% (0m 10s) 2.4677 Gagne / Arabic ✗ (French)\n",
            "15000 15% (0m 15s) 1.1671 Huynh / Vietnamese ✓\n",
            "20000 20% (0m 20s) 1.6771 Dagher / Arabic ✓\n",
            "25000 25% (0m 24s) 1.9108 Belo / Spanish ✗ (Portuguese)\n",
            "30000 30% (0m 29s) 3.5934 Inoue / French ✗ (Japanese)\n",
            "35000 35% (0m 34s) 1.1779 Jiu / Korean ✗ (Chinese)\n",
            "40000 40% (0m 39s) 1.3668 Belrose / German ✗ (French)\n",
            "45000 45% (0m 44s) 0.2902 Fernandes / Portuguese ✓\n",
            "50000 50% (0m 49s) 0.9898 An / Vietnamese ✓\n",
            "55000 55% (0m 54s) 0.6206 Naifeh / Arabic ✓\n",
            "60000 60% (0m 59s) 1.0228 Faure / French ✓\n",
            "65000 65% (1m 4s) 0.3604 Chou / Korean ✓\n",
            "70000 70% (1m 9s) 1.0511 Tsahalis / Greek ✓\n",
            "75000 75% (1m 14s) 1.1378 Song / Chinese ✗ (Korean)\n",
            "80000 80% (1m 19s) 1.8682 Yount / German ✗ (French)\n",
            "85000 85% (1m 24s) 2.6440 Lanham / Irish ✗ (English)\n",
            "90000 90% (1m 29s) 0.0056 Bouloukos / Greek ✓\n",
            "95000 95% (1m 34s) 1.5244 Schultheiss / Dutch ✗ (German)\n",
            "100000 100% (1m 39s) 1.5971 Elmes / English ✓\n"
          ]
        }
      ]
    },
    {
      "cell_type": "code",
      "source": [
        "import matplotlib.pyplot as plt\n",
        "import matplotlib.ticker as ticker\n",
        "\n",
        "plt.figure()\n",
        "plt.plot(all_losses)"
      ],
      "metadata": {
        "colab": {
          "base_uri": "https://localhost:8080/",
          "height": 282
        },
        "id": "1xr4CTs99btW",
        "outputId": "0222c28a-feb7-44fa-f3c8-d06e1671ac55"
      },
      "execution_count": null,
      "outputs": [
        {
          "output_type": "execute_result",
          "data": {
            "text/plain": [
              "[<matplotlib.lines.Line2D at 0x7fe04c4b9690>]"
            ]
          },
          "metadata": {},
          "execution_count": 110
        },
        {
          "output_type": "display_data",
          "data": {
            "image/png": "[encoded data removed]",
            "text/plain": [
              "<Figure size 432x288 with 1 Axes>"
            ]
          },
          "metadata": {
            "needs_background": "light"
          }
        }
      ]
    }
  ]
}