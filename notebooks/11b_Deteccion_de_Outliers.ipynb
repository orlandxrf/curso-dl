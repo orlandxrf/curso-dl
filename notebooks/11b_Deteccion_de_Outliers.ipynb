{
  "nbformat": 4,
  "nbformat_minor": 0,
  "metadata": {
    "colab": {
      "name": "11b_Deteccion_de_Outliers.ipynb",
      "provenance": [],
      "collapsed_sections": [],
      "authorship_tag": "ABX9TyPtpoDkYqH5sJqbczpPgBD5",
      "include_colab_link": true
    },
    "kernelspec": {
      "name": "python3",
      "display_name": "Python 3"
    },
    "language_info": {
      "name": "python"
    },
    "widgets": {
      "application/vnd.jupyter.widget-state+json": {
        "fef5b0771f27424e963a7d9fc15da95e": {
          "model_module": "@jupyter-widgets/controls",
          "model_name": "HBoxModel",
          "model_module_version": "1.5.0",
          "state": {
            "_dom_classes": [],
            "_model_module": "@jupyter-widgets/controls",
            "_model_module_version": "1.5.0",
            "_model_name": "HBoxModel",
            "_view_count": null,
            "_view_module": "@jupyter-widgets/controls",
            "_view_module_version": "1.5.0",
            "_view_name": "HBoxView",
            "box_style": "",
            "children": [
              "IPY_MODEL_187f4da7c00e4f99851b87cebbc18ef3",
              "IPY_MODEL_1bc0a329e71642d5b9fe0226288e61a0",
              "IPY_MODEL_0128a90dc25e4bb2a424e4b2a2f99484"
            ],
            "layout": "IPY_MODEL_fd1c813a535749d0be9435d206f642fc"
          }
        },
        "187f4da7c00e4f99851b87cebbc18ef3": {
          "model_module": "@jupyter-widgets/controls",
          "model_name": "HTMLModel",
          "model_module_version": "1.5.0",
          "state": {
            "_dom_classes": [],
            "_model_module": "@jupyter-widgets/controls",
            "_model_module_version": "1.5.0",
            "_model_name": "HTMLModel",
            "_view_count": null,
            "_view_module": "@jupyter-widgets/controls",
            "_view_module_version": "1.5.0",
            "_view_name": "HTMLView",
            "description": "",
            "description_tooltip": null,
            "layout": "IPY_MODEL_ae6f43fc3f9b4aa090edef92a049e146",
            "placeholder": "​",
            "style": "IPY_MODEL_ec73df5e2a1c4ed6ae1bf31ad0759d10",
            "value": "100%"
          }
        },
        "1bc0a329e71642d5b9fe0226288e61a0": {
          "model_module": "@jupyter-widgets/controls",
          "model_name": "FloatProgressModel",
          "model_module_version": "1.5.0",
          "state": {
            "_dom_classes": [],
            "_model_module": "@jupyter-widgets/controls",
            "_model_module_version": "1.5.0",
            "_model_name": "FloatProgressModel",
            "_view_count": null,
            "_view_module": "@jupyter-widgets/controls",
            "_view_module_version": "1.5.0",
            "_view_name": "ProgressView",
            "bar_style": "success",
            "description": "",
            "description_tooltip": null,
            "layout": "IPY_MODEL_c8db7ebf636c4979907c4819b2f1fe6b",
            "max": 34886,
            "min": 0,
            "orientation": "horizontal",
            "style": "IPY_MODEL_1da148b1303f46af91320d3accafa9c2",
            "value": 34886
          }
        },
        "0128a90dc25e4bb2a424e4b2a2f99484": {
          "model_module": "@jupyter-widgets/controls",
          "model_name": "HTMLModel",
          "model_module_version": "1.5.0",
          "state": {
            "_dom_classes": [],
            "_model_module": "@jupyter-widgets/controls",
            "_model_module_version": "1.5.0",
            "_model_name": "HTMLModel",
            "_view_count": null,
            "_view_module": "@jupyter-widgets/controls",
            "_view_module_version": "1.5.0",
            "_view_name": "HTMLView",
            "description": "",
            "description_tooltip": null,
            "layout": "IPY_MODEL_10f5aab7ae7848f2a240a12c1a97956b",
            "placeholder": "​",
            "style": "IPY_MODEL_ecd0019a49f44f42801b25b3a56c1adc",
            "value": " 34886/34886 [05:14&lt;00:00, 63.76it/s]"
          }
        },
        "fd1c813a535749d0be9435d206f642fc": {
          "model_module": "@jupyter-widgets/base",
          "model_name": "LayoutModel",
          "model_module_version": "1.2.0",
          "state": {
            "_model_module": "@jupyter-widgets/base",
            "_model_module_version": "1.2.0",
            "_model_name": "LayoutModel",
            "_view_count": null,
            "_view_module": "@jupyter-widgets/base",
            "_view_module_version": "1.2.0",
            "_view_name": "LayoutView",
            "align_content": null,
            "align_items": null,
            "align_self": null,
            "border": null,
            "bottom": null,
            "display": null,
            "flex": null,
            "flex_flow": null,
            "grid_area": null,
            "grid_auto_columns": null,
            "grid_auto_flow": null,
            "grid_auto_rows": null,
            "grid_column": null,
            "grid_gap": null,
            "grid_row": null,
            "grid_template_areas": null,
            "grid_template_columns": null,
            "grid_template_rows": null,
            "height": null,
            "justify_content": null,
            "justify_items": null,
            "left": null,
            "margin": null,
            "max_height": null,
            "max_width": null,
            "min_height": null,
            "min_width": null,
            "object_fit": null,
            "object_position": null,
            "order": null,
            "overflow": null,
            "overflow_x": null,
            "overflow_y": null,
            "padding": null,
            "right": null,
            "top": null,
            "visibility": null,
            "width": null
          }
        },
        "ae6f43fc3f9b4aa090edef92a049e146": {
          "model_module": "@jupyter-widgets/base",
          "model_name": "LayoutModel",
          "model_module_version": "1.2.0",
          "state": {
            "_model_module": "@jupyter-widgets/base",
            "_model_module_version": "1.2.0",
            "_model_name": "LayoutModel",
            "_view_count": null,
            "_view_module": "@jupyter-widgets/base",
            "_view_module_version": "1.2.0",
            "_view_name": "LayoutView",
            "align_content": null,
            "align_items": null,
            "align_self": null,
            "border": null,
            "bottom": null,
            "display": null,
            "flex": null,
            "flex_flow": null,
            "grid_area": null,
            "grid_auto_columns": null,
            "grid_auto_flow": null,
            "grid_auto_rows": null,
            "grid_column": null,
            "grid_gap": null,
            "grid_row": null,
            "grid_template_areas": null,
            "grid_template_columns": null,
            "grid_template_rows": null,
            "height": null,
            "justify_content": null,
            "justify_items": null,
            "left": null,
            "margin": null,
            "max_height": null,
            "max_width": null,
            "min_height": null,
            "min_width": null,
            "object_fit": null,
            "object_position": null,
            "order": null,
            "overflow": null,
            "overflow_x": null,
            "overflow_y": null,
            "padding": null,
            "right": null,
            "top": null,
            "visibility": null,
            "width": null
          }
        },
        "ec73df5e2a1c4ed6ae1bf31ad0759d10": {
          "model_module": "@jupyter-widgets/controls",
          "model_name": "DescriptionStyleModel",
          "model_module_version": "1.5.0",
          "state": {
            "_model_module": "@jupyter-widgets/controls",
            "_model_module_version": "1.5.0",
            "_model_name": "DescriptionStyleModel",
            "_view_count": null,
            "_view_module": "@jupyter-widgets/base",
            "_view_module_version": "1.2.0",
            "_view_name": "StyleView",
            "description_width": ""
          }
        },
        "c8db7ebf636c4979907c4819b2f1fe6b": {
          "model_module": "@jupyter-widgets/base",
          "model_name": "LayoutModel",
          "model_module_version": "1.2.0",
          "state": {
            "_model_module": "@jupyter-widgets/base",
            "_model_module_version": "1.2.0",
            "_model_name": "LayoutModel",
            "_view_count": null,
            "_view_module": "@jupyter-widgets/base",
            "_view_module_version": "1.2.0",
            "_view_name": "LayoutView",
            "align_content": null,
            "align_items": null,
            "align_self": null,
            "border": null,
            "bottom": null,
            "display": null,
            "flex": null,
            "flex_flow": null,
            "grid_area": null,
            "grid_auto_columns": null,
            "grid_auto_flow": null,
            "grid_auto_rows": null,
            "grid_column": null,
            "grid_gap": null,
            "grid_row": null,
            "grid_template_areas": null,
            "grid_template_columns": null,
            "grid_template_rows": null,
            "height": null,
            "justify_content": null,
            "justify_items": null,
            "left": null,
            "margin": null,
            "max_height": null,
            "max_width": null,
            "min_height": null,
            "min_width": null,
            "object_fit": null,
            "object_position": null,
            "order": null,
            "overflow": null,
            "overflow_x": null,
            "overflow_y": null,
            "padding": null,
            "right": null,
            "top": null,
            "visibility": null,
            "width": null
          }
        },
        "1da148b1303f46af91320d3accafa9c2": {
          "model_module": "@jupyter-widgets/controls",
          "model_name": "ProgressStyleModel",
          "model_module_version": "1.5.0",
          "state": {
            "_model_module": "@jupyter-widgets/controls",
            "_model_module_version": "1.5.0",
            "_model_name": "ProgressStyleModel",
            "_view_count": null,
            "_view_module": "@jupyter-widgets/base",
            "_view_module_version": "1.2.0",
            "_view_name": "StyleView",
            "bar_color": null,
            "description_width": ""
          }
        },
        "10f5aab7ae7848f2a240a12c1a97956b": {
          "model_module": "@jupyter-widgets/base",
          "model_name": "LayoutModel",
          "model_module_version": "1.2.0",
          "state": {
            "_model_module": "@jupyter-widgets/base",
            "_model_module_version": "1.2.0",
            "_model_name": "LayoutModel",
            "_view_count": null,
            "_view_module": "@jupyter-widgets/base",
            "_view_module_version": "1.2.0",
            "_view_name": "LayoutView",
            "align_content": null,
            "align_items": null,
            "align_self": null,
            "border": null,
            "bottom": null,
            "display": null,
            "flex": null,
            "flex_flow": null,
            "grid_area": null,
            "grid_auto_columns": null,
            "grid_auto_flow": null,
            "grid_auto_rows": null,
            "grid_column": null,
            "grid_gap": null,
            "grid_row": null,
            "grid_template_areas": null,
            "grid_template_columns": null,
            "grid_template_rows": null,
            "height": null,
            "justify_content": null,
            "justify_items": null,
            "left": null,
            "margin": null,
            "max_height": null,
            "max_width": null,
            "min_height": null,
            "min_width": null,
            "object_fit": null,
            "object_position": null,
            "order": null,
            "overflow": null,
            "overflow_x": null,
            "overflow_y": null,
            "padding": null,
            "right": null,
            "top": null,
            "visibility": null,
            "width": null
          }
        },
        "ecd0019a49f44f42801b25b3a56c1adc": {
          "model_module": "@jupyter-widgets/controls",
          "model_name": "DescriptionStyleModel",
          "model_module_version": "1.5.0",
          "state": {
            "_model_module": "@jupyter-widgets/controls",
            "_model_module_version": "1.5.0",
            "_model_name": "DescriptionStyleModel",
            "_view_count": null,
            "_view_module": "@jupyter-widgets/base",
            "_view_module_version": "1.2.0",
            "_view_name": "StyleView",
            "description_width": ""
          }
        }
      }
    }
  },
  "cells": [
    {
      "cell_type": "markdown",
      "metadata": {
        "id": "view-in-github",
        "colab_type": "text"
      },
      "source": [
        "<a href=\"https://colab.research.google.com/github/orlandxrf/curso-dl/blob/main/notebooks/11b_Deteccion_de_Outliers.ipynb\" target=\"_parent\"><img src=\"https://colab.research.google.com/assets/colab-badge.svg\" alt=\"Open In Colab\"/></a>"
      ]
    },
    {
      "cell_type": "markdown",
      "source": [
        "# Detección de Outliers con Autoencoders\n",
        "\n",
        "Para la detección de valores atípicos se aplica una técnica basada en aprendizaje profundo no supervisado para datos de texto.\n",
        "\n",
        "Ejemplo tomado de [Github](https://github.com/avisheknag17/public_ml_models/blob/master/outlier_detection_in_movie_plots_ann/notebook/movie_plots_outlier_detector.ipynb)"
      ],
      "metadata": {
        "id": "ThT1NYMYns2S"
      }
    },
    {
      "cell_type": "markdown",
      "source": [
        "## Conjunto de datos\n",
        "\n",
        "El conjunto de datos usado es [Wikipedia Movie Plots](https://www.kaggle.com/datasets/jrobischon/wikipedia-movie-plots).\n",
        "\n",
        "El conjunto de datos contiene descripciones de 34.886 películas de todo el mundo."
      ],
      "metadata": {
        "id": "OG2SAaMCzLhs"
      }
    },
    {
      "cell_type": "code",
      "execution_count": null,
      "metadata": {
        "colab": {
          "base_uri": "https://localhost:8080/"
        },
        "id": "uakR_TiWnsLB",
        "outputId": "6928835c-d4e4-4976-e8e6-218b94554e04"
      },
      "outputs": [
        {
          "output_type": "stream",
          "name": "stdout",
          "text": [
            "--2022-04-26 03:05:07--  https://github.com/orlandxrf/curso-dl/blob/main/data/wiki_movie_plots_deduped.zip?raw=True\n",
            "Resolving github.com (github.com)... 140.82.112.3\n",
            "Connecting to github.com (github.com)|140.82.112.3|:443... connected.\n",
            "HTTP request sent, awaiting response... 302 Found\n",
            "Location: https://github.com/orlandxrf/curso-dl/raw/main/data/wiki_movie_plots_deduped.zip [following]\n",
            "--2022-04-26 03:05:08--  https://github.com/orlandxrf/curso-dl/raw/main/data/wiki_movie_plots_deduped.zip\n",
            "Reusing existing connection to github.com:443.\n",
            "HTTP request sent, awaiting response... 302 Found\n",
            "Location: https://raw.githubusercontent.com/orlandxrf/curso-dl/main/data/wiki_movie_plots_deduped.zip [following]\n",
            "--2022-04-26 03:05:08--  https://raw.githubusercontent.com/orlandxrf/curso-dl/main/data/wiki_movie_plots_deduped.zip\n",
            "Resolving raw.githubusercontent.com (raw.githubusercontent.com)... 185.199.108.133, 185.199.109.133, 185.199.110.133, ...\n",
            "Connecting to raw.githubusercontent.com (raw.githubusercontent.com)|185.199.108.133|:443... connected.\n",
            "HTTP request sent, awaiting response... 200 OK\n",
            "Length: 31376869 (30M) [application/zip]\n",
            "Saving to: ‘data/wiki_movie_plots_deduped.zip’\n",
            "\n",
            "data/wiki_movie_plo 100%[===================>]  29.92M   105MB/s    in 0.3s    \n",
            "\n",
            "2022-04-26 03:05:08 (105 MB/s) - ‘data/wiki_movie_plots_deduped.zip’ saved [31376869/31376869]\n",
            "\n"
          ]
        }
      ],
      "source": [
        "import os\n",
        "\n",
        "URL = 'https://github.com/orlandxrf/curso-dl/blob/main/data/wiki_movie_plots_deduped.zip?raw=True'\n",
        "data_folder = 'data'\n",
        "filepath = os.path.join(data_folder, 'wiki_movie_plots_deduped.zip')\n",
        "\n",
        "# crear carpeta para almacenar el conjunto de datos\n",
        "! mkdir {data_folder}\n",
        "# descargar conjunto de datos y alamcenar\n",
        "! wget -nc {URL} -O {filepath}"
      ]
    },
    {
      "cell_type": "code",
      "source": [
        "import pandas as pd\n",
        "\n",
        "df = pd.read_csv('data/wiki_movie_plots_deduped.zip', compression='zip', index_col=False, header=0)\n",
        "\n",
        "df.head(10)"
      ],
      "metadata": {
        "colab": {
          "base_uri": "https://localhost:8080/",
          "height": 363
        },
        "id": "gl8amStJ0wwu",
        "outputId": "324ca091-4991-4f97-afe2-80f78db08b7a"
      },
      "execution_count": null,
      "outputs": [
        {
          "output_type": "execute_result",
          "data": {
            "text/plain": [
              "   Release Year                             Title Origin/Ethnicity  \\\n",
              "0          1901            Kansas Saloon Smashers         American   \n",
              "1          1901     Love by the Light of the Moon         American   \n",
              "2          1901           The Martyred Presidents         American   \n",
              "3          1901  Terrible Teddy, the Grizzly King         American   \n",
              "4          1902            Jack and the Beanstalk         American   \n",
              "5          1903               Alice in Wonderland         American   \n",
              "6          1903           The Great Train Robbery         American   \n",
              "7          1904                   The Suburbanite         American   \n",
              "8          1905          The Little Train Robbery         American   \n",
              "9          1905        The Night Before Christmas         American   \n",
              "\n",
              "                             Director       Cast    Genre  \\\n",
              "0                             Unknown        NaN  unknown   \n",
              "1                             Unknown        NaN  unknown   \n",
              "2                             Unknown        NaN  unknown   \n",
              "3                             Unknown        NaN  unknown   \n",
              "4  George S. Fleming, Edwin S. Porter        NaN  unknown   \n",
              "5                      Cecil Hepworth  May Clark  unknown   \n",
              "6                     Edwin S. Porter        NaN  western   \n",
              "7                  Wallace McCutcheon        NaN   comedy   \n",
              "8                Edwin Stanton Porter        NaN  unknown   \n",
              "9                Edwin Stanton Porter        NaN  unknown   \n",
              "\n",
              "                                           Wiki Page  \\\n",
              "0  https://en.wikipedia.org/wiki/Kansas_Saloon_Sm...   \n",
              "1  https://en.wikipedia.org/wiki/Love_by_the_Ligh...   \n",
              "2  https://en.wikipedia.org/wiki/The_Martyred_Pre...   \n",
              "3  https://en.wikipedia.org/wiki/Terrible_Teddy,_...   \n",
              "4  https://en.wikipedia.org/wiki/Jack_and_the_Bea...   \n",
              "5  https://en.wikipedia.org/wiki/Alice_in_Wonderl...   \n",
              "6  https://en.wikipedia.org/wiki/The_Great_Train_...   \n",
              "7      https://en.wikipedia.org/wiki/The_Suburbanite   \n",
              "8  https://en.wikipedia.org/wiki/The_Little_Train...   \n",
              "9  https://en.wikipedia.org/wiki/The_Night_Before...   \n",
              "\n",
              "                                                Plot  \n",
              "0  A bartender is working at a saloon, serving dr...  \n",
              "1  The moon, painted with a smiling face hangs ov...  \n",
              "2  The film, just over a minute long, is composed...  \n",
              "3  Lasting just 61 seconds and consisting of two ...  \n",
              "4  The earliest known adaptation of the classic f...  \n",
              "5  Alice follows a large white rabbit down a \"Rab...  \n",
              "6  The film opens with two bandits breaking into ...  \n",
              "7  The film is about a family who move to the sub...  \n",
              "8  The opening scene shows the interior of the ro...  \n",
              "9  Scenes are introduced using lines of the poem....  "
            ],
            "text/html": [
              "\n",
              "  <div id=\"df-5fdfc3fb-fbbf-4775-80f7-69baccea4d54\">\n",
              "    <div class=\"colab-df-container\">\n",
              "      <div>\n",
              "<style scoped>\n",
              "    .dataframe tbody tr th:only-of-type {\n",
              "        vertical-align: middle;\n",
              "    }\n",
              "\n",
              "    .dataframe tbody tr th {\n",
              "        vertical-align: top;\n",
              "    }\n",
              "\n",
              "    .dataframe thead th {\n",
              "        text-align: right;\n",
              "    }\n",
              "</style>\n",
              "<table border=\"1\" class=\"dataframe\">\n",
              "  <thead>\n",
              "    <tr style=\"text-align: right;\">\n",
              "      <th></th>\n",
              "      <th>Release Year</th>\n",
              "      <th>Title</th>\n",
              "      <th>Origin/Ethnicity</th>\n",
              "      <th>Director</th>\n",
              "      <th>Cast</th>\n",
              "      <th>Genre</th>\n",
              "      <th>Wiki Page</th>\n",
              "      <th>Plot</th>\n",
              "    </tr>\n",
              "  </thead>\n",
              "  <tbody>\n",
              "    <tr>\n",
              "      <th>0</th>\n",
              "      <td>1901</td>\n",
              "      <td>Kansas Saloon Smashers</td>\n",
              "      <td>American</td>\n",
              "      <td>Unknown</td>\n",
              "      <td>NaN</td>\n",
              "      <td>unknown</td>\n",
              "      <td>https://en.wikipedia.org/wiki/Kansas_Saloon_Sm...</td>\n",
              "      <td>A bartender is working at a saloon, serving dr...</td>\n",
              "    </tr>\n",
              "    <tr>\n",
              "      <th>1</th>\n",
              "      <td>1901</td>\n",
              "      <td>Love by the Light of the Moon</td>\n",
              "      <td>American</td>\n",
              "      <td>Unknown</td>\n",
              "      <td>NaN</td>\n",
              "      <td>unknown</td>\n",
              "      <td>https://en.wikipedia.org/wiki/Love_by_the_Ligh...</td>\n",
              "      <td>The moon, painted with a smiling face hangs ov...</td>\n",
              "    </tr>\n",
              "    <tr>\n",
              "      <th>2</th>\n",
              "      <td>1901</td>\n",
              "      <td>The Martyred Presidents</td>\n",
              "      <td>American</td>\n",
              "      <td>Unknown</td>\n",
              "      <td>NaN</td>\n",
              "      <td>unknown</td>\n",
              "      <td>https://en.wikipedia.org/wiki/The_Martyred_Pre...</td>\n",
              "      <td>The film, just over a minute long, is composed...</td>\n",
              "    </tr>\n",
              "    <tr>\n",
              "      <th>3</th>\n",
              "      <td>1901</td>\n",
              "      <td>Terrible Teddy, the Grizzly King</td>\n",
              "      <td>American</td>\n",
              "      <td>Unknown</td>\n",
              "      <td>NaN</td>\n",
              "      <td>unknown</td>\n",
              "      <td>https://en.wikipedia.org/wiki/Terrible_Teddy,_...</td>\n",
              "      <td>Lasting just 61 seconds and consisting of two ...</td>\n",
              "    </tr>\n",
              "    <tr>\n",
              "      <th>4</th>\n",
              "      <td>1902</td>\n",
              "      <td>Jack and the Beanstalk</td>\n",
              "      <td>American</td>\n",
              "      <td>George S. Fleming, Edwin S. Porter</td>\n",
              "      <td>NaN</td>\n",
              "      <td>unknown</td>\n",
              "      <td>https://en.wikipedia.org/wiki/Jack_and_the_Bea...</td>\n",
              "      <td>The earliest known adaptation of the classic f...</td>\n",
              "    </tr>\n",
              "    <tr>\n",
              "      <th>5</th>\n",
              "      <td>1903</td>\n",
              "      <td>Alice in Wonderland</td>\n",
              "      <td>American</td>\n",
              "      <td>Cecil Hepworth</td>\n",
              "      <td>May Clark</td>\n",
              "      <td>unknown</td>\n",
              "      <td>https://en.wikipedia.org/wiki/Alice_in_Wonderl...</td>\n",
              "      <td>Alice follows a large white rabbit down a \"Rab...</td>\n",
              "    </tr>\n",
              "    <tr>\n",
              "      <th>6</th>\n",
              "      <td>1903</td>\n",
              "      <td>The Great Train Robbery</td>\n",
              "      <td>American</td>\n",
              "      <td>Edwin S. Porter</td>\n",
              "      <td>NaN</td>\n",
              "      <td>western</td>\n",
              "      <td>https://en.wikipedia.org/wiki/The_Great_Train_...</td>\n",
              "      <td>The film opens with two bandits breaking into ...</td>\n",
              "    </tr>\n",
              "    <tr>\n",
              "      <th>7</th>\n",
              "      <td>1904</td>\n",
              "      <td>The Suburbanite</td>\n",
              "      <td>American</td>\n",
              "      <td>Wallace McCutcheon</td>\n",
              "      <td>NaN</td>\n",
              "      <td>comedy</td>\n",
              "      <td>https://en.wikipedia.org/wiki/The_Suburbanite</td>\n",
              "      <td>The film is about a family who move to the sub...</td>\n",
              "    </tr>\n",
              "    <tr>\n",
              "      <th>8</th>\n",
              "      <td>1905</td>\n",
              "      <td>The Little Train Robbery</td>\n",
              "      <td>American</td>\n",
              "      <td>Edwin Stanton Porter</td>\n",
              "      <td>NaN</td>\n",
              "      <td>unknown</td>\n",
              "      <td>https://en.wikipedia.org/wiki/The_Little_Train...</td>\n",
              "      <td>The opening scene shows the interior of the ro...</td>\n",
              "    </tr>\n",
              "    <tr>\n",
              "      <th>9</th>\n",
              "      <td>1905</td>\n",
              "      <td>The Night Before Christmas</td>\n",
              "      <td>American</td>\n",
              "      <td>Edwin Stanton Porter</td>\n",
              "      <td>NaN</td>\n",
              "      <td>unknown</td>\n",
              "      <td>https://en.wikipedia.org/wiki/The_Night_Before...</td>\n",
              "      <td>Scenes are introduced using lines of the poem....</td>\n",
              "    </tr>\n",
              "  </tbody>\n",
              "</table>\n",
              "</div>\n",
              "      <button class=\"colab-df-convert\" onclick=\"convertToInteractive('df-5fdfc3fb-fbbf-4775-80f7-69baccea4d54')\"\n",
              "              title=\"Convert this dataframe to an interactive table.\"\n",
              "              style=\"display:none;\">\n",
              "        \n",
              "  <svg xmlns=\"http://www.w3.org/2000/svg\" height=\"24px\"viewBox=\"0 0 24 24\"\n",
              "       width=\"24px\">\n",
              "    <path d=\"M0 0h24v24H0V0z\" fill=\"none\"/>\n",
              "    <path d=\"M18.56 5.44l.94 2.06.94-2.06 2.06-.94-2.06-.94-.94-2.06-.94 2.06-2.06.94zm-11 1L8.5 8.5l.94-2.06 2.06-.94-2.06-.94L8.5 2.5l-.94 2.06-2.06.94zm10 10l.94 2.06.94-2.06 2.06-.94-2.06-.94-.94-2.06-.94 2.06-2.06.94z\"/><path d=\"M17.41 7.96l-1.37-1.37c-.4-.4-.92-.59-1.43-.59-.52 0-1.04.2-1.43.59L10.3 9.45l-7.72 7.72c-.78.78-.78 2.05 0 2.83L4 21.41c.39.39.9.59 1.41.59.51 0 1.02-.2 1.41-.59l7.78-7.78 2.81-2.81c.8-.78.8-2.07 0-2.86zM5.41 20L4 18.59l7.72-7.72 1.47 1.35L5.41 20z\"/>\n",
              "  </svg>\n",
              "      </button>\n",
              "      \n",
              "  <style>\n",
              "    .colab-df-container {\n",
              "      display:flex;\n",
              "      flex-wrap:wrap;\n",
              "      gap: 12px;\n",
              "    }\n",
              "\n",
              "    .colab-df-convert {\n",
              "      background-color: #E8F0FE;\n",
              "      border: none;\n",
              "      border-radius: 50%;\n",
              "      cursor: pointer;\n",
              "      display: none;\n",
              "      fill: #1967D2;\n",
              "      height: 32px;\n",
              "      padding: 0 0 0 0;\n",
              "      width: 32px;\n",
              "    }\n",
              "\n",
              "    .colab-df-convert:hover {\n",
              "      background-color: #E2EBFA;\n",
              "      box-shadow: 0px 1px 2px rgba(60, 64, 67, 0.3), 0px 1px 3px 1px rgba(60, 64, 67, 0.15);\n",
              "      fill: #174EA6;\n",
              "    }\n",
              "\n",
              "    [theme=dark] .colab-df-convert {\n",
              "      background-color: #3B4455;\n",
              "      fill: #D2E3FC;\n",
              "    }\n",
              "\n",
              "    [theme=dark] .colab-df-convert:hover {\n",
              "      background-color: #434B5C;\n",
              "      box-shadow: 0px 1px 3px 1px rgba(0, 0, 0, 0.15);\n",
              "      filter: drop-shadow(0px 1px 2px rgba(0, 0, 0, 0.3));\n",
              "      fill: #FFFFFF;\n",
              "    }\n",
              "  </style>\n",
              "\n",
              "      <script>\n",
              "        const buttonEl =\n",
              "          document.querySelector('#df-5fdfc3fb-fbbf-4775-80f7-69baccea4d54 button.colab-df-convert');\n",
              "        buttonEl.style.display =\n",
              "          google.colab.kernel.accessAllowed ? 'block' : 'none';\n",
              "\n",
              "        async function convertToInteractive(key) {\n",
              "          const element = document.querySelector('#df-5fdfc3fb-fbbf-4775-80f7-69baccea4d54');\n",
              "          const dataTable =\n",
              "            await google.colab.kernel.invokeFunction('convertToInteractive',\n",
              "                                                     [key], {});\n",
              "          if (!dataTable) return;\n",
              "\n",
              "          const docLinkHtml = 'Like what you see? Visit the ' +\n",
              "            '<a target=\"_blank\" href=https://colab.research.google.com/notebooks/data_table.ipynb>data table notebook</a>'\n",
              "            + ' to learn more about interactive tables.';\n",
              "          element.innerHTML = '';\n",
              "          dataTable['output_type'] = 'display_data';\n",
              "          await google.colab.output.renderOutput(dataTable, element);\n",
              "          const docLink = document.createElement('div');\n",
              "          docLink.innerHTML = docLinkHtml;\n",
              "          element.appendChild(docLink);\n",
              "        }\n",
              "      </script>\n",
              "    </div>\n",
              "  </div>\n",
              "  "
            ]
          },
          "metadata": {},
          "execution_count": 8
        }
      ]
    },
    {
      "cell_type": "code",
      "source": [
        "print (f\"\\nLongitud del dataset: {len(df):,}\")"
      ],
      "metadata": {
        "colab": {
          "base_uri": "https://localhost:8080/"
        },
        "id": "tvWUVClv1RRl",
        "outputId": "d143d047-cc3a-4716-c1d7-200eeed707b0"
      },
      "execution_count": null,
      "outputs": [
        {
          "output_type": "stream",
          "name": "stdout",
          "text": [
            "\n",
            "Longitud del dataset: 34,886\n"
          ]
        }
      ]
    },
    {
      "cell_type": "markdown",
      "source": [
        "Seleccionar solo la trama para la detección de outliers, y el título solo como identificador"
      ],
      "metadata": {
        "id": "mhR8lmwI187J"
      }
    },
    {
      "cell_type": "code",
      "source": [
        "title_plot_df = df[['Title','Plot']]\n",
        "title_plot_df.head(10)"
      ],
      "metadata": {
        "colab": {
          "base_uri": "https://localhost:8080/",
          "height": 363
        },
        "id": "RIAl-Iki2J7d",
        "outputId": "40d3ca32-4b55-44cd-b86a-6347b6090f0f"
      },
      "execution_count": null,
      "outputs": [
        {
          "output_type": "execute_result",
          "data": {
            "text/plain": [
              "                              Title  \\\n",
              "0            Kansas Saloon Smashers   \n",
              "1     Love by the Light of the Moon   \n",
              "2           The Martyred Presidents   \n",
              "3  Terrible Teddy, the Grizzly King   \n",
              "4            Jack and the Beanstalk   \n",
              "5               Alice in Wonderland   \n",
              "6           The Great Train Robbery   \n",
              "7                   The Suburbanite   \n",
              "8          The Little Train Robbery   \n",
              "9        The Night Before Christmas   \n",
              "\n",
              "                                                Plot  \n",
              "0  A bartender is working at a saloon, serving dr...  \n",
              "1  The moon, painted with a smiling face hangs ov...  \n",
              "2  The film, just over a minute long, is composed...  \n",
              "3  Lasting just 61 seconds and consisting of two ...  \n",
              "4  The earliest known adaptation of the classic f...  \n",
              "5  Alice follows a large white rabbit down a \"Rab...  \n",
              "6  The film opens with two bandits breaking into ...  \n",
              "7  The film is about a family who move to the sub...  \n",
              "8  The opening scene shows the interior of the ro...  \n",
              "9  Scenes are introduced using lines of the poem....  "
            ],
            "text/html": [
              "\n",
              "  <div id=\"df-eb057e43-341e-4375-b49d-52c19638b3ac\">\n",
              "    <div class=\"colab-df-container\">\n",
              "      <div>\n",
              "<style scoped>\n",
              "    .dataframe tbody tr th:only-of-type {\n",
              "        vertical-align: middle;\n",
              "    }\n",
              "\n",
              "    .dataframe tbody tr th {\n",
              "        vertical-align: top;\n",
              "    }\n",
              "\n",
              "    .dataframe thead th {\n",
              "        text-align: right;\n",
              "    }\n",
              "</style>\n",
              "<table border=\"1\" class=\"dataframe\">\n",
              "  <thead>\n",
              "    <tr style=\"text-align: right;\">\n",
              "      <th></th>\n",
              "      <th>Title</th>\n",
              "      <th>Plot</th>\n",
              "    </tr>\n",
              "  </thead>\n",
              "  <tbody>\n",
              "    <tr>\n",
              "      <th>0</th>\n",
              "      <td>Kansas Saloon Smashers</td>\n",
              "      <td>A bartender is working at a saloon, serving dr...</td>\n",
              "    </tr>\n",
              "    <tr>\n",
              "      <th>1</th>\n",
              "      <td>Love by the Light of the Moon</td>\n",
              "      <td>The moon, painted with a smiling face hangs ov...</td>\n",
              "    </tr>\n",
              "    <tr>\n",
              "      <th>2</th>\n",
              "      <td>The Martyred Presidents</td>\n",
              "      <td>The film, just over a minute long, is composed...</td>\n",
              "    </tr>\n",
              "    <tr>\n",
              "      <th>3</th>\n",
              "      <td>Terrible Teddy, the Grizzly King</td>\n",
              "      <td>Lasting just 61 seconds and consisting of two ...</td>\n",
              "    </tr>\n",
              "    <tr>\n",
              "      <th>4</th>\n",
              "      <td>Jack and the Beanstalk</td>\n",
              "      <td>The earliest known adaptation of the classic f...</td>\n",
              "    </tr>\n",
              "    <tr>\n",
              "      <th>5</th>\n",
              "      <td>Alice in Wonderland</td>\n",
              "      <td>Alice follows a large white rabbit down a \"Rab...</td>\n",
              "    </tr>\n",
              "    <tr>\n",
              "      <th>6</th>\n",
              "      <td>The Great Train Robbery</td>\n",
              "      <td>The film opens with two bandits breaking into ...</td>\n",
              "    </tr>\n",
              "    <tr>\n",
              "      <th>7</th>\n",
              "      <td>The Suburbanite</td>\n",
              "      <td>The film is about a family who move to the sub...</td>\n",
              "    </tr>\n",
              "    <tr>\n",
              "      <th>8</th>\n",
              "      <td>The Little Train Robbery</td>\n",
              "      <td>The opening scene shows the interior of the ro...</td>\n",
              "    </tr>\n",
              "    <tr>\n",
              "      <th>9</th>\n",
              "      <td>The Night Before Christmas</td>\n",
              "      <td>Scenes are introduced using lines of the poem....</td>\n",
              "    </tr>\n",
              "  </tbody>\n",
              "</table>\n",
              "</div>\n",
              "      <button class=\"colab-df-convert\" onclick=\"convertToInteractive('df-eb057e43-341e-4375-b49d-52c19638b3ac')\"\n",
              "              title=\"Convert this dataframe to an interactive table.\"\n",
              "              style=\"display:none;\">\n",
              "        \n",
              "  <svg xmlns=\"http://www.w3.org/2000/svg\" height=\"24px\"viewBox=\"0 0 24 24\"\n",
              "       width=\"24px\">\n",
              "    <path d=\"M0 0h24v24H0V0z\" fill=\"none\"/>\n",
              "    <path d=\"M18.56 5.44l.94 2.06.94-2.06 2.06-.94-2.06-.94-.94-2.06-.94 2.06-2.06.94zm-11 1L8.5 8.5l.94-2.06 2.06-.94-2.06-.94L8.5 2.5l-.94 2.06-2.06.94zm10 10l.94 2.06.94-2.06 2.06-.94-2.06-.94-.94-2.06-.94 2.06-2.06.94z\"/><path d=\"M17.41 7.96l-1.37-1.37c-.4-.4-.92-.59-1.43-.59-.52 0-1.04.2-1.43.59L10.3 9.45l-7.72 7.72c-.78.78-.78 2.05 0 2.83L4 21.41c.39.39.9.59 1.41.59.51 0 1.02-.2 1.41-.59l7.78-7.78 2.81-2.81c.8-.78.8-2.07 0-2.86zM5.41 20L4 18.59l7.72-7.72 1.47 1.35L5.41 20z\"/>\n",
              "  </svg>\n",
              "      </button>\n",
              "      \n",
              "  <style>\n",
              "    .colab-df-container {\n",
              "      display:flex;\n",
              "      flex-wrap:wrap;\n",
              "      gap: 12px;\n",
              "    }\n",
              "\n",
              "    .colab-df-convert {\n",
              "      background-color: #E8F0FE;\n",
              "      border: none;\n",
              "      border-radius: 50%;\n",
              "      cursor: pointer;\n",
              "      display: none;\n",
              "      fill: #1967D2;\n",
              "      height: 32px;\n",
              "      padding: 0 0 0 0;\n",
              "      width: 32px;\n",
              "    }\n",
              "\n",
              "    .colab-df-convert:hover {\n",
              "      background-color: #E2EBFA;\n",
              "      box-shadow: 0px 1px 2px rgba(60, 64, 67, 0.3), 0px 1px 3px 1px rgba(60, 64, 67, 0.15);\n",
              "      fill: #174EA6;\n",
              "    }\n",
              "\n",
              "    [theme=dark] .colab-df-convert {\n",
              "      background-color: #3B4455;\n",
              "      fill: #D2E3FC;\n",
              "    }\n",
              "\n",
              "    [theme=dark] .colab-df-convert:hover {\n",
              "      background-color: #434B5C;\n",
              "      box-shadow: 0px 1px 3px 1px rgba(0, 0, 0, 0.15);\n",
              "      filter: drop-shadow(0px 1px 2px rgba(0, 0, 0, 0.3));\n",
              "      fill: #FFFFFF;\n",
              "    }\n",
              "  </style>\n",
              "\n",
              "      <script>\n",
              "        const buttonEl =\n",
              "          document.querySelector('#df-eb057e43-341e-4375-b49d-52c19638b3ac button.colab-df-convert');\n",
              "        buttonEl.style.display =\n",
              "          google.colab.kernel.accessAllowed ? 'block' : 'none';\n",
              "\n",
              "        async function convertToInteractive(key) {\n",
              "          const element = document.querySelector('#df-eb057e43-341e-4375-b49d-52c19638b3ac');\n",
              "          const dataTable =\n",
              "            await google.colab.kernel.invokeFunction('convertToInteractive',\n",
              "                                                     [key], {});\n",
              "          if (!dataTable) return;\n",
              "\n",
              "          const docLinkHtml = 'Like what you see? Visit the ' +\n",
              "            '<a target=\"_blank\" href=https://colab.research.google.com/notebooks/data_table.ipynb>data table notebook</a>'\n",
              "            + ' to learn more about interactive tables.';\n",
              "          element.innerHTML = '';\n",
              "          dataTable['output_type'] = 'display_data';\n",
              "          await google.colab.output.renderOutput(dataTable, element);\n",
              "          const docLink = document.createElement('div');\n",
              "          docLink.innerHTML = docLinkHtml;\n",
              "          element.appendChild(docLink);\n",
              "        }\n",
              "      </script>\n",
              "    </div>\n",
              "  </div>\n",
              "  "
            ]
          },
          "metadata": {},
          "execution_count": 11
        }
      ]
    },
    {
      "cell_type": "code",
      "source": [
        "# como luce una trama\n",
        "title_plot_df.iloc[0,0] # título"
      ],
      "metadata": {
        "colab": {
          "base_uri": "https://localhost:8080/",
          "height": 35
        },
        "id": "C10NILGK2krR",
        "outputId": "6e0d8919-c9ff-4569-c1b0-76864b3eafe7"
      },
      "execution_count": null,
      "outputs": [
        {
          "output_type": "execute_result",
          "data": {
            "text/plain": [
              "'Kansas Saloon Smashers'"
            ],
            "application/vnd.google.colaboratory.intrinsic+json": {
              "type": "string"
            }
          },
          "metadata": {},
          "execution_count": 16
        }
      ]
    },
    {
      "cell_type": "code",
      "source": [
        "title_plot_df.iloc[0,1] # trama"
      ],
      "metadata": {
        "colab": {
          "base_uri": "https://localhost:8080/",
          "height": 70
        },
        "id": "oZok7Qo224MO",
        "outputId": "6b1634e6-c965-4d7f-8bef-b765ecfa3bf6"
      },
      "execution_count": null,
      "outputs": [
        {
          "output_type": "execute_result",
          "data": {
            "text/plain": [
              "\"A bartender is working at a saloon, serving drinks to customers. After he fills a stereotypically Irish man's bucket with beer, Carrie Nation and her followers burst inside. They assault the Irish man, pulling his hat over his eyes and then dumping the beer over his head. The group then begin wrecking the bar, smashing the fixtures, mirrors, and breaking the cash register. The bartender then sprays seltzer water in Nation's face before a group of policemen appear and order everybody to leave.[1]\""
            ],
            "application/vnd.google.colaboratory.intrinsic+json": {
              "type": "string"
            }
          },
          "metadata": {},
          "execution_count": 17
        }
      ]
    },
    {
      "cell_type": "markdown",
      "source": [
        "### Limpiar el dataset\n",
        "\n",
        "1.  Eliminación de etiquetas (como `<html>`, `<p>`)\n",
        "2.  Eliminación de signos de puntuación (como ',','.','!', etc.)\n",
        "3.  Eliminación de múltiples espacios en blanco entre textos\n",
        "4.  Eliminación de números\n",
        "5.  Eliminación de palabras vacías (como 'at', 'to', 'the', 'and', etc.)\n",
        "6.  Eliminación de palabras muy cortas\n",
        "7.  Stemming, es decir, convertir palabras a su forma raíz (como para 'playing', 'played' solo habrá un token después del procesamiento: 'play', que es la palabra raíz)"
      ],
      "metadata": {
        "id": "ac_0MIo23Dln"
      }
    },
    {
      "cell_type": "code",
      "source": [
        "from gensim import utils\n",
        "import gensim.parsing.preprocessing as gsp\n",
        "\n",
        "filters = [\n",
        "           gsp.strip_tags, \n",
        "           gsp.strip_punctuation,\n",
        "           gsp.strip_multiple_whitespaces,\n",
        "           gsp.strip_numeric,\n",
        "           gsp.remove_stopwords, \n",
        "           gsp.strip_short, \n",
        "           gsp.stem_text\n",
        "          ]\n",
        "\n",
        "def clean_text(s):\n",
        "    s = s.lower()\n",
        "    s = utils.to_unicode(s)\n",
        "    for f in filters:\n",
        "        s = f(s)\n",
        "    return s"
      ],
      "metadata": {
        "id": "xcGIexWe4JoD"
      },
      "execution_count": null,
      "outputs": []
    },
    {
      "cell_type": "markdown",
      "source": [
        "Como se vera el texto (trama) después de la limpieza"
      ],
      "metadata": {
        "id": "1H-g1M9x4Vbo"
      }
    },
    {
      "cell_type": "code",
      "source": [
        "clean_text(title_plot_df.iloc[0,1])"
      ],
      "metadata": {
        "colab": {
          "base_uri": "https://localhost:8080/",
          "height": 53
        },
        "id": "JKJGN6ra4Z7F",
        "outputId": "59703b6c-4174-414a-e8d5-ade2400b06a4"
      },
      "execution_count": null,
      "outputs": [
        {
          "output_type": "execute_result",
          "data": {
            "text/plain": [
              "'bartend work saloon serv drink custom fill stereotyp irish man bucket beer carri nation follow burst insid assault irish man pull hat ey dump beer head group begin wreck bar smash fixtur mirror break cash regist bartend sprai seltzer water nation face group policemen appear order everybodi leav'"
            ],
            "application/vnd.google.colaboratory.intrinsic+json": {
              "type": "string"
            }
          },
          "metadata": {},
          "execution_count": 19
        }
      ]
    },
    {
      "cell_type": "markdown",
      "source": [
        "Aunque el texto que se acaba de limpiar ya no es gramaticalmente correcto, aún mantiene el contexto que es esencial para el procesamiento posterior."
      ],
      "metadata": {
        "id": "qm14kPNP4_1D"
      }
    },
    {
      "cell_type": "code",
      "source": [
        "# limpiar todo el conjunto de tramas\n",
        "title_plot_df['Plot'] = title_plot_df['Plot'].map(lambda x: clean_text(x))"
      ],
      "metadata": {
        "colab": {
          "base_uri": "https://localhost:8080/"
        },
        "id": "Ea1fv3tz5UQu",
        "outputId": "b169209f-2d00-406a-98b7-0aa8f4f2f599"
      },
      "execution_count": null,
      "outputs": [
        {
          "output_type": "stream",
          "name": "stderr",
          "text": [
            "/usr/local/lib/python3.7/dist-packages/ipykernel_launcher.py:2: SettingWithCopyWarning: \n",
            "A value is trying to be set on a copy of a slice from a DataFrame.\n",
            "Try using .loc[row_indexer,col_indexer] = value instead\n",
            "\n",
            "See the caveats in the documentation: https://pandas.pydata.org/pandas-docs/stable/user_guide/indexing.html#returning-a-view-versus-a-copy\n",
            "  \n"
          ]
        }
      ]
    },
    {
      "cell_type": "markdown",
      "source": [
        "### Análisis exploratorio de datos (EDA: Exploratory Data Analysis)\n",
        "\n",
        "Para la exploración de datos, buscar las 50 palabras/tokens más frecuentes presentes en las tramas."
      ],
      "metadata": {
        "id": "tcwZV-F25tan"
      }
    },
    {
      "cell_type": "code",
      "source": [
        "from collections import Counter\n",
        "from tqdm.notebook import tqdm\n",
        "\n",
        "aggregate_counter = Counter()\n",
        "for row_index,row in tqdm(title_plot_df.iterrows(), total=len(title_plot_df)):\n",
        "    c = Counter(row['Plot'].split())\n",
        "    aggregate_counter += c\n",
        "\n",
        "common_words = [word[0] for word in aggregate_counter.most_common(50)]\n",
        "common_words_counts = [word[1] for word in aggregate_counter.most_common(50)]"
      ],
      "metadata": {
        "colab": {
          "base_uri": "https://localhost:8080/",
          "height": 49,
          "referenced_widgets": [
            "fef5b0771f27424e963a7d9fc15da95e",
            "187f4da7c00e4f99851b87cebbc18ef3",
            "1bc0a329e71642d5b9fe0226288e61a0",
            "0128a90dc25e4bb2a424e4b2a2f99484",
            "fd1c813a535749d0be9435d206f642fc",
            "ae6f43fc3f9b4aa090edef92a049e146",
            "ec73df5e2a1c4ed6ae1bf31ad0759d10",
            "c8db7ebf636c4979907c4819b2f1fe6b",
            "1da148b1303f46af91320d3accafa9c2",
            "10f5aab7ae7848f2a240a12c1a97956b",
            "ecd0019a49f44f42801b25b3a56c1adc"
          ]
        },
        "id": "pQLcBYe35UR2",
        "outputId": "57748e4e-7395-4f1f-af91-b8ba65a6b71c"
      },
      "execution_count": null,
      "outputs": [
        {
          "output_type": "display_data",
          "data": {
            "text/plain": [
              "  0%|          | 0/34886 [00:00<?, ?it/s]"
            ],
            "application/vnd.jupyter.widget-view+json": {
              "version_major": 2,
              "version_minor": 0,
              "model_id": "fef5b0771f27424e963a7d9fc15da95e"
            }
          },
          "metadata": {}
        }
      ]
    },
    {
      "cell_type": "code",
      "source": [
        "# definir función para graficar las palabras encontradas\n",
        "import matplotlib.pyplot as plt\n",
        "import seaborn as sns\n",
        "\n",
        "def barplot(words, words_counts, title):\n",
        "    fig = plt.figure(figsize=(18,6))\n",
        "    bar_plot = sns.barplot(x=words, y=words_counts)\n",
        "    for item in bar_plot.get_xticklabels():\n",
        "        item.set_rotation(90)\n",
        "    plt.title(title)\n",
        "    plt.show()"
      ],
      "metadata": {
        "id": "xu62bixE6OjH"
      },
      "execution_count": null,
      "outputs": []
    },
    {
      "cell_type": "code",
      "source": [
        "# graficar las palabras\n",
        "barplot(words=common_words, words_counts=common_words_counts, title='Palabras más frecuentes utilizadas en tramas de películas')"
      ],
      "metadata": {
        "colab": {
          "base_uri": "https://localhost:8080/",
          "height": 426
        },
        "id": "Ap__ALcz6YQf",
        "outputId": "34588e62-8801-41d4-bd0c-947d58dc2963"
      },
      "execution_count": null,
      "outputs": [
        {
          "output_type": "display_data",
          "data": {
            "text/plain": [
              "<Figure size 1296x432 with 1 Axes>"
            ],
            "image/png": "[encoded data removed]"
          },
          "metadata": {
            "needs_background": "light"
          }
        }
      ]
    },
    {
      "cell_type": "markdown",
      "source": [
        ""
      ],
      "metadata": {
        "id": "mIO8qtwA8fj4"
      }
    },
    {
      "cell_type": "markdown",
      "source": [
        "Ahora, hacer lo contrario, buscar las 50 palabras/tokens menos frecuentes en todas las películas y graficar."
      ],
      "metadata": {
        "id": "iHFYSfUM8flQ"
      }
    },
    {
      "cell_type": "code",
      "source": [
        "from itertools import islice\n",
        "\n",
        "def key_word_counter(tupple):\n",
        "    return tupple[1]\n",
        "\n",
        "all_word_counts = sorted(aggregate_counter.items(), key=key_word_counter)\n",
        "uncommon_words = [word[0] for word in islice(all_word_counts, 50)]\n",
        "uncommon_word_counts = [word[1] for word in islice(all_word_counts, 50)] "
      ],
      "metadata": {
        "id": "2s6MRyIc8omC"
      },
      "execution_count": null,
      "outputs": []
    },
    {
      "cell_type": "code",
      "source": [
        "barplot(words=uncommon_words, words_counts=uncommon_word_counts, title='Palabras menos frecuentes utilizadas en tramas de películas')"
      ],
      "metadata": {
        "colab": {
          "base_uri": "https://localhost:8080/",
          "height": 487
        },
        "id": "f6-Q2ex_80Of",
        "outputId": "8e3ec797-b44e-4718-f0a5-52a69480c43a"
      },
      "execution_count": null,
      "outputs": [
        {
          "output_type": "display_data",
          "data": {
            "text/plain": [
              "<Figure size 1296x432 with 1 Axes>"
            ],
            "image/png": "[encoded data removed]"
          },
          "metadata": {
            "needs_background": "light"
          }
        }
      ]
    },
    {
      "cell_type": "markdown",
      "source": [
        "A partir de este análisis intuitivo, se puede concluir que \"Las películas más singulares\" definitivamente no contendrán las palabras más frecuentes y pueden contener palabras menos frecuentes.\n",
        "\n",
        "Esta es una vista de muy alto nivel. En la práctica, se necesita ver el significado contextual de la trama de la película y descubrir los elementos más raros."
      ],
      "metadata": {
        "id": "nVhjj6lx9CZL"
      }
    },
    {
      "cell_type": "markdown",
      "source": [
        "### Preparar el conjunto de datos\n",
        "\n",
        "**Doc2Vec** y **Word2Vec** son las mejores opciones para preprar el conjunto de datos.\n",
        "\n",
        "**Doc2Vec** muestra aleatoriamente palabras de textos y entrena internamente un modelo de red neuronal que proporciona una representación vectorial numérica del texto. En este caso, como las tramas de las películas son textos bien escritos, se usará **Doc2Vec** como *Modelo espacial vectorial*."
      ],
      "metadata": {
        "id": "B09ansZc-NeM"
      }
    },
    {
      "cell_type": "code",
      "source": [
        "from gensim.models.doc2vec import TaggedDocument, Doc2Vec\n",
        "from gensim.parsing.preprocessing import preprocess_string\n",
        "from sklearn.base import BaseEstimator\n",
        "from sklearn import utils as skl_utils\n",
        "from tqdm import tqdm\n",
        "\n",
        "import multiprocessing\n",
        "import numpy as np\n",
        "\n",
        "class Doc2VecTransformer(BaseEstimator):\n",
        "\n",
        "    def __init__(self, vector_size=100, learning_rate=0.02, epochs=20):\n",
        "        self.learning_rate = learning_rate\n",
        "        self.epochs = epochs\n",
        "        self._model = None\n",
        "        self.vector_size = vector_size\n",
        "        self.workers = multiprocessing.cpu_count() - 1\n",
        "\n",
        "    def fit(self, df_x, df_y=None):\n",
        "        tagged_x = [TaggedDocument(str(row['Plot']).split(), [index]) for index, row in df_x.iterrows()]\n",
        "        model = Doc2Vec(documents=tagged_x, vector_size=self.vector_size, workers=self.workers)\n",
        "\n",
        "        for epoch in range(self.epochs):\n",
        "            model.train(skl_utils.shuffle([x for x in tqdm(tagged_x)]), total_examples=len(tagged_x), epochs=1)\n",
        "            model.alpha -= self.learning_rate\n",
        "            model.min_alpha = model.alpha\n",
        "\n",
        "        self._model = model\n",
        "        return self\n",
        "\n",
        "    def transform(self, df_x):\n",
        "        return np.asmatrix(np.array([self._model.infer_vector(str(row['Plot']).split())\n",
        "                                     for index, row in df_x.iterrows()]))"
      ],
      "metadata": {
        "id": "mT-wjsKs-RbN"
      },
      "execution_count": null,
      "outputs": []
    },
    {
      "cell_type": "code",
      "source": [
        "# entrenar para obtener los Doc2Vec\n",
        "\n",
        "doc2vec_tr = Doc2VecTransformer(vector_size=300)\n",
        "doc2vec_tr.fit(title_plot_df)\n",
        "doc2vec_vectors = doc2vec_tr.transform(title_plot_df)"
      ],
      "metadata": {
        "colab": {
          "base_uri": "https://localhost:8080/"
        },
        "id": "nJtPy3Lv_JKE",
        "outputId": "f808294f-6fc2-4fb8-8de9-3f0bb3e6e4bf"
      },
      "execution_count": null,
      "outputs": [
        {
          "output_type": "stream",
          "name": "stderr",
          "text": [
            "100%|██████████| 34886/34886 [00:00<00:00, 2070767.32it/s]\n",
            "100%|██████████| 34886/34886 [00:00<00:00, 1710713.87it/s]\n",
            "100%|██████████| 34886/34886 [00:00<00:00, 2251011.33it/s]\n",
            "100%|██████████| 34886/34886 [00:00<00:00, 2785821.52it/s]\n",
            "100%|██████████| 34886/34886 [00:00<00:00, 2459697.58it/s]\n",
            "100%|██████████| 34886/34886 [00:00<00:00, 2044695.36it/s]\n",
            "100%|██████████| 34886/34886 [00:00<00:00, 1909268.11it/s]\n",
            "100%|██████████| 34886/34886 [00:00<00:00, 2618653.28it/s]\n",
            "100%|██████████| 34886/34886 [00:00<00:00, 2502736.50it/s]\n",
            "100%|██████████| 34886/34886 [00:00<00:00, 1758747.18it/s]\n",
            "100%|██████████| 34886/34886 [00:00<00:00, 2177158.81it/s]\n",
            "100%|██████████| 34886/34886 [00:00<00:00, 2177936.55it/s]\n",
            "100%|██████████| 34886/34886 [00:00<00:00, 1705728.28it/s]\n",
            "100%|██████████| 34886/34886 [00:00<00:00, 1803667.05it/s]\n",
            "100%|██████████| 34886/34886 [00:00<00:00, 2093790.99it/s]\n",
            "100%|██████████| 34886/34886 [00:00<00:00, 1694135.57it/s]\n",
            "100%|██████████| 34886/34886 [00:00<00:00, 1990430.12it/s]\n",
            "100%|██████████| 34886/34886 [00:00<00:00, 1936404.76it/s]\n",
            "100%|██████████| 34886/34886 [00:00<00:00, 1095375.79it/s]\n",
            "100%|██████████| 34886/34886 [00:00<00:00, 1794773.38it/s]\n"
          ]
        }
      ]
    },
    {
      "cell_type": "code",
      "source": [
        "# visualizar los vectores obtenidos\n",
        "print(doc2vec_vectors)"
      ],
      "metadata": {
        "colab": {
          "base_uri": "https://localhost:8080/"
        },
        "id": "84aLiJ91_Sgf",
        "outputId": "61e72131-ea84-4035-ac24-b89a977d83bf"
      },
      "execution_count": null,
      "outputs": [
        {
          "output_type": "stream",
          "name": "stdout",
          "text": [
            "[[ 0.00079741 -0.00058917  0.00065152 ...  0.00071149 -0.00013082\n",
            "   0.00040986]\n",
            " [-0.00153682  0.00128344 -0.0016194  ... -0.00154627 -0.00111825\n",
            "  -0.00037769]\n",
            " [ 0.00077619 -0.00033679  0.00161591 ...  0.00151999 -0.00149462\n",
            "   0.00098432]\n",
            " ...\n",
            " [-0.00094477 -0.0013401   0.00148453 ...  0.00156366 -0.00133874\n",
            "   0.00135214]\n",
            " [-0.00136248  0.00062739  0.00099778 ...  0.00089709  0.00094071\n",
            "   0.00093528]\n",
            " [-0.00111602  0.0009114   0.00092655 ...  0.00087284  0.00093817\n",
            "   0.00102314]]\n"
          ]
        }
      ]
    },
    {
      "cell_type": "markdown",
      "source": [
        "## Entrenamiento de una red neuronal Autoencoder\n",
        "\n",
        "El problema para la detección de outliers **no está supervisado** en absoluto y no se tienen datos etiquetados (como valores atípicos/no atípicos).\n",
        "\n",
        "Entonces, se utilizará una red neuronal **AutoEncoder** de 5 capas de profundidad para entrenar el modelo.\n",
        "\n",
        "El Autoencoder es un tipo especial de red neuronal que copia datos de entrada a datos de salida. Este proceso se conoce como *'reconstrucción'*. \n",
        "\n",
        "Las *capas ocultas* de la red hacen el trabajo de extracción y decodificación de características. Al final de todo el proceso, se genera alguna pérdida y el punto de datos que es diferente de los demás incurre en más pérdidas.\n",
        "\n",
        "![Forward](https://drive.google.com/uc?id=1g6E9AoRLvEBUsh9BkV1PdPv_cRKl7nsG)\n",
        "\n"
      ],
      "metadata": {
        "id": "LwKVJwB0_pAL"
      }
    },
    {
      "cell_type": "code",
      "source": [
        "from sklearn.neural_network import MLPRegressor\n",
        "\n",
        "auto_encoder = MLPRegressor(hidden_layer_sizes=(600, 150, 600,))\n",
        "auto_encoder.fit(doc2vec_vectors, doc2vec_vectors)\n",
        "predicted_vectors = auto_encoder.predict(doc2vec_vectors)"
      ],
      "metadata": {
        "colab": {
          "base_uri": "https://localhost:8080/"
        },
        "id": "a_5S2Wo4_sRu",
        "outputId": "0bfa5b76-0da2-4df8-c47b-8bca158a260f"
      },
      "execution_count": null,
      "outputs": [
        {
          "output_type": "stream",
          "name": "stderr",
          "text": [
            "/usr/local/lib/python3.7/dist-packages/sklearn/utils/validation.py:598: FutureWarning: np.matrix usage is deprecated in 1.0 and will raise a TypeError in 1.2. Please convert to a numpy array with np.asarray. For more information see: https://numpy.org/doc/stable/reference/generated/numpy.matrix.html\n",
            "  FutureWarning,\n",
            "/usr/local/lib/python3.7/dist-packages/sklearn/utils/validation.py:598: FutureWarning: np.matrix usage is deprecated in 1.0 and will raise a TypeError in 1.2. Please convert to a numpy array with np.asarray. For more information see: https://numpy.org/doc/stable/reference/generated/numpy.matrix.html\n",
            "  FutureWarning,\n",
            "/usr/local/lib/python3.7/dist-packages/sklearn/utils/validation.py:598: FutureWarning: np.matrix usage is deprecated in 1.0 and will raise a TypeError in 1.2. Please convert to a numpy array with np.asarray. For more information see: https://numpy.org/doc/stable/reference/generated/numpy.matrix.html\n",
            "  FutureWarning,\n"
          ]
        }
      ]
    },
    {
      "cell_type": "code",
      "source": [
        "print(predicted_vectors)"
      ],
      "metadata": {
        "colab": {
          "base_uri": "https://localhost:8080/"
        },
        "id": "Uf3vBh1OB_fd",
        "outputId": "42b564d4-6f21-421e-c731-fd3bdf06a403"
      },
      "execution_count": null,
      "outputs": [
        {
          "output_type": "stream",
          "name": "stdout",
          "text": [
            "[[ 0.00039871 -0.00224962 -0.00136091 ... -0.00122246  0.00151759\n",
            "   0.00186148]\n",
            " [ 0.0008782  -0.00183349 -0.00153809 ... -0.00151113  0.00136701\n",
            "   0.00188405]\n",
            " [ 0.00133096 -0.00225801 -0.00133984 ... -0.00091039  0.00152568\n",
            "   0.00152359]\n",
            " ...\n",
            " [ 0.00080944 -0.00188964 -0.00129464 ... -0.00148985  0.00126841\n",
            "   0.00208616]\n",
            " [ 0.00092024 -0.00167977 -0.00147656 ... -0.00141748  0.00125867\n",
            "   0.0020006 ]\n",
            " [ 0.00093425 -0.00169442 -0.00147201 ... -0.00123532  0.0011124\n",
            "   0.00163038]]\n"
          ]
        }
      ]
    },
    {
      "cell_type": "markdown",
      "source": [
        "El AutoEncoder en realidad no es más que un regresor no lineal profundo.\n",
        "\n",
        "También se puede observar su precisión."
      ],
      "metadata": {
        "id": "5ZejGxulBuFl"
      }
    },
    {
      "cell_type": "code",
      "source": [
        "auto_encoder.score(predicted_vectors, doc2vec_vectors)"
      ],
      "metadata": {
        "colab": {
          "base_uri": "https://localhost:8080/"
        },
        "id": "tEOXMJYkCeig",
        "outputId": "b3019f2a-f362-40df-d811-bfed558a757c"
      },
      "execution_count": null,
      "outputs": [
        {
          "output_type": "stream",
          "name": "stderr",
          "text": [
            "/usr/local/lib/python3.7/dist-packages/sklearn/utils/validation.py:598: FutureWarning: np.matrix usage is deprecated in 1.0 and will raise a TypeError in 1.2. Please convert to a numpy array with np.asarray. For more information see: https://numpy.org/doc/stable/reference/generated/numpy.matrix.html\n",
            "  FutureWarning,\n"
          ]
        },
        {
          "output_type": "execute_result",
          "data": {
            "text/plain": [
              "0.8477725333365314"
            ]
          },
          "metadata": {},
          "execution_count": 38
        }
      ]
    },
    {
      "cell_type": "markdown",
      "source": [
        "Esto significa que el 84% de la información de las variables de entrada se reconstruye con éxito.\n",
        "\n",
        "También se puede observar la función de pérdida de toda la red."
      ],
      "metadata": {
        "id": "W7rMQA1RCmQG"
      }
    },
    {
      "cell_type": "code",
      "source": [
        "pd.DataFrame(auto_encoder.loss_curve_).plot()"
      ],
      "metadata": {
        "colab": {
          "base_uri": "https://localhost:8080/",
          "height": 282
        },
        "id": "RV6REXKlCejr",
        "outputId": "60daea30-ed76-476b-eea7-b634dc15b314"
      },
      "execution_count": null,
      "outputs": [
        {
          "output_type": "execute_result",
          "data": {
            "text/plain": [
              "<matplotlib.axes._subplots.AxesSubplot at 0x7f2eb09ffe90>"
            ]
          },
          "metadata": {},
          "execution_count": 39
        },
        {
          "output_type": "display_data",
          "data": {
            "text/plain": [
              "<Figure size 432x288 with 1 Axes>"
            ],
            "image/png": "[encoded data removed]"
          },
          "metadata": {
            "needs_background": "light"
          }
        }
      ]
    },
    {
      "cell_type": "markdown",
      "source": [
        "### Medir la similitud de la salida con la real\n",
        "\n",
        "Una vez obtenidos los vectores de salida, se puede medir la pérdida.\n",
        "\n",
        "La 'pérdida' (loss) está idealmente dada por la expresión de 'factor atípico' (Outlier Factor).\n",
        "<br><br>\n",
        "$[OF]^{i} = \\frac{1}{d} \\sum^{d}_{k=1} (x^{k} - o^{k})^{2}$\n",
        "<br><br>\n",
        "\n",
        "Donde:<br>\n",
        "<br>\n",
        "\n",
        "$[OF]^{i} = \\text{factor atípico para la } i^{th} \\text{instancia de datos}$<br>\n",
        "\n",
        "$d = \\text{número total de características (en nuestro caso, } d=300\\text{)}$<br>\n",
        "\n",
        "$x^{k} = k^{th} \\text{valor característico de la entrada } (1 ≤ k ≤ d)$<br>\n",
        "\n",
        "$o^{k} = k^{th} \\text{valor de característico de salida (en realidad es la entrada reconstruida)}$<br><br>\n",
        "\n",
        "> **Los valores atípicos siempre tendrán una tendencia a no seguir el patrón y darán un mayor error de reconstrucción**. Asi que, **un valor más alto de [OF] denota un posible \"valor atípico\".**"
      ],
      "metadata": {
        "id": "M_PqvwLfDT0Q"
      }
    },
    {
      "cell_type": "markdown",
      "source": [
        "Para realizar la similitud se aplicará la [similitud coseno](https://en.wikipedia.org/wiki/Cosine_similarity) como medida.\n",
        "\n",
        "Ahora $[OF]^{i}$ se convierte en una simple medida de coseno del vector de entrada y salida del $i^{th}$ punto de datos.\n",
        "\n",
        "> **Pero una diferencia aquí**: el valor más bajo de $[OF]^{i}$ indica un posible valor atípico en lugar de un valor más alto.\n",
        "\n",
        "Los pasos para hacer esto son:\n",
        "\n",
        "1.   Calcular la \"similitud coseno\" entre el vector de entrada y el vector de salida del $i^{th}$ punto de datos.\n",
        "2.   Ordenar todos los valores de similitud coseno en orden creciente.\n",
        "3.   Seleccionar los valores 'k' superiores ('k' es la entrada proporcionada por el usuario) y los posibles valores atípicos serán los puntos de datos correspondientes.\n",
        "\n"
      ],
      "metadata": {
        "id": "DsfGxYlkHuug"
      }
    },
    {
      "cell_type": "code",
      "source": [
        "from scipy.spatial.distance import cosine\n",
        "\n",
        "def key_consine_similarity(tupple):\n",
        "    return tupple[1]\n",
        "\n",
        "def get_computed_similarities(vectors, predicted_vectors, reverse=False):\n",
        "    data_size = len(title_plot_df)\n",
        "    cosine_similarities = []\n",
        "    for i in range(data_size):\n",
        "        cosine_sim_val = (1 - cosine(vectors[i], predicted_vectors[i]))\n",
        "        cosine_similarities.append((i, cosine_sim_val))\n",
        "\n",
        "    return sorted(cosine_similarities, key=key_consine_similarity, reverse=reverse)\n",
        "\n",
        "def display_top_n(sorted_cosine_similarities, n=5):\n",
        "    for i in range(n):\n",
        "        index, consine_sim_val = sorted_cosine_similarities[i]\n",
        "        print(f'Título de la Película:\\t{title_plot_df.iloc[index, 0]}')  \n",
        "        print(f'Similitud Coseno:\\t{consine_sim_val}')\n",
        "        print('-'*100)"
      ],
      "metadata": {
        "id": "StYOv4bqDbDo"
      },
      "execution_count": null,
      "outputs": []
    },
    {
      "cell_type": "code",
      "source": [
        "# llamar las funciones anteriores para obtener los principales valores atípicos 'k'\n",
        "k = 5\n",
        "print(f'Top {k} películas únicas\\n')\n",
        "\n",
        "sorted_cosine_similarities = get_computed_similarities(vectors=doc2vec_vectors, predicted_vectors=predicted_vectors)\n",
        "display_top_n(sorted_cosine_similarities=sorted_cosine_similarities, n=k)"
      ],
      "metadata": {
        "colab": {
          "base_uri": "https://localhost:8080/"
        },
        "id": "o4O4IXGLDbFL",
        "outputId": "461c1237-f31e-4710-f416-80021083c71e"
      },
      "execution_count": null,
      "outputs": [
        {
          "output_type": "stream",
          "name": "stdout",
          "text": [
            "Top 5 películas únicas\n",
            "\n",
            "Título de la Película:\tAnatomy of a Murder\n",
            "Similitud Coseno:\t-0.2110362946987152\n",
            "----------------------------------------------------------------------------------------------------\n",
            "Título de la Película:\t O\n",
            "Similitud Coseno:\t-0.2104514241218567\n",
            "----------------------------------------------------------------------------------------------------\n",
            "Título de la Película:\tThirunaal\n",
            "Similitud Coseno:\t-0.19554367661476135\n",
            "----------------------------------------------------------------------------------------------------\n",
            "Título de la Película:\tLife Mein Kabhie Kabhiee\n",
            "Similitud Coseno:\t-0.1820448338985443\n",
            "----------------------------------------------------------------------------------------------------\n",
            "Título de la Película:\tLove\n",
            "Similitud Coseno:\t-0.18143142759799957\n",
            "----------------------------------------------------------------------------------------------------\n"
          ]
        }
      ]
    },
    {
      "cell_type": "markdown",
      "source": [
        "### Validación de resultados\n",
        "\n",
        "Para los problemas de \"detección de valores atípicos\" no supervisados ​​en Machine Learning, validar la salida es realmente un desafío porque no se tienen datos etiquetados como punto de referencia.\n",
        "\n",
        "Además, como se esta usando 'Doc2Vec', verificar la validez contextual es difícil.\n",
        "\n",
        "Por lo tanto, se adoptará un enfoque más simple y se validarán los resultados con las observaciones de la \"etapa de exploración de datos\" (EDA).\n",
        "\n",
        "Comprobar si hay una intersección entre *todas las palabras procesadas de la película más singular* y *palabras muy frecuentes en todas las películas*."
      ],
      "metadata": {
        "id": "Q00wgXtEKRgd"
      }
    },
    {
      "cell_type": "code",
      "source": [
        "common_word_counter = Counter(aggregate_counter.most_common(1000))\n",
        "\n",
        "\n",
        "most_unique_movie_index, cosine_sim_val = sorted_cosine_similarities[0]\n",
        "most_unique_movie_plot = title_plot_df.iloc[most_unique_movie_index, 1]\n",
        "most_unique_movie_words_counter = Counter(preprocess_string(most_unique_movie_plot))\n",
        "intersected_common_word_counter = common_word_counter & most_unique_movie_words_counter\n",
        "intersected_common_words = [word[0] for word in intersected_common_word_counter.items()]\n",
        "intersected_common_word_counts = [word[1] for word in intersected_common_word_counter.items()]\n",
        "intersected_common_word_counter"
      ],
      "metadata": {
        "colab": {
          "base_uri": "https://localhost:8080/"
        },
        "id": "9c3CAIOMKU6w",
        "outputId": "f6d70b30-e578-43b6-875f-61f2beefb5d3"
      },
      "execution_count": null,
      "outputs": [
        {
          "output_type": "execute_result",
          "data": {
            "text/plain": [
              "Counter()"
            ]
          },
          "metadata": {},
          "execution_count": 54
        }
      ]
    },
    {
      "cell_type": "markdown",
      "source": [
        "Entonces, no hay intersección.\n",
        "\n",
        "Lo que significa que **la trama de la película más singular no contiene palabras muy frecuentes que son muy comunes para otras tramas de películas**. \n",
        "\n",
        "Esto es bastante relevante para una película **única** que es diferente a otras. Entonces, la solución funciona perfectamente\n",
        "\n",
        "Ahora, veamos el escenario opuesto: **Si la película más singular contiene las palabras menos frecuentes del corpus o no**."
      ],
      "metadata": {
        "id": "kZcX2e2YMDQh"
      }
    },
    {
      "cell_type": "code",
      "source": [
        "uncommon_word_count_items = [word for word in islice(all_word_counts, 300000)]\n",
        "all_movies_uncommon_word_counter = Counter(dict(uncommon_word_count_items))\n",
        "\n",
        "intersected_uncommon_word_counter = all_movies_uncommon_word_counter & most_unique_movie_words_counter\n",
        "intersected_uncommon_words = [word[0] for word in intersected_uncommon_word_counter.items()]\n",
        "intersected_uncommon_word_counts = [word[1] for word in intersected_uncommon_word_counter.items()]\n",
        "barplot(words=intersected_uncommon_words, words_counts=intersected_uncommon_word_counts,\n",
        "        title='Pocas palabras comunes entre todas las palabras de la película más singular y las palabras menos frecuentes en todas las películas')"
      ],
      "metadata": {
        "colab": {
          "base_uri": "https://localhost:8080/",
          "height": 440
        },
        "id": "TTChaBzcMhxl",
        "outputId": "ddffd41f-3ad4-43ff-e3f5-94224867aebb"
      },
      "execution_count": null,
      "outputs": [
        {
          "output_type": "display_data",
          "data": {
            "text/plain": [
              "<Figure size 1296x432 with 1 Axes>"
            ],
            "image/png": "[encoded data removed]"
          },
          "metadata": {
            "needs_background": "light"
          }
        }
      ]
    },
    {
      "cell_type": "markdown",
      "source": [
        "Lo que se observa de la Fgura, se puede decir que: **La trama de la película más singular contiene muchas palabras menos frecuentes que son muy poco comunes en otras tramas de películas.**"
      ],
      "metadata": {
        "id": "8pIQ67AgNF_5"
      }
    }
  ]
}