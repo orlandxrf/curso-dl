{
  "nbformat": 4,
  "nbformat_minor": 0,
  "metadata": {
    "colab": {
      "name": "6c_CNN_MNIST_dataset.ipynb",
      "provenance": [],
      "authorship_tag": "ABX9TyN5b2LLMhoZB8c2wTpS14G9",
      "include_colab_link": true
    },
    "kernelspec": {
      "name": "python3",
      "display_name": "Python 3"
    },
    "language_info": {
      "name": "python"
    },
    "widgets": {
      "application/vnd.jupyter.widget-state+json": {
        "a6a3f9ceb01c46fab80674f0eb40c0e0": {
          "model_module": "@jupyter-widgets/controls",
          "model_name": "HBoxModel",
          "model_module_version": "1.5.0",
          "state": {
            "_view_name": "HBoxView",
            "_dom_classes": [],
            "_model_name": "HBoxModel",
            "_view_module": "@jupyter-widgets/controls",
            "_model_module_version": "1.5.0",
            "_view_count": null,
            "_view_module_version": "1.5.0",
            "box_style": "",
            "layout": "IPY_MODEL_bdf8aad256494d9dabef57a73428162f",
            "_model_module": "@jupyter-widgets/controls",
            "children": [
              "IPY_MODEL_260ec86a60154191a2576a8a9ada954d",
              "IPY_MODEL_517181ee428b47b4954ce4b7929ddc9a",
              "IPY_MODEL_1da55b737bdc4541a0c7fab1bc2427f2"
            ]
          }
        },
        "bdf8aad256494d9dabef57a73428162f": {
          "model_module": "@jupyter-widgets/base",
          "model_name": "LayoutModel",
          "model_module_version": "1.2.0",
          "state": {
            "_view_name": "LayoutView",
            "grid_template_rows": null,
            "right": null,
            "justify_content": null,
            "_view_module": "@jupyter-widgets/base",
            "overflow": null,
            "_model_module_version": "1.2.0",
            "_view_count": null,
            "flex_flow": null,
            "width": null,
            "min_width": null,
            "border": null,
            "align_items": null,
            "bottom": null,
            "_model_module": "@jupyter-widgets/base",
            "top": null,
            "grid_column": null,
            "overflow_y": null,
            "overflow_x": null,
            "grid_auto_flow": null,
            "grid_area": null,
            "grid_template_columns": null,
            "flex": null,
            "_model_name": "LayoutModel",
            "justify_items": null,
            "grid_row": null,
            "max_height": null,
            "align_content": null,
            "visibility": null,
            "align_self": null,
            "height": null,
            "min_height": null,
            "padding": null,
            "grid_auto_rows": null,
            "grid_gap": null,
            "max_width": null,
            "order": null,
            "_view_module_version": "1.2.0",
            "grid_template_areas": null,
            "object_position": null,
            "object_fit": null,
            "grid_auto_columns": null,
            "margin": null,
            "display": null,
            "left": null
          }
        },
        "260ec86a60154191a2576a8a9ada954d": {
          "model_module": "@jupyter-widgets/controls",
          "model_name": "HTMLModel",
          "model_module_version": "1.5.0",
          "state": {
            "_view_name": "HTMLView",
            "style": "IPY_MODEL_dc13483154c842f3b52fbaa7f0986ae2",
            "_dom_classes": [],
            "description": "",
            "_model_name": "HTMLModel",
            "placeholder": "​",
            "_view_module": "@jupyter-widgets/controls",
            "_model_module_version": "1.5.0",
            "value": "",
            "_view_count": null,
            "_view_module_version": "1.5.0",
            "description_tooltip": null,
            "_model_module": "@jupyter-widgets/controls",
            "layout": "IPY_MODEL_d10060dbe5244a20baa47612cc216dae"
          }
        },
        "517181ee428b47b4954ce4b7929ddc9a": {
          "model_module": "@jupyter-widgets/controls",
          "model_name": "FloatProgressModel",
          "model_module_version": "1.5.0",
          "state": {
            "_view_name": "ProgressView",
            "style": "IPY_MODEL_377f33fa77174c92aeff9f689bf5539a",
            "_dom_classes": [],
            "description": "",
            "_model_name": "FloatProgressModel",
            "bar_style": "success",
            "max": 26421880,
            "_view_module": "@jupyter-widgets/controls",
            "_model_module_version": "1.5.0",
            "value": 26421880,
            "_view_count": null,
            "_view_module_version": "1.5.0",
            "orientation": "horizontal",
            "min": 0,
            "description_tooltip": null,
            "_model_module": "@jupyter-widgets/controls",
            "layout": "IPY_MODEL_1841c2b496724e818fc2ec1f980deb34"
          }
        },
        "1da55b737bdc4541a0c7fab1bc2427f2": {
          "model_module": "@jupyter-widgets/controls",
          "model_name": "HTMLModel",
          "model_module_version": "1.5.0",
          "state": {
            "_view_name": "HTMLView",
            "style": "IPY_MODEL_94718e6af4e04068895f01a37a61332c",
            "_dom_classes": [],
            "description": "",
            "_model_name": "HTMLModel",
            "placeholder": "​",
            "_view_module": "@jupyter-widgets/controls",
            "_model_module_version": "1.5.0",
            "value": " 26422272/? [00:01&lt;00:00, 22910675.10it/s]",
            "_view_count": null,
            "_view_module_version": "1.5.0",
            "description_tooltip": null,
            "_model_module": "@jupyter-widgets/controls",
            "layout": "IPY_MODEL_eae7ace0318f4f078a11fa3bc958ee36"
          }
        },
        "dc13483154c842f3b52fbaa7f0986ae2": {
          "model_module": "@jupyter-widgets/controls",
          "model_name": "DescriptionStyleModel",
          "model_module_version": "1.5.0",
          "state": {
            "_view_name": "StyleView",
            "_model_name": "DescriptionStyleModel",
            "description_width": "",
            "_view_module": "@jupyter-widgets/base",
            "_model_module_version": "1.5.0",
            "_view_count": null,
            "_view_module_version": "1.2.0",
            "_model_module": "@jupyter-widgets/controls"
          }
        },
        "d10060dbe5244a20baa47612cc216dae": {
          "model_module": "@jupyter-widgets/base",
          "model_name": "LayoutModel",
          "model_module_version": "1.2.0",
          "state": {
            "_view_name": "LayoutView",
            "grid_template_rows": null,
            "right": null,
            "justify_content": null,
            "_view_module": "@jupyter-widgets/base",
            "overflow": null,
            "_model_module_version": "1.2.0",
            "_view_count": null,
            "flex_flow": null,
            "width": null,
            "min_width": null,
            "border": null,
            "align_items": null,
            "bottom": null,
            "_model_module": "@jupyter-widgets/base",
            "top": null,
            "grid_column": null,
            "overflow_y": null,
            "overflow_x": null,
            "grid_auto_flow": null,
            "grid_area": null,
            "grid_template_columns": null,
            "flex": null,
            "_model_name": "LayoutModel",
            "justify_items": null,
            "grid_row": null,
            "max_height": null,
            "align_content": null,
            "visibility": null,
            "align_self": null,
            "height": null,
            "min_height": null,
            "padding": null,
            "grid_auto_rows": null,
            "grid_gap": null,
            "max_width": null,
            "order": null,
            "_view_module_version": "1.2.0",
            "grid_template_areas": null,
            "object_position": null,
            "object_fit": null,
            "grid_auto_columns": null,
            "margin": null,
            "display": null,
            "left": null
          }
        },
        "377f33fa77174c92aeff9f689bf5539a": {
          "model_module": "@jupyter-widgets/controls",
          "model_name": "ProgressStyleModel",
          "model_module_version": "1.5.0",
          "state": {
            "_view_name": "StyleView",
            "_model_name": "ProgressStyleModel",
            "description_width": "",
            "_view_module": "@jupyter-widgets/base",
            "_model_module_version": "1.5.0",
            "_view_count": null,
            "_view_module_version": "1.2.0",
            "bar_color": null,
            "_model_module": "@jupyter-widgets/controls"
          }
        },
        "1841c2b496724e818fc2ec1f980deb34": {
          "model_module": "@jupyter-widgets/base",
          "model_name": "LayoutModel",
          "model_module_version": "1.2.0",
          "state": {
            "_view_name": "LayoutView",
            "grid_template_rows": null,
            "right": null,
            "justify_content": null,
            "_view_module": "@jupyter-widgets/base",
            "overflow": null,
            "_model_module_version": "1.2.0",
            "_view_count": null,
            "flex_flow": null,
            "width": null,
            "min_width": null,
            "border": null,
            "align_items": null,
            "bottom": null,
            "_model_module": "@jupyter-widgets/base",
            "top": null,
            "grid_column": null,
            "overflow_y": null,
            "overflow_x": null,
            "grid_auto_flow": null,
            "grid_area": null,
            "grid_template_columns": null,
            "flex": null,
            "_model_name": "LayoutModel",
            "justify_items": null,
            "grid_row": null,
            "max_height": null,
            "align_content": null,
            "visibility": null,
            "align_self": null,
            "height": null,
            "min_height": null,
            "padding": null,
            "grid_auto_rows": null,
            "grid_gap": null,
            "max_width": null,
            "order": null,
            "_view_module_version": "1.2.0",
            "grid_template_areas": null,
            "object_position": null,
            "object_fit": null,
            "grid_auto_columns": null,
            "margin": null,
            "display": null,
            "left": null
          }
        },
        "94718e6af4e04068895f01a37a61332c": {
          "model_module": "@jupyter-widgets/controls",
          "model_name": "DescriptionStyleModel",
          "model_module_version": "1.5.0",
          "state": {
            "_view_name": "StyleView",
            "_model_name": "DescriptionStyleModel",
            "description_width": "",
            "_view_module": "@jupyter-widgets/base",
            "_model_module_version": "1.5.0",
            "_view_count": null,
            "_view_module_version": "1.2.0",
            "_model_module": "@jupyter-widgets/controls"
          }
        },
        "eae7ace0318f4f078a11fa3bc958ee36": {
          "model_module": "@jupyter-widgets/base",
          "model_name": "LayoutModel",
          "model_module_version": "1.2.0",
          "state": {
            "_view_name": "LayoutView",
            "grid_template_rows": null,
            "right": null,
            "justify_content": null,
            "_view_module": "@jupyter-widgets/base",
            "overflow": null,
            "_model_module_version": "1.2.0",
            "_view_count": null,
            "flex_flow": null,
            "width": null,
            "min_width": null,
            "border": null,
            "align_items": null,
            "bottom": null,
            "_model_module": "@jupyter-widgets/base",
            "top": null,
            "grid_column": null,
            "overflow_y": null,
            "overflow_x": null,
            "grid_auto_flow": null,
            "grid_area": null,
            "grid_template_columns": null,
            "flex": null,
            "_model_name": "LayoutModel",
            "justify_items": null,
            "grid_row": null,
            "max_height": null,
            "align_content": null,
            "visibility": null,
            "align_self": null,
            "height": null,
            "min_height": null,
            "padding": null,
            "grid_auto_rows": null,
            "grid_gap": null,
            "max_width": null,
            "order": null,
            "_view_module_version": "1.2.0",
            "grid_template_areas": null,
            "object_position": null,
            "object_fit": null,
            "grid_auto_columns": null,
            "margin": null,
            "display": null,
            "left": null
          }
        },
        "d1c72a733a254d469c509fb6638ddcb1": {
          "model_module": "@jupyter-widgets/controls",
          "model_name": "HBoxModel",
          "model_module_version": "1.5.0",
          "state": {
            "_view_name": "HBoxView",
            "_dom_classes": [],
            "_model_name": "HBoxModel",
            "_view_module": "@jupyter-widgets/controls",
            "_model_module_version": "1.5.0",
            "_view_count": null,
            "_view_module_version": "1.5.0",
            "box_style": "",
            "layout": "IPY_MODEL_858689120bd2456a8490bb54175e354a",
            "_model_module": "@jupyter-widgets/controls",
            "children": [
              "IPY_MODEL_a569c89c2a30401eb3aacf8a79882a3e",
              "IPY_MODEL_ed444b0e70614a2eb12dc6a33b6e2927",
              "IPY_MODEL_be25ea6ffee148cea9128bbca58f0174"
            ]
          }
        },
        "858689120bd2456a8490bb54175e354a": {
          "model_module": "@jupyter-widgets/base",
          "model_name": "LayoutModel",
          "model_module_version": "1.2.0",
          "state": {
            "_view_name": "LayoutView",
            "grid_template_rows": null,
            "right": null,
            "justify_content": null,
            "_view_module": "@jupyter-widgets/base",
            "overflow": null,
            "_model_module_version": "1.2.0",
            "_view_count": null,
            "flex_flow": null,
            "width": null,
            "min_width": null,
            "border": null,
            "align_items": null,
            "bottom": null,
            "_model_module": "@jupyter-widgets/base",
            "top": null,
            "grid_column": null,
            "overflow_y": null,
            "overflow_x": null,
            "grid_auto_flow": null,
            "grid_area": null,
            "grid_template_columns": null,
            "flex": null,
            "_model_name": "LayoutModel",
            "justify_items": null,
            "grid_row": null,
            "max_height": null,
            "align_content": null,
            "visibility": null,
            "align_self": null,
            "height": null,
            "min_height": null,
            "padding": null,
            "grid_auto_rows": null,
            "grid_gap": null,
            "max_width": null,
            "order": null,
            "_view_module_version": "1.2.0",
            "grid_template_areas": null,
            "object_position": null,
            "object_fit": null,
            "grid_auto_columns": null,
            "margin": null,
            "display": null,
            "left": null
          }
        },
        "a569c89c2a30401eb3aacf8a79882a3e": {
          "model_module": "@jupyter-widgets/controls",
          "model_name": "HTMLModel",
          "model_module_version": "1.5.0",
          "state": {
            "_view_name": "HTMLView",
            "style": "IPY_MODEL_b333d3a2528a401f9e1c39e7c9cfaae5",
            "_dom_classes": [],
            "description": "",
            "_model_name": "HTMLModel",
            "placeholder": "​",
            "_view_module": "@jupyter-widgets/controls",
            "_model_module_version": "1.5.0",
            "value": "",
            "_view_count": null,
            "_view_module_version": "1.5.0",
            "description_tooltip": null,
            "_model_module": "@jupyter-widgets/controls",
            "layout": "IPY_MODEL_28d720621b0b4169bcc0f272b0f5f9c3"
          }
        },
        "ed444b0e70614a2eb12dc6a33b6e2927": {
          "model_module": "@jupyter-widgets/controls",
          "model_name": "FloatProgressModel",
          "model_module_version": "1.5.0",
          "state": {
            "_view_name": "ProgressView",
            "style": "IPY_MODEL_05af19bbc9ee4ade931acfd51e7945ce",
            "_dom_classes": [],
            "description": "",
            "_model_name": "FloatProgressModel",
            "bar_style": "success",
            "max": 29515,
            "_view_module": "@jupyter-widgets/controls",
            "_model_module_version": "1.5.0",
            "value": 29515,
            "_view_count": null,
            "_view_module_version": "1.5.0",
            "orientation": "horizontal",
            "min": 0,
            "description_tooltip": null,
            "_model_module": "@jupyter-widgets/controls",
            "layout": "IPY_MODEL_966bc0a874424dc2a645b022b58ad815"
          }
        },
        "be25ea6ffee148cea9128bbca58f0174": {
          "model_module": "@jupyter-widgets/controls",
          "model_name": "HTMLModel",
          "model_module_version": "1.5.0",
          "state": {
            "_view_name": "HTMLView",
            "style": "IPY_MODEL_b470dc49b5e1499d909342e5ff4b8c73",
            "_dom_classes": [],
            "description": "",
            "_model_name": "HTMLModel",
            "placeholder": "​",
            "_view_module": "@jupyter-widgets/controls",
            "_model_module_version": "1.5.0",
            "value": " 29696/? [00:00&lt;00:00, 5710.85it/s]",
            "_view_count": null,
            "_view_module_version": "1.5.0",
            "description_tooltip": null,
            "_model_module": "@jupyter-widgets/controls",
            "layout": "IPY_MODEL_92b74dd3ece645e98895dd5b398002ec"
          }
        },
        "b333d3a2528a401f9e1c39e7c9cfaae5": {
          "model_module": "@jupyter-widgets/controls",
          "model_name": "DescriptionStyleModel",
          "model_module_version": "1.5.0",
          "state": {
            "_view_name": "StyleView",
            "_model_name": "DescriptionStyleModel",
            "description_width": "",
            "_view_module": "@jupyter-widgets/base",
            "_model_module_version": "1.5.0",
            "_view_count": null,
            "_view_module_version": "1.2.0",
            "_model_module": "@jupyter-widgets/controls"
          }
        },
        "28d720621b0b4169bcc0f272b0f5f9c3": {
          "model_module": "@jupyter-widgets/base",
          "model_name": "LayoutModel",
          "model_module_version": "1.2.0",
          "state": {
            "_view_name": "LayoutView",
            "grid_template_rows": null,
            "right": null,
            "justify_content": null,
            "_view_module": "@jupyter-widgets/base",
            "overflow": null,
            "_model_module_version": "1.2.0",
            "_view_count": null,
            "flex_flow": null,
            "width": null,
            "min_width": null,
            "border": null,
            "align_items": null,
            "bottom": null,
            "_model_module": "@jupyter-widgets/base",
            "top": null,
            "grid_column": null,
            "overflow_y": null,
            "overflow_x": null,
            "grid_auto_flow": null,
            "grid_area": null,
            "grid_template_columns": null,
            "flex": null,
            "_model_name": "LayoutModel",
            "justify_items": null,
            "grid_row": null,
            "max_height": null,
            "align_content": null,
            "visibility": null,
            "align_self": null,
            "height": null,
            "min_height": null,
            "padding": null,
            "grid_auto_rows": null,
            "grid_gap": null,
            "max_width": null,
            "order": null,
            "_view_module_version": "1.2.0",
            "grid_template_areas": null,
            "object_position": null,
            "object_fit": null,
            "grid_auto_columns": null,
            "margin": null,
            "display": null,
            "left": null
          }
        },
        "05af19bbc9ee4ade931acfd51e7945ce": {
          "model_module": "@jupyter-widgets/controls",
          "model_name": "ProgressStyleModel",
          "model_module_version": "1.5.0",
          "state": {
            "_view_name": "StyleView",
            "_model_name": "ProgressStyleModel",
            "description_width": "",
            "_view_module": "@jupyter-widgets/base",
            "_model_module_version": "1.5.0",
            "_view_count": null,
            "_view_module_version": "1.2.0",
            "bar_color": null,
            "_model_module": "@jupyter-widgets/controls"
          }
        },
        "966bc0a874424dc2a645b022b58ad815": {
          "model_module": "@jupyter-widgets/base",
          "model_name": "LayoutModel",
          "model_module_version": "1.2.0",
          "state": {
            "_view_name": "LayoutView",
            "grid_template_rows": null,
            "right": null,
            "justify_content": null,
            "_view_module": "@jupyter-widgets/base",
            "overflow": null,
            "_model_module_version": "1.2.0",
            "_view_count": null,
            "flex_flow": null,
            "width": null,
            "min_width": null,
            "border": null,
            "align_items": null,
            "bottom": null,
            "_model_module": "@jupyter-widgets/base",
            "top": null,
            "grid_column": null,
            "overflow_y": null,
            "overflow_x": null,
            "grid_auto_flow": null,
            "grid_area": null,
            "grid_template_columns": null,
            "flex": null,
            "_model_name": "LayoutModel",
            "justify_items": null,
            "grid_row": null,
            "max_height": null,
            "align_content": null,
            "visibility": null,
            "align_self": null,
            "height": null,
            "min_height": null,
            "padding": null,
            "grid_auto_rows": null,
            "grid_gap": null,
            "max_width": null,
            "order": null,
            "_view_module_version": "1.2.0",
            "grid_template_areas": null,
            "object_position": null,
            "object_fit": null,
            "grid_auto_columns": null,
            "margin": null,
            "display": null,
            "left": null
          }
        },
        "b470dc49b5e1499d909342e5ff4b8c73": {
          "model_module": "@jupyter-widgets/controls",
          "model_name": "DescriptionStyleModel",
          "model_module_version": "1.5.0",
          "state": {
            "_view_name": "StyleView",
            "_model_name": "DescriptionStyleModel",
            "description_width": "",
            "_view_module": "@jupyter-widgets/base",
            "_model_module_version": "1.5.0",
            "_view_count": null,
            "_view_module_version": "1.2.0",
            "_model_module": "@jupyter-widgets/controls"
          }
        },
        "92b74dd3ece645e98895dd5b398002ec": {
          "model_module": "@jupyter-widgets/base",
          "model_name": "LayoutModel",
          "model_module_version": "1.2.0",
          "state": {
            "_view_name": "LayoutView",
            "grid_template_rows": null,
            "right": null,
            "justify_content": null,
            "_view_module": "@jupyter-widgets/base",
            "overflow": null,
            "_model_module_version": "1.2.0",
            "_view_count": null,
            "flex_flow": null,
            "width": null,
            "min_width": null,
            "border": null,
            "align_items": null,
            "bottom": null,
            "_model_module": "@jupyter-widgets/base",
            "top": null,
            "grid_column": null,
            "overflow_y": null,
            "overflow_x": null,
            "grid_auto_flow": null,
            "grid_area": null,
            "grid_template_columns": null,
            "flex": null,
            "_model_name": "LayoutModel",
            "justify_items": null,
            "grid_row": null,
            "max_height": null,
            "align_content": null,
            "visibility": null,
            "align_self": null,
            "height": null,
            "min_height": null,
            "padding": null,
            "grid_auto_rows": null,
            "grid_gap": null,
            "max_width": null,
            "order": null,
            "_view_module_version": "1.2.0",
            "grid_template_areas": null,
            "object_position": null,
            "object_fit": null,
            "grid_auto_columns": null,
            "margin": null,
            "display": null,
            "left": null
          }
        },
        "89ff3996f1904bef80eadcb56a93ff85": {
          "model_module": "@jupyter-widgets/controls",
          "model_name": "HBoxModel",
          "model_module_version": "1.5.0",
          "state": {
            "_view_name": "HBoxView",
            "_dom_classes": [],
            "_model_name": "HBoxModel",
            "_view_module": "@jupyter-widgets/controls",
            "_model_module_version": "1.5.0",
            "_view_count": null,
            "_view_module_version": "1.5.0",
            "box_style": "",
            "layout": "IPY_MODEL_fb29be4ba9014f1d913830d179a08a1b",
            "_model_module": "@jupyter-widgets/controls",
            "children": [
              "IPY_MODEL_b3d1c04d4d3247559f2e0c5cef46b3c3",
              "IPY_MODEL_cd778674cc824ffab6cc91e06ebb1dda",
              "IPY_MODEL_9b45eca02990469f82fd0c6919b34d3a"
            ]
          }
        },
        "fb29be4ba9014f1d913830d179a08a1b": {
          "model_module": "@jupyter-widgets/base",
          "model_name": "LayoutModel",
          "model_module_version": "1.2.0",
          "state": {
            "_view_name": "LayoutView",
            "grid_template_rows": null,
            "right": null,
            "justify_content": null,
            "_view_module": "@jupyter-widgets/base",
            "overflow": null,
            "_model_module_version": "1.2.0",
            "_view_count": null,
            "flex_flow": null,
            "width": null,
            "min_width": null,
            "border": null,
            "align_items": null,
            "bottom": null,
            "_model_module": "@jupyter-widgets/base",
            "top": null,
            "grid_column": null,
            "overflow_y": null,
            "overflow_x": null,
            "grid_auto_flow": null,
            "grid_area": null,
            "grid_template_columns": null,
            "flex": null,
            "_model_name": "LayoutModel",
            "justify_items": null,
            "grid_row": null,
            "max_height": null,
            "align_content": null,
            "visibility": null,
            "align_self": null,
            "height": null,
            "min_height": null,
            "padding": null,
            "grid_auto_rows": null,
            "grid_gap": null,
            "max_width": null,
            "order": null,
            "_view_module_version": "1.2.0",
            "grid_template_areas": null,
            "object_position": null,
            "object_fit": null,
            "grid_auto_columns": null,
            "margin": null,
            "display": null,
            "left": null
          }
        },
        "b3d1c04d4d3247559f2e0c5cef46b3c3": {
          "model_module": "@jupyter-widgets/controls",
          "model_name": "HTMLModel",
          "model_module_version": "1.5.0",
          "state": {
            "_view_name": "HTMLView",
            "style": "IPY_MODEL_589296d041b94dc0ad999cf89c3a91ff",
            "_dom_classes": [],
            "description": "",
            "_model_name": "HTMLModel",
            "placeholder": "​",
            "_view_module": "@jupyter-widgets/controls",
            "_model_module_version": "1.5.0",
            "value": "",
            "_view_count": null,
            "_view_module_version": "1.5.0",
            "description_tooltip": null,
            "_model_module": "@jupyter-widgets/controls",
            "layout": "IPY_MODEL_1e2e6b3643304dde987767b660dce9f8"
          }
        },
        "cd778674cc824ffab6cc91e06ebb1dda": {
          "model_module": "@jupyter-widgets/controls",
          "model_name": "FloatProgressModel",
          "model_module_version": "1.5.0",
          "state": {
            "_view_name": "ProgressView",
            "style": "IPY_MODEL_fcfb3d2a01b84f998ac8192db5cab490",
            "_dom_classes": [],
            "description": "",
            "_model_name": "FloatProgressModel",
            "bar_style": "success",
            "max": 4422102,
            "_view_module": "@jupyter-widgets/controls",
            "_model_module_version": "1.5.0",
            "value": 4422102,
            "_view_count": null,
            "_view_module_version": "1.5.0",
            "orientation": "horizontal",
            "min": 0,
            "description_tooltip": null,
            "_model_module": "@jupyter-widgets/controls",
            "layout": "IPY_MODEL_104ee45f2281486db110ac9f70022afe"
          }
        },
        "9b45eca02990469f82fd0c6919b34d3a": {
          "model_module": "@jupyter-widgets/controls",
          "model_name": "HTMLModel",
          "model_module_version": "1.5.0",
          "state": {
            "_view_name": "HTMLView",
            "style": "IPY_MODEL_819cfb994a044312a39fc26ac0ae5728",
            "_dom_classes": [],
            "description": "",
            "_model_name": "HTMLModel",
            "placeholder": "​",
            "_view_module": "@jupyter-widgets/controls",
            "_model_module_version": "1.5.0",
            "value": " 4422656/? [00:00&lt;00:00, 6338644.28it/s]",
            "_view_count": null,
            "_view_module_version": "1.5.0",
            "description_tooltip": null,
            "_model_module": "@jupyter-widgets/controls",
            "layout": "IPY_MODEL_d65e1c81fbef4eaa893d7629118212d3"
          }
        },
        "589296d041b94dc0ad999cf89c3a91ff": {
          "model_module": "@jupyter-widgets/controls",
          "model_name": "DescriptionStyleModel",
          "model_module_version": "1.5.0",
          "state": {
            "_view_name": "StyleView",
            "_model_name": "DescriptionStyleModel",
            "description_width": "",
            "_view_module": "@jupyter-widgets/base",
            "_model_module_version": "1.5.0",
            "_view_count": null,
            "_view_module_version": "1.2.0",
            "_model_module": "@jupyter-widgets/controls"
          }
        },
        "1e2e6b3643304dde987767b660dce9f8": {
          "model_module": "@jupyter-widgets/base",
          "model_name": "LayoutModel",
          "model_module_version": "1.2.0",
          "state": {
            "_view_name": "LayoutView",
            "grid_template_rows": null,
            "right": null,
            "justify_content": null,
            "_view_module": "@jupyter-widgets/base",
            "overflow": null,
            "_model_module_version": "1.2.0",
            "_view_count": null,
            "flex_flow": null,
            "width": null,
            "min_width": null,
            "border": null,
            "align_items": null,
            "bottom": null,
            "_model_module": "@jupyter-widgets/base",
            "top": null,
            "grid_column": null,
            "overflow_y": null,
            "overflow_x": null,
            "grid_auto_flow": null,
            "grid_area": null,
            "grid_template_columns": null,
            "flex": null,
            "_model_name": "LayoutModel",
            "justify_items": null,
            "grid_row": null,
            "max_height": null,
            "align_content": null,
            "visibility": null,
            "align_self": null,
            "height": null,
            "min_height": null,
            "padding": null,
            "grid_auto_rows": null,
            "grid_gap": null,
            "max_width": null,
            "order": null,
            "_view_module_version": "1.2.0",
            "grid_template_areas": null,
            "object_position": null,
            "object_fit": null,
            "grid_auto_columns": null,
            "margin": null,
            "display": null,
            "left": null
          }
        },
        "fcfb3d2a01b84f998ac8192db5cab490": {
          "model_module": "@jupyter-widgets/controls",
          "model_name": "ProgressStyleModel",
          "model_module_version": "1.5.0",
          "state": {
            "_view_name": "StyleView",
            "_model_name": "ProgressStyleModel",
            "description_width": "",
            "_view_module": "@jupyter-widgets/base",
            "_model_module_version": "1.5.0",
            "_view_count": null,
            "_view_module_version": "1.2.0",
            "bar_color": null,
            "_model_module": "@jupyter-widgets/controls"
          }
        },
        "104ee45f2281486db110ac9f70022afe": {
          "model_module": "@jupyter-widgets/base",
          "model_name": "LayoutModel",
          "model_module_version": "1.2.0",
          "state": {
            "_view_name": "LayoutView",
            "grid_template_rows": null,
            "right": null,
            "justify_content": null,
            "_view_module": "@jupyter-widgets/base",
            "overflow": null,
            "_model_module_version": "1.2.0",
            "_view_count": null,
            "flex_flow": null,
            "width": null,
            "min_width": null,
            "border": null,
            "align_items": null,
            "bottom": null,
            "_model_module": "@jupyter-widgets/base",
            "top": null,
            "grid_column": null,
            "overflow_y": null,
            "overflow_x": null,
            "grid_auto_flow": null,
            "grid_area": null,
            "grid_template_columns": null,
            "flex": null,
            "_model_name": "LayoutModel",
            "justify_items": null,
            "grid_row": null,
            "max_height": null,
            "align_content": null,
            "visibility": null,
            "align_self": null,
            "height": null,
            "min_height": null,
            "padding": null,
            "grid_auto_rows": null,
            "grid_gap": null,
            "max_width": null,
            "order": null,
            "_view_module_version": "1.2.0",
            "grid_template_areas": null,
            "object_position": null,
            "object_fit": null,
            "grid_auto_columns": null,
            "margin": null,
            "display": null,
            "left": null
          }
        },
        "819cfb994a044312a39fc26ac0ae5728": {
          "model_module": "@jupyter-widgets/controls",
          "model_name": "DescriptionStyleModel",
          "model_module_version": "1.5.0",
          "state": {
            "_view_name": "StyleView",
            "_model_name": "DescriptionStyleModel",
            "description_width": "",
            "_view_module": "@jupyter-widgets/base",
            "_model_module_version": "1.5.0",
            "_view_count": null,
            "_view_module_version": "1.2.0",
            "_model_module": "@jupyter-widgets/controls"
          }
        },
        "d65e1c81fbef4eaa893d7629118212d3": {
          "model_module": "@jupyter-widgets/base",
          "model_name": "LayoutModel",
          "model_module_version": "1.2.0",
          "state": {
            "_view_name": "LayoutView",
            "grid_template_rows": null,
            "right": null,
            "justify_content": null,
            "_view_module": "@jupyter-widgets/base",
            "overflow": null,
            "_model_module_version": "1.2.0",
            "_view_count": null,
            "flex_flow": null,
            "width": null,
            "min_width": null,
            "border": null,
            "align_items": null,
            "bottom": null,
            "_model_module": "@jupyter-widgets/base",
            "top": null,
            "grid_column": null,
            "overflow_y": null,
            "overflow_x": null,
            "grid_auto_flow": null,
            "grid_area": null,
            "grid_template_columns": null,
            "flex": null,
            "_model_name": "LayoutModel",
            "justify_items": null,
            "grid_row": null,
            "max_height": null,
            "align_content": null,
            "visibility": null,
            "align_self": null,
            "height": null,
            "min_height": null,
            "padding": null,
            "grid_auto_rows": null,
            "grid_gap": null,
            "max_width": null,
            "order": null,
            "_view_module_version": "1.2.0",
            "grid_template_areas": null,
            "object_position": null,
            "object_fit": null,
            "grid_auto_columns": null,
            "margin": null,
            "display": null,
            "left": null
          }
        },
        "e076062d91f140efb72672ff90713171": {
          "model_module": "@jupyter-widgets/controls",
          "model_name": "HBoxModel",
          "model_module_version": "1.5.0",
          "state": {
            "_view_name": "HBoxView",
            "_dom_classes": [],
            "_model_name": "HBoxModel",
            "_view_module": "@jupyter-widgets/controls",
            "_model_module_version": "1.5.0",
            "_view_count": null,
            "_view_module_version": "1.5.0",
            "box_style": "",
            "layout": "IPY_MODEL_00d2cbdf473d44de8e7f6d00800876d4",
            "_model_module": "@jupyter-widgets/controls",
            "children": [
              "IPY_MODEL_1e51e7001b0f443b92eba1866e679473",
              "IPY_MODEL_ad7d70a8250146878b3c796207e29ab2",
              "IPY_MODEL_b7a7aa1baf254c579e8d048923e44667"
            ]
          }
        },
        "00d2cbdf473d44de8e7f6d00800876d4": {
          "model_module": "@jupyter-widgets/base",
          "model_name": "LayoutModel",
          "model_module_version": "1.2.0",
          "state": {
            "_view_name": "LayoutView",
            "grid_template_rows": null,
            "right": null,
            "justify_content": null,
            "_view_module": "@jupyter-widgets/base",
            "overflow": null,
            "_model_module_version": "1.2.0",
            "_view_count": null,
            "flex_flow": null,
            "width": null,
            "min_width": null,
            "border": null,
            "align_items": null,
            "bottom": null,
            "_model_module": "@jupyter-widgets/base",
            "top": null,
            "grid_column": null,
            "overflow_y": null,
            "overflow_x": null,
            "grid_auto_flow": null,
            "grid_area": null,
            "grid_template_columns": null,
            "flex": null,
            "_model_name": "LayoutModel",
            "justify_items": null,
            "grid_row": null,
            "max_height": null,
            "align_content": null,
            "visibility": null,
            "align_self": null,
            "height": null,
            "min_height": null,
            "padding": null,
            "grid_auto_rows": null,
            "grid_gap": null,
            "max_width": null,
            "order": null,
            "_view_module_version": "1.2.0",
            "grid_template_areas": null,
            "object_position": null,
            "object_fit": null,
            "grid_auto_columns": null,
            "margin": null,
            "display": null,
            "left": null
          }
        },
        "1e51e7001b0f443b92eba1866e679473": {
          "model_module": "@jupyter-widgets/controls",
          "model_name": "HTMLModel",
          "model_module_version": "1.5.0",
          "state": {
            "_view_name": "HTMLView",
            "style": "IPY_MODEL_07a1909cf3fc4f49a781e9750cd1e567",
            "_dom_classes": [],
            "description": "",
            "_model_name": "HTMLModel",
            "placeholder": "​",
            "_view_module": "@jupyter-widgets/controls",
            "_model_module_version": "1.5.0",
            "value": "",
            "_view_count": null,
            "_view_module_version": "1.5.0",
            "description_tooltip": null,
            "_model_module": "@jupyter-widgets/controls",
            "layout": "IPY_MODEL_117e88044062448a82b4b822b52349ee"
          }
        },
        "ad7d70a8250146878b3c796207e29ab2": {
          "model_module": "@jupyter-widgets/controls",
          "model_name": "FloatProgressModel",
          "model_module_version": "1.5.0",
          "state": {
            "_view_name": "ProgressView",
            "style": "IPY_MODEL_cdcb9bd6d5174411802f0328bd2a91ba",
            "_dom_classes": [],
            "description": "",
            "_model_name": "FloatProgressModel",
            "bar_style": "success",
            "max": 5148,
            "_view_module": "@jupyter-widgets/controls",
            "_model_module_version": "1.5.0",
            "value": 5148,
            "_view_count": null,
            "_view_module_version": "1.5.0",
            "orientation": "horizontal",
            "min": 0,
            "description_tooltip": null,
            "_model_module": "@jupyter-widgets/controls",
            "layout": "IPY_MODEL_6ead3b854d054c74822a8307382c93e6"
          }
        },
        "b7a7aa1baf254c579e8d048923e44667": {
          "model_module": "@jupyter-widgets/controls",
          "model_name": "HTMLModel",
          "model_module_version": "1.5.0",
          "state": {
            "_view_name": "HTMLView",
            "style": "IPY_MODEL_cee6deecd5b9419882c339093046e3b6",
            "_dom_classes": [],
            "description": "",
            "_model_name": "HTMLModel",
            "placeholder": "​",
            "_view_module": "@jupyter-widgets/controls",
            "_model_module_version": "1.5.0",
            "value": " 6144/? [00:00&lt;00:00, 6441.95it/s]",
            "_view_count": null,
            "_view_module_version": "1.5.0",
            "description_tooltip": null,
            "_model_module": "@jupyter-widgets/controls",
            "layout": "IPY_MODEL_84be927e068a4046ae9460b9d4dbbedc"
          }
        },
        "07a1909cf3fc4f49a781e9750cd1e567": {
          "model_module": "@jupyter-widgets/controls",
          "model_name": "DescriptionStyleModel",
          "model_module_version": "1.5.0",
          "state": {
            "_view_name": "StyleView",
            "_model_name": "DescriptionStyleModel",
            "description_width": "",
            "_view_module": "@jupyter-widgets/base",
            "_model_module_version": "1.5.0",
            "_view_count": null,
            "_view_module_version": "1.2.0",
            "_model_module": "@jupyter-widgets/controls"
          }
        },
        "117e88044062448a82b4b822b52349ee": {
          "model_module": "@jupyter-widgets/base",
          "model_name": "LayoutModel",
          "model_module_version": "1.2.0",
          "state": {
            "_view_name": "LayoutView",
            "grid_template_rows": null,
            "right": null,
            "justify_content": null,
            "_view_module": "@jupyter-widgets/base",
            "overflow": null,
            "_model_module_version": "1.2.0",
            "_view_count": null,
            "flex_flow": null,
            "width": null,
            "min_width": null,
            "border": null,
            "align_items": null,
            "bottom": null,
            "_model_module": "@jupyter-widgets/base",
            "top": null,
            "grid_column": null,
            "overflow_y": null,
            "overflow_x": null,
            "grid_auto_flow": null,
            "grid_area": null,
            "grid_template_columns": null,
            "flex": null,
            "_model_name": "LayoutModel",
            "justify_items": null,
            "grid_row": null,
            "max_height": null,
            "align_content": null,
            "visibility": null,
            "align_self": null,
            "height": null,
            "min_height": null,
            "padding": null,
            "grid_auto_rows": null,
            "grid_gap": null,
            "max_width": null,
            "order": null,
            "_view_module_version": "1.2.0",
            "grid_template_areas": null,
            "object_position": null,
            "object_fit": null,
            "grid_auto_columns": null,
            "margin": null,
            "display": null,
            "left": null
          }
        },
        "cdcb9bd6d5174411802f0328bd2a91ba": {
          "model_module": "@jupyter-widgets/controls",
          "model_name": "ProgressStyleModel",
          "model_module_version": "1.5.0",
          "state": {
            "_view_name": "StyleView",
            "_model_name": "ProgressStyleModel",
            "description_width": "",
            "_view_module": "@jupyter-widgets/base",
            "_model_module_version": "1.5.0",
            "_view_count": null,
            "_view_module_version": "1.2.0",
            "bar_color": null,
            "_model_module": "@jupyter-widgets/controls"
          }
        },
        "6ead3b854d054c74822a8307382c93e6": {
          "model_module": "@jupyter-widgets/base",
          "model_name": "LayoutModel",
          "model_module_version": "1.2.0",
          "state": {
            "_view_name": "LayoutView",
            "grid_template_rows": null,
            "right": null,
            "justify_content": null,
            "_view_module": "@jupyter-widgets/base",
            "overflow": null,
            "_model_module_version": "1.2.0",
            "_view_count": null,
            "flex_flow": null,
            "width": null,
            "min_width": null,
            "border": null,
            "align_items": null,
            "bottom": null,
            "_model_module": "@jupyter-widgets/base",
            "top": null,
            "grid_column": null,
            "overflow_y": null,
            "overflow_x": null,
            "grid_auto_flow": null,
            "grid_area": null,
            "grid_template_columns": null,
            "flex": null,
            "_model_name": "LayoutModel",
            "justify_items": null,
            "grid_row": null,
            "max_height": null,
            "align_content": null,
            "visibility": null,
            "align_self": null,
            "height": null,
            "min_height": null,
            "padding": null,
            "grid_auto_rows": null,
            "grid_gap": null,
            "max_width": null,
            "order": null,
            "_view_module_version": "1.2.0",
            "grid_template_areas": null,
            "object_position": null,
            "object_fit": null,
            "grid_auto_columns": null,
            "margin": null,
            "display": null,
            "left": null
          }
        },
        "cee6deecd5b9419882c339093046e3b6": {
          "model_module": "@jupyter-widgets/controls",
          "model_name": "DescriptionStyleModel",
          "model_module_version": "1.5.0",
          "state": {
            "_view_name": "StyleView",
            "_model_name": "DescriptionStyleModel",
            "description_width": "",
            "_view_module": "@jupyter-widgets/base",
            "_model_module_version": "1.5.0",
            "_view_count": null,
            "_view_module_version": "1.2.0",
            "_model_module": "@jupyter-widgets/controls"
          }
        },
        "84be927e068a4046ae9460b9d4dbbedc": {
          "model_module": "@jupyter-widgets/base",
          "model_name": "LayoutModel",
          "model_module_version": "1.2.0",
          "state": {
            "_view_name": "LayoutView",
            "grid_template_rows": null,
            "right": null,
            "justify_content": null,
            "_view_module": "@jupyter-widgets/base",
            "overflow": null,
            "_model_module_version": "1.2.0",
            "_view_count": null,
            "flex_flow": null,
            "width": null,
            "min_width": null,
            "border": null,
            "align_items": null,
            "bottom": null,
            "_model_module": "@jupyter-widgets/base",
            "top": null,
            "grid_column": null,
            "overflow_y": null,
            "overflow_x": null,
            "grid_auto_flow": null,
            "grid_area": null,
            "grid_template_columns": null,
            "flex": null,
            "_model_name": "LayoutModel",
            "justify_items": null,
            "grid_row": null,
            "max_height": null,
            "align_content": null,
            "visibility": null,
            "align_self": null,
            "height": null,
            "min_height": null,
            "padding": null,
            "grid_auto_rows": null,
            "grid_gap": null,
            "max_width": null,
            "order": null,
            "_view_module_version": "1.2.0",
            "grid_template_areas": null,
            "object_position": null,
            "object_fit": null,
            "grid_auto_columns": null,
            "margin": null,
            "display": null,
            "left": null
          }
        }
      }
    }
  },
  "cells": [
    {
      "cell_type": "markdown",
      "metadata": {
        "id": "view-in-github",
        "colab_type": "text"
      },
      "source": [
        "<a href=\"https://colab.research.google.com/github/orlandxrf/curso-dl/blob/main/notebooks/6c_CNN_MNIST_dataset.ipynb\" target=\"_parent\"><img src=\"https://colab.research.google.com/assets/colab-badge.svg\" alt=\"Open In Colab\"/></a>"
      ]
    },
    {
      "cell_type": "markdown",
      "source": [
        "# Red Convolucional con el Conjunto MNIST"
      ],
      "metadata": {
        "id": "kfrj6jUP95Vh"
      }
    },
    {
      "cell_type": "code",
      "execution_count": null,
      "metadata": {
        "id": "fwzWuKW6dQ-t"
      },
      "outputs": [],
      "source": [
        "# bibliotecas empleadas\n",
        "import matplotlib.pyplot as plt\n",
        "\n",
        "import numpy as np\n",
        "\n",
        "import torch\n",
        "import torch.nn as nn\n",
        "import torch.optim as optim\n",
        "# from torch.utils.data import Dataset, DataLoader, TensorDataset, SubsetRandomSampler, ConcatDataset\n",
        "from torch.nn import functional as F\n",
        "\n",
        "# torchvision contiene conjuntos de datos populares, arquitecturas de modelos famosos y transformaciones de imágenes comunes\n",
        "import torchvision \n",
        "\n",
        "# !pip install torchsummary\n",
        "from torchsummary import summary\n"
      ]
    },
    {
      "cell_type": "markdown",
      "source": [
        "## Trabajar con el conjunto de datos Fashion-MNIST\n",
        "### Como crear una imagen con la bliblioteca `pillow` (`PIL`)"
      ],
      "metadata": {
        "id": "7YByQqM7-X6o"
      }
    },
    {
      "cell_type": "code",
      "source": [
        "from PIL import Image\n",
        "\n",
        "img  = Image.new(mode=\"L\", size=(28,28))\n",
        "plt.imshow(img)\n",
        "print ('\\n')\n"
      ],
      "metadata": {
        "colab": {
          "base_uri": "https://localhost:8080/",
          "height": 300
        },
        "id": "f-uQ8O6faq9Z",
        "outputId": "2a1c492d-e83d-4d05-e574-2a312e2162f3"
      },
      "execution_count": null,
      "outputs": [
        {
          "output_type": "stream",
          "name": "stdout",
          "text": [
            "\n",
            "\n"
          ]
        },
        {
          "output_type": "display_data",
          "data": {
            "image/png": "[encoded data removed]",
            "text/plain": [
              "<Figure size 432x288 with 1 Axes>"
            ]
          },
          "metadata": {
            "needs_background": "light"
          }
        }
      ]
    },
    {
      "cell_type": "markdown",
      "source": [
        "### Descargar el dataset Fashion-MNIST"
      ],
      "metadata": {
        "id": "mv6XjAeNhMGw"
      }
    },
    {
      "cell_type": "code",
      "source": [
        "dataset_path = 'data'\n",
        "train_dataset = torchvision.datasets.FashionMNIST(dataset_path, train=True, download=True)\n",
        "test_dataset  = torchvision.datasets.FashionMNIST(dataset_path, train=False, download=True)\n",
        "\n",
        "print (f\"longitud del conjunto de entrenamiento {len(train_dataset):,}\")\n",
        "print (f\"longitud del conjunto de prueba {len(test_dataset):,}\\n\")\n",
        "\n",
        "print (train_dataset[0])\n",
        "print (train_dataset[0][0])\n",
        "\n",
        "plt.imshow(train_dataset[10][0])"
      ],
      "metadata": {
        "colab": {
          "base_uri": "https://localhost:8080/",
          "height": 775,
          "referenced_widgets": [
            "a6a3f9ceb01c46fab80674f0eb40c0e0",
            "bdf8aad256494d9dabef57a73428162f",
            "260ec86a60154191a2576a8a9ada954d",
            "517181ee428b47b4954ce4b7929ddc9a",
            "1da55b737bdc4541a0c7fab1bc2427f2",
            "dc13483154c842f3b52fbaa7f0986ae2",
            "d10060dbe5244a20baa47612cc216dae",
            "377f33fa77174c92aeff9f689bf5539a",
            "1841c2b496724e818fc2ec1f980deb34",
            "94718e6af4e04068895f01a37a61332c",
            "eae7ace0318f4f078a11fa3bc958ee36",
            "d1c72a733a254d469c509fb6638ddcb1",
            "858689120bd2456a8490bb54175e354a",
            "a569c89c2a30401eb3aacf8a79882a3e",
            "ed444b0e70614a2eb12dc6a33b6e2927",
            "be25ea6ffee148cea9128bbca58f0174",
            "b333d3a2528a401f9e1c39e7c9cfaae5",
            "28d720621b0b4169bcc0f272b0f5f9c3",
            "05af19bbc9ee4ade931acfd51e7945ce",
            "966bc0a874424dc2a645b022b58ad815",
            "b470dc49b5e1499d909342e5ff4b8c73",
            "92b74dd3ece645e98895dd5b398002ec",
            "89ff3996f1904bef80eadcb56a93ff85",
            "fb29be4ba9014f1d913830d179a08a1b",
            "b3d1c04d4d3247559f2e0c5cef46b3c3",
            "cd778674cc824ffab6cc91e06ebb1dda",
            "9b45eca02990469f82fd0c6919b34d3a",
            "589296d041b94dc0ad999cf89c3a91ff",
            "1e2e6b3643304dde987767b660dce9f8",
            "fcfb3d2a01b84f998ac8192db5cab490",
            "104ee45f2281486db110ac9f70022afe",
            "819cfb994a044312a39fc26ac0ae5728",
            "d65e1c81fbef4eaa893d7629118212d3",
            "e076062d91f140efb72672ff90713171",
            "00d2cbdf473d44de8e7f6d00800876d4",
            "1e51e7001b0f443b92eba1866e679473",
            "ad7d70a8250146878b3c796207e29ab2",
            "b7a7aa1baf254c579e8d048923e44667",
            "07a1909cf3fc4f49a781e9750cd1e567",
            "117e88044062448a82b4b822b52349ee",
            "cdcb9bd6d5174411802f0328bd2a91ba",
            "6ead3b854d054c74822a8307382c93e6",
            "cee6deecd5b9419882c339093046e3b6",
            "84be927e068a4046ae9460b9d4dbbedc"
          ]
        },
        "id": "8pGAdidZeQb9",
        "outputId": "017230bc-2985-42d9-e18f-7de58be4a78d"
      },
      "execution_count": null,
      "outputs": [
        {
          "output_type": "stream",
          "name": "stdout",
          "text": [
            "Downloading http://fashion-mnist.s3-website.eu-central-1.amazonaws.com/train-images-idx3-ubyte.gz\n",
            "Downloading http://fashion-mnist.s3-website.eu-central-1.amazonaws.com/train-images-idx3-ubyte.gz to data/FashionMNIST/raw/train-images-idx3-ubyte.gz\n"
          ]
        },
        {
          "output_type": "display_data",
          "data": {
            "application/vnd.jupyter.widget-view+json": {
              "model_id": "a6a3f9ceb01c46fab80674f0eb40c0e0",
              "version_minor": 0,
              "version_major": 2
            },
            "text/plain": [
              "  0%|          | 0/26421880 [00:00<?, ?it/s]"
            ]
          },
          "metadata": {}
        },
        {
          "output_type": "stream",
          "name": "stdout",
          "text": [
            "Extracting data/FashionMNIST/raw/train-images-idx3-ubyte.gz to data/FashionMNIST/raw\n",
            "\n",
            "Downloading http://fashion-mnist.s3-website.eu-central-1.amazonaws.com/train-labels-idx1-ubyte.gz\n",
            "Downloading http://fashion-mnist.s3-website.eu-central-1.amazonaws.com/train-labels-idx1-ubyte.gz to data/FashionMNIST/raw/train-labels-idx1-ubyte.gz\n"
          ]
        },
        {
          "output_type": "display_data",
          "data": {
            "application/vnd.jupyter.widget-view+json": {
              "model_id": "d1c72a733a254d469c509fb6638ddcb1",
              "version_minor": 0,
              "version_major": 2
            },
            "text/plain": [
              "  0%|          | 0/29515 [00:00<?, ?it/s]"
            ]
          },
          "metadata": {}
        },
        {
          "output_type": "stream",
          "name": "stdout",
          "text": [
            "Extracting data/FashionMNIST/raw/train-labels-idx1-ubyte.gz to data/FashionMNIST/raw\n",
            "\n",
            "Downloading http://fashion-mnist.s3-website.eu-central-1.amazonaws.com/t10k-images-idx3-ubyte.gz\n",
            "Downloading http://fashion-mnist.s3-website.eu-central-1.amazonaws.com/t10k-images-idx3-ubyte.gz to data/FashionMNIST/raw/t10k-images-idx3-ubyte.gz\n"
          ]
        },
        {
          "output_type": "display_data",
          "data": {
            "application/vnd.jupyter.widget-view+json": {
              "model_id": "89ff3996f1904bef80eadcb56a93ff85",
              "version_minor": 0,
              "version_major": 2
            },
            "text/plain": [
              "  0%|          | 0/4422102 [00:00<?, ?it/s]"
            ]
          },
          "metadata": {}
        },
        {
          "output_type": "stream",
          "name": "stdout",
          "text": [
            "Extracting data/FashionMNIST/raw/t10k-images-idx3-ubyte.gz to data/FashionMNIST/raw\n",
            "\n",
            "Downloading http://fashion-mnist.s3-website.eu-central-1.amazonaws.com/t10k-labels-idx1-ubyte.gz\n",
            "Downloading http://fashion-mnist.s3-website.eu-central-1.amazonaws.com/t10k-labels-idx1-ubyte.gz to data/FashionMNIST/raw/t10k-labels-idx1-ubyte.gz\n"
          ]
        },
        {
          "output_type": "display_data",
          "data": {
            "application/vnd.jupyter.widget-view+json": {
              "model_id": "e076062d91f140efb72672ff90713171",
              "version_minor": 0,
              "version_major": 2
            },
            "text/plain": [
              "  0%|          | 0/5148 [00:00<?, ?it/s]"
            ]
          },
          "metadata": {}
        },
        {
          "output_type": "stream",
          "name": "stdout",
          "text": [
            "Extracting data/FashionMNIST/raw/t10k-labels-idx1-ubyte.gz to data/FashionMNIST/raw\n",
            "\n",
            "longitud del conjunto de entrenamiento 60,000\n",
            "longitud del conjunto de prueba 10,000\n",
            "\n",
            "(<PIL.Image.Image image mode=L size=28x28 at 0x7FAF1514AB10>, 9)\n",
            "<PIL.Image.Image image mode=L size=28x28 at 0x7FAE1055B6D0>\n"
          ]
        },
        {
          "output_type": "execute_result",
          "data": {
            "text/plain": [
              "<matplotlib.image.AxesImage at 0x7fae10e08810>"
            ]
          },
          "metadata": {},
          "execution_count": 3
        },
        {
          "output_type": "display_data",
          "data": {
            "image/png": "[encoded data removed]",
            "text/plain": [
              "<Figure size 432x288 with 1 Axes>"
            ]
          },
          "metadata": {
            "needs_background": "light"
          }
        }
      ]
    },
    {
      "cell_type": "markdown",
      "source": [
        "### Transformar la imagen a tensores\n",
        "La función `torchvision.Compose` crea una serie de transformaciones para preparar nuestro conjunto de datos.<br>\n",
        "<br>\n",
        "La función `torchvision.transforms.ToTenser` convierte una imagen `PIL` (L, LA, P, I, F, RGB, YCbCr, RGBA, CMYK, 1) o `numpy.ndarray` (H x W x C) en el rango `[0, 255]` a un `torch.FloatTensor` de forma Canal, Alto, Ancho (C x H x W) en el rango `[0.0, 1.0]`.\n"
      ],
      "metadata": {
        "id": "YiRNZk6AhWnm"
      }
    },
    {
      "cell_type": "code",
      "source": [
        "transform = torchvision.transforms.Compose([\n",
        "  torchvision.transforms.ToTensor(),                                 \n",
        "])\n",
        "\n",
        "# transformar el conjunto de imágenes a tensores\n",
        "train_dataset.transform = transform\n",
        "test_dataset.transform = transform\n",
        "\n",
        "print (f\"longitud del conjunto de entrenamiento {len(train_dataset):,}\")\n",
        "print (f\"longitud del conjunto de prueba {len(test_dataset):,}\\n\")\n",
        "\n",
        "print (train_dataset.data.size())\n",
        "print (test_dataset.data.size())\n",
        "\n",
        "\n",
        "labels = {\n",
        "  0: \"T-Shirt\",\n",
        "  1: \"Trouser\",\n",
        "  2: \"Pullover\",\n",
        "  3: \"Dress\",\n",
        "  4: \"Coat\",\n",
        "  5: \"Sandal\",\n",
        "  6: \"Shirt\",\n",
        "  7: \"Sneaker\",\n",
        "  8: \"Bag\",\n",
        "  9: \"Ankle Boot\"\n",
        "}\n",
        "print (f'\\nEtiquetas (Clases): {labels}')"
      ],
      "metadata": {
        "colab": {
          "base_uri": "https://localhost:8080/"
        },
        "id": "rAu-vgNlEwSH",
        "outputId": "d9cf2190-5d4c-49d3-9e8f-d07320b27e64"
      },
      "execution_count": null,
      "outputs": [
        {
          "output_type": "stream",
          "name": "stdout",
          "text": [
            "longitud del conjunto de entrenamiento 60,000\n",
            "longitud del conjunto de prueba 10,000\n",
            "\n",
            "torch.Size([60000, 28, 28])\n",
            "torch.Size([10000, 28, 28])\n",
            "\n",
            "Etiquetas (Clases): {0: 'T-Shirt', 1: 'Trouser', 2: 'Pullover', 3: 'Dress', 4: 'Coat', 5: 'Sandal', 6: 'Shirt', 7: 'Sneaker', 8: 'Bag', 9: 'Ankle Boot'}\n"
          ]
        }
      ]
    },
    {
      "cell_type": "code",
      "source": [
        "img, label = train_dataset[10]\n",
        "plt.title(f'{label}:{labels[label]}')\n",
        "# plt.axis(\"off\") # no mostrar los ejes\n",
        "# visualizar [channel, height, width]\n",
        "print (f\"Shape img: {img.size()}\")\n",
        "# remover el canal\n",
        "print (f\"Shape img: {img.squeeze().size()}\")\n",
        "plt.imshow(img.squeeze(), cmap=\"gray\")\n",
        "plt.show()\n"
      ],
      "metadata": {
        "colab": {
          "base_uri": "https://localhost:8080/",
          "height": 316
        },
        "id": "vFySkm6YJ_5z",
        "outputId": "17564486-b271-474e-a2f4-05caf9e6796b"
      },
      "execution_count": null,
      "outputs": [
        {
          "output_type": "stream",
          "name": "stdout",
          "text": [
            "Shape img: torch.Size([1, 28, 28])\n",
            "Shape img: torch.Size([28, 28])\n"
          ]
        },
        {
          "output_type": "display_data",
          "data": {
            "image/png": "[encoded data removed]",
            "text/plain": [
              "<Figure size 432x288 with 1 Axes>"
            ]
          },
          "metadata": {
            "needs_background": "light"
          }
        }
      ]
    },
    {
      "cell_type": "markdown",
      "source": [
        "### Random Split\n",
        "---\n",
        "la función [`random_split(dataset, lengths)`](https://pytorch.org/docs/stable/data.html#torch.utils.data.random_split) divide aleatoriamente un conjunto de datos en nuevos conjuntos de datos de longitudes dadas que no se superponen.<br>\n",
        "\n",
        "Si se desea crear conjuntos de validación a partir del conjunto de entrenamiento, esto se puede manejar fácilmente usando la función `random_split` de las utilidades de datos de `PyTorch`. La función `random_split` toma un conjunto de datos y los tamaños deseados de los subconjuntos en una lista y divide automáticamente los datos en un orden aleatorio para generar objetos de conjunto de datos más pequeños que se pueden usar de inmediato con DataLoader.\n",
        "<br>\n",
        "`random_split` funciona directamente en el conjunto de datos. La función espera 2 argumentos de entrada. El primer argumento es el conjunto de datos. El segundo es una tupla de longitudes. Si queremos dividir nuestro conjunto de datos en 2 partes, proporcionaremos una tupla con 2 números. Estos números son los tamaños de los conjuntos de datos correspondientes después de la división.\n"
      ],
      "metadata": {
        "id": "e382coUx-86t"
      }
    },
    {
      "cell_type": "code",
      "source": [
        "# ejemplo de como funciona random_split\n",
        "from torch.utils.data import random_split\n",
        "\n",
        "# torch.manual_seed(0)\n",
        "\n",
        "my_dataset_X = [i for i in range(10)]\n",
        "\n",
        "print (f\"dataset_original: {my_dataset_X}\")\n",
        "\n",
        "my_dataset_X, my_dataset_V = random_split(my_dataset_X, (7, 3)) # 3 + 7 = 10\n",
        "\n",
        "print (f\"dataset_entrenamiento: {list(my_dataset_X)}\")\n",
        "print (f\"dataset_validación: {list(my_dataset_V)}\")\n"
      ],
      "metadata": {
        "colab": {
          "base_uri": "https://localhost:8080/"
        },
        "id": "ohtFi5NsE6BT",
        "outputId": "392eca04-5d07-424f-ff73-50ef890f9cbb"
      },
      "execution_count": null,
      "outputs": [
        {
          "output_type": "stream",
          "name": "stdout",
          "text": [
            "dataset_original: [0, 1, 2, 3, 4, 5, 6, 7, 8, 9]\n",
            "dataset_entrenamiento: [9, 3, 1, 4, 2, 8, 5]\n",
            "dataset_validación: [0, 6, 7]\n"
          ]
        }
      ]
    },
    {
      "cell_type": "markdown",
      "source": [
        "---\n",
        "### Obtener el conjunto de validación a partir del conjunto de entrenamiento"
      ],
      "metadata": {
        "id": "6FastJtPrEJ1"
      }
    },
    {
      "cell_type": "code",
      "source": [
        "# seleccionar \n",
        "train_data, val_data = random_split(train_dataset, (48000, 12000)) # 48,000 + 12,000 = 60,000\n",
        "\n",
        "print (f\"longitud del conjunto de entrenamiento {len(train_data):,}\")\n",
        "print (f\"longitud del conjunto de prueba {len(val_data):,}\")\n"
      ],
      "metadata": {
        "colab": {
          "base_uri": "https://localhost:8080/"
        },
        "id": "kwVwzn3K_F8S",
        "outputId": "281a4df3-01c8-4e72-8eb7-5059be11b0d5"
      },
      "execution_count": null,
      "outputs": [
        {
          "output_type": "stream",
          "name": "stdout",
          "text": [
            "longitud del conjunto de entrenamiento 48,000\n",
            "longitud del conjunto de prueba 12,000\n"
          ]
        }
      ]
    },
    {
      "cell_type": "markdown",
      "source": [
        "### Definir los cargadores para los conjuntos de datos y el número de batches"
      ],
      "metadata": {
        "id": "d-XqXg1Qrn2l"
      }
    },
    {
      "cell_type": "code",
      "source": [
        "from torch.utils.data import DataLoader\n",
        "\n",
        "batch_size = 128\n",
        "\n",
        "train_loader = DataLoader(train_data, batch_size=batch_size)\n",
        "valid_loader = DataLoader(val_data, batch_size=batch_size)\n",
        "test_loader = DataLoader(test_dataset, batch_size=batch_size)\n",
        "\n",
        "print(f\"Número de batches en train_loader: {len(train_loader):,}\")\n",
        "print(f\"Número de batches en valid_loader: {len(valid_loader):,}\")\n",
        "print(f\"Número de batches en test_loader: {len(test_loader):,}\\n\")\n",
        "\n",
        "print(f\"Número de muestras en train_loader: {len(train_loader.sampler):,}\")\n",
        "print(f\"Número de muestras en valid_loader: {len(valid_loader.sampler):,}\")\n",
        "print(f\"Número de muestras en test_loader: {len(test_loader.sampler):,}\")"
      ],
      "metadata": {
        "colab": {
          "base_uri": "https://localhost:8080/"
        },
        "id": "QiGWX00vrzJK",
        "outputId": "646f44ff-3b12-4a0e-8fc4-1b87312b7d7a"
      },
      "execution_count": null,
      "outputs": [
        {
          "output_type": "stream",
          "name": "stdout",
          "text": [
            "Número de batches en train_loader: 375\n",
            "Número de batches en valid_loader: 94\n",
            "Número de batches en test_loader: 79\n",
            "\n",
            "Número de muestras en train_loader: 48,000\n",
            "Número de muestras en valid_loader: 12,000\n",
            "Número de muestras en test_loader: 10,000\n"
          ]
        }
      ]
    },
    {
      "cell_type": "markdown",
      "source": [
        "## Definir la Red Convolucional\n",
        "La red que definiremos tendrá dos capas convolucionales (CNN) y dos capas completamente conectadas (FC). Cada capa de convolución es seguida por la función de activación ReLU, posteriormente los resultados se pasan a una capa de agrupamiento.<br>\n",
        "<br>\n",
        "La función de vista remodela los datos en una matriz unidimensional, que se pasará a la capa lineal. La segunda capa completamente conectada, también llamada capa de salida, clasificará la imagen como uno de los 10 dígitos.<br>\n",
        "<br>\n",
        "\n",
        "\n",
        "![RedCNN](https://drive.google.com/uc?id=10uMS9_9qmV4gNxeWmAIrOc6M5KTCked8)\n",
        "<br>\n",
        "<br>\n",
        "La Figura se generó en [http://alexlenail.me/NN-SVG/LeNet.html](http://alexlenail.me/NN-SVG/LeNet.html)"
      ],
      "metadata": {
        "id": "-Ode3bmOuuCE"
      }
    },
    {
      "cell_type": "code",
      "source": [
        "class ConvNet(nn.Module):\n",
        "  def __init__(self, hidden_layer=100):\n",
        "    super(ConvNet, self).__init__()\n",
        "\n",
        "    # definimos las capas de convolución (CNN)\n",
        "    self.conv1 = nn.Conv2d(in_channels=1, out_channels=16, kernel_size=5, stride=1, padding=2)\n",
        "    self.conv2 = nn.Conv2d(in_channels=16, out_channels=32, kernel_size=5, stride=1, padding=2)\n",
        "\n",
        "    # definimos las capas lineales (FC)\n",
        "    self.fc1 = nn.Linear(32 * 7 * 7, hidden_layer) \n",
        "    self.fc2 = nn.Linear(hidden_layer, 10)\n",
        "    \n",
        "    # ((input_h - kernel_h + 2 * padding_h) / stride_h) + 1\n",
        "\n",
        "  def forward(self, x):\n",
        "    # definimos el agrupamiento para la primera convolución\n",
        "    out = self.conv1(x) # (1, 28, 28)   ((28-5 + 2*2) / 1) + 1 = [128, 16, 28, 28] # height \n",
        "\n",
        "    # aplicamos la operación de agrupamiento máximo\n",
        "    # pytorch docs: stride -> the stride of the window. Default value is kernel_size\n",
        "    max_pool1 = F.max_pool2d(out, kernel_size=2) # (28, 28) = ((28-2 + 2*0)/2)+1 = 14 = [128, 16, 14, 14]  \n",
        "    \n",
        "    # aplicamos la función ReLU al agrupamiento obtenido\n",
        "    out = F.relu(max_pool1) # [128, 16, 14, 14]\n",
        "  \n",
        "    # definimos el agrupamiento para la segunda convolución\n",
        "    out = self.conv2(out) #  [128, 32, 14, 14]\n",
        "\n",
        "    # aplicamos la operación de agrupamiento máximo\n",
        "    max_pool2 = F.max_pool2d(out, kernel_size=2) # [128, 32, 7, 7]\n",
        "    \n",
        "    # aplicamos la función ReLU al agrupamiento obtenido\n",
        "    out = F.relu(max_pool2) # \n",
        "\n",
        "    # aplanar (flatenning) [128, 32, 7, 7]\n",
        "    out = out.view(out.size(0), -1) # [128, 1568]\n",
        "    \n",
        "    out = F.relu(self.fc1(out))\n",
        "    # out = self.drop2(out)\n",
        "\n",
        "    # La segunda capa (salida), clasificará la imagen en uno de los 10 dígitos (clases)\n",
        "    return self.fc2(out)\n",
        "  \n",
        "print (ConvNet())"
      ],
      "metadata": {
        "colab": {
          "base_uri": "https://localhost:8080/"
        },
        "id": "C7l4sJXlu1uO",
        "outputId": "f40a942b-1705-4d8d-f867-b93a67f696ee"
      },
      "execution_count": null,
      "outputs": [
        {
          "output_type": "stream",
          "name": "stdout",
          "text": [
            "ConvNet(\n",
            "  (conv1): Conv2d(1, 16, kernel_size=(5, 5), stride=(1, 1), padding=(2, 2))\n",
            "  (conv2): Conv2d(16, 32, kernel_size=(5, 5), stride=(1, 1), padding=(2, 2))\n",
            "  (fc1): Linear(in_features=1568, out_features=100, bias=True)\n",
            "  (fc2): Linear(in_features=100, out_features=10, bias=True)\n",
            ")\n"
          ]
        }
      ]
    },
    {
      "cell_type": "markdown",
      "source": [
        "## Entrenamiento\n",
        "Para entrenar la red CNN podemos definir el `torch.device` para entrenar el modelo con un acelerador de hardware como la GPU si se dispone o en caso contrario con CPU.\n"
      ],
      "metadata": {
        "id": "eGHm1Rqa1LWk"
      }
    },
    {
      "cell_type": "code",
      "source": [
        "# device = torch.device(\"gpu\" if torch.cuda.is_available() else \"cpu\")\n",
        "device = torch.device(\"cuda\" if torch.cuda.is_available() else \"cpu\")\n",
        "\n",
        "print (f\"Hardware disponible: {device}\\n\")\n",
        "\n",
        "# fijar valor\n",
        "torch.manual_seed(0)\n",
        "\n",
        "# instanciar la CNN en la variable \"modelo\"\n",
        "model = ConvNet()\n",
        "\n",
        "# establecer el hardware actual\n",
        "print (model.to(device))\n",
        "\n",
        "# definir el optimizador\n",
        "optimizer = optim.Adam(model.parameters(), lr=0.002)\n",
        "\n",
        "# definir la función de error\n",
        "loss_function = nn.CrossEntropyLoss()\n",
        "\n",
        "print ('\\n')\n",
        "\n",
        "print (summary(model, input_size=(1, 28, 28)))"
      ],
      "metadata": {
        "colab": {
          "base_uri": "https://localhost:8080/"
        },
        "id": "EREtmums1J7K",
        "outputId": "0f685eac-63dc-42ff-bc77-52f353afa0ea"
      },
      "execution_count": null,
      "outputs": [
        {
          "output_type": "stream",
          "name": "stdout",
          "text": [
            "Hardware disponible: cpu\n",
            "\n",
            "ConvNet(\n",
            "  (conv1): Conv2d(1, 16, kernel_size=(5, 5), stride=(1, 1), padding=(2, 2))\n",
            "  (conv2): Conv2d(16, 32, kernel_size=(5, 5), stride=(1, 1), padding=(2, 2))\n",
            "  (fc1): Linear(in_features=1568, out_features=100, bias=True)\n",
            "  (fc2): Linear(in_features=100, out_features=10, bias=True)\n",
            ")\n",
            "\n",
            "\n",
            "----------------------------------------------------------------\n",
            "        Layer (type)               Output Shape         Param #\n",
            "================================================================\n",
            "            Conv2d-1           [-1, 16, 28, 28]             416\n",
            "            Conv2d-2           [-1, 32, 14, 14]          12,832\n",
            "            Linear-3                  [-1, 100]         156,900\n",
            "            Linear-4                   [-1, 10]           1,010\n",
            "================================================================\n",
            "Total params: 171,158\n",
            "Trainable params: 171,158\n",
            "Non-trainable params: 0\n",
            "----------------------------------------------------------------\n",
            "Input size (MB): 0.00\n",
            "Forward/backward pass size (MB): 0.14\n",
            "Params size (MB): 0.65\n",
            "Estimated Total Size (MB): 0.80\n",
            "----------------------------------------------------------------\n",
            "None\n"
          ]
        }
      ]
    },
    {
      "cell_type": "code",
      "source": [
        "history={\n",
        "  'train_loss': [],\n",
        "  'valid_loss': [],\n",
        "  'train_acc': [],\n",
        "  'valid_acc': []\n",
        "}\n",
        "\n",
        "EPOCHS = 10\n",
        "\n",
        "for epoch in range(EPOCHS):\n",
        "  train_loss, train_correct = 0.0, 0\n",
        "\n",
        "  # indicamos que se calculará el gradiente (Entrenamiento) \n",
        "  model.train()\n",
        "\n",
        "  # recorremos el conjunto de entrenamiento en los batches definidos\n",
        "  for images, labels in train_loader:\n",
        "\n",
        "    # images.size() = [128, 1, 28, 28]\n",
        "    # labels = [128]\n",
        "\n",
        "    # definir el hardware disponible a las imágenes y a las clases\n",
        "    images,labels = images.to(device), labels.to(device)\n",
        "    \n",
        "    optimizer.zero_grad()\n",
        "\n",
        "    output = model(images)\n",
        "    loss = loss_function(output,labels)\n",
        "    loss.backward()\n",
        "    optimizer.step()\n",
        "    train_loss += loss.item() * images.size(0)\n",
        "    scores, predictions = torch.max(output.data, 1)\n",
        "    train_correct += (predictions == labels).sum().item()    \n",
        "    \n",
        "  valid_loss, val_correct = 0.0, 0\n",
        "\n",
        "  # indicamos que no se calculará el gradiente (Validación) \n",
        "  model.eval()\n",
        "  \n",
        "  for images, labels in valid_loader:\n",
        "    images, labels = images.to(device), labels.to(device)\n",
        "    output = model(images)\n",
        "    loss = loss_function(output, labels)\n",
        "    valid_loss+=loss.item()*images.size(0)\n",
        "    scores, predictions = torch.max(output.data,1)\n",
        "    val_correct+=(predictions == labels).sum().item()\n",
        "\n",
        "  # calcular los promedios tanto de la pérdida como de la excatitud en ambos datasets (train, valid)\n",
        "  train_loss = train_loss / len(train_loader.sampler)\n",
        "  train_acc = train_correct / len(train_loader.sampler)*100\n",
        "  valid_loss = valid_loss / len(valid_loader.sampler)\n",
        "  valid_acc = val_correct / len(valid_loader.sampler) * 100\n",
        "\n",
        "  print(f\"Epoch:{epoch+1}/{EPOCHS}\\tTrain Loss:{train_loss:.4f} Validation Loss:{valid_loss:.4f}\\tTrain Accuracy:{train_acc:.2f}% Validation Accuracy:{valid_acc:.2f}%\")\n",
        "\n",
        "  history['train_loss'].append(train_loss)\n",
        "  history['valid_loss'].append(valid_loss)\n",
        "  history['train_acc'].append(train_acc)\n",
        "  history['valid_acc'].append(valid_acc)"
      ],
      "metadata": {
        "colab": {
          "base_uri": "https://localhost:8080/"
        },
        "id": "ks3ELrdf2ww1",
        "outputId": "23e32023-ce42-4aed-9ec5-202efd06db7c"
      },
      "execution_count": null,
      "outputs": [
        {
          "output_type": "stream",
          "name": "stdout",
          "text": [
            "Epoch:1/10\tTrain Loss:0.5552 Validation Loss:0.3730\tTrain Accuracy:79.58% Validation Accuracy:86.38%\n",
            "Epoch:2/10\tTrain Loss:0.3454 Validation Loss:0.2933\tTrain Accuracy:87.37% Validation Accuracy:89.40%\n",
            "Epoch:3/10\tTrain Loss:0.2889 Validation Loss:0.2684\tTrain Accuracy:89.31% Validation Accuracy:90.17%\n",
            "Epoch:4/10\tTrain Loss:0.2549 Validation Loss:0.2615\tTrain Accuracy:90.58% Validation Accuracy:90.37%\n",
            "Epoch:5/10\tTrain Loss:0.2283 Validation Loss:0.2596\tTrain Accuracy:91.51% Validation Accuracy:90.48%\n",
            "Epoch:6/10\tTrain Loss:0.2061 Validation Loss:0.2447\tTrain Accuracy:92.47% Validation Accuracy:91.02%\n",
            "Epoch:7/10\tTrain Loss:0.1879 Validation Loss:0.2457\tTrain Accuracy:93.10% Validation Accuracy:91.26%\n",
            "Epoch:8/10\tTrain Loss:0.1723 Validation Loss:0.2519\tTrain Accuracy:93.64% Validation Accuracy:91.17%\n",
            "Epoch:9/10\tTrain Loss:0.1560 Validation Loss:0.2538\tTrain Accuracy:94.25% Validation Accuracy:91.36%\n",
            "Epoch:10/10\tTrain Loss:0.1416 Validation Loss:0.2594\tTrain Accuracy:94.71% Validation Accuracy:91.39%\n"
          ]
        }
      ]
    },
    {
      "cell_type": "markdown",
      "source": [
        "## Evaluar el modelo CNN en el conjunto de prueba\n"
      ],
      "metadata": {
        "id": "NLzqP5hn7f-t"
      }
    },
    {
      "cell_type": "code",
      "source": [
        "correct = 0\n",
        "total = 0\n",
        "test_loss = 0\n",
        "\n",
        "with torch.no_grad():\n",
        "  for images, labels in test_loader:\n",
        "    images, labels = images.to(device), labels.to(device)\n",
        "    outputs = model(images)\n",
        "\n",
        "    loss = loss_function(outputs,labels)\n",
        "    test_loss += loss.item() * images.size(0)\n",
        "    \n",
        "    _, predicted = torch.max(outputs.data, 1)\n",
        "    total += labels.size(0)\n",
        "    correct += (predicted == labels).sum().item()\n",
        "\n",
        "test_loss = test_loss / len(test_loader.sampler)\n",
        "\n",
        "print(f'Test Accuracy : {100 * correct / total:.2f}%')\n",
        "print(f'Test Loss: {test_loss:.4f}')"
      ],
      "metadata": {
        "colab": {
          "base_uri": "https://localhost:8080/"
        },
        "id": "SBQOGZIF7oe-",
        "outputId": "561353da-b102-412e-9d28-42e6f68841a6"
      },
      "execution_count": null,
      "outputs": [
        {
          "output_type": "stream",
          "name": "stdout",
          "text": [
            "Test Accuracy : 90.71%\n",
            "Test Loss: 0.2856\n"
          ]
        }
      ]
    },
    {
      "cell_type": "markdown",
      "source": [
        "## Visualizar Loss y Accuray"
      ],
      "metadata": {
        "id": "Ls2qP4O905xk"
      }
    },
    {
      "cell_type": "code",
      "source": [
        "plt.figure(figsize=(30, 10))\n",
        "plt.subplot(1, 2, 1)\n",
        "plt.plot(history['train_loss'])\n",
        "plt.plot(history['valid_loss'])\n",
        "plt.title('Model loss')\n",
        "plt.ylabel('loss')\n",
        "plt.xlabel('epoch')\n",
        "plt.legend(['train_loss', 'val_loss'], loc='best')\n",
        "# plt.show()\n",
        "\n",
        "plt.subplot(1, 2, 2)\n",
        "plt.plot(history['train_acc'])\n",
        "plt.plot(history['valid_acc'])\n",
        "plt.title('Model accuracy')\n",
        "plt.ylabel('accuracy')\n",
        "plt.xlabel('epoch')\n",
        "plt.legend(['train_acc', 'val_acc'], loc='best')\n",
        "plt.show()\n",
        "\n"
      ],
      "metadata": {
        "colab": {
          "base_uri": "https://localhost:8080/",
          "height": 621
        },
        "id": "aFnkie2K0_Nh",
        "outputId": "18ce0c93-08ee-4c79-e24c-5faf2929b604"
      },
      "execution_count": null,
      "outputs": [
        {
          "output_type": "display_data",
          "data": {
            "image/png": "[encoded data removed]",
            "text/plain": [
              "<Figure size 2160x720 with 2 Axes>"
            ]
          },
          "metadata": {
            "needs_background": "light"
          }
        }
      ]
    },
    {
      "cell_type": "markdown",
      "source": [
        "## Visualizar los filtros\n",
        "Es posible visualizar los filtros aprendidos, utilizados por la CNN al aplicar la operación convolución y obtener los mapas de características, que contienen las características extraídas de la capa anterior. \n",
        "\n",
        "Para obtener estos filtros se tiene que iterar a través de todas las capas de los modelos `list(model.children())`. Si la capa es convolucional, podemos almacenar el peso en la lista `model_weights`, que contendrá los filtros utilizados en las dos capas convolucionales."
      ],
      "metadata": {
        "id": "k89xkyU14SEd"
      }
    },
    {
      "cell_type": "code",
      "source": [
        "model_weights = [] \n",
        "conv_layers = [] \n",
        "model_children = list(model.children())\n",
        "\n",
        "# contador de las capas convolucionales\n",
        "counter = 0\n",
        "\n",
        "# agregar todas las capas de convolución y sus respectivos pesos a la lista\n",
        "for i in range(len(model_children)):\n",
        "    \n",
        "    if type(model_children[i]) == nn.Conv2d:\n",
        "        counter += 1\n",
        "        model_weights.append(model_children[i].weight)\n",
        "        conv_layers.append(model_children[i])\n",
        "\n",
        "    elif type(model_children[i]) == nn.Sequential:\n",
        "        for j in range(len(model_children[i])):\n",
        "            for child in model_children[i][j].children():\n",
        "                if type(child) == nn.Conv2d:\n",
        "                    counter += 1\n",
        "                    model_weights.append(child.weight)\n",
        "                    conv_layers.append(child)\n",
        "\n",
        "print(f\"Total de Capas Convolucionales: {counter}\")"
      ],
      "metadata": {
        "colab": {
          "base_uri": "https://localhost:8080/"
        },
        "id": "cGJfk8He5CV5",
        "outputId": "a7dd5e7b-ae84-4806-fc81-a059513eab1e"
      },
      "execution_count": null,
      "outputs": [
        {
          "output_type": "stream",
          "name": "stdout",
          "text": [
            "Total de Capas Convolucionales: 2\n"
          ]
        }
      ]
    },
    {
      "cell_type": "markdown",
      "source": [
        "Visualizar la forma (shape) de los filtros encontrados"
      ],
      "metadata": {
        "id": "qKUwYrq35q8Q"
      }
    },
    {
      "cell_type": "code",
      "source": [
        "for weight, conv in zip(model_weights, conv_layers):\n",
        "    print(f\"CONVOLUCIÓN: {conv} \\t\\t SHAPE: {weight.shape}\")"
      ],
      "metadata": {
        "colab": {
          "base_uri": "https://localhost:8080/"
        },
        "id": "qNmMQtOf5yWg",
        "outputId": "1f1f7f31-56b1-4c1e-cba7-c8177695b92b"
      },
      "execution_count": null,
      "outputs": [
        {
          "output_type": "stream",
          "name": "stdout",
          "text": [
            "CONVOLUCIÓN: Conv2d(1, 16, kernel_size=(5, 5), stride=(1, 1), padding=(2, 2)) \t\t SHAPE: torch.Size([16, 1, 5, 5])\n",
            "CONVOLUCIÓN: Conv2d(16, 32, kernel_size=(5, 5), stride=(1, 1), padding=(2, 2)) \t\t SHAPE: torch.Size([32, 16, 5, 5])\n"
          ]
        }
      ]
    },
    {
      "cell_type": "markdown",
      "source": [
        "### Visualizar los filtros aprendidos de la primera capa de convolución"
      ],
      "metadata": {
        "id": "fAa-7bcA6Oag"
      }
    },
    {
      "cell_type": "code",
      "source": [
        "# visualizar los filtros aprendidos de la primera capa de convolución\n",
        "plt.figure(figsize=(20, 17))\n",
        "for i, filter in enumerate(model_weights[0]):\n",
        "    plt.subplot(4, 4, i+1) # filtros de 5x5 con un total de 16 SHAPE: torch.Size([16, 1, 5, 5])\n",
        "    plt.imshow(filter[0, :, :].detach().cpu().numpy(), cmap='viridis') # convertir el tensor a numpy array\n",
        "    plt.axis('off') # no visualizar los ejes\n",
        "    plt.savefig('16_filtros.png')\n",
        "plt.show()"
      ],
      "metadata": {
        "colab": {
          "base_uri": "https://localhost:8080/",
          "height": 955
        },
        "id": "Wzvn3Puv6YNQ",
        "outputId": "40e57318-bc5e-40a8-97e7-6e15ff24df0d"
      },
      "execution_count": null,
      "outputs": [
        {
          "output_type": "display_data",
          "data": {
            "image/png": "[encoded data removed]",
            "text/plain": [
              "<Figure size 1440x1224 with 16 Axes>"
            ]
          },
          "metadata": {
            "needs_background": "light"
          }
        }
      ]
    },
    {
      "cell_type": "markdown",
      "source": [
        "### Visualizar los filtros aprendidos de la segunda capa de convolución"
      ],
      "metadata": {
        "id": "Ig4YvdvI7PC3"
      }
    },
    {
      "cell_type": "code",
      "source": [
        "# visualizar los filtros aprendidos de la primera capa de convolución\n",
        "plt.figure(figsize=(20, 17))\n",
        "for i, filter in enumerate(model_weights[1]):\n",
        "    plt.subplot(6, 6, i+1) # filtros de 5x5 con un total de 32 SHAPE: torch.Size([32, 16, 5, 5])\n",
        "    plt.imshow(filter[0, :, :].detach().cpu().numpy(), cmap='viridis') # convertir el tensor a numpy array\n",
        "    plt.axis('off') # no visualizar los ejes\n",
        "    plt.savefig('32_filtros.png')\n",
        "plt.show()"
      ],
      "metadata": {
        "colab": {
          "base_uri": "https://localhost:8080/",
          "height": 955
        },
        "outputId": "9070bf1f-717b-42e1-c46c-9f55083e27a5",
        "id": "62z75lc97PDC"
      },
      "execution_count": null,
      "outputs": [
        {
          "output_type": "display_data",
          "data": {
            "image/png": "[encoded data removed]",
            "text/plain": [
              "<Figure size 1440x1224 with 32 Axes>"
            ]
          },
          "metadata": {
            "needs_background": "light"
          }
        }
      ]
    },
    {
      "cell_type": "markdown",
      "source": [
        "# Ejercicio\n",
        "Modificar la CNN\n",
        "*   Agregar una tercera capa de Convolución. Las capas convolucionales serán definidas:\n",
        "    *   CONV1 16 con Kernel 3\n",
        "    *   CONV2 32 con Kernel 5\n",
        "    *   CONV3 64 con Kernel 5\n",
        "\n",
        "*   Calcular Tabla de parámetros\n",
        "\n"
      ],
      "metadata": {
        "id": "Et60LVxxPwKI"
      }
    }
  ]
}