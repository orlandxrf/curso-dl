{
  "nbformat": 4,
  "nbformat_minor": 0,
  "metadata": {
    "colab": {
      "name": "8c_GRU_TextGeneration.ipynb",
      "provenance": [],
      "collapsed_sections": [],
      "authorship_tag": "ABX9TyNgtT/WnEQMX266Hd8Dv+Rp",
      "include_colab_link": true
    },
    "kernelspec": {
      "name": "python3",
      "display_name": "Python 3"
    },
    "language_info": {
      "name": "python"
    }
  },
  "cells": [
    {
      "cell_type": "markdown",
      "metadata": {
        "id": "view-in-github",
        "colab_type": "text"
      },
      "source": [
        "<a href=\"https://colab.research.google.com/github/orlandxrf/curso-dl/blob/main/notebooks/8c_GRU_TextGeneration.ipynb\" target=\"_parent\"><img src=\"https://colab.research.google.com/assets/colab-badge.svg\" alt=\"Open In Colab\"/></a>"
      ]
    },
    {
      "cell_type": "markdown",
      "source": [
        "# Generación de texto usando una GRU"
      ],
      "metadata": {
        "id": "uqJ2YE-jhWsV"
      }
    },
    {
      "cell_type": "code",
      "execution_count": 38,
      "metadata": {
        "id": "vd-Rpna4fiOK",
        "colab": {
          "base_uri": "https://localhost:8080/"
        },
        "outputId": "3b71d900-d46e-4d27-f55c-e4d0f835f78a"
      },
      "outputs": [
        {
          "output_type": "stream",
          "name": "stdout",
          "text": [
            "filepath:\tdata/text_emotion.csv\n"
          ]
        }
      ],
      "source": [
        "# establecer parametros para almacenar y cargar el conjunto de datos del repositorio de Github\n",
        "import os\n",
        "\n",
        "URL = 'https://raw.githubusercontent.com/orlandxrf/curso-dl/main/data/text_emotion.csv'\n",
        "data_folder = 'data'\n",
        "filepath = os.path.join(data_folder, 'text_emotion.csv')\n",
        "print (f\"filepath:\\t{filepath}\")"
      ]
    },
    {
      "cell_type": "markdown",
      "source": [
        "## Cargar el conjunto de datos"
      ],
      "metadata": {
        "id": "YMEoN-nnhhGq"
      }
    },
    {
      "cell_type": "code",
      "source": [
        "# crear carpeta para almacenar el conjunto de datos\n",
        "! mkdir {data_folder}\n",
        "# descargar conjunto de datos y alamcenar\n",
        "! wget -nc {URL} -O {filepath}"
      ],
      "metadata": {
        "colab": {
          "base_uri": "https://localhost:8080/"
        },
        "id": "Sll0mlf_aszv",
        "outputId": "8537e004-51bc-42e1-ab4d-100ab27ae291"
      },
      "execution_count": 39,
      "outputs": [
        {
          "output_type": "stream",
          "name": "stdout",
          "text": [
            "mkdir: cannot create directory ‘data’: File exists\n",
            "File ‘data/text_emotion.csv’ already there; not retrieving.\n"
          ]
        }
      ]
    },
    {
      "cell_type": "code",
      "source": [
        "# comprobrar\n",
        "! ls -lh data/*"
      ],
      "metadata": {
        "colab": {
          "base_uri": "https://localhost:8080/"
        },
        "id": "_aV8rUjwbbBO",
        "outputId": "9b2ae09b-ee14-47d3-c462-605a0ac1dea8"
      },
      "execution_count": 40,
      "outputs": [
        {
          "output_type": "stream",
          "name": "stdout",
          "text": [
            "-rw-r--r-- 1 root root 4.2M Mar  8 14:27 data/text_emotion.csv\n"
          ]
        }
      ]
    },
    {
      "cell_type": "markdown",
      "source": [
        "# Analizar conjunto de datos"
      ],
      "metadata": {
        "id": "fbNBV1eaXjZr"
      }
    },
    {
      "cell_type": "code",
      "source": [
        "import pandas as pd\n",
        "\n",
        "df = pd.read_csv('data/text_emotion.csv')\n",
        "\n",
        "# eliminar columnas 'tweet_id' y 'author'\n",
        "df.drop('tweet_id',axis=1,inplace=True)\n",
        "df.drop('author',axis=1,inplace=True)\n",
        "print (df.head(10))\n",
        "print (f\"Longitud de tweets: {len(df):,}\")"
      ],
      "metadata": {
        "colab": {
          "base_uri": "https://localhost:8080/"
        },
        "id": "pijhdpXRXnAs",
        "outputId": "61d57566-14e6-474c-efa6-3b4efb840eb2"
      },
      "execution_count": 41,
      "outputs": [
        {
          "output_type": "stream",
          "name": "stdout",
          "text": [
            "    sentiment                                            content\n",
            "0       empty  @tiffanylue i know  i was listenin to bad habi...\n",
            "1     sadness  Layin n bed with a headache  ughhhh...waitin o...\n",
            "2     sadness                Funeral ceremony...gloomy friday...\n",
            "3  enthusiasm               wants to hang out with friends SOON!\n",
            "4     neutral  @dannycastillo We want to trade with someone w...\n",
            "5       worry  Re-pinging @ghostridah14: why didn't you go to...\n",
            "6     sadness  I should be sleep, but im not! thinking about ...\n",
            "7       worry               Hmmm. http://www.djhero.com/ is down\n",
            "8     sadness            @charviray Charlene my love. I miss you\n",
            "9     sadness         @kelcouch I'm sorry  at least it's Friday?\n",
            "Longitud de tweets: 40,000\n"
          ]
        }
      ]
    },
    {
      "cell_type": "code",
      "source": [
        "import matplotlib.pyplot as plt\n",
        "\n",
        "sentiments = dict(pd.value_counts(df['sentiment']))\n",
        "classes = list(sentiments.keys())\n",
        "for i, sent in enumerate(sentiments):\n",
        "  print (f\"{i+1}\\t{sentiments[sent]}\\t{sent}\")\n",
        "print (f\"\\n{len(df):,} tweets\")\n",
        "\n",
        "# Graficar la distribución\n",
        "plt.figure(figsize=(20, 10))\n",
        "pd.value_counts(df['sentiment']).plot.bar(title=\"Distribución de sentimientos\")\n",
        "plt.xlabel(\"Sentimiento\", fontsize=\"15\")\n",
        "plt.ylabel(\"Tweets\", fontsize=\"15\")\n",
        "plt.xticks(rotation=45, fontsize=\"15\")\n",
        "plt.yticks(fontsize=\"15\")\n",
        "plt.show()"
      ],
      "metadata": {
        "colab": {
          "base_uri": "https://localhost:8080/",
          "height": 949
        },
        "id": "rJifibVZYINg",
        "outputId": "b10ae653-f807-47ff-8135-95ff60512d76"
      },
      "execution_count": 42,
      "outputs": [
        {
          "output_type": "stream",
          "name": "stdout",
          "text": [
            "1\t8638\tneutral\n",
            "2\t8459\tworry\n",
            "3\t5209\thappiness\n",
            "4\t5165\tsadness\n",
            "5\t3842\tlove\n",
            "6\t2187\tsurprise\n",
            "7\t1776\tfun\n",
            "8\t1526\trelief\n",
            "9\t1323\thate\n",
            "10\t827\tempty\n",
            "11\t759\tenthusiasm\n",
            "12\t179\tboredom\n",
            "13\t110\tanger\n",
            "\n",
            "40,000 tweets\n"
          ]
        },
        {
          "output_type": "display_data",
          "data": {
            "image/png": "[encoded data removed]",
            "text/plain": [
              "<Figure size 1440x720 with 1 Axes>"
            ]
          },
          "metadata": {
            "needs_background": "light"
          }
        }
      ]
    },
    {
      "cell_type": "markdown",
      "source": [
        "# Preprocesamiento de los datos\n",
        "Realizar el preprocesamiento necesario, que incluye la limpieza y otros elementos como la toeknización y lematización\n",
        "\n",
        "## Limpieza de los tweets"
      ],
      "metadata": {
        "id": "MGucn7IxiJZy"
      }
    },
    {
      "cell_type": "code",
      "source": [
        "# preprocesamiento\n",
        "import numpy as np\n",
        "def limpiezaDeTweets(tweet):\n",
        "  import re\n",
        "  tweet = re.sub(r'RT @\\w+: ',\" \", tweet) # eliminar retweets\n",
        "  tweet = re.sub(r'https?://[A-Za-z0-9./]+', ' ', tweet) # eliminar urls\n",
        "  tweet = re.sub(r'@[A-Za-z0-9]+', '', tweet) # eliminar usuarios\n",
        "  tweet = tweet.lower() # convertir a minúsculas\n",
        "  tweet = re.sub(r'[^a-z0-9\\'\\.,:; ]+', ' ', tweet) # eliminar todos los caracteres que no esten en los definidos\n",
        "  tweet = ' '.join(tweet.split()) # eliminar múltiples espacios, solo conservar un espacio\n",
        "\n",
        "  return tweet\n",
        "\n",
        "\n",
        "df['content'] = df['content'].astype('str')\n",
        "df['content'] = df['content'].apply(lambda x: limpiezaDeTweets(x))\n",
        "\n",
        "df.drop_duplicates(keep=False, inplace=True)\n",
        "\n",
        "df = df.replace(r'^\\s*$', np.NaN, regex=True)\n",
        "\n",
        "df = df.dropna()\n",
        "\n",
        "print (df.head(10))\n",
        "print (f\"\\nTotal:\\t{len(df):,}\")\n"
      ],
      "metadata": {
        "colab": {
          "base_uri": "https://localhost:8080/"
        },
        "outputId": "26671a85-0792-4082-8ffa-06247ff6bcc1",
        "id": "9smcPkBDiNjc"
      },
      "execution_count": 43,
      "outputs": [
        {
          "output_type": "stream",
          "name": "stdout",
          "text": [
            "    sentiment                                            content\n",
            "0       empty  i know i was listenin to bad habit earlier and...\n",
            "1     sadness  layin n bed with a headache ughhhh...waitin on...\n",
            "2     sadness                funeral ceremony...gloomy friday...\n",
            "3  enthusiasm                wants to hang out with friends soon\n",
            "4     neutral  we want to trade with someone who has houston ...\n",
            "5       worry  re pinging : why didn't you go to prom bc my b...\n",
            "6     sadness  i should be sleep, but im not thinking about a...\n",
            "7       worry                                      hmmm. is down\n",
            "8     sadness                       charlene my love. i miss you\n",
            "9     sadness                     i'm sorry at least it's friday\n",
            "\n",
            "Total:\t39,314\n"
          ]
        }
      ]
    },
    {
      "cell_type": "code",
      "source": [
        "# mostrar los tweets limpios por clase\n",
        "sentiments = dict(pd.value_counts(df['sentiment']))\n",
        "classes = list(sentiments.keys())\n",
        "for i, sent in enumerate(sentiments):\n",
        "  print (f\"{i+1}\\t{sentiments[sent]}\\t{sent}\")\n",
        "print (f\"\\n{len(df):,} tweets\")"
      ],
      "metadata": {
        "colab": {
          "base_uri": "https://localhost:8080/"
        },
        "id": "fBDh3G5VrqxO",
        "outputId": "5405acf0-8e0f-4954-d3d5-ae68c481a5f9"
      },
      "execution_count": 44,
      "outputs": [
        {
          "output_type": "stream",
          "name": "stdout",
          "text": [
            "1\t8380\tneutral\n",
            "2\t8374\tworry\n",
            "3\t5126\tsadness\n",
            "4\t5099\thappiness\n",
            "5\t3695\tlove\n",
            "6\t2181\tsurprise\n",
            "7\t1774\tfun\n",
            "8\t1514\trelief\n",
            "9\t1320\thate\n",
            "10\t805\tempty\n",
            "11\t757\tenthusiasm\n",
            "12\t179\tboredom\n",
            "13\t110\tanger\n",
            "\n",
            "39,314 tweets\n"
          ]
        }
      ]
    },
    {
      "cell_type": "markdown",
      "source": [
        "## Obtener solo la clase `happiness` como datos de entrada del modelo"
      ],
      "metadata": {
        "id": "-gPZ-fUgi37N"
      }
    },
    {
      "cell_type": "code",
      "source": [
        "happiness = df[df['sentiment'] == 'happiness']\n",
        "tweets = happiness['content'].to_list()\n",
        "\n",
        "print (f\"\\nLongitud de los tweets tweets: {len(tweets):,}\")"
      ],
      "metadata": {
        "colab": {
          "base_uri": "https://localhost:8080/"
        },
        "id": "z_wEPQShjAaB",
        "outputId": "d6a06b1f-909b-48ed-ec09-622f2233b270"
      },
      "execution_count": 45,
      "outputs": [
        {
          "output_type": "stream",
          "name": "stdout",
          "text": [
            "\n",
            "Longitud de los tweets tweets: 5,099\n"
          ]
        }
      ]
    },
    {
      "cell_type": "markdown",
      "source": [
        "# Generación de un solo tweet\n",
        "Primero construiremos una red neuronal que pueda generar un tweet muy bien. Podemos elegir cualquier tweet (o cualquier otro texto) que queramos. Elijamos construir un RNN que genere texto a partir del `tweet[2000]`."
      ],
      "metadata": {
        "id": "YaACslpRkMnU"
      }
    },
    {
      "cell_type": "code",
      "source": [
        "tweet = tweets[2000]\n",
        "print (tweet)"
      ],
      "metadata": {
        "colab": {
          "base_uri": "https://localhost:8080/"
        },
        "id": "gAuLJM93oSds",
        "outputId": "dca4b66e-e088-44eb-f84b-56c58cea8964"
      },
      "execution_count": 46,
      "outputs": [
        {
          "output_type": "stream",
          "name": "stdout",
          "text": [
            "yes... today is star wars day may the 4th be with you\n"
          ]
        }
      ]
    },
    {
      "cell_type": "markdown",
      "source": [
        "### 1 Codificación\n",
        "Codificar el tweet usando una codificación one-hot. Crearemos asignaciones de diccionario desde el carácter hasta el índice de ese carácter (un identificador entero único) y desde el índice hasta el carácter. Usaremos el mismo esquema de nombres que usa torchtext (stoi e itos).\n",
        "\n",
        "El vocabulario es limitado ya que contiene solo los caracteres del `tweet[2000]`, más dos tokens especiales:\n",
        "\n",
        "*   `<EOS>` representa el \"fin de la cadena\" (EOS: End Of Sentence), que agregaremos al final de nuestro tweet. Dado que los tweets son de longitud variable, esta es una forma en que GRU indica que se ha generado la secuencia completa.\n",
        "*   `<BOS>` representa \"comienzo de cadena\" (BOS: Beginning Of Sentence), que agregaremos al comienzo de nuestro tweet. Este es el primer token que introduciremos en la GRU.\n",
        "\n"
      ],
      "metadata": {
        "id": "0Zb_WP_DiuNX"
      }
    },
    {
      "cell_type": "code",
      "source": [
        "vocab = list(set(tweet)) + [\"<BOS>\", \"<EOS>\"]\n",
        "vocab_stoi = {s: i for i, s in enumerate(vocab)}\n",
        "vocab_itos = {i: s for i, s in enumerate(vocab)}\n",
        "vocab_size = len(vocab)\n",
        "\n",
        "print (f\"longitud tweet:\\t{len(tweet)}\")\n",
        "print (f\"\\nvocabulario:\\t{vocab}\")\n",
        "print (f\"\\nvocab_stoi: \\t{vocab_stoi}\") # vocabulario stoi: string to index\n",
        "print (f\"\\nvocab_itos: \\t{vocab_itos}\") # vocabulario itos: index to string\n",
        "print (f\"\\nvocab_size: \\t{vocab_size}\") # longitud del vocabulario\n"
      ],
      "metadata": {
        "colab": {
          "base_uri": "https://localhost:8080/"
        },
        "id": "HBOo3BXrtwi5",
        "outputId": "2c2fa288-8b45-4d10-9692-849cc69cdc77"
      },
      "execution_count": 47,
      "outputs": [
        {
          "output_type": "stream",
          "name": "stdout",
          "text": [
            "longitud tweet:\t53\n",
            "\n",
            "vocabulario:\t['a', '4', '.', 'e', 'i', 'd', 'r', 's', 'm', 'y', 'b', ' ', 't', 'o', 'u', 'w', 'h', '<BOS>', '<EOS>']\n",
            "\n",
            "vocab_stoi: \t{'a': 0, '4': 1, '.': 2, 'e': 3, 'i': 4, 'd': 5, 'r': 6, 's': 7, 'm': 8, 'y': 9, 'b': 10, ' ': 11, 't': 12, 'o': 13, 'u': 14, 'w': 15, 'h': 16, '<BOS>': 17, '<EOS>': 18}\n",
            "\n",
            "vocab_itos: \t{0: 'a', 1: '4', 2: '.', 3: 'e', 4: 'i', 5: 'd', 6: 'r', 7: 's', 8: 'm', 9: 'y', 10: 'b', 11: ' ', 12: 't', 13: 'o', 14: 'u', 15: 'w', 16: 'h', 17: '<BOS>', 18: '<EOS>'}\n",
            "\n",
            "vocab_size: \t19\n"
          ]
        }
      ]
    },
    {
      "cell_type": "markdown",
      "source": [
        "### 2 Modelo\n",
        "Diseño del modelo de la red GRU"
      ],
      "metadata": {
        "id": "NFJDLrcbv67N"
      }
    },
    {
      "cell_type": "code",
      "source": [
        "import torch\n",
        "import torch.nn as nn\n",
        "\n",
        "class TextGenerator(nn.Module):\n",
        "    def __init__(self, vocab_size, hidden_size, n_layers=1):\n",
        "        super(TextGenerator, self).__init__()\n",
        "\n",
        "        # matriz de identidad para generar vectores one-hot\n",
        "        self.ident = torch.eye(vocab_size)\n",
        "\n",
        "        # recurrent neural network (Gated Recurrent Unit)\n",
        "        self.rnn = nn.GRU(vocab_size, hidden_size, n_layers, batch_first=True)\n",
        "\n",
        "        # una capa totalmente conectada (FC) que genera una distribución sobre el siguiente token, dada la salida RNN\n",
        "        self.fc = nn.Linear(hidden_size, vocab_size)\n",
        "    \n",
        "    def forward(self, input, hidden=None):\n",
        "        # generar vectores one-hot de entrada\n",
        "        input = self.ident[input]\n",
        "\n",
        "        # obtener la siguiente salida y el estado oculto\n",
        "        output, hidden = self.rnn(input, hidden)\n",
        "\n",
        "        # predecir la distribución sobre los siguientes tokens\n",
        "        output = self.fc(output)\n",
        "\n",
        "        return output, hidden"
      ],
      "metadata": {
        "id": "LeJIUlv5wIv7"
      },
      "execution_count": 48,
      "outputs": []
    },
    {
      "cell_type": "code",
      "source": [
        "# instanciar el modelo\n",
        "model = TextGenerator(vocab_size, 64)\n",
        "print (model)"
      ],
      "metadata": {
        "colab": {
          "base_uri": "https://localhost:8080/"
        },
        "id": "M25WooNxxvtG",
        "outputId": "ff47493c-e80d-4951-8c75-c192ae78654f"
      },
      "execution_count": 49,
      "outputs": [
        {
          "output_type": "stream",
          "name": "stdout",
          "text": [
            "TextGenerator(\n",
            "  (rnn): GRU(19, 64, batch_first=True)\n",
            "  (fc): Linear(in_features=64, out_features=19, bias=True)\n",
            ")\n"
          ]
        }
      ]
    },
    {
      "cell_type": "markdown",
      "source": [
        "### 3 Entrenamiento\n",
        "Un modelo RNN genera texto un carácter a la vez en función del valor de estado oculto.\n",
        "\n",
        "En cada paso de tiempo, comprueba si el modelo generó el carácter correcto.\n",
        "\n",
        "Es decir, en cada paso de tiempo, está tratando de seleccionar el siguiente carácter correcto entre todos los caracteres del vocabulario.\n",
        "\n",
        "Recordar que este problema es un problema de clasificación de clases múltiples, por lo que se usa la pérdida de entropía cruzada para entrenar la red."
      ],
      "metadata": {
        "id": "tLzLf0CGyss9"
      }
    },
    {
      "cell_type": "code",
      "source": [
        "# función de pérdida\n",
        "loss_function = nn.CrossEntropyLoss()"
      ],
      "metadata": {
        "id": "cjJ-5eUVzQVI"
      },
      "execution_count": 50,
      "outputs": []
    },
    {
      "cell_type": "markdown",
      "source": [
        "Para comprender lo que sucede durante el entrenamiento de la RNN, iniciamos con un entrenamiento ineficiente, pero muestra lo que sucede paso a paso.\n",
        "\n",
        "Calcular la pérdida del primer token generado, luego la del segundo token y así sucesivamente.\n",
        "\n",
        "![Forward](https://drive.google.com/uc?id=1UJ9GajU6-iS7erkx5ppWgnZQWmIWc1V9)\n",
        "\n",
        "Iniciamos generando el primer token (`tweet[0] = <BOS>`).\n",
        "\n"
      ],
      "metadata": {
        "id": "Gxov91hJzZLW"
      }
    },
    {
      "cell_type": "code",
      "source": [
        "# para generar el primer token, se alimenta la red RNN (con un estado oculto vacío al inicio)\n",
        "# con el token \"<BOS>\", así se obtiene la primer salida\n",
        "\n",
        "bos_input = torch.Tensor([vocab_stoi[\"<BOS>\"]]).long()\n",
        "print (f\"bos_input:\\t{bos_input}\\nshape:\\t{bos_input.shape}\")\n",
        "\n",
        "bos_input = bos_input.unsqueeze(0) # agregar una dimensión\n",
        "print (f\"\\nbos_input:\\t{bos_input}\\nshape:\\t{bos_input.shape}\")\n",
        "\n",
        "# estado oculto vacío al inicio\n",
        "output, hidden = model(bos_input, hidden=None)\n",
        "\n",
        "# distribución obtenida sobre el primer token\n",
        "print (f\"output:\\t{output}\\n\\noutput shape:\\t{output.shape}\")"
      ],
      "metadata": {
        "colab": {
          "base_uri": "https://localhost:8080/"
        },
        "id": "Y_SP7bvh3PxE",
        "outputId": "641dd082-d044-4a64-dfc4-923a11e47759"
      },
      "execution_count": 51,
      "outputs": [
        {
          "output_type": "stream",
          "name": "stdout",
          "text": [
            "bos_input:\ttensor([17])\n",
            "shape:\ttorch.Size([1])\n",
            "\n",
            "bos_input:\ttensor([[17]])\n",
            "shape:\ttorch.Size([1, 1])\n",
            "output:\ttensor([[[-0.0580, -0.0144, -0.0377,  0.0196, -0.0316, -0.0396, -0.1033,\n",
            "          -0.1084,  0.0891, -0.0275, -0.0976, -0.0287,  0.0011,  0.0506,\n",
            "           0.1559, -0.0459,  0.0391,  0.0461, -0.0847]]],\n",
            "       grad_fn=<AddBackward0>)\n",
            "\n",
            "output shape:\ttorch.Size([1, 1, 19])\n"
          ]
        }
      ]
    },
    {
      "cell_type": "markdown",
      "source": [
        "Ahora, calcular la pérdida usando `loss_function`. Dado que el modelo no está entrenado, se espera que la pérdida sea alta. (Por ahora, no haremos nada con esta pérdida y omitiremos el pase hacia atrás)."
      ],
      "metadata": {
        "id": "Og6i6W6w-TEp"
      }
    },
    {
      "cell_type": "code",
      "source": [
        "# definimos el target\n",
        "print (f\"vocab_stoi[tweet[0]]:\\t{vocab_stoi[tweet[0]]}\\t{tweet[0]}\")\n",
        "\n",
        "# convertir el id de a tensor con dos dimensiones\n",
        "target = torch.Tensor([vocab_stoi[tweet[0]]]).long().unsqueeze(0)\n",
        "print (f\"\\ntarget:\\t{target.shape}\")\n",
        "\n",
        "# reshaping la salida a un tensor 2D\n",
        "output = output.reshape(-1, vocab_size)\n",
        "print (f\"\\noutput:\\t{output.shape}\")\n",
        "\n",
        "# aplicar la función de pérdida, redimensionar el target a un tensor 1D \n",
        "loss = loss_function(output, target.reshape(-1))\n",
        "\n",
        "print (f\"\\nloss:\\t{loss}\")"
      ],
      "metadata": {
        "colab": {
          "base_uri": "https://localhost:8080/"
        },
        "id": "qE-bHyxW-dSQ",
        "outputId": "8e6324fc-b099-4a35-e6e5-c974a8ca19bc"
      },
      "execution_count": 52,
      "outputs": [
        {
          "output_type": "stream",
          "name": "stdout",
          "text": [
            "vocab_stoi[tweet[0]]:\t9\ty\n",
            "\n",
            "target:\ttorch.Size([1, 1])\n",
            "\n",
            "output:\ttorch.Size([1, 19])\n",
            "\n",
            "loss:\t2.959717035293579\n"
          ]
        }
      ]
    },
    {
      "cell_type": "markdown",
      "source": [
        "Lo siguiente es actualizar el estado oculto y generar una predicción para el siguiente token.\n",
        "\n",
        "Para hacerlo, se debe proporcionar el token actual a la RNN.\n",
        "\n",
        "Durante el tiempo de prueba, se necesita tomar muestras de la probabilidad predicha sobre los tokens que acaba de generar la red neuronal.\n",
        "\n",
        "Sin embargo se puede hacer algo mejor: usar el token objetivo real (**the ground-truth or actual target token**). \n",
        "\n",
        "Esta técnica se llama **teacher-forcing** y generalmente acelera el entrenamiento.\n",
        "\n",
        "La razón es que en este momento, dado que el modelo no funciona bien, la distribución de probabilidad predicha está bastante lejos del target objetivo real.\n",
        "\n",
        "Por lo tanto, es bastante difícil para la red neuronal volver a entrenar con datos de entrada incorrectos."
      ],
      "metadata": {
        "id": "MTADuMBpFvjh"
      }
    },
    {
      "cell_type": "code",
      "source": [
        "# Usar el teacher-forcing: pasamos en el token objetivo real (target), en lugar de usar la distribución predicha de la RNN\n",
        "\n",
        "output, hidden = model(target, hidden)\n",
        "\n",
        "print (f\"output:\\t{output}\\n\\n{output.shape}\") # distribución obtenida del segundo token"
      ],
      "metadata": {
        "colab": {
          "base_uri": "https://localhost:8080/"
        },
        "id": "8uwgvUVnHkVq",
        "outputId": "30916b49-4433-47fd-aab0-91ee17fc6d78"
      },
      "execution_count": 53,
      "outputs": [
        {
          "output_type": "stream",
          "name": "stdout",
          "text": [
            "output:\ttensor([[[-0.0356, -0.0222,  0.0063,  0.0388, -0.0333, -0.1093, -0.1964,\n",
            "          -0.0841,  0.0677, -0.0425, -0.0589, -0.0040, -0.0296,  0.0609,\n",
            "           0.1406, -0.0336,  0.0830,  0.0266, -0.0399]]],\n",
            "       grad_fn=<AddBackward0>)\n",
            "\n",
            "torch.Size([1, 1, 19])\n"
          ]
        }
      ]
    },
    {
      "cell_type": "markdown",
      "source": [
        "De forma similar al primer paso, calcular la pérdida, cuantificando la diferencia entre la distribución prevista y el siguiente token objetivo real.\n",
        "\n",
        "Esta pérdida se puede utilizar para ajustar los pesos de la red neuronal (que aún no se está haciendo)."
      ],
      "metadata": {
        "id": "uCkaqsNwJJts"
      }
    },
    {
      "cell_type": "code",
      "source": [
        "# definimos el segundo target\n",
        "print (f\"vocab_stoi[tweet[1]]:\\t{vocab_stoi[tweet[1]]}\\t{tweet[1]}\")\n",
        "\n",
        "# convertir el target siguiente \"tweet[1]\" a tensores 2D\n",
        "target = torch.Tensor([vocab_stoi[tweet[1]]]).long().unsqueeze(0)\n",
        "\n",
        "# reshaping la salida a un tensor 2D\n",
        "output = output.reshape(-1, vocab_size)\n",
        "print (f\"\\noutput:\\t{output.shape}\")\n",
        "\n",
        "# aplicar la función de pérdida, redimensionar el target a un tensor 1D \n",
        "loss = loss_function(output, target.reshape(-1))\n",
        "\n",
        "print (f\"\\nloss:\\t{loss}\")"
      ],
      "metadata": {
        "colab": {
          "base_uri": "https://localhost:8080/"
        },
        "id": "TMFDFKZOJ6IM",
        "outputId": "36845c67-c668-4d18-8794-e4683687efac"
      },
      "execution_count": 54,
      "outputs": [
        {
          "output_type": "stream",
          "name": "stdout",
          "text": [
            "vocab_stoi[tweet[1]]:\t3\te\n",
            "\n",
            "output:\ttorch.Size([1, 19])\n",
            "\n",
            "loss:\t2.8943402767181396\n"
          ]
        }
      ]
    },
    {
      "cell_type": "markdown",
      "source": [
        "Podemos continuar este proceso de: \n",
        "\n",
        "*   alimentar el token objetivo real a la RNN,\n",
        "*   obtener la distribución de predicción sobre el siguiente token,\n",
        "*   y calcular la pérdida\n",
        "\n",
        "esto se hace tantos pasos como tokens haya en el tweet **ground-truth**."
      ],
      "metadata": {
        "id": "BITgTo72KnJv"
      }
    },
    {
      "cell_type": "code",
      "source": [
        "# definir un ciclo for que realice los cálculos del resto de tokens del tweet\n",
        "for i in range(2, len(tweet)): # inicializar en 2, ya se cálculo el 0 y 1\n",
        "    # target anterior\n",
        "    output, hidden = model(target, hidden)\n",
        "     # target actual\n",
        "    target = torch.Tensor([vocab_stoi[tweet[i]]]).long().unsqueeze(0)\n",
        "    # redimensionar output a un tensor 2D, redimensionar el target a un tensor 1D y calcular la pérdida\n",
        "    loss = loss_function(output.reshape(-1, vocab_size), target.reshape(-1))\n",
        "    \n",
        "    print(f\"i: {i} char: {tweet[i]}\\noutput: {output}\\nloss: {loss}\")"
      ],
      "metadata": {
        "colab": {
          "base_uri": "https://localhost:8080/"
        },
        "id": "t5e9WrFGLdEP",
        "outputId": "677cfce0-098c-4e70-cd26-54ad10000c0c"
      },
      "execution_count": 55,
      "outputs": [
        {
          "output_type": "stream",
          "name": "stdout",
          "text": [
            "i: 2 char: s\n",
            "output: tensor([[[-0.0921, -0.0021,  0.0217,  0.0107,  0.0045, -0.1121, -0.1694,\n",
            "          -0.1011,  0.0593, -0.0607, -0.0581, -0.0471, -0.0266,  0.0600,\n",
            "           0.1342, -0.0138,  0.0911,  0.0177, -0.0293]]],\n",
            "       grad_fn=<AddBackward0>)\n",
            "loss: 3.0316884517669678\n",
            "i: 3 char: .\n",
            "output: tensor([[[-0.0578, -0.0208,  0.0219,  0.0189, -0.0169, -0.1005, -0.2171,\n",
            "          -0.0723,  0.0621, -0.0597, -0.1029, -0.0732, -0.0366,  0.0620,\n",
            "           0.1034, -0.0442,  0.0738, -0.0012, -0.0229]]],\n",
            "       grad_fn=<AddBackward0>)\n",
            "loss: 2.899763584136963\n",
            "i: 4 char: .\n",
            "output: tensor([[[-0.0295, -0.0319,  0.0135,  0.0220, -0.0561, -0.0948, -0.1997,\n",
            "          -0.0891,  0.0814, -0.0772, -0.0793, -0.0431, -0.0921,  0.0744,\n",
            "           0.0678, -0.0799,  0.0807,  0.0100, -0.0194]]],\n",
            "       grad_fn=<AddBackward0>)\n",
            "loss: 2.904967784881592\n",
            "i: 5 char: .\n",
            "output: tensor([[[-0.0167, -0.0328,  0.0074,  0.0259, -0.0779, -0.0902, -0.1852,\n",
            "          -0.0989,  0.0934, -0.0888, -0.0654, -0.0297, -0.1155,  0.0795,\n",
            "           0.0491, -0.0924,  0.0838,  0.0189, -0.0113]]],\n",
            "       grad_fn=<AddBackward0>)\n",
            "loss: 2.9109673500061035\n",
            "i: 6 char:  \n",
            "output: tensor([[[-0.0104, -0.0318,  0.0035,  0.0291, -0.0904, -0.0875, -0.1750,\n",
            "          -0.1045,  0.1008, -0.0969, -0.0569, -0.0238, -0.1252,  0.0816,\n",
            "           0.0387, -0.0962,  0.0850,  0.0254, -0.0048]]],\n",
            "       grad_fn=<AddBackward0>)\n",
            "loss: 2.942689895629883\n",
            "i: 7 char: t\n",
            "output: tensor([[[ 0.0026, -0.0850,  0.0252,  0.0262, -0.0496, -0.0611, -0.1539,\n",
            "          -0.0766,  0.0776, -0.0643, -0.0801, -0.0434, -0.1153,  0.0842,\n",
            "           0.0338, -0.0431,  0.0716,  0.0370, -0.0307]]],\n",
            "       grad_fn=<AddBackward0>)\n",
            "loss: 3.038533926010132\n",
            "i: 8 char: o\n",
            "output: tensor([[[-0.0192, -0.1048,  0.0296,  0.0613, -0.0580, -0.0802, -0.1958,\n",
            "          -0.1100,  0.0798, -0.0873, -0.0759,  0.0202, -0.0768,  0.0832,\n",
            "           0.0890, -0.0461,  0.0938,  0.0138, -0.0383]]],\n",
            "       grad_fn=<AddBackward0>)\n",
            "loss: 2.8421852588653564\n",
            "i: 9 char: d\n",
            "output: tensor([[[-0.0438, -0.0584, -0.0112,  0.0550, -0.0641, -0.0950, -0.1993,\n",
            "          -0.1153,  0.0543, -0.0578, -0.0603,  0.0115, -0.0853,  0.0732,\n",
            "           0.1192, -0.0226,  0.0897,  0.0300, -0.0483]]],\n",
            "       grad_fn=<AddBackward0>)\n",
            "loss: 3.019913911819458\n",
            "i: 10 char: a\n",
            "output: tensor([[[-0.0830, -0.0466,  0.0317,  0.0067, -0.0474, -0.0705, -0.1724,\n",
            "          -0.0988,  0.0988, -0.0395, -0.0964, -0.0325, -0.0872,  0.0555,\n",
            "           0.1036, -0.0059,  0.0644,  0.0557, -0.0301]]],\n",
            "       grad_fn=<AddBackward0>)\n",
            "loss: 3.009321451187134\n",
            "i: 11 char: y\n",
            "output: tensor([[[-0.0872, -0.0281,  0.0280,  0.0028, -0.0450, -0.0547, -0.1696,\n",
            "          -0.0983,  0.0948, -0.0036, -0.1163, -0.0580, -0.1160,  0.1136,\n",
            "           0.1261, -0.0440,  0.0892,  0.0183, -0.0598]]],\n",
            "       grad_fn=<AddBackward0>)\n",
            "loss: 2.9298665523529053\n",
            "i: 12 char:  \n",
            "output: tensor([[[-0.0446, -0.0374,  0.0469,  0.0295, -0.0411, -0.1152, -0.2335,\n",
            "          -0.0799,  0.0636, -0.0268, -0.0715, -0.0158, -0.1087,  0.0992,\n",
            "           0.1226, -0.0317,  0.1088,  0.0063, -0.0298]]],\n",
            "       grad_fn=<AddBackward0>)\n",
            "loss: 2.9448318481445312\n",
            "i: 13 char: i\n",
            "output: tensor([[[-0.0213, -0.0873,  0.0571,  0.0243, -0.0238, -0.0731, -0.1911,\n",
            "          -0.0576,  0.0525, -0.0203, -0.0888, -0.0367, -0.1099,  0.0941,\n",
            "           0.0767, -0.0181,  0.0888,  0.0202, -0.0463]]],\n",
            "       grad_fn=<AddBackward0>)\n",
            "loss: 2.951890468597412\n",
            "i: 14 char: s\n",
            "output: tensor([[[-2.2784e-02, -9.7545e-02,  2.4399e-02,  4.3674e-02,  1.2242e-04,\n",
            "          -7.9208e-02, -2.0071e-01, -5.0833e-02,  3.8680e-02, -3.4771e-02,\n",
            "          -6.3573e-02, -2.1976e-02, -9.6505e-02,  1.1137e-01,  9.2252e-02,\n",
            "           1.6053e-02,  6.4913e-02,  1.4646e-02, -4.1973e-02]]],\n",
            "       grad_fn=<AddBackward0>)\n",
            "loss: 2.981904983520508\n",
            "i: 15 char:  \n",
            "output: tensor([[[-0.0262, -0.0674,  0.0257,  0.0325, -0.0282, -0.0893, -0.2316,\n",
            "          -0.0411,  0.0478, -0.0525, -0.1043, -0.0538, -0.0714,  0.0842,\n",
            "           0.0842, -0.0294,  0.0649, -0.0006, -0.0305]]],\n",
            "       grad_fn=<AddBackward0>)\n",
            "loss: 2.9752817153930664\n",
            "i: 16 char: s\n",
            "output: tensor([[[-0.0066, -0.1105,  0.0430,  0.0235, -0.0201, -0.0635, -0.1918,\n",
            "          -0.0371,  0.0450, -0.0383, -0.1073, -0.0470, -0.0938,  0.0829,\n",
            "           0.0600, -0.0192,  0.0658,  0.0182, -0.0522]]],\n",
            "       grad_fn=<AddBackward0>)\n",
            "loss: 2.9602279663085938\n",
            "i: 17 char: t\n",
            "output: tensor([[[-0.0145, -0.0713,  0.0331,  0.0245, -0.0326, -0.0838, -0.2264,\n",
            "          -0.0344,  0.0503, -0.0529, -0.1281, -0.0700, -0.0701,  0.0706,\n",
            "           0.0707, -0.0479,  0.0669,  0.0010, -0.0376]]],\n",
            "       grad_fn=<AddBackward0>)\n",
            "loss: 2.9880361557006836\n",
            "i: 18 char: a\n",
            "output: tensor([[[-0.0244, -0.1043,  0.0376,  0.0605, -0.0488, -0.0946, -0.2401,\n",
            "          -0.0870,  0.0614, -0.0792, -0.1041,  0.0172, -0.0623,  0.0786,\n",
            "           0.1109, -0.0528,  0.0929, -0.0090, -0.0496]]],\n",
            "       grad_fn=<AddBackward0>)\n",
            "loss: 2.946227550506592\n",
            "i: 19 char: r\n",
            "output: tensor([[[-0.0530, -0.0523,  0.0333,  0.0264, -0.0434, -0.0712, -0.2067,\n",
            "          -0.0881,  0.0732, -0.0274, -0.1236, -0.0291, -0.1026,  0.1179,\n",
            "           0.1279, -0.0675,  0.0997, -0.0087, -0.0697]]],\n",
            "       grad_fn=<AddBackward0>)\n",
            "loss: 3.1302242279052734\n",
            "i: 20 char:  \n",
            "output: tensor([[[-0.0369, -0.0732,  0.0243,  0.0084, -0.0390, -0.0452, -0.1876,\n",
            "          -0.0996,  0.0603, -0.0041, -0.1435, -0.0381, -0.0868,  0.1293,\n",
            "           0.1092, -0.0502,  0.0648, -0.0162, -0.0757]]],\n",
            "       grad_fn=<AddBackward0>)\n",
            "loss: 2.959340810775757\n",
            "i: 21 char: w\n",
            "output: tensor([[[-0.0152, -0.1083,  0.0521,  0.0125, -0.0209, -0.0391, -0.1660,\n",
            "          -0.0686,  0.0547, -0.0084, -0.1325, -0.0513, -0.1055,  0.1064,\n",
            "           0.0719, -0.0272,  0.0674,  0.0091, -0.0679]]],\n",
            "       grad_fn=<AddBackward0>)\n",
            "loss: 2.9513015747070312\n",
            "i: 22 char: a\n",
            "output: tensor([[[-0.0746, -0.0673,  0.0560, -0.0120, -0.0235, -0.0610, -0.1624,\n",
            "          -0.0648,  0.0776, -0.0260, -0.1417, -0.0491, -0.1271,  0.1240,\n",
            "           0.1127, -0.0208,  0.0865, -0.0047, -0.0456]]],\n",
            "       grad_fn=<AddBackward0>)\n",
            "loss: 2.999948263168335\n",
            "i: 23 char: r\n",
            "output: tensor([[[-0.0840, -0.0366,  0.0389, -0.0112, -0.0320, -0.0535, -0.1601,\n",
            "          -0.0804,  0.0857, -0.0030, -0.1491, -0.0698, -0.1298,  0.1450,\n",
            "           0.1375, -0.0463,  0.0952, -0.0133, -0.0645]]],\n",
            "       grad_fn=<AddBackward0>)\n",
            "loss: 3.0856285095214844\n",
            "i: 24 char: s\n",
            "output: tensor([[[-0.0568, -0.0661,  0.0259, -0.0110, -0.0333, -0.0360, -0.1603,\n",
            "          -0.0980,  0.0682,  0.0070, -0.1594, -0.0622, -0.0986,  0.1446,\n",
            "           0.1197, -0.0365,  0.0614, -0.0215, -0.0712]]],\n",
            "       grad_fn=<AddBackward0>)\n",
            "loss: 3.0202417373657227\n",
            "i: 25 char:  \n",
            "output: tensor([[[-0.0448, -0.0503,  0.0349,  0.0075, -0.0357, -0.0695, -0.2100,\n",
            "          -0.0707,  0.0653, -0.0277, -0.1615, -0.0811, -0.0839,  0.1025,\n",
            "           0.1022, -0.0523,  0.0626, -0.0228, -0.0422]]],\n",
            "       grad_fn=<AddBackward0>)\n",
            "loss: 2.998202085494995\n",
            "i: 26 char: d\n",
            "output: tensor([[[-0.0173, -0.1003,  0.0546,  0.0120, -0.0206, -0.0552, -0.1810,\n",
            "          -0.0524,  0.0529, -0.0236, -0.1403, -0.0658, -0.1056,  0.0928,\n",
            "           0.0708, -0.0316,  0.0645,  0.0043, -0.0555]]],\n",
            "       grad_fn=<AddBackward0>)\n",
            "loss: 2.9760663509368896\n",
            "i: 27 char: a\n",
            "output: tensor([[[-0.0657, -0.0655,  0.0615, -0.0106, -0.0179, -0.0548, -0.1661,\n",
            "          -0.0645,  0.0907, -0.0213, -0.1396, -0.0751, -0.0926,  0.0653,\n",
            "           0.0814, -0.0126,  0.0508,  0.0363, -0.0321]]],\n",
            "       grad_fn=<AddBackward0>)\n",
            "loss: 2.9898884296417236\n",
            "i: 28 char: y\n",
            "output: tensor([[[-0.0763, -0.0365,  0.0408, -0.0034, -0.0266, -0.0492, -0.1701,\n",
            "          -0.0797,  0.0847,  0.0046, -0.1391, -0.0807, -0.1147,  0.1176,\n",
            "           0.1164, -0.0479,  0.0803,  0.0061, -0.0595]]],\n",
            "       grad_fn=<AddBackward0>)\n",
            "loss: 2.9202804565429688\n",
            "i: 29 char:  \n",
            "output: tensor([[[-0.0378, -0.0403,  0.0527,  0.0280, -0.0300, -0.1135, -0.2358,\n",
            "          -0.0703,  0.0554, -0.0228, -0.0831, -0.0282, -0.1059,  0.1005,\n",
            "           0.1186, -0.0347,  0.1031, -0.0013, -0.0288]]],\n",
            "       grad_fn=<AddBackward0>)\n",
            "loss: 2.956406831741333\n",
            "i: 30 char: m\n",
            "output: tensor([[[-0.0172, -0.0878,  0.0594,  0.0245, -0.0173, -0.0730, -0.1937,\n",
            "          -0.0528,  0.0462, -0.0182, -0.0945, -0.0431, -0.1070,  0.0943,\n",
            "           0.0754, -0.0200,  0.0850,  0.0156, -0.0453]]],\n",
            "       grad_fn=<AddBackward0>)\n",
            "loss: 2.8813586235046387\n",
            "i: 31 char: a\n",
            "output: tensor([[[-0.0679, -0.0282,  0.0442,  0.0059, -0.0061, -0.0847, -0.2035,\n",
            "          -0.0322,  0.0603, -0.0444, -0.1059, -0.0973, -0.0549,  0.0918,\n",
            "           0.0919, -0.0119,  0.0596,  0.0019, -0.0252]]],\n",
            "       grad_fn=<AddBackward0>)\n",
            "loss: 2.9935061931610107\n",
            "i: 32 char: y\n",
            "output: tensor([[[-0.0729, -0.0169,  0.0388,  0.0007, -0.0208, -0.0659, -0.1878,\n",
            "          -0.0676,  0.0744, -0.0098, -0.1247, -0.0923, -0.0875,  0.1232,\n",
            "           0.1232, -0.0442,  0.0820, -0.0076, -0.0540]]],\n",
            "       grad_fn=<AddBackward0>)\n",
            "loss: 2.9359259605407715\n",
            "i: 33 char:  \n",
            "output: tensor([[[-0.0331, -0.0309,  0.0550,  0.0276, -0.0269, -0.1223, -0.2452,\n",
            "          -0.0662,  0.0529, -0.0303, -0.0762, -0.0338, -0.0887,  0.1002,\n",
            "           0.1234, -0.0311,  0.1035, -0.0059, -0.0256]]],\n",
            "       grad_fn=<AddBackward0>)\n",
            "loss: 2.9631097316741943\n",
            "i: 34 char: t\n",
            "output: tensor([[[-0.0135, -0.0835,  0.0623,  0.0227, -0.0164, -0.0775, -0.1984,\n",
            "          -0.0524,  0.0468, -0.0220, -0.0911, -0.0454, -0.0965,  0.0925,\n",
            "           0.0788, -0.0179,  0.0855,  0.0145, -0.0431]]],\n",
            "       grad_fn=<AddBackward0>)\n",
            "loss: 3.0249054431915283\n",
            "i: 35 char: h\n",
            "output: tensor([[[-2.9561e-02, -1.0457e-01,  5.2435e-02,  5.7609e-02, -4.0433e-02,\n",
            "          -8.7057e-02, -2.2144e-01, -9.6436e-02,  6.1830e-02, -6.2166e-02,\n",
            "          -8.2015e-02,  1.9432e-02, -6.8110e-02,  8.9211e-02,  1.1423e-01,\n",
            "          -3.6843e-02,  1.0271e-01, -1.8539e-04, -4.5498e-02]]],\n",
            "       grad_fn=<AddBackward0>)\n",
            "loss: 2.825352191925049\n",
            "i: 36 char: e\n",
            "output: tensor([[[-0.0428, -0.0505,  0.0598,  0.0366, -0.0563, -0.1103, -0.1988,\n",
            "          -0.1233,  0.0686, -0.0406, -0.0893, -0.0221, -0.0764,  0.0655,\n",
            "           0.1405, -0.0463,  0.1172,  0.0176, -0.0485]]],\n",
            "       grad_fn=<AddBackward0>)\n",
            "loss: 2.8903419971466064\n",
            "i: 37 char:  \n",
            "output: tensor([[[-0.0895, -0.0216,  0.0549,  0.0049, -0.0087, -0.1157, -0.1745,\n",
            "          -0.1224,  0.0617, -0.0583, -0.0719, -0.0523, -0.0667,  0.0690,\n",
            "           0.1363, -0.0257,  0.1152,  0.0136, -0.0348]]],\n",
            "       grad_fn=<AddBackward0>)\n",
            "loss: 2.979605197906494\n",
            "i: 38 char: 4\n",
            "output: tensor([[[-0.0378, -0.0901,  0.0572,  0.0087, -0.0018, -0.0678, -0.1623,\n",
            "          -0.0797,  0.0578, -0.0328, -0.0892, -0.0546, -0.0913,  0.0808,\n",
            "           0.0840, -0.0174,  0.0909,  0.0229, -0.0478]]],\n",
            "       grad_fn=<AddBackward0>)\n",
            "loss: 3.017425060272217\n",
            "i: 39 char: t\n",
            "output: tensor([[[-0.0126, -0.0886,  0.0320, -0.0044,  0.0315, -0.0462, -0.1707,\n",
            "          -0.0810,  0.0634, -0.0295, -0.1018, -0.0525, -0.1211,  0.1053,\n",
            "           0.0991,  0.0067,  0.0672,  0.0016, -0.0396]]],\n",
            "       grad_fn=<AddBackward0>)\n",
            "loss: 3.0502548217773438\n",
            "i: 40 char: h\n",
            "output: tensor([[[-0.0299, -0.1079,  0.0328,  0.0461, -0.0105, -0.0662, -0.2117,\n",
            "          -0.1056,  0.0646, -0.0659, -0.0930,  0.0087, -0.0838,  0.0978,\n",
            "           0.1218, -0.0237,  0.0892, -0.0084, -0.0403]]],\n",
            "       grad_fn=<AddBackward0>)\n",
            "loss: 2.838261842727661\n",
            "i: 41 char:  \n",
            "output: tensor([[[-0.0431, -0.0510,  0.0477,  0.0321, -0.0378, -0.0979, -0.1979,\n",
            "          -0.1272,  0.0668, -0.0424, -0.0980, -0.0314, -0.0865,  0.0705,\n",
            "           0.1431, -0.0402,  0.1085,  0.0127, -0.0433]]],\n",
            "       grad_fn=<AddBackward0>)\n",
            "loss: 2.9574127197265625\n",
            "i: 42 char: b\n",
            "output: tensor([[[-0.0159, -0.0961,  0.0563,  0.0208, -0.0194, -0.0684, -0.1774,\n",
            "          -0.0813,  0.0593, -0.0287, -0.1001, -0.0424, -0.1053,  0.0817,\n",
            "           0.0885, -0.0278,  0.0923,  0.0264, -0.0520]]],\n",
            "       grad_fn=<AddBackward0>)\n",
            "loss: 3.026705265045166\n",
            "i: 43 char: e\n",
            "output: tensor([[[-0.0261, -0.0817, -0.0010,  0.0389, -0.0113, -0.0306, -0.1654,\n",
            "          -0.0826,  0.0700, -0.0359, -0.0824, -0.0102, -0.1240,  0.0979,\n",
            "           0.1050, -0.0700,  0.0930,  0.0179, -0.0762]]],\n",
            "       grad_fn=<AddBackward0>)\n",
            "loss: 2.8885891437530518\n",
            "i: 44 char:  \n",
            "output: tensor([[[-0.0858, -0.0330,  0.0108,  0.0085,  0.0186, -0.0696, -0.1483,\n",
            "          -0.0939,  0.0608, -0.0600, -0.0756, -0.0545, -0.0791,  0.0766,\n",
            "           0.1206, -0.0344,  0.0970,  0.0143, -0.0479]]],\n",
            "       grad_fn=<AddBackward0>)\n",
            "loss: 2.9816572666168213\n",
            "i: 45 char: w\n",
            "output: tensor([[[-0.0378, -0.0931,  0.0295,  0.0134,  0.0134, -0.0420, -0.1458,\n",
            "          -0.0624,  0.0561, -0.0376, -0.0942, -0.0605, -0.0925,  0.0815,\n",
            "           0.0779, -0.0192,  0.0793,  0.0231, -0.0543]]],\n",
            "       grad_fn=<AddBackward0>)\n",
            "loss: 2.9465107917785645\n",
            "i: 46 char: i\n",
            "output: tensor([[[-0.0848, -0.0594,  0.0349, -0.0119, -0.0040, -0.0586, -0.1532,\n",
            "          -0.0616,  0.0808, -0.0410, -0.1206, -0.0556, -0.1155,  0.1113,\n",
            "           0.1160, -0.0161,  0.0899,  0.0026, -0.0378]]],\n",
            "       grad_fn=<AddBackward0>)\n",
            "loss: 2.931126356124878\n",
            "i: 47 char: t\n",
            "output: tensor([[[-0.0594, -0.0872,  0.0071,  0.0227,  0.0078, -0.0718, -0.1812,\n",
            "          -0.0569,  0.0598, -0.0455, -0.0871, -0.0291, -0.1023,  0.1230,\n",
            "           0.1179,  0.0224,  0.0637,  0.0015, -0.0355]]],\n",
            "       grad_fn=<AddBackward0>)\n",
            "loss: 3.0321805477142334\n",
            "i: 48 char: h\n",
            "output: tensor([[[-0.0591, -0.1141,  0.0208,  0.0552, -0.0340, -0.0824, -0.2163,\n",
            "          -0.0973,  0.0726, -0.0750, -0.0855,  0.0375, -0.0743,  0.1042,\n",
            "           0.1357, -0.0114,  0.0903, -0.0102, -0.0404]]],\n",
            "       grad_fn=<AddBackward0>)\n",
            "loss: 2.837616443634033\n",
            "i: 49 char:  \n",
            "output: tensor([[[-0.0620, -0.0589,  0.0411,  0.0333, -0.0553, -0.1068, -0.1972,\n",
            "          -0.1241,  0.0768, -0.0468, -0.0946, -0.0084, -0.0822,  0.0729,\n",
            "           0.1523, -0.0304,  0.1103,  0.0115, -0.0452]]],\n",
            "       grad_fn=<AddBackward0>)\n",
            "loss: 2.9347167015075684\n",
            "i: 50 char: y\n",
            "output: tensor([[[-0.0277, -0.1024,  0.0528,  0.0200, -0.0315, -0.0736, -0.1753,\n",
            "          -0.0794,  0.0681, -0.0310, -0.0986, -0.0256, -0.1031,  0.0827,\n",
            "           0.0945, -0.0202,  0.0945,  0.0255, -0.0543]]],\n",
            "       grad_fn=<AddBackward0>)\n",
            "loss: 2.9579579830169678\n",
            "i: 51 char: o\n",
            "output: tensor([[[-8.4380e-03, -7.1408e-02,  5.6047e-02,  3.7341e-02, -3.3542e-02,\n",
            "          -1.2525e-01, -2.3754e-01, -6.7388e-02,  5.4247e-02, -4.2931e-02,\n",
            "          -5.7531e-02, -6.0707e-05, -9.1772e-02,  8.1432e-02,  1.1014e-01,\n",
            "          -2.1976e-02,  1.1551e-01,  1.6595e-02, -2.5968e-02]]],\n",
            "       grad_fn=<AddBackward0>)\n",
            "loss: 2.8499860763549805\n",
            "i: 52 char: u\n",
            "output: tensor([[[-0.0375, -0.0414,  0.0014,  0.0444, -0.0501, -0.1165, -0.2213,\n",
            "          -0.0933,  0.0397, -0.0361, -0.0487,  0.0013, -0.0859,  0.0762,\n",
            "           0.1341, -0.0129,  0.1017,  0.0285, -0.0432]]],\n",
            "       grad_fn=<AddBackward0>)\n",
            "loss: 2.794593334197998\n"
          ]
        }
      ]
    },
    {
      "cell_type": "markdown",
      "source": [
        "**Finalmente, con el token final, deberíamos esperar generar el token `<EOS>`, para que la RNN aprenda cuándo dejar de generar caracteres.**"
      ],
      "metadata": {
        "id": "mE03Pet2NLzy"
      }
    },
    {
      "cell_type": "code",
      "source": [
        "# ingresar el target anterior y el estado olculto anterior al modelo\n",
        "output, hidden = model(target, hidden)\n",
        "\n",
        "# obtener el tensor en 2D del caracter <EOS>\n",
        "eos = vocab_stoi[\"<EOS>\"]\n",
        "target = torch.Tensor([eos]).long().unsqueeze(0)\n",
        "\n",
        "# redimensionar output a un tensor 2D, redimensionar el target a un tensor 1D y calcular la pérdida\n",
        "loss = loss_function(output.reshape(-1, vocab_size), target.reshape(-1))\n",
        "\n",
        "print(f\"char:{vocab_itos[eos]} output: {output} loss: {loss}\")"
      ],
      "metadata": {
        "colab": {
          "base_uri": "https://localhost:8080/"
        },
        "id": "zqULcpPBNaDh",
        "outputId": "edaae37f-900e-48dc-f328-6376d04d4dab"
      },
      "execution_count": 56,
      "outputs": [
        {
          "output_type": "stream",
          "name": "stdout",
          "text": [
            "char:<EOS> output: tensor([[[-0.0178, -0.0918,  0.0321,  0.0305, -0.0473, -0.0778, -0.2160,\n",
            "          -0.0814,  0.0509,  0.0039, -0.1065, -0.0217, -0.0715,  0.0601,\n",
            "           0.1044,  0.0148,  0.0725, -0.0019, -0.0377]]],\n",
            "       grad_fn=<AddBackward0>) loss: 2.9636733531951904\n"
          ]
        }
      ]
    },
    {
      "cell_type": "markdown",
      "source": [
        "> NOTA: En la práctica, realmente no necesitamos un bucle. Hay que recordar que en una RNN, el módulo `nn.RNN` puede tomar una secuencia completa como entrada.\n",
        "\n",
        "Podemos hacer lo mismo aquí:\n",
        "\n"
      ],
      "metadata": {
        "id": "JV7sfqtQQoRz"
      }
    },
    {
      "cell_type": "code",
      "source": [
        "# definir el tweet de caracteres, poner al inicio y fin los tokens \"especiales\"\n",
        "tweet_char = [\"<BOS>\"] + list(tweet) + [\"<EOS>\"]\n",
        "\n",
        "# obtener los índices del tweet\n",
        "tweet_indexes = [vocab_stoi[ch] for ch in tweet_char]\n",
        "\n",
        "# convertir el tweet codificado a tensores en 2D\n",
        "tweet_tensor = torch.Tensor(tweet_indexes).long().unsqueeze(0)\n",
        "\n",
        "# visuaizar el shape del tensor\n",
        "print(f\"tweet_tensor.shape:\\t{tweet_tensor.shape}\\n\") # [1, 55] --> 53 (tweet) + 2 (tokens especiales)\n",
        "\n",
        "print (f\"tweet_tensor:\\t{tweet_tensor}\\n\")\n",
        "print (f'17:\\t{vocab_itos[17]}\\t18:\\t{vocab_itos[18]}\\n\\n')\n",
        "\n",
        "print (f\"tweet_tensor[:,:-1]:\\t{tweet_tensor[:,:-1]}\\n\\n\") # <EOS> nunca es un token de entrada\n",
        "print (f\"tweet_tensor[:,1:]:\\t{tweet_tensor[:,1:]}\\n\\n\") # <BOS> nunca es un token objetivo\n",
        "\n",
        "# ingresar el tweet al modelo\n",
        "output, hidden = model(tweet_tensor[:,:-1])\n",
        "\n",
        "# vector de targets\n",
        "target = tweet_tensor[:,1:]\n",
        "\n",
        "# redimensionar output a un tensor 2D, redimensionar el target a un tensor 1D y calcular la pérdida\n",
        "loss = loss_function(output.reshape(-1, vocab_size), target.reshape(-1))\n",
        "\n",
        "print (f\"pérdida:\\t{loss}\")"
      ],
      "metadata": {
        "colab": {
          "base_uri": "https://localhost:8080/"
        },
        "id": "d0d3XjtqQ_x6",
        "outputId": "576ac778-0e2f-4560-bb80-7f39a2ca4e9a"
      },
      "execution_count": 57,
      "outputs": [
        {
          "output_type": "stream",
          "name": "stdout",
          "text": [
            "tweet_tensor.shape:\ttorch.Size([1, 55])\n",
            "\n",
            "tweet_tensor:\ttensor([[17,  9,  3,  7,  2,  2,  2, 11, 12, 13,  5,  0,  9, 11,  4,  7, 11,  7,\n",
            "         12,  0,  6, 11, 15,  0,  6,  7, 11,  5,  0,  9, 11,  8,  0,  9, 11, 12,\n",
            "         16,  3, 11,  1, 12, 16, 11, 10,  3, 11, 15,  4, 12, 16, 11,  9, 13, 14,\n",
            "         18]])\n",
            "\n",
            "17:\t<BOS>\t18:\t<EOS>\n",
            "\n",
            "\n",
            "tweet_tensor[:,:-1]:\ttensor([[17,  9,  3,  7,  2,  2,  2, 11, 12, 13,  5,  0,  9, 11,  4,  7, 11,  7,\n",
            "         12,  0,  6, 11, 15,  0,  6,  7, 11,  5,  0,  9, 11,  8,  0,  9, 11, 12,\n",
            "         16,  3, 11,  1, 12, 16, 11, 10,  3, 11, 15,  4, 12, 16, 11,  9, 13, 14]])\n",
            "\n",
            "\n",
            "tweet_tensor[:,1:]:\ttensor([[ 9,  3,  7,  2,  2,  2, 11, 12, 13,  5,  0,  9, 11,  4,  7, 11,  7, 12,\n",
            "          0,  6, 11, 15,  0,  6,  7, 11,  5,  0,  9, 11,  8,  0,  9, 11, 12, 16,\n",
            "          3, 11,  1, 12, 16, 11, 10,  3, 11, 15,  4, 12, 16, 11,  9, 13, 14, 18]])\n",
            "\n",
            "\n",
            "pérdida:\t2.955975294113159\n"
          ]
        }
      ]
    },
    {
      "cell_type": "markdown",
      "source": [
        "La entrada del modelo de red neuronal es la secuencia completa de tokens de entrada del tweet (todo, desde `<BOS>` hasta el último carácter del tweet).\n",
        "\n",
        "La red neuronal genera una distribución de predicción del siguiente token en cada paso.\n",
        "\n",
        "Se puede comparar cada uno de estos con el objetivo real (**the ground-truth or actual target token**)."
      ],
      "metadata": {
        "id": "UUOE5xjQVBo9"
      }
    },
    {
      "cell_type": "code",
      "source": [
        "# ciclo de entrenamiento (para aprender a generar el tweet único):\n",
        "\n",
        "# definir optimizador\n",
        "optimizer = torch.optim.Adam(model.parameters(), lr=0.001)\n",
        "\n",
        "# definir la función de pérdida\n",
        "loss_function = nn.CrossEntropyLoss()\n",
        "\n",
        "EPOCHS = 500\n",
        "\n",
        "for i in range(EPOCHS):\n",
        "    optimizer.zero_grad()\n",
        "\n",
        "    output, _ = model(tweet_tensor[:,:-1])\n",
        "    \n",
        "    # redimensionar output a un tensor 2D, redimensionar el target a un tensor 1D y calcular la pérdida\n",
        "    loss = loss_function(output.reshape(-1, vocab_size), target.reshape(-1))\n",
        "\n",
        "    # backpropagation\n",
        "    loss.backward()\n",
        "    \n",
        "    # actualizar los pesos\n",
        "    optimizer.step()\n",
        "\n",
        "    # imprimir el \"epoch\" y la pérdida\n",
        "    if (i+1) % 100 == 0:\n",
        "        print(f\"[Iteración {i+1}] Loss {float(loss)}\")"
      ],
      "metadata": {
        "colab": {
          "base_uri": "https://localhost:8080/"
        },
        "id": "hyPRWfDcVvwg",
        "outputId": "c571aafa-ea77-47a8-f65d-3e280c2eb1c3"
      },
      "execution_count": 58,
      "outputs": [
        {
          "output_type": "stream",
          "name": "stdout",
          "text": [
            "[Iteración 100] Loss 1.8953173160552979\n",
            "[Iteración 200] Loss 0.2369401603937149\n",
            "[Iteración 300] Loss 0.038695141673088074\n",
            "[Iteración 400] Loss 0.016332807019352913\n",
            "[Iteración 500] Loss 0.009432274848222733\n"
          ]
        }
      ]
    },
    {
      "cell_type": "markdown",
      "source": [
        "La pérdida obtenida del entrenamiento está disminuyendo con el entrenamiento, que es lo que esperamos."
      ],
      "metadata": {
        "id": "VUU3UWseXF99"
      }
    },
    {
      "cell_type": "markdown",
      "source": [
        "# Generación de un token\n",
        "En este punto, se desea ver si el modelo realmente está aprendiendo algo.\n",
        "\n",
        "Entonces, ¿Cómo se va a utilizar el modelo para generar texto?. \n",
        "\n",
        "Si podemos generar texto, podemos hacer una evaluación cualitativa de qué tan bien está funcionando la RNN.\n",
        "\n",
        "La principal diferencia entre el entrenamiento y el test (tiempo de generación) es que no tenemos los tokens verdaderos para alimentarlos como entradas a la RNN. En su lugar, se necesita muestrear un token en función de la distribución de predicción de la red neuronal.\n",
        "\n",
        "Pero, ¿cómo podemos probar un token de una distribución?\n",
        "\n",
        "Por un lado, siempre se puede tomar el token con mayor probabilidad (argmax). Esta ha sido la técnica de referencia en otras tareas de clasificación. \n",
        "\n",
        "Sin embargo, esta idea fallará aquí. La razón es que, en la práctica, **queremos poder generar una variedad de secuencias diferentes a partir del mismo modelo**. Una RNN que solamente pueda generar un nuevo tweet `happiness` es bastante inútil.\n",
        "\n",
        "En resumen, queremos algo de aleatoriedad. Se puede hacer usando los `logits` de salida del modelo para construir una distribución multinomial sobre los tokens y luego muestrear un token aleatorio de esa distribución multinomial.\n",
        "\n",
        "> **logits**: *son interpretados como predicciones (o resultados) no normalizadas (o aún no normalizadas) de un modelo.*\n",
        "\n",
        "Una distribución multinomial que se puede elegir es la distribución que se obtiene después de aplicar el la función `softmax` en las salidas. Sin embargo, haremos una cosa más: \n",
        "\n",
        "Se agrega un **parámetro de temperatura** para manipular las salidas de la función `softmax`.\n",
        "\n",
        "Se puede establecer una temperatura más alta para que la probabilidad de cada token sea más uniforme (más aleatoria), o una temperatura más baja para asignar más probabilidad a los tokens con un `logit` más alto (salida). \n",
        "\n",
        "Una temperatura más alta significa que obtendremos una muestra más diversa, con potencialmente más errores.\n",
        "\n",
        "Una temperatura más baja significa que podemos ver repeticiones de la misma secuencia de alta probabilidad.\n"
      ],
      "metadata": {
        "id": "G8pbDkPnXmJj"
      }
    },
    {
      "cell_type": "code",
      "source": [
        "def sample_sequence(model, max_len=100, temperature=0.8):\n",
        "    generated_sequence = \"\"\n",
        "   \n",
        "    # entrada\n",
        "    inp = torch.Tensor([vocab_stoi[\"<BOS>\"]]).long()\n",
        "\n",
        "    # capa de estados ocultos\n",
        "    hidden = None\n",
        "\n",
        "    # iterar para generar texto\n",
        "    for p in range(max_len):\n",
        "        # pasar parámetros al modelo. Agregar una dimension a inp --> tensor 2D\n",
        "        output, hidden = model(inp.unsqueeze(0), hidden)\n",
        "\n",
        "        # obtener una muestra de la red como una distribución multinomial\n",
        "        # torch.div(input, other) --> divide cada elemento de la entrada \"input\" por el elemento correspondiente de \"other\".\n",
        "        # torch.exp(input) --> devuelve un nuevo tensor con la exponencial de los elementos del tensor de entrada \"input\".\n",
        "        # print (f\"output.shape:\\t{output.shape}\") # torch.Size([1, 1, 19])\n",
        "        # print (f\"output.data.view(-1):\\t{output.data.view(-1).shape}\") # torch.Size([19])\n",
        "        output_dist = output.data.view(-1).div(temperature).exp()\n",
        "\n",
        "        # torch.multinomial(input, num_samples) --> devuelve un tensor donde cada fila contiene índices muestreados (\"num_samples\") de la distribución \n",
        "        # de probabilidad multinomial ubicada en la fila correspondiente del tensor \"input\".\n",
        "        top_i = int(torch.multinomial(output_dist, 1)[0]) # obtener el mejor\n",
        "\n",
        "        # agregar el carácter predicho a la cadena y utilizarlo como siguiente entrada\n",
        "        predicted_char = vocab_itos[top_i]\n",
        "        \n",
        "        # si se llega al final de la secuencia (tweet) predicha, salir del ciclo\n",
        "        if predicted_char == \"<EOS>\":\n",
        "            break\n",
        "\n",
        "        # agregar el caracter predicho a la cadena generada  \n",
        "        generated_sequence += predicted_char\n",
        "\n",
        "        # convertir la siguiente entrada a un tensor long\n",
        "        inp = torch.Tensor([top_i]).long()\n",
        "    return generated_sequence\n",
        "\n",
        "print (tweet,'\\n')\n",
        "\n",
        "print(sample_sequence(model, temperature=0.5))\n",
        "print(sample_sequence(model, temperature=0.8))\n",
        "print(sample_sequence(model, temperature=1.0))\n",
        "print(sample_sequence(model, temperature=1.5))\n",
        "print(sample_sequence(model, temperature=2.0))\n",
        "print(sample_sequence(model, temperature=5.0))"
      ],
      "metadata": {
        "colab": {
          "base_uri": "https://localhost:8080/"
        },
        "id": "gP5Q3i5fbCa1",
        "outputId": "13cf42a4-fb54-4f91-811d-1378f4bc1b7a"
      },
      "execution_count": 59,
      "outputs": [
        {
          "output_type": "stream",
          "name": "stdout",
          "text": [
            "yes... today is star wars day may the 4th be with you \n",
            "\n",
            "yes... today is star wars day may the 4th be with you\n",
            "yes... today is star wars day may the 4th be with you\n",
            "yes... today is star wars day may the 4th be withdyou\n",
            "yes... today ss star raas day may the 4th 4e  ith you\n",
            "des..a thaywissstar w\n",
            " swet<BOS> o\n"
          ]
        }
      ]
    },
    {
      "cell_type": "markdown",
      "source": [
        "Dado que solo se ha entrenado el modelo en una sola secuencia, aún no se observa el efecto del parámetro de `temperatura`. \n",
        "\n",
        "Por ahora, el resultado de las llamadas a la función `sample_sequence` indica que el entrenamiento parece razonable."
      ],
      "metadata": {
        "id": "JDJe1tNNgWGr"
      }
    },
    {
      "cell_type": "markdown",
      "source": [
        "# Ejercicio\n",
        "Completar el entrenamiento con el conjunto de datos completo.\n",
        "\n",
        "\n",
        "*   Usar los tweets de la clase `happiness`, y\n",
        "*   el conjunto de tweets (100) en español de la clase pasada.\n",
        "*   O emplear el libro \"The Time Machine, by H. G. Wells [1898]\" del repositorio, o utilizar otro libro en español para generar texto con la GRU.  \n",
        "\n"
      ],
      "metadata": {
        "id": "8BODo1F5gprQ"
      }
    },
    {
      "cell_type": "code",
      "source": [
        "# # EJEMPLO TOMADO DE https://stackoverflow.com/questions/66964723/get-the-length-of-every-sentence-before-padding-in-torchtext-bucketiterator\n",
        "\n",
        "# import torchtext.legacy.data as data\n",
        "\n",
        "\n",
        "# # sample data\n",
        "# text = [\n",
        "#    'This is sentence 1.',\n",
        "#    'This sentence is a bit longer than the previous sentence.'\n",
        "#  ]\n",
        "\n",
        "# # define field -- notice include_lengths is set to True\n",
        "# text_field = data.Field(include_lengths=True, tokenize=lambda x: x.split())  \n",
        "# fields = [('text', text_field)]\n",
        "\n",
        "# # create dataset and build vocabulary\n",
        "# examples = [data.Example.fromlist([t], fields) for t in text]\n",
        "# dataset = data.Dataset(examples, fields)\n",
        "# text_field.build_vocab(dataset)\n",
        "\n",
        "# print (dict(text_field.vocab.stoi))\n",
        "# print (len(dict(text_field.vocab.stoi)))\n",
        "# print (text_field.vocab.itos)\n",
        "\n",
        "# # create iterator\n",
        "# data_iter = data.BucketIterator(dataset, batch_size=2m, shuffle=False)\n",
        "\n",
        "# # the text field will now return both the data tensor and the length of the input text\n",
        "# for x in data_iter:\n",
        "#      print('Data:', x.text[0])\n",
        "#      print('Lengths:', x.text[1])"
      ],
      "metadata": {
        "id": "t-aUIDYldg2t"
      },
      "execution_count": 65,
      "outputs": []
    },
    {
      "cell_type": "code",
      "source": [
        "import torchtext.legacy.data as data\n",
        "\n",
        "# definir Field\n",
        "# documentación de Field: https://torchtext.readthedocs.io/en/latest/data.html#field\n",
        "text_field = data.Field(sequential = True,                 # Default: True. Indica que se tokenizara\n",
        "                                  tokenize = lambda x: x,  # Default: string.split. Tokenizar a nivel caracter\n",
        "                                  include_lengths = True,  # Default: False. Para realizar un seguimiento de la longitud de las secuencias, para el procesamiento por lotes\n",
        "                                  batch_first = True,      # Default: False. Para producir tensores con la dimensión del lote al inicio.\n",
        "                                  use_vocab = True,        # Default: True. Para convertir cada carácter en un índice entero\n",
        "                                  init_token = \"<BOS>\",    # Default: None. Definir el token BOS\n",
        "                                  eos_token = \"<EOS>\",     # Default: None. Definir el token EOS\n",
        "                                  pad_token = None,        # Default: “<pad>”.\n",
        "                                  unk_token = None)        # Default: “<unk>”.\n",
        "\n",
        "fields = [('text', text_field)]\n",
        "\n",
        "print (type(tweets))\n",
        "print (f\"\\n{tweets[0:2]}\")\n",
        "\n",
        "# obtener las muestras\n",
        "# documentación de Example https://torchtext.readthedocs.io/en/latest/data.html#example\n",
        "muestras = [data.Example.fromlist([t], fields) for t in tweets]\n",
        "\n",
        "# construir el Dataset\n",
        "# documentación de Dataset: https://torchtext.readthedocs.io/en/latest/data.html#dataset\n",
        "dataset = data.Dataset(muestras, fields)\n",
        "\n",
        "# construir el vocabulario\n",
        "text_field.build_vocab(dataset)\n",
        "\n",
        "vocab_stoi = text_field.vocab.stoi # para que no tengamos que reescribir la función sample_sequence\n",
        "vocab_itos = text_field.vocab.itos # para que no tengamos que reescribir la función sample_sequence\n",
        "vocab_size = len(text_field.vocab.itos)\n",
        "\n",
        "print (f\"\\nvocab_stoi:\\t{dict(vocab_stoi)}\\n\")\n",
        "print (f\"vocab_itos:\\t{vocab_itos}\\n\")\n",
        "print (f\"vocab_size:\\t{vocab_size}\")"
      ],
      "metadata": {
        "colab": {
          "base_uri": "https://localhost:8080/"
        },
        "id": "vxoaTfIngiqK",
        "outputId": "e62bd220-57fa-49f6-ccb9-fb21cddabf30"
      },
      "execution_count": 66,
      "outputs": [
        {
          "output_type": "stream",
          "name": "stdout",
          "text": [
            "<class 'list'>\n",
            "\n",
            "[\"mmm much better day... so far it's still quite early. last day of uds\", 'so great to see oin amp; cynthia. so happy. dinner was great, cute little place. too bad oin got sick afterwards.']\n",
            "\n",
            "vocab_stoi:\t{'<BOS>': 0, '<EOS>': 1, ' ': 2, 'e': 3, 'o': 4, 't': 5, 'a': 6, 'i': 7, 'n': 8, 's': 9, 'h': 10, 'r': 11, 'l': 12, 'd': 13, 'y': 14, 'm': 15, 'u': 16, 'g': 17, 'w': 18, '.': 19, 'c': 20, 'f': 21, 'p': 22, 'b': 23, 'k': 24, 'v': 25, \"'\": 26, ',': 27, 'j': 28, 'x': 29, ';': 30, 'q': 31, 'z': 32, '0': 33, '1': 34, '2': 35, '3': 36, ':': 37, '4': 38, '5': 39, '8': 40, '6': 41, '9': 42, '7': 43}\n",
            "\n",
            "vocab_itos:\t['<BOS>', '<EOS>', ' ', 'e', 'o', 't', 'a', 'i', 'n', 's', 'h', 'r', 'l', 'd', 'y', 'm', 'u', 'g', 'w', '.', 'c', 'f', 'p', 'b', 'k', 'v', \"'\", ',', 'j', 'x', ';', 'q', 'z', '0', '1', '2', '3', ':', '4', '5', '8', '6', '9', '7']\n",
            "\n",
            "vocab_size:\t44\n"
          ]
        }
      ]
    },
    {
      "cell_type": "markdown",
      "source": [
        "Implementar funcion para el entrenamiento de todo el conjunto de datos"
      ],
      "metadata": {
        "id": "suF1EWdWkALj"
      }
    },
    {
      "cell_type": "code",
      "source": [
        "def train(model, data_iter, batch_size=1, num_epochs=1, lr=0.001, print_every=100):\n",
        "    optimizer = torch.optim.Adam(model.parameters(), lr=lr)\n",
        "    loss_function = nn.CrossEntropyLoss()\n",
        "    it = 0\n",
        "\n",
        "    for e in range(num_epochs):\n",
        "        avg_loss = 0\n",
        "        for x in data_iter:\n",
        "            target = x.text[0][:, 1:]\n",
        "            inp = x.text[0][:, :-1]\n",
        "\n",
        "            # resetear, limpiar pesos\n",
        "            optimizer.zero_grad()\n",
        "            \n",
        "            # forward\n",
        "            output, _ = model(inp)\n",
        "\n",
        "            # calcular la pérdida\n",
        "            loss = loss_function(output.reshape(-1, vocab_size), target.reshape(-1))\n",
        "\n",
        "            # backward\n",
        "            loss.backward()\n",
        "\n",
        "            # actualizar pesos\n",
        "            optimizer.step()\n",
        "\n",
        "            avg_loss += loss\n",
        "            it += 1 # incrementar el contador de la iteración\n",
        "            if it % print_every == 0:\n",
        "                print(f\"[EPOCH {e+1}/{num_epochs} - iteración: {it:,}] Loss {float(avg_loss/print_every)}\")\n",
        "                # print(f\"\\t{sample_sequence(model, max_len=140, temperature=0.8)}\") # imprimir texto generado \n",
        "                avg_loss = 0"
      ],
      "metadata": {
        "id": "xxO9GAvgkGI3"
      },
      "execution_count": 67,
      "outputs": []
    },
    {
      "cell_type": "code",
      "source": [
        "# realizar el entrenamiento\n",
        "model = TextGenerator(vocab_size, 64)\n",
        "data_iter = data.BucketIterator(dataset, batch_size=1, shuffle=False)\n",
        "train(model, data_iter, batch_size=1, num_epochs=1, lr=0.004, print_every=100)\n",
        "# train(model, data_iter, batch_size=32, num_epochs=2, lr=0.004, print_every=100)"
      ],
      "metadata": {
        "colab": {
          "base_uri": "https://localhost:8080/"
        },
        "id": "X9EGipqxkOVn",
        "outputId": "16493451-92ee-4fe0-ce8d-2eda6704bdfe"
      },
      "execution_count": 68,
      "outputs": [
        {
          "output_type": "stream",
          "name": "stdout",
          "text": [
            "[EPOCH 1/1 - iteración: 100] Loss 3.048532724380493\n",
            "[EPOCH 1/1 - iteración: 200] Loss 2.6520895957946777\n",
            "[EPOCH 1/1 - iteración: 300] Loss 2.4878878593444824\n",
            "[EPOCH 1/1 - iteración: 400] Loss 2.442838191986084\n",
            "[EPOCH 1/1 - iteración: 500] Loss 2.377424716949463\n",
            "[EPOCH 1/1 - iteración: 600] Loss 2.3510961532592773\n",
            "[EPOCH 1/1 - iteración: 700] Loss 2.2481038570404053\n",
            "[EPOCH 1/1 - iteración: 800] Loss 2.2275185585021973\n",
            "[EPOCH 1/1 - iteración: 900] Loss 2.2008490562438965\n",
            "[EPOCH 1/1 - iteración: 1,000] Loss 2.2274558544158936\n",
            "[EPOCH 1/1 - iteración: 1,100] Loss 2.131369113922119\n",
            "[EPOCH 1/1 - iteración: 1,200] Loss 2.1761457920074463\n",
            "[EPOCH 1/1 - iteración: 1,300] Loss 2.153590440750122\n",
            "[EPOCH 1/1 - iteración: 1,400] Loss 2.0738468170166016\n",
            "[EPOCH 1/1 - iteración: 1,500] Loss 2.12138295173645\n",
            "[EPOCH 1/1 - iteración: 1,600] Loss 2.0587167739868164\n",
            "[EPOCH 1/1 - iteración: 1,700] Loss 2.034724712371826\n",
            "[EPOCH 1/1 - iteración: 1,800] Loss 2.0238351821899414\n",
            "[EPOCH 1/1 - iteración: 1,900] Loss 2.0665836334228516\n",
            "[EPOCH 1/1 - iteración: 2,000] Loss 1.9934945106506348\n",
            "[EPOCH 1/1 - iteración: 2,100] Loss 2.0000193119049072\n",
            "[EPOCH 1/1 - iteración: 2,200] Loss 2.0086464881896973\n",
            "[EPOCH 1/1 - iteración: 2,300] Loss 1.9726147651672363\n",
            "[EPOCH 1/1 - iteración: 2,400] Loss 1.975204348564148\n",
            "[EPOCH 1/1 - iteración: 2,500] Loss 1.940536618232727\n",
            "[EPOCH 1/1 - iteración: 2,600] Loss 1.9278054237365723\n",
            "[EPOCH 1/1 - iteración: 2,700] Loss 1.9805898666381836\n",
            "[EPOCH 1/1 - iteración: 2,800] Loss 2.0257561206817627\n",
            "[EPOCH 1/1 - iteración: 2,900] Loss 1.930893898010254\n",
            "[EPOCH 1/1 - iteración: 3,000] Loss 1.9964560270309448\n",
            "[EPOCH 1/1 - iteración: 3,100] Loss 1.9785141944885254\n",
            "[EPOCH 1/1 - iteración: 3,200] Loss 1.9380967617034912\n",
            "[EPOCH 1/1 - iteración: 3,300] Loss 1.941474437713623\n",
            "[EPOCH 1/1 - iteración: 3,400] Loss 1.932566523551941\n",
            "[EPOCH 1/1 - iteración: 3,500] Loss 1.8688429594039917\n",
            "[EPOCH 1/1 - iteración: 3,600] Loss 1.8812229633331299\n",
            "[EPOCH 1/1 - iteración: 3,700] Loss 1.8932178020477295\n",
            "[EPOCH 1/1 - iteración: 3,800] Loss 1.8230165243148804\n",
            "[EPOCH 1/1 - iteración: 3,900] Loss 1.901076078414917\n",
            "[EPOCH 1/1 - iteración: 4,000] Loss 1.896165370941162\n",
            "[EPOCH 1/1 - iteración: 4,100] Loss 1.8492792844772339\n",
            "[EPOCH 1/1 - iteración: 4,200] Loss 1.8329718112945557\n",
            "[EPOCH 1/1 - iteración: 4,300] Loss 1.9171313047409058\n",
            "[EPOCH 1/1 - iteración: 4,400] Loss 1.8892742395401\n",
            "[EPOCH 1/1 - iteración: 4,500] Loss 1.8408411741256714\n",
            "[EPOCH 1/1 - iteración: 4,600] Loss 1.9073066711425781\n",
            "[EPOCH 1/1 - iteración: 4,700] Loss 1.9310126304626465\n",
            "[EPOCH 1/1 - iteración: 4,800] Loss 1.8719538450241089\n",
            "[EPOCH 1/1 - iteración: 4,900] Loss 1.8051409721374512\n",
            "[EPOCH 1/1 - iteración: 5,000] Loss 1.9285645484924316\n"
          ]
        }
      ]
    },
    {
      "cell_type": "markdown",
      "source": [
        "### Generar texto a partir del modelo entrenado con GRU"
      ],
      "metadata": {
        "id": "NbRUWOHPkhwe"
      }
    },
    {
      "cell_type": "code",
      "source": [
        "\n",
        "print(sample_sequence(model, temperature=0.3))\n",
        "print(sample_sequence(model, temperature=0.5))\n",
        "print(sample_sequence(model, temperature=0.8))\n",
        "# print(sample_sequence(model, temperature=0.8))\n",
        "# print(sample_sequence(model, temperature=1.0))\n",
        "# print(sample_sequence(model, temperature=1.0))\n",
        "# print(sample_sequence(model, temperature=1.5))\n",
        "# print(sample_sequence(model, temperature=1.5))\n",
        "# print(sample_sequence(model, temperature=2.0))\n",
        "# print(sample_sequence(model, temperature=2.0))\n",
        "# print(sample_sequence(model, temperature=5.0))\n",
        "# print(sample_sequence(model, temperature=5.0))"
      ],
      "metadata": {
        "colab": {
          "base_uri": "https://localhost:8080/"
        },
        "id": "UvHe-GS4kfeW",
        "outputId": "42499f01-4180-4e7b-bdba-7708a5ecc88d"
      },
      "execution_count": 69,
      "outputs": [
        {
          "output_type": "stream",
          "name": "stdout",
          "text": [
            "happy mother's day to see to make a good more the sunday\n",
            "happy mother's day mome happy mother's day to her your thanks for make to see well for the chee in i\n",
            "forwere we with vishome in that day\n"
          ]
        }
      ]
    }
  ]
}