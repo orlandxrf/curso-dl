{
  "nbformat": 4,
  "nbformat_minor": 0,
  "metadata": {
    "colab": {
      "name": "8c_GRU_TextGeneration.ipynb",
      "provenance": [],
      "collapsed_sections": [],
      "authorship_tag": "ABX9TyNEmBGnOXOe3cwYFlMv6wtf",
      "include_colab_link": true
    },
    "kernelspec": {
      "name": "python3",
      "display_name": "Python 3"
    },
    "language_info": {
      "name": "python"
    }
  },
  "cells": [
    {
      "cell_type": "markdown",
      "metadata": {
        "id": "view-in-github",
        "colab_type": "text"
      },
      "source": [
        "<a href=\"https://colab.research.google.com/github/orlandxrf/curso-dl/blob/main/notebooks/8c_GRU_TextGeneration.ipynb\" target=\"_parent\"><img src=\"https://colab.research.google.com/assets/colab-badge.svg\" alt=\"Open In Colab\"/></a>"
      ]
    },
    {
      "cell_type": "markdown",
      "source": [
        "# Generación de texto usando una GRU"
      ],
      "metadata": {
        "id": "uqJ2YE-jhWsV"
      }
    },
    {
      "cell_type": "code",
      "execution_count": 1,
      "metadata": {
        "id": "vd-Rpna4fiOK",
        "colab": {
          "base_uri": "https://localhost:8080/"
        },
        "outputId": "d758f565-b91b-485e-c2e3-973955e12bc1"
      },
      "outputs": [
        {
          "output_type": "stream",
          "name": "stdout",
          "text": [
            "filepath:\tdata/text_emotion.csv\n"
          ]
        }
      ],
      "source": [
        "# establecer parametros para almacenar y cargar el conjunto de datos del repositorio de Github\n",
        "import os\n",
        "\n",
        "URL = 'https://raw.githubusercontent.com/orlandxrf/curso-dl/main/data/text_emotion.csv'\n",
        "data_folder = 'data'\n",
        "filepath = os.path.join(data_folder, 'text_emotion.csv')\n",
        "print (f\"filepath:\\t{filepath}\")"
      ]
    },
    {
      "cell_type": "markdown",
      "source": [
        "## Cargar el conjunto de datos"
      ],
      "metadata": {
        "id": "YMEoN-nnhhGq"
      }
    },
    {
      "cell_type": "code",
      "source": [
        "# crear carpeta para almacenar el conjunto de datos\n",
        "! mkdir {data_folder}\n",
        "# descargar conjunto de datos y alamcenar\n",
        "! wget -nc {URL} -O {filepath}"
      ],
      "metadata": {
        "colab": {
          "base_uri": "https://localhost:8080/"
        },
        "id": "Sll0mlf_aszv",
        "outputId": "1516c993-bd13-4e50-862f-034b3858e92c"
      },
      "execution_count": 2,
      "outputs": [
        {
          "output_type": "stream",
          "name": "stdout",
          "text": [
            "--2022-03-08 14:27:39--  https://raw.githubusercontent.com/orlandxrf/curso-dl/main/data/text_emotion.csv\n",
            "Resolving raw.githubusercontent.com (raw.githubusercontent.com)... 185.199.108.133, 185.199.109.133, 185.199.110.133, ...\n",
            "Connecting to raw.githubusercontent.com (raw.githubusercontent.com)|185.199.108.133|:443... connected.\n",
            "HTTP request sent, awaiting response... 200 OK\n",
            "Length: 4394791 (4.2M) [text/plain]\n",
            "Saving to: ‘data/text_emotion.csv’\n",
            "\n",
            "data/text_emotion.c 100%[===================>]   4.19M  --.-KB/s    in 0.06s   \n",
            "\n",
            "2022-03-08 14:27:39 (71.4 MB/s) - ‘data/text_emotion.csv’ saved [4394791/4394791]\n",
            "\n"
          ]
        }
      ]
    },
    {
      "cell_type": "code",
      "source": [
        "# comprobrar\n",
        "! ls -lh data/*"
      ],
      "metadata": {
        "colab": {
          "base_uri": "https://localhost:8080/"
        },
        "id": "_aV8rUjwbbBO",
        "outputId": "57dfd034-d2a8-45d2-a38b-24a4b93bf1d2"
      },
      "execution_count": 3,
      "outputs": [
        {
          "output_type": "stream",
          "name": "stdout",
          "text": [
            "-rw-r--r-- 1 root root 4.2M Mar  8 14:27 data/text_emotion.csv\n"
          ]
        }
      ]
    },
    {
      "cell_type": "markdown",
      "source": [
        "# Analizar conjunto de datos"
      ],
      "metadata": {
        "id": "fbNBV1eaXjZr"
      }
    },
    {
      "cell_type": "code",
      "source": [
        "import pandas as pd\n",
        "\n",
        "df = pd.read_csv('data/text_emotion.csv')\n",
        "\n",
        "# eliminar columnas 'tweet_id' y 'author'\n",
        "df.drop('tweet_id',axis=1,inplace=True)\n",
        "df.drop('author',axis=1,inplace=True)\n",
        "print (df.head(10))\n",
        "print (f\"Longitud de tweets: {len(df):,}\")"
      ],
      "metadata": {
        "colab": {
          "base_uri": "https://localhost:8080/"
        },
        "id": "pijhdpXRXnAs",
        "outputId": "c4226d38-8535-4dc7-d1d0-ab3ba93f0d04"
      },
      "execution_count": 4,
      "outputs": [
        {
          "output_type": "stream",
          "name": "stdout",
          "text": [
            "    sentiment                                            content\n",
            "0       empty  @tiffanylue i know  i was listenin to bad habi...\n",
            "1     sadness  Layin n bed with a headache  ughhhh...waitin o...\n",
            "2     sadness                Funeral ceremony...gloomy friday...\n",
            "3  enthusiasm               wants to hang out with friends SOON!\n",
            "4     neutral  @dannycastillo We want to trade with someone w...\n",
            "5       worry  Re-pinging @ghostridah14: why didn't you go to...\n",
            "6     sadness  I should be sleep, but im not! thinking about ...\n",
            "7       worry               Hmmm. http://www.djhero.com/ is down\n",
            "8     sadness            @charviray Charlene my love. I miss you\n",
            "9     sadness         @kelcouch I'm sorry  at least it's Friday?\n",
            "Longitud de tweets: 40,000\n"
          ]
        }
      ]
    },
    {
      "cell_type": "code",
      "source": [
        "import matplotlib.pyplot as plt\n",
        "\n",
        "sentiments = dict(pd.value_counts(df['sentiment']))\n",
        "classes = list(sentiments.keys())\n",
        "for i, sent in enumerate(sentiments):\n",
        "  print (f\"{i+1}\\t{sentiments[sent]}\\t{sent}\")\n",
        "print (f\"\\n{len(df):,} tweets\")\n",
        "\n",
        "# Graficar la distribución\n",
        "plt.figure(figsize=(20, 10))\n",
        "pd.value_counts(df['sentiment']).plot.bar(title=\"Distribución de sentimientos\")\n",
        "plt.xlabel(\"Sentimiento\", fontsize=\"15\")\n",
        "plt.ylabel(\"Tweets\", fontsize=\"15\")\n",
        "plt.xticks(rotation=45, fontsize=\"15\")\n",
        "plt.yticks(fontsize=\"15\")\n",
        "plt.show()"
      ],
      "metadata": {
        "colab": {
          "base_uri": "https://localhost:8080/",
          "height": 949
        },
        "id": "rJifibVZYINg",
        "outputId": "66dbb76a-aeaa-43b1-b417-6861e45e42ba"
      },
      "execution_count": 5,
      "outputs": [
        {
          "output_type": "stream",
          "name": "stdout",
          "text": [
            "1\t8638\tneutral\n",
            "2\t8459\tworry\n",
            "3\t5209\thappiness\n",
            "4\t5165\tsadness\n",
            "5\t3842\tlove\n",
            "6\t2187\tsurprise\n",
            "7\t1776\tfun\n",
            "8\t1526\trelief\n",
            "9\t1323\thate\n",
            "10\t827\tempty\n",
            "11\t759\tenthusiasm\n",
            "12\t179\tboredom\n",
            "13\t110\tanger\n",
            "\n",
            "40,000 tweets\n"
          ]
        },
        {
          "output_type": "display_data",
          "data": {
            "image/png": "[encoded data removed]",
            "text/plain": [
              "<Figure size 1440x720 with 1 Axes>"
            ]
          },
          "metadata": {
            "needs_background": "light"
          }
        }
      ]
    },
    {
      "cell_type": "markdown",
      "source": [
        "# Preprocesamiento de los datos\n",
        "Realizar el preprocesamiento necesario, que incluye la limpieza y otros elementos como la toeknización y lematización\n",
        "\n",
        "## Limpieza de los tweets"
      ],
      "metadata": {
        "id": "MGucn7IxiJZy"
      }
    },
    {
      "cell_type": "code",
      "source": [
        "# preprocesamiento\n",
        "import numpy as np\n",
        "def limpiezaDeTweets(tweet):\n",
        "  import re\n",
        "  tweet = re.sub(r'RT @\\w+: ',\" \", tweet) # eliminar retweets\n",
        "  tweet = re.sub(r'https?://[A-Za-z0-9./]+', ' ', tweet) # eliminar urls\n",
        "  tweet = re.sub(r'@[A-Za-z0-9]+', '', tweet) # eliminar usuarios\n",
        "  tweet = tweet.lower() # convertir a minúsculas\n",
        "  tweet = re.sub(r'[^a-z0-9\\'\\.,:; ]+', ' ', tweet) # eliminar todos los caracteres que no esten en los definidos\n",
        "  tweet = ' '.join(tweet.split()) # eliminar múltiples espacios, solo conservar un espacio\n",
        "\n",
        "  return tweet\n",
        "\n",
        "\n",
        "df['content'] = df['content'].astype('str')\n",
        "df['content'] = df['content'].apply(lambda x: limpiezaDeTweets(x))\n",
        "\n",
        "df.drop_duplicates(keep=False, inplace=True)\n",
        "\n",
        "df = df.replace(r'^\\s*$', np.NaN, regex=True)\n",
        "\n",
        "df = df.dropna()\n",
        "\n",
        "print (df.head(10))\n",
        "print (f\"\\nTotal:\\t{len(df):,}\")\n"
      ],
      "metadata": {
        "colab": {
          "base_uri": "https://localhost:8080/"
        },
        "outputId": "f811c2bb-59a7-403d-cb4b-ea4384bfd4dd",
        "id": "9smcPkBDiNjc"
      },
      "execution_count": 6,
      "outputs": [
        {
          "output_type": "stream",
          "name": "stdout",
          "text": [
            "    sentiment                                            content\n",
            "0       empty  i know i was listenin to bad habit earlier and...\n",
            "1     sadness  layin n bed with a headache ughhhh...waitin on...\n",
            "2     sadness                funeral ceremony...gloomy friday...\n",
            "3  enthusiasm                wants to hang out with friends soon\n",
            "4     neutral  we want to trade with someone who has houston ...\n",
            "5       worry  re pinging : why didn't you go to prom bc my b...\n",
            "6     sadness  i should be sleep, but im not thinking about a...\n",
            "7       worry                                      hmmm. is down\n",
            "8     sadness                       charlene my love. i miss you\n",
            "9     sadness                     i'm sorry at least it's friday\n",
            "\n",
            "Total:\t39,314\n"
          ]
        }
      ]
    },
    {
      "cell_type": "code",
      "source": [
        "# mostrar los tweets limpios por clase\n",
        "sentiments = dict(pd.value_counts(df['sentiment']))\n",
        "classes = list(sentiments.keys())\n",
        "for i, sent in enumerate(sentiments):\n",
        "  print (f\"{i+1}\\t{sentiments[sent]}\\t{sent}\")\n",
        "print (f\"\\n{len(df):,} tweets\")"
      ],
      "metadata": {
        "colab": {
          "base_uri": "https://localhost:8080/"
        },
        "id": "fBDh3G5VrqxO",
        "outputId": "d8fb7c58-84fc-40de-93fd-55d19a383b5a"
      },
      "execution_count": 7,
      "outputs": [
        {
          "output_type": "stream",
          "name": "stdout",
          "text": [
            "1\t8380\tneutral\n",
            "2\t8374\tworry\n",
            "3\t5126\tsadness\n",
            "4\t5099\thappiness\n",
            "5\t3695\tlove\n",
            "6\t2181\tsurprise\n",
            "7\t1774\tfun\n",
            "8\t1514\trelief\n",
            "9\t1320\thate\n",
            "10\t805\tempty\n",
            "11\t757\tenthusiasm\n",
            "12\t179\tboredom\n",
            "13\t110\tanger\n",
            "\n",
            "39,314 tweets\n"
          ]
        }
      ]
    },
    {
      "cell_type": "markdown",
      "source": [
        "## Obtener solo la clase `happiness` como datos de entrada del modelo"
      ],
      "metadata": {
        "id": "-gPZ-fUgi37N"
      }
    },
    {
      "cell_type": "code",
      "source": [
        "happiness = df[df['sentiment'] == 'happiness']\n",
        "tweets = happiness['content'].to_list()\n",
        "\n",
        "print (f\"\\nLongitud de los tweets tweets: {len(tweets):,}\")"
      ],
      "metadata": {
        "colab": {
          "base_uri": "https://localhost:8080/"
        },
        "id": "z_wEPQShjAaB",
        "outputId": "d9d1618b-5ede-413a-addb-54716ca9fd7d"
      },
      "execution_count": 8,
      "outputs": [
        {
          "output_type": "stream",
          "name": "stdout",
          "text": [
            "\n",
            "Longitud de los tweets tweets: 5,099\n"
          ]
        }
      ]
    },
    {
      "cell_type": "markdown",
      "source": [
        "# Generación de un solo tweet\n",
        "Primero construiremos una red neuronal que pueda generar un tweet muy bien. Podemos elegir cualquier tweet (o cualquier otro texto) que queramos. Elijamos construir un RNN que genere texto a partir del `tweet[2000]`."
      ],
      "metadata": {
        "id": "YaACslpRkMnU"
      }
    },
    {
      "cell_type": "code",
      "source": [
        "tweet = tweets[2000]\n",
        "print (tweet)"
      ],
      "metadata": {
        "colab": {
          "base_uri": "https://localhost:8080/"
        },
        "id": "gAuLJM93oSds",
        "outputId": "6275d875-50c5-42c1-9c0f-124175d6b4d7"
      },
      "execution_count": 9,
      "outputs": [
        {
          "output_type": "stream",
          "name": "stdout",
          "text": [
            "yes... today is star wars day may the 4th be with you\n"
          ]
        }
      ]
    },
    {
      "cell_type": "markdown",
      "source": [
        "### 1 Codificación\n",
        "Codificar el tweet usando una codificación one-hot. Crearemos asignaciones de diccionario desde el carácter hasta el índice de ese carácter (un identificador entero único) y desde el índice hasta el carácter. Usaremos el mismo esquema de nombres que usa torchtext (stoi e itos).\n",
        "\n",
        "El vocabulario es limitado ya que contiene solo los caracteres del `tweet[2000]`, más dos tokens especiales:\n",
        "\n",
        "*   `<EOS>` representa el \"fin de la cadena\" (EOS: End Of Sentence), que agregaremos al final de nuestro tweet. Dado que los tweets son de longitud variable, esta es una forma en que GRU indica que se ha generado la secuencia completa.\n",
        "*   `<BOS>` representa \"comienzo de cadena\" (BOS: Beginning Of Sentence), que agregaremos al comienzo de nuestro tweet. Este es el primer token que introduciremos en la GRU.\n",
        "\n"
      ],
      "metadata": {
        "id": "0Zb_WP_DiuNX"
      }
    },
    {
      "cell_type": "code",
      "source": [
        "vocab = list(set(tweet)) + [\"<BOS>\", \"<EOS>\"]\n",
        "vocab_stoi = {s: i for i, s in enumerate(vocab)}\n",
        "vocab_itos = {i: s for i, s in enumerate(vocab)}\n",
        "vocab_size = len(vocab)\n",
        "\n",
        "print (f\"longitud tweet:\\t{len(tweet)}\")\n",
        "print (f\"\\nvocabulario:\\t{vocab}\")\n",
        "print (f\"\\nvocab_stoi: \\t{vocab_stoi}\") # vocabulario stoi: string to index\n",
        "print (f\"\\nvocab_itos: \\t{vocab_itos}\") # vocabulario itos: index to string\n",
        "print (f\"\\nvocab_size: \\t{vocab_size}\") # longitud del vocabulario\n"
      ],
      "metadata": {
        "colab": {
          "base_uri": "https://localhost:8080/"
        },
        "id": "HBOo3BXrtwi5",
        "outputId": "698ef659-b1e0-4209-d339-8ca09126a469"
      },
      "execution_count": 10,
      "outputs": [
        {
          "output_type": "stream",
          "name": "stdout",
          "text": [
            "longitud tweet:\t53\n",
            "\n",
            "vocabulario:\t['a', '4', '.', 'e', 'i', 'd', 'r', 's', 'm', 'y', 'b', ' ', 't', 'o', 'u', 'w', 'h', '<BOS>', '<EOS>']\n",
            "\n",
            "vocab_stoi: \t{'a': 0, '4': 1, '.': 2, 'e': 3, 'i': 4, 'd': 5, 'r': 6, 's': 7, 'm': 8, 'y': 9, 'b': 10, ' ': 11, 't': 12, 'o': 13, 'u': 14, 'w': 15, 'h': 16, '<BOS>': 17, '<EOS>': 18}\n",
            "\n",
            "vocab_itos: \t{0: 'a', 1: '4', 2: '.', 3: 'e', 4: 'i', 5: 'd', 6: 'r', 7: 's', 8: 'm', 9: 'y', 10: 'b', 11: ' ', 12: 't', 13: 'o', 14: 'u', 15: 'w', 16: 'h', 17: '<BOS>', 18: '<EOS>'}\n",
            "\n",
            "vocab_size: \t19\n"
          ]
        }
      ]
    },
    {
      "cell_type": "markdown",
      "source": [
        "### 2 Modelo\n",
        "Diseño del modelo de la red GRU"
      ],
      "metadata": {
        "id": "NFJDLrcbv67N"
      }
    },
    {
      "cell_type": "code",
      "source": [
        "import torch\n",
        "import torch.nn as nn\n",
        "\n",
        "class TextGenerator(nn.Module):\n",
        "    def __init__(self, vocab_size, hidden_size, n_layers=1):\n",
        "        super(TextGenerator, self).__init__()\n",
        "\n",
        "        # matriz de identidad para generar vectores one-hot\n",
        "        self.ident = torch.eye(vocab_size)\n",
        "\n",
        "        # recurrent neural network (Gated Recurrent Unit)\n",
        "        self.rnn = nn.GRU(vocab_size, hidden_size, n_layers, batch_first=True)\n",
        "\n",
        "        # una capa totalmente conectada (FC) que genera una distribución sobre el siguiente token, dada la salida RNN\n",
        "        self.fc = nn.Linear(hidden_size, vocab_size)\n",
        "    \n",
        "    def forward(self, input, hidden=None):\n",
        "        # generar vectores one-hot de entrada\n",
        "        input = self.ident[input]\n",
        "\n",
        "        # obtener la siguiente salida y el estado oculto\n",
        "        output, hidden = self.rnn(input, hidden)\n",
        "\n",
        "        # predecir la distribución sobre los siguientes tokens\n",
        "        output = self.fc(output)\n",
        "\n",
        "        return output, hidden"
      ],
      "metadata": {
        "id": "LeJIUlv5wIv7"
      },
      "execution_count": 11,
      "outputs": []
    },
    {
      "cell_type": "code",
      "source": [
        "# instanciar el modelo\n",
        "model = TextGenerator(vocab_size, 64)\n",
        "print (model)"
      ],
      "metadata": {
        "colab": {
          "base_uri": "https://localhost:8080/"
        },
        "id": "M25WooNxxvtG",
        "outputId": "bf028376-d6d8-4b1b-a768-5ad01ef58549"
      },
      "execution_count": 12,
      "outputs": [
        {
          "output_type": "stream",
          "name": "stdout",
          "text": [
            "TextGenerator(\n",
            "  (rnn): GRU(19, 64, batch_first=True)\n",
            "  (fc): Linear(in_features=64, out_features=19, bias=True)\n",
            ")\n"
          ]
        }
      ]
    },
    {
      "cell_type": "markdown",
      "source": [
        "### 3 Entrenamiento\n",
        "Un modelo RNN genera texto un carácter a la vez en función del valor de estado oculto.\n",
        "\n",
        "En cada paso de tiempo, comprueba si el modelo generó el carácter correcto.\n",
        "\n",
        "Es decir, en cada paso de tiempo, está tratando de seleccionar el siguiente carácter correcto entre todos los caracteres del vocabulario.\n",
        "\n",
        "Recordar que este problema es un problema de clasificación de clases múltiples, por lo que se usa la pérdida de entropía cruzada para entrenar la red."
      ],
      "metadata": {
        "id": "tLzLf0CGyss9"
      }
    },
    {
      "cell_type": "code",
      "source": [
        "# función de pérdida\n",
        "loss_function = nn.CrossEntropyLoss()"
      ],
      "metadata": {
        "id": "cjJ-5eUVzQVI"
      },
      "execution_count": 13,
      "outputs": []
    },
    {
      "cell_type": "markdown",
      "source": [
        "Para comprender lo que sucede durante el entrenamiento de la RNN, iniciamos con un entrenamiento ineficiente, pero muestra lo que sucede paso a paso.\n",
        "\n",
        "Calcular la pérdida del primer token generado, luego la del segundo token y así sucesivamente.\n",
        "\n",
        "![Forward](https://drive.google.com/uc?id=1UJ9GajU6-iS7erkx5ppWgnZQWmIWc1V9)\n",
        "\n",
        "Iniciamos generando el primer token (`tweet[0] = <BOS>`).\n",
        "\n"
      ],
      "metadata": {
        "id": "Gxov91hJzZLW"
      }
    },
    {
      "cell_type": "code",
      "source": [
        "# para generar el primer token, se alimenta la red RNN (con un estado oculto vacío al inicio)\n",
        "# con el token \"<BOS>\", así se obtiene la primer salida\n",
        "\n",
        "bos_input = torch.Tensor([vocab_stoi[\"<BOS>\"]]).long()\n",
        "print (f\"bos_input:\\t{bos_input}\\nshape:\\t{bos_input.shape}\")\n",
        "\n",
        "bos_input = bos_input.unsqueeze(0) # agregar una dimensión\n",
        "print (f\"\\nbos_input:\\t{bos_input}\\nshape:\\t{bos_input.shape}\")\n",
        "\n",
        "# estado oculto vacío al inicio\n",
        "output, hidden = model(bos_input, hidden=None)\n",
        "\n",
        "# distribución obtenida sobre el primer token\n",
        "print (f\"output:\\t{output}\\n\\noutput shape:\\t{output.shape}\")"
      ],
      "metadata": {
        "colab": {
          "base_uri": "https://localhost:8080/"
        },
        "id": "Y_SP7bvh3PxE",
        "outputId": "1f6d2faf-5523-4a94-dcbd-71b56db59fca"
      },
      "execution_count": 14,
      "outputs": [
        {
          "output_type": "stream",
          "name": "stdout",
          "text": [
            "bos_input:\ttensor([17])\n",
            "shape:\ttorch.Size([1])\n",
            "\n",
            "bos_input:\ttensor([[17]])\n",
            "shape:\ttorch.Size([1, 1])\n",
            "output:\ttensor([[[-0.0391, -0.0530,  0.1076,  0.0435, -0.1071,  0.0537, -0.0199,\n",
            "          -0.0592,  0.1420, -0.0148, -0.1026, -0.0987,  0.0592, -0.0386,\n",
            "           0.0844, -0.1035,  0.1114,  0.1389,  0.0707]]],\n",
            "       grad_fn=<AddBackward0>)\n",
            "\n",
            "output shape:\ttorch.Size([1, 1, 19])\n"
          ]
        }
      ]
    },
    {
      "cell_type": "markdown",
      "source": [
        "Ahora, calcular la pérdida usando `loss_function`. Dado que el modelo no está entrenado, se espera que la pérdida sea alta. (Por ahora, no haremos nada con esta pérdida y omitiremos el pase hacia atrás)."
      ],
      "metadata": {
        "id": "Og6i6W6w-TEp"
      }
    },
    {
      "cell_type": "code",
      "source": [
        "# definimos el target\n",
        "print (f\"vocab_stoi[tweet[0]]:\\t{vocab_stoi[tweet[0]]}\\t{tweet[0]}\")\n",
        "\n",
        "# convertir el id de a tensor con dos dimensiones\n",
        "target = torch.Tensor([vocab_stoi[tweet[0]]]).long().unsqueeze(0)\n",
        "print (f\"\\ntarget:\\t{target.shape}\")\n",
        "\n",
        "# reshaping la salida a un tensor 2D\n",
        "output = output.reshape(-1, vocab_size)\n",
        "print (f\"\\noutput:\\t{output.shape}\")\n",
        "\n",
        "# aplicar la función de pérdida, redimensionar el target a un tensor 1D \n",
        "loss = loss_function(output, target.reshape(-1))\n",
        "\n",
        "print (f\"\\nloss:\\t{loss}\")"
      ],
      "metadata": {
        "colab": {
          "base_uri": "https://localhost:8080/"
        },
        "id": "qE-bHyxW-dSQ",
        "outputId": "869756e7-2a88-4fa2-d24d-ca40e080c89f"
      },
      "execution_count": 18,
      "outputs": [
        {
          "output_type": "stream",
          "name": "stdout",
          "text": [
            "vocab_stoi[tweet[0]]:\t9\ty\n",
            "\n",
            "target:\ttorch.Size([1, 1])\n",
            "\n",
            "output:\ttorch.Size([1, 19])\n",
            "\n",
            "loss:\t2.9719738960266113\n"
          ]
        }
      ]
    },
    {
      "cell_type": "markdown",
      "source": [
        "Lo siguiente es actualizar el estado oculto y generar una predicción para el siguiente token.\n",
        "\n",
        "Para hacerlo, se debe proporcionar el token actual a la RNN.\n",
        "\n",
        "Durante el tiempo de prueba, se necesita tomar muestras de la probabilidad predicha sobre los tokens que acaba de generar la red neuronal.\n",
        "\n",
        "Sin embargo se puede hacer algo mejor: usar el token objetivo real (**the ground-truth or actual target token**). \n",
        "\n",
        "Esta técnica se llama **teacher-forcing** y generalmente acelera el entrenamiento.\n",
        "\n",
        "La razón es que en este momento, dado que el modelo no funciona bien, la distribución de probabilidad predicha está bastante lejos del target objetivo real.\n",
        "\n",
        "Por lo tanto, es bastante difícil para la red neuronal volver a entrenar con datos de entrada incorrectos."
      ],
      "metadata": {
        "id": "MTADuMBpFvjh"
      }
    },
    {
      "cell_type": "code",
      "source": [
        "# Usar el teacher-forcing: pasamos en el token objetivo real (target), en lugar de usar la distribución predicha de la RNN\n",
        "\n",
        "output, hidden = model(target, hidden)\n",
        "\n",
        "print (f\"output:\\t{output}\\n\\n{output.shape}\") # distribución obtenida del segundo token"
      ],
      "metadata": {
        "colab": {
          "base_uri": "https://localhost:8080/"
        },
        "id": "8uwgvUVnHkVq",
        "outputId": "af79f570-a384-4e61-ac23-a2ed1c6ab4d8"
      },
      "execution_count": 19,
      "outputs": [
        {
          "output_type": "stream",
          "name": "stdout",
          "text": [
            "output:\ttensor([[[-0.0456, -0.0288,  0.1007,  0.0183, -0.0934,  0.0529, -0.0484,\n",
            "          -0.0452,  0.1430, -0.0322, -0.1153, -0.0972,  0.0470, -0.0309,\n",
            "           0.0630, -0.0992,  0.1450,  0.0962,  0.0367]]],\n",
            "       grad_fn=<AddBackward0>)\n",
            "\n",
            "torch.Size([1, 1, 19])\n"
          ]
        }
      ]
    },
    {
      "cell_type": "markdown",
      "source": [
        "De forma similar al primer paso, calcular la pérdida, cuantificando la diferencia entre la distribución prevista y el siguiente token objetivo real.\n",
        "\n",
        "Esta pérdida se puede utilizar para ajustar los pesos de la red neuronal (que aún no se está haciendo)."
      ],
      "metadata": {
        "id": "uCkaqsNwJJts"
      }
    },
    {
      "cell_type": "code",
      "source": [
        "# definimos el segundo target\n",
        "print (f\"vocab_stoi[tweet[1]]:\\t{vocab_stoi[tweet[1]]}\\t{tweet[1]}\")\n",
        "\n",
        "# convertir el target siguiente \"tweet[1]\" a tensores 2D\n",
        "target = torch.Tensor([vocab_stoi[tweet[1]]]).long().unsqueeze(0)\n",
        "\n",
        "# reshaping la salida a un tensor 2D\n",
        "output = output.reshape(-1, vocab_size)\n",
        "print (f\"\\noutput:\\t{output.shape}\")\n",
        "\n",
        "# aplicar la función de pérdida, redimensionar el target a un tensor 1D \n",
        "loss = loss_function(output, target.reshape(-1))\n",
        "\n",
        "print (f\"\\nloss:\\t{loss}\")"
      ],
      "metadata": {
        "colab": {
          "base_uri": "https://localhost:8080/"
        },
        "id": "TMFDFKZOJ6IM",
        "outputId": "0ae5b6d1-dced-4a39-9bcb-7ba3adfed68c"
      },
      "execution_count": 20,
      "outputs": [
        {
          "output_type": "stream",
          "name": "stdout",
          "text": [
            "vocab_stoi[tweet[1]]:\t3\te\n",
            "\n",
            "output:\ttorch.Size([1, 19])\n",
            "\n",
            "loss:\t2.9328465461730957\n"
          ]
        }
      ]
    },
    {
      "cell_type": "markdown",
      "source": [
        "Podemos continuar este proceso de: \n",
        "\n",
        "*   alimentar el token objetivo real a la RNN,\n",
        "*   obtener la distribución de predicción sobre el siguiente token,\n",
        "*   y calcular la pérdida\n",
        "\n",
        "esto se hace tantos pasos como tokens haya en el tweet **ground-truth**."
      ],
      "metadata": {
        "id": "BITgTo72KnJv"
      }
    },
    {
      "cell_type": "code",
      "source": [
        "# definir un ciclo for que realice los cálculos del resto de tokens del tweet\n",
        "for i in range(2, len(tweet)): # inicializar en 2, ya se cálculo el 0 y 1\n",
        "    # target anterior\n",
        "    output, hidden = model(target, hidden)\n",
        "     # target actual\n",
        "    target = torch.Tensor([vocab_stoi[tweet[i]]]).long().unsqueeze(0)\n",
        "    # redimensionar output a un tensor 2D, redimensionar el target a un tensor 1D y calcular la pérdida\n",
        "    loss = loss_function(output.reshape(-1, vocab_size), target.reshape(-1))\n",
        "    \n",
        "    print(f\"i: {i} char: {tweet[i]}\\noutput: {output}\\nloss: {loss}\")"
      ],
      "metadata": {
        "colab": {
          "base_uri": "https://localhost:8080/"
        },
        "id": "t5e9WrFGLdEP",
        "outputId": "e288b0d6-01a7-4d3b-ac0e-d9ed610387fa"
      },
      "execution_count": 22,
      "outputs": [
        {
          "output_type": "stream",
          "name": "stdout",
          "text": [
            "i: 2 char: s\n",
            "output: tensor([[[-0.1227, -0.0954,  0.1078,  0.0081, -0.0936,  0.0408, -0.0514,\n",
            "          -0.0643,  0.2361, -0.0886, -0.0466, -0.1203,  0.0868, -0.0419,\n",
            "           0.0696, -0.1237,  0.0742,  0.0729,  0.0633]]],\n",
            "       grad_fn=<AddBackward0>)\n",
            "loss: 3.008781671524048\n",
            "i: 3 char: .\n",
            "output: tensor([[[-0.0963, -0.0436,  0.1121, -0.0275, -0.0400,  0.0635, -0.0068,\n",
            "          -0.0712,  0.1838, -0.0654, -0.0787, -0.0723,  0.0987,  0.0198,\n",
            "           0.0636, -0.0795,  0.0879,  0.0546,  0.0718]]],\n",
            "       grad_fn=<AddBackward0>)\n",
            "loss: 2.844703197479248\n",
            "i: 4 char: .\n",
            "output: tensor([[[-0.0954, -0.0579,  0.1086,  0.0029, -0.0601,  0.0946, -0.0369,\n",
            "          -0.0588,  0.1831, -0.0466, -0.1060, -0.0839,  0.1165,  0.0034,\n",
            "           0.0533, -0.0693,  0.0661,  0.0808,  0.0457]]],\n",
            "       grad_fn=<AddBackward0>)\n",
            "loss: 2.8466503620147705\n",
            "i: 5 char: .\n",
            "output: tensor([[[-0.0919, -0.0734,  0.1113,  0.0175, -0.0703,  0.1114, -0.0584,\n",
            "          -0.0486,  0.1840, -0.0444, -0.1145, -0.0952,  0.1272, -0.0055,\n",
            "           0.0513, -0.0646,  0.0552,  0.0949,  0.0368]]],\n",
            "       grad_fn=<AddBackward0>)\n",
            "loss: 2.8433780670166016\n",
            "i: 6 char:  \n",
            "output: tensor([[[-0.0896, -0.0846,  0.1147,  0.0253, -0.0759,  0.1198, -0.0731,\n",
            "          -0.0421,  0.1855, -0.0471, -0.1158, -0.1044,  0.1340, -0.0107,\n",
            "           0.0512, -0.0620,  0.0503,  0.1023,  0.0351]]],\n",
            "       grad_fn=<AddBackward0>)\n",
            "loss: 3.0588722229003906\n",
            "i: 7 char: t\n",
            "output: tensor([[[-0.1153, -0.0591,  0.1278,  0.0209, -0.0979,  0.0648, -0.0588,\n",
            "          -0.0583,  0.2160, -0.0966, -0.0558, -0.0672,  0.1157, -0.0194,\n",
            "           0.0849, -0.0580,  0.0816,  0.1013,  0.0546]]],\n",
            "       grad_fn=<AddBackward0>)\n",
            "loss: 2.8425395488739014\n",
            "i: 8 char: o\n",
            "output: tensor([[[-0.1105, -0.0549,  0.1355,  0.0541, -0.0464,  0.0371, -0.0539,\n",
            "          -0.0685,  0.2563, -0.1047, -0.0566, -0.0972,  0.1192, -0.0228,\n",
            "           0.0662, -0.0269,  0.0776,  0.0483,  0.0933]]],\n",
            "       grad_fn=<AddBackward0>)\n",
            "loss: 2.9847466945648193\n",
            "i: 9 char: d\n",
            "output: tensor([[[-0.1189, -0.0169,  0.0893,  0.0466, -0.1229,  0.0694, -0.0899,\n",
            "          -0.0502,  0.2694, -0.0502, -0.0760, -0.0679,  0.1465,  0.0181,\n",
            "           0.0952, -0.0783,  0.0760,  0.0436,  0.0587]]],\n",
            "       grad_fn=<AddBackward0>)\n",
            "loss: 2.89274263381958\n",
            "i: 10 char: a\n",
            "output: tensor([[[-0.0727, -0.0364,  0.0933,  0.0482, -0.1034,  0.0840, -0.0818,\n",
            "          -0.0323,  0.2108, -0.0311, -0.1105, -0.0902,  0.1129,  0.0011,\n",
            "           0.0807, -0.0831,  0.0820,  0.0502,  0.0653]]],\n",
            "       grad_fn=<AddBackward0>)\n",
            "loss: 3.0308585166931152\n",
            "i: 11 char: y\n",
            "output: tensor([[[-0.0736, -0.0698,  0.1276,  0.0539, -0.0928,  0.0690, -0.0490,\n",
            "          -0.0176,  0.2363, -0.0673, -0.1122, -0.0870,  0.1244, -0.0109,\n",
            "           0.0642, -0.0885,  0.0623,  0.0925,  0.0490]]],\n",
            "       grad_fn=<AddBackward0>)\n",
            "loss: 3.027268886566162\n",
            "i: 12 char:  \n",
            "output: tensor([[[-0.0688, -0.0311,  0.1200,  0.0266, -0.0851,  0.0533, -0.0556,\n",
            "          -0.0251,  0.1846, -0.0607, -0.1246, -0.0858,  0.0742, -0.0253,\n",
            "           0.0603, -0.1006,  0.1145,  0.0727,  0.0246]]],\n",
            "       grad_fn=<AddBackward0>)\n",
            "loss: 3.037411689758301\n",
            "i: 13 char: i\n",
            "output: tensor([[[-0.1059, -0.0290,  0.1278,  0.0234, -0.0972,  0.0382, -0.0429,\n",
            "          -0.0538,  0.2137, -0.0926, -0.0665, -0.0603,  0.0773, -0.0329,\n",
            "           0.0834, -0.0763,  0.1161,  0.0820,  0.0350]]],\n",
            "       grad_fn=<AddBackward0>)\n",
            "loss: 3.052945613861084\n",
            "i: 14 char: s\n",
            "output: tensor([[[-0.0919, -0.0830,  0.1369,  0.0155, -0.1100,  0.0784, -0.0043,\n",
            "          -0.0358,  0.2415, -0.0561, -0.0940, -0.0751,  0.0919,  0.0105,\n",
            "           0.0599, -0.0798,  0.0605,  0.0468,  0.0501]]],\n",
            "       grad_fn=<AddBackward0>)\n",
            "loss: 2.9929823875427246\n",
            "i: 15 char:  \n",
            "output: tensor([[[-0.0799, -0.0409,  0.1298, -0.0230, -0.0443,  0.0860,  0.0267,\n",
            "          -0.0498,  0.1845, -0.0521, -0.0969, -0.0557,  0.0981,  0.0452,\n",
            "           0.0598, -0.0583,  0.0878,  0.0437,  0.0629]]],\n",
            "       grad_fn=<AddBackward0>)\n",
            "loss: 3.020200252532959\n",
            "i: 16 char: s\n",
            "output: tensor([[[-0.1148, -0.0250,  0.1271, -0.0026, -0.0824,  0.0498,  0.0085,\n",
            "          -0.0677,  0.2133, -0.0855, -0.0531, -0.0374,  0.0922,  0.0096,\n",
            "           0.0838, -0.0568,  0.1037,  0.0714,  0.0562]]],\n",
            "       grad_fn=<AddBackward0>)\n",
            "loss: 3.0309503078460693\n",
            "i: 17 char: t\n",
            "output: tensor([[[-0.0958, -0.0090,  0.1225, -0.0312, -0.0269,  0.0736,  0.0389,\n",
            "          -0.0654,  0.1763, -0.0640, -0.0754, -0.0334,  0.0987,  0.0492,\n",
            "           0.0696, -0.0475,  0.1106,  0.0550,  0.0675]]],\n",
            "       grad_fn=<AddBackward0>)\n",
            "loss: 2.8703646659851074\n",
            "i: 18 char: a\n",
            "output: tensor([[[-0.1017, -0.0264,  0.1301,  0.0245, -0.0103,  0.0443,  0.0100,\n",
            "          -0.0689,  0.2305, -0.0792, -0.0673, -0.0746,  0.1118,  0.0200,\n",
            "           0.0581, -0.0251,  0.0916,  0.0280,  0.0920]]],\n",
            "       grad_fn=<AddBackward0>)\n",
            "loss: 3.070100784301758\n",
            "i: 19 char: r\n",
            "output: tensor([[[-0.0959, -0.0575,  0.1452,  0.0416, -0.0505,  0.0543,  0.0037,\n",
            "          -0.0414,  0.2481, -0.0873, -0.0860, -0.0736,  0.1289,  0.0029,\n",
            "           0.0471, -0.0663,  0.0675,  0.0825,  0.0671]]],\n",
            "       grad_fn=<AddBackward0>)\n",
            "loss: 2.9624173641204834\n",
            "i: 20 char:  \n",
            "output: tensor([[[-0.0919, -0.0197,  0.1307, -0.0045, -0.0428,  0.1032, -0.0453,\n",
            "          -0.0612,  0.2273, -0.0618, -0.0629, -0.0950,  0.1249,  0.0075,\n",
            "           0.0424, -0.0660,  0.0726,  0.0782,  0.0624]]],\n",
            "       grad_fn=<AddBackward0>)\n",
            "loss: 3.059033155441284\n",
            "i: 21 char: w\n",
            "output: tensor([[[-0.1198, -0.0206,  0.1356,  0.0077, -0.0799,  0.0609, -0.0344,\n",
            "          -0.0782,  0.2279, -0.0942, -0.0356, -0.0570,  0.1009, -0.0159,\n",
            "           0.0702, -0.0596,  0.0899,  0.0833,  0.0530]]],\n",
            "       grad_fn=<AddBackward0>)\n",
            "loss: 3.0203871726989746\n",
            "i: 22 char: a\n",
            "output: tensor([[[-0.1238, -0.0576,  0.0945,  0.0122, -0.0891,  0.0588, -0.0077,\n",
            "          -0.0734,  0.2478, -0.0821, -0.0827, -0.0754,  0.0866, -0.0187,\n",
            "           0.0480, -0.0849,  0.0922,  0.0915,  0.0276]]],\n",
            "       grad_fn=<AddBackward0>)\n",
            "loss: 3.075939416885376\n",
            "i: 23 char: r\n",
            "output: tensor([[[-0.1079, -0.0740,  0.1342,  0.0350, -0.0903,  0.0611, -0.0143,\n",
            "          -0.0482,  0.2575, -0.0908, -0.0905, -0.0827,  0.1044, -0.0243,\n",
            "           0.0420, -0.0947,  0.0669,  0.1073,  0.0343]]],\n",
            "       grad_fn=<AddBackward0>)\n",
            "loss: 2.9701554775238037\n",
            "i: 24 char: s\n",
            "output: tensor([[[-0.0994, -0.0276,  0.1294, -0.0070, -0.0648,  0.1068, -0.0584,\n",
            "          -0.0666,  0.2324, -0.0642, -0.0622, -0.1041,  0.1074, -0.0092,\n",
            "           0.0399, -0.0794,  0.0723,  0.0874,  0.0462]]],\n",
            "       grad_fn=<AddBackward0>)\n",
            "loss: 3.024656295776367\n",
            "i: 25 char:  \n",
            "output: tensor([[[-0.0861, -0.0169,  0.1320, -0.0343, -0.0220,  0.1047,  0.0004,\n",
            "          -0.0692,  0.1728, -0.0539, -0.0757, -0.0685,  0.1060,  0.0354,\n",
            "           0.0466, -0.0586,  0.0879,  0.0639,  0.0589]]],\n",
            "       grad_fn=<AddBackward0>)\n",
            "loss: 3.0329341888427734\n",
            "i: 26 char: d\n",
            "output: tensor([[[-0.1183, -0.0159,  0.1317, -0.0080, -0.0702,  0.0614, -0.0043,\n",
            "          -0.0791,  0.2042, -0.0868, -0.0408, -0.0422,  0.0948,  0.0035,\n",
            "           0.0757, -0.0568,  0.1009,  0.0808,  0.0522]]],\n",
            "       grad_fn=<AddBackward0>)\n",
            "loss: 2.9014792442321777\n",
            "i: 27 char: a\n",
            "output: tensor([[[-0.0801, -0.0338,  0.1046,  0.0239, -0.0771,  0.0832, -0.0346,\n",
            "          -0.0515,  0.1875, -0.0446, -0.0911, -0.0756,  0.0829, -0.0044,\n",
            "           0.0656, -0.0728,  0.0979,  0.0648,  0.0643]]],\n",
            "       grad_fn=<AddBackward0>)\n",
            "loss: 3.0386850833892822\n",
            "i: 28 char: y\n",
            "output: tensor([[[-0.0805, -0.0686,  0.1298,  0.0431, -0.0803,  0.0697, -0.0232,\n",
            "          -0.0281,  0.2289, -0.0699, -0.1003, -0.0783,  0.1078, -0.0115,\n",
            "           0.0555, -0.0860,  0.0709,  0.0982,  0.0490]]],\n",
            "       grad_fn=<AddBackward0>)\n",
            "loss: 3.030325412750244\n",
            "i: 29 char:  \n",
            "output: tensor([[[-0.0740, -0.0305,  0.1189,  0.0220, -0.0795,  0.0539, -0.0416,\n",
            "          -0.0309,  0.1832, -0.0596, -0.1165, -0.0811,  0.0658, -0.0236,\n",
            "           0.0556, -0.1005,  0.1192,  0.0746,  0.0257]]],\n",
            "       grad_fn=<AddBackward0>)\n",
            "loss: 3.0332088470458984\n",
            "i: 30 char: m\n",
            "output: tensor([[[-0.1095, -0.0288,  0.1262,  0.0215, -0.0950,  0.0384, -0.0354,\n",
            "          -0.0569,  0.2139, -0.0905, -0.0613, -0.0581,  0.0734, -0.0309,\n",
            "           0.0811, -0.0773,  0.1186,  0.0823,  0.0362]]],\n",
            "       grad_fn=<AddBackward0>)\n",
            "loss: 2.7421679496765137\n",
            "i: 31 char: a\n",
            "output: tensor([[[-0.0842, -0.0432,  0.1445,  0.0359, -0.1349,  0.0625, -0.0650,\n",
            "          -0.0622,  0.2044, -0.1001, -0.0435, -0.0719,  0.1079, -0.0295,\n",
            "           0.0805, -0.0804,  0.1062,  0.1236,  0.0363]]],\n",
            "       grad_fn=<AddBackward0>)\n",
            "loss: 3.0430824756622314\n",
            "i: 32 char: y\n",
            "output: tensor([[[-0.0856, -0.0683,  0.1494,  0.0482, -0.1088,  0.0637, -0.0519,\n",
            "          -0.0450,  0.2392, -0.1031, -0.0791, -0.0828,  0.1198, -0.0308,\n",
            "           0.0587, -0.0874,  0.0746,  0.1260,  0.0408]]],\n",
            "       grad_fn=<AddBackward0>)\n",
            "loss: 3.0618982315063477\n",
            "i: 33 char:  \n",
            "output: tensor([[[-0.0775, -0.0285,  0.1306,  0.0238, -0.0930,  0.0536, -0.0619,\n",
            "          -0.0430,  0.1898, -0.0806, -0.1061, -0.0864,  0.0718, -0.0361,\n",
            "           0.0547, -0.0997,  0.1212,  0.0877,  0.0253]]],\n",
            "       grad_fn=<AddBackward0>)\n",
            "loss: 3.0371458530426025\n",
            "i: 34 char: t\n",
            "output: tensor([[[-0.1119, -0.0265,  0.1325,  0.0219, -0.1011,  0.0392, -0.0485,\n",
            "          -0.0646,  0.2174, -0.1037, -0.0560, -0.0614,  0.0760, -0.0383,\n",
            "           0.0797, -0.0760,  0.1200,  0.0884,  0.0380]]],\n",
            "       grad_fn=<AddBackward0>)\n",
            "loss: 2.8792030811309814\n",
            "i: 35 char: h\n",
            "output: tensor([[[-0.1091, -0.0360,  0.1371,  0.0551, -0.0442,  0.0294, -0.0456,\n",
            "          -0.0741,  0.2547, -0.1035, -0.0591, -0.0947,  0.0943, -0.0351,\n",
            "           0.0600, -0.0360,  0.0967,  0.0382,  0.0789]]],\n",
            "       grad_fn=<AddBackward0>)\n",
            "loss: 2.8630735874176025\n",
            "i: 36 char: e\n",
            "output: tensor([[[-0.0904, -0.0441,  0.1107,  0.0432, -0.1212,  0.0693, -0.0497,\n",
            "          -0.0547,  0.2235, -0.0951, -0.0338, -0.0622,  0.1219, -0.0370,\n",
            "           0.0900, -0.0681,  0.1193,  0.1058,  0.0423]]],\n",
            "       grad_fn=<AddBackward0>)\n",
            "loss: 2.9198849201202393\n",
            "i: 37 char:  \n",
            "output: tensor([[[-0.1019, -0.0750,  0.1147,  0.0295, -0.1004,  0.0674, -0.0472,\n",
            "          -0.0617,  0.2294, -0.0938, -0.0378, -0.0949,  0.1043, -0.0463,\n",
            "           0.0776, -0.0949,  0.0989,  0.0903,  0.0457]]],\n",
            "       grad_fn=<AddBackward0>)\n",
            "loss: 3.0493736267089844\n",
            "i: 38 char: 4\n",
            "output: tensor([[[-0.1224, -0.0444,  0.1224,  0.0265, -0.1119,  0.0414, -0.0473,\n",
            "          -0.0836,  0.2395, -0.1102, -0.0328, -0.0601,  0.0926, -0.0477,\n",
            "           0.0889, -0.0714,  0.1023,  0.0848,  0.0442]]],\n",
            "       grad_fn=<AddBackward0>)\n",
            "loss: 2.999356746673584\n",
            "i: 39 char: t\n",
            "output: tensor([[[-0.1032, -0.0804,  0.1068,  0.0402, -0.0927,  0.0784, -0.0599,\n",
            "          -0.0735,  0.2600, -0.0643, -0.0655, -0.0647,  0.1272, -0.0174,\n",
            "           0.0691, -0.0769,  0.0837,  0.0750,  0.0337]]],\n",
            "       grad_fn=<AddBackward0>)\n",
            "loss: 2.831155776977539\n",
            "i: 40 char: h\n",
            "output: tensor([[[-0.1029, -0.0604,  0.1300,  0.0616, -0.0500,  0.0419, -0.0493,\n",
            "          -0.0806,  0.2668, -0.0808, -0.0657, -0.0911,  0.1190, -0.0256,\n",
            "           0.0617, -0.0427,  0.0727,  0.0333,  0.0734]]],\n",
            "       grad_fn=<AddBackward0>)\n",
            "loss: 2.887441635131836\n",
            "i: 41 char:  \n",
            "output: tensor([[[-0.0848, -0.0557,  0.1098,  0.0440, -0.1294,  0.0731, -0.0506,\n",
            "          -0.0592,  0.2253, -0.0832, -0.0386, -0.0581,  0.1332, -0.0327,\n",
            "           0.0940, -0.0733,  0.1035,  0.1043,  0.0381]]],\n",
            "       grad_fn=<AddBackward0>)\n",
            "loss: 3.020692825317383\n",
            "i: 42 char: b\n",
            "output: tensor([[[-0.1110, -0.0361,  0.1249,  0.0331, -0.1253,  0.0500, -0.0463,\n",
            "          -0.0841,  0.2350, -0.1063, -0.0323, -0.0413,  0.1051, -0.0446,\n",
            "           0.0974, -0.0595,  0.1039,  0.0945,  0.0371]]],\n",
            "       grad_fn=<AddBackward0>)\n",
            "loss: 2.9915778636932373\n",
            "i: 43 char: e\n",
            "output: tensor([[[-0.0970, -0.0762,  0.1178,  0.0468, -0.1053,  0.0570, -0.0532,\n",
            "          -0.0984,  0.2241, -0.0896, -0.0580, -0.0883,  0.1059, -0.0393,\n",
            "           0.0674, -0.0755,  0.1001,  0.0723,  0.0711]]],\n",
            "       grad_fn=<AddBackward0>)\n",
            "loss: 2.906505584716797\n",
            "i: 44 char:  \n",
            "output: tensor([[[-0.1055, -0.0819,  0.1121,  0.0281, -0.0998,  0.0502, -0.0438,\n",
            "          -0.0813,  0.2291, -0.0901, -0.0462, -0.1070,  0.0946, -0.0414,\n",
            "           0.0722, -0.1007,  0.0870,  0.0723,  0.0628]]],\n",
            "       grad_fn=<AddBackward0>)\n",
            "loss: 3.056553840637207\n",
            "i: 45 char: w\n",
            "output: tensor([[[-0.1234, -0.0432,  0.1195,  0.0240, -0.1143,  0.0284, -0.0435,\n",
            "          -0.0919,  0.2386, -0.1076, -0.0348, -0.0659,  0.0865, -0.0418,\n",
            "           0.0886, -0.0737,  0.0957,  0.0751,  0.0556]]],\n",
            "       grad_fn=<AddBackward0>)\n",
            "loss: 3.026468515396118\n",
            "i: 46 char: i\n",
            "output: tensor([[[-0.1230, -0.0652,  0.0831,  0.0193, -0.1096,  0.0400, -0.0170,\n",
            "          -0.0807,  0.2575, -0.0881, -0.0853, -0.0804,  0.0796, -0.0305,\n",
            "           0.0599, -0.0898,  0.0938,  0.0857,  0.0311]]],\n",
            "       grad_fn=<AddBackward0>)\n",
            "loss: 3.0576529502868652\n",
            "i: 47 char: t\n",
            "output: tensor([[[-0.0970, -0.0967,  0.1205,  0.0095, -0.1242,  0.0790,  0.0075,\n",
            "          -0.0515,  0.2607, -0.0521, -0.1010, -0.0874,  0.0912,  0.0134,\n",
            "           0.0476, -0.0871,  0.0442,  0.0459,  0.0489]]],\n",
            "       grad_fn=<AddBackward0>)\n",
            "loss: 2.8615970611572266\n",
            "i: 48 char: h\n",
            "output: tensor([[[-0.0963, -0.0697,  0.1367,  0.0435, -0.0664,  0.0471, -0.0180,\n",
            "          -0.0674,  0.2694, -0.0759, -0.0830, -0.1095,  0.1020, -0.0094,\n",
            "           0.0459, -0.0428,  0.0545,  0.0188,  0.0837]]],\n",
            "       grad_fn=<AddBackward0>)\n",
            "loss: 2.903088331222534\n",
            "i: 49 char:  \n",
            "output: tensor([[[-0.0808, -0.0601,  0.1126,  0.0340, -0.1369,  0.0775, -0.0350,\n",
            "          -0.0513,  0.2274, -0.0802, -0.0472, -0.0703,  0.1256, -0.0236,\n",
            "           0.0830, -0.0706,  0.0951,  0.0975,  0.0448]]],\n",
            "       grad_fn=<AddBackward0>)\n",
            "loss: 3.031795024871826\n",
            "i: 50 char: y\n",
            "output: tensor([[[-0.1094, -0.0377,  0.1263,  0.0277, -0.1292,  0.0530, -0.0381,\n",
            "          -0.0791,  0.2361, -0.1038, -0.0371, -0.0490,  0.1017, -0.0400,\n",
            "           0.0897, -0.0572,  0.1001,  0.0917,  0.0414]]],\n",
            "       grad_fn=<AddBackward0>)\n",
            "loss: 3.062624931335449\n",
            "i: 51 char: o\n",
            "output: tensor([[[-0.0870, -0.0117,  0.1184,  0.0140, -0.1049,  0.0514, -0.0559,\n",
            "          -0.0614,  0.1979, -0.0799, -0.0859, -0.0647,  0.0586, -0.0418,\n",
            "           0.0703, -0.0809,  0.1384,  0.0653,  0.0182]]],\n",
            "       grad_fn=<AddBackward0>)\n",
            "loss: 2.9930174350738525\n",
            "i: 52 char: u\n",
            "output: tensor([[[-0.1070, -0.0032,  0.0796,  0.0238, -0.1487,  0.0837, -0.0971,\n",
            "          -0.0453,  0.2422, -0.0364, -0.0847, -0.0595,  0.1099,  0.0066,\n",
            "           0.1013, -0.1056,  0.1151,  0.0510,  0.0151]]],\n",
            "       grad_fn=<AddBackward0>)\n",
            "loss: 2.855347156524658\n"
          ]
        }
      ]
    },
    {
      "cell_type": "markdown",
      "source": [
        "**Finalmente, con el token final, deberíamos esperar generar el token `<EOS>`, para que la RNN aprenda cuándo dejar de generar caracteres.**"
      ],
      "metadata": {
        "id": "mE03Pet2NLzy"
      }
    },
    {
      "cell_type": "code",
      "source": [
        "# ingresar el target anterior y el estado olculto anterior al modelo\n",
        "output, hidden = model(target, hidden)\n",
        "\n",
        "# obtener el tensor en 2D del caracter <EOS>\n",
        "eos = vocab_stoi[\"<EOS>\"]\n",
        "target = torch.Tensor([eos]).long().unsqueeze(0)\n",
        "\n",
        "# redimensionar output a un tensor 2D, redimensionar el target a un tensor 1D y calcular la pérdida\n",
        "loss = loss_function(output.reshape(-1, vocab_size), target.reshape(-1))\n",
        "\n",
        "print(f\"char:{vocab_itos[eos]} output: {output} loss: {loss}\")"
      ],
      "metadata": {
        "colab": {
          "base_uri": "https://localhost:8080/"
        },
        "id": "zqULcpPBNaDh",
        "outputId": "02f40672-0542-4bf8-daaf-360ef5e19314"
      },
      "execution_count": 23,
      "outputs": [
        {
          "output_type": "stream",
          "name": "stdout",
          "text": [
            "char:<EOS> output: tensor([[[-0.0690, -0.0199,  0.1051,  0.0013, -0.0909,  0.1138, -0.0907,\n",
            "          -0.0689,  0.2025, -0.0648, -0.0478, -0.0551,  0.1143, -0.0109,\n",
            "           0.0811, -0.0759,  0.0703,  0.0535,  0.0033]]],\n",
            "       grad_fn=<AddBackward0>) loss: 2.9526774883270264\n"
          ]
        }
      ]
    },
    {
      "cell_type": "markdown",
      "source": [
        "> NOTA: En la práctica, realmente no necesitamos un bucle. Hay que recordar que en una RNN, el módulo `nn.RNN` puede tomar una secuencia completa como entrada.\n",
        "\n",
        "Podemos hacer lo mismo aquí:\n",
        "\n"
      ],
      "metadata": {
        "id": "JV7sfqtQQoRz"
      }
    },
    {
      "cell_type": "code",
      "source": [
        "# definir el tweet de caracteres, poner al inicio y fin los tokens \"especiales\"\n",
        "tweet_char = [\"<BOS>\"] + list(tweet) + [\"<EOS>\"]\n",
        "\n",
        "# obtener los índices del tweet\n",
        "tweet_indexes = [vocab_stoi[ch] for ch in tweet_char]\n",
        "\n",
        "# convertir el tweet codificado a tensores en 2D\n",
        "tweet_tensor = torch.Tensor(tweet_indexes).long().unsqueeze(0)\n",
        "\n",
        "# visuaizar el shape del tensor\n",
        "print(f\"tweet_tensor.shape:\\t{tweet_tensor.shape}\\n\") # [1, 55] --> 53 (tweet) + 2 (tokens especiales)\n",
        "\n",
        "print (f\"tweet_tensor:\\t{tweet_tensor}\\n\")\n",
        "print (f'17:\\t{vocab_itos[17]}\\t18:\\t{vocab_itos[18]}\\n\\n')\n",
        "\n",
        "print (f\"tweet_tensor[:,:-1]:\\t{tweet_tensor[:,:-1]}\\n\\n\") # <EOS> nunca es un token de entrada\n",
        "print (f\"tweet_tensor[:,1:]:\\t{tweet_tensor[:,1:]}\\n\\n\") # <BOS> nunca es un token objetivo\n",
        "\n",
        "# ingresar el tweet al modelo\n",
        "output, hidden = model(tweet_tensor[:,:-1])\n",
        "\n",
        "# vector de targets\n",
        "target = tweet_tensor[:,1:]\n",
        "\n",
        "# redimensionar output a un tensor 2D, redimensionar el target a un tensor 1D y calcular la pérdida\n",
        "loss = loss_function(output.reshape(-1, vocab_size), target.reshape(-1))\n",
        "\n",
        "print (f\"pérdida:\\t{loss}\")"
      ],
      "metadata": {
        "colab": {
          "base_uri": "https://localhost:8080/"
        },
        "id": "d0d3XjtqQ_x6",
        "outputId": "84d17e42-1f03-49dd-abe4-5cf7bc130938"
      },
      "execution_count": 24,
      "outputs": [
        {
          "output_type": "stream",
          "name": "stdout",
          "text": [
            "tweet_tensor.shape:\ttorch.Size([1, 55])\n",
            "\n",
            "tweet_tensor:\ttensor([[17,  9,  3,  7,  2,  2,  2, 11, 12, 13,  5,  0,  9, 11,  4,  7, 11,  7,\n",
            "         12,  0,  6, 11, 15,  0,  6,  7, 11,  5,  0,  9, 11,  8,  0,  9, 11, 12,\n",
            "         16,  3, 11,  1, 12, 16, 11, 10,  3, 11, 15,  4, 12, 16, 11,  9, 13, 14,\n",
            "         18]])\n",
            "\n",
            "17:\t<BOS>\t18:\t<EOS>\n",
            "\n",
            "\n",
            "tweet_tensor[:,:-1]:\ttensor([[17,  9,  3,  7,  2,  2,  2, 11, 12, 13,  5,  0,  9, 11,  4,  7, 11,  7,\n",
            "         12,  0,  6, 11, 15,  0,  6,  7, 11,  5,  0,  9, 11,  8,  0,  9, 11, 12,\n",
            "         16,  3, 11,  1, 12, 16, 11, 10,  3, 11, 15,  4, 12, 16, 11,  9, 13, 14]])\n",
            "\n",
            "\n",
            "tweet_tensor[:,1:]:\ttensor([[ 9,  3,  7,  2,  2,  2, 11, 12, 13,  5,  0,  9, 11,  4,  7, 11,  7, 12,\n",
            "          0,  6, 11, 15,  0,  6,  7, 11,  5,  0,  9, 11,  8,  0,  9, 11, 12, 16,\n",
            "          3, 11,  1, 12, 16, 11, 10,  3, 11, 15,  4, 12, 16, 11,  9, 13, 14, 18]])\n",
            "\n",
            "\n",
            "pérdida:\t2.973177671432495\n"
          ]
        }
      ]
    },
    {
      "cell_type": "markdown",
      "source": [
        "La entrada del modelo de red neuronal es la secuencia completa de tokens de entrada del tweet (todo, desde `<BOS>` hasta el último carácter del tweet).\n",
        "\n",
        "La red neuronal genera una distribución de predicción del siguiente token en cada paso.\n",
        "\n",
        "Se puede comparar cada uno de estos con el objetivo real (**the ground-truth or actual target token**)."
      ],
      "metadata": {
        "id": "UUOE5xjQVBo9"
      }
    },
    {
      "cell_type": "code",
      "source": [
        "# ciclo de entrenamiento (para aprender a generar el tweet único):\n",
        "\n",
        "# definir optimizador\n",
        "optimizer = torch.optim.Adam(model.parameters(), lr=0.001)\n",
        "\n",
        "# definir la función de pérdida\n",
        "loss_function = nn.CrossEntropyLoss()\n",
        "\n",
        "EPOCHS = 500\n",
        "\n",
        "for i in range(EPOCHS):\n",
        "    optimizer.zero_grad()\n",
        "\n",
        "    output, _ = model(tweet_tensor[:,:-1])\n",
        "    \n",
        "    # redimensionar output a un tensor 2D, redimensionar el target a un tensor 1D y calcular la pérdida\n",
        "    loss = loss_function(output.reshape(-1, vocab_size), target.reshape(-1))\n",
        "\n",
        "    # backpropagation\n",
        "    loss.backward()\n",
        "    \n",
        "    # actualizar los pesos\n",
        "    optimizer.step()\n",
        "\n",
        "    # imprimir el \"epoch\" y la pérdida\n",
        "    if (i+1) % 100 == 0:\n",
        "        print(f\"[Iteración {i+1}] Loss {float(loss)}\")"
      ],
      "metadata": {
        "colab": {
          "base_uri": "https://localhost:8080/"
        },
        "id": "hyPRWfDcVvwg",
        "outputId": "34b0690a-095a-4476-f00d-ab891e70ab02"
      },
      "execution_count": 25,
      "outputs": [
        {
          "output_type": "stream",
          "name": "stdout",
          "text": [
            "[Iteración 100] Loss 1.7664942741394043\n",
            "[Iteración 200] Loss 0.23335959017276764\n",
            "[Iteración 300] Loss 0.04398748278617859\n",
            "[Iteración 400] Loss 0.018776724115014076\n",
            "[Iteración 500] Loss 0.010813253000378609\n"
          ]
        }
      ]
    },
    {
      "cell_type": "markdown",
      "source": [
        "La pérdida obtenida del entrenamiento está disminuyendo con el entrenamiento, que es lo que esperamos."
      ],
      "metadata": {
        "id": "VUU3UWseXF99"
      }
    },
    {
      "cell_type": "markdown",
      "source": [
        "# Generación de un token\n",
        "En este punto, se desea ver si el modelo realmente está aprendiendo algo.\n",
        "\n",
        "Entonces, ¿Cómo se va a utilizar el modelo para generar texto?. \n",
        "\n",
        "Si podemos generar texto, podemos hacer una evaluación cualitativa de qué tan bien está funcionando la RNN.\n",
        "\n",
        "La principal diferencia entre el entrenamiento y el test (tiempo de generación) es que no tenemos los tokens verdaderos para alimentarlos como entradas a la RNN. En su lugar, se necesita muestrear un token en función de la distribución de predicción de la red neuronal.\n",
        "\n",
        "Pero, ¿cómo podemos probar un token de una distribución?\n",
        "\n",
        "Por un lado, siempre se puede tomar el token con mayor probabilidad (argmax). Esta ha sido la técnica de referencia en otras tareas de clasificación. \n",
        "\n",
        "Sin embargo, esta idea fallará aquí. La razón es que, en la práctica, **queremos poder generar una variedad de secuencias diferentes a partir del mismo modelo**. Una RNN que solamente pueda generar un nuevo tweet `happiness` es bastante inútil.\n",
        "\n",
        "En resumen, queremos algo de aleatoriedad. Se puede hacer usando los `logits` de salida del modelo para construir una distribución multinomial sobre los tokens y luego muestrear un token aleatorio de esa distribución multinomial.\n",
        "\n",
        "> **logits**: *son interpretados como predicciones (o resultados) no normalizadas (o aún no normalizadas) de un modelo.*\n",
        "\n",
        "Una distribución multinomial que se puede elegir es la distribución que se obtiene después de aplicar el la función `softmax` en las salidas. Sin embargo, haremos una cosa más: \n",
        "\n",
        "Se agrega un **parámetro de temperatura** para manipular las salidas de la función `softmax`.\n",
        "\n",
        "Se puede establecer una temperatura más alta para que la probabilidad de cada token sea más uniforme (más aleatoria), o una temperatura más baja para asignar más probabilidad a los tokens con un `logit` más alto (salida). \n",
        "\n",
        "Una temperatura más alta significa que obtendremos una muestra más diversa, con potencialmente más errores.\n",
        "\n",
        "Una temperatura más baja significa que podemos ver repeticiones de la misma secuencia de alta probabilidad.\n"
      ],
      "metadata": {
        "id": "G8pbDkPnXmJj"
      }
    },
    {
      "cell_type": "code",
      "source": [
        "def sample_sequence(model, max_len=100, temperature=0.8):\n",
        "    generated_sequence = \"\"\n",
        "   \n",
        "    # entrada\n",
        "    inp = torch.Tensor([vocab_stoi[\"<BOS>\"]]).long()\n",
        "\n",
        "    # capa de estados ocultos\n",
        "    hidden = None\n",
        "\n",
        "    # iterar para generar texto\n",
        "    for p in range(max_len):\n",
        "        # pasar parámetros al modelo. Agregar una dimension a inp --> tensor 2D\n",
        "        output, hidden = model(inp.unsqueeze(0), hidden)\n",
        "\n",
        "        # obtener una muestra de la red como una distribución multinomial\n",
        "        # torch.div(input, other) --> divide cada elemento de la entrada \"input\" por el elemento correspondiente de \"other\".\n",
        "        # torch.exp(input) --> devuelve un nuevo tensor con la exponencial de los elementos del tensor de entrada \"input\".\n",
        "        # print (f\"output.shape:\\t{output.shape}\") # torch.Size([1, 1, 19])\n",
        "        # print (f\"output.data.view(-1):\\t{output.data.view(-1).shape}\") # torch.Size([19])\n",
        "        output_dist = output.data.view(-1).div(temperature).exp()\n",
        "\n",
        "        # torch.multinomial(input, num_samples) --> devuelve un tensor donde cada fila contiene índices muestreados (\"num_samples\") de la distribución \n",
        "        # de probabilidad multinomial ubicada en la fila correspondiente del tensor \"input\".\n",
        "        top_i = int(torch.multinomial(output_dist, 1)[0]) # obtener el mejor\n",
        "\n",
        "        # agregar el carácter predicho a la cadena y utilizarlo como siguiente entrada\n",
        "        predicted_char = vocab_itos[top_i]\n",
        "        \n",
        "        # si se llega al final de la secuencia (tweet) predicha, salir del ciclo\n",
        "        if predicted_char == \"<EOS>\":\n",
        "            break\n",
        "\n",
        "        # agregar el caracter predicho a la cadena generada  \n",
        "        generated_sequence += predicted_char\n",
        "\n",
        "        # convertir la siguiente entrada a un tensor long\n",
        "        inp = torch.Tensor([top_i]).long()\n",
        "    return generated_sequence\n",
        "\n",
        "print (tweet,'\\n')\n",
        "\n",
        "print(sample_sequence(model, temperature=0.5))\n",
        "print(sample_sequence(model, temperature=0.8))\n",
        "print(sample_sequence(model, temperature=1.0))\n",
        "print(sample_sequence(model, temperature=1.5))\n",
        "print(sample_sequence(model, temperature=2.0))\n",
        "print(sample_sequence(model, temperature=5.0))"
      ],
      "metadata": {
        "colab": {
          "base_uri": "https://localhost:8080/"
        },
        "id": "gP5Q3i5fbCa1",
        "outputId": "ba857c38-163a-4001-ac9d-fa8d1fc6f9b6"
      },
      "execution_count": 32,
      "outputs": [
        {
          "output_type": "stream",
          "name": "stdout",
          "text": [
            "yes... today is star wars day may the 4th be with you \n",
            "\n",
            "yes... today is star wars day may the 4th be with you\n",
            "yes... today is star wars day may the 4th be with you\n",
            "yes... today is star wars may may they4th be with you\n",
            "yes... today ys.sttr wsrs.day may the 4th be 4ithyyou\n",
            "yee...stodayeiahstar wsrr yay idr toh 4thybo  <BOS>eh. try ii thds thr ith be\n",
            "ys<BOS>w.sm  de oiamatrdh4disiiuy uhrtma\n"
          ]
        }
      ]
    },
    {
      "cell_type": "markdown",
      "source": [
        "Dado que solo se ha entrenado el modelo en una sola secuencia, aún no se observa el efecto del parámetro de `temperatura`. \n",
        "\n",
        "Por ahora, el resultado de las llamadas a la función `sample_sequence` indica que el entrenamiento parece razonable."
      ],
      "metadata": {
        "id": "JDJe1tNNgWGr"
      }
    },
    {
      "cell_type": "markdown",
      "source": [
        "# Ejercicio\n",
        "Completar el entrenamiento con el conjunto de datos completo.\n",
        "\n",
        "\n",
        "*   Usar los tweets de la clase `happiness`, y\n",
        "*   el conjunto de tweets (100) en español de la clase pasada.\n",
        "*   O emplear el libro \"The Time Machine, by H. G. Wells [1898]\" del repositorio, o utilizar otro libro en español para generar texto con la GRU.  \n",
        "\n"
      ],
      "metadata": {
        "id": "8BODo1F5gprQ"
      }
    }
  ]
}