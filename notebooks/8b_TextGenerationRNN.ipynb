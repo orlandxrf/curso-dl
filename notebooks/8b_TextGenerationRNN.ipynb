{
  "nbformat": 4,
  "nbformat_minor": 0,
  "metadata": {
    "colab": {
      "name": "8b_TextGenerationRNN.ipynb",
      "provenance": [],
      "authorship_tag": "ABX9TyMEGAokGDUPcr64ncUm+GAe",
      "include_colab_link": true
    },
    "kernelspec": {
      "name": "python3",
      "display_name": "Python 3"
    },
    "language_info": {
      "name": "python"
    }
  },
  "cells": [
    {
      "cell_type": "markdown",
      "metadata": {
        "id": "view-in-github",
        "colab_type": "text"
      },
      "source": [
        "<a href=\"https://colab.research.google.com/github/orlandxrf/curso-dl/blob/main/notebooks/8b_TextGenerationRNN.ipynb\" target=\"_parent\"><img src=\"https://colab.research.google.com/assets/colab-badge.svg\" alt=\"Open In Colab\"/></a>"
      ]
    },
    {
      "cell_type": "markdown",
      "source": [
        "# Generación automática de oraciones con una RNN"
      ],
      "metadata": {
        "id": "Bd0jh3vtrRc7"
      }
    },
    {
      "cell_type": "code",
      "execution_count": 1,
      "metadata": {
        "id": "Raoxs5uwrPRj"
      },
      "outputs": [],
      "source": [
        "import torch\n",
        "from torch import nn\n",
        "\n",
        "import numpy as np"
      ]
    },
    {
      "cell_type": "code",
      "source": [
        "text = ['hola como te encuentras','estoy muy bien','que tengas un bonito dia']\n",
        "\n",
        "# une todas las oraciones y extrae los caracteres únicos de las oraciones combinadas\n",
        "chars = set(''.join(text))\n",
        "\n",
        "# creación de un diccionario que asigna números a los caracteres\n",
        "int2char = dict(enumerate(chars))\n",
        "\n",
        "# crear otro diccionario que asigne caracteres a números\n",
        "char2int = {char: ind for ind, char in int2char.items()}"
      ],
      "metadata": {
        "id": "mY9C06PvrdUT"
      },
      "execution_count": 2,
      "outputs": []
    },
    {
      "cell_type": "code",
      "source": [
        "print (f\"int2char:\\t{int2char}\")\n",
        "\n",
        "print (f\"char2int:\\t{char2int}\")"
      ],
      "metadata": {
        "colab": {
          "base_uri": "https://localhost:8080/"
        },
        "id": "gLQPmCXwrqs-",
        "outputId": "2804ce32-11fd-4ba4-ae24-6997eee0f762"
      },
      "execution_count": 3,
      "outputs": [
        {
          "output_type": "stream",
          "name": "stdout",
          "text": [
            "int2char:\t{0: 'g', 1: 'c', 2: ' ', 3: 'r', 4: 't', 5: 'b', 6: 'l', 7: 'i', 8: 'h', 9: 's', 10: 'd', 11: 'm', 12: 'q', 13: 'u', 14: 'e', 15: 'a', 16: 'n', 17: 'y', 18: 'o'}\n",
            "char2int:\t{'g': 0, 'c': 1, ' ': 2, 'r': 3, 't': 4, 'b': 5, 'l': 6, 'i': 7, 'h': 8, 's': 9, 'd': 10, 'm': 11, 'q': 12, 'u': 13, 'e': 14, 'a': 15, 'n': 16, 'y': 17, 'o': 18}\n"
          ]
        }
      ]
    },
    {
      "cell_type": "code",
      "source": [
        "# encontrar la longitud de la cadena más larga\n",
        "maxlen = len(max(text, key=len))\n",
        "\n",
        "# un ciclo simple que recorre la lista de oraciones y agrega un ' ' espacio en blanco hasta la longitud de la oración\n",
        "for i in range(len(text)):\n",
        "  while len(text[i])<maxlen:\n",
        "    text[i] += ' '"
      ],
      "metadata": {
        "id": "7_kDhLl0soeb"
      },
      "execution_count": 4,
      "outputs": []
    },
    {
      "cell_type": "code",
      "source": [
        "# definir listas que van a contener las secuencias de entrada y de objetivo (target)\n",
        "input_seq = []\n",
        "target_seq = []\n",
        "\n",
        "for i in range(len(text)):\n",
        "  # eliminar el último carácter de la secuencia de entrada\n",
        "  input_seq.append(text[i][:-1])\n",
        "    \n",
        "  # eliminar el primer carácter de la secuencia de destino\n",
        "  target_seq.append(text[i][1:])\n",
        "  print(f\"\\tInput Sequence: {input_seq[i]} longitud: {len(input_seq[i])}\\tTarget Sequence: {target_seq[i]} longitud: {len(target_seq[i])}\")\n",
        "\n",
        "print (f\"\\ninput_seq:\\t{input_seq}\")\n",
        "print (f\"target_seq:\\t{target_seq}\")"
      ],
      "metadata": {
        "colab": {
          "base_uri": "https://localhost:8080/"
        },
        "id": "bxFuzVfvs3Yk",
        "outputId": "b1404f37-1d19-4242-fa72-68cd93bca440"
      },
      "execution_count": 5,
      "outputs": [
        {
          "output_type": "stream",
          "name": "stdout",
          "text": [
            "\tInput Sequence: hola como te encuentras longitud: 23\tTarget Sequence: ola como te encuentras  longitud: 23\n",
            "\tInput Sequence: estoy muy bien          longitud: 23\tTarget Sequence: stoy muy bien           longitud: 23\n",
            "\tInput Sequence: que tengas un bonito di longitud: 23\tTarget Sequence: ue tengas un bonito dia longitud: 23\n",
            "\n",
            "input_seq:\t['hola como te encuentras', 'estoy muy bien         ', 'que tengas un bonito di']\n",
            "target_seq:\t['ola como te encuentras ', 'stoy muy bien          ', 'ue tengas un bonito dia']\n"
          ]
        }
      ]
    },
    {
      "cell_type": "code",
      "source": [
        "for i in range(len(text)):\n",
        "  input_seq[i] = [char2int[character] for character in input_seq[i]]\n",
        "  target_seq[i] = [char2int[character] for character in target_seq[i]]\n",
        "\n",
        "print (f\"input_seq:\\t{input_seq}\")\n",
        "print (f\"target_seq:\\t{target_seq}\")"
      ],
      "metadata": {
        "colab": {
          "base_uri": "https://localhost:8080/"
        },
        "id": "LlDyD5-YtF3B",
        "outputId": "9bd75984-559c-403a-f627-80077df8685e"
      },
      "execution_count": 6,
      "outputs": [
        {
          "output_type": "stream",
          "name": "stdout",
          "text": [
            "input_seq:\t[[8, 18, 6, 15, 2, 1, 18, 11, 18, 2, 4, 14, 2, 14, 16, 1, 13, 14, 16, 4, 3, 15, 9], [14, 9, 4, 18, 17, 2, 11, 13, 17, 2, 5, 7, 14, 16, 2, 2, 2, 2, 2, 2, 2, 2, 2], [12, 13, 14, 2, 4, 14, 16, 0, 15, 9, 2, 13, 16, 2, 5, 18, 16, 7, 4, 18, 2, 10, 7]]\n",
            "target_seq:\t[[18, 6, 15, 2, 1, 18, 11, 18, 2, 4, 14, 2, 14, 16, 1, 13, 14, 16, 4, 3, 15, 9, 2], [9, 4, 18, 17, 2, 11, 13, 17, 2, 5, 7, 14, 16, 2, 2, 2, 2, 2, 2, 2, 2, 2, 2], [13, 14, 2, 4, 14, 16, 0, 15, 9, 2, 13, 16, 2, 5, 18, 16, 7, 4, 18, 2, 10, 7, 15]]\n"
          ]
        }
      ]
    },
    {
      "cell_type": "code",
      "source": [
        "dict_size = len(char2int)\n",
        "seq_len = maxlen - 1\n",
        "batch_size = len(text)\n",
        "\n",
        "def one_hot_encode(sequence, dict_size, seq_len, batch_size):\n",
        "  # crear matriz de ceros con la forma de salida deseada\n",
        "  features = np.zeros((batch_size, seq_len, dict_size), dtype=np.float32)\n",
        "\n",
        "  # reemplazar el 0 en el índice de carácter relevante con un 1 para representar ese carácter\n",
        "  for i in range(batch_size):\n",
        "    for u in range(seq_len):\n",
        "      features[i, u, sequence[i][u]] = 1\n",
        "  return features"
      ],
      "metadata": {
        "id": "V6DMa8j5tNu0"
      },
      "execution_count": 7,
      "outputs": []
    },
    {
      "cell_type": "code",
      "source": [
        "# input shape --> (batch Size, sequence length, one-hot encoding size)\n",
        "input_seq = one_hot_encode(input_seq, dict_size, seq_len, batch_size)"
      ],
      "metadata": {
        "id": "eMhQOOPctXPq"
      },
      "execution_count": 8,
      "outputs": []
    },
    {
      "cell_type": "code",
      "source": [
        "input_seq = torch.from_numpy(input_seq)\n",
        "target_seq = torch.Tensor(target_seq)"
      ],
      "metadata": {
        "id": "7s9uabPltbId"
      },
      "execution_count": 9,
      "outputs": []
    },
    {
      "cell_type": "code",
      "source": [
        "# torch.cuda.is_available() comprueba si hay cudas disponibles\n",
        "is_cuda = torch.cuda.is_available()\n",
        "\n",
        "# Usar dispositivo de hardware\n",
        "if is_cuda:\n",
        "  device = torch.device(\"cuda\")\n",
        "  print(\"GPU is available\")\n",
        "else:\n",
        "  device = torch.device(\"cpu\")\n",
        "  print(\"GPU not available, CPU used\")"
      ],
      "metadata": {
        "colab": {
          "base_uri": "https://localhost:8080/"
        },
        "id": "L6zy0MQutdvA",
        "outputId": "c36ad86c-e5f4-42ae-fd72-bfc9eeab43d3"
      },
      "execution_count": 10,
      "outputs": [
        {
          "output_type": "stream",
          "name": "stdout",
          "text": [
            "GPU not available, CPU used\n"
          ]
        }
      ]
    },
    {
      "cell_type": "code",
      "source": [
        "class Model(nn.Module):\n",
        "    def __init__(self, input_size, output_size, hidden_dim, n_layers):\n",
        "        super(Model, self).__init__()\n",
        "\n",
        "        # definición de algunos parámetros\n",
        "        self.hidden_dim = hidden_dim\n",
        "        self.n_layers = n_layers\n",
        "\n",
        "        # definición de las capas\n",
        "        # capa RNN\n",
        "        self.rnn = nn.RNN(input_size, hidden_dim, n_layers, batch_first=True)   \n",
        "        # capa Fully connected (FC)\n",
        "        self.fc = nn.Linear(hidden_dim, output_size)\n",
        "    \n",
        "    def forward(self, x):\n",
        "        batch_size = x.size(0)\n",
        "\n",
        "        # inicializando el estado oculto para la primera entrada\n",
        "        hidden = self.init_hidden(batch_size)\n",
        "        \n",
        "        # Pasar la entrada y el estado oculto al modelo y obtener salidas\n",
        "        out, hidden = self.rnn(x, hidden)\n",
        "\n",
        "        # Reshaping de las salidas para que puedan encajar en la capa totalmente conectada\n",
        "        out = out.contiguous().view(-1, self.hidden_dim)\n",
        "        \n",
        "        out = self.fc(out)\n",
        "      \n",
        "        return out, hidden\n",
        "    \n",
        "    def init_hidden(self, batch_size):\n",
        "        # este método genera el primer estado oculto de ceros que usaremos en el forward\n",
        "        hidden = torch.zeros(self.n_layers, batch_size, self.hidden_dim)\n",
        "        return hidden"
      ],
      "metadata": {
        "id": "zuSaTEMHtkQZ"
      },
      "execution_count": 11,
      "outputs": []
    },
    {
      "cell_type": "code",
      "source": [
        "# crear una instancia del modelo con hiperparámetros\n",
        "model = Model(input_size=dict_size, output_size=dict_size, hidden_dim=12, n_layers=1)\n",
        "\n",
        "# configurar el modelo para usar el hardware disponible\n",
        "model.to(device)\n",
        "\n",
        "n_epochs = 100\n",
        "lr=0.01\n",
        "\n",
        "criterion = nn.CrossEntropyLoss()\n",
        "optimizer = torch.optim.Adam(model.parameters(), lr=lr)"
      ],
      "metadata": {
        "id": "lhemDSG3tn1U"
      },
      "execution_count": 12,
      "outputs": []
    },
    {
      "cell_type": "code",
      "source": [
        "# Entrenamiento\n",
        "for epoch in range(1, n_epochs + 1):\n",
        "    # borrar los gradientes existentes de la época anterior\n",
        "    optimizer.zero_grad()\n",
        "\n",
        "    input_seq.to(device)\n",
        "    \n",
        "    output, hidden = model(input_seq)\n",
        "    \n",
        "    loss = criterion(output, target_seq.view(-1).long())\n",
        "    \n",
        "    # backpropagation\n",
        "    loss.backward()\n",
        "    \n",
        "    optimizer.step()\n",
        "    \n",
        "    if epoch%10 == 0:\n",
        "        print('Epoch: {}/{}.............'.format(epoch, n_epochs), end=' ')\n",
        "        print(\"Loss: {:.4f}\".format(loss.item()))"
      ],
      "metadata": {
        "colab": {
          "base_uri": "https://localhost:8080/"
        },
        "id": "kZ5rJHV0t2Ch",
        "outputId": "227bc5db-c872-49e5-fd25-3671b0a38041"
      },
      "execution_count": 13,
      "outputs": [
        {
          "output_type": "stream",
          "name": "stdout",
          "text": [
            "Epoch: 10/100............. Loss: 2.6263\n",
            "Epoch: 20/100............. Loss: 2.2531\n",
            "Epoch: 30/100............. Loss: 1.9181\n",
            "Epoch: 40/100............. Loss: 1.5181\n",
            "Epoch: 50/100............. Loss: 1.1410\n",
            "Epoch: 60/100............. Loss: 0.8341\n",
            "Epoch: 70/100............. Loss: 0.6094\n",
            "Epoch: 80/100............. Loss: 0.4455\n",
            "Epoch: 90/100............. Loss: 0.3238\n",
            "Epoch: 100/100............. Loss: 0.2372\n"
          ]
        }
      ]
    },
    {
      "cell_type": "code",
      "source": [
        "# esta función toma el modelo y el carácter como argumentos y devuelve la predicción del siguiente carácter y el estado oculto\n",
        "def predict(model, character):\n",
        "    # codificación one-hot de la entrada para encajar en el modelo\n",
        "    character = np.array([[char2int[c] for c in character]])\n",
        "    character = one_hot_encode(character, dict_size, character.shape[1], 1)\n",
        "    character = torch.from_numpy(character)\n",
        "    character.to(device)\n",
        "    \n",
        "    out, hidden = model(character)\n",
        "\n",
        "    prob = nn.functional.softmax(out[-1], dim=0).data\n",
        "\n",
        "    # tomar la clase con la puntuación de probabilidad más alta de la salida\n",
        "    char_ind = torch.max(prob, dim=0)[1].item()\n",
        "\n",
        "    return int2char[char_ind], hidden"
      ],
      "metadata": {
        "id": "tCSPnR6_uAt9"
      },
      "execution_count": 14,
      "outputs": []
    },
    {
      "cell_type": "code",
      "source": [
        "# esta función toma la longitud de salida deseada y los caracteres de entrada como argumentos, devolviendo la oración producida\n",
        "def sample(model, out_len, start='hola'):\n",
        "    model.eval() # evaluar el modelo\n",
        "    start = start.lower()\n",
        "    # recorrer a traves de los caracteres iniciales\n",
        "    chars = [ch for ch in start]\n",
        "    size = out_len - len(chars)\n",
        "    # ahora pasar los caracteres anteriores y obtener uno nuevo\n",
        "    for ii in range(size):\n",
        "        char, h = predict(model, chars)\n",
        "        chars.append(char)\n",
        "\n",
        "    return ''.join(chars)"
      ],
      "metadata": {
        "id": "aM-5p-mxuHP4"
      },
      "execution_count": 15,
      "outputs": []
    },
    {
      "cell_type": "code",
      "source": [
        "sample(model, 20, 'benito')"
      ],
      "metadata": {
        "colab": {
          "base_uri": "https://localhost:8080/",
          "height": 35
        },
        "id": "4qV9wq8MuIYc",
        "outputId": "fbe2a2fa-86c6-4586-f6cb-f4161920b44f"
      },
      "execution_count": 32,
      "outputs": [
        {
          "output_type": "execute_result",
          "data": {
            "application/vnd.google.colaboratory.intrinsic+json": {
              "type": "string"
            },
            "text/plain": [
              "'benito dia          '"
            ]
          },
          "metadata": {},
          "execution_count": 32
        }
      ]
    },
    {
      "cell_type": "markdown",
      "source": [
        "# Ejercicio\n",
        "\n",
        "Obtener al menos 100 tweets en español sobre un tema específico, puede usarse el #hashtag de algún tema (covid-19, sismo, etc.). Utilizar alguna biblioteca para recolectar tweets\n",
        "\n",
        "Alimentar la está red y observar los resultados (oraciones):\n",
        "\n",
        "*   Las oraciones son coherentes?\n",
        "*   Qué creen se necesitaría para mejorar esto?\n",
        "*   Para qué sería útil esta red? \n",
        "\n"
      ],
      "metadata": {
        "id": "haV3neLCglwC"
      }
    }
  ]
}