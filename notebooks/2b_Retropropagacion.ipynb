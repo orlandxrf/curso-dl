{
  "nbformat": 4,
  "nbformat_minor": 0,
  "metadata": {
    "colab": {
      "name": "2b_Retropropagacion.ipynb",
      "provenance": [],
      "collapsed_sections": [],
      "authorship_tag": "ABX9TyNKJ37axr5hPWU+SXp8CoiM",
      "include_colab_link": true
    },
    "kernelspec": {
      "name": "python3",
      "display_name": "Python 3"
    },
    "language_info": {
      "name": "python"
    },
    "widgets": {
      "application/vnd.jupyter.widget-state+json": {
        "9606d0fa24fd4a6dbdf1b0928275c11e": {
          "model_module": "@jupyter-widgets/controls",
          "model_name": "HBoxModel",
          "model_module_version": "1.5.0",
          "state": {
            "_view_name": "HBoxView",
            "_dom_classes": [],
            "_model_name": "HBoxModel",
            "_view_module": "@jupyter-widgets/controls",
            "_model_module_version": "1.5.0",
            "_view_count": null,
            "_view_module_version": "1.5.0",
            "box_style": "",
            "layout": "IPY_MODEL_7026616d729043f8a3ce0cc82e7fc955",
            "_model_module": "@jupyter-widgets/controls",
            "children": [
              "IPY_MODEL_b192610e2ad641f7a7ff6c946363a742",
              "IPY_MODEL_145cb45a31294d359e8adcfbb1d7b991",
              "IPY_MODEL_43f0e1babe4e4b0b81f70fd87f2d8036"
            ]
          }
        },
        "7026616d729043f8a3ce0cc82e7fc955": {
          "model_module": "@jupyter-widgets/base",
          "model_name": "LayoutModel",
          "model_module_version": "1.2.0",
          "state": {
            "_view_name": "LayoutView",
            "grid_template_rows": null,
            "right": null,
            "justify_content": null,
            "_view_module": "@jupyter-widgets/base",
            "overflow": null,
            "_model_module_version": "1.2.0",
            "_view_count": null,
            "flex_flow": null,
            "width": null,
            "min_width": null,
            "border": null,
            "align_items": null,
            "bottom": null,
            "_model_module": "@jupyter-widgets/base",
            "top": null,
            "grid_column": null,
            "overflow_y": null,
            "overflow_x": null,
            "grid_auto_flow": null,
            "grid_area": null,
            "grid_template_columns": null,
            "flex": null,
            "_model_name": "LayoutModel",
            "justify_items": null,
            "grid_row": null,
            "max_height": null,
            "align_content": null,
            "visibility": null,
            "align_self": null,
            "height": null,
            "min_height": null,
            "padding": null,
            "grid_auto_rows": null,
            "grid_gap": null,
            "max_width": null,
            "order": null,
            "_view_module_version": "1.2.0",
            "grid_template_areas": null,
            "object_position": null,
            "object_fit": null,
            "grid_auto_columns": null,
            "margin": null,
            "display": null,
            "left": null
          }
        },
        "b192610e2ad641f7a7ff6c946363a742": {
          "model_module": "@jupyter-widgets/controls",
          "model_name": "HTMLModel",
          "model_module_version": "1.5.0",
          "state": {
            "_view_name": "HTMLView",
            "style": "IPY_MODEL_8fe6a7c06b0647d1a5fb6b7fd9c26063",
            "_dom_classes": [],
            "description": "",
            "_model_name": "HTMLModel",
            "placeholder": "​",
            "_view_module": "@jupyter-widgets/controls",
            "_model_module_version": "1.5.0",
            "value": "100%",
            "_view_count": null,
            "_view_module_version": "1.5.0",
            "description_tooltip": null,
            "_model_module": "@jupyter-widgets/controls",
            "layout": "IPY_MODEL_52e634d13d5a426e9376a02c1bb6e7cb"
          }
        },
        "145cb45a31294d359e8adcfbb1d7b991": {
          "model_module": "@jupyter-widgets/controls",
          "model_name": "FloatProgressModel",
          "model_module_version": "1.5.0",
          "state": {
            "_view_name": "ProgressView",
            "style": "IPY_MODEL_3c367ceb3e784912bb4eba58d83955be",
            "_dom_classes": [],
            "description": "",
            "_model_name": "FloatProgressModel",
            "bar_style": "success",
            "max": 200,
            "_view_module": "@jupyter-widgets/controls",
            "_model_module_version": "1.5.0",
            "value": 200,
            "_view_count": null,
            "_view_module_version": "1.5.0",
            "orientation": "horizontal",
            "min": 0,
            "description_tooltip": null,
            "_model_module": "@jupyter-widgets/controls",
            "layout": "IPY_MODEL_dd9b994bda304942adb2f1b72292f06d"
          }
        },
        "43f0e1babe4e4b0b81f70fd87f2d8036": {
          "model_module": "@jupyter-widgets/controls",
          "model_name": "HTMLModel",
          "model_module_version": "1.5.0",
          "state": {
            "_view_name": "HTMLView",
            "style": "IPY_MODEL_3ea25eac54cf4d15ad5257eeb691f1da",
            "_dom_classes": [],
            "description": "",
            "_model_name": "HTMLModel",
            "placeholder": "​",
            "_view_module": "@jupyter-widgets/controls",
            "_model_module_version": "1.5.0",
            "value": " 200/200 [00:12&lt;00:00, 12.55epoch/s]",
            "_view_count": null,
            "_view_module_version": "1.5.0",
            "description_tooltip": null,
            "_model_module": "@jupyter-widgets/controls",
            "layout": "IPY_MODEL_f8ae244ae01a419d976df3a9f0118244"
          }
        },
        "8fe6a7c06b0647d1a5fb6b7fd9c26063": {
          "model_module": "@jupyter-widgets/controls",
          "model_name": "DescriptionStyleModel",
          "model_module_version": "1.5.0",
          "state": {
            "_view_name": "StyleView",
            "_model_name": "DescriptionStyleModel",
            "description_width": "",
            "_view_module": "@jupyter-widgets/base",
            "_model_module_version": "1.5.0",
            "_view_count": null,
            "_view_module_version": "1.2.0",
            "_model_module": "@jupyter-widgets/controls"
          }
        },
        "52e634d13d5a426e9376a02c1bb6e7cb": {
          "model_module": "@jupyter-widgets/base",
          "model_name": "LayoutModel",
          "model_module_version": "1.2.0",
          "state": {
            "_view_name": "LayoutView",
            "grid_template_rows": null,
            "right": null,
            "justify_content": null,
            "_view_module": "@jupyter-widgets/base",
            "overflow": null,
            "_model_module_version": "1.2.0",
            "_view_count": null,
            "flex_flow": null,
            "width": null,
            "min_width": null,
            "border": null,
            "align_items": null,
            "bottom": null,
            "_model_module": "@jupyter-widgets/base",
            "top": null,
            "grid_column": null,
            "overflow_y": null,
            "overflow_x": null,
            "grid_auto_flow": null,
            "grid_area": null,
            "grid_template_columns": null,
            "flex": null,
            "_model_name": "LayoutModel",
            "justify_items": null,
            "grid_row": null,
            "max_height": null,
            "align_content": null,
            "visibility": null,
            "align_self": null,
            "height": null,
            "min_height": null,
            "padding": null,
            "grid_auto_rows": null,
            "grid_gap": null,
            "max_width": null,
            "order": null,
            "_view_module_version": "1.2.0",
            "grid_template_areas": null,
            "object_position": null,
            "object_fit": null,
            "grid_auto_columns": null,
            "margin": null,
            "display": null,
            "left": null
          }
        },
        "3c367ceb3e784912bb4eba58d83955be": {
          "model_module": "@jupyter-widgets/controls",
          "model_name": "ProgressStyleModel",
          "model_module_version": "1.5.0",
          "state": {
            "_view_name": "StyleView",
            "_model_name": "ProgressStyleModel",
            "description_width": "",
            "_view_module": "@jupyter-widgets/base",
            "_model_module_version": "1.5.0",
            "_view_count": null,
            "_view_module_version": "1.2.0",
            "bar_color": null,
            "_model_module": "@jupyter-widgets/controls"
          }
        },
        "dd9b994bda304942adb2f1b72292f06d": {
          "model_module": "@jupyter-widgets/base",
          "model_name": "LayoutModel",
          "model_module_version": "1.2.0",
          "state": {
            "_view_name": "LayoutView",
            "grid_template_rows": null,
            "right": null,
            "justify_content": null,
            "_view_module": "@jupyter-widgets/base",
            "overflow": null,
            "_model_module_version": "1.2.0",
            "_view_count": null,
            "flex_flow": null,
            "width": null,
            "min_width": null,
            "border": null,
            "align_items": null,
            "bottom": null,
            "_model_module": "@jupyter-widgets/base",
            "top": null,
            "grid_column": null,
            "overflow_y": null,
            "overflow_x": null,
            "grid_auto_flow": null,
            "grid_area": null,
            "grid_template_columns": null,
            "flex": null,
            "_model_name": "LayoutModel",
            "justify_items": null,
            "grid_row": null,
            "max_height": null,
            "align_content": null,
            "visibility": null,
            "align_self": null,
            "height": null,
            "min_height": null,
            "padding": null,
            "grid_auto_rows": null,
            "grid_gap": null,
            "max_width": null,
            "order": null,
            "_view_module_version": "1.2.0",
            "grid_template_areas": null,
            "object_position": null,
            "object_fit": null,
            "grid_auto_columns": null,
            "margin": null,
            "display": null,
            "left": null
          }
        },
        "3ea25eac54cf4d15ad5257eeb691f1da": {
          "model_module": "@jupyter-widgets/controls",
          "model_name": "DescriptionStyleModel",
          "model_module_version": "1.5.0",
          "state": {
            "_view_name": "StyleView",
            "_model_name": "DescriptionStyleModel",
            "description_width": "",
            "_view_module": "@jupyter-widgets/base",
            "_model_module_version": "1.5.0",
            "_view_count": null,
            "_view_module_version": "1.2.0",
            "_model_module": "@jupyter-widgets/controls"
          }
        },
        "f8ae244ae01a419d976df3a9f0118244": {
          "model_module": "@jupyter-widgets/base",
          "model_name": "LayoutModel",
          "model_module_version": "1.2.0",
          "state": {
            "_view_name": "LayoutView",
            "grid_template_rows": null,
            "right": null,
            "justify_content": null,
            "_view_module": "@jupyter-widgets/base",
            "overflow": null,
            "_model_module_version": "1.2.0",
            "_view_count": null,
            "flex_flow": null,
            "width": null,
            "min_width": null,
            "border": null,
            "align_items": null,
            "bottom": null,
            "_model_module": "@jupyter-widgets/base",
            "top": null,
            "grid_column": null,
            "overflow_y": null,
            "overflow_x": null,
            "grid_auto_flow": null,
            "grid_area": null,
            "grid_template_columns": null,
            "flex": null,
            "_model_name": "LayoutModel",
            "justify_items": null,
            "grid_row": null,
            "max_height": null,
            "align_content": null,
            "visibility": null,
            "align_self": null,
            "height": null,
            "min_height": null,
            "padding": null,
            "grid_auto_rows": null,
            "grid_gap": null,
            "max_width": null,
            "order": null,
            "_view_module_version": "1.2.0",
            "grid_template_areas": null,
            "object_position": null,
            "object_fit": null,
            "grid_auto_columns": null,
            "margin": null,
            "display": null,
            "left": null
          }
        }
      }
    }
  },
  "cells": [
    {
      "cell_type": "markdown",
      "metadata": {
        "id": "view-in-github",
        "colab_type": "text"
      },
      "source": [
        "<a href=\"https://colab.research.google.com/github/orlandxrf/curso-dl/blob/main/notebooks/2b_Retropropagacion.ipynb\" target=\"_parent\"><img src=\"https://colab.research.google.com/assets/colab-badge.svg\" alt=\"Open In Colab\"/></a>"
      ]
    },
    {
      "cell_type": "markdown",
      "source": [
        "# Algoritmo de propagación hacia atrás\n",
        "\"Backpropagation\" es un algoritmo para minimizar nuestra función de costo. Nuestro objetivo es calcular:<br>\n",
        "<br>\n",
        "\n",
        "$min_{\\Theta}J(\\Theta)$<br>\n",
        "<br>\n",
        "\n",
        "Es decir, queremos minimizar nuestra función de costo $J$ usando un conjunto óptimo de parámetros en $\\Theta$. En este algoritmo se veran las ecuaciones que usamos para calcular la derivada parcial de $J(\\Theta)$:<br>\n",
        "<br>\n",
        "\n",
        "Dado el conjunto de entrenamiento $\\{(x^{\\{1\\}}, y^{\\{1\\}}) \\cdots (x^{\\{m\\}}, y^{\\{m\\}})\\}$<br>\n",
        "Establecemos $\\Delta^{(l)}_{i,j}:=0$ para todo $(l,i,j)$, (se puede ver como una matriz llena de ceros). $\\Delta$ se usa para calcular la derivada parcial de $\\frac{\\partial}{\\partial \\Theta^{(l)}_{i,j}} J(\\Theta)$ <br>\n",
        "<br>\n",
        "Para la muestra de entrenamiento $t=1$ to $m:$<br>\n",
        "<br>\n",
        "1. Establecer $a^{(1)}:=x^{(t)}$\n",
        "2. Realizar la propagación hacia adelante para \n",
        "![Cálculo del Gradiente](https://drive.google.com/uc?id=1aKgnISykvWK1pl6Fdbr6wIUpim9MNPeL)\n",
        "3. Usando $y^{(t)}$, calcular $\\delta^{(L)}=a^{(L)}-y^{(L)}$.\n",
        "4. Calcular $\\delta^{(L-1)}, \\delta^{(L-2)}, \\dots, \\delta^{(2)}$ usando $\\delta^{(l)}=((\\Theta^{l})^{T} \\delta^{l+1}) \\cdot a^{(l)} \\cdot (1-a^{(l)})$\n",
        "\n",
        "  Los valores delta ($\\delta$) de la capa $l$ se calculan multiplicando los valores delta en la siguiente capa con la matriz $\\Theta$ de la capa $l$. Luego hacemos la multiplicación de elementos (element-wise) con una función de activación llamada $g'$ (g-prime), que es la derivada de la función de activación $g$ evaluada con los valores de entrada dados por $z^{(l)}$.<br>\n",
        "<br>\n",
        "Los términos derivados de $g'$ también se pueden escribir como:<br>\n",
        "<br>\n",
        "$g'(z^{(l)}) = a^{(l)} \\cdot (1-a^{(l)})$\n",
        "\n",
        "5. $\\Delta^{(l)}_{i,j} := \\Delta^{(l)}_{i,j} + a^{(l)}_{j} \\delta^{(l+1)}_{i}$ o con vectorización, $\\Delta^{(l)} := \\Delta^{(l)} + \\delta^{(l+1)}(a^{(l)})^{T}$<br>\n",
        "<br>\n",
        "  Por lo tanto, actualizamos nuestra matriz $\\Delta$.<br>\n",
        "  \n",
        "\n",
        "*   $D^{(l)}_{i,j} := \\frac{1}{m} (\\Delta^{(l)}_{i,j} + \\lambda \\Theta^{(l)}_{i,j})$, si $j \\neq 0$\n",
        "*   $D^{(l)}_{i,j} := \\frac{1}{m} \\Delta^{(l)}_{i,j}$ si $j = 0$\n",
        "<br><br>\n",
        "  La matriz $D$ se usa como un \"acumulador\" para sumar nuestros valores a medida que avanzamos y eventualmente calcular nuestra derivada parcial. Así obtenemos $\\frac{\\partial}{\\partial \\Theta^{(l)}_{i,j}} J(\\Theta) = D^{(l)}_{i,j}$\n",
        "\n",
        "\n"
      ],
      "metadata": {
        "id": "3xWjNMRzBBkC"
      }
    },
    {
      "cell_type": "markdown",
      "source": [
        "## Propagación hacia adelante\n",
        "![Forward](https://drive.google.com/uc?id=1ytZVP5pL8RUHUtRCs_hU-SMAIsIUxw0M)\n",
        "<br>\n",
        "$z^{(3)}_{1} = \\Theta^{(2)}_{1,0} \\cdot 1 + \\Theta^{(2)}_{1,1} \\cdot a^{(2)}_{1} + \\Theta^{(2)}_{1,2} \\cdot a^{(2)}_{2}$<br>\n",
        "<br>\n",
        "## Propagación hacia atrás\n",
        "![Backward](https://drive.google.com/uc?id=1vVfuBxgWIbJlbgA7F0ZBSUei10_Ubzy7)\n",
        "\n",
        "$\\delta^{(l)}_{j} =$ el costo de error para $a^{(l)}_{j}$ (unidad $j$ en la capa $l$).<br>\n",
        "<br>\n",
        "\n",
        "$\\delta^{(4)}_{j} = a^{(4)}_{j} - y_{j} = (h_{\\Theta}(x))_{j} - y_{j}$<br>\n",
        "<br>\n",
        "\n",
        "$\\delta^{(3)}_{j} = (\\Theta^{(3)}_{j})^{T} \\delta^{(4)}_{j} \\cdot g'(z^{(3)}_{j})$ , donde $g'(z^{(3)}_{j}) = a^{(3)}_{j} \\cdot (1 - a^{(3)}_{j})$<br>\n",
        "<br>\n",
        "\n",
        "$\\delta^{(2)}_{j} = (\\Theta^{(2)}_{j})^{T} \\delta^{(3)}_{j} \\cdot g'(z^{(2)_{j}})$ , donde $g'(z^{(2)}_{j}) = a^{(2)}_{j} \\cdot (1 - a^{(2)}_{j})$<br>\n",
        "<br>\n",
        "\n",
        "No hay $\\delta^{(1)}$ porque la primera capa corresponde a la capa de entrada, y eso es simplemente son las características que observamos en nuestro conjunto de entrenamiento. Así que no hay errores asociados a éstas.\n",
        "\n",
        "<br>\n",
        "$\\delta^{(3)}_{2} = \\Theta^{(3)}_{1,2} \\cdot \\delta^{(4)}_{1}$\n",
        "<br>\n",
        "\n",
        "<br>\n",
        "$\\delta^{(2)}_{2} = \\Theta^{(2)}_{1,2} \\cdot \\delta^{(3)}_{1} + \\Theta^{(2)}_{2,2} \\cdot \\delta^{(3)}_{2}$\n",
        "<br>\n",
        "\n",
        "Formalmente, $\\delta^{(l)}_{j} = \\frac{\\partial}{\\partial z^{(l)}_{j}} cost(t)$ (para $j \\geq 0$), \n",
        "<br>donde $cost(t) = y^{t} log(h_{\\Theta}(x^{(t)})) + (1 - y^{t}) log(1 - h_{\\Theta}(x^{t}))$"
      ],
      "metadata": {
        "id": "gVoHl8fABOoU"
      }
    },
    {
      "cell_type": "markdown",
      "source": [
        "# Ejemplo de una Red neuronal\n",
        "![Diagrama](https://drive.google.com/uc?id=1Lfl5ko4CaIolASdva0pKhydaMMrE3VRP)\n",
        "<br>\n",
        "Donde:<br>\n",
        "<br>\n",
        "$x$ son las entradas y $y$ son las etiquetas.<br>\n",
        "$w$ son los pesos y $b$ es el sesgo.<br>\n",
        "$a$ es la \"pre-activación\" la multiplicación de los pesos ponderados más el sesgo:<br>\n",
        "$a_{1} = w_{1} \\cdot x_{1} + w_{2} \\cdot x_{2} + b_{1}$<br>\n",
        "$a_{2} = w_{3} \\cdot x_{1} + w_{4} \\cdot x_{2} + b_{2}$<br>\n",
        "$a_{3} = w_{5} \\cdot h_{1} + w_{6} \\cdot h_{2} + b_{3}$<br>\n",
        "$h$ es la \"post-activación\", calcula la función de activación: $h_{1} = sigmoid(a_{1})$<br>\n",
        "<br>\n",
        "Iniciamos definiendo un conjunto de datos aleatorio de 1000"
      ],
      "metadata": {
        "id": "3SSG-z39noQj"
      }
    },
    {
      "cell_type": "code",
      "execution_count": 1,
      "metadata": {
        "colab": {
          "base_uri": "https://localhost:8080/"
        },
        "id": "Ttlp-rBjnYyw",
        "outputId": "9f050901-935b-4136-81e9-261be7ac2575"
      },
      "outputs": [
        {
          "output_type": "stream",
          "name": "stdout",
          "text": [
            "(1000, 2) (1000,)\n",
            "etiquetas: [0 0 0 1 1 0 1 0 0 1]\n"
          ]
        }
      ],
      "source": [
        "# Generar 1000 datos con 4 etiquetas (0,1,2,3) con 2 características\n",
        "from sklearn.datasets import make_blobs\n",
        "\n",
        "# \"make_blobs\" para generar datos aleatoriamente de puntos con una distribución Gaussiana.\n",
        "data, labels = make_blobs(n_samples=1000, centers=2, n_features=2, random_state=0)\n",
        "print(data.shape, labels.shape)\n",
        "print(f\"etiquetas: {labels[:10]}\") # visualizar las primeras 10 etiquetas"
      ]
    },
    {
      "cell_type": "markdown",
      "source": [
        "Visualizar el conjunto de datos generado, para asegurarnos que no pueden separarse con una línea recta."
      ],
      "metadata": {
        "id": "i93pqCG2pNE6"
      }
    },
    {
      "cell_type": "code",
      "source": [
        "import matplotlib.pyplot as plt\n",
        "import matplotlib.colors\n",
        "\n",
        "my_cmap = matplotlib.colors.LinearSegmentedColormap.from_list(\"\", [\"red\",\"green\",\"yellow\"])\n",
        "\n",
        "plt.scatter(data[:,0], data[:,1], c=labels, cmap=my_cmap)\n",
        "plt.show()"
      ],
      "metadata": {
        "colab": {
          "base_uri": "https://localhost:8080/",
          "height": 265
        },
        "id": "q_Bv0LoKpQC2",
        "outputId": "b2f3577a-a6cc-4cc8-a83a-23602368f37c"
      },
      "execution_count": 2,
      "outputs": [
        {
          "output_type": "display_data",
          "data": {
            "image/png": "[encoded data removed]",
            "text/plain": [
              "<Figure size 432x288 with 1 Axes>"
            ]
          },
          "metadata": {
            "needs_background": "light"
          }
        }
      ]
    },
    {
      "cell_type": "markdown",
      "source": [
        "## Dividir el conjunto de datos en Train y Test"
      ],
      "metadata": {
        "id": "pYfYie6zsh4a"
      }
    },
    {
      "cell_type": "code",
      "source": [
        "from sklearn.model_selection import train_test_split\n",
        "\n",
        "# \"Data\" es equivalente a X, así como \"labels\" son equivalentes a Y\n",
        "# establecer \"stratify\" a una característica categórica (o el objetivo si está haciendo una clasificación, es decir, estratificar = y)\n",
        "# asegura que la división se realice para preservar la proporción de categorías en la columna pasada en \"stratify\"\n",
        "X_train, X_val, Y_train, Y_val = train_test_split(data, labels, test_size=0.20, stratify=labels, random_state=0)\n",
        "print(X_train.shape, X_val.shape)"
      ],
      "metadata": {
        "colab": {
          "base_uri": "https://localhost:8080/"
        },
        "id": "sZumgKpCsnBb",
        "outputId": "16752545-fa69-4c73-d2bb-75ed3658c4a0"
      },
      "execution_count": 3,
      "outputs": [
        {
          "output_type": "stream",
          "name": "stdout",
          "text": [
            "(800, 2) (200, 2)\n"
          ]
        }
      ]
    },
    {
      "cell_type": "markdown",
      "source": [
        "## Definir la red"
      ],
      "metadata": {
        "id": "fbh-jXFxuJZu"
      }
    },
    {
      "cell_type": "code",
      "source": [
        "from sklearn.metrics import accuracy_score, mean_squared_error\n",
        "from tqdm.notebook import tqdm\n",
        "import numpy as np\n",
        "\n",
        "class RedNeuronal:\n",
        "  \n",
        "  def __init__(self):\n",
        "    # inicializar los parámetros\n",
        "    self.w1 = np.random.randn()\n",
        "    self.w2 = np.random.randn()\n",
        "    self.w3 = np.random.randn()\n",
        "    self.w4 = np.random.randn()\n",
        "    self.w5 = np.random.randn()\n",
        "    self.w6 = np.random.randn()\n",
        "    self.b1 = 0\n",
        "    self.b2 = 0\n",
        "    self.b3 = 0\n",
        "  \n",
        "  def sigmoid(self, x):\n",
        "    # definir la función sigmoide\n",
        "    return 1.0/(1.0 + np.exp(-x))\n",
        "  \n",
        "\n",
        "  def forward_pass(self, x):\n",
        "    # método de propagación hacia adelante\n",
        "    # la preactivación representada por 'a': es una suma ponderada de entradas más el sesgo\n",
        "    # ls activación representada por 'h': la función de activación es la función sigmoide\n",
        "\n",
        "    self.x1, self.x2 = x\n",
        "    self.a1 = self.w1*self.x1 + self.w2*self.x2 + self.b1 # a1 = w1 * x1 + w2 * x2 + b1\n",
        "    self.h1 = self.sigmoid(self.a1)\n",
        "    self.a2 = self.w3*self.x1 + self.w4*self.x2 + self.b2 # a2 = w3 * x1 + w4 * x2 + b2\n",
        "    self.h2 = self.sigmoid(self.a2)\n",
        "    self.a3 = self.w5*self.h1 + self.w6*self.h2 + self.b3 # a3 = w5 * h1 + w6 * h2 + b3\n",
        "    self.h3 = self.sigmoid(self.a3)\n",
        "\n",
        "    # aplicar el sigmoide en a3 dará el resultado final previsto (h3)\n",
        "    return self.h3\n",
        "  \n",
        "  def grad(self, x, y):\n",
        "    # método de retropropagación\n",
        "    self.forward_pass(x)\n",
        "    \n",
        "    self.dw5 = (self.h3-y) * self.h3*(1-self.h3) * self.h1 # derivada de la función sigmoide self.h3*(1-self.h3) * self.h1\n",
        "    self.dw6 = (self.h3-y) * self.h3*(1-self.h3) * self.h2\n",
        "    self.db3 = (self.h3-y) * self.h3*(1-self.h3)\n",
        "    \n",
        "    self.dw1 = (self.h3-y) * self.h3*(1-self.h3) * self.w5 * self.h1*(1-self.h1) * self.x1\n",
        "    self.dw2 = (self.h3-y) * self.h3*(1-self.h3) * self.w5 * self.h1*(1-self.h1) * self.x2\n",
        "    self.db1 = (self.h3-y) * self.h3*(1-self.h3) * self.w5 * self.h1*(1-self.h1)\n",
        "  \n",
        "    self.dw3 = (self.h3-y) * self.h3*(1-self.h3) * self.w6 * self.h2*(1-self.h2) * self.x1\n",
        "    self.dw4 = (self.h3-y) * self.h3*(1-self.h3) * self.w6 * self.h2*(1-self.h2) * self.x2\n",
        "    self.db2 = (self.h3-y) * self.h3*(1-self.h3) * self.w6 * self.h2*(1-self.h2)\n",
        "  \n",
        "\n",
        "  def fit(self, X, Y, epochs=1, learning_rate=1, initialise=True, display_loss=False):\n",
        "    # método para ejecutar el modelo de la red\n",
        "    \n",
        "    # inicializar los valores de los pesos (w) y los sesgos (b)\n",
        "    if initialise:\n",
        "      self.w1 = np.random.randn()\n",
        "      self.w2 = np.random.randn()\n",
        "      self.w3 = np.random.randn()\n",
        "      self.w4 = np.random.randn()\n",
        "      self.w5 = np.random.randn()\n",
        "      self.w6 = np.random.randn()\n",
        "      self.b1 = 0\n",
        "      self.b2 = 0\n",
        "      self.b3 = 0\n",
        "      \n",
        "    if display_loss:\n",
        "      loss = {}\n",
        "    \n",
        "    for i in tqdm(range(epochs), total=epochs, unit=\"epoch\"):\n",
        "      dw1, dw2, dw3, dw4, dw5, dw6, db1, db2, db3 = [0]*9\n",
        "      \n",
        "      for x, y in zip(X, Y):\n",
        "        self.grad(x, y)\n",
        "        dw1 += self.dw1\n",
        "        dw2 += self.dw2\n",
        "        dw3 += self.dw3\n",
        "        dw4 += self.dw4\n",
        "        dw5 += self.dw5\n",
        "        dw6 += self.dw6\n",
        "        db1 += self.db1\n",
        "        db2 += self.db2\n",
        "        db3 += self.db3\n",
        "        \n",
        "      m = X.shape[1]\n",
        "      self.w1 -= learning_rate * dw1 / m\n",
        "      self.w2 -= learning_rate * dw2 / m\n",
        "      self.w3 -= learning_rate * dw3 / m\n",
        "      self.w4 -= learning_rate * dw4 / m\n",
        "      self.w5 -= learning_rate * dw5 / m\n",
        "      self.w6 -= learning_rate * dw6 / m\n",
        "      self.b1 -= learning_rate * db1 / m\n",
        "      self.b2 -= learning_rate * db2 / m\n",
        "      self.b3 -= learning_rate * db3 / m\n",
        "      \n",
        "      if display_loss:\n",
        "        Y_pred = self.predict(X)\n",
        "        loss[i] = mean_squared_error(Y_pred, Y)\n",
        "   \n",
        "    if display_loss:\n",
        "      plt.plot(list(loss.values()))\n",
        "      plt.xlabel('Epochs')\n",
        "      plt.ylabel('Mean Squared Error')\n",
        "      plt.show()\n",
        "      \n",
        "  def predict(self, X):\n",
        "    # Predicción de los datos\n",
        "    Y_pred = []\n",
        "    for x in X:\n",
        "      y_pred = self.forward_pass(x)\n",
        "      Y_pred.append(y_pred)\n",
        "    return np.array(Y_pred)"
      ],
      "metadata": {
        "id": "jB_rrJVvwWk6"
      },
      "execution_count": 4,
      "outputs": []
    },
    {
      "cell_type": "markdown",
      "source": [
        "## Entrenar la red"
      ],
      "metadata": {
        "id": "Zqm4nROB1Is8"
      }
    },
    {
      "cell_type": "code",
      "source": [
        "rn = RedNeuronal()\n",
        "#train the model on the data\n",
        "rn.fit(X_train, Y_train, epochs=200, learning_rate=.01, display_loss=True)\n",
        "#predictions\n",
        "Y_pred_train = rn.predict(X_train)\n",
        "Y_pred_binarised_train = (Y_pred_train >= 0.5).astype(\"int\").ravel()\n",
        "Y_pred_val = rn.predict(X_val)\n",
        "Y_pred_binarised_val = (Y_pred_val >= 0.5).astype(\"int\").ravel()\n",
        "accuracy_train = accuracy_score(Y_pred_binarised_train, Y_train)\n",
        "accuracy_val = accuracy_score(Y_pred_binarised_val, Y_val)\n",
        "#model performance\n",
        "print(\"Training accuracy\", round(accuracy_train, 2))\n",
        "print(\"Validation accuracy\", round(accuracy_val, 2))\n"
      ],
      "metadata": {
        "colab": {
          "base_uri": "https://localhost:8080/",
          "height": 346,
          "referenced_widgets": [
            "9606d0fa24fd4a6dbdf1b0928275c11e",
            "7026616d729043f8a3ce0cc82e7fc955",
            "b192610e2ad641f7a7ff6c946363a742",
            "145cb45a31294d359e8adcfbb1d7b991",
            "43f0e1babe4e4b0b81f70fd87f2d8036",
            "8fe6a7c06b0647d1a5fb6b7fd9c26063",
            "52e634d13d5a426e9376a02c1bb6e7cb",
            "3c367ceb3e784912bb4eba58d83955be",
            "dd9b994bda304942adb2f1b72292f06d",
            "3ea25eac54cf4d15ad5257eeb691f1da",
            "f8ae244ae01a419d976df3a9f0118244"
          ]
        },
        "id": "1WH96G0L1K6K",
        "outputId": "1048cd94-f7e4-4a96-e102-8146e967c9fb"
      },
      "execution_count": 5,
      "outputs": [
        {
          "output_type": "display_data",
          "data": {
            "application/vnd.jupyter.widget-view+json": {
              "model_id": "9606d0fa24fd4a6dbdf1b0928275c11e",
              "version_minor": 0,
              "version_major": 2
            },
            "text/plain": [
              "  0%|          | 0/200 [00:00<?, ?epoch/s]"
            ]
          },
          "metadata": {}
        },
        {
          "output_type": "display_data",
          "data": {
            "image/png": "[encoded data removed]",
            "text/plain": [
              "<Figure size 432x288 with 1 Axes>"
            ]
          },
          "metadata": {
            "needs_background": "light"
          }
        },
        {
          "output_type": "stream",
          "name": "stdout",
          "text": [
            "Training accuracy 0.96\n",
            "Validation accuracy 0.94\n"
          ]
        }
      ]
    }
  ]
}