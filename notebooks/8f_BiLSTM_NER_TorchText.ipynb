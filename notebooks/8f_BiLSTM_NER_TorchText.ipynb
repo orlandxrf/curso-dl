{
  "nbformat": 4,
  "nbformat_minor": 0,
  "metadata": {
    "colab": {
      "name": "8f_BiLSTM_NER_TorchText.ipynb",
      "provenance": [],
      "collapsed_sections": [],
      "authorship_tag": "ABX9TyMc/AfyPnoGAxPzenyu87ZX",
      "include_colab_link": true
    },
    "kernelspec": {
      "name": "python3",
      "display_name": "Python 3"
    },
    "language_info": {
      "name": "python"
    }
  },
  "cells": [
    {
      "cell_type": "markdown",
      "metadata": {
        "id": "view-in-github",
        "colab_type": "text"
      },
      "source": [
        "<a href=\"https://colab.research.google.com/github/orlandxrf/curso-dl/blob/main/notebooks/8f_BiLSTM_NER_TorchText.ipynb\" target=\"_parent\"><img src=\"https://colab.research.google.com/assets/colab-badge.svg\" alt=\"Open In Colab\"/></a>"
      ]
    },
    {
      "cell_type": "markdown",
      "source": [
        "# Reconocimiento de Entidades Nombradas usando una Bi-LSTM\n",
        "\n",
        "Para resolver esta tarea se usa el conjunto de datos CoNLL-2002 en español"
      ],
      "metadata": {
        "id": "fMQSZLs_33DT"
      }
    },
    {
      "cell_type": "markdown",
      "source": [
        "## Conjunto de Datos"
      ],
      "metadata": {
        "id": "oHM1LfOz4Mdw"
      }
    },
    {
      "cell_type": "code",
      "execution_count": null,
      "metadata": {
        "colab": {
          "base_uri": "https://localhost:8080/"
        },
        "id": "Sn4844F3319f",
        "outputId": "ce412dcd-9ee9-4387-81cb-23f08ef12c5d"
      },
      "outputs": [
        {
          "output_type": "stream",
          "name": "stdout",
          "text": [
            "[nltk_data] Downloading package conll2002 to /root/nltk_data...\n",
            "[nltk_data]   Package conll2002 is already up-to-date!\n"
          ]
        },
        {
          "output_type": "execute_result",
          "data": {
            "text/plain": [
              "['esp.testa', 'esp.testb', 'esp.train', 'ned.testa', 'ned.testb', 'ned.train']"
            ]
          },
          "metadata": {},
          "execution_count": 186
        }
      ],
      "source": [
        "# usar el conjunto de datos de la biblioteca NLTK\n",
        "import nltk\n",
        "\n",
        "# descargar el dataset conll2002\n",
        "nltk.download('conll2002')\n",
        "\n",
        "nltk.corpus.conll2002.fileids()"
      ]
    },
    {
      "cell_type": "markdown",
      "source": [
        "### Conjuntos de entrenamiento y validación"
      ],
      "metadata": {
        "id": "VMAEb-eq49o_"
      }
    },
    {
      "cell_type": "code",
      "source": [
        "# visualizar el conjunto de prueba a\n",
        "print (' '.join([triple[0] for triple in list(nltk.corpus.conll2002.iob_sents('esp.testa'))[0]]))\n",
        "print (' '.join([triple[2] for triple in list(nltk.corpus.conll2002.iob_sents('esp.testa'))[0]]))\n",
        "\n",
        "print (\"\\n\")\n",
        "\n",
        "for i, x in enumerate(list(nltk.corpus.conll2002.iob_sents('esp.testa'))):\n",
        "  if i==3: break\n",
        "  print (x)"
      ],
      "metadata": {
        "colab": {
          "base_uri": "https://localhost:8080/"
        },
        "id": "S2bArv2352dL",
        "outputId": "e503a0cd-6289-4da5-888d-37f4b0d64f44"
      },
      "execution_count": null,
      "outputs": [
        {
          "output_type": "stream",
          "name": "stdout",
          "text": [
            "Sao Paulo ( Brasil ) , 23 may ( EFECOM ) .\n",
            "B-LOC I-LOC O B-LOC O O O O O B-ORG O O\n",
            "\n",
            "\n",
            "[('Sao', 'NC', 'B-LOC'), ('Paulo', 'VMI', 'I-LOC'), ('(', 'Fpa', 'O'), ('Brasil', 'NC', 'B-LOC'), (')', 'Fpt', 'O'), (',', 'Fc', 'O'), ('23', 'Z', 'O'), ('may', 'NC', 'O'), ('(', 'Fpa', 'O'), ('EFECOM', 'NP', 'B-ORG'), (')', 'Fpt', 'O'), ('.', 'Fp', 'O')]\n",
            "[('-', 'Fg', 'O')]\n",
            "[('La', 'DA', 'O'), ('multinacional', 'NC', 'O'), ('española', 'AQ', 'O'), ('Telefónica', 'AQ', 'B-ORG'), ('ha', 'VAI', 'O'), ('impuesto', 'VMP', 'O'), ('un', 'DI', 'O'), ('récord', 'NC', 'O'), ('mundial', 'AQ', 'O'), ('al', 'SP', 'O'), ('poner', 'VMN', 'O'), ('en', 'SP', 'O'), ('servicio', 'NC', 'O'), ('tres', 'DN', 'O'), ('millones', 'NC', 'O'), ('de', 'SP', 'O'), ('nuevas', 'AQ', 'O'), ('líneas', 'NC', 'O'), ('en', 'SP', 'O'), ('el', 'DA', 'O'), ('estado', 'NC', 'O'), ('brasileño', 'AQ', 'O'), ('de', 'SP', 'O'), ('Sao', 'NC', 'B-LOC'), ('Paulo', 'VMI', 'I-LOC'), ('desde', 'SP', 'O'), ('que', 'PR', 'O'), ('asumió', 'VMI', 'O'), ('el', 'DA', 'O'), ('control', 'NC', 'O'), ('de', 'SP', 'O'), ('la', 'DA', 'O'), ('operadora', 'NC', 'O'), ('Telesp', 'AQ', 'B-ORG'), ('hace', 'VMI', 'O'), ('20', 'Z', 'O'), ('meses', 'NC', 'O'), (',', 'Fc', 'O'), ('anunció', 'VMI', 'O'), ('hoy', 'RG', 'O'), ('el', 'DA', 'O'), ('presidente', 'NC', 'O'), ('de', 'SP', 'O'), ('Telefónica', 'AQ', 'B-ORG'), ('do', 'NC', 'I-ORG'), ('Brasil', 'NC', 'I-ORG'), (',', 'Fc', 'O'), ('Fernando', 'NC', 'B-PER'), ('Xavier', 'AQ', 'I-PER'), ('Ferreira', 'AQ', 'I-PER'), ('.', 'Fp', 'O')]\n"
          ]
        }
      ]
    },
    {
      "cell_type": "markdown",
      "source": [
        "## Preparar datos"
      ],
      "metadata": {
        "id": "azbp1F6ZFOYA"
      }
    },
    {
      "cell_type": "code",
      "source": [
        "def saveData(path, data, mode='a'):\n",
        "    g = open(path, mode)\n",
        "    g.write(data)\n",
        "    g.close()\n",
        "\n",
        "def getData(dataset_name, file_name):\n",
        "    for sentence in list(nltk.corpus.conll2002.iob_sents(dataset_name)):\n",
        "        for triple in sentence:\n",
        "            data = f\"{triple[0]}\\t{triple[2]}\\n\"\n",
        "            saveData(file_name, data)\n",
        "        saveData(file_name, '\\n') # separar oración del resto\n",
        "    print (f\"Se guardo el archivo: {file_name}\")\n",
        "\n",
        "\n",
        "\n",
        "file_name = 'train.tsv'\n",
        "saveData(file_name, '', mode='w') # resetear/crear archivo\n",
        "getData('esp.train', file_name)\n",
        "\n",
        "file_name = 'testa.tsv'\n",
        "saveData(file_name, '', mode='w') # resetear/crear archivo\n",
        "getData('esp.testa', file_name)\n",
        "\n",
        "file_name = 'testb.tsv'\n",
        "saveData(file_name, '', mode='w') # resetear/crear archivo\n",
        "getData('esp.testb', file_name)\n",
        "\n",
        "! ls -lh"
      ],
      "metadata": {
        "colab": {
          "base_uri": "https://localhost:8080/"
        },
        "id": "kpDHYKKotqXj",
        "outputId": "e20a6a79-230b-453e-f92d-4994b08f4f73"
      },
      "execution_count": null,
      "outputs": [
        {
          "output_type": "stream",
          "name": "stdout",
          "text": [
            "Se guardo el archivo: train.tsv\n",
            "Se guardo el archivo: testa.tsv\n",
            "Se guardo el archivo: testb.tsv\n",
            "total 38M\n",
            "-rw-r--r-- 1 root root 146K Mar 16 21:42 bilstm_loss_accuracy.png\n",
            "-rw-r--r-- 1 root root  35M Mar 16 22:07 biLSTM-NER-model.pt\n",
            "drwxr-xr-x 1 root root 4.0K Mar  9 14:48 sample_data\n",
            "-rw-r--r-- 1 root root 421K Mar 16 22:11 testa.tsv\n",
            "-rw-r--r-- 1 root root 407K Mar 16 22:11 testb.tsv\n",
            "-rw-r--r-- 1 root root 2.1M Mar 16 22:11 train.tsv\n"
          ]
        }
      ]
    },
    {
      "cell_type": "code",
      "source": [
        "# verificar archivos creados\n",
        "! head -20 testa.tsv"
      ],
      "metadata": {
        "colab": {
          "base_uri": "https://localhost:8080/"
        },
        "id": "0r9nuJ-KyOUa",
        "outputId": "db5652ac-4ee5-4f11-a3ed-1c9fe52b1929"
      },
      "execution_count": null,
      "outputs": [
        {
          "output_type": "stream",
          "name": "stdout",
          "text": [
            "Sao\tB-LOC\n",
            "Paulo\tI-LOC\n",
            "(\tO\n",
            "Brasil\tB-LOC\n",
            ")\tO\n",
            ",\tO\n",
            "23\tO\n",
            "may\tO\n",
            "(\tO\n",
            "EFECOM\tB-ORG\n",
            ")\tO\n",
            ".\tO\n",
            "\n",
            "-\tO\n",
            "\n",
            "La\tO\n",
            "multinacional\tO\n",
            "española\tO\n",
            "Telefónica\tB-ORG\n",
            "ha\tO\n"
          ]
        }
      ]
    },
    {
      "cell_type": "markdown",
      "source": [
        "## Usar TorchText para generar iteradores"
      ],
      "metadata": {
        "id": "nYM3rR6Fz6Fx"
      }
    },
    {
      "cell_type": "code",
      "source": [
        "from torchtext.legacy.data import Field, BucketIterator\n",
        "from torchtext.legacy.datasets import SequenceTaggingDataset\n",
        "\n",
        "class Corpus(object):\n",
        "  \"\"\"Clase que crea los conjutos de datos: entrenamiento, validación y pruebas\"\"\"\n",
        "\n",
        "  def __init__(self, input_folder, min_word_freq, batch_size):\n",
        "    # crear objetos Field\n",
        "    self.word_field = Field(lower = True)\n",
        "    self.tag_field = Field(unk_token = None)\n",
        "\n",
        "    # crear un conjunto de datos usando un analizador incorporado de torchtext\n",
        "    self.train_dataset, self.val_dataset, self.test_dataset = SequenceTaggingDataset.splits(\n",
        "        path = input_folder,\n",
        "        train = \"train.tsv\",\n",
        "        validation = \"testa.tsv\",\n",
        "        test = \"testb.tsv\",\n",
        "        fields = ((\"word\", self.word_field), (\"tag\", self.tag_field))\n",
        "    )\n",
        "\n",
        "    # convertir campos a lista de vocabulario\n",
        "    self.word_field.build_vocab(self.train_dataset.word, min_freq = min_word_freq)\n",
        "    self.tag_field.build_vocab(self.train_dataset.tag)\n",
        "\n",
        "    # crear iterador para los mini-batch de entrada\n",
        "    self.train_iter, self.val_iter, self.test_iter = BucketIterator.splits(\n",
        "        datasets = (self.train_dataset, self.val_dataset, self.test_dataset),\n",
        "        batch_size = batch_size\n",
        "    )\n",
        "\n",
        "    # preparar los índices de relleno para ser ignorado durante el entrenamiento/evaluación del modelo\n",
        "    self.word_pad_idx = self.word_field.vocab.stoi[self.word_field.pad_token]\n",
        "    self.tag_pad_idx = self.tag_field.vocab.stoi[self.tag_field.pad_token]"
      ],
      "metadata": {
        "id": "jE5pu-tF0BG3"
      },
      "execution_count": null,
      "outputs": []
    },
    {
      "cell_type": "code",
      "source": [
        "corpus = Corpus(\n",
        "    input_folder = \".\",\n",
        "    min_word_freq = 1,  # cualquier palabra que aparezca menos de \"n\" veces será ignorada del vocabulario\n",
        "    batch_size = 64\n",
        ")\n",
        "print(f\"Train set:\\t{len(corpus.train_dataset):,} sentences\")\n",
        "print(f\"Val set:\\t{len(corpus.val_dataset):,} sentences\")\n",
        "print(f\"Test set:\\t{len(corpus.test_dataset):,} sentences\")\n",
        "\n",
        "print (f\"\\n{corpus.train_iter.batch_size} es el tamaño de cada batch\")\n",
        "print (f\"{len(corpus.train_iter)} batches en el train\")\n",
        "print (f\"{len(corpus.val_iter)} batches en el validation\")\n",
        "print (f\"{len(corpus.test_iter)} batches en el validation\")"
      ],
      "metadata": {
        "colab": {
          "base_uri": "https://localhost:8080/"
        },
        "id": "pMzBlsUw1eNx",
        "outputId": "679746ed-33d6-4418-ab4e-4af579ccd00e"
      },
      "execution_count": null,
      "outputs": [
        {
          "output_type": "stream",
          "name": "stdout",
          "text": [
            "Train set:\t8,323 sentences\n",
            "Val set:\t1,915 sentences\n",
            "Test set:\t1,517 sentences\n",
            "\n",
            "64 es el tamaño de cada batch\n",
            "131 batches en el train\n",
            "30 batches en el validation\n",
            "24 batches en el validation\n"
          ]
        }
      ]
    },
    {
      "cell_type": "markdown",
      "source": [
        "## Definir el modelo de la red Bi-LSTM"
      ],
      "metadata": {
        "id": "AxHZMbJfhE5Y"
      }
    },
    {
      "cell_type": "code",
      "source": [
        "import torch\n",
        "\n",
        "class BiLSTM(torch.nn.Module):\n",
        "    \"\"\"Clase para el modelo Bidirectional Long Short-Term Memory\"\"\"\n",
        "\n",
        "    def __init__(self, input_dim, embedding_dim, hidden_dim, output_dim, lstm_layers, emb_dropout, lstm_dropout, fc_dropout, word_pad_idx):\n",
        "        super().__init__()\n",
        "\n",
        "        self.embedding_dim = embedding_dim,\n",
        "\n",
        "        # capa 1: Embbeddings\n",
        "        self.embedding = torch.nn.Embedding(\n",
        "            num_embeddings = input_dim,\n",
        "            embedding_dim = embedding_dim,\n",
        "            padding_idx = word_pad_idx\n",
        "        )\n",
        "\n",
        "        self.emb_dropout = torch.nn.Dropout(emb_dropout)\n",
        "\n",
        "        # capa 2. BiLSTM\n",
        "        self.lstm = torch.nn.LSTM(\n",
        "            input_size = embedding_dim,\n",
        "            hidden_size = hidden_dim,\n",
        "            num_layers = lstm_layers,\n",
        "            bidirectional = True, # Bi-LSTM\n",
        "            dropout = lstm_dropout if lstm_layers > 1 else 0\n",
        "        )\n",
        "\n",
        "        # capa3. FC\n",
        "        self.fc_dropout = torch.nn.Dropout(fc_dropout)\n",
        "        self.fc = torch.nn.Linear(\n",
        "            in_features = hidden_dim * 2,\n",
        "            out_features = output_dim\n",
        "        )\n",
        "\n",
        "    def forward(self, sentence):\n",
        "        # sentence = [sentence length, batch size]\n",
        "        # embedding_out = [sentence length, batch size, embedding dim]\n",
        "        embedding_out = self.emb_dropout(\n",
        "            self.embedding(sentence)\n",
        "        )\n",
        "        # lstm_out = [sentence length, batch size, hidden dim * 2]\n",
        "        lstm_out, _ = self.lstm(embedding_out)\n",
        "        # ner_out = [sentence length, batch size, output dim]\n",
        "        ner_out = self.fc(\n",
        "            self.fc_dropout(lstm_out)\n",
        "        )\n",
        "\n",
        "        return ner_out\n",
        "    \n",
        "    def init_weights(self):\n",
        "        # inicializar todos los parámetros de una distribución normal\n",
        "        # ayuda a converger durante el entrenamiento\n",
        "        for name, param in self.named_parameters():\n",
        "            torch.nn.init.normal_(param.data, mean=0, std=0.1)\n",
        "    \n",
        "    def init_embeddings(self, word_pad_idx):\n",
        "        # inicializar el embeddings para el relleno (pad) como cero\n",
        "        self.embedding.weight.data[word_pad_idx] = torch.zeros(self.embedding_dim)\n",
        "    \n",
        "    def count_parameters(self):\n",
        "        return sum( p.numel() for p in self.parameters() if p.requires_grad )"
      ],
      "metadata": {
        "id": "jxGZGczLhH33"
      },
      "execution_count": null,
      "outputs": []
    },
    {
      "cell_type": "markdown",
      "source": [
        "### Definir funciones para el entrenamiento"
      ],
      "metadata": {
        "id": "dWI660lPjOYV"
      }
    },
    {
      "cell_type": "code",
      "source": [
        "def epoch_time(start_time, end_time):\n",
        "    elapsed_time = end_time - start_time\n",
        "    elapsed_mins = int(elapsed_time / 60)\n",
        "    elapsed_secs = int(elapsed_time - (elapsed_mins * 60))\n",
        "    return elapsed_mins, elapsed_secs\n",
        "\n",
        "def accuracy(preds, y):\n",
        "    # print (f\" y shape --> {y.shape}\")\n",
        "    # print (f\" y --> {y}\")\n",
        "    # print (f\"preds shape --> {preds.shape}\")\n",
        "    # print (f\"preds --> {preds}\")\n",
        "    max_preds = preds.argmax(dim=1, keepdim=True)  # get the index of the max probability\n",
        "    # print (f\"max_preds --> {max_preds.shape}\")\n",
        "    # print (f\"corpus.tag_pad_idx --> {corpus.tag_pad_idx}\")\n",
        "    # print (f\"y != corpus.tag_pad_idx --> {y != corpus.tag_pad_idx}\")\n",
        "    # exit(0)\n",
        "    non_pad_elements = (y != corpus.tag_pad_idx).nonzero()  # obtener vector de etiquetas sin el relleno\n",
        "    correct = max_preds[non_pad_elements].squeeze(1).eq(y[non_pad_elements])\n",
        "    return correct.sum() / torch.FloatTensor([y[non_pad_elements].shape[0]])\n",
        "\n",
        "def index2word(data):\n",
        "    \"\"\"método para convertir los índices a sus etiquetas\"\"\"\n",
        "    return [corpus.tag_field.vocab.itos[index] for index in data]"
      ],
      "metadata": {
        "id": "lNzWGhWQjR5q"
      },
      "execution_count": null,
      "outputs": []
    },
    {
      "cell_type": "code",
      "source": [
        "def train(model, iterator, optimizer, loss_function):\n",
        "    \"\"\"\n",
        "    Entrenar el modelo, recibe el conjunto de datos (iterator), optimizador, y la función de pérdida\n",
        "    Retorna el loss y el accuracy\n",
        "    \"\"\"\n",
        "    from tqdm.auto import tqdm\n",
        "\n",
        "    epoch_loss = 0\n",
        "    epoch_acc = 0\n",
        "    \n",
        "    model.train()\n",
        "    \n",
        "    # for batch in tqdm(iterator, desc=\"Entrenamiento\", total=len(iterator)):\n",
        "    for batch in iterator:\n",
        "        text = batch.word\n",
        "        true_tags = batch.tag\n",
        "\n",
        "        # restablecer el gradiente\n",
        "        optimizer.zero_grad()\n",
        "\n",
        "        # obtener las predicciones del batch en proceso\n",
        "        pred_tags = model(text)\n",
        "\n",
        "        # to calculate the loss and accuracy, we flatten both prediction and true tags\n",
        "        # flatten pred_tags to [sent len, batch size, output dim]\n",
        "        # -----------------------------------------------------\n",
        "        # print (f\"pred_tags:\\t{pred_tags.size()}\")\n",
        "        # -----------------------------------------------------\n",
        "        pred_tags = pred_tags.view(-1, pred_tags.shape[-1])\n",
        "        # -----------------------------------------------------\n",
        "        # print (f\"pred_tags flatten:\\t{pred_tags.size()}\")\n",
        "        # print (f\"true_tags:\\t{true_tags.size()}\")\n",
        "        # -----------------------------------------------------\n",
        "        # flatten true_tags to [sent len * batch size]\n",
        "        true_tags = true_tags.view(-1)\n",
        "        # -----------------------------------------------------\n",
        "        # print (f\"true_tags:\\t{true_tags.size()}\")\n",
        "        # -----------------------------------------------------\n",
        "        # obtener la pérdida \n",
        "        batch_loss = loss_function(pred_tags, true_tags)\n",
        "        \n",
        "        # calcular el accuracy\n",
        "        batch_acc = accuracy(pred_tags, true_tags)\n",
        "\n",
        "        # `clip_grad_norm` ayuda a prevenir el problema del gradiente explosivo en RNN / LSTM\n",
        "        torch.nn.utils.clip_grad_norm_(model.parameters(), 5)\n",
        "        \n",
        "        # backpropagation\n",
        "        batch_loss.backward()\n",
        "        \n",
        "        # Actualizar (optimizar) los pesos\n",
        "        optimizer.step()\n",
        "        \n",
        "        epoch_loss += batch_loss.item()\n",
        "        epoch_acc += batch_acc.item()\n",
        "\n",
        "    return epoch_loss / len(iterator), epoch_acc / len(iterator)\n",
        "\n",
        "\n",
        "def evaluate(model, iterator, loss_function):\n",
        "    \"\"\"\n",
        "    Evaluar el conjunto de validación\n",
        "    Retorna el loss y accuracy\n",
        "    \"\"\"\n",
        "    from tqdm.auto import tqdm\n",
        "    epoch_loss = 0\n",
        "    epoch_acc = 0\n",
        "    \n",
        "    word_prediction, tag_prediction = [], []\n",
        "\n",
        "    # indicar la evaluación del modelo\n",
        "    model.eval()\n",
        "    \n",
        "    # No utilizar cálculos del gradiente\n",
        "    with torch.no_grad():\n",
        "        # for batch in tqdm(iterator, desc=\"Evaluación\", total=len(iterator)):\n",
        "        for batch in iterator:\n",
        "            text = batch.word\n",
        "            true_tags = batch.tag\n",
        "            \n",
        "            pred_tags = model(text)\n",
        "            pred_tags = pred_tags.view(-1, pred_tags.shape[-1])\n",
        "            true_tags = true_tags.view(-1)\n",
        "            batch_loss = loss_function(pred_tags, true_tags)\n",
        "            batch_acc = accuracy(pred_tags, true_tags)\n",
        "            epoch_loss += batch_loss.item()\n",
        "            epoch_acc += batch_acc.item()\n",
        "\n",
        "            # realizar predicciones\n",
        "            max_preds = pred_tags.argmax(dim=1, keepdim=True)  # get the index of the max probability\n",
        "            # print (f\"max_preds:\\t{max_preds}\\n{max_preds.shape}\")\n",
        "            non_pad_elements = (true_tags != corpus.tag_pad_idx).nonzero()  # obtener vector de etiquetas sin el relleno\n",
        "            # print (f\"\\nnon_pad_elements:\\t{non_pad_elements}\\n{non_pad_elements.shape}\")\n",
        "            correct = max_preds[non_pad_elements].squeeze(1).eq(true_tags[non_pad_elements])      \n",
        "            # print (f\"\\ncorrect:\\t{correct}\\n{correct.shape}\")\n",
        "            # predecidos = max_preds[non_pad_elements].squeeze(1)\n",
        "            # verdaderos = true_tags[non_pad_elements]\n",
        "            # print (f\"\\npredecidos:\\t{predecidos}\\n{len(predecidos)}\")\n",
        "            # print (f\"verdaderos:\\t{verdaderos}\\n{len(verdaderos)}\")\n",
        "            # predicted_tags = [corpus.tag_field.vocab.itos[t.item()] for t in max_preds]\n",
        "            # print (f\"\\npredicted_tags:\\t{predicted_tags}\\n{predicted_tags.shape}\")\n",
        "            # almacenar las predicciones\n",
        "           \n",
        "\n",
        "    return epoch_loss / len(iterator), epoch_acc / len(iterator)\n",
        "\n",
        "\n",
        "def evaluateTest(model, iterator, loss_function):\n",
        "    \"\"\"\n",
        "    Evaluar el conjunto de prueba\n",
        "    Retorna el loss y accuracy\n",
        "    \"\"\"\n",
        "    from tqdm.auto import tqdm\n",
        "    epoch_loss = 0\n",
        "    epoch_acc = 0\n",
        "    \n",
        "    word_prediction, tag_prediction = [], []\n",
        "    y_true, y_pred = [], []\n",
        "\n",
        "    # indicar la evaluación del modelo\n",
        "    model.eval()\n",
        "    \n",
        "    # No utilizar cálculos del gradiente\n",
        "    with torch.no_grad():\n",
        "        # for batch in tqdm(iterator, desc=\"Evaluación\", total=len(iterator)):\n",
        "        for batch in iterator:\n",
        "            text = batch.word\n",
        "            true_tags = batch.tag\n",
        "            \n",
        "            pred_tags = model(text)\n",
        "            pred_tags = pred_tags.view(-1, pred_tags.shape[-1])\n",
        "            true_tags = true_tags.view(-1)\n",
        "            batch_loss = loss_function(pred_tags, true_tags)\n",
        "            batch_acc = accuracy(pred_tags, true_tags)\n",
        "            epoch_loss += batch_loss.item()\n",
        "            epoch_acc += batch_acc.item()\n",
        "\n",
        "            # realizar predicciones\n",
        "            max_preds = pred_tags.argmax(dim=1, keepdim=True)  # get the index of the max probability\n",
        "            # print (f\"max_preds:\\t{max_preds}\\n{max_preds.shape}\")\n",
        "            non_pad_elements = (true_tags != corpus.tag_pad_idx).nonzero()  # obtener vector de etiquetas sin el relleno\n",
        "            # print (f\"\\nnon_pad_elements:\\t{non_pad_elements}\\n{non_pad_elements.shape}\")\n",
        "            correct = max_preds[non_pad_elements].squeeze(1).eq(true_tags[non_pad_elements])      \n",
        "            # print (f\"\\ncorrect:\\t{correct}\\n{correct.shape}\")\n",
        "            predecidos = max_preds[non_pad_elements].squeeze(1).squeeze(1)\n",
        "            verdaderos = true_tags[non_pad_elements].squeeze(1)\n",
        "            # print (f\"\\npredecidos:\\t{predecidos}\\n{len(predecidos)}\")\n",
        "            # print (f\"verdaderos:\\t{verdaderos}\\n{len(verdaderos)}\")\n",
        "\n",
        "            real_tags = [corpus.tag_field.vocab.itos[t.item()] for t in verdaderos]\n",
        "            predicted_tags = [corpus.tag_field.vocab.itos[t.item()] if t.item() > 0 else corpus.tag_field.vocab.itos[1] for t in predecidos]\n",
        "            # print (f\"\\npredicted_tags:\\t{predicted_tags}\\n{len(predicted_tags)}\")\n",
        "\n",
        "            # real_tags = [corpus.tag_field.vocab.itos[t.item()] for t in verdaderos]\n",
        "            # print (f\"\\nreal_tags:\\t{real_tags}\\n{len(real_tags)}\")\n",
        "            # almacenar las predicciones\n",
        "            \n",
        "            # verdaderos = index2word(verdaderos.tolist())\n",
        "            # predecidos = index2word(predecidos.tolist())\n",
        "\n",
        "            y_true.append( real_tags )\n",
        "            y_pred.append( predicted_tags )\n",
        "\n",
        "\n",
        "            \n",
        "\n",
        "            # basura\n",
        "\n",
        "    return epoch_loss / len(iterator), epoch_acc / len(iterator), y_true, y_pred"
      ],
      "metadata": {
        "id": "Adl96ewAj5rU"
      },
      "execution_count": null,
      "outputs": []
    },
    {
      "cell_type": "markdown",
      "source": [
        "## Entrenar el modelo"
      ],
      "metadata": {
        "id": "pmAnfYn-kwwH"
      }
    },
    {
      "cell_type": "code",
      "source": [
        "# instanciar el modelo\n",
        "model = BiLSTM(\n",
        "    input_dim = len(corpus.word_field.vocab),\n",
        "    embedding_dim = 300, # 300,\n",
        "    hidden_dim = 128, # 64,\n",
        "    output_dim = len(corpus.tag_field.vocab), # no contar el token de relleno\n",
        "    lstm_layers = 2,\n",
        "    emb_dropout = 0.5,\n",
        "    lstm_dropout = 0.1,\n",
        "    fc_dropout = 0.25,\n",
        "    word_pad_idx = corpus.word_pad_idx\n",
        ")\n",
        "\n",
        "# inicializar los pesos\n",
        "model.init_weights()\n",
        "\n",
        "# definir el embedding para el relleno (pad)\n",
        "model.init_embeddings(\n",
        "    word_pad_idx = corpus.word_pad_idx\n",
        ")\n",
        "\n",
        "print (f\"El modelo tiene {model.count_parameters():,} parámeros entrenebles\\n\")\n",
        "\n",
        "print (model)"
      ],
      "metadata": {
        "colab": {
          "base_uri": "https://localhost:8080/"
        },
        "id": "n2gnlyQ3kykP",
        "outputId": "180a177d-7eb2-4d0c-d741-335654fc2d97"
      },
      "execution_count": null,
      "outputs": [
        {
          "output_type": "stream",
          "name": "stdout",
          "text": [
            "El modelo tiene 7,951,754 parámeros entrenebles\n",
            "\n",
            "BiLSTM(\n",
            "  (embedding): Embedding(23712, 300, padding_idx=1)\n",
            "  (emb_dropout): Dropout(p=0.5, inplace=False)\n",
            "  (lstm): LSTM(300, 128, num_layers=2, dropout=0.1, bidirectional=True)\n",
            "  (fc_dropout): Dropout(p=0.25, inplace=False)\n",
            "  (fc): Linear(in_features=256, out_features=10, bias=True)\n",
            ")\n"
          ]
        }
      ]
    },
    {
      "cell_type": "code",
      "source": [
        "# entrenar el modelo\n",
        "import time\n",
        "from tqdm.auto import tqdm\n",
        "\n",
        "optimizer = torch.optim.Adam(model.parameters())\n",
        "loss_function = torch.nn.CrossEntropyLoss(ignore_index=corpus.word_pad_idx)\n",
        "\n",
        "EPOCHS = 10 # 20\n",
        "# float('inf') actúa como un valor superior ilimitado para la comparación.\n",
        "# esto es útil para encontrar los valores más bajos para algo\n",
        "best_valid_loss = float('inf')\n",
        "val_loss = []\n",
        "val_acc = []\n",
        "tr_loss = []\n",
        "tr_acc = []\n",
        "\n",
        "print (\"Entrenamiento en progreso...\\n\")\n",
        "\n",
        "# for epoch in tqdm(range(EPOCHS), desc=\"BiLSTM\", total=EPOCHS):\n",
        "for epoch in range(EPOCHS):\n",
        "    # calcular el tiempo que tarda cada epoca\n",
        "    start_time = time.time()\n",
        "\n",
        "    # obtener el loss del conjunto de entrenamiento\n",
        "    train_loss, train_acc = train(model, corpus.train_iter, optimizer, loss_function)\n",
        "\n",
        "    # obtener el loss del conjunto de validación\n",
        "    valid_loss, valid_acc = evaluate(model, corpus.val_iter, loss_function)\n",
        "\n",
        "    end_time = time.time() # obtener el tiempo final\n",
        "    # obtener los minutos y segundos del tiempo de ejecución\n",
        "    epoch_mins, epoch_secs = epoch_time(start_time, end_time)\n",
        "\n",
        "    # Almacenar las metricas del entrenamiento\n",
        "    val_loss.append(valid_loss)\n",
        "    val_acc.append(valid_acc)\n",
        "    tr_loss.append(train_loss)\n",
        "    tr_acc.append(train_acc)\n",
        "\n",
        "    print(f\"Epoch: {epoch + 1:02} | Epoch Time: {epoch_mins} minutos {epoch_secs} segundos\")\n",
        "    print(f\"\\tTrn Loss: {train_loss:.3f} | Trn Acc: {train_acc * 100:.2f}%\")\n",
        "    print(f\"\\tVal Loss: {valid_loss:.3f} | Val Acc: {valid_acc * 100:.2f}%\")\n",
        "    # test_loss, test_acc = self.evaluate(self.data.test_iter)\n",
        "    # print(f\"Test Loss: {test_loss:.3f} |  Test Acc: {test_acc * 100:.2f}%\")\n",
        "\n",
        "    if valid_loss < best_valid_loss: # guardar el mejor modelo\n",
        "        best_valid_loss = valid_loss\n",
        "        torch.save(model.state_dict(), 'biLSTM-NER-model.pt')"
      ],
      "metadata": {
        "colab": {
          "base_uri": "https://localhost:8080/"
        },
        "id": "iRr4PUsxlqhx",
        "outputId": "70a2abdb-0c0b-4ca2-c25b-eee41e07b6fc"
      },
      "execution_count": null,
      "outputs": [
        {
          "output_type": "stream",
          "name": "stdout",
          "text": [
            "Entrenamiento en progreso...\n",
            "\n",
            "Epoch: 01 | Epoch Time: 1 minutos 56 segundos\n",
            "\tTrn Loss: 0.263 | Trn Acc: 2.96%\n",
            "\tVal Loss: 1.023 | Val Acc: 6.26%\n",
            "Epoch: 02 | Epoch Time: 1 minutos 53 segundos\n",
            "\tTrn Loss: 0.106 | Trn Acc: 6.84%\n",
            "\tVal Loss: 0.687 | Val Acc: 8.92%\n",
            "Epoch: 03 | Epoch Time: 1 minutos 54 segundos\n",
            "\tTrn Loss: 0.057 | Trn Acc: 9.31%\n",
            "\tVal Loss: 0.520 | Val Acc: 10.16%\n",
            "Epoch: 04 | Epoch Time: 1 minutos 53 segundos\n",
            "\tTrn Loss: 0.036 | Trn Acc: 10.52%\n",
            "\tVal Loss: 0.478 | Val Acc: 10.53%\n",
            "Epoch: 05 | Epoch Time: 1 minutos 53 segundos\n",
            "\tTrn Loss: 0.025 | Trn Acc: 11.26%\n",
            "\tVal Loss: 0.461 | Val Acc: 10.71%\n",
            "Epoch: 06 | Epoch Time: 1 minutos 54 segundos\n",
            "\tTrn Loss: 0.019 | Trn Acc: 11.44%\n",
            "\tVal Loss: 0.468 | Val Acc: 10.86%\n",
            "Epoch: 07 | Epoch Time: 1 minutos 54 segundos\n",
            "\tTrn Loss: 0.014 | Trn Acc: 11.63%\n",
            "\tVal Loss: 0.484 | Val Acc: 10.85%\n",
            "Epoch: 08 | Epoch Time: 1 minutos 54 segundos\n",
            "\tTrn Loss: 0.011 | Trn Acc: 11.79%\n",
            "\tVal Loss: 0.496 | Val Acc: 10.92%\n",
            "Epoch: 09 | Epoch Time: 1 minutos 54 segundos\n",
            "\tTrn Loss: 0.009 | Trn Acc: 12.01%\n",
            "\tVal Loss: 0.503 | Val Acc: 10.99%\n",
            "Epoch: 10 | Epoch Time: 1 minutos 56 segundos\n",
            "\tTrn Loss: 0.007 | Trn Acc: 12.08%\n",
            "\tVal Loss: 0.514 | Val Acc: 10.96%\n"
          ]
        }
      ]
    },
    {
      "cell_type": "markdown",
      "source": [
        "## Visualizar gráficas de pérdida y exactitud"
      ],
      "metadata": {
        "id": "i9tUmszkky9u"
      }
    },
    {
      "cell_type": "code",
      "source": [
        "def plotLossAndAccuracy(tr_loss, val_loss, tr_acc, val_acc, name=\"bilstm_loss_accuracy.png\"):\n",
        "    \"\"\"Graficar las exactitudes y pérdidas del modelo de entrenamiento y validación\"\"\"\n",
        "    import matplotlib.pyplot as plt\n",
        "\n",
        "    fig, ax = plt.subplots(1, 2, figsize=(15,5))\n",
        "    ax[0].plot(tr_loss, label='Training loss')\n",
        "    ax[0].plot(val_loss, label='Validation loss')\n",
        "    ax[0].set_title('Losses')\n",
        "    ax[0].set_xlabel('Epoch')\n",
        "    ax[0].set_ylabel('Loss')\n",
        "    ax[0].legend()\n",
        "    ax[1].plot(val_acc, label='Validation accuracy')\n",
        "    ax[1].plot(tr_acc, label='Training accuracy')\n",
        "    ax[1].set_title('Accuracies')\n",
        "    ax[1].set_xlabel('Epoch')\n",
        "    ax[1].set_ylabel('Loss')\n",
        "    plt.legend()\n",
        "    plt.savefig(fname=name, dpi=200, format=\"png\")"
      ],
      "metadata": {
        "id": "8-ULhmJTksM8"
      },
      "execution_count": null,
      "outputs": []
    },
    {
      "cell_type": "code",
      "source": [
        "plotLossAndAccuracy(tr_loss, val_loss, tr_acc, val_acc)"
      ],
      "metadata": {
        "id": "CGmTkB9QmcTj",
        "colab": {
          "base_uri": "https://localhost:8080/",
          "height": 369
        },
        "outputId": "3f15e5de-979b-4c38-a93a-3c9283af116f"
      },
      "execution_count": null,
      "outputs": [
        {
          "output_type": "display_data",
          "data": {
            "text/plain": [
              "<Figure size 1080x360 with 2 Axes>"
            ],
            "image/png": "[encoded data removed]"
          },
          "metadata": {}
        }
      ]
    },
    {
      "cell_type": "markdown",
      "source": [
        "## Evaluar el conjunto de prueba"
      ],
      "metadata": {
        "id": "erUNXjneJhxN"
      }
    },
    {
      "cell_type": "code",
      "source": [
        "# ! pip install -U seqeval\n",
        "from seqeval.metrics import classification_report as seq_cr\n",
        "from seqeval.metrics import accuracy_score as seq_acc\n",
        "from sklearn.metrics import classification_report as skl_cr\n",
        "from sklearn.metrics import accuracy_score as skl_acc\n",
        "\n",
        "model.load_state_dict(torch.load('biLSTM-NER-model.pt'))\n",
        "\n",
        "test_loss, test_acc, y_true, y_pred = evaluateTest(model, corpus.test_iter, loss_function)\n",
        "\n",
        "labels = list(corpus.tag_field.vocab.stoi.keys())\n",
        "labels.remove('<pad>')\n",
        "labels.remove('O')\n",
        "\n",
        "y_true_tmp = [item for lst in y_true for item in lst]\n",
        "y_pred_tmp = [item for lst in y_pred for item in lst]\n",
        "\n",
        "print (f\"{skl_acc(y_true_tmp, y_pred_tmp):.2f} accuracy por esquema IOB\")\n",
        "print (f\"{seq_acc(y_true, y_pred):.2f} accuracy por clase\")\n",
        "print (f\"\\n{'-'*60}\\n\")\n",
        "\n",
        "print ( skl_cr(y_true_tmp, y_pred_tmp, labels=labels) )\n",
        "print (f\"\\n{'-'*60}\\n\")\n",
        "print ( seq_cr(y_true, y_pred) )\n"
      ],
      "metadata": {
        "colab": {
          "base_uri": "https://localhost:8080/"
        },
        "id": "0rg9IvacJlfb",
        "outputId": "d4170767-b9c2-43a7-f38d-07f94c68029c"
      },
      "execution_count": null,
      "outputs": [
        {
          "output_type": "stream",
          "name": "stdout",
          "text": [
            "0.11 accuracy por esquema IOB\n",
            "0.11 accuracy por clase\n",
            "\n",
            "------------------------------------------------------------\n",
            "\n",
            "              precision    recall  f1-score   support\n",
            "\n",
            "       B-ORG       0.07      0.82      0.13      1400\n",
            "       I-ORG       0.17      0.81      0.29      1104\n",
            "       B-LOC       0.08      0.67      0.14      1084\n",
            "       B-PER       0.15      0.90      0.25       735\n",
            "       I-PER       0.20      0.94      0.33       634\n",
            "      I-MISC       0.09      0.70      0.15       557\n",
            "      B-MISC       0.04      0.66      0.07       339\n",
            "       I-LOC       0.12      0.66      0.20       325\n",
            "\n",
            "   micro avg       0.10      0.79      0.17      6178\n",
            "   macro avg       0.11      0.77      0.20      6178\n",
            "weighted avg       0.11      0.79      0.20      6178\n",
            "\n",
            "\n",
            "------------------------------------------------------------\n",
            "\n",
            "              precision    recall  f1-score   support\n",
            "\n",
            "         LOC       0.08      0.64      0.15      1392\n",
            "        MISC       0.05      0.59      0.10       879\n",
            "         ORG       0.08      0.63      0.14      2432\n",
            "         PER       0.16      0.85      0.27      1300\n",
            "\n",
            "   micro avg       0.09      0.67      0.15      6003\n",
            "   macro avg       0.09      0.68      0.16      6003\n",
            "weighted avg       0.09      0.67      0.16      6003\n",
            "\n"
          ]
        }
      ]
    },
    {
      "cell_type": "markdown",
      "source": [
        "## Matriz de confusión por esquema IOB"
      ],
      "metadata": {
        "id": "hQpedwuakcX-"
      }
    },
    {
      "cell_type": "code",
      "source": [
        "from sklearn.metrics import confusion_matrix\n",
        "import matplotlib.pyplot as plt\n",
        "import seaborn as sns\n",
        "\n",
        "labels = list(corpus.tag_field.vocab.stoi.keys())\n",
        "labels.remove('<pad>')\n",
        "labels.remove('O')\n",
        "\n",
        "cm = confusion_matrix(y_true_tmp, y_pred_tmp, labels=labels)\n",
        "\n",
        "sns.set(rc = {'figure.figsize':(15,8)})\n",
        "sns.set(font_scale=1.4)\n",
        "sns.heatmap(cm, annot=True, fmt='', cmap='Blues', annot_kws={'size': 15}, xticklabels=labels, yticklabels=labels)\n",
        "plt.show()"
      ],
      "metadata": {
        "colab": {
          "base_uri": "https://localhost:8080/",
          "height": 490
        },
        "id": "vzJCGZlieJfM",
        "outputId": "1748125b-68ae-45c6-f870-c7e2a253a0d9"
      },
      "execution_count": null,
      "outputs": [
        {
          "output_type": "display_data",
          "data": {
            "text/plain": [
              "<Figure size 1080x576 with 2 Axes>"
            ],
            "image/png": "[encoded data removed]"
          },
          "metadata": {}
        }
      ]
    }
  ]
}