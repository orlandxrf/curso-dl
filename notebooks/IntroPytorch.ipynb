{
  "cells": [
    {
      "cell_type": "markdown",
      "metadata": {
        "id": "view-in-github",
        "colab_type": "text"
      },
      "source": [
        "<a href=\"https://colab.research.google.com/github/orlandxrf/curso-dl/blob/main/notebooks/IntroPytorch.ipynb\" target=\"_parent\"><img src=\"https://colab.research.google.com/assets/colab-badge.svg\" alt=\"Open In Colab\"/></a>"
      ]
    },
    {
      "cell_type": "markdown",
      "metadata": {
        "id": "upkeNxDCKW47"
      },
      "source": [
        "# Introducción a Pytorch\n",
        "---"
      ]
    },
    {
      "cell_type": "markdown",
      "metadata": {
        "id": "kBWZVIYNMYs9"
      },
      "source": [
        "Es una biblioteca en Python que nos permite crear gráficos computacionales para desarrollar modelos de redes neuronales. Esta biblioteca es utilizada para aplicaciones como Visión por Computadora y el Procesamiento del Lenguaje Natural, desarrollado principalmente por el laboratorio de investigación de inteligencia artificial de Facebook (FAIR). Es un software gratuito y de código abierto publicado bajo la licencia BSD modificada. Aunque la interfaz de Python está más pulida y es el enfoque principal del desarrollo, PyTorch también tiene una interfaz C ++.\n",
        "\n",
        "[The evolution of deep learning and PyTorch](https://www.youtube.com/watch?v=vkzr1xu-8Nk)"
      ]
    },
    {
      "cell_type": "code",
      "execution_count": 1,
      "metadata": {
        "id": "giswdR1RVQju"
      },
      "outputs": [],
      "source": [
        "import torch"
      ]
    },
    {
      "cell_type": "markdown",
      "metadata": {
        "id": "bdPmwU-eKe43"
      },
      "source": [
        "---\n",
        "### Escalar\n",
        "Un tensor de escalar contiene un valor único y no \"ejes\". `dtypes` soportados \n",
        "[Dtypes](https://pytorch.org/docs/stable/tensor_attributes.html#torch-dtype)"
      ]
    },
    {
      "cell_type": "code",
      "execution_count": 2,
      "metadata": {
        "colab": {
          "base_uri": "https://localhost:8080/"
        },
        "id": "i6xkUipAVpm2",
        "outputId": "c522d36c-0f15-4f35-b989-7b283635174e"
      },
      "outputs": [
        {
          "output_type": "stream",
          "name": "stdout",
          "text": [
            "tensor(4)\n",
            "torch.int64\n",
            "torch.Size([])\n",
            "Dimensiones: 0\n"
          ]
        }
      ],
      "source": [
        "x = torch.tensor(4)\n",
        "print (x)\n",
        "print (x.dtype)\n",
        "print (x.shape)\n",
        "print (f\"Dimensiones: {x.ndim}\")"
      ]
    },
    {
      "cell_type": "markdown",
      "metadata": {
        "id": "UG-KCFpPVyTv"
      },
      "source": [
        "![scalar.png](data:image/png;base64,iVBORw0KGgoAAAANSUhEUgAAAGcAAABoCAYAAADsF+4sAAABcklEQVR42u3YIU4DQRSA4RWICkQlAlHBAZAIBAkHQCAQFQiOUFGJRCAQHACBQCARlQgOsAKJQCARCEQFAmbTJdlMtrQppTMk35e8pGmn5v1Js52iAAAAAAAAAAAAAAAAAAB+by1MP8xxPbtWko9BmM/GXFlJHrbDfIiTn06YxyiMOJm4aAkjTgb2p4QRJ7FumBdx8nQbxXgWJw/9KMRlHUOcxDbDvDUiPIVZFycP940A1X+bnfp9cTK7BThrfCZO4luAcWP5ZTG5TxMng1uAsrH4cR2rECe982jxg5Yz4iSwFy39Ifo5EyeTW4D3ML0pZ8VZsZto4Sc/nBVnhY6iZd/NOC9OoluA1zAb4uR3C1DN4RzfESfBLcD1nN8T549tRbcA1euD+nF61oyiOKOWMx0rXt5/mmVPz4rFEUec1aqWd7rglFGIsuVM14rT8LQmDuKIgziIIw4LGRaT2+zvGVoJAAAAAAAAAAAAAAAAAPCPfQFTDyAG/yNt5AAAAABJRU5ErkJggg==)"
      ]
    },
    {
      "cell_type": "markdown",
      "metadata": {
        "id": "ixlCl1z-Ypso"
      },
      "source": [
        "---\n",
        "### Vector\n",
        "Un tensor de vector es una lista de valores. Un vector tiene un eje."
      ]
    },
    {
      "cell_type": "code",
      "execution_count": 3,
      "metadata": {
        "colab": {
          "base_uri": "https://localhost:8080/"
        },
        "id": "Xfj2A0SOY6NV",
        "outputId": "65cd4c4b-a93c-4a76-9799-6c6f0bdae891"
      },
      "outputs": [
        {
          "output_type": "stream",
          "name": "stdout",
          "text": [
            "tensor([2., 3., 4.])\n",
            "torch.Size([3])\n",
            "Dimensiones: 1\n"
          ]
        }
      ],
      "source": [
        "x = torch.tensor([2.0, 3.0, 4.0])\n",
        "print (x)\n",
        "print (x.shape)\n",
        "print (f\"Dimensiones: {x.ndim}\")"
      ]
    },
    {
      "cell_type": "markdown",
      "metadata": {
        "id": "GTcHTypTZwrO"
      },
      "source": [
        "![vector.png](data:image/png;base64,iVBORw0KGgoAAAANSUhEUgAAAG0AAABjCAYAAACR8o4mAAAESklEQVR42u2dLVAjQRCFR0REREQgEIgVEQhEBAIRkaoTCAQiAoGIOHECgUCcQEScOIFARCAQERERCMQJBAKBiEAgECciIiIQKSoiAoHIbRdvi6m53fxOmFnyvqouyO6SmfSbnun96aAUIYQQQgghhBBCCCErRRDa+pTH5S23ncX75iYcl5nyuHlZRxuT+pl1LdZmaH9Du8fPm4ROyQd6Cq0dWi+0Y0vtl/B+d6F1QjsY088ujnsOrWLZD8XQXiHKpH728NoZt6EdaSNZOvUj5riL0M7wex4dL1hoXwbKHn6X9xuO6WdVE7BvMeKyGIzDMaJ1NKF28doZ+8Z0J+KcxhzXxWiMaFmKtkCbkgKM9kyMU98Mkdqa2Ityjs/STRBtC9Gt07c0aK1MlQN00mRkfKAazBZ1OKaaIOzA2NZKOHZWdhHFaoxoZQwSnUdsdy5Yb8yaIqJtLFG0b6GdoA9BjGg9Y1vDgmhrWKc3phDtztjWdi3a3hSL+8CYDuoJ0+iiXEM807mjmDXuwMK0+IQB0MCadoUBrLMTs4aJwNsuBetN0QHTSQ+IjkUZGKcaMqK/J6ypO1rCZGNNKSFaI+tjwJinPjkIuqZl0kOXqf8z5ueGZvsxyUYZ4kpmeRkzXSwy2ttw2gWyySjhuNeiv4p9Iugf9NM25vTY1abOmtbPtuWlYWaqMVbUFumicS5zilOEnOVor0EQ/X0rRjSVtOMyS/BFxWi/arw+QPsVRQhJOcdsP33tdx13mu3TaRSNTqNobJ+iUTQ6jaKx/aW2/4I/dGVvK97+C0c6p0c6jaKxfYpG0eg0isb2KRrbN+D9rNVunxBCCCGEfHlO6QJn5OZN+aVAL0v/OSEqi54ZqWwp0X9OOFTvZVMzI8UCdfrPCVLZM1fRo9RRSSlTQB9+KlJH111kaZKypEe1vO/eIP8HitTxLVzEfw7hGHHLpYgIs3ah+AhTZR3JSYY+toJMgVLG3ESEVZYRujVklXI60FduHzGLTBbtn2ry1zwV0P9bT/ot9eJSey1lxlKrnV+FUZrHlL2PGaCPn+b6KwXqLcwUv9V7WXHAddofEZsYuTltdpCT1DNeKPAbibZrrLsPSKSI52QQXQ1EHZOmlCBp80jZ+f4r8klsQbQtuiJdSckd3UAIIYQQQgghhMyH3IqR2/VyCauseHXfa+TCsFzRlxu0I83kZuMJ3eMnTYgkN0NriDS56TnE9l90kV+UIYwItJmwT76BZ4Ou8ocGhLlI2P+A/Yd0lV/Jhzz7UaBoX4MipkaxgO7wO/K2kXxEiQi/LcBzWkbaf8nzNf85gknK34NwHU6P6UGegWxDOD6CkCJ2tKmS0ZYiItHKdIUf3CJL3E3Yn9dE26a7/OAKglwn7D9RH9cl+cSxJ5S0SDKv6EvN1yvP1fzkWBOuoz7+y3y0jYUYHkfcjfq4CjLEerdH1xBCCCGEEEIIIYQQ8mn8A2oxr+KvwDAAAAAAAElFTkSuQmCC)"
      ]
    },
    {
      "cell_type": "markdown",
      "metadata": {
        "id": "6xt4gx7TaH0A"
      },
      "source": [
        "---\n",
        "### Matriz\n",
        "Un tensor de matriz tiene dos ejes."
      ]
    },
    {
      "cell_type": "code",
      "execution_count": 4,
      "metadata": {
        "colab": {
          "base_uri": "https://localhost:8080/"
        },
        "id": "m-NRRok-auye",
        "outputId": "06650b1a-d7a0-4a98-c81d-730a25a24803"
      },
      "outputs": [
        {
          "output_type": "stream",
          "name": "stdout",
          "text": [
            "tensor([[1, 2],\n",
            "        [3, 4],\n",
            "        [5, 6]])\n",
            "torch.Size([3, 2])\n",
            "Dimensiones: 2\n"
          ]
        }
      ],
      "source": [
        "x = torch.tensor([[1,2],[3,4],[5,6]])\n",
        "print (x)\n",
        "print (x.shape)\n",
        "print (f\"Dimensiones: {x.ndim}\")"
      ]
    },
    {
      "cell_type": "markdown",
      "metadata": {
        "id": "9X-srBXoa9z1"
      },
      "source": [
        "![matrix.png](data:image/png;base64,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)"
      ]
    },
    {
      "cell_type": "markdown",
      "metadata": {
        "id": "ZNEL1QOaa_15"
      },
      "source": [
        "---\n",
        "### Tensor con tres ejes\n"
      ]
    },
    {
      "cell_type": "code",
      "execution_count": 5,
      "metadata": {
        "colab": {
          "base_uri": "https://localhost:8080/"
        },
        "id": "fQDZHHW0cP5k",
        "outputId": "d2aa81c3-d58c-47b7-9afc-1ed9541d1336"
      },
      "outputs": [
        {
          "output_type": "stream",
          "name": "stdout",
          "text": [
            "tensor([[[ 0,  1,  2,  3,  4],\n",
            "         [ 5,  6,  7,  8,  9]],\n",
            "\n",
            "        [[10, 11, 12, 13, 14],\n",
            "         [15, 16, 17, 18, 19]],\n",
            "\n",
            "        [[20, 21, 22, 23, 24],\n",
            "         [25, 26, 27, 28, 29]]])\n",
            "\n",
            "torch.Size([3, 2, 5])\n",
            "\n",
            "Dimensiones: 3\n"
          ]
        }
      ],
      "source": [
        "x = torch.tensor([[[0, 1, 2, 3, 4], [5, 6, 7, 8, 9]], [[10, 11, 12, 13, 14], [15, 16, 17, 18, 19]], [[20, 21, 22, 23, 24], [25, 26, 27, 28, 29]]])\n",
        "print (f\"{x}\\n\")\n",
        "print (f\"{x.shape}\\n\")\n",
        "print (f\"Dimensiones: {x.ndim}\")"
      ]
    },
    {
      "cell_type": "markdown",
      "metadata": {
        "id": "bzTYgfS3dD5p"
      },
      "source": [
        "Existen varias formas de visualizar un tensor con más de dos ejes:\n",
        "\n",
        "![3-axis_numpy.png](data:image/png;base64,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)\n",
        "\n",
        "\n",
        "\n",
        "![3-axis_front.png](data:image/png;base64,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)\n",
        "\n",
        "\n",
        "\n",
        "![3-axis_block.png](data:image/png;base64,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)\n"
      ]
    },
    {
      "cell_type": "markdown",
      "metadata": {
        "id": "2CrGAmRZdGkw"
      },
      "source": [
        "---\n",
        "### Formas de los tensores\n",
        "* **Forma**: La longitud (número de elementos) de cada uno de los ejes de un tensor.\n",
        "* **Rango**: Número de ejes del tensor. Un escalar tiene rango 0, un vector tiene rango 1, una matriz tiene rango 2.\n",
        "* **Eje** o **Dimensión**: Una dimensión particular de un tensor.\n",
        "* **Tamaño**: El número total de elementos en el tensor, el vector de la forma del producto."
      ]
    },
    {
      "cell_type": "code",
      "execution_count": 50,
      "metadata": {
        "colab": {
          "base_uri": "https://localhost:8080/"
        },
        "id": "lQf3NFhHdFd9",
        "outputId": "40b7bbbb-9491-405b-e3a9-f3ee4a9cc7d2"
      },
      "outputs": [
        {
          "output_type": "stream",
          "name": "stdout",
          "text": [
            "torch.Size([3, 2, 4, 5])\n",
            "Dimensiones: 4\n"
          ]
        }
      ],
      "source": [
        "x = torch.zeros([3, 2, 4, 5])\n",
        "print (x.shape)\n",
        "print (f\"Dimensiones: {x.ndim}\")"
      ]
    },
    {
      "cell_type": "markdown",
      "metadata": {
        "id": "Z2F-M58DtRkJ"
      },
      "source": [
        "La clasificación de este tensor es:\n",
        "\n",
        "![shape.png](data:image/png;base64,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)\n",
        "\n",
        "Graficamente se representa como:\n",
        "\n",
        "![4-axis_block.png](data:image/png;base64,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)\n",
        "\n",
        "Orden de eje típico:\n",
        "\n",
        "![shape2.png](data:image/png;base64,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)\n"
      ]
    },
    {
      "cell_type": "markdown",
      "metadata": {
        "id": "axrje4qbD_Mc"
      },
      "source": [
        "![dimensions.png](data:image/png;base64,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)"
      ]
    },
    {
      "cell_type": "markdown",
      "source": [
        "### Matriz Transpuesta\n",
        "La notación matematica para definir una matriz es $Aϵℜ^{m * n}$ donde la matriz $A$ consiste de $m$ renglones y $n$ columnas de escalares de valor real. Visualmente la matriz $A$ se puede apreciar como:<br>\n",
        "<br>\n",
        "$A = \\begin{bmatrix} a_{1,1} & a_{1,2} & \\cdots & a_{1, n}\\\\ a_{2,1} & a_{2,2} & \\cdots & a_{2,n}\\\\ \\vdots & \\vdots & \\ddots \\vdots\\\\ a_{m,1} & a_{m,2} & \\cdots & a_{m,n} \\end{bmatrix}$\n",
        "<br><br>\n",
        "Donde cada elemento $a_{i,j}$ pertenece al $i^{esimo}$ renglón y a la $j^{esima}$ columna de la matriz $A$.\n",
        "\n",
        "\n"
      ],
      "metadata": {
        "id": "Dhk-Q98L5EXU"
      }
    },
    {
      "cell_type": "code",
      "source": [
        "A = torch.arange(20).reshape(5, 4)\n",
        "print (A)"
      ],
      "metadata": {
        "colab": {
          "base_uri": "https://localhost:8080/"
        },
        "id": "lhXdLdWw-xeY",
        "outputId": "c94c50ca-cb56-4940-c4db-3e3ffce2013e"
      },
      "execution_count": 51,
      "outputs": [
        {
          "output_type": "stream",
          "name": "stdout",
          "text": [
            "tensor([[ 0,  1,  2,  3],\n",
            "        [ 4,  5,  6,  7],\n",
            "        [ 8,  9, 10, 11],\n",
            "        [12, 13, 14, 15],\n",
            "        [16, 17, 18, 19]])\n"
          ]
        }
      ]
    },
    {
      "cell_type": "markdown",
      "source": [
        "La matriz transpuesta se define matematicamente como $A'$ o bien en nuestro caso usaremos la notación $A^{T}$. Así, si $B = A^{T}$ entonces $b_{i,j} = a_{j,i}$ para cualquier $i$ y $j$.<br>\n",
        "<br>\n",
        "$A^{T} = \\begin{bmatrix} a_{1,1} & a_{1,2} & \\cdots & a_{1, m}\\\\ a_{2,1} & a_{2,2} & \\cdots & a_{2,m}\\\\ \\vdots & \\vdots & \\ddots \\vdots\\\\ a_{n,1} & a_{n,2} & \\cdots & a_{n,m} \\end{bmatrix}$"
      ],
      "metadata": {
        "id": "o_VErJYI_AhH"
      }
    },
    {
      "cell_type": "code",
      "source": [
        "# B recibe la Transpuesta de A\n",
        "B = A.T\n",
        "print (B)"
      ],
      "metadata": {
        "colab": {
          "base_uri": "https://localhost:8080/"
        },
        "id": "4jwg1AIq_IBG",
        "outputId": "345877ad-fc91-449f-ffd1-6b123269a1ec"
      },
      "execution_count": 54,
      "outputs": [
        {
          "output_type": "stream",
          "name": "stdout",
          "text": [
            "tensor([[ 0,  4,  8, 12, 16],\n",
            "        [ 1,  5,  9, 13, 17],\n",
            "        [ 2,  6, 10, 14, 18],\n",
            "        [ 3,  7, 11, 15, 19]])\n"
          ]
        }
      ]
    },
    {
      "cell_type": "markdown",
      "metadata": {
        "id": "hym2HFjXumeZ"
      },
      "source": [
        "---\n",
        "### Inicializar tensores como secuencias"
      ]
    },
    {
      "cell_type": "markdown",
      "metadata": {
        "id": "Nl7Z6uV5D_Mc"
      },
      "source": [
        "**arange()** Al emplear `arange` retorna una secuencia. Se puede definir el `dtype`"
      ]
    },
    {
      "cell_type": "code",
      "execution_count": 7,
      "metadata": {
        "id": "2a3TxTawtpF5",
        "outputId": "76bb8049-7b0e-45ab-cfbd-ffad1e6d6e6d",
        "colab": {
          "base_uri": "https://localhost:8080/"
        }
      },
      "outputs": [
        {
          "output_type": "stream",
          "name": "stdout",
          "text": [
            "tensor([0., 1., 2., 3., 4., 5., 6., 7., 8., 9.])\n",
            "torch.Size([10])\n",
            "dtype: torch.float32\n",
            "Dimensión: 1\n",
            "tensor([0, 1, 2, 3, 4, 5, 6, 7, 8, 9])\n",
            "torch.Size([10])\n",
            "dtype: torch.int64\n",
            "Dimensión: 1\n",
            "\n"
          ]
        }
      ],
      "source": [
        "x = torch.arange(10, dtype=torch.float32)\n",
        "print (x)\n",
        "print (x.shape)\n",
        "print (f\"dtype: {x.dtype}\")\n",
        "print (f\"Dimensión: {x.ndim}\")\n",
        "\n",
        "x = torch.arange(10)\n",
        "print (x)\n",
        "print (x.shape)\n",
        "print (f\"dtype: {x.dtype}\")\n",
        "print (f\"Dimensión: {x.ndim}\\n\")"
      ]
    },
    {
      "cell_type": "markdown",
      "metadata": {
        "id": "heaFSznaD_Md"
      },
      "source": [
        "**rand()** Devuelve un tensor lleno de números aleatorios de una distribución uniforme en el intervalo $[0, 1)$."
      ]
    },
    {
      "cell_type": "code",
      "execution_count": 8,
      "metadata": {
        "id": "O2p0EBrED_Md",
        "outputId": "89470560-59ec-429a-aa6f-561544144fe4",
        "colab": {
          "base_uri": "https://localhost:8080/"
        }
      },
      "outputs": [
        {
          "output_type": "stream",
          "name": "stdout",
          "text": [
            "tensor([0.8596, 0.6417, 0.0554, 0.6673, 0.4448])\n",
            "torch.Size([5])\n",
            "dtype: torch.float32\n",
            "Dimensión: 1\n",
            "\n",
            "tensor([[0.3133, 0.5805, 0.2192, 0.6130, 0.2699],\n",
            "        [0.6488, 0.1359, 0.6365, 0.9987, 0.9470],\n",
            "        [0.0258, 0.3391, 0.7783, 0.3135, 0.0207]])\n",
            "torch.Size([3, 5])\n",
            "dtype: torch.float32\n",
            "Dimensión: 2\n"
          ]
        }
      ],
      "source": [
        "x = torch.rand(5)\n",
        "print (x)\n",
        "print (x.shape)\n",
        "print (f\"dtype: {x.dtype}\")\n",
        "print (f\"Dimensión: {x.ndim}\\n\")\n",
        "\n",
        "x = torch.rand(3, 5)\n",
        "print (x)\n",
        "print (x.shape)\n",
        "print (f\"dtype: {x.dtype}\")\n",
        "print (f\"Dimensión: {x.ndim}\")"
      ]
    },
    {
      "cell_type": "markdown",
      "metadata": {
        "id": "TJ8o3cS1D_Md"
      },
      "source": [
        "**zeros()** Devuelve un tensor relleno con el valor escalar 0, con la forma definida por el tamaño del argumento establecido."
      ]
    },
    {
      "cell_type": "code",
      "execution_count": 9,
      "metadata": {
        "id": "7aW6TsdFD_Md",
        "outputId": "5c12261b-f427-4d41-a5f0-7173b5124839",
        "colab": {
          "base_uri": "https://localhost:8080/"
        }
      },
      "outputs": [
        {
          "output_type": "stream",
          "name": "stdout",
          "text": [
            "tensor([0., 0., 0., 0., 0.])\n",
            "torch.Size([5])\n",
            "dtype: torch.float32\n",
            "Dimensión: 1\n",
            "\n",
            "tensor([[0., 0., 0., 0., 0.],\n",
            "        [0., 0., 0., 0., 0.],\n",
            "        [0., 0., 0., 0., 0.]])\n",
            "torch.Size([3, 5])\n",
            "dtype: torch.float32\n",
            "Dimensión: 2\n"
          ]
        }
      ],
      "source": [
        "x = torch.zeros(5)\n",
        "print (x)\n",
        "print (x.shape)\n",
        "print (f\"dtype: {x.dtype}\")\n",
        "print (f\"Dimensión: {x.ndim}\\n\")\n",
        "\n",
        "x = torch.zeros(3, 5)\n",
        "print (x)\n",
        "print (x.shape)\n",
        "print (f\"dtype: {x.dtype}\")\n",
        "print (f\"Dimensión: {x.ndim}\")"
      ]
    },
    {
      "cell_type": "markdown",
      "metadata": {
        "id": "xqhx7nSPD_Me"
      },
      "source": [
        "**ones()** Devuelve un tensor relleno con el valor escalar 1, con la forma definida por el tamaño del argumento establecido."
      ]
    },
    {
      "cell_type": "code",
      "execution_count": 10,
      "metadata": {
        "id": "GMjgpQIqD_Me",
        "outputId": "1093dee6-6f23-43ae-dcdb-54d597f2025b",
        "colab": {
          "base_uri": "https://localhost:8080/"
        }
      },
      "outputs": [
        {
          "output_type": "stream",
          "name": "stdout",
          "text": [
            "tensor([1., 1., 1., 1., 1.])\n",
            "torch.Size([5])\n",
            "dtype: torch.float32\n",
            "Dimensión: 1\n",
            "\n",
            "tensor([[1., 1., 1., 1., 1.],\n",
            "        [1., 1., 1., 1., 1.],\n",
            "        [1., 1., 1., 1., 1.]])\n",
            "torch.Size([3, 5])\n",
            "dtype: torch.float32\n",
            "Dimensión: 2\n"
          ]
        }
      ],
      "source": [
        "x = torch.ones(5)\n",
        "print (x)\n",
        "print (x.shape)\n",
        "print (f\"dtype: {x.dtype}\")\n",
        "print (f\"Dimensión: {x.ndim}\\n\")\n",
        "\n",
        "x = torch.ones(3, 5)\n",
        "print (x)\n",
        "print (x.shape)\n",
        "print (f\"dtype: {x.dtype}\")\n",
        "print (f\"Dimensión: {x.ndim}\")"
      ]
    },
    {
      "cell_type": "markdown",
      "metadata": {
        "id": "z-fQ27LOD_Me"
      },
      "source": [
        "#### Secuencias a partir de otros tensores"
      ]
    },
    {
      "cell_type": "markdown",
      "metadata": {
        "id": "r9CSTGyFD_Me"
      },
      "source": [
        "**zeros_like()** Devuelve un tensor de ceros con la misma forma y tipo que el tensor dado."
      ]
    },
    {
      "cell_type": "code",
      "execution_count": 11,
      "metadata": {
        "id": "TurcXSwyD_Me",
        "outputId": "366e287f-1c40-4fac-ccbd-98e85c6eef58",
        "colab": {
          "base_uri": "https://localhost:8080/"
        }
      },
      "outputs": [
        {
          "output_type": "stream",
          "name": "stdout",
          "text": [
            "x: tensor([0, 1, 2, 3, 4, 5, 6, 7, 8, 9])\n",
            "y: tensor([0, 0, 0, 0, 0, 0, 0, 0, 0, 0])\n",
            "\n",
            "x: tensor([[[0.3537, 0.4781, 0.5053, 0.3607],\n",
            "         [0.2420, 0.2580, 0.6510, 0.9479]],\n",
            "\n",
            "        [[0.7846, 0.2168, 0.1791, 0.0534],\n",
            "         [0.0627, 0.4662, 0.9162, 0.5646]],\n",
            "\n",
            "        [[0.4301, 0.9766, 0.3590, 0.9581],\n",
            "         [0.9895, 0.8006, 0.7116, 0.8412]]])\n",
            "\n",
            "y: tensor([[[0., 0., 0., 0.],\n",
            "         [0., 0., 0., 0.]],\n",
            "\n",
            "        [[0., 0., 0., 0.],\n",
            "         [0., 0., 0., 0.]],\n",
            "\n",
            "        [[0., 0., 0., 0.],\n",
            "         [0., 0., 0., 0.]]])\n"
          ]
        }
      ],
      "source": [
        "x = torch.arange(10)\n",
        "y = torch.zeros_like(x)\n",
        "print (f\"x: {x}\")\n",
        "print (f\"y: {y}\\n\")\n",
        "\n",
        "x = torch.rand(3,2,4)\n",
        "y = torch.zeros_like(x)\n",
        "print (f\"x: {x}\\n\")\n",
        "print (f\"y: {y}\")"
      ]
    },
    {
      "cell_type": "markdown",
      "metadata": {
        "id": "pBqjte-WD_Mf"
      },
      "source": [
        "**ones_like()** Devuelve un tensor de unos con la misma forma y tipo que el tensor dado."
      ]
    },
    {
      "cell_type": "code",
      "execution_count": 12,
      "metadata": {
        "id": "W8D3NpGiD_Mf",
        "outputId": "e027e92f-2bc2-47f4-d2cb-a5182dbd228a",
        "colab": {
          "base_uri": "https://localhost:8080/"
        }
      },
      "outputs": [
        {
          "output_type": "stream",
          "name": "stdout",
          "text": [
            "x: tensor([0, 1, 2, 3, 4, 5, 6, 7, 8, 9])\n",
            "y: tensor([1, 1, 1, 1, 1, 1, 1, 1, 1, 1])\n",
            "\n",
            "x: tensor([[[0.9304, 0.4527, 0.3183, 0.1701],\n",
            "         [0.8705, 0.5555, 0.7085, 0.7915]],\n",
            "\n",
            "        [[0.2459, 0.6521, 0.3441, 0.6226],\n",
            "         [0.0346, 0.6759, 0.7772, 0.9712]],\n",
            "\n",
            "        [[0.4266, 0.8166, 0.3585, 0.3152],\n",
            "         [0.1369, 0.9261, 0.1378, 0.6776]]])\n",
            "\n",
            "y: tensor([[[1., 1., 1., 1.],\n",
            "         [1., 1., 1., 1.]],\n",
            "\n",
            "        [[1., 1., 1., 1.],\n",
            "         [1., 1., 1., 1.]],\n",
            "\n",
            "        [[1., 1., 1., 1.],\n",
            "         [1., 1., 1., 1.]]])\n"
          ]
        }
      ],
      "source": [
        "x = torch.arange(10)\n",
        "y = torch.ones_like(x)\n",
        "print (f\"x: {x}\")\n",
        "print (f\"y: {y}\\n\")\n",
        "\n",
        "x = torch.rand(3,2,4)\n",
        "y = torch.ones_like(x)\n",
        "print (f\"x: {x}\\n\")\n",
        "print (f\"y: {y}\")"
      ]
    },
    {
      "cell_type": "markdown",
      "metadata": {
        "id": "eycqoz-KD_Mf"
      },
      "source": [
        "**linspace()** Crea un tensor unidimensional de una longitud de `steps` (pasos), cuyos valores están espaciados uniformemente de `start` (principio) a `end` (fin)."
      ]
    },
    {
      "cell_type": "code",
      "execution_count": 13,
      "metadata": {
        "id": "5fI01aTXD_Mf",
        "outputId": "acca7cc3-624e-424b-8851-cb85b40805ec",
        "colab": {
          "base_uri": "https://localhost:8080/"
        }
      },
      "outputs": [
        {
          "output_type": "stream",
          "name": "stdout",
          "text": [
            "x: tensor([0.0000, 0.2500, 0.5000, 0.7500, 1.0000])\n",
            "\n",
            "x: tensor([0.0000, 1.2500, 2.5000, 3.7500, 5.0000])\n"
          ]
        }
      ],
      "source": [
        "x = torch.linspace(0, 1, steps=5)\n",
        "print (f\"x: {x}\\n\")\n",
        "\n",
        "x = torch.linspace(0, 5, steps=5)\n",
        "print (f\"x: {x}\")"
      ]
    },
    {
      "cell_type": "markdown",
      "source": [
        "---\n",
        "### Formas, Vistas y Reformando tensores"
      ],
      "metadata": {
        "id": "AtLjg8qIGHLj"
      }
    },
    {
      "cell_type": "markdown",
      "source": [
        "**view()** Devuelve un nuevo tensor con los mismos datos del `self` tensor, pero con un `shape` (forma) diferente."
      ],
      "metadata": {
        "id": "9iTToZk7GTGM"
      }
    },
    {
      "cell_type": "code",
      "source": [
        "x = torch.arange(6)\n",
        "print (f\"x: {x}\")\n",
        "print (f\"Shape: {x.shape}\\n\")\n",
        "\n",
        "y = x.view(2, 3)\n",
        "print (f\"x: {y}\\n\")\n",
        "print (f\"Shape: {y.shape}\")"
      ],
      "metadata": {
        "colab": {
          "base_uri": "https://localhost:8080/"
        },
        "id": "Lpe71kpVGos2",
        "outputId": "96f99850-84f6-4cb4-dbdb-95cce7402e77"
      },
      "execution_count": 14,
      "outputs": [
        {
          "output_type": "stream",
          "name": "stdout",
          "text": [
            "x: tensor([0, 1, 2, 3, 4, 5])\n",
            "Shape: torch.Size([6])\n",
            "\n",
            "x: tensor([[0, 1, 2],\n",
            "        [3, 4, 5]])\n",
            "\n",
            "Shape: torch.Size([2, 3])\n"
          ]
        }
      ]
    },
    {
      "cell_type": "code",
      "source": [
        "x = torch.rand(4, 4)\n",
        "print (f\"x: {x}\")\n",
        "print (f\"Shape: {x.shape}\\n\")\n",
        "\n",
        "y = x.view(16)\n",
        "print (f\"x: {y}\")\n",
        "print (f\"Shape: {y.shape}\\n\")\n",
        "\n",
        "z = y.view(8, -1)\n",
        "print (f\"x: {z}\")\n",
        "print (f\"Shape: {z.shape}\")"
      ],
      "metadata": {
        "colab": {
          "base_uri": "https://localhost:8080/"
        },
        "id": "NXw-H4YBIGCk",
        "outputId": "a9117a08-8bcc-41fd-d4dc-cf1c4c21d411"
      },
      "execution_count": 15,
      "outputs": [
        {
          "output_type": "stream",
          "name": "stdout",
          "text": [
            "x: tensor([[0.4762, 0.2961, 0.0773, 0.3399],\n",
            "        [0.5695, 0.9757, 0.4667, 0.5382],\n",
            "        [0.8807, 0.5154, 0.0481, 0.1407],\n",
            "        [0.4017, 0.0912, 0.1853, 0.9345]])\n",
            "Shape: torch.Size([4, 4])\n",
            "\n",
            "x: tensor([0.4762, 0.2961, 0.0773, 0.3399, 0.5695, 0.9757, 0.4667, 0.5382, 0.8807,\n",
            "        0.5154, 0.0481, 0.1407, 0.4017, 0.0912, 0.1853, 0.9345])\n",
            "Shape: torch.Size([16])\n",
            "\n",
            "x: tensor([[0.4762, 0.2961],\n",
            "        [0.0773, 0.3399],\n",
            "        [0.5695, 0.9757],\n",
            "        [0.4667, 0.5382],\n",
            "        [0.8807, 0.5154],\n",
            "        [0.0481, 0.1407],\n",
            "        [0.4017, 0.0912],\n",
            "        [0.1853, 0.9345]])\n",
            "Shape: torch.Size([8, 2])\n"
          ]
        }
      ]
    },
    {
      "cell_type": "markdown",
      "source": [
        "**unsqueeze()** Devuelve un nuevo tensor con una dimensión de tamaño uno insertada en la posición especificada. El tensor devuelto comparte los mismos datos subyacentes con este tensor."
      ],
      "metadata": {
        "id": "eC9dleaeJdxB"
      }
    },
    {
      "cell_type": "code",
      "source": [
        "x = torch.tensor([1, 2, 3, 4])\n",
        "print (f\"x: {x}\")\n",
        "print (f\"Shape: {x.shape}\")\n",
        "print (f\"Dimension: {x.ndim}\\n\")\n",
        "\n",
        "# Agrega una dimensión al tensor\n",
        "y = torch.unsqueeze(x, 0)\n",
        "print (f\"y: {y}\")\n",
        "print (f\"Shape: {y.shape}\")\n",
        "print (f\"Dimension: {y.ndim}\\n\")\n",
        "\n",
        "# Agrega una dimensión al tensor\n",
        "z = torch.unsqueeze(x, 1)\n",
        "print (f\"z: {z}\")\n",
        "print (f\"Shape: {z.shape}\")\n",
        "print (f\"Dimension: {z.ndim}\\n\")"
      ],
      "metadata": {
        "colab": {
          "base_uri": "https://localhost:8080/"
        },
        "id": "mykYjcIeJlCX",
        "outputId": "237fa3cd-bed8-4a01-a6a8-1439decb4367"
      },
      "execution_count": 16,
      "outputs": [
        {
          "output_type": "stream",
          "name": "stdout",
          "text": [
            "x: tensor([1, 2, 3, 4])\n",
            "Shape: torch.Size([4])\n",
            "Dimension: 1\n",
            "\n",
            "y: tensor([[1, 2, 3, 4]])\n",
            "Shape: torch.Size([1, 4])\n",
            "Dimension: 2\n",
            "\n",
            "z: tensor([[1],\n",
            "        [2],\n",
            "        [3],\n",
            "        [4]])\n",
            "Shape: torch.Size([4, 1])\n",
            "Dimension: 2\n",
            "\n"
          ]
        }
      ]
    },
    {
      "cell_type": "markdown",
      "source": [
        "**squeeze()** Devuelve un tensor con 1 dimensión eliminada de todas las dimensiones dadas en el tensor de entrada."
      ],
      "metadata": {
        "id": "B7bLfcrrMHDa"
      }
    },
    {
      "cell_type": "code",
      "source": [
        "# eliminar una dimensión\n",
        "y1 = torch.squeeze(y, 0)\n",
        "print (f\"z: {y1}\")\n",
        "print (f\"Shape: {y1.shape}\")\n",
        "print (f\"Dimension: {y1.ndim}\\n\")\n",
        "\n",
        "# eliminar una dimensión\n",
        "z1 = torch.squeeze(z, 1)\n",
        "print (f\"z: {z1}\")\n",
        "print (f\"Shape: {z1.shape}\")\n",
        "print (f\"Dimension: {z1.ndim}\\n\")"
      ],
      "metadata": {
        "colab": {
          "base_uri": "https://localhost:8080/"
        },
        "id": "rfBNCrMWNN8Y",
        "outputId": "16ad32a7-ad40-4229-ebd8-4d2989e7bead"
      },
      "execution_count": 17,
      "outputs": [
        {
          "output_type": "stream",
          "name": "stdout",
          "text": [
            "z: tensor([1, 2, 3, 4])\n",
            "Shape: torch.Size([4])\n",
            "Dimension: 1\n",
            "\n",
            "z: tensor([1, 2, 3, 4])\n",
            "Shape: torch.Size([4])\n",
            "Dimension: 1\n",
            "\n"
          ]
        }
      ]
    },
    {
      "cell_type": "markdown",
      "source": [
        "**reshape()** Devuelve un tensor con los mismos datos y número de elementos que el tensor `input` (de entrada), pero con la forma especificada. Cuando sea posible, el tensor devuelto será una vista del tensor `input` (de entrada). De lo contrario, será una copia."
      ],
      "metadata": {
        "id": "Euu1LmzKrh_H"
      }
    },
    {
      "cell_type": "code",
      "source": [
        "x = torch.arange(12, dtype=torch.float32)\n",
        "print (f\"x: {x}\")\n",
        "print (f\"Shape: {x.shape}\")\n",
        "print (f\"Dimension: {x.ndim}\")\n",
        "print (f\"Elementos: {x.numel()}\\n\")\n",
        "\n",
        "# cambiar la forma del tensor x\n",
        "y = torch.reshape(x, (2, -1))\n",
        "print (f\"y: {y}\")\n",
        "print (f\"Shape: {y.shape}\")\n",
        "print (f\"Dimension: {y.ndim}\")\n",
        "print (f\"Elementos: {x.numel()}\\n\")\n",
        "\n",
        "# cambiar la forma del tensor x\n",
        "y = torch.reshape(x, (4, 3))\n",
        "print (f\"y: {y}\")\n",
        "print (f\"Shape: {y.shape}\")\n",
        "print (f\"Dimension: {y.ndim}\")\n",
        "print (f\"Elementos: {x.numel()}\\n\")\n",
        "\n",
        "# cambiar la forma del tensor x\n",
        "y = torch.reshape(y, (6, -1))\n",
        "print (f\"y: {y}\")\n",
        "print (f\"Shape: {y.shape}\")\n",
        "print (f\"Dimension: {y.ndim}\")\n",
        "print (f\"Elementos: {x.numel()}\")"
      ],
      "metadata": {
        "colab": {
          "base_uri": "https://localhost:8080/"
        },
        "id": "aMdjEnWIr0KC",
        "outputId": "0aaea47e-90e9-4b3a-e243-ce4ffe58630d"
      },
      "execution_count": 18,
      "outputs": [
        {
          "output_type": "stream",
          "name": "stdout",
          "text": [
            "x: tensor([ 0.,  1.,  2.,  3.,  4.,  5.,  6.,  7.,  8.,  9., 10., 11.])\n",
            "Shape: torch.Size([12])\n",
            "Dimension: 1\n",
            "Elementos: 12\n",
            "\n",
            "y: tensor([[ 0.,  1.,  2.,  3.,  4.,  5.],\n",
            "        [ 6.,  7.,  8.,  9., 10., 11.]])\n",
            "Shape: torch.Size([2, 6])\n",
            "Dimension: 2\n",
            "Elementos: 12\n",
            "\n",
            "y: tensor([[ 0.,  1.,  2.],\n",
            "        [ 3.,  4.,  5.],\n",
            "        [ 6.,  7.,  8.],\n",
            "        [ 9., 10., 11.]])\n",
            "Shape: torch.Size([4, 3])\n",
            "Dimension: 2\n",
            "Elementos: 12\n",
            "\n",
            "y: tensor([[ 0.,  1.],\n",
            "        [ 2.,  3.],\n",
            "        [ 4.,  5.],\n",
            "        [ 6.,  7.],\n",
            "        [ 8.,  9.],\n",
            "        [10., 11.]])\n",
            "Shape: torch.Size([6, 2])\n",
            "Dimension: 2\n",
            "Elementos: 12\n"
          ]
        }
      ]
    },
    {
      "cell_type": "markdown",
      "source": [
        "---\n",
        "### Operaciones Matemáticas con tensores\n",
        "Algunas de las operaciones más simples y útiles son las `elementwise` (operaciones por elementos). Estos aplican una operación escalar estándar a cada elemento de una matriz."
      ],
      "metadata": {
        "id": "Lnv7le0ZuDcq"
      }
    },
    {
      "cell_type": "code",
      "source": [
        "x = torch.tensor([1.0, 2, 4, 8])\n",
        "y = torch.tensor([2, 2, 2, 2])"
      ],
      "metadata": {
        "id": "jq2DLGivuVDS"
      },
      "execution_count": 19,
      "outputs": []
    },
    {
      "cell_type": "markdown",
      "source": [
        "Operaciones aritméticas\n",
        "\n",
        "*   Suma $(+)$\n",
        "*   Resta $(-)$\n",
        "*   Multiplicación $(*)$\n",
        "*   División $(/)$\n",
        "*   Potencia $(**)$"
      ],
      "metadata": {
        "id": "jgqnTPhwuIUU"
      }
    },
    {
      "cell_type": "code",
      "source": [
        "# Operaciones\n",
        "print (f\"Suma: {x+y}\")\n",
        "print (f\"Resta: {x-y}\")\n",
        "print (f\"Multiplicación: {x*y}\")\n",
        "print (f\"División: {x/y}\")\n",
        "print (f\"Potencia: {x**y}\")"
      ],
      "metadata": {
        "colab": {
          "base_uri": "https://localhost:8080/"
        },
        "id": "JzdIkLtExN8d",
        "outputId": "533fb934-a1e4-46b3-d1ec-54b91780f099"
      },
      "execution_count": 20,
      "outputs": [
        {
          "output_type": "stream",
          "name": "stdout",
          "text": [
            "Suma: tensor([ 3.,  4.,  6., 10.])\n",
            "Resta: tensor([-1.,  0.,  2.,  6.])\n",
            "Multiplicación: tensor([ 2.,  4.,  8., 16.])\n",
            "División: tensor([0.5000, 1.0000, 2.0000, 4.0000])\n",
            "Potencia: tensor([ 1.,  4., 16., 64.])\n"
          ]
        }
      ]
    },
    {
      "cell_type": "markdown",
      "source": [
        "Se pueden aplicar más operaciones por elementos, incluidos operadores unarios, por ejemplo:<br>\n",
        "<br>\n",
        "**abs()** Calcula el valor absoluto de cada elemento del tensor `input` (entrada).\n"
      ],
      "metadata": {
        "id": "R84KVtzgxpi4"
      }
    },
    {
      "cell_type": "code",
      "source": [
        "x = torch.abs(torch.tensor([-1, -2, 3]))\n",
        "print (f\"x: {x}\")"
      ],
      "metadata": {
        "colab": {
          "base_uri": "https://localhost:8080/"
        },
        "id": "bAbdn4dlyE35",
        "outputId": "7bc63783-e6a8-40cf-c78e-c95ab8a15985"
      },
      "execution_count": 21,
      "outputs": [
        {
          "output_type": "stream",
          "name": "stdout",
          "text": [
            "x: tensor([1, 2, 3])\n"
          ]
        }
      ]
    },
    {
      "cell_type": "markdown",
      "source": [
        "**exp()** Devuelve un nuevo tensor con el exponencial de los elementos del tensor `input` (entrada)."
      ],
      "metadata": {
        "id": "dR4fyGtHyNrI"
      }
    },
    {
      "cell_type": "code",
      "source": [
        "x = torch.exp(torch.tensor([-1, -2, 3]))\n",
        "print (f\"x: {x}\")"
      ],
      "metadata": {
        "colab": {
          "base_uri": "https://localhost:8080/"
        },
        "id": "1U8xge1Wyjdc",
        "outputId": "b8f26695-eb6c-4ccc-9c96-1512826ec60d"
      },
      "execution_count": 22,
      "outputs": [
        {
          "output_type": "stream",
          "name": "stdout",
          "text": [
            "x: tensor([ 0.3679,  0.1353, 20.0855])\n"
          ]
        }
      ]
    },
    {
      "cell_type": "markdown",
      "source": [
        "**pow()** Toma la potencia de cada elemento del tensor `input` con el `exponent` dado y devuelve un tensor con el resultado."
      ],
      "metadata": {
        "id": "ZHQ6zlVcdbyi"
      }
    },
    {
      "cell_type": "code",
      "source": [
        "x = torch.arange(1, 6)\n",
        "y = torch.pow(x, 2)\n",
        "z = torch.pow(x, y)\n",
        "\n",
        "print (f\"x: {x}\")\n",
        "print (f\"y: {y}\")\n",
        "print (f\"z: {z}\")"
      ],
      "metadata": {
        "colab": {
          "base_uri": "https://localhost:8080/"
        },
        "id": "W0xtZGM3dxgP",
        "outputId": "57fd1e07-6224-49ca-c71c-7776a3c3662b"
      },
      "execution_count": 23,
      "outputs": [
        {
          "output_type": "stream",
          "name": "stdout",
          "text": [
            "x: tensor([1, 2, 3, 4, 5])\n",
            "y: tensor([ 1,  4,  9, 16, 25])\n",
            "z: tensor([                 1,                 16,              19683,\n",
            "                4294967296, 298023223876953125])\n"
          ]
        }
      ]
    },
    {
      "cell_type": "markdown",
      "source": [
        "**neg()** Devuelve un nuevo tensor con el negativo de los elementos del tensor  `input`."
      ],
      "metadata": {
        "id": "0f27ANKHeYmr"
      }
    },
    {
      "cell_type": "code",
      "source": [
        "x = torch.tensor([1, -2, -3, 4, -5, 6])\n",
        "print (f\"x: {x}\")\n",
        "print (f\"x: {torch.neg(x)}\")"
      ],
      "metadata": {
        "colab": {
          "base_uri": "https://localhost:8080/"
        },
        "outputId": "5f1dc350-c06a-46a0-a4e7-1c115e8757b5",
        "id": "oQUtCdGkeYms"
      },
      "execution_count": 24,
      "outputs": [
        {
          "output_type": "stream",
          "name": "stdout",
          "text": [
            "x: tensor([ 1, -2, -3,  4, -5,  6])\n",
            "x: tensor([-1,  2,  3, -4,  5, -6])\n"
          ]
        }
      ]
    },
    {
      "cell_type": "markdown",
      "source": [
        "**square()** Devuelve un nuevo tensor con el cuadrado de los elementos del tensor `input`.\n"
      ],
      "metadata": {
        "id": "o0NzkTXDfQ8x"
      }
    },
    {
      "cell_type": "code",
      "source": [
        "x = torch.tensor([ 1.0,  2.0, 3.0, 4.0, 5.0])\n",
        "print (f\"x: {x}\")\n",
        "print (f\"x: {torch.square(x)}\")\n"
      ],
      "metadata": {
        "colab": {
          "base_uri": "https://localhost:8080/"
        },
        "outputId": "4b36e613-b9ff-403b-b4e8-af690fc30c56",
        "id": "yO8ChqxmfQ8y"
      },
      "execution_count": 25,
      "outputs": [
        {
          "output_type": "stream",
          "name": "stdout",
          "text": [
            "x: tensor([1., 2., 3., 4., 5.])\n",
            "x: tensor([ 1.,  4.,  9., 16., 25.])\n"
          ]
        }
      ]
    },
    {
      "cell_type": "markdown",
      "source": [
        "**reciprocal()** Devuelve un nuevo tensor con el recíproco de los elementos del tensor `input`.\n"
      ],
      "metadata": {
        "id": "EEfSUAHkhz93"
      }
    },
    {
      "cell_type": "code",
      "source": [
        "x = torch.tensor([ 1.0,  2.0, -3.0, 4.0, 5.0])\n",
        "print (f\"x: {x}\")\n",
        "print (f\"x: {torch.reciprocal(x)}\")\n"
      ],
      "metadata": {
        "colab": {
          "base_uri": "https://localhost:8080/"
        },
        "outputId": "a85c76cd-544f-484a-bf92-a73393d99979",
        "id": "DTDirWojhz-B"
      },
      "execution_count": 26,
      "outputs": [
        {
          "output_type": "stream",
          "name": "stdout",
          "text": [
            "x: tensor([ 1.,  2., -3.,  4.,  5.])\n",
            "x: tensor([ 1.0000,  0.5000, -0.3333,  0.2500,  0.2000])\n"
          ]
        }
      ]
    },
    {
      "cell_type": "markdown",
      "source": [
        "**add()** Agrega un escalar o un tensor llamado `other` a cada elemento del tensor `input` y devuelve un nuevo tensor. Si se usa `alpha`, este valor multiplica a `other`.\n",
        "<br><br>\n",
        "`torch.add(input, other, *, alpha=1, out=None)`\n",
        "<br><br>\n",
        "$out_{i}= input_{i} + alpha * other_{i}​$"
      ],
      "metadata": {
        "id": "iChUiTnrzNsy"
      }
    },
    {
      "cell_type": "code",
      "source": [
        "x = torch.arange(4)\n",
        "print (f\"x: {x}\")\n",
        "\n",
        "# agregar 50 a cada elemento del tensor x\n",
        "torch.add(x, 50, out=y)\n",
        "print (f\"y: {y}\")\n",
        "\n",
        "z = torch.add(x, y, alpha=10)\n",
        "print (f\"z: {z}\")"
      ],
      "metadata": {
        "colab": {
          "base_uri": "https://localhost:8080/"
        },
        "id": "PKH2-sszzoYN",
        "outputId": "895b614c-b086-4d22-9bbb-6a4df2463377"
      },
      "execution_count": 27,
      "outputs": [
        {
          "output_type": "stream",
          "name": "stdout",
          "text": [
            "x: tensor([0, 1, 2, 3])\n",
            "y: tensor([50, 51, 52, 53])\n",
            "z: tensor([500, 511, 522, 533])\n"
          ]
        },
        {
          "output_type": "stream",
          "name": "stderr",
          "text": [
            "/usr/local/lib/python3.7/dist-packages/ipykernel_launcher.py:5: UserWarning: An output with one or more elements was resized since it had shape [5], which does not match the required output shape [4].This behavior is deprecated, and in a future PyTorch release outputs will not be resized unless they have zero elements. You can explicitly reuse an out tensor t by resizing it, inplace, to zero elements with t.resize_(0). (Triggered internally at  ../aten/src/ATen/native/Resize.cpp:23.)\n",
            "  \"\"\"\n"
          ]
        }
      ]
    },
    {
      "cell_type": "markdown",
      "source": [
        "**sub()** Resta un escalar o tensor llamado `other` a cada elemento del tensor `input` y devuelve un nuevo tensor. El valor de `alpha` es el multiplicador de `other`.\n",
        "<br><br>\n",
        "`torch.sub(input, other, *, alpha=1, out=None)`\n",
        "<br><br>\n",
        "$out_{i}= input_{i} − alpha * other_{i}​$"
      ],
      "metadata": {
        "id": "Kz_ULPPS25AG"
      }
    },
    {
      "cell_type": "code",
      "source": [
        "x = torch.tensor([1, 2])\n",
        "y = torch.sub(x, 1)\n",
        "print (f\"x: {x}\")\n",
        "print (f\"y: {y}\\n\")\n",
        "\n",
        "z = torch.sub(x, y, alpha=2)\n",
        "print (f\"z: {z}\")"
      ],
      "metadata": {
        "colab": {
          "base_uri": "https://localhost:8080/"
        },
        "id": "OF4YIXRr3yDn",
        "outputId": "476a6ea2-f73d-4855-af21-7f6fc6f78c4d"
      },
      "execution_count": 28,
      "outputs": [
        {
          "output_type": "stream",
          "name": "stdout",
          "text": [
            "x: tensor([1, 2])\n",
            "y: tensor([0, 1])\n",
            "\n",
            "z: tensor([1, 0])\n"
          ]
        }
      ]
    },
    {
      "cell_type": "markdown",
      "source": [
        "**mul()** Multiplica cada elemento del tensor `input` con el `other` escalar o tensor y devuelve un nuevo tensor.\n",
        "<br><br>\n",
        "`torch.mul(input, other, *, out=None)`\n",
        "<br><br>\n",
        "$out_{i}= input_{i} * other_{i}​$"
      ],
      "metadata": {
        "id": "Ygj-AbhlavAD"
      }
    },
    {
      "cell_type": "code",
      "source": [
        "x = torch.arange(5)\n",
        "y = torch.mul(x, 5)\n",
        "z = torch.mul(x, y)\n",
        "\n",
        "print (f\"x: {x}\")\n",
        "print (f\"y: {y}\")\n",
        "print (f\"z: {z}\")"
      ],
      "metadata": {
        "colab": {
          "base_uri": "https://localhost:8080/"
        },
        "id": "Bv72GXVabd33",
        "outputId": "84f0467a-8aae-429c-8b41-e0819f640b8b"
      },
      "execution_count": 29,
      "outputs": [
        {
          "output_type": "stream",
          "name": "stdout",
          "text": [
            "x: tensor([0, 1, 2, 3, 4])\n",
            "y: tensor([ 0,  5, 10, 15, 20])\n",
            "z: tensor([ 0,  5, 20, 45, 80])\n"
          ]
        }
      ]
    },
    {
      "cell_type": "markdown",
      "source": [
        "**div()** Divide cada elemento del tensor `input` con el valor de un escalar o tensor llamado `other` y devuelve un nuevo tensor.\n",
        "<br><br>\n",
        "`torch.div(input, other, *, rounding_mode=None, out=None)`\n",
        "<br><br>\n",
        "$out_{i}= \\frac{input_{i}}{other_{i}}​$"
      ],
      "metadata": {
        "id": "EpDi6-NqZChL"
      }
    },
    {
      "cell_type": "code",
      "source": [
        "x = torch.tensor([ 1.0,  2.0, 3.0, 4.0, 5.0])\n",
        "y = torch.div(x, 2)\n",
        "z = torch.div(x, y)\n",
        "\n",
        "print (f\"x: {x}\")\n",
        "print (f\"y: {y}\")\n",
        "print (f\"z: {z}\")"
      ],
      "metadata": {
        "colab": {
          "base_uri": "https://localhost:8080/"
        },
        "id": "WD1cqZamZy44",
        "outputId": "e71d450d-3a08-4a80-db1e-fc16610b6a4a"
      },
      "execution_count": 30,
      "outputs": [
        {
          "output_type": "stream",
          "name": "stdout",
          "text": [
            "x: tensor([1., 2., 3., 4., 5.])\n",
            "y: tensor([0.5000, 1.0000, 1.5000, 2.0000, 2.5000])\n",
            "z: tensor([2., 2., 2., 2., 2.])\n"
          ]
        }
      ]
    },
    {
      "cell_type": "markdown",
      "source": [
        "**remainder()** Calcula el resto de la división por elementos (`elementwise`). El divisor y el dividendo pueden contener tanto números enteros como flotantes. `other` puede ser un escalar o un tensor.\n",
        "<br><br>\n",
        "`torch.remainder(input, other, *, out=None)`"
      ],
      "metadata": {
        "id": "aBxco0C0fsE4"
      }
    },
    {
      "cell_type": "code",
      "source": [
        "x = torch.tensor([ 10.0,  20.0, 30.0, 40.0, 50.0])\n",
        "y = torch.tensor([ 9.0,  6.0, 9.0, 3.0, 7.0])\n",
        "\n",
        "z = torch.remainder(x, y)\n",
        "w = torch.remainder(y, -5)\n",
        "\n",
        "print (f\"z: {z}\")\n",
        "print (f\"w: {w}\")"
      ],
      "metadata": {
        "colab": {
          "base_uri": "https://localhost:8080/"
        },
        "outputId": "afccbf69-d30a-4e9d-8704-7fc72d25a22c",
        "id": "PQfXfewofsE5"
      },
      "execution_count": 31,
      "outputs": [
        {
          "output_type": "stream",
          "name": "stdout",
          "text": [
            "z: tensor([1., 2., 3., 1., 1.])\n",
            "w: tensor([-1., -4., -1., -2., -3.])\n"
          ]
        }
      ]
    },
    {
      "cell_type": "markdown",
      "source": [
        "___\n",
        "### Concatenación y Apilado\n",
        "Se pueden concatenar varios tensores juntos, apilándolos de un extremo a otro para formar un tensor más grande. Solo se necesita proporcionar una lista de tensores e indicar a lo largo de qué eje concatenar.\n"
      ],
      "metadata": {
        "id": "e2pPYQVfwmij"
      }
    },
    {
      "cell_type": "markdown",
      "source": [
        "**cat()** Concatena la secuencia de tensores dada en la dimensión proporcionada. Todos los tensores deben tener la misma forma o estar vacíos.\n",
        "<br><br>\n",
        "`torch.cat(tensors, dim=0, *, out=None)`"
      ],
      "metadata": {
        "id": "WJLaLxCjzUMZ"
      }
    },
    {
      "cell_type": "code",
      "source": [
        "x = torch.arange(12).reshape(3, 4)\n",
        "y = torch.arange(12, 24).reshape(3, 4)\n",
        "\n",
        "print (f\"x: {x}\")\n",
        "print (f\"y: {y}\")"
      ],
      "metadata": {
        "colab": {
          "base_uri": "https://localhost:8080/"
        },
        "id": "Q4RWPgdyxb_D",
        "outputId": "b79df761-7ce7-4646-d1cc-0d069b6b257b"
      },
      "execution_count": 32,
      "outputs": [
        {
          "output_type": "stream",
          "name": "stdout",
          "text": [
            "x: tensor([[ 0,  1,  2,  3],\n",
            "        [ 4,  5,  6,  7],\n",
            "        [ 8,  9, 10, 11]])\n",
            "y: tensor([[12, 13, 14, 15],\n",
            "        [16, 17, 18, 19],\n",
            "        [20, 21, 22, 23]])\n"
          ]
        }
      ]
    },
    {
      "cell_type": "code",
      "source": [
        "# concatenación en filas\n",
        "z = torch.cat((x, y), dim=0)\n",
        "print (z)"
      ],
      "metadata": {
        "colab": {
          "base_uri": "https://localhost:8080/"
        },
        "id": "J4OhFcBIxtat",
        "outputId": "af450507-3b02-48d0-a2cb-fa5cfc69544c"
      },
      "execution_count": 33,
      "outputs": [
        {
          "output_type": "stream",
          "name": "stdout",
          "text": [
            "tensor([[ 0,  1,  2,  3],\n",
            "        [ 4,  5,  6,  7],\n",
            "        [ 8,  9, 10, 11],\n",
            "        [12, 13, 14, 15],\n",
            "        [16, 17, 18, 19],\n",
            "        [20, 21, 22, 23]])\n"
          ]
        }
      ]
    },
    {
      "cell_type": "code",
      "source": [
        "# concatenación en columnas\n",
        "z = torch.cat((x, y), dim=1)\n",
        "print (z)"
      ],
      "metadata": {
        "colab": {
          "base_uri": "https://localhost:8080/"
        },
        "id": "kcyXyVzUyAmi",
        "outputId": "052e6540-84ee-4910-a720-b444083d8468"
      },
      "execution_count": 34,
      "outputs": [
        {
          "output_type": "stream",
          "name": "stdout",
          "text": [
            "tensor([[ 0,  1,  2,  3, 12, 13, 14, 15],\n",
            "        [ 4,  5,  6,  7, 16, 17, 18, 19],\n",
            "        [ 8,  9, 10, 11, 20, 21, 22, 23]])\n"
          ]
        }
      ]
    },
    {
      "cell_type": "markdown",
      "source": [
        "**stack()** Concatena una secuencia de tensores a lo largo de una nueva dimensión. Todos los tensores deben ser del mismo tamaño.\n",
        "<br><br>\n",
        "`torch.stack(tensors, dim=0, *, out=None)`"
      ],
      "metadata": {
        "id": "_m-Rgt59yxwp"
      }
    },
    {
      "cell_type": "code",
      "source": [
        "x = torch.arange(12).reshape(3, 4)\n",
        "y = torch.arange(12, 24).reshape(3, 4)\n",
        "\n",
        "print (f\"x: {x}\")\n",
        "print (f\"y: {y}\")"
      ],
      "metadata": {
        "colab": {
          "base_uri": "https://localhost:8080/"
        },
        "outputId": "f4a5c2d3-8da0-457a-bd00-fde6e0481042",
        "id": "yHF5EqsH0HzQ"
      },
      "execution_count": 35,
      "outputs": [
        {
          "output_type": "stream",
          "name": "stdout",
          "text": [
            "x: tensor([[ 0,  1,  2,  3],\n",
            "        [ 4,  5,  6,  7],\n",
            "        [ 8,  9, 10, 11]])\n",
            "y: tensor([[12, 13, 14, 15],\n",
            "        [16, 17, 18, 19],\n",
            "        [20, 21, 22, 23]])\n"
          ]
        }
      ]
    },
    {
      "cell_type": "code",
      "source": [
        "z = torch.stack((x, y), dim=0)\n",
        "print (z)\n",
        "print (z.shape)"
      ],
      "metadata": {
        "colab": {
          "base_uri": "https://localhost:8080/"
        },
        "id": "FC4pwyOMyzXG",
        "outputId": "251d1406-bad4-416c-f34f-ff5a7cc0d2c6"
      },
      "execution_count": 36,
      "outputs": [
        {
          "output_type": "stream",
          "name": "stdout",
          "text": [
            "tensor([[[ 0,  1,  2,  3],\n",
            "         [ 4,  5,  6,  7],\n",
            "         [ 8,  9, 10, 11]],\n",
            "\n",
            "        [[12, 13, 14, 15],\n",
            "         [16, 17, 18, 19],\n",
            "         [20, 21, 22, 23]]])\n",
            "torch.Size([2, 3, 4])\n"
          ]
        }
      ]
    },
    {
      "cell_type": "code",
      "source": [
        "z = torch.stack([x, y], dim=1)\n",
        "print (z)\n",
        "print (z.shape)"
      ],
      "metadata": {
        "colab": {
          "base_uri": "https://localhost:8080/"
        },
        "outputId": "ea1ca3af-fbff-4134-cbb9-a3d7b228eecf",
        "id": "Uk29sGfM0ukb"
      },
      "execution_count": 37,
      "outputs": [
        {
          "output_type": "stream",
          "name": "stdout",
          "text": [
            "tensor([[[ 0,  1,  2,  3],\n",
            "         [12, 13, 14, 15]],\n",
            "\n",
            "        [[ 4,  5,  6,  7],\n",
            "         [16, 17, 18, 19]],\n",
            "\n",
            "        [[ 8,  9, 10, 11],\n",
            "         [20, 21, 22, 23]]])\n",
            "torch.Size([3, 2, 4])\n"
          ]
        }
      ]
    },
    {
      "cell_type": "code",
      "source": [
        "z = torch.stack([x, y], dim=2)\n",
        "print (z)\n",
        "print (z.shape)"
      ],
      "metadata": {
        "colab": {
          "base_uri": "https://localhost:8080/"
        },
        "outputId": "650ce511-27de-4176-b7ac-ab64003842f3",
        "id": "nI6oPXZh1n4Z"
      },
      "execution_count": 38,
      "outputs": [
        {
          "output_type": "stream",
          "name": "stdout",
          "text": [
            "tensor([[[ 0, 12],\n",
            "         [ 1, 13],\n",
            "         [ 2, 14],\n",
            "         [ 3, 15]],\n",
            "\n",
            "        [[ 4, 16],\n",
            "         [ 5, 17],\n",
            "         [ 6, 18],\n",
            "         [ 7, 19]],\n",
            "\n",
            "        [[ 8, 20],\n",
            "         [ 9, 21],\n",
            "         [10, 22],\n",
            "         [11, 23]]])\n",
            "torch.Size([3, 4, 2])\n"
          ]
        }
      ]
    },
    {
      "cell_type": "markdown",
      "source": [
        "---\n",
        "### Reducción"
      ],
      "metadata": {
        "id": "NHaGrXu11547"
      }
    },
    {
      "cell_type": "markdown",
      "source": [
        "**sum()** Devuelve la suma de todos los elementos del tensor `input`.\n",
        "<br><br>\n",
        "`torch.sum(input, *, dtype=None)`"
      ],
      "metadata": {
        "id": "VmGIcyYo2ceq"
      }
    },
    {
      "cell_type": "code",
      "source": [
        "x = torch.arange(12).reshape(3,-1)\n",
        "suma = x.sum()\n",
        "\n",
        "print (f\"x: {x}\")\n",
        "print (f\"suma: {suma}\")"
      ],
      "metadata": {
        "colab": {
          "base_uri": "https://localhost:8080/"
        },
        "id": "pvvCgp9P2mPq",
        "outputId": "800c272a-2d41-42c7-b841-fa48a1488168"
      },
      "execution_count": 39,
      "outputs": [
        {
          "output_type": "stream",
          "name": "stdout",
          "text": [
            "x: tensor([[ 0,  1,  2,  3],\n",
            "        [ 4,  5,  6,  7],\n",
            "        [ 8,  9, 10, 11]])\n",
            "suma: 66\n"
          ]
        }
      ]
    },
    {
      "cell_type": "markdown",
      "source": [
        "Usar **sum()** para reducir dimensiones de un tensor.\n",
        "<br><br>\n",
        "`torch.sum(input, dim, keepdim=False, *, dtype=None)`"
      ],
      "metadata": {
        "id": "ahQYZPDH56rm"
      }
    },
    {
      "cell_type": "code",
      "source": [
        "# reducir filas\n",
        "y = x.sum(dim=0)\n",
        "\n",
        "print (f\"y: {y}\")"
      ],
      "metadata": {
        "colab": {
          "base_uri": "https://localhost:8080/"
        },
        "outputId": "bb08b261-60e1-47a4-a9c7-f66bc99a492c",
        "id": "3QuZyufN3E8Z"
      },
      "execution_count": 40,
      "outputs": [
        {
          "output_type": "stream",
          "name": "stdout",
          "text": [
            "y: tensor([12, 15, 18, 21])\n"
          ]
        }
      ]
    },
    {
      "cell_type": "code",
      "source": [
        "# reducir columnas\n",
        "y = x.sum(dim=1)\n",
        "\n",
        "print (f\"y: {y}\")\n",
        "print (f\"shape: {y.shape}\")"
      ],
      "metadata": {
        "colab": {
          "base_uri": "https://localhost:8080/"
        },
        "outputId": "e596511f-fe0e-464b-d9c8-f28ac53629b6",
        "id": "Yyo1iUZ34EY8"
      },
      "execution_count": 41,
      "outputs": [
        {
          "output_type": "stream",
          "name": "stdout",
          "text": [
            "y: tensor([ 6, 22, 38])\n",
            "shape: torch.Size([3])\n"
          ]
        }
      ]
    },
    {
      "cell_type": "markdown",
      "source": [
        "Si `keepdim` es `True`, el tensor de salida es del mismo tamaño que el de entrada, excepto en la(s) dimensión(es) `dim` donde es de tamaño 1."
      ],
      "metadata": {
        "id": "Dh6w9UgK5i_6"
      }
    },
    {
      "cell_type": "code",
      "source": [
        "# reducir columnas\n",
        "y = x.sum(dim=1, keepdim=True)\n",
        "\n",
        "print (f\"y: {y}\")\n",
        "print (f\"shape: {y.shape}\")"
      ],
      "metadata": {
        "colab": {
          "base_uri": "https://localhost:8080/"
        },
        "outputId": "70b49f47-0f83-4bd0-9078-b14298414d5e",
        "id": "-eaa8xPf5S8g"
      },
      "execution_count": 42,
      "outputs": [
        {
          "output_type": "stream",
          "name": "stdout",
          "text": [
            "y: tensor([[ 6],\n",
            "        [22],\n",
            "        [38]])\n",
            "shape: torch.Size([3, 1])\n"
          ]
        }
      ]
    },
    {
      "cell_type": "markdown",
      "source": [
        "**mean()** Devuelve el valor medio de todos los elementos del tensor `input`.\n",
        "<br><br>\n",
        "`torch.mean(input, *, dtype=None)`"
      ],
      "metadata": {
        "id": "u6HHZGV76zTi"
      }
    },
    {
      "cell_type": "code",
      "source": [
        "x = torch.arange(12, dtype=float).reshape(3,4)\n",
        "\n",
        "print (f\"x: {x}\")\n",
        "print (f\"mean: {x.mean()}\")"
      ],
      "metadata": {
        "colab": {
          "base_uri": "https://localhost:8080/"
        },
        "outputId": "8c3ea269-30f3-457e-90b6-4baf5108615f",
        "id": "zXqEDAiq7HAd"
      },
      "execution_count": 43,
      "outputs": [
        {
          "output_type": "stream",
          "name": "stdout",
          "text": [
            "x: tensor([[ 0.,  1.,  2.,  3.],\n",
            "        [ 4.,  5.,  6.,  7.],\n",
            "        [ 8.,  9., 10., 11.]], dtype=torch.float64)\n",
            "mean: 5.5\n"
          ]
        }
      ]
    },
    {
      "cell_type": "markdown",
      "source": [
        "Obtener **mean()** de dimensiones específicas\n",
        "<br><br>\n",
        "`torch.mean(input, dim, keepdim=False, *, dtype=None, out=None)`"
      ],
      "metadata": {
        "id": "tcSLzu1C7rZh"
      }
    },
    {
      "cell_type": "code",
      "source": [
        "print (x.mean(0))\n",
        "print (x.mean(1))\n",
        "print (x.mean(1, keepdim=True))"
      ],
      "metadata": {
        "colab": {
          "base_uri": "https://localhost:8080/"
        },
        "id": "HjXnvc6T7qUa",
        "outputId": "0b121336-e9f3-4098-b2cb-d99cc6fe1eb5"
      },
      "execution_count": 44,
      "outputs": [
        {
          "output_type": "stream",
          "name": "stdout",
          "text": [
            "tensor([4., 5., 6., 7.], dtype=torch.float64)\n",
            "tensor([1.5000, 5.5000, 9.5000], dtype=torch.float64)\n",
            "tensor([[1.5000],\n",
            "        [5.5000],\n",
            "        [9.5000]], dtype=torch.float64)\n"
          ]
        }
      ]
    },
    {
      "cell_type": "markdown",
      "source": [
        "**max()** Devuelve el valor máximo de todos los elementos del tensor `input`.\n",
        "<br><br>\n",
        "`torch.max(input)`"
      ],
      "metadata": {
        "id": "ZiJJfF8C8n6y"
      }
    },
    {
      "cell_type": "code",
      "source": [
        "x = torch.arange(12, dtype=float).reshape(3,4)\n",
        "\n",
        "print (f\"x: {x}\")\n",
        "print (f\"max: {x.max()}\")"
      ],
      "metadata": {
        "colab": {
          "base_uri": "https://localhost:8080/"
        },
        "outputId": "53ee4114-5645-4253-e6a9-e4fea71e0608",
        "id": "iDg9yDul8n6z"
      },
      "execution_count": 45,
      "outputs": [
        {
          "output_type": "stream",
          "name": "stdout",
          "text": [
            "x: tensor([[ 0.,  1.,  2.,  3.],\n",
            "        [ 4.,  5.,  6.,  7.],\n",
            "        [ 8.,  9., 10., 11.]], dtype=torch.float64)\n",
            "max: 11.0\n"
          ]
        }
      ]
    },
    {
      "cell_type": "markdown",
      "source": [
        "Obtener **max()** de dimensiones específicas\n",
        "<br><br>\n",
        "`torch.max(input, dim, keepdim=False, *, out=None)`"
      ],
      "metadata": {
        "id": "hW9khX_r8n60"
      }
    },
    {
      "cell_type": "code",
      "source": [
        "y = x.max(0)\n",
        "\n",
        "print (f\"x: {x}\\n\")\n",
        "print (f\"{y}\\n\")\n",
        "print (f\"Values: {y.values}\\n\")\n",
        "print (f\"Indices: {y.indices}\\n\")"
      ],
      "metadata": {
        "colab": {
          "base_uri": "https://localhost:8080/"
        },
        "outputId": "289f85cb-c17e-4929-f3ec-c69dd2766ec5",
        "id": "y323azIj8n60"
      },
      "execution_count": 46,
      "outputs": [
        {
          "output_type": "stream",
          "name": "stdout",
          "text": [
            "x: tensor([[ 0.,  1.,  2.,  3.],\n",
            "        [ 4.,  5.,  6.,  7.],\n",
            "        [ 8.,  9., 10., 11.]], dtype=torch.float64)\n",
            "\n",
            "torch.return_types.max(\n",
            "values=tensor([ 8.,  9., 10., 11.], dtype=torch.float64),\n",
            "indices=tensor([2, 2, 2, 2]))\n",
            "\n",
            "Values: tensor([ 8.,  9., 10., 11.], dtype=torch.float64)\n",
            "\n",
            "Indices: tensor([2, 2, 2, 2])\n",
            "\n"
          ]
        }
      ]
    },
    {
      "cell_type": "code",
      "source": [
        "y = x.max(1)\n",
        "\n",
        "print (f\"x: {x}\\n\")\n",
        "print (f\"{y}\\n\")\n",
        "print (f\"Values: {y.values}\\n\")\n",
        "print (f\"Indices: {y.indices}\\n\")"
      ],
      "metadata": {
        "colab": {
          "base_uri": "https://localhost:8080/"
        },
        "outputId": "1a8dc5b7-24c0-4420-8865-0496bd15cc85",
        "id": "ZZhKPh3L9v5h"
      },
      "execution_count": 47,
      "outputs": [
        {
          "output_type": "stream",
          "name": "stdout",
          "text": [
            "x: tensor([[ 0.,  1.,  2.,  3.],\n",
            "        [ 4.,  5.,  6.,  7.],\n",
            "        [ 8.,  9., 10., 11.]], dtype=torch.float64)\n",
            "\n",
            "torch.return_types.max(\n",
            "values=tensor([ 3.,  7., 11.], dtype=torch.float64),\n",
            "indices=tensor([3, 3, 3]))\n",
            "\n",
            "Values: tensor([ 3.,  7., 11.], dtype=torch.float64)\n",
            "\n",
            "Indices: tensor([3, 3, 3])\n",
            "\n"
          ]
        }
      ]
    },
    {
      "cell_type": "code",
      "source": [
        "y = x.max(1, keepdim=True)\n",
        "\n",
        "print (f\"x: {x}\\n\")\n",
        "print (f\"{y}\\n\")\n",
        "print (f\"Values: {y.values}\\n\")\n",
        "print (f\"Indices: {y.indices}\\n\")"
      ],
      "metadata": {
        "colab": {
          "base_uri": "https://localhost:8080/"
        },
        "outputId": "94fb031b-8208-4826-c064-65305cd96e2d",
        "id": "EI96dYm3-Ody"
      },
      "execution_count": 48,
      "outputs": [
        {
          "output_type": "stream",
          "name": "stdout",
          "text": [
            "x: tensor([[ 0.,  1.,  2.,  3.],\n",
            "        [ 4.,  5.,  6.,  7.],\n",
            "        [ 8.,  9., 10., 11.]], dtype=torch.float64)\n",
            "\n",
            "torch.return_types.max(\n",
            "values=tensor([[ 3.],\n",
            "        [ 7.],\n",
            "        [11.]], dtype=torch.float64),\n",
            "indices=tensor([[3],\n",
            "        [3],\n",
            "        [3]]))\n",
            "\n",
            "Values: tensor([[ 3.],\n",
            "        [ 7.],\n",
            "        [11.]], dtype=torch.float64)\n",
            "\n",
            "Indices: tensor([[3],\n",
            "        [3],\n",
            "        [3]])\n",
            "\n"
          ]
        }
      ]
    },
    {
      "cell_type": "markdown",
      "source": [
        "---\n",
        "### Indexación y corte\n",
        "Se puede acceder a los elementos de un tensor por índice. El primer elemento tiene índice 0. Como en las listas estándar de Python, se puede acceder a los elementos según su posición relativa al final de la lista mediante el uso de índices negativos. Así, `[-1]` selecciona el último elemento y `[1: 3]` selecciona el segundo y tercer elemento."
      ],
      "metadata": {
        "id": "5-03P1D5-dYq"
      }
    },
    {
      "cell_type": "code",
      "source": [
        "x = torch.arange(12).reshape(3,4)\n",
        "\n",
        "print (f\"x: {x}\\n\")\n",
        "print (f\"x[-1]: {x[-1]}\\n\")\n",
        "print (f\"x[-1]: {x[1:3]}\\n\")"
      ],
      "metadata": {
        "colab": {
          "base_uri": "https://localhost:8080/"
        },
        "outputId": "5f876958-9419-4d8d-c63c-6e1be505495a",
        "id": "9CuUYrVH_dUv"
      },
      "execution_count": 49,
      "outputs": [
        {
          "output_type": "stream",
          "name": "stdout",
          "text": [
            "x: tensor([[ 0,  1,  2,  3],\n",
            "        [ 4,  5,  6,  7],\n",
            "        [ 8,  9, 10, 11]])\n",
            "\n",
            "x[-1]: tensor([ 8,  9, 10, 11])\n",
            "\n",
            "x[-1]: tensor([[ 4,  5,  6,  7],\n",
            "        [ 8,  9, 10, 11]])\n",
            "\n"
          ]
        }
      ]
    }
  ],
  "metadata": {
    "colab": {
      "name": "IntroPytorch.ipynb",
      "provenance": [],
      "include_colab_link": true
    },
    "kernelspec": {
      "display_name": "Python 3 (ipykernel)",
      "language": "python",
      "name": "python3"
    },
    "language_info": {
      "codemirror_mode": {
        "name": "ipython",
        "version": 3
      },
      "file_extension": ".py",
      "mimetype": "text/x-python",
      "name": "python",
      "nbconvert_exporter": "python",
      "pygments_lexer": "ipython3",
      "version": "3.8.10"
    }
  },
  "nbformat": 4,
  "nbformat_minor": 0
}