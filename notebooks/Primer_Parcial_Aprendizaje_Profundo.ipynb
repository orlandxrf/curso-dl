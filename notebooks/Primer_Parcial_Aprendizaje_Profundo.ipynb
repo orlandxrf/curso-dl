{
  "nbformat": 4,
  "nbformat_minor": 0,
  "metadata": {
    "colab": {
      "name": "Primer_Parcial_Aprendizaje_Profundo.ipynb",
      "provenance": [],
      "toc_visible": true,
      "collapsed_sections": [],
      "authorship_tag": "ABX9TyOUvgYdeR0MM6zVn/d9WESG",
      "include_colab_link": true
    },
    "kernelspec": {
      "name": "python3",
      "display_name": "Python 3"
    },
    "language_info": {
      "name": "python"
    }
  },
  "cells": [
    {
      "cell_type": "markdown",
      "metadata": {
        "id": "view-in-github",
        "colab_type": "text"
      },
      "source": [
        "<a href=\"https://colab.research.google.com/github/orlandxrf/curso-dl/blob/main/notebooks/Primer_Parcial_Aprendizaje_Profundo.ipynb\" target=\"_parent\"><img src=\"https://colab.research.google.com/assets/colab-badge.svg\" alt=\"Open In Colab\"/></a>"
      ]
    },
    {
      "cell_type": "markdown",
      "source": [
        "# Datos del alumno\n",
        "\n",
        "Nombre completo:\n",
        "\n",
        "No. de cuenta:"
      ],
      "metadata": {
        "id": "ckVzBZbateoX"
      }
    },
    {
      "cell_type": "markdown",
      "source": [
        "# Primer parcial\n",
        "La tarea a realizar consite en realizar clasificación de textos, los textos se encuentran en el dominio de noticias en español.\n",
        "\n",
        "El nombre del notebook deberá tener su nombre completo de la siguiente manera:\n",
        "\n",
        "`PrimerParcial_ApellidoPaterno_ApellidoMaterno_Nombre(s).ipynb`\n",
        "\n",
        "> Nota. Opcionalmente pueden utilizar embeddings pre-entrenados para mejorar el rendimiento.\n",
        "\n",
        "Los puntos a evaluar se describen a continuación"
      ],
      "metadata": {
        "id": "L_kzPGKNs4Vf"
      }
    },
    {
      "cell_type": "markdown",
      "source": [
        "## Carga de Datos"
      ],
      "metadata": {
        "id": "Ql0okC-ktrNd"
      }
    },
    {
      "cell_type": "code",
      "execution_count": null,
      "metadata": {
        "id": "TRx3N-V7sv17"
      },
      "outputs": [],
      "source": [
        "# # establecer parametros para almacenar y cargar el conjunto de datos del repositorio de Github\n",
        "# import os\n",
        "\n",
        "# URL = 'https://raw.githubusercontent.com/orlandxrf/curso-dl/main/data/train.tsv'\n",
        "# data_folder = 'data'\n",
        "# filepath = os.path.join(data_folder, 'train.tsv')\n",
        "\n",
        "# # crear carpeta para almacenar el conjunto de datos\n",
        "# ! mkdir {data_folder}\n",
        "# # descargar conjunto de datos y alamcenar\n",
        "# ! wget -nc {URL} -O {filepath}\n",
        "\n",
        "# # comprobrar\n",
        "# ! ls -lh data/*"
      ]
    },
    {
      "cell_type": "markdown",
      "source": [
        "## Análisis de Datos (20%)\n",
        "\n",
        "Analizar el conjunto de datos para obtener:\n",
        "\n",
        "*   Identificar las clases involucradas\n",
        "*   Preparar el conjunto de datos (preprocesamiento, crear vocabulario, etc.)\n",
        "*   Dividir el conjunto de datos en conjuntos:\n",
        "    *   Entrenamiento\n",
        "    *   Validación\n",
        "    *   Prueba\n",
        "\n",
        "> Nota. Se pueden emplear bibliotecas como `torchtext` para la preparación de los datos.\n"
      ],
      "metadata": {
        "id": "omh23YCruetH"
      }
    },
    {
      "cell_type": "code",
      "source": [
        "import pandas as pd\n",
        "\n",
        "df = pd.read_csv('data/noticias_15.tsv', sep='\\t')\n",
        "df = df.drop(\"Unnamed: 0\", axis=1) # eliminar columna 'Unnamed'\n",
        "df.head(10)"
      ],
      "metadata": {
        "colab": {
          "base_uri": "https://localhost:8080/",
          "height": 363
        },
        "id": "J4Yl3xi3uiT5",
        "outputId": "7a526b0b-b72c-4d6b-c645-71ff2a561de6"
      },
      "execution_count": null,
      "outputs": [
        {
          "output_type": "execute_result",
          "data": {
            "text/plain": [
              "  category                                               text\n",
              "0   sports  miércoles julio tres cuatro franceses seguros ...\n",
              "1   sports  miércoles julio presentan festival nacional in...\n",
              "2   sports  miércoles julio torneo copa animalitos certero...\n",
              "3   sports  miércoles julio atlético san luis igualó fc br...\n",
              "4   sports  miércoles julio recuerdan juan martín terán to...\n",
              "5   sports  miércoles julio artemarcialistas preparan torn...\n",
              "6   sports  miércoles julio pone tono jaiba brava menos dí...\n",
              "7   sports  miércoles julio albergará san buenaventura fun...\n",
              "8   sports  miércoles julio boxeadores toluqueños alistan ...\n",
              "9   sports  miércoles julio cuatro clasificados liguilla m..."
            ],
            "text/html": [
              "\n",
              "  <div id=\"df-cdd2da5e-299d-453b-a7d8-b1860ee55e34\">\n",
              "    <div class=\"colab-df-container\">\n",
              "      <div>\n",
              "<style scoped>\n",
              "    .dataframe tbody tr th:only-of-type {\n",
              "        vertical-align: middle;\n",
              "    }\n",
              "\n",
              "    .dataframe tbody tr th {\n",
              "        vertical-align: top;\n",
              "    }\n",
              "\n",
              "    .dataframe thead th {\n",
              "        text-align: right;\n",
              "    }\n",
              "</style>\n",
              "<table border=\"1\" class=\"dataframe\">\n",
              "  <thead>\n",
              "    <tr style=\"text-align: right;\">\n",
              "      <th></th>\n",
              "      <th>category</th>\n",
              "      <th>text</th>\n",
              "    </tr>\n",
              "  </thead>\n",
              "  <tbody>\n",
              "    <tr>\n",
              "      <th>0</th>\n",
              "      <td>sports</td>\n",
              "      <td>miércoles julio tres cuatro franceses seguros ...</td>\n",
              "    </tr>\n",
              "    <tr>\n",
              "      <th>1</th>\n",
              "      <td>sports</td>\n",
              "      <td>miércoles julio presentan festival nacional in...</td>\n",
              "    </tr>\n",
              "    <tr>\n",
              "      <th>2</th>\n",
              "      <td>sports</td>\n",
              "      <td>miércoles julio torneo copa animalitos certero...</td>\n",
              "    </tr>\n",
              "    <tr>\n",
              "      <th>3</th>\n",
              "      <td>sports</td>\n",
              "      <td>miércoles julio atlético san luis igualó fc br...</td>\n",
              "    </tr>\n",
              "    <tr>\n",
              "      <th>4</th>\n",
              "      <td>sports</td>\n",
              "      <td>miércoles julio recuerdan juan martín terán to...</td>\n",
              "    </tr>\n",
              "    <tr>\n",
              "      <th>5</th>\n",
              "      <td>sports</td>\n",
              "      <td>miércoles julio artemarcialistas preparan torn...</td>\n",
              "    </tr>\n",
              "    <tr>\n",
              "      <th>6</th>\n",
              "      <td>sports</td>\n",
              "      <td>miércoles julio pone tono jaiba brava menos dí...</td>\n",
              "    </tr>\n",
              "    <tr>\n",
              "      <th>7</th>\n",
              "      <td>sports</td>\n",
              "      <td>miércoles julio albergará san buenaventura fun...</td>\n",
              "    </tr>\n",
              "    <tr>\n",
              "      <th>8</th>\n",
              "      <td>sports</td>\n",
              "      <td>miércoles julio boxeadores toluqueños alistan ...</td>\n",
              "    </tr>\n",
              "    <tr>\n",
              "      <th>9</th>\n",
              "      <td>sports</td>\n",
              "      <td>miércoles julio cuatro clasificados liguilla m...</td>\n",
              "    </tr>\n",
              "  </tbody>\n",
              "</table>\n",
              "</div>\n",
              "      <button class=\"colab-df-convert\" onclick=\"convertToInteractive('df-cdd2da5e-299d-453b-a7d8-b1860ee55e34')\"\n",
              "              title=\"Convert this dataframe to an interactive table.\"\n",
              "              style=\"display:none;\">\n",
              "        \n",
              "  <svg xmlns=\"http://www.w3.org/2000/svg\" height=\"24px\"viewBox=\"0 0 24 24\"\n",
              "       width=\"24px\">\n",
              "    <path d=\"M0 0h24v24H0V0z\" fill=\"none\"/>\n",
              "    <path d=\"M18.56 5.44l.94 2.06.94-2.06 2.06-.94-2.06-.94-.94-2.06-.94 2.06-2.06.94zm-11 1L8.5 8.5l.94-2.06 2.06-.94-2.06-.94L8.5 2.5l-.94 2.06-2.06.94zm10 10l.94 2.06.94-2.06 2.06-.94-2.06-.94-.94-2.06-.94 2.06-2.06.94z\"/><path d=\"M17.41 7.96l-1.37-1.37c-.4-.4-.92-.59-1.43-.59-.52 0-1.04.2-1.43.59L10.3 9.45l-7.72 7.72c-.78.78-.78 2.05 0 2.83L4 21.41c.39.39.9.59 1.41.59.51 0 1.02-.2 1.41-.59l7.78-7.78 2.81-2.81c.8-.78.8-2.07 0-2.86zM5.41 20L4 18.59l7.72-7.72 1.47 1.35L5.41 20z\"/>\n",
              "  </svg>\n",
              "      </button>\n",
              "      \n",
              "  <style>\n",
              "    .colab-df-container {\n",
              "      display:flex;\n",
              "      flex-wrap:wrap;\n",
              "      gap: 12px;\n",
              "    }\n",
              "\n",
              "    .colab-df-convert {\n",
              "      background-color: #E8F0FE;\n",
              "      border: none;\n",
              "      border-radius: 50%;\n",
              "      cursor: pointer;\n",
              "      display: none;\n",
              "      fill: #1967D2;\n",
              "      height: 32px;\n",
              "      padding: 0 0 0 0;\n",
              "      width: 32px;\n",
              "    }\n",
              "\n",
              "    .colab-df-convert:hover {\n",
              "      background-color: #E2EBFA;\n",
              "      box-shadow: 0px 1px 2px rgba(60, 64, 67, 0.3), 0px 1px 3px 1px rgba(60, 64, 67, 0.15);\n",
              "      fill: #174EA6;\n",
              "    }\n",
              "\n",
              "    [theme=dark] .colab-df-convert {\n",
              "      background-color: #3B4455;\n",
              "      fill: #D2E3FC;\n",
              "    }\n",
              "\n",
              "    [theme=dark] .colab-df-convert:hover {\n",
              "      background-color: #434B5C;\n",
              "      box-shadow: 0px 1px 3px 1px rgba(0, 0, 0, 0.15);\n",
              "      filter: drop-shadow(0px 1px 2px rgba(0, 0, 0, 0.3));\n",
              "      fill: #FFFFFF;\n",
              "    }\n",
              "  </style>\n",
              "\n",
              "      <script>\n",
              "        const buttonEl =\n",
              "          document.querySelector('#df-cdd2da5e-299d-453b-a7d8-b1860ee55e34 button.colab-df-convert');\n",
              "        buttonEl.style.display =\n",
              "          google.colab.kernel.accessAllowed ? 'block' : 'none';\n",
              "\n",
              "        async function convertToInteractive(key) {\n",
              "          const element = document.querySelector('#df-cdd2da5e-299d-453b-a7d8-b1860ee55e34');\n",
              "          const dataTable =\n",
              "            await google.colab.kernel.invokeFunction('convertToInteractive',\n",
              "                                                     [key], {});\n",
              "          if (!dataTable) return;\n",
              "\n",
              "          const docLinkHtml = 'Like what you see? Visit the ' +\n",
              "            '<a target=\"_blank\" href=https://colab.research.google.com/notebooks/data_table.ipynb>data table notebook</a>'\n",
              "            + ' to learn more about interactive tables.';\n",
              "          element.innerHTML = '';\n",
              "          dataTable['output_type'] = 'display_data';\n",
              "          await google.colab.output.renderOutput(dataTable, element);\n",
              "          const docLink = document.createElement('div');\n",
              "          docLink.innerHTML = docLinkHtml;\n",
              "          element.appendChild(docLink);\n",
              "        }\n",
              "      </script>\n",
              "    </div>\n",
              "  </div>\n",
              "  "
            ]
          },
          "metadata": {},
          "execution_count": 7
        }
      ]
    },
    {
      "cell_type": "markdown",
      "source": [
        "## Modelo propuesto (40%)\n",
        "En esta subsección se debe describir la arquitectura de la red propuesta\n"
      ],
      "metadata": {
        "id": "mBfU8_PSyMp4"
      }
    },
    {
      "cell_type": "code",
      "source": [
        "# definición del modelo propuesto para la clasificación de textos"
      ],
      "metadata": {
        "id": "PfACJIY_y_YD"
      },
      "execution_count": null,
      "outputs": []
    },
    {
      "cell_type": "markdown",
      "source": [
        "## Entrenar el modelo (30%)\n",
        "Definir lo necesario para entrenar el modelo.\n",
        "\n",
        "Además se debe de evaluar el conjunto de validación\n",
        "\n",
        "Mostrar las evaluaciones (accuracy y loss) del conjunto de entrenamiento y validación por época o por cada cierto número de épocas"
      ],
      "metadata": {
        "id": "A6T5fN8Xy7_6"
      }
    },
    {
      "cell_type": "code",
      "source": [
        "# definir el entrenamiento del modelo propuesto"
      ],
      "metadata": {
        "id": "t7eAqsv_zaA9"
      },
      "execution_count": null,
      "outputs": []
    },
    {
      "cell_type": "markdown",
      "source": [
        "### Evaluar el conjunto de prueba\n",
        "Hacer la evaluación del conjunto de prueba.\n",
        "\n",
        "Mostrar las evaluaciones (accuracy y loss) por época o por cada cierto número de épocas"
      ],
      "metadata": {
        "id": "TpGJVejn5kJ7"
      }
    },
    {
      "cell_type": "markdown",
      "source": [
        "## Resultados (10%)\n",
        "Presentar las figuras con los resultados obtenidos de las exactitudes y perdidas del conjunto de entrenamiento y validación. Mostrar los resultados (pérdida y exactitud) de evaluar el conjunto de prueba con el modelo entrenado previamente\n",
        "\n",
        "Mostrar la tabla por cada una de las clases y las metrícas de `precision`, `recall` y `f1-score` (`classification_report` de la biblioteca `sklearn`)"
      ],
      "metadata": {
        "id": "iCK4bg3DzeqP"
      }
    },
    {
      "cell_type": "code",
      "source": [
        "# presentar gráficas de accuracy y loss de los tres conjuntos de datos"
      ],
      "metadata": {
        "id": "2fu09K-00-Kn"
      },
      "execution_count": null,
      "outputs": []
    },
    {
      "cell_type": "code",
      "source": [
        "# mostrar la tabla de resultados por clase"
      ],
      "metadata": {
        "id": "SRDOw1iy6uIs"
      },
      "execution_count": null,
      "outputs": []
    }
  ]
}