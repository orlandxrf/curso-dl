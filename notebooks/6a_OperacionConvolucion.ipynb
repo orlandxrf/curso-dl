{
  "nbformat": 4,
  "nbformat_minor": 0,
  "metadata": {
    "colab": {
      "name": "6a_OperacionConvolucion.ipynb",
      "provenance": [],
      "collapsed_sections": [],
      "authorship_tag": "ABX9TyMH+brtYXZwnFiojjQJq1T3",
      "include_colab_link": true
    },
    "kernelspec": {
      "name": "python3",
      "display_name": "Python 3"
    },
    "language_info": {
      "name": "python"
    }
  },
  "cells": [
    {
      "cell_type": "markdown",
      "metadata": {
        "id": "view-in-github",
        "colab_type": "text"
      },
      "source": [
        "<a href=\"https://colab.research.google.com/github/orlandxrf/curso-dl/blob/main/notebooks/6a_OperacionConvolucion.ipynb\" target=\"_parent\"><img src=\"https://colab.research.google.com/assets/colab-badge.svg\" alt=\"Open In Colab\"/></a>"
      ]
    },
    {
      "cell_type": "markdown",
      "source": [
        "# Operación de convolución 1D\n",
        "$(w * x)(i) = \\sum{_{a=0}} w_{a} \\cdot x_{(i+a)}$<br>\n",
        "<br>\n",
        "\n"
      ],
      "metadata": {
        "id": "5zyRpU3nWnwO"
      }
    },
    {
      "cell_type": "markdown",
      "source": [
        "## Convolución en 1D\n",
        "Para aplicar convolución 1D en una señal de entrada 2d, podemos hacer lo siguiente. Primero, definimos nuestro tensor de entrada del tamaño [1, 1, 7] donde `batch_size=1`, `input_channels=1` y `signal_length=7`.<br>\n",
        "<br>\n",
        "Dada la entrada $x = [0,1,2,3,4,5,6]$ y los pesos (kernel) $w = [1, 2]$ calcular la salida"
      ],
      "metadata": {
        "id": "NwYJBydMeXoG"
      }
    },
    {
      "cell_type": "markdown",
      "source": [
        "## Tamaño de la matriz resultante al aplicar la convolución\n",
        "$o = \\left( \\frac{i + 2 \\cdot p - k}{s} \\right) + 1$<br>\n",
        "<br>\n",
        "$o = $ es el tamaño de la matriz resultante de la operación convolución<br>\n",
        "$i = $ el tamaño de la entrada <br>\n",
        "$p = $ se refiere al relleno (padding) `default=0`<br>\n",
        "$k = $ el tamaño del kernel<br>\n",
        "$s = $ (stride) número de pixeles por los que se mueve la ventana `default=1`<br>\n",
        "<br>\n",
        "De los valores dados arriba, tenemos:<br>\n",
        "<br>\n",
        "$o = \\left( \\frac{7 + 2 \\cdot 0 - 2}{1} \\right) + 1 = \\frac{5}{1} + 1 = 6$<br>\n",
        "\n",
        "\n",
        "\n"
      ],
      "metadata": {
        "id": "MoX1lEm8ttsB"
      }
    },
    {
      "cell_type": "code",
      "execution_count": null,
      "metadata": {
        "colab": {
          "base_uri": "https://localhost:8080/"
        },
        "id": "hWfWDwk7WguQ",
        "outputId": "bc50927b-e320-422f-e4ca-9be2732eba80"
      },
      "outputs": [
        {
          "output_type": "stream",
          "name": "stdout",
          "text": [
            "x.shape:\ttorch.Size([7])\n",
            "x.shape:\ttorch.Size([1, 7])\n",
            "x.shape:\ttorch.Size([1, 1, 7])\n",
            "w.shape:\ttorch.Size([2])\n",
            "w.shape:\ttorch.Size([1, 1, 2])\n",
            "\n",
            "o.shape:\t torch.Size([1, 1, 6])\n",
            "out:\t tensor([ 2.,  5.,  8., 11., 14., 17.])\n",
            "Output = 6.0\n"
          ]
        }
      ],
      "source": [
        "import torch\n",
        "from torch import nn\n",
        "import torch.nn.functional as F \n",
        "\n",
        "x = torch.tensor([0, 1, 2, 3, 4, 5, 6], dtype=torch.float)\n",
        "w = torch.tensor([1, 2], dtype=torch.float)\n",
        "\n",
        "print (f\"x.shape:\\t{x.shape}\")\n",
        "x = x.unsqueeze(0)\n",
        "print (f\"x.shape:\\t{x.shape}\")\n",
        "x = x.unsqueeze(0)\n",
        "print (f\"x.shape:\\t{x.shape}\")\n",
        "\n",
        "print (f\"w.shape:\\t{w.shape}\")\n",
        "w = w.unsqueeze(0).unsqueeze(0)\n",
        "print (f\"w.shape:\\t{w.shape}\")\n",
        "\n",
        "o = F.conv1d(x, w)\n",
        "print (f\"\\no.shape:\\t {o.shape}\")\n",
        "print (f\"out:\\t {o.squeeze(0).squeeze(0)}\")\n",
        "\n",
        "\n",
        "output = ((7 + (2*0) - 2)/1) + 1\n",
        "print (f\"Output = {output}\")\n"
      ]
    },
    {
      "cell_type": "markdown",
      "source": [
        "## Convolución en 2D\n",
        "$(w * x)(i,j) = \\sum{_{a=0}} \\sum{_{b=0}} w_{a,b} \\cdot x_{(i+a),(j+b)}$<br>\n",
        "<br>\n",
        "Para aplicar convolución 2D en una señal de entrada 2D (por ejemplo, imágenes), podemos hacer lo siguiente. Primero, definimos nuestro tensor de entrada del tamaño $[1, 1, 3, 3]$ donde `batch_size=1`, `input_channels=1`, `input_height=3`, e `input_width=3`.<br>\n",
        "<br>\n",
        "Dada la entrada $x = [[0,1,2],[3,4,5],[6,7,8]]$ y los pesos (kernel) $w = [[0,1],[2,3]]$ calcular la operación de convolución de salida. "
      ],
      "metadata": {
        "id": "7BTw6q80icYB"
      }
    },
    {
      "cell_type": "markdown",
      "source": [
        "## Tamaño de la matriz resultante al aplicar la convolución 2D\n",
        "Dada la anterior ecuación:<br>\n",
        "<br>\n",
        "$o = \\left( \\frac{i + 2 \\cdot p - k}{s} \\right) + 1$<br>\n",
        "<br>\n",
        "$o = $ es el tamaño de la matriz resultante de la operación convolución<br>\n",
        "$i = $ el tamaño de la entrada <br>\n",
        "$p = $ se refiere al relleno (padding) `default=0`<br>\n",
        "$k = $ el tamaño del kernel<br>\n",
        "$s = $ (stride) número de pixeles por los que se mueve la ventana `default=1`<br>\n",
        "<br>\n",
        "$o_{height} = \\left( \\frac{3 + 2 \\cdot 0 - 2}{1} \\right) + 1 = 2$<br>\n",
        "<br>\n",
        "$o_{width} = \\left( \\frac{3 + 2 \\cdot 0 - 2}{1} \\right) + 1 = 2$<br>\n",
        "<br>\n",
        "Resultado ($o_{height}$ x $o_{width}$) = ($2$ x $2$)\n",
        "\n",
        "\n",
        "\n",
        "\n"
      ],
      "metadata": {
        "id": "HEgRc7RDBC6e"
      }
    },
    {
      "cell_type": "code",
      "execution_count": null,
      "metadata": {
        "colab": {
          "base_uri": "https://localhost:8080/"
        },
        "outputId": "43e18e22-5624-46cb-ba2e-7433bed4bb6f",
        "id": "16AQOqh2ifLe"
      },
      "outputs": [
        {
          "output_type": "stream",
          "name": "stdout",
          "text": [
            "x.shape:\t torch.Size([3, 3])\n",
            "w.shape:\t torch.Size([2, 2])\n",
            "x.shape:\t torch.Size([1, 1, 3, 3])\n",
            "w.shape:\t torch.Size([1, 1, 2, 2])\n",
            "\n",
            "o.shape:\t torch.Size([1, 1, 2, 2])\n",
            "\n",
            "out:\t tensor([[19., 25.],\n",
            "        [37., 43.]])\n"
          ]
        }
      ],
      "source": [
        "import torch\n",
        "from torch import nn\n",
        "import torch.nn.functional as F \n",
        "\n",
        "x = torch.tensor([\n",
        "  [0,1,2],\n",
        "  [3,4,5],\n",
        "  [6,7,8]\n",
        "], dtype=torch.float)\n",
        "\n",
        "w = torch.tensor([\n",
        "  [0,1],\n",
        "  [2,3]\n",
        "], dtype=torch.float)\n",
        "\n",
        "print (f\"x.shape:\\t {x.shape}\")\n",
        "print (f\"w.shape:\\t {w.shape}\")\n",
        "\n",
        "# (in_channels, out_channels, kernel_size, stride=1, padding=0)\n",
        "x = x.unsqueeze(0).unsqueeze(0)\n",
        "w = w.unsqueeze(0).unsqueeze(0)\n",
        "\n",
        "print (f\"x.shape:\\t {x.shape}\")\n",
        "print (f\"w.shape:\\t {w.shape}\")\n",
        "\n",
        "o = F.conv2d(x, w)\n",
        "print (f\"\\no.shape:\\t {o.shape}\")\n",
        "print (f\"\\nout:\\t {o.squeeze(0).squeeze(0)}\")\n"
      ]
    }
  ]
}