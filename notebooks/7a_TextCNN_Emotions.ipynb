{
  "nbformat": 4,
  "nbformat_minor": 0,
  "metadata": {
    "colab": {
      "name": "7a_TextCNN_Emotions.ipynb",
      "provenance": [],
      "collapsed_sections": [],
      "authorship_tag": "ABX9TyOsE+yR9pwIY6lwJ8miC8zY",
      "include_colab_link": true
    },
    "kernelspec": {
      "name": "python3",
      "display_name": "Python 3"
    },
    "language_info": {
      "name": "python"
    }
  },
  "cells": [
    {
      "cell_type": "markdown",
      "metadata": {
        "id": "view-in-github",
        "colab_type": "text"
      },
      "source": [
        "<a href=\"https://colab.research.google.com/github/orlandxrf/curso-dl/blob/main/notebooks/7a_TextCNN_Emotions.ipynb\" target=\"_parent\"><img src=\"https://colab.research.google.com/assets/colab-badge.svg\" alt=\"Open In Colab\"/></a>"
      ]
    },
    {
      "cell_type": "markdown",
      "source": [
        "# Red Neuronal Convolucional\n",
        "Dado el conjunto de datos se desarrollará una CNN con una red densa para clasificar sentimientos"
      ],
      "metadata": {
        "id": "_hTucKJsYfEs"
      }
    },
    {
      "cell_type": "code",
      "execution_count": 33,
      "metadata": {
        "id": "1nG0PAy0YYhC"
      },
      "outputs": [],
      "source": [
        "# establecer parametros para almacenar y cargar el conjunto de datos del repositorio de Github\n",
        "import os\n",
        "\n",
        "URL = 'https://raw.githubusercontent.com/orlandxrf/curso-dl/main/data/text_emotion.csv'\n",
        "data_folder = 'data'\n",
        "filepath = os.path.join(data_folder, 'text_emotion.csv')"
      ]
    },
    {
      "cell_type": "markdown",
      "source": [
        "### Cargar el conjunto de datos"
      ],
      "metadata": {
        "id": "4or9B-3jajl_"
      }
    },
    {
      "cell_type": "code",
      "source": [
        "# crear carpeta para almacenar el conjunto de datos\n",
        "! mkdir {data_folder}\n",
        "# descargar conjunto de datos y alamcenar\n",
        "! wget -nc {URL} -O {filepath}"
      ],
      "metadata": {
        "colab": {
          "base_uri": "https://localhost:8080/"
        },
        "id": "Sll0mlf_aszv",
        "outputId": "c1bf30d2-4c38-450c-e430-0325f4ba73da"
      },
      "execution_count": 34,
      "outputs": [
        {
          "output_type": "stream",
          "name": "stdout",
          "text": [
            "mkdir: cannot create directory ‘data’: File exists\n",
            "File ‘data/text_emotion.csv’ already there; not retrieving.\n"
          ]
        }
      ]
    },
    {
      "cell_type": "code",
      "source": [
        "# comprobrar\n",
        "! ls -lh data/*"
      ],
      "metadata": {
        "colab": {
          "base_uri": "https://localhost:8080/"
        },
        "id": "_aV8rUjwbbBO",
        "outputId": "760146c5-70bb-4e6a-afc0-9176dc9d0c15"
      },
      "execution_count": 35,
      "outputs": [
        {
          "output_type": "stream",
          "name": "stdout",
          "text": [
            "-rw-r--r-- 1 root root 4.2M Feb 26 01:47 data/text_emotion.csv\n"
          ]
        }
      ]
    },
    {
      "cell_type": "markdown",
      "source": [
        "# Analizar conjunto de datos"
      ],
      "metadata": {
        "id": "fbNBV1eaXjZr"
      }
    },
    {
      "cell_type": "code",
      "source": [
        "import pandas as pd\n",
        "\n",
        "df = pd.read_csv('data/text_emotion.csv')\n",
        "\n",
        "# eliminar columnas 'tweet_id' y 'author'\n",
        "df.drop('tweet_id',axis=1,inplace=True)\n",
        "df.drop('author',axis=1,inplace=True)\n",
        "print (df.head(10))\n",
        "print (f\"Longitud de tweets: {len(df):,}\")"
      ],
      "metadata": {
        "colab": {
          "base_uri": "https://localhost:8080/"
        },
        "id": "pijhdpXRXnAs",
        "outputId": "e8404027-6e2b-43b0-b422-e98dc63cc75d"
      },
      "execution_count": 36,
      "outputs": [
        {
          "output_type": "stream",
          "name": "stdout",
          "text": [
            "    sentiment                                            content\n",
            "0       empty  @tiffanylue i know  i was listenin to bad habi...\n",
            "1     sadness  Layin n bed with a headache  ughhhh...waitin o...\n",
            "2     sadness                Funeral ceremony...gloomy friday...\n",
            "3  enthusiasm               wants to hang out with friends SOON!\n",
            "4     neutral  @dannycastillo We want to trade with someone w...\n",
            "5       worry  Re-pinging @ghostridah14: why didn't you go to...\n",
            "6     sadness  I should be sleep, but im not! thinking about ...\n",
            "7       worry               Hmmm. http://www.djhero.com/ is down\n",
            "8     sadness            @charviray Charlene my love. I miss you\n",
            "9     sadness         @kelcouch I'm sorry  at least it's Friday?\n",
            "Longitud de tweets: 40,000\n"
          ]
        }
      ]
    },
    {
      "cell_type": "code",
      "source": [
        "import matplotlib.pyplot as plt\n",
        "\n",
        "sentiments = dict(pd.value_counts(df['sentiment']))\n",
        "classes = list(sentiments.keys())\n",
        "for i, sent in enumerate(sentiments):\n",
        "  print (f\"{i+1}\\t{sentiments[sent]}\\t{sent}\")\n",
        "print (f\"\\n{len(df):,} tweets\")\n",
        "\n",
        "# Graficar la distribución\n",
        "plt.figure(figsize=(10, 5))\n",
        "pd.value_counts(df['sentiment']).plot.bar(title=\"Distribución de sentimientos\")\n",
        "plt.xlabel(\"Sentimiento\", fontsize=\"15\")\n",
        "plt.ylabel(\"Tweets\", fontsize=\"15\")\n",
        "plt.xticks(rotation=45, fontsize=\"15\")\n",
        "plt.yticks(fontsize=\"15\")\n",
        "plt.show()"
      ],
      "metadata": {
        "colab": {
          "base_uri": "https://localhost:8080/",
          "height": 677
        },
        "id": "rJifibVZYINg",
        "outputId": "96dffce3-ac95-408d-de09-ebddf15f0e70"
      },
      "execution_count": 37,
      "outputs": [
        {
          "output_type": "stream",
          "name": "stdout",
          "text": [
            "1\t8638\tneutral\n",
            "2\t8459\tworry\n",
            "3\t5209\thappiness\n",
            "4\t5165\tsadness\n",
            "5\t3842\tlove\n",
            "6\t2187\tsurprise\n",
            "7\t1776\tfun\n",
            "8\t1526\trelief\n",
            "9\t1323\thate\n",
            "10\t827\tempty\n",
            "11\t759\tenthusiasm\n",
            "12\t179\tboredom\n",
            "13\t110\tanger\n",
            "\n",
            "40,000 tweets\n"
          ]
        },
        {
          "output_type": "display_data",
          "data": {
            "image/png": "[encoded data removed]",
            "text/plain": [
              "<Figure size 720x360 with 1 Axes>"
            ]
          },
          "metadata": {
            "needs_background": "light"
          }
        }
      ]
    },
    {
      "cell_type": "markdown",
      "source": [
        "# Preprocesamiento de los datos"
      ],
      "metadata": {
        "id": "MGucn7IxiJZy"
      }
    },
    {
      "cell_type": "code",
      "source": [
        "# preprocesamiento\n",
        "\n",
        "def limpiar_tweets(text):\n",
        "    import re  \n",
        "    # elimina usuarios y URLS\n",
        "    text = ' '.join(re.sub(\"(@[A-Za-z0-9]+)|([^0-9A-Za-z \\t])|(\\w+:\\/\\/\\S+)\",\" \",text).split())\n",
        "    # elimina múltiples espacios en blanco\n",
        "    text = re.sub(r' +', ' ', text)\n",
        "    # elimina el salto de línea\n",
        "    text = re.sub(r'\\n', ' ', text)\n",
        "    return text.lower()\n",
        "\n",
        "clean_df = df.copy()\n",
        "clean_df['content'] = df.apply(lambda row : limpiar_tweets(row['content']), axis=1)\n",
        "\n",
        "print (df.head(10))\n",
        "print('\\nNormalized:')\n",
        "print(clean_df.head(10))\n",
        "\n",
        "print (f\"Tweets limpios: {len(clean_df):,}\")\n",
        "\n",
        "# removes nan y tweets duplicados\n",
        "clean_df = clean_df.dropna().drop_duplicates()\n",
        "print (f\"Despues de remover tweets nan y duplicados: {len(clean_df):,}\")\n",
        "\n",
        "for index, row in clean_df.iterrows():\n",
        "  if row['content'].strip() == \"\":\n",
        "    print (f\"index: {index}\\tclase: {row['sentiment']}\\ttweet: {row['content']}\")\n",
        "    clean_df.drop([index], inplace = True )\n",
        "  elif len(row['content'].split()) < 5: # eliminar tweets menores a 5 palabras\n",
        "    clean_df.drop([index], inplace = True )\n",
        "print (f\"Despues de remover tweets vacíos: {len(clean_df):,}\")\n",
        "\n",
        "print (\"\\nTWEETS DESPUES DE LA LIMPIEZA\")\n",
        "sentiments = dict(pd.value_counts(clean_df['sentiment']))\n",
        "classes = list(sentiments.keys())\n",
        "for i, sent in enumerate(sentiments):\n",
        "  print (f\"{i+1}\\t{sentiments[sent]}\\t{sent}\")\n",
        "print (f\"\\n{len(clean_df):,} tweets\")\n",
        "\n"
      ],
      "metadata": {
        "id": "HoS4-zFPiVSF",
        "colab": {
          "base_uri": "https://localhost:8080/"
        },
        "outputId": "906c4112-3bb2-49c0-9419-44a4565a1e80"
      },
      "execution_count": 38,
      "outputs": [
        {
          "output_type": "stream",
          "name": "stdout",
          "text": [
            "    sentiment                                            content\n",
            "0       empty  @tiffanylue i know  i was listenin to bad habi...\n",
            "1     sadness  Layin n bed with a headache  ughhhh...waitin o...\n",
            "2     sadness                Funeral ceremony...gloomy friday...\n",
            "3  enthusiasm               wants to hang out with friends SOON!\n",
            "4     neutral  @dannycastillo We want to trade with someone w...\n",
            "5       worry  Re-pinging @ghostridah14: why didn't you go to...\n",
            "6     sadness  I should be sleep, but im not! thinking about ...\n",
            "7       worry               Hmmm. http://www.djhero.com/ is down\n",
            "8     sadness            @charviray Charlene my love. I miss you\n",
            "9     sadness         @kelcouch I'm sorry  at least it's Friday?\n",
            "\n",
            "Normalized:\n",
            "    sentiment                                            content\n",
            "0       empty  i know i was listenin to bad habit earlier and...\n",
            "1     sadness  layin n bed with a headache ughhhh waitin on y...\n",
            "2     sadness                     funeral ceremony gloomy friday\n",
            "3  enthusiasm                wants to hang out with friends soon\n",
            "4     neutral  we want to trade with someone who has houston ...\n",
            "5       worry  re pinging why didn t you go to prom bc my bf ...\n",
            "6     sadness  i should be sleep but im not thinking about an...\n",
            "7       worry                                       hmmm is down\n",
            "8     sadness                        charlene my love i miss you\n",
            "9     sadness                     i m sorry at least it s friday\n",
            "Tweets limpios: 40,000\n",
            "Despues de remover tweets nan y duplicados: 39,437\n",
            "index: 664\tclase: neutral\ttweet: \n",
            "index: 2621\tclase: surprise\ttweet: \n",
            "index: 5230\tclase: empty\ttweet: \n",
            "index: 8707\tclase: worry\ttweet: \n",
            "index: 11289\tclase: sadness\ttweet: \n",
            "index: 27122\tclase: love\ttweet: \n",
            "index: 30380\tclase: happiness\ttweet: \n",
            "Despues de remover tweets vacíos: 35,433\n",
            "\n",
            "TWEETS DESPUES DE LA LIMPIEZA\n",
            "1\t7802\tworry\n",
            "2\t6948\tneutral\n",
            "3\t4735\tsadness\n",
            "4\t4659\thappiness\n",
            "5\t3396\tlove\n",
            "6\t1987\tsurprise\n",
            "7\t1682\tfun\n",
            "8\t1387\trelief\n",
            "9\t1217\thate\n",
            "10\t686\tenthusiasm\n",
            "11\t667\tempty\n",
            "12\t163\tboredom\n",
            "13\t104\tanger\n",
            "\n",
            "35,433 tweets\n"
          ]
        }
      ]
    },
    {
      "cell_type": "markdown",
      "source": [
        "# Preparar el conjunto de datos"
      ],
      "metadata": {
        "id": "gkGtFaPdlucE"
      }
    },
    {
      "cell_type": "code",
      "source": [
        "# obtener diccionario de clases (Y)\n",
        "# sentiments = df_filtered['sentiment'].to_dict()\n",
        "sentiments = clean_df['sentiment'].to_dict()\n",
        "\n",
        "labels = list(set(sentiments.values()))\n",
        "labels.sort()\n",
        "print (labels)\n",
        "\n",
        "label2idx = {label:i for i, label in enumerate(labels)}\n",
        "idx2label = {label2idx[lbl] : lbl for lbl in label2idx}\n",
        "\n",
        "print (f\"label2idx= {label2idx}\")\n",
        "print (f\"idx2label= {idx2label}\")\n",
        "\n",
        "print (f\"Número de etiquetas (clases): {len(label2idx):,}\")"
      ],
      "metadata": {
        "colab": {
          "base_uri": "https://localhost:8080/"
        },
        "id": "8Kh0nPySl2WQ",
        "outputId": "39c7a0a6-7831-4e00-c6c0-2a4e277ba4fa"
      },
      "execution_count": 39,
      "outputs": [
        {
          "output_type": "stream",
          "name": "stdout",
          "text": [
            "['anger', 'boredom', 'empty', 'enthusiasm', 'fun', 'happiness', 'hate', 'love', 'neutral', 'relief', 'sadness', 'surprise', 'worry']\n",
            "label2idx= {'anger': 0, 'boredom': 1, 'empty': 2, 'enthusiasm': 3, 'fun': 4, 'happiness': 5, 'hate': 6, 'love': 7, 'neutral': 8, 'relief': 9, 'sadness': 10, 'surprise': 11, 'worry': 12}\n",
            "idx2label= {0: 'anger', 1: 'boredom', 2: 'empty', 3: 'enthusiasm', 4: 'fun', 5: 'happiness', 6: 'hate', 7: 'love', 8: 'neutral', 9: 'relief', 10: 'sadness', 11: 'surprise', 12: 'worry'}\n",
            "Número de etiquetas (clases): 13\n"
          ]
        }
      ]
    },
    {
      "cell_type": "code",
      "source": [
        "# obtener diccionario de tweets (X)\n",
        "# tweets = df_filtered['content'].to_list()\n",
        "tweets = clean_df['content'].to_list()\n",
        "\n",
        "tokens = set({token.lower() for tweet in tweets for token in tweet.split()})\n",
        "tokens2idx = {'pad': 0, 'unk': 1} # definir 'PAD': para rellenar tweets y 'UNK' para palabras fuera del vocabulario\n",
        "for i, token in enumerate(tokens):\n",
        "  if token not in tokens2idx:\n",
        "    tokens2idx.update({token : i+2 })\n",
        "# print (tokens2idx)\n",
        "print (f\"Longitud del vocabulario: {len(tokens2idx):,}\")\n",
        "\n",
        "max_tweet_length = 0\n",
        "min_tweet_length = 100\n",
        "\n",
        "X, Y = [], []\n",
        "count_length_lower_tweets = []\n",
        "\n",
        "# for index, row in df_filtered.iterrows():\n",
        "for index, row in clean_df.iterrows():\n",
        "\n",
        "  # reemplazar la etiqueta (sentiment) por su id en el conjunto de datos\n",
        "  label = row['sentiment']\n",
        "  # df_filtered.at[index, 'sentiment'] = label2idx[label]\n",
        "  Y.append(label2idx[label])\n",
        "\n",
        "  # obtener la longitud máxima y mínima del tweet\n",
        "  if len(row['content'].split()) > max_tweet_length: max_tweet_length = len(row['content'].split())\n",
        "  if len(row['content'].split()) < min_tweet_length:\n",
        "    min_tweet_length = len(row['content'].split())\n",
        "    print (f\"{index}\\t{row['sentiment']}\\t{row['content']}\")\n",
        "\n",
        "print (f\"Tweet con la longitud máxima: {max_tweet_length:,}\")\n",
        "print (f\"Tweet con la longitud mínima: {min_tweet_length:,}\")\n",
        "# print (f\"Tweet de longitud cero: {len(count_length_lower_tweets):,}\")\n",
        "\n",
        "\n",
        "# for index, row in df_filtered.iterrows():\n",
        "for index, row in clean_df.iterrows():\n",
        "\n",
        "  # reemplazar token en el tweet\n",
        "  idx2token = [tokens2idx[token] for token in row['content'].lower().split()]\n",
        "\n",
        "  # verificar si el tweet actual cuenta con la longitud máxima\n",
        "  if len(idx2token) < max_tweet_length:\n",
        "    n_padding = max_tweet_length - len(idx2token)\n",
        "    idx2token += [tokens2idx['pad']] * n_padding # rellenar tweet\n",
        "\n",
        "  X.append(idx2token)\n",
        "\n",
        "print (f\"Longitud X: {len(X)}\")\n",
        "print (f\"Longitud Y: {len(Y)}\")\n"
      ],
      "metadata": {
        "colab": {
          "base_uri": "https://localhost:8080/"
        },
        "id": "_3pT9Jt3mFLD",
        "outputId": "e301f479-ce72-47a3-a194-4fad20e4a3b7"
      },
      "execution_count": 53,
      "outputs": [
        {
          "output_type": "stream",
          "name": "stdout",
          "text": [
            "Longitud del vocabulario: 29,942\n",
            "0\tempty\ti know i was listenin to bad habit earlier and i started freakin at his part\n",
            "1\tsadness\tlayin n bed with a headache ughhhh waitin on your call\n",
            "3\tenthusiasm\twants to hang out with friends soon\n",
            "8\tsadness\tcharlene my love i miss you\n",
            "37\tworry\ti need skott right now\n",
            "Tweet con la longitud máxima: 40\n",
            "Tweet con la longitud mínima: 5\n",
            "Longitud X: 35433\n",
            "Longitud Y: 35433\n"
          ]
        }
      ]
    },
    {
      "cell_type": "markdown",
      "source": [
        "# Embeddings\n",
        "Obtener representaciones vectoriales de alguno de los siguientes repositorios:<br>\n",
        "*   [GloVe](https://nlp.stanford.edu/projects/glove/)\n",
        "*   [FasText](https://fasttext.cc/)\n",
        "*   [Word2vec](https://code.google.com/archive/p/word2vec/)\n",
        "\n",
        "En este caso se usará GloVE `glove.6B.50d` con la ayuda de la biblioteca de Python `torchtext`"
      ],
      "metadata": {
        "id": "4OQz0TrsFBUd"
      }
    },
    {
      "cell_type": "markdown",
      "source": [
        "## Crear matriz de embeddings\n",
        "Definir una matriz con ceros del tamaño de nuestro vocalurio y con la logitud de los embeddings seleccionados.\n"
      ],
      "metadata": {
        "id": "RU6F1DO-kGJc"
      }
    },
    {
      "cell_type": "code",
      "source": [
        "import numpy as np\n",
        "import torch\n",
        "\n",
        "emb_dim = 100 # es la longitud de los embbeddins seleccionados\n"
      ],
      "metadata": {
        "id": "tam7gMvqkVLD"
      },
      "execution_count": 41,
      "outputs": []
    },
    {
      "cell_type": "markdown",
      "source": [
        "# Dividir el conjunto de datos en Train y Test"
      ],
      "metadata": {
        "id": "rrVhz0AYiOOD"
      }
    },
    {
      "cell_type": "code",
      "source": [
        "import numpy as np\n",
        "\n",
        "# preparar el conjunto de datos\n",
        "Y = np.array(Y, dtype=\"float32\")[:, np.newaxis]\n",
        "print (f\"Shape Y:\\t{Y.shape}\")\n",
        "# print (Y)\n",
        "\n",
        "X = np.array(X, dtype=\"float32\")\n",
        "print (f\"\\nShape X:\\t{X.shape}\")\n",
        "# print (X)\n"
      ],
      "metadata": {
        "colab": {
          "base_uri": "https://localhost:8080/"
        },
        "id": "yqHc_mmB3Bc_",
        "outputId": "31b076c6-33c2-46cd-a664-bf2a24e8320c"
      },
      "execution_count": 42,
      "outputs": [
        {
          "output_type": "stream",
          "name": "stdout",
          "text": [
            "Shape Y:\t(35433, 1)\n",
            "\n",
            "Shape X:\t(35433, 40)\n"
          ]
        }
      ]
    },
    {
      "cell_type": "code",
      "source": [
        "# dividir el conjunto de entrenamiento en Train and Test\n",
        "from sklearn.model_selection import train_test_split\n",
        "\n",
        "X_train, X_test, Y_train, Y_test = train_test_split(X, Y, test_size=0.30, stratify=Y, random_state=41)\n",
        "X_test, X_valid, Y_test, Y_valid = train_test_split(X_test, Y_test, test_size=0.30, stratify=Y_test, random_state=41)\n",
        "\n",
        "print(f\"X_train.shape, Y_train.shape: {X_train.shape}, {Y_train.shape}\")\n",
        "print(f\"X_val.shape, Y_val.shape: {X_valid.shape}, {Y_valid.shape}\")\n",
        "print(f\"X_test.shape, Y_test.shape: {X_test.shape}, {Y_test.shape}\")\n",
        "\n"
      ],
      "metadata": {
        "colab": {
          "base_uri": "https://localhost:8080/"
        },
        "id": "r_vXnHDFFozd",
        "outputId": "1df80bf6-ae9a-4a07-8001-ac2a3cdcf6de"
      },
      "execution_count": 43,
      "outputs": [
        {
          "output_type": "stream",
          "name": "stdout",
          "text": [
            "X_train.shape, Y_train.shape: (24803, 40), (24803, 1)\n",
            "X_val.shape, Y_val.shape: (3189, 40), (3189, 1)\n",
            "X_test.shape, Y_test.shape: (7441, 40), (7441, 1)\n"
          ]
        }
      ]
    },
    {
      "cell_type": "markdown",
      "source": [
        "### TensorDataset y DataLoader"
      ],
      "metadata": {
        "id": "loL-mhywFlhb"
      }
    },
    {
      "cell_type": "code",
      "source": [
        "import torch\n",
        "from torch.utils.data import DataLoader, TensorDataset\n",
        "\n",
        "# crear los tensores del conjunto de datos\n",
        "train = TensorDataset(torch.tensor(X_train), torch.tensor(Y_train))\n",
        "valid = TensorDataset(torch.tensor(X_valid), torch.tensor(Y_valid))\n",
        "test = TensorDataset(torch.tensor(X_test), torch.tensor(Y_test))\n",
        "\n",
        "# print (train[0])\n",
        "# print (valid[0])\n",
        "# print (test[0])\n",
        "\n",
        "batch_size = 64\n",
        "\n",
        "# crear los cargadores del conjunto de datos\n",
        "trainloader = DataLoader(train, batch_size=batch_size, shuffle=True)\n",
        "validloader = DataLoader(valid, batch_size=batch_size, shuffle=True)\n",
        "testloader = DataLoader(test, batch_size=batch_size, shuffle=True)\n",
        "\n"
      ],
      "metadata": {
        "id": "drz5nq8jETxa"
      },
      "execution_count": 44,
      "outputs": []
    },
    {
      "cell_type": "markdown",
      "source": [
        "# Definir bibliotecas pytorch\n",
        "Definimos la importación de la bibliotecas necesarias"
      ],
      "metadata": {
        "id": "06v7o_XEUhlc"
      }
    },
    {
      "cell_type": "code",
      "source": [
        "import torch.nn as nn\n",
        "import torch.nn.functional as F\n",
        "import torch.optim as optim\n"
      ],
      "metadata": {
        "id": "Cj2as1JWVVJu"
      },
      "execution_count": 45,
      "outputs": []
    },
    {
      "cell_type": "markdown",
      "source": [
        "## Crear capa de Embeddings\n",
        "Definir una capa para los embeddings mediante una función"
      ],
      "metadata": {
        "id": "2evI2KHvng9j"
      }
    },
    {
      "cell_type": "markdown",
      "source": [
        "# Definir el modelo de la TextCNN\n"
      ],
      "metadata": {
        "id": "Xy8Y73ALSCXh"
      }
    },
    {
      "cell_type": "code",
      "source": [
        "class CNN_Text(nn.Module):\n",
        "    ''' Define network architecture and forward path. '''\n",
        "    def __init__(self, vocab_size, vector_size, n_filters, filter_sizes, output_dim, dropout, pad_idx):\n",
        "        \n",
        "        super().__init__()\n",
        "        \n",
        "        # definir la capa de embeddings\n",
        "        self.embedding = nn.Embedding(vocab_size+1, vector_size)\n",
        "        \n",
        "        # definir capas de convolución\n",
        "        # torch.nn.Conv1d(in_channels, out_channels, kernel_size, stride=1, padding=0)\n",
        "        self.convs = nn.ModuleList([nn.Conv1d(in_channels = 1, \n",
        "                                  out_channels = n_filters, \n",
        "                                  kernel_size = (fs, vector_size)) \n",
        "                                    for fs in filter_sizes])\n",
        "        \n",
        "        self.linear1 = nn.Linear(len(filter_sizes) * n_filters, 100)\n",
        "\n",
        "        self.activation = nn.ReLU()\n",
        "\n",
        "        self.linear2 = nn.Linear(100, 100)\n",
        "\n",
        "        self.linear3 = nn.Linear(100, output_dim)\n",
        "        \n",
        "        self.dropout = nn.Dropout(dropout)\n",
        "        \n",
        "    def forward(self, text):\n",
        "\n",
        "      embedded = self.embedding(text).unsqueeze(1)\n",
        "      \n",
        "      conved = [F.relu(conv(embedded)).squeeze(3) for conv in self.convs]\n",
        "\n",
        "      pooled = [F.max_pool1d(conv, conv.shape[2]).squeeze(2) for conv in conved]\n",
        "\n",
        "      cat = self.dropout(torch.cat(pooled, dim=1))\n",
        "\n",
        "      out = self.linear1(cat)\n",
        "      out = self.activation(out)\n",
        "\n",
        "      out = self.linear2(out)\n",
        "      out = self.activation(out)\n",
        "\n",
        "      return self.linear3(out)"
      ],
      "metadata": {
        "id": "WErc16Y2qtEC"
      },
      "execution_count": 46,
      "outputs": []
    },
    {
      "cell_type": "code",
      "source": [
        "vocab_size = len(tokens2idx)\n",
        "# emb_dim = definida arriba, para los embeddings\n",
        "n_filters = 100\n",
        "filter_sizes = [1,2,3]\n",
        "output_dim = len(label2idx)\n",
        "dropout = 0.3\n",
        "\n",
        "# --------------------------------------------------------------\n",
        "PAD_IDX = 0 # definir el token para rellenar \"<pad>\"\n",
        "\n",
        "model = CNN_Text(vocab_size, emb_dim, n_filters, filter_sizes, output_dim, dropout, PAD_IDX)\n",
        "\n",
        "model.embedding.weight.data[PAD_IDX] = torch.zeros(emb_dim)\n",
        "# --------------------------------------------------------------\n",
        "\n",
        "print (model)"
      ],
      "metadata": {
        "colab": {
          "base_uri": "https://localhost:8080/"
        },
        "id": "KQ4PoK2RA8F8",
        "outputId": "c137c057-9bed-44e6-f0c4-305430cbdeb3"
      },
      "execution_count": 47,
      "outputs": [
        {
          "output_type": "stream",
          "name": "stdout",
          "text": [
            "CNN_Text(\n",
            "  (embedding): Embedding(29943, 100)\n",
            "  (convs): ModuleList(\n",
            "    (0): Conv1d(1, 100, kernel_size=(1, 100), stride=(1,))\n",
            "    (1): Conv1d(1, 100, kernel_size=(2, 100), stride=(1,))\n",
            "    (2): Conv1d(1, 100, kernel_size=(3, 100), stride=(1,))\n",
            "  )\n",
            "  (linear1): Linear(in_features=300, out_features=100, bias=True)\n",
            "  (activation): ReLU()\n",
            "  (linear2): Linear(in_features=100, out_features=100, bias=True)\n",
            "  (linear3): Linear(in_features=100, out_features=13, bias=True)\n",
            "  (dropout): Dropout(p=0.3, inplace=False)\n",
            ")\n"
          ]
        }
      ]
    },
    {
      "cell_type": "markdown",
      "source": [
        "# Entrenamiento de la TextCNN"
      ],
      "metadata": {
        "id": "kUFCVrdICjUQ"
      }
    },
    {
      "cell_type": "markdown",
      "source": [
        "## Funciones para el entrenamiento"
      ],
      "metadata": {
        "id": "K-ng8dXFFv6j"
      }
    },
    {
      "cell_type": "code",
      "source": [
        "# definir funciones para utilizar en el entrenamiento y evaluación\n",
        "def accuracy(preds, y):\n",
        "    \"\"\"Retorna el accuracy por batch\"\"\"\n",
        "    correct = (torch.round(torch.sigmoid(preds)) == y).float() # usar sigmoid para la evaluación\n",
        "    # correct = (torch.round(F.softmax(preds)) == y).float() # usar softmax para la evaluación\n",
        "    # correct = [1 for i, j in zip(torch.argmax(y, dim=1), y) if i == j] # elegir el argumento máximo\n",
        "    return correct.sum() / len(correct)\n",
        "\n",
        "def epoch_time(start_time, end_time):\n",
        "    \"\"\"Obtener el tiempo en minutos y segundos\"\"\"\n",
        "    elapsed_time = end_time - start_time\n",
        "    elapsed_mins = int(elapsed_time / 60)\n",
        "    elapsed_secs = int(elapsed_time - (elapsed_mins * 60))\n",
        "    return elapsed_mins, elapsed_secs"
      ],
      "metadata": {
        "id": "_4pX_UeozMGx"
      },
      "execution_count": 48,
      "outputs": []
    },
    {
      "cell_type": "code",
      "source": [
        "# función del entrenamieto\n",
        "def train(model, iterator, optimizer, loss_function):\n",
        "    \"\"\"\n",
        "    Entrenar el modelo, recibe el conjunto de datos (iterator), optimizador, y la función de pérdida\n",
        "    Retorna el loss y el accuracy\n",
        "    \"\"\"\n",
        "    epoch_loss = 0\n",
        "    epoch_acc = 0\n",
        "    \n",
        "    model.train()\n",
        "    \n",
        "    for x_text, y_label in iterator:\n",
        "\n",
        "        x_text = torch.tensor(x_text.clone().detach(), dtype=torch.long)\n",
        "        y_label = torch.tensor(y_label.clone().detach(), dtype=torch.long)\n",
        "        \n",
        "        # restablecer el gradiente\n",
        "        optimizer.zero_grad()\n",
        "        \n",
        "        # obtener las predicciones del batch en proceso\n",
        "        predictions = model(x_text).squeeze(1)\n",
        "        \n",
        "        target = torch.tensor(y_label.squeeze(1), dtype=torch.long).clone().detach()\n",
        "        # obtener la pérdida \n",
        "        loss = loss_function(predictions, target)\n",
        "        \n",
        "        # calcular el accuracy\n",
        "        acc = accuracy(predictions, y_label)\n",
        "        \n",
        "        # Backpropagation\n",
        "        loss.backward()\n",
        "        \n",
        "        # Actualizar (optimizar) los pesos\n",
        "        optimizer.step()\n",
        "        \n",
        "        # Almacenar loss y accuracy\n",
        "        epoch_loss += loss.item()\n",
        "        epoch_acc += acc.item()\n",
        "        \n",
        "    return epoch_loss / len(iterator), epoch_acc / len(iterator)\n",
        "\n",
        "\n",
        "def evaluate(model, iterator, loss_function):\n",
        "    \"\"\"\n",
        "    Evaluar el conjunto de validación y/o el conjunto de prueba\n",
        "    Retorna el loss y accuracy\n",
        "    \"\"\"\n",
        "    epoch_loss = 0\n",
        "    epoch_acc = 0\n",
        "    \n",
        "    # indicar la evaluación del modelo\n",
        "    model.eval()\n",
        "    \n",
        "    # No utilizar cálculos del gradiente\n",
        "    with torch.no_grad():\n",
        "    \n",
        "        for x_text, y_label in iterator:\n",
        "\n",
        "            x_text = torch.tensor(x_text, dtype=torch.long).clone().detach()\n",
        "            y_label = torch.tensor(y_label, dtype=torch.long).clone().detach()\n",
        "\n",
        "            predictions = model(x_text).squeeze(1)\n",
        "            target = torch.tensor(y_label.squeeze(1), dtype=torch.long).clone().detach()\n",
        "            \n",
        "            loss = loss_function(predictions, target)\n",
        "            \n",
        "            acc = accuracy(predictions, y_label)\n",
        "\n",
        "            epoch_loss += loss.item()\n",
        "            epoch_acc += acc.item()\n",
        "        \n",
        "    return epoch_loss / len(iterator), epoch_acc / len(iterator)"
      ],
      "metadata": {
        "id": "MXlTMRz4zveR"
      },
      "execution_count": 49,
      "outputs": []
    },
    {
      "cell_type": "markdown",
      "source": [
        "## Realizar entrenamiento"
      ],
      "metadata": {
        "id": "9KOXt9BWF-h5"
      }
    },
    {
      "cell_type": "code",
      "source": [
        "import time\n",
        "# entrenamiento\n",
        "N_EPOCHS = 5\n",
        "# float('inf') actúa como un valor superior ilimitado para la comparación.\n",
        "# esto es útil para encontrar los valores más bajos\n",
        "best_valid_loss = float('inf')\n",
        "val_loss = []\n",
        "val_acc = []\n",
        "tr_loss = []\n",
        "tr_acc = []\n",
        "\n",
        "# definir optimizador\n",
        "optimizer = optim.Adam(model.parameters()) # lr=6e-3\n",
        "\n",
        "# definir la función de perdida\n",
        "loss_function = nn.CrossEntropyLoss()\n",
        "\n",
        "for epoch in range(N_EPOCHS):\n",
        "    \n",
        "    # calcular el tiempo que tarda cada epoca\n",
        "    start_time = time.time() # inicializar\n",
        "    \n",
        "    # obtener el loss del conjunto de entrenamiento\n",
        "    train_loss, train_acc = train(model, trainloader, optimizer, loss_function)\n",
        "\n",
        "    # obtener el loss del conjunto de validación\n",
        "    valid_loss, valid_acc = evaluate(model, validloader, loss_function)\n",
        "    \n",
        "    end_time = time.time() # obtener el tiempo final\n",
        "    # obtener los minutos y segundos del tiempo de ejecución\n",
        "    epoch_mins, epoch_secs = epoch_time(start_time, end_time)\n",
        "    \n",
        "    # Almacenar las metricas del entrenamiento\n",
        "    val_loss.append(valid_loss)\n",
        "    val_acc.append(valid_acc)\n",
        "    tr_loss.append(train_loss)\n",
        "    tr_acc.append(train_acc)\n",
        "    \n",
        "    if valid_loss < best_valid_loss: # guardar el mejor modelo\n",
        "        best_valid_loss = valid_loss\n",
        "        torch.save(model.state_dict(), 'CNN-model.pt')\n",
        "    \n",
        "    print(f'Epoch: {epoch+1:2} | Epoch Time: {epoch_mins}m {epoch_secs}s')\n",
        "    print(f'\\tTrain Loss: {train_loss:.3f} | Train Acc: {train_acc*100:.2f}%')\n",
        "    print(f'\\t Val. Loss: {valid_loss:.3f} |  Val. Acc: {valid_acc*100:.2f}%')"
      ],
      "metadata": {
        "colab": {
          "base_uri": "https://localhost:8080/"
        },
        "id": "6NXKJ8SLszSX",
        "outputId": "1dd6177c-2aed-4e0a-e1aa-86c7ce667f82"
      },
      "execution_count": 50,
      "outputs": [
        {
          "output_type": "stream",
          "name": "stderr",
          "text": [
            "/usr/local/lib/python3.7/dist-packages/ipykernel_launcher.py:14: UserWarning: To copy construct from a tensor, it is recommended to use sourceTensor.clone().detach() or sourceTensor.clone().detach().requires_grad_(True), rather than torch.tensor(sourceTensor).\n",
            "  \n",
            "/usr/local/lib/python3.7/dist-packages/ipykernel_launcher.py:15: UserWarning: To copy construct from a tensor, it is recommended to use sourceTensor.clone().detach() or sourceTensor.clone().detach().requires_grad_(True), rather than torch.tensor(sourceTensor).\n",
            "  from ipykernel import kernelapp as app\n",
            "/usr/local/lib/python3.7/dist-packages/ipykernel_launcher.py:23: UserWarning: To copy construct from a tensor, it is recommended to use sourceTensor.clone().detach() or sourceTensor.clone().detach().requires_grad_(True), rather than torch.tensor(sourceTensor).\n",
            "/usr/local/lib/python3.7/dist-packages/ipykernel_launcher.py:59: UserWarning: To copy construct from a tensor, it is recommended to use sourceTensor.clone().detach() or sourceTensor.clone().detach().requires_grad_(True), rather than torch.tensor(sourceTensor).\n",
            "/usr/local/lib/python3.7/dist-packages/ipykernel_launcher.py:60: UserWarning: To copy construct from a tensor, it is recommended to use sourceTensor.clone().detach() or sourceTensor.clone().detach().requires_grad_(True), rather than torch.tensor(sourceTensor).\n",
            "/usr/local/lib/python3.7/dist-packages/ipykernel_launcher.py:63: UserWarning: To copy construct from a tensor, it is recommended to use sourceTensor.clone().detach() or sourceTensor.clone().detach().requires_grad_(True), rather than torch.tensor(sourceTensor).\n"
          ]
        },
        {
          "output_type": "stream",
          "name": "stdout",
          "text": [
            "Epoch:  1 | Epoch Time: 0m 37s\n",
            "\tTrain Loss: 2.125 | Train Acc: 4.59%\n",
            "\t Val. Loss: 2.046 |  Val. Acc: 4.16%\n",
            "Epoch:  2 | Epoch Time: 0m 36s\n",
            "\tTrain Loss: 1.999 | Train Acc: 4.58%\n",
            "\t Val. Loss: 1.976 |  Val. Acc: 4.28%\n",
            "Epoch:  3 | Epoch Time: 0m 36s\n",
            "\tTrain Loss: 1.917 | Train Acc: 4.49%\n",
            "\t Val. Loss: 1.962 |  Val. Acc: 4.31%\n",
            "Epoch:  4 | Epoch Time: 0m 36s\n",
            "\tTrain Loss: 1.844 | Train Acc: 4.47%\n",
            "\t Val. Loss: 1.994 |  Val. Acc: 4.34%\n",
            "Epoch:  5 | Epoch Time: 0m 36s\n",
            "\tTrain Loss: 1.767 | Train Acc: 4.48%\n",
            "\t Val. Loss: 1.989 |  Val. Acc: 4.28%\n"
          ]
        }
      ]
    },
    {
      "cell_type": "code",
      "source": [
        "# Graficar accuracy y loss\n",
        "fig, ax = plt.subplots(1, 2, figsize=(15,5))\n",
        "ax[0].plot(tr_loss, label='Training loss')\n",
        "ax[0].plot(val_loss, label='Validation loss')\n",
        "ax[0].set_title('Losses')\n",
        "ax[0].set_xlabel('Epoch')\n",
        "ax[0].set_ylabel('Loss')\n",
        "ax[0].legend()\n",
        "ax[1].plot(tr_acc, label='Training accuracy')\n",
        "ax[1].plot(val_acc, label='Validation accuracy')\n",
        "ax[1].set_title('Accuracies')\n",
        "ax[1].set_xlabel('Epoch')\n",
        "ax[1].set_ylabel('Loss')\n",
        "plt.legend()\n",
        "plt.show()"
      ],
      "metadata": {
        "colab": {
          "base_uri": "https://localhost:8080/",
          "height": 350
        },
        "id": "8eFCRtNsuXqx",
        "outputId": "c2586e8c-6445-43a8-d709-de0b14f35267"
      },
      "execution_count": 51,
      "outputs": [
        {
          "output_type": "display_data",
          "data": {
            "image/png": "[encoded data removed]",
            "text/plain": [
              "<Figure size 1080x360 with 2 Axes>"
            ]
          },
          "metadata": {
            "needs_background": "light"
          }
        }
      ]
    },
    {
      "cell_type": "markdown",
      "source": [
        "## Evaluar el modelo"
      ],
      "metadata": {
        "id": "o7nLhCOuqfVl"
      }
    },
    {
      "cell_type": "code",
      "source": [
        "# Evaluarv el modelo con el conjunto de prueba (test)\n",
        "model.load_state_dict(torch.load('CNN-model.pt'))\n",
        "\n",
        "test_loss, test_acc = evaluate(model, testloader, loss_function)\n",
        "\n",
        "print(f'Test Loss: {test_loss:.3f} | Test Acc: {test_acc*100:.2f}%')"
      ],
      "metadata": {
        "colab": {
          "base_uri": "https://localhost:8080/"
        },
        "id": "2UQU17Um1QBz",
        "outputId": "64b34f25-4405-4e50-a148-d51f313eff11"
      },
      "execution_count": 52,
      "outputs": [
        {
          "output_type": "stream",
          "name": "stderr",
          "text": [
            "/usr/local/lib/python3.7/dist-packages/ipykernel_launcher.py:59: UserWarning: To copy construct from a tensor, it is recommended to use sourceTensor.clone().detach() or sourceTensor.clone().detach().requires_grad_(True), rather than torch.tensor(sourceTensor).\n",
            "/usr/local/lib/python3.7/dist-packages/ipykernel_launcher.py:60: UserWarning: To copy construct from a tensor, it is recommended to use sourceTensor.clone().detach() or sourceTensor.clone().detach().requires_grad_(True), rather than torch.tensor(sourceTensor).\n",
            "/usr/local/lib/python3.7/dist-packages/ipykernel_launcher.py:63: UserWarning: To copy construct from a tensor, it is recommended to use sourceTensor.clone().detach() or sourceTensor.clone().detach().requires_grad_(True), rather than torch.tensor(sourceTensor).\n"
          ]
        },
        {
          "output_type": "stream",
          "name": "stdout",
          "text": [
            "Test Loss: 1.952 | Test Acc: 4.58%\n"
          ]
        }
      ]
    }
  ]
}