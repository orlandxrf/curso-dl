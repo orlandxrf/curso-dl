{
  "nbformat": 4,
  "nbformat_minor": 0,
  "metadata": {
    "colab": {
      "name": "10d_FineTuning_SentimentAnalysis_HuggingFace.ipynb",
      "provenance": [],
      "collapsed_sections": [],
      "authorship_tag": "ABX9TyMc0YuoPEYDLi8KjjO/elWs",
      "include_colab_link": true
    },
    "kernelspec": {
      "name": "python3",
      "display_name": "Python 3"
    },
    "language_info": {
      "name": "python"
    },
    "accelerator": "GPU"
  },
  "cells": [
    {
      "cell_type": "markdown",
      "metadata": {
        "id": "view-in-github",
        "colab_type": "text"
      },
      "source": [
        "<a href=\"https://colab.research.google.com/github/orlandxrf/curso-dl/blob/main/notebooks/10d_FineTuning_SentimentAnalysis_HuggingFace.ipynb\" target=\"_parent\"><img src=\"https://colab.research.google.com/assets/colab-badge.svg\" alt=\"Open In Colab\"/></a>"
      ]
    },
    {
      "cell_type": "markdown",
      "source": [
        "# Fine-Tuning Análisis de Sentimientos\n",
        "Dado el conjunto de datos se desarrollará una red densa para clasificar sentimientos"
      ],
      "metadata": {
        "id": "_hTucKJsYfEs"
      }
    },
    {
      "cell_type": "code",
      "execution_count": 27,
      "metadata": {
        "id": "1nG0PAy0YYhC"
      },
      "outputs": [],
      "source": [
        "# establecer parametros para almacenar y cargar el conjunto de datos del repositorio de Github\n",
        "import os\n",
        "\n",
        "URL = 'https://github.com/orlandxrf/curso-dl/blob/main/data/IMDB.zip?raw=True'\n",
        "data_folder = 'data'\n",
        "filepath = os.path.join(data_folder, 'IMDB.zip')"
      ]
    },
    {
      "cell_type": "markdown",
      "source": [
        "## Obtener el conjunto de datos"
      ],
      "metadata": {
        "id": "4or9B-3jajl_"
      }
    },
    {
      "cell_type": "code",
      "source": [
        "# crear carpeta para almacenar el conjunto de datos\n",
        "! mkdir {data_folder}\n",
        "# descargar conjunto de datos y alamcenar\n",
        "! wget -nc {URL} -O {filepath}"
      ],
      "metadata": {
        "colab": {
          "base_uri": "https://localhost:8080/"
        },
        "id": "Sll0mlf_aszv",
        "outputId": "9ad3ba27-d27c-473b-9965-b56e8265e7fc"
      },
      "execution_count": 28,
      "outputs": [
        {
          "output_type": "stream",
          "name": "stdout",
          "text": [
            "mkdir: cannot create directory ‘data’: File exists\n",
            "File ‘data/IMDB.zip’ already there; not retrieving.\n"
          ]
        }
      ]
    },
    {
      "cell_type": "code",
      "source": [
        "# comprobrar\n",
        "! ls -lh data/*\n"
      ],
      "metadata": {
        "colab": {
          "base_uri": "https://localhost:8080/"
        },
        "id": "_aV8rUjwbbBO",
        "outputId": "d4420ea3-a9b1-476e-a855-ed4be205f022"
      },
      "execution_count": 29,
      "outputs": [
        {
          "output_type": "stream",
          "name": "stdout",
          "text": [
            "-rw-r--r-- 1 root root 26M Apr 19 16:40 data/IMDB.zip\n"
          ]
        }
      ]
    },
    {
      "cell_type": "markdown",
      "source": [
        "## Analizar conjunto de datos"
      ],
      "metadata": {
        "id": "fbNBV1eaXjZr"
      }
    },
    {
      "cell_type": "code",
      "source": [
        "import pandas as pd\n",
        "\n",
        "# df = pd.read_csv('data/IMDB.zip')\n",
        "df = pd.read_csv('data/IMDB.zip', compression='zip', header=0, sep=',', quotechar='\"')\n",
        "\n",
        "# eliminar columnas 'tweet_id' y 'author'\n",
        "# df.drop('tweet_id',axis=1,inplace=True)\n",
        "# df.drop('author',axis=1,inplace=True)\n",
        "print (df.head(10))\n",
        "print (f\"\\nLongitud de tweets: {len(df):,}\")"
      ],
      "metadata": {
        "colab": {
          "base_uri": "https://localhost:8080/"
        },
        "id": "pijhdpXRXnAs",
        "outputId": "07db2394-8581-40b7-ea20-8ae79c789510"
      },
      "execution_count": 30,
      "outputs": [
        {
          "output_type": "stream",
          "name": "stdout",
          "text": [
            "                                              review sentiment\n",
            "0  One of the other reviewers has mentioned that ...  positive\n",
            "1  A wonderful little production. <br /><br />The...  positive\n",
            "2  I thought this was a wonderful way to spend ti...  positive\n",
            "3  Basically there's a family where a little boy ...  negative\n",
            "4  Petter Mattei's \"Love in the Time of Money\" is...  positive\n",
            "5  Probably my all-time favorite movie, a story o...  positive\n",
            "6  I sure would like to see a resurrection of a u...  positive\n",
            "7  This show was an amazing, fresh & innovative i...  negative\n",
            "8  Encouraged by the positive comments about this...  negative\n",
            "9  If you like original gut wrenching laughter yo...  positive\n",
            "\n",
            "Longitud de tweets: 50,000\n"
          ]
        }
      ]
    },
    {
      "cell_type": "code",
      "source": [
        "import matplotlib.pyplot as plt\n",
        "\n",
        "sentiments = dict(pd.value_counts(df['sentiment']))\n",
        "classes = list(sentiments.keys())\n",
        "for i, sent in enumerate(sentiments):\n",
        "  print (f\"{i+1}\\t{sentiments[sent]}\\t{sent}\")\n",
        "print (f\"\\n{len(df):,} tweets\")\n",
        "\n",
        "# Graficar la distribución\n",
        "plt.figure(figsize=(15, 10))\n",
        "pd.value_counts(df['sentiment']).plot.bar(title=\"Distribución de sentimientos\")\n",
        "plt.xlabel(\"Sentimiento\", fontsize=\"15\")\n",
        "plt.ylabel(\"Tweets\", fontsize=\"15\")\n",
        "plt.xticks(rotation=0, fontsize=\"15\")\n",
        "plt.yticks(fontsize=\"15\")\n",
        "plt.show()"
      ],
      "metadata": {
        "colab": {
          "base_uri": "https://localhost:8080/",
          "height": 701
        },
        "id": "rJifibVZYINg",
        "outputId": "ce393f19-68d4-4de6-b796-8ecee7a636dd"
      },
      "execution_count": 31,
      "outputs": [
        {
          "output_type": "stream",
          "name": "stdout",
          "text": [
            "1\t25000\tpositive\n",
            "2\t25000\tnegative\n",
            "\n",
            "50,000 tweets\n"
          ]
        },
        {
          "output_type": "display_data",
          "data": {
            "text/plain": [
              "<Figure size 1080x720 with 1 Axes>"
            ],
            "image/png": "[encoded data removed]"
          },
          "metadata": {
            "needs_background": "light"
          }
        }
      ]
    },
    {
      "cell_type": "markdown",
      "source": [
        "## Preprocesamiento y división de los datos\n"
      ],
      "metadata": {
        "id": "MGucn7IxiJZy"
      }
    },
    {
      "cell_type": "code",
      "source": [
        "def convert_label(tag):\n",
        "    return 0 if tag == \"negative\" else 1\n",
        "\n",
        "df[\"sentiment\"] = df[\"sentiment\"].apply(lambda x: convert_label(x))\n",
        "\n",
        "print (df.head(10))"
      ],
      "metadata": {
        "id": "HoS4-zFPiVSF",
        "colab": {
          "base_uri": "https://localhost:8080/"
        },
        "outputId": "a35a4a23-197d-4d1d-9617-662950b0645a"
      },
      "execution_count": 32,
      "outputs": [
        {
          "output_type": "stream",
          "name": "stdout",
          "text": [
            "                                              review  sentiment\n",
            "0  One of the other reviewers has mentioned that ...          1\n",
            "1  A wonderful little production. <br /><br />The...          1\n",
            "2  I thought this was a wonderful way to spend ti...          1\n",
            "3  Basically there's a family where a little boy ...          0\n",
            "4  Petter Mattei's \"Love in the Time of Money\" is...          1\n",
            "5  Probably my all-time favorite movie, a story o...          1\n",
            "6  I sure would like to see a resurrection of a u...          1\n",
            "7  This show was an amazing, fresh & innovative i...          0\n",
            "8  Encouraged by the positive comments about this...          0\n",
            "9  If you like original gut wrenching laughter yo...          1\n"
          ]
        }
      ]
    },
    {
      "cell_type": "code",
      "source": [
        "sentiments = dict(pd.value_counts(df['sentiment']))\n",
        "classes = list(sentiments.keys())\n",
        "for i, sent in enumerate(sentiments):\n",
        "  print (f\"{i+1}\\t{sentiments[sent]}\\t{sent}\")\n",
        "print (f\"\\n{len(df):,} tweets\")\n",
        "\n",
        "# Graficar la distribución\n",
        "plt.figure(figsize=(15, 10))\n",
        "pd.value_counts(df['sentiment']).plot.bar(title=\"Distribución de sentimientos\")\n",
        "plt.xlabel(\"Sentimiento\", fontsize=\"15\")\n",
        "plt.ylabel(\"Tweets\", fontsize=\"15\")\n",
        "plt.xticks(rotation=0, fontsize=\"15\")\n",
        "plt.yticks(fontsize=\"15\")\n",
        "plt.show()"
      ],
      "metadata": {
        "colab": {
          "base_uri": "https://localhost:8080/",
          "height": 701
        },
        "id": "izr-eK3honh7",
        "outputId": "3fbfc543-8960-4796-ba93-eb0d85c658bf"
      },
      "execution_count": 33,
      "outputs": [
        {
          "output_type": "stream",
          "name": "stdout",
          "text": [
            "1\t25000\t1\n",
            "2\t25000\t0\n",
            "\n",
            "50,000 tweets\n"
          ]
        },
        {
          "output_type": "display_data",
          "data": {
            "text/plain": [
              "<Figure size 1080x720 with 1 Axes>"
            ],
            "image/png": "[encoded data removed]"
          },
          "metadata": {
            "needs_background": "light"
          }
        }
      ]
    },
    {
      "cell_type": "code",
      "source": [
        "# dividir el conjunto de datos\n",
        "# train_set = df[0:40000]\n",
        "# valid_set = df[40000:45000]\n",
        "# test_set  = df[45000:50000]\n",
        "\n",
        "train_set = df[0:3000]\n",
        "valid_set = df[3000:3500]\n",
        "test_set  = df[3500:4000]"
      ],
      "metadata": {
        "id": "UKMjwPaMSNvH"
      },
      "execution_count": 34,
      "outputs": []
    },
    {
      "cell_type": "code",
      "source": [
        "train_sent = dict(pd.value_counts(train_set['sentiment']))\n",
        "valid_sent = dict(pd.value_counts(valid_set['sentiment']))\n",
        "test_sent = dict(pd.value_counts(test_set['sentiment']))\n",
        "\n",
        "clases = list(train_sent.keys())\n",
        "\n",
        "print (f\">>> Train set\")\n",
        "for i, sent in enumerate(train_sent):\n",
        "  print (f\"{i+1}\\t{train_sent[sent]:,}\\t{sent}\")\n",
        "print (f\"\\n{len(train_set):,} tweets\\n\\n\")\n",
        "\n",
        "print (f\">>> Valid set\")\n",
        "for i, sent in enumerate(valid_sent):\n",
        "  print (f\"{i+1}\\t{valid_sent[sent]:,}\\t{sent}\")\n",
        "print (f\"\\n{len(valid_set):,} tweets\\n\\n\")\n",
        "\n",
        "print (f\">>> Test set\")\n",
        "for i, sent in enumerate(test_sent):\n",
        "  print (f\"{i+1}\\t{test_sent[sent]:,}\\t{sent}\")\n",
        "print (f\"\\n{len(test_set):,} tweets\\n\\n\")\n",
        "\n",
        "\n"
      ],
      "metadata": {
        "colab": {
          "base_uri": "https://localhost:8080/"
        },
        "id": "gUKswqKPoKJk",
        "outputId": "cf8bd851-9311-4b35-e53b-0399d5c17b74"
      },
      "execution_count": 35,
      "outputs": [
        {
          "output_type": "stream",
          "name": "stdout",
          "text": [
            ">>> Train set\n",
            "1\t1,508\t1\n",
            "2\t1,492\t0\n",
            "\n",
            "3,000 tweets\n",
            "\n",
            "\n",
            ">>> Valid set\n",
            "1\t255\t0\n",
            "2\t245\t1\n",
            "\n",
            "500 tweets\n",
            "\n",
            "\n",
            ">>> Test set\n",
            "1\t280\t0\n",
            "2\t220\t1\n",
            "\n",
            "500 tweets\n",
            "\n",
            "\n"
          ]
        }
      ]
    },
    {
      "cell_type": "markdown",
      "source": [
        "## Crear clase para el conjunto de datos"
      ],
      "metadata": {
        "id": "8OIrH51pttga"
      }
    },
    {
      "cell_type": "code",
      "source": [
        "! pip install transformers"
      ],
      "metadata": {
        "colab": {
          "base_uri": "https://localhost:8080/"
        },
        "id": "mFEyI8WguldE",
        "outputId": "b0a1793d-f52c-43f4-a483-6aa5d5781a5e"
      },
      "execution_count": 36,
      "outputs": [
        {
          "output_type": "stream",
          "name": "stdout",
          "text": [
            "Requirement already satisfied: transformers in /usr/local/lib/python3.7/dist-packages (4.18.0)\n",
            "Requirement already satisfied: regex!=2019.12.17 in /usr/local/lib/python3.7/dist-packages (from transformers) (2019.12.20)\n",
            "Requirement already satisfied: numpy>=1.17 in /usr/local/lib/python3.7/dist-packages (from transformers) (1.21.6)\n",
            "Requirement already satisfied: sacremoses in /usr/local/lib/python3.7/dist-packages (from transformers) (0.0.49)\n",
            "Requirement already satisfied: requests in /usr/local/lib/python3.7/dist-packages (from transformers) (2.23.0)\n",
            "Requirement already satisfied: tokenizers!=0.11.3,<0.13,>=0.11.1 in /usr/local/lib/python3.7/dist-packages (from transformers) (0.12.1)\n",
            "Requirement already satisfied: importlib-metadata in /usr/local/lib/python3.7/dist-packages (from transformers) (4.11.3)\n",
            "Requirement already satisfied: packaging>=20.0 in /usr/local/lib/python3.7/dist-packages (from transformers) (21.3)\n",
            "Requirement already satisfied: filelock in /usr/local/lib/python3.7/dist-packages (from transformers) (3.6.0)\n",
            "Requirement already satisfied: pyyaml>=5.1 in /usr/local/lib/python3.7/dist-packages (from transformers) (6.0)\n",
            "Requirement already satisfied: tqdm>=4.27 in /usr/local/lib/python3.7/dist-packages (from transformers) (4.64.0)\n",
            "Requirement already satisfied: huggingface-hub<1.0,>=0.1.0 in /usr/local/lib/python3.7/dist-packages (from transformers) (0.5.1)\n",
            "Requirement already satisfied: typing-extensions>=3.7.4.3 in /usr/local/lib/python3.7/dist-packages (from huggingface-hub<1.0,>=0.1.0->transformers) (4.1.1)\n",
            "Requirement already satisfied: pyparsing!=3.0.5,>=2.0.2 in /usr/local/lib/python3.7/dist-packages (from packaging>=20.0->transformers) (3.0.8)\n",
            "Requirement already satisfied: zipp>=0.5 in /usr/local/lib/python3.7/dist-packages (from importlib-metadata->transformers) (3.8.0)\n",
            "Requirement already satisfied: chardet<4,>=3.0.2 in /usr/local/lib/python3.7/dist-packages (from requests->transformers) (3.0.4)\n",
            "Requirement already satisfied: idna<3,>=2.5 in /usr/local/lib/python3.7/dist-packages (from requests->transformers) (2.10)\n",
            "Requirement already satisfied: certifi>=2017.4.17 in /usr/local/lib/python3.7/dist-packages (from requests->transformers) (2021.10.8)\n",
            "Requirement already satisfied: urllib3!=1.25.0,!=1.25.1,<1.26,>=1.21.1 in /usr/local/lib/python3.7/dist-packages (from requests->transformers) (1.24.3)\n",
            "Requirement already satisfied: click in /usr/local/lib/python3.7/dist-packages (from sacremoses->transformers) (7.1.2)\n",
            "Requirement already satisfied: joblib in /usr/local/lib/python3.7/dist-packages (from sacremoses->transformers) (1.1.0)\n",
            "Requirement already satisfied: six in /usr/local/lib/python3.7/dist-packages (from sacremoses->transformers) (1.15.0)\n"
          ]
        }
      ]
    },
    {
      "cell_type": "code",
      "source": [
        "import torch\n",
        "from transformers import AutoTokenizer"
      ],
      "metadata": {
        "id": "CKEKY5oht2vp"
      },
      "execution_count": 37,
      "outputs": []
    },
    {
      "cell_type": "code",
      "source": [
        "device = \"cuda:0\" if torch.cuda.is_available() else \"cpu\"\n",
        "print (device)"
      ],
      "metadata": {
        "colab": {
          "base_uri": "https://localhost:8080/"
        },
        "id": "CDWEjUV0RU6P",
        "outputId": "572f6554-0b97-44c9-aec9-fa69b93f44c3"
      },
      "execution_count": 38,
      "outputs": [
        {
          "output_type": "stream",
          "name": "stdout",
          "text": [
            "cuda:0\n"
          ]
        }
      ]
    },
    {
      "cell_type": "code",
      "source": [
        "class MakeDataset(torch.utils.data.Dataset):\n",
        "\n",
        "    def __init__(self, reviews, sentiments, tokenizer):\n",
        "        self.reviews    = reviews # columna donde se encuentra el texto\n",
        "        self.sentiments = sentiments # columna de la clase (0 o 1)\n",
        "        self.tokenizer  = tokenizer # tokenizador de los transformers\n",
        "        self.max_len    = tokenizer.model_max_length # longitud máxima (512 para el modelo BERT)\n",
        "  \n",
        "    def __len__(self):\n",
        "        return len(self.reviews)\n",
        "  \n",
        "    def __getitem__(self, index):\n",
        "        review = str(self.reviews[index]) # obtener texto por índice\n",
        "        sentiments = self.sentiments[index] # obtener clase por índice\n",
        "\n",
        "        # codificar (tokenizar) conjunto de datos usando función: encode_plus()\n",
        "        encoded_review = self.tokenizer.encode_plus(\n",
        "            review,\n",
        "            add_special_tokens    = True,\n",
        "            max_length            = self.max_len,\n",
        "            return_token_type_ids = False,\n",
        "            return_attention_mask = True,\n",
        "            return_tensors        = \"pt\",\n",
        "            padding               = \"max_length\",\n",
        "            truncation            = True\n",
        "        )\n",
        "\n",
        "        return {\n",
        "            'input_ids': encoded_review['input_ids'][0],\n",
        "            'attention_mask': encoded_review['attention_mask'][0],\n",
        "            'labels': torch.tensor(sentiments, dtype=torch.long)\n",
        "        }"
      ],
      "metadata": {
        "id": "2FGmG8A6uleQ"
      },
      "execution_count": 39,
      "outputs": []
    },
    {
      "cell_type": "code",
      "source": [
        "# cargar tokenizador del modelo BERT de HuggingFace\n",
        "model_checkpoint = \"bert-base-uncased\"\n",
        "tokenizer = AutoTokenizer.from_pretrained(model_checkpoint)"
      ],
      "metadata": {
        "colab": {
          "base_uri": "https://localhost:8080/"
        },
        "id": "FPM8YwTKxJWn",
        "outputId": "14b9cf7e-cdda-4cf2-bfc7-fd09bd1c4145"
      },
      "execution_count": 40,
      "outputs": [
        {
          "output_type": "stream",
          "name": "stderr",
          "text": [
            "loading configuration file https://huggingface.co/bert-base-uncased/resolve/main/config.json from cache at /root/.cache/huggingface/transformers/3c61d016573b14f7f008c02c4e51a366c67ab274726fe2910691e2a761acf43e.37395cee442ab11005bcd270f3c34464dc1704b715b5d7d52b1a461abe3b9e4e\n",
            "Model config BertConfig {\n",
            "  \"_name_or_path\": \"bert-base-uncased\",\n",
            "  \"architectures\": [\n",
            "    \"BertForMaskedLM\"\n",
            "  ],\n",
            "  \"attention_probs_dropout_prob\": 0.1,\n",
            "  \"classifier_dropout\": null,\n",
            "  \"gradient_checkpointing\": false,\n",
            "  \"hidden_act\": \"gelu\",\n",
            "  \"hidden_dropout_prob\": 0.1,\n",
            "  \"hidden_size\": 768,\n",
            "  \"initializer_range\": 0.02,\n",
            "  \"intermediate_size\": 3072,\n",
            "  \"layer_norm_eps\": 1e-12,\n",
            "  \"max_position_embeddings\": 512,\n",
            "  \"model_type\": \"bert\",\n",
            "  \"num_attention_heads\": 12,\n",
            "  \"num_hidden_layers\": 12,\n",
            "  \"pad_token_id\": 0,\n",
            "  \"position_embedding_type\": \"absolute\",\n",
            "  \"transformers_version\": \"4.18.0\",\n",
            "  \"type_vocab_size\": 2,\n",
            "  \"use_cache\": true,\n",
            "  \"vocab_size\": 30522\n",
            "}\n",
            "\n",
            "loading file https://huggingface.co/bert-base-uncased/resolve/main/vocab.txt from cache at /root/.cache/huggingface/transformers/45c3f7a79a80e1cf0a489e5c62b43f173c15db47864303a55d623bb3c96f72a5.d789d64ebfe299b0e416afc4a169632f903f693095b4629a7ea271d5a0cf2c99\n",
            "loading file https://huggingface.co/bert-base-uncased/resolve/main/tokenizer.json from cache at /root/.cache/huggingface/transformers/534479488c54aeaf9c3406f647aa2ec13648c06771ffe269edabebd4c412da1d.7f2721073f19841be16f41b0a70b600ca6b880c8f3df6f3535cbc704371bdfa4\n",
            "loading file https://huggingface.co/bert-base-uncased/resolve/main/added_tokens.json from cache at None\n",
            "loading file https://huggingface.co/bert-base-uncased/resolve/main/special_tokens_map.json from cache at None\n",
            "loading file https://huggingface.co/bert-base-uncased/resolve/main/tokenizer_config.json from cache at /root/.cache/huggingface/transformers/c1d7f0a763fb63861cc08553866f1fc3e5a6f4f07621be277452d26d71303b7e.20430bd8e10ef77a7d2977accefe796051e01bc2fc4aa146bc862997a1a15e79\n",
            "loading configuration file https://huggingface.co/bert-base-uncased/resolve/main/config.json from cache at /root/.cache/huggingface/transformers/3c61d016573b14f7f008c02c4e51a366c67ab274726fe2910691e2a761acf43e.37395cee442ab11005bcd270f3c34464dc1704b715b5d7d52b1a461abe3b9e4e\n",
            "Model config BertConfig {\n",
            "  \"_name_or_path\": \"bert-base-uncased\",\n",
            "  \"architectures\": [\n",
            "    \"BertForMaskedLM\"\n",
            "  ],\n",
            "  \"attention_probs_dropout_prob\": 0.1,\n",
            "  \"classifier_dropout\": null,\n",
            "  \"gradient_checkpointing\": false,\n",
            "  \"hidden_act\": \"gelu\",\n",
            "  \"hidden_dropout_prob\": 0.1,\n",
            "  \"hidden_size\": 768,\n",
            "  \"initializer_range\": 0.02,\n",
            "  \"intermediate_size\": 3072,\n",
            "  \"layer_norm_eps\": 1e-12,\n",
            "  \"max_position_embeddings\": 512,\n",
            "  \"model_type\": \"bert\",\n",
            "  \"num_attention_heads\": 12,\n",
            "  \"num_hidden_layers\": 12,\n",
            "  \"pad_token_id\": 0,\n",
            "  \"position_embedding_type\": \"absolute\",\n",
            "  \"transformers_version\": \"4.18.0\",\n",
            "  \"type_vocab_size\": 2,\n",
            "  \"use_cache\": true,\n",
            "  \"vocab_size\": 30522\n",
            "}\n",
            "\n"
          ]
        }
      ]
    },
    {
      "cell_type": "markdown",
      "source": [
        "### Crear objetos MakeDataset para train y valid set"
      ],
      "metadata": {
        "id": "FMLq_Zu_xY5P"
      }
    },
    {
      "cell_type": "code",
      "source": [
        "# Create Dataset objects for train/validation sets.\n",
        "train_set_dataset = MakeDataset(\n",
        "    reviews    = train_set.review.tolist(),\n",
        "    sentiments = train_set.sentiment.tolist(),\n",
        "    tokenizer  = tokenizer,\n",
        ")\n",
        "\n",
        "valid_set_dataset = MakeDataset(\n",
        "    reviews    = valid_set.review.tolist(),\n",
        "    sentiments = valid_set.sentiment.tolist(),\n",
        "    tokenizer  = tokenizer,\n",
        ")"
      ],
      "metadata": {
        "id": "-0SiGaWNxSCF"
      },
      "execution_count": 41,
      "outputs": []
    },
    {
      "cell_type": "markdown",
      "source": [
        "### Crear DataLoader del train y valid set"
      ],
      "metadata": {
        "id": "I_nj9dIzxtXJ"
      }
    },
    {
      "cell_type": "code",
      "source": [
        "train_set_dataloader = torch.utils.data.DataLoader(\n",
        "    train_set_dataset,\n",
        "    batch_size  = 16,\n",
        "    num_workers = 4\n",
        ")\n",
        "\n",
        "valid_set_dataloader = torch.utils.data.DataLoader(\n",
        "    valid_set_dataset,\n",
        "    batch_size  = 16,\n",
        "    num_workers = 4\n",
        ")"
      ],
      "metadata": {
        "colab": {
          "base_uri": "https://localhost:8080/"
        },
        "id": "3Ok4FSt8x9Tv",
        "outputId": "60861cba-691d-4648-a53c-2c52a3b7eef9"
      },
      "execution_count": 42,
      "outputs": [
        {
          "output_type": "stream",
          "name": "stderr",
          "text": [
            "/usr/local/lib/python3.7/dist-packages/torch/utils/data/dataloader.py:481: UserWarning: This DataLoader will create 4 worker processes in total. Our suggested max number of worker in current system is 2, which is smaller than what this DataLoader is going to create. Please be aware that excessive worker creation might get DataLoader running slow or even freeze, lower the worker number to avoid potential slowness/freeze if necessary.\n",
            "  cpuset_checked))\n"
          ]
        }
      ]
    },
    {
      "cell_type": "markdown",
      "source": [
        "### Visualizar un batch"
      ],
      "metadata": {
        "id": "2UOWcO7fyMn3"
      }
    },
    {
      "cell_type": "code",
      "source": [
        "# Get one batch as example.\n",
        "train_data = next(iter(train_set_dataloader))\n",
        "valid_data = next(iter(valid_set_dataloader))\n",
        "\n",
        "# Print the output sizes.\n",
        "print( train_data[\"input_ids\"].size(), valid_data[\"input_ids\"].size() )"
      ],
      "metadata": {
        "colab": {
          "base_uri": "https://localhost:8080/"
        },
        "id": "SPU8-GbYyNYX",
        "outputId": "421e0376-8828-4d47-c582-63498276bea7"
      },
      "execution_count": 43,
      "outputs": [
        {
          "output_type": "stream",
          "name": "stderr",
          "text": [
            "/usr/local/lib/python3.7/dist-packages/torch/utils/data/dataloader.py:481: UserWarning: This DataLoader will create 4 worker processes in total. Our suggested max number of worker in current system is 2, which is smaller than what this DataLoader is going to create. Please be aware that excessive worker creation might get DataLoader running slow or even freeze, lower the worker number to avoid potential slowness/freeze if necessary.\n",
            "  cpuset_checked))\n"
          ]
        },
        {
          "output_type": "stream",
          "name": "stdout",
          "text": [
            "torch.Size([16, 512]) torch.Size([16, 512])\n"
          ]
        }
      ]
    },
    {
      "cell_type": "markdown",
      "source": [
        "### Cargar el modelo y realizar Fine-Tuning"
      ],
      "metadata": {
        "id": "i3vQ3CCDEE2w"
      }
    },
    {
      "cell_type": "code",
      "source": [
        "from transformers import BertForSequenceClassification"
      ],
      "metadata": {
        "id": "-jn0D7V303PN"
      },
      "execution_count": 44,
      "outputs": []
    },
    {
      "cell_type": "code",
      "source": [
        "# model_checkpoint = \"bert-large-uncased\"\n",
        "model_checkpoint = \"distilbert-base-uncased\"\n",
        "model = BertForSequenceClassification.from_pretrained(model_checkpoint)\n"
      ],
      "metadata": {
        "colab": {
          "base_uri": "https://localhost:8080/"
        },
        "id": "QqC5zHy_EM0H",
        "outputId": "82addb06-6c48-4b16-bc53-acc07a71ca6e"
      },
      "execution_count": 45,
      "outputs": [
        {
          "output_type": "stream",
          "name": "stderr",
          "text": [
            "loading configuration file https://huggingface.co/distilbert-base-uncased/resolve/main/config.json from cache at /root/.cache/huggingface/transformers/23454919702d26495337f3da04d1655c7ee010d5ec9d77bdb9e399e00302c0a1.91b885ab15d631bf9cee9dc9d25ece0afd932f2f5130eba28f2055b2220c0333\n",
            "You are using a model of type distilbert to instantiate a model of type bert. This is not supported for all configurations of models and can yield errors.\n",
            "Model config BertConfig {\n",
            "  \"activation\": \"gelu\",\n",
            "  \"architectures\": [\n",
            "    \"DistilBertForMaskedLM\"\n",
            "  ],\n",
            "  \"attention_dropout\": 0.1,\n",
            "  \"attention_probs_dropout_prob\": 0.1,\n",
            "  \"classifier_dropout\": null,\n",
            "  \"dim\": 768,\n",
            "  \"dropout\": 0.1,\n",
            "  \"hidden_act\": \"gelu\",\n",
            "  \"hidden_dim\": 3072,\n",
            "  \"hidden_dropout_prob\": 0.1,\n",
            "  \"hidden_size\": 768,\n",
            "  \"initializer_range\": 0.02,\n",
            "  \"intermediate_size\": 3072,\n",
            "  \"layer_norm_eps\": 1e-12,\n",
            "  \"max_position_embeddings\": 512,\n",
            "  \"model_type\": \"bert\",\n",
            "  \"n_heads\": 12,\n",
            "  \"n_layers\": 6,\n",
            "  \"num_attention_heads\": 12,\n",
            "  \"num_hidden_layers\": 12,\n",
            "  \"pad_token_id\": 0,\n",
            "  \"position_embedding_type\": \"absolute\",\n",
            "  \"qa_dropout\": 0.1,\n",
            "  \"seq_classif_dropout\": 0.2,\n",
            "  \"sinusoidal_pos_embds\": false,\n",
            "  \"tie_weights_\": true,\n",
            "  \"transformers_version\": \"4.18.0\",\n",
            "  \"type_vocab_size\": 2,\n",
            "  \"use_cache\": true,\n",
            "  \"vocab_size\": 30522\n",
            "}\n",
            "\n",
            "loading weights file https://huggingface.co/distilbert-base-uncased/resolve/main/pytorch_model.bin from cache at /root/.cache/huggingface/transformers/9c169103d7e5a73936dd2b627e42851bec0831212b677c637033ee4bce9ab5ee.126183e36667471617ae2f0835fab707baa54b731f991507ebbb55ea85adb12a\n",
            "Some weights of the model checkpoint at distilbert-base-uncased were not used when initializing BertForSequenceClassification: ['distilbert.transformer.layer.5.attention.out_lin.bias', 'distilbert.transformer.layer.1.attention.out_lin.bias', 'distilbert.transformer.layer.1.ffn.lin1.bias', 'distilbert.transformer.layer.4.ffn.lin1.weight', 'distilbert.transformer.layer.5.ffn.lin1.weight', 'distilbert.transformer.layer.2.attention.k_lin.bias', 'distilbert.transformer.layer.3.ffn.lin1.bias', 'distilbert.transformer.layer.5.ffn.lin2.weight', 'distilbert.transformer.layer.0.ffn.lin1.weight', 'distilbert.transformer.layer.3.ffn.lin1.weight', 'distilbert.transformer.layer.3.ffn.lin2.weight', 'distilbert.transformer.layer.5.attention.v_lin.bias', 'distilbert.transformer.layer.4.sa_layer_norm.weight', 'distilbert.transformer.layer.2.output_layer_norm.weight', 'distilbert.transformer.layer.2.ffn.lin2.bias', 'distilbert.transformer.layer.5.attention.v_lin.weight', 'distilbert.transformer.layer.5.output_layer_norm.bias', 'distilbert.transformer.layer.0.attention.q_lin.weight', 'vocab_layer_norm.weight', 'vocab_layer_norm.bias', 'distilbert.transformer.layer.4.ffn.lin2.weight', 'distilbert.transformer.layer.4.attention.out_lin.bias', 'distilbert.embeddings.position_embeddings.weight', 'distilbert.transformer.layer.3.attention.q_lin.bias', 'distilbert.transformer.layer.4.attention.q_lin.bias', 'distilbert.transformer.layer.0.attention.out_lin.weight', 'distilbert.transformer.layer.1.ffn.lin2.weight', 'distilbert.transformer.layer.0.ffn.lin1.bias', 'distilbert.transformer.layer.1.attention.out_lin.weight', 'distilbert.transformer.layer.2.sa_layer_norm.weight', 'distilbert.transformer.layer.3.attention.q_lin.weight', 'distilbert.transformer.layer.5.output_layer_norm.weight', 'distilbert.transformer.layer.0.attention.k_lin.bias', 'distilbert.transformer.layer.1.output_layer_norm.bias', 'distilbert.transformer.layer.3.attention.v_lin.bias', 'distilbert.transformer.layer.5.attention.q_lin.bias', 'vocab_transform.weight', 'distilbert.transformer.layer.4.attention.k_lin.bias', 'vocab_transform.bias', 'distilbert.transformer.layer.1.sa_layer_norm.bias', 'distilbert.transformer.layer.3.attention.out_lin.bias', 'distilbert.transformer.layer.0.attention.q_lin.bias', 'distilbert.transformer.layer.1.attention.k_lin.weight', 'distilbert.transformer.layer.3.ffn.lin2.bias', 'distilbert.transformer.layer.3.attention.k_lin.bias', 'distilbert.transformer.layer.2.attention.out_lin.weight', 'distilbert.transformer.layer.2.sa_layer_norm.bias', 'distilbert.transformer.layer.3.output_layer_norm.bias', 'distilbert.transformer.layer.2.ffn.lin2.weight', 'distilbert.transformer.layer.4.attention.v_lin.weight', 'distilbert.transformer.layer.1.attention.v_lin.weight', 'distilbert.transformer.layer.4.output_layer_norm.bias', 'distilbert.transformer.layer.0.output_layer_norm.weight', 'distilbert.transformer.layer.0.attention.v_lin.bias', 'distilbert.transformer.layer.5.ffn.lin2.bias', 'distilbert.transformer.layer.3.attention.out_lin.weight', 'vocab_projector.bias', 'distilbert.transformer.layer.4.attention.v_lin.bias', 'distilbert.transformer.layer.3.sa_layer_norm.bias', 'distilbert.transformer.layer.1.attention.k_lin.bias', 'distilbert.transformer.layer.0.attention.k_lin.weight', 'distilbert.transformer.layer.0.ffn.lin2.bias', 'distilbert.transformer.layer.3.attention.v_lin.weight', 'distilbert.transformer.layer.1.attention.q_lin.weight', 'distilbert.transformer.layer.0.attention.out_lin.bias', 'distilbert.transformer.layer.2.attention.q_lin.bias', 'distilbert.transformer.layer.2.output_layer_norm.bias', 'distilbert.transformer.layer.2.attention.v_lin.weight', 'distilbert.transformer.layer.1.ffn.lin1.weight', 'distilbert.transformer.layer.2.attention.q_lin.weight', 'distilbert.transformer.layer.0.sa_layer_norm.weight', 'distilbert.transformer.layer.5.attention.k_lin.bias', 'distilbert.transformer.layer.5.attention.k_lin.weight', 'distilbert.transformer.layer.0.ffn.lin2.weight', 'distilbert.transformer.layer.5.ffn.lin1.bias', 'distilbert.transformer.layer.1.ffn.lin2.bias', 'distilbert.transformer.layer.4.sa_layer_norm.bias', 'distilbert.transformer.layer.4.ffn.lin1.bias', 'distilbert.transformer.layer.0.output_layer_norm.bias', 'distilbert.embeddings.word_embeddings.weight', 'distilbert.transformer.layer.5.attention.out_lin.weight', 'distilbert.transformer.layer.3.sa_layer_norm.weight', 'distilbert.transformer.layer.4.output_layer_norm.weight', 'distilbert.transformer.layer.4.attention.q_lin.weight', 'distilbert.transformer.layer.2.ffn.lin1.weight', 'distilbert.transformer.layer.1.output_layer_norm.weight', 'distilbert.transformer.layer.4.attention.out_lin.weight', 'distilbert.transformer.layer.5.sa_layer_norm.bias', 'distilbert.transformer.layer.2.attention.out_lin.bias', 'distilbert.transformer.layer.0.sa_layer_norm.bias', 'distilbert.embeddings.LayerNorm.bias', 'distilbert.transformer.layer.5.sa_layer_norm.weight', 'vocab_projector.weight', 'distilbert.transformer.layer.1.attention.v_lin.bias', 'distilbert.transformer.layer.0.attention.v_lin.weight', 'distilbert.transformer.layer.2.attention.v_lin.bias', 'distilbert.transformer.layer.2.ffn.lin1.bias', 'distilbert.transformer.layer.4.ffn.lin2.bias', 'distilbert.embeddings.LayerNorm.weight', 'distilbert.transformer.layer.1.attention.q_lin.bias', 'distilbert.transformer.layer.3.output_layer_norm.weight', 'distilbert.transformer.layer.2.attention.k_lin.weight', 'distilbert.transformer.layer.4.attention.k_lin.weight', 'distilbert.transformer.layer.3.attention.k_lin.weight', 'distilbert.transformer.layer.5.attention.q_lin.weight', 'distilbert.transformer.layer.1.sa_layer_norm.weight']\n",
            "- This IS expected if you are initializing BertForSequenceClassification from the checkpoint of a model trained on another task or with another architecture (e.g. initializing a BertForSequenceClassification model from a BertForPreTraining model).\n",
            "- This IS NOT expected if you are initializing BertForSequenceClassification from the checkpoint of a model that you expect to be exactly identical (initializing a BertForSequenceClassification model from a BertForSequenceClassification model).\n",
            "Some weights of BertForSequenceClassification were not initialized from the model checkpoint at distilbert-base-uncased and are newly initialized: ['encoder.layer.5.attention.output.dense.weight', 'encoder.layer.8.attention.output.dense.weight', 'encoder.layer.2.attention.output.LayerNorm.weight', 'encoder.layer.0.attention.self.key.bias', 'encoder.layer.1.intermediate.dense.bias', 'encoder.layer.3.attention.self.value.weight', 'encoder.layer.6.attention.output.LayerNorm.bias', 'encoder.layer.1.attention.output.dense.weight', 'encoder.layer.10.attention.self.query.bias', 'encoder.layer.3.attention.self.value.bias', 'encoder.layer.2.attention.output.LayerNorm.bias', 'encoder.layer.3.attention.output.LayerNorm.bias', 'encoder.layer.3.intermediate.dense.weight', 'encoder.layer.3.output.dense.weight', 'encoder.layer.3.attention.output.dense.bias', 'encoder.layer.0.attention.self.value.bias', 'encoder.layer.11.attention.self.query.bias', 'encoder.layer.11.attention.output.dense.weight', 'encoder.layer.11.intermediate.dense.weight', 'encoder.layer.6.output.LayerNorm.weight', 'encoder.layer.7.intermediate.dense.bias', 'encoder.layer.5.attention.output.LayerNorm.bias', 'encoder.layer.3.intermediate.dense.bias', 'encoder.layer.6.attention.output.dense.bias', 'encoder.layer.2.attention.self.key.bias', 'encoder.layer.2.output.dense.bias', 'encoder.layer.4.intermediate.dense.weight', 'encoder.layer.4.attention.output.LayerNorm.bias', 'encoder.layer.11.attention.self.query.weight', 'encoder.layer.11.attention.output.dense.bias', 'encoder.layer.1.output.dense.weight', 'encoder.layer.9.attention.self.query.weight', 'pooler.dense.weight', 'encoder.layer.8.attention.self.key.weight', 'encoder.layer.10.output.dense.bias', 'encoder.layer.7.attention.self.query.bias', 'encoder.layer.1.attention.self.key.weight', 'encoder.layer.0.output.LayerNorm.bias', 'encoder.layer.5.attention.output.LayerNorm.weight', 'encoder.layer.2.intermediate.dense.bias', 'encoder.layer.6.intermediate.dense.weight', 'encoder.layer.6.attention.self.value.weight', 'encoder.layer.7.output.dense.weight', 'encoder.layer.4.attention.output.dense.weight', 'encoder.layer.10.attention.self.value.bias', 'encoder.layer.6.intermediate.dense.bias', 'encoder.layer.10.output.dense.weight', 'encoder.layer.8.attention.output.LayerNorm.weight', 'encoder.layer.1.attention.self.query.bias', 'encoder.layer.2.attention.output.dense.weight', 'encoder.layer.4.attention.self.value.weight', 'encoder.layer.5.intermediate.dense.bias', 'encoder.layer.8.output.LayerNorm.bias', 'encoder.layer.7.attention.output.LayerNorm.bias', 'encoder.layer.5.output.LayerNorm.weight', 'encoder.layer.6.attention.self.key.weight', 'pooler.dense.bias', 'encoder.layer.1.attention.output.dense.bias', 'encoder.layer.7.output.dense.bias', 'encoder.layer.9.intermediate.dense.bias', 'encoder.layer.11.intermediate.dense.bias', 'encoder.layer.7.output.LayerNorm.bias', 'encoder.layer.7.intermediate.dense.weight', 'encoder.layer.8.attention.output.dense.bias', 'encoder.layer.8.output.dense.weight', 'encoder.layer.11.attention.self.value.weight', 'encoder.layer.0.output.LayerNorm.weight', 'encoder.layer.1.output.LayerNorm.weight', 'encoder.layer.8.intermediate.dense.weight', 'encoder.layer.11.output.dense.weight', 'embeddings.token_type_embeddings.weight', 'encoder.layer.11.attention.output.LayerNorm.weight', 'encoder.layer.3.attention.self.key.bias', 'encoder.layer.10.attention.output.LayerNorm.weight', 'encoder.layer.11.attention.self.key.weight', 'encoder.layer.0.intermediate.dense.bias', 'encoder.layer.3.output.dense.bias', 'encoder.layer.2.attention.self.value.bias', 'encoder.layer.3.output.LayerNorm.bias', 'encoder.layer.0.attention.output.dense.weight', 'encoder.layer.10.intermediate.dense.weight', 'encoder.layer.2.output.LayerNorm.bias', 'encoder.layer.3.output.LayerNorm.weight', 'encoder.layer.7.attention.self.value.weight', 'encoder.layer.3.attention.self.query.weight', 'embeddings.LayerNorm.weight', 'encoder.layer.9.output.dense.weight', 'encoder.layer.10.attention.self.value.weight', 'classifier.weight', 'encoder.layer.3.attention.self.query.bias', 'encoder.layer.0.output.dense.bias', 'encoder.layer.7.output.LayerNorm.weight', 'encoder.layer.3.attention.output.dense.weight', 'encoder.layer.4.output.dense.bias', 'encoder.layer.4.attention.self.key.bias', 'encoder.layer.4.output.dense.weight', 'encoder.layer.5.output.dense.weight', 'encoder.layer.7.attention.self.key.bias', 'encoder.layer.9.attention.output.dense.bias', 'encoder.layer.11.output.dense.bias', 'encoder.layer.1.attention.self.key.bias', 'encoder.layer.5.attention.self.key.bias', 'encoder.layer.9.output.LayerNorm.weight', 'encoder.layer.5.output.LayerNorm.bias', 'encoder.layer.11.output.LayerNorm.weight', 'encoder.layer.0.attention.output.LayerNorm.bias', 'encoder.layer.4.output.LayerNorm.weight', 'encoder.layer.8.attention.self.key.bias', 'encoder.layer.9.attention.output.LayerNorm.weight', 'encoder.layer.1.attention.output.LayerNorm.weight', 'encoder.layer.7.attention.self.value.bias', 'encoder.layer.5.attention.self.value.weight', 'encoder.layer.10.attention.self.key.weight', 'encoder.layer.4.attention.self.value.bias', 'encoder.layer.10.output.LayerNorm.weight', 'encoder.layer.11.attention.self.value.bias', 'encoder.layer.4.attention.output.LayerNorm.weight', 'encoder.layer.2.attention.self.query.weight', 'encoder.layer.5.attention.self.query.bias', 'encoder.layer.2.attention.self.value.weight', 'encoder.layer.0.attention.output.dense.bias', 'encoder.layer.4.attention.self.key.weight', 'encoder.layer.9.attention.output.LayerNorm.bias', 'encoder.layer.5.output.dense.bias', 'encoder.layer.2.attention.output.dense.bias', 'encoder.layer.8.attention.output.LayerNorm.bias', 'encoder.layer.0.attention.self.key.weight', 'encoder.layer.0.attention.self.query.weight', 'encoder.layer.9.attention.self.key.bias', 'encoder.layer.11.output.LayerNorm.bias', 'encoder.layer.2.attention.self.key.weight', 'encoder.layer.8.output.dense.bias', 'encoder.layer.6.attention.self.query.weight', 'encoder.layer.6.output.dense.bias', 'encoder.layer.9.attention.self.value.bias', 'encoder.layer.10.attention.output.dense.bias', 'encoder.layer.6.output.dense.weight', 'encoder.layer.8.attention.self.query.bias', 'encoder.layer.10.attention.self.key.bias', 'embeddings.word_embeddings.weight', 'encoder.layer.10.attention.self.query.weight', 'encoder.layer.5.attention.self.query.weight', 'encoder.layer.8.intermediate.dense.bias', 'encoder.layer.6.attention.output.dense.weight', 'encoder.layer.5.attention.self.key.weight', 'encoder.layer.7.attention.output.dense.bias', 'encoder.layer.7.attention.output.LayerNorm.weight', 'classifier.bias', 'encoder.layer.6.attention.self.query.bias', 'embeddings.LayerNorm.bias', 'encoder.layer.5.intermediate.dense.weight', 'encoder.layer.8.attention.self.value.weight', 'encoder.layer.0.attention.self.value.weight', 'encoder.layer.9.output.dense.bias', 'encoder.layer.8.attention.self.query.weight', 'encoder.layer.3.attention.output.LayerNorm.weight', 'encoder.layer.11.attention.output.LayerNorm.bias', 'encoder.layer.1.attention.self.value.weight', 'encoder.layer.9.output.LayerNorm.bias', 'encoder.layer.8.attention.self.value.bias', 'encoder.layer.10.attention.output.LayerNorm.bias', 'encoder.layer.5.attention.self.value.bias', 'encoder.layer.0.attention.self.query.bias', 'encoder.layer.1.attention.output.LayerNorm.bias', 'encoder.layer.6.attention.self.key.bias', 'encoder.layer.7.attention.self.key.weight', 'encoder.layer.4.intermediate.dense.bias', 'encoder.layer.5.attention.output.dense.bias', 'encoder.layer.4.attention.output.dense.bias', 'embeddings.position_embeddings.weight', 'encoder.layer.10.intermediate.dense.bias', 'encoder.layer.4.attention.self.query.weight', 'encoder.layer.4.attention.self.query.bias', 'encoder.layer.6.output.LayerNorm.bias', 'encoder.layer.11.attention.self.key.bias', 'encoder.layer.1.attention.self.value.bias', 'encoder.layer.10.attention.output.dense.weight', 'encoder.layer.7.attention.self.query.weight', 'encoder.layer.9.attention.self.key.weight', 'encoder.layer.3.attention.self.key.weight', 'encoder.layer.1.intermediate.dense.weight', 'encoder.layer.2.output.LayerNorm.weight', 'encoder.layer.10.output.LayerNorm.bias', 'encoder.layer.2.output.dense.weight', 'encoder.layer.4.output.LayerNorm.bias', 'encoder.layer.1.attention.self.query.weight', 'encoder.layer.9.attention.self.value.weight', 'encoder.layer.0.output.dense.weight', 'encoder.layer.0.intermediate.dense.weight', 'encoder.layer.6.attention.output.LayerNorm.weight', 'encoder.layer.0.attention.output.LayerNorm.weight', 'encoder.layer.6.attention.self.value.bias', 'encoder.layer.9.intermediate.dense.weight', 'encoder.layer.9.attention.output.dense.weight', 'encoder.layer.1.output.LayerNorm.bias', 'encoder.layer.7.attention.output.dense.weight', 'encoder.layer.9.attention.self.query.bias', 'encoder.layer.2.attention.self.query.bias', 'encoder.layer.2.intermediate.dense.weight', 'encoder.layer.8.output.LayerNorm.weight', 'encoder.layer.1.output.dense.bias']\n",
            "You should probably TRAIN this model on a down-stream task to be able to use it for predictions and inference.\n"
          ]
        }
      ]
    },
    {
      "cell_type": "markdown",
      "source": [
        "BERT base es un modelo de 24 capas con parámetros de 330M, y es imposible entrenar sin una configuración potente.\n",
        "\n",
        "Sin embargo, se puede ajustar el modelo para que se familiarice con el conjunto de datos (IMDB) y obtener mejores resultados (esto también se conoce como \"transfer learning\").\n",
        "\n",
        "Se puede hacer \"congelando\" la mayor parte de la red y volviendo a entrenar (ajustar pesos) una pequeña parte de ella.\n",
        "\n",
        "Está comprobado que las primeras capas de las Redes Neuronales capturan características más generales de los datos, y se volverán más específicos a medida que se profundice.\n",
        "\n",
        "Entonces, se va a \"congelar\" todo el modelo BERT."
      ],
      "metadata": {
        "id": "oU3qUPkAEemo"
      }
    },
    {
      "cell_type": "code",
      "source": [
        "# al ejecutar el siguiente código, se está pasando por todos los parámetros y se establece su atributo require_grad en cero.\n",
        "# significa que Huggingface no intentará optimizar estos pesos.\n",
        "# el número total de parámetros entrenables será 2050, que pertenece al classifier head en model.classifier (en lugar de model.bert).\n",
        "# ahora se puede ajustar el modelo.\n",
        "\n",
        "for name, param in model.bert.named_parameters():\n",
        "    param.requires_grad = False"
      ],
      "metadata": {
        "id": "I7Jbk3L4FX_Q"
      },
      "execution_count": 46,
      "outputs": []
    },
    {
      "cell_type": "markdown",
      "source": [
        "Definir las métricas"
      ],
      "metadata": {
        "id": "Sk8aAczjGItQ"
      }
    },
    {
      "cell_type": "code",
      "source": [
        "# cargar la métricas que se usarán\n",
        "from sklearn.metrics import accuracy_score, precision_recall_fscore_support, classification_report\n",
        "\n",
        "# función para calcular las métricas de las predicciones\n",
        "def compute_metrics(pred):\n",
        "    labels = pred.label_ids\n",
        "    preds = pred.predictions.argmax(-1)\n",
        "    precision, recall, f1, _ = precision_recall_fscore_support(labels, preds, average='binary')\n",
        "    acc = accuracy_score(labels, preds)\n",
        "    print ( classification_report(labels, preds) )\n",
        "    return {\n",
        "        'accuracy': acc,\n",
        "        'f1': f1,\n",
        "        'precision': precision,\n",
        "        'recall': recall\n",
        "    }"
      ],
      "metadata": {
        "id": "fwAuTv0kGKc5"
      },
      "execution_count": 47,
      "outputs": []
    },
    {
      "cell_type": "markdown",
      "source": [
        "### Establecer parámetros de entrenamiento\n",
        "\n",
        "Ver más argumentos para: [*TrainingArguments*](https://huggingface.co/docs/transformers/main_classes/trainer#transformers.TrainingArguments)\n",
        "\n",
        "Argumentos para el [*Trainer*](https://huggingface.co/docs/transformers/main_classes/trainer#transformers.Trainer)"
      ],
      "metadata": {
        "id": "lSbPs7gVGopI"
      }
    },
    {
      "cell_type": "code",
      "source": [
        "from transformers import Trainer, TrainingArguments\n",
        "\n",
        "training_args = TrainingArguments(\n",
        "    output_dir                  = \"./sentiment-analysis\",\n",
        "    num_train_epochs            = 3,\n",
        "    per_device_train_batch_size = 128,\n",
        "    per_device_eval_batch_size  = 64,\n",
        "    warmup_steps                = 500,\n",
        "    weight_decay                = 0.01,\n",
        "    save_strategy               = \"epoch\",\n",
        "    evaluation_strategy         = \"steps\"\n",
        ")\n",
        "\n",
        "trainer = Trainer(\n",
        "    model           = model.to(device),\n",
        "    args            = training_args,\n",
        "    train_dataset   = train_set_dataset,\n",
        "    eval_dataset    = valid_set_dataset,\n",
        "    compute_metrics = compute_metrics\n",
        ")\n",
        "\n"
      ],
      "metadata": {
        "id": "49MY-cJiGMNY",
        "colab": {
          "base_uri": "https://localhost:8080/"
        },
        "outputId": "fefc53db-120e-4241-d587-7eaab921d596"
      },
      "execution_count": 48,
      "outputs": [
        {
          "output_type": "stream",
          "name": "stderr",
          "text": [
            "using `logging_steps` to initialize `eval_steps` to 500\n",
            "PyTorch: setting up devices\n",
            "The default value for the training argument `--report_to` will change in v5 (from all installed integrations to none). In v5, you will need to use `--report_to all` to get the same behavior as now. You should start updating your code and make this info disappear :-).\n"
          ]
        }
      ]
    },
    {
      "cell_type": "markdown",
      "source": [
        "**Nota**: `warmup_steps` es un parámetro que se utiliza para reducir la tasa de aprendizaje a fin de reducir el impacto de desviar el modelo del aprendizaje en la exposición repentina de nuevos conjuntos de datos.\n",
        "\n",
        "> Por ejemplo: Si se establece `warmup_steps` como `500` para una iteración de 10,000 iteraciones, para las primeras 500 iteraciones, el modelo aprenderá el corpus con una tasa de aprendizaje mínima que la tasa que se ha especificado en el modelo. A partir de la iteración 501, el modelo usará la tasa de aprendizaje tal como se da."
      ],
      "metadata": {
        "id": "eeVW9X5MLHkR"
      }
    },
    {
      "cell_type": "markdown",
      "source": [
        "### Entrenar el modelo"
      ],
      "metadata": {
        "id": "DleVPOfFH8TI"
      }
    },
    {
      "cell_type": "code",
      "source": [
        "trainer.train()"
      ],
      "metadata": {
        "colab": {
          "base_uri": "https://localhost:8080/",
          "height": 512
        },
        "id": "P9lEHZooH-EA",
        "outputId": "b4149dea-830b-4d69-be97-9b96a6f96527"
      },
      "execution_count": 49,
      "outputs": [
        {
          "output_type": "stream",
          "name": "stderr",
          "text": [
            "/usr/local/lib/python3.7/dist-packages/transformers/optimization.py:309: FutureWarning: This implementation of AdamW is deprecated and will be removed in a future version. Use the PyTorch implementation torch.optim.AdamW instead, or set `no_deprecation_warning=True` to disable this warning\n",
            "  FutureWarning,\n",
            "***** Running training *****\n",
            "  Num examples = 3000\n",
            "  Num Epochs = 3\n",
            "  Instantaneous batch size per device = 128\n",
            "  Total train batch size (w. parallel, distributed & accumulation) = 128\n",
            "  Gradient Accumulation steps = 1\n",
            "  Total optimization steps = 72\n"
          ]
        },
        {
          "output_type": "display_data",
          "data": {
            "text/plain": [
              "<IPython.core.display.HTML object>"
            ],
            "text/html": [
              "\n",
              "    <div>\n",
              "      \n",
              "      <progress value='72' max='72' style='width:300px; height:20px; vertical-align: middle;'></progress>\n",
              "      [72/72 10:06, Epoch 3/3]\n",
              "    </div>\n",
              "    <table border=\"1\" class=\"dataframe\">\n",
              "  <thead>\n",
              " <tr style=\"text-align: left;\">\n",
              "      <th>Step</th>\n",
              "      <th>Training Loss</th>\n",
              "      <th>Validation Loss</th>\n",
              "    </tr>\n",
              "  </thead>\n",
              "  <tbody>\n",
              "  </tbody>\n",
              "</table><p>"
            ]
          },
          "metadata": {}
        },
        {
          "output_type": "stream",
          "name": "stderr",
          "text": [
            "Saving model checkpoint to ./sentiment-analysis/checkpoint-24\n",
            "Configuration saved in ./sentiment-analysis/checkpoint-24/config.json\n",
            "Model weights saved in ./sentiment-analysis/checkpoint-24/pytorch_model.bin\n",
            "Saving model checkpoint to ./sentiment-analysis/checkpoint-48\n",
            "Configuration saved in ./sentiment-analysis/checkpoint-48/config.json\n",
            "Model weights saved in ./sentiment-analysis/checkpoint-48/pytorch_model.bin\n",
            "Saving model checkpoint to ./sentiment-analysis/checkpoint-72\n",
            "Configuration saved in ./sentiment-analysis/checkpoint-72/config.json\n",
            "Model weights saved in ./sentiment-analysis/checkpoint-72/pytorch_model.bin\n",
            "\n",
            "\n",
            "Training completed. Do not forget to share your model on huggingface.co/models =)\n",
            "\n",
            "\n"
          ]
        },
        {
          "output_type": "execute_result",
          "data": {
            "text/plain": [
              "TrainOutput(global_step=72, training_loss=0.6992165777418349, metrics={'train_runtime': 615.034, 'train_samples_per_second': 14.633, 'train_steps_per_second': 0.117, 'total_flos': 2367999498240000.0, 'train_loss': 0.6992165777418349, 'epoch': 3.0})"
            ]
          },
          "metadata": {},
          "execution_count": 49
        }
      ]
    },
    {
      "cell_type": "markdown",
      "source": [
        "Usando más datos para el entrenamiento indica que para una época se tardará más de 70 horas\n",
        "\n",
        "<pre>\n",
        "/usr/local/lib/python3.7/dist-packages/transformers/optimization.py:309: FutureWarning: This implementation of AdamW is deprecated and will be removed in a future version. Use the PyTorch implementation torch.optim.AdamW instead, or set `no_deprecation_warning=True` to disable this warning\n",
        "  FutureWarning,\n",
        "***** Running training *****\n",
        "  Num examples = 40000\n",
        "  Num Epochs = 1\n",
        "  Instantaneous batch size per device = 128\n",
        "  Total train batch size (w. parallel, distributed & accumulation) = 128\n",
        "  Gradient Accumulation steps = 1\n",
        "  Total optimization steps = 313\n",
        " [ 3/313 13:40 < 70:39:00, 0.00 it/s, Epoch 0.01/1]\n",
        "Step\tTraining Loss\tValidation Loss\n",
        "</pre>"
      ],
      "metadata": {
        "id": "TkzkgqINQqAA"
      }
    },
    {
      "cell_type": "markdown",
      "source": [
        "### Realizar predicciones con el modelo entrenado\n",
        "\n",
        "Usar el modelo `./sentiment-analysis` para realizar predicciones con el conjunto de prueba\n",
        "\n"
      ],
      "metadata": {
        "id": "ZGM8DuE5Mlgh"
      }
    },
    {
      "cell_type": "code",
      "source": [
        "# Load the checkpoint\n",
        "model = BertForSequenceClassification.from_pretrained(\"./sentiment-analysis/checkpoint-72\")\n",
        "\n",
        "# Make the test set ready\n",
        "test_set_dataset = MakeDataset(\n",
        "    reviews    = test_set.review.tolist(),\n",
        "    sentiments = test_set.sentiment.tolist(),\n",
        "    tokenizer  = tokenizer,\n",
        ")\n",
        "\n",
        "training_args = TrainingArguments(\n",
        "    output_dir = \"./sentiment-analysis\",\n",
        "    do_predict = True\n",
        ")\n",
        "\n",
        "trainer = Trainer(\n",
        "    model           = model,\n",
        "    args            = training_args,\n",
        "    compute_metrics = compute_metrics,\n",
        ")"
      ],
      "metadata": {
        "id": "hlsmenugMt05",
        "colab": {
          "base_uri": "https://localhost:8080/"
        },
        "outputId": "facaa81a-8a10-40ee-b7db-32dfd24f601b"
      },
      "execution_count": 52,
      "outputs": [
        {
          "output_type": "stream",
          "name": "stderr",
          "text": [
            "loading configuration file ./sentiment-analysis/checkpoint-72/config.json\n",
            "Model config BertConfig {\n",
            "  \"_name_or_path\": \"distilbert-base-uncased\",\n",
            "  \"activation\": \"gelu\",\n",
            "  \"architectures\": [\n",
            "    \"BertForSequenceClassification\"\n",
            "  ],\n",
            "  \"attention_dropout\": 0.1,\n",
            "  \"attention_probs_dropout_prob\": 0.1,\n",
            "  \"classifier_dropout\": null,\n",
            "  \"dim\": 768,\n",
            "  \"dropout\": 0.1,\n",
            "  \"hidden_act\": \"gelu\",\n",
            "  \"hidden_dim\": 3072,\n",
            "  \"hidden_dropout_prob\": 0.1,\n",
            "  \"hidden_size\": 768,\n",
            "  \"initializer_range\": 0.02,\n",
            "  \"intermediate_size\": 3072,\n",
            "  \"layer_norm_eps\": 1e-12,\n",
            "  \"max_position_embeddings\": 512,\n",
            "  \"model_type\": \"bert\",\n",
            "  \"n_heads\": 12,\n",
            "  \"n_layers\": 6,\n",
            "  \"num_attention_heads\": 12,\n",
            "  \"num_hidden_layers\": 12,\n",
            "  \"pad_token_id\": 0,\n",
            "  \"position_embedding_type\": \"absolute\",\n",
            "  \"problem_type\": \"single_label_classification\",\n",
            "  \"qa_dropout\": 0.1,\n",
            "  \"seq_classif_dropout\": 0.2,\n",
            "  \"sinusoidal_pos_embds\": false,\n",
            "  \"tie_weights_\": true,\n",
            "  \"torch_dtype\": \"float32\",\n",
            "  \"transformers_version\": \"4.18.0\",\n",
            "  \"type_vocab_size\": 2,\n",
            "  \"use_cache\": true,\n",
            "  \"vocab_size\": 30522\n",
            "}\n",
            "\n",
            "loading weights file ./sentiment-analysis/checkpoint-72/pytorch_model.bin\n",
            "All model checkpoint weights were used when initializing BertForSequenceClassification.\n",
            "\n",
            "All the weights of BertForSequenceClassification were initialized from the model checkpoint at ./sentiment-analysis/checkpoint-72.\n",
            "If your task is similar to the task the model of the checkpoint was trained on, you can already use BertForSequenceClassification for predictions without further training.\n",
            "PyTorch: setting up devices\n",
            "The default value for the training argument `--report_to` will change in v5 (from all installed integrations to none). In v5, you will need to use `--report_to all` to get the same behavior as now. You should start updating your code and make this info disappear :-).\n"
          ]
        }
      ]
    },
    {
      "cell_type": "code",
      "source": [
        "# realizar predicciones\n",
        "trainer.predict(test_set_dataset)"
      ],
      "metadata": {
        "id": "pT7W1aBoNO-I",
        "colab": {
          "base_uri": "https://localhost:8080/",
          "height": 1000
        },
        "outputId": "9fca3fb4-d4c4-4efe-ffa3-fed25c61d3da"
      },
      "execution_count": 53,
      "outputs": [
        {
          "output_type": "stream",
          "name": "stderr",
          "text": [
            "***** Running Prediction *****\n",
            "  Num examples = 500\n",
            "  Batch size = 8\n"
          ]
        },
        {
          "output_type": "display_data",
          "data": {
            "text/plain": [
              "<IPython.core.display.HTML object>"
            ],
            "text/html": [
              "\n",
              "    <div>\n",
              "      \n",
              "      <progress value='63' max='63' style='width:300px; height:20px; vertical-align: middle;'></progress>\n",
              "      [63/63 00:32]\n",
              "    </div>\n",
              "    "
            ]
          },
          "metadata": {}
        },
        {
          "output_type": "stream",
          "name": "stdout",
          "text": [
            "              precision    recall  f1-score   support\n",
            "\n",
            "           0       0.52      0.10      0.17       280\n",
            "           1       0.43      0.88      0.58       220\n",
            "\n",
            "    accuracy                           0.44       500\n",
            "   macro avg       0.48      0.49      0.38       500\n",
            "weighted avg       0.48      0.44      0.35       500\n",
            "\n"
          ]
        },
        {
          "output_type": "execute_result",
          "data": {
            "text/plain": [
              "PredictionOutput(predictions=array([[-0.2505452 , -0.23260684],\n",
              "       [-0.24935961, -0.21330106],\n",
              "       [-0.23841059, -0.23069544],\n",
              "       [-0.22569053, -0.24053916],\n",
              "       [-0.251482  , -0.20384452],\n",
              "       [-0.24126565, -0.21559982],\n",
              "       [-0.2449054 , -0.22589241],\n",
              "       [-0.26285437, -0.21664654],\n",
              "       [-0.2462656 , -0.21956505],\n",
              "       [-0.25588185, -0.2233397 ],\n",
              "       [-0.20409629, -0.24259172],\n",
              "       [-0.27452356, -0.21895017],\n",
              "       [-0.24549039, -0.19904703],\n",
              "       [-0.2684882 , -0.23071681],\n",
              "       [-0.21374978, -0.21564737],\n",
              "       [-0.25494403, -0.22805578],\n",
              "       [-0.23678641, -0.22201404],\n",
              "       [-0.23140368, -0.22032064],\n",
              "       [-0.2769879 , -0.21615922],\n",
              "       [-0.22745834, -0.20623668],\n",
              "       [-0.24481727, -0.21417005],\n",
              "       [-0.29029363, -0.2174478 ],\n",
              "       [-0.28606367, -0.23904935],\n",
              "       [-0.2573217 , -0.21172981],\n",
              "       [-0.25625035, -0.2025674 ],\n",
              "       [-0.26671335, -0.21091112],\n",
              "       [-0.2609994 , -0.21761173],\n",
              "       [-0.26255006, -0.21988277],\n",
              "       [-0.26604274, -0.22264333],\n",
              "       [-0.2486322 , -0.23671606],\n",
              "       [-0.25174078, -0.21923812],\n",
              "       [-0.2551128 , -0.20682198],\n",
              "       [-0.2555957 , -0.22610371],\n",
              "       [-0.2534969 , -0.22384797],\n",
              "       [-0.2367298 , -0.20499867],\n",
              "       [-0.26287234, -0.21061906],\n",
              "       [-0.26579598, -0.20253678],\n",
              "       [-0.26043832, -0.20907646],\n",
              "       [-0.26997074, -0.21318284],\n",
              "       [-0.23659334, -0.21574657],\n",
              "       [-0.24555159, -0.2130379 ],\n",
              "       [-0.25304747, -0.2122043 ],\n",
              "       [-0.26640102, -0.20603141],\n",
              "       [-0.26681405, -0.24492478],\n",
              "       [-0.23301972, -0.22024448],\n",
              "       [-0.24927573, -0.21022226],\n",
              "       [-0.25386414, -0.2273563 ],\n",
              "       [-0.27308416, -0.23584016],\n",
              "       [-0.2571762 , -0.21644771],\n",
              "       [-0.22526239, -0.24788061],\n",
              "       [-0.23709387, -0.22855584],\n",
              "       [-0.24977386, -0.2120331 ],\n",
              "       [-0.25033844, -0.20534693],\n",
              "       [-0.24408375, -0.22759253],\n",
              "       [-0.22953865, -0.2307437 ],\n",
              "       [-0.22557905, -0.24170525],\n",
              "       [-0.25975594, -0.2072694 ],\n",
              "       [-0.2565366 , -0.20593527],\n",
              "       [-0.26004097, -0.21353315],\n",
              "       [-0.26245117, -0.24818735],\n",
              "       [-0.2483448 , -0.23502955],\n",
              "       [-0.27096066, -0.21204895],\n",
              "       [-0.25563672, -0.20319451],\n",
              "       [-0.2576767 , -0.22471157],\n",
              "       [-0.26791963, -0.22213688],\n",
              "       [-0.23253176, -0.2212139 ],\n",
              "       [-0.2603096 , -0.22467466],\n",
              "       [-0.24663545, -0.2139305 ],\n",
              "       [-0.24198267, -0.2153029 ],\n",
              "       [-0.23442878, -0.23063123],\n",
              "       [-0.26959956, -0.22279061],\n",
              "       [-0.26851037, -0.2114382 ],\n",
              "       [-0.26039615, -0.21120542],\n",
              "       [-0.27651662, -0.21276051],\n",
              "       [-0.26482052, -0.21558672],\n",
              "       [-0.26565245, -0.22274145],\n",
              "       [-0.24688789, -0.21569976],\n",
              "       [-0.25982347, -0.23317969],\n",
              "       [-0.26470163, -0.19672813],\n",
              "       [-0.23971716, -0.21519497],\n",
              "       [-0.269482  , -0.20666958],\n",
              "       [-0.24565649, -0.2001151 ],\n",
              "       [-0.23977211, -0.22688578],\n",
              "       [-0.2563664 , -0.22171944],\n",
              "       [-0.26266858, -0.20673002],\n",
              "       [-0.22168624, -0.22808294],\n",
              "       [-0.21946241, -0.22389401],\n",
              "       [-0.23968795, -0.21251802],\n",
              "       [-0.23520564, -0.19880725],\n",
              "       [-0.23224714, -0.225344  ],\n",
              "       [-0.24779363, -0.21811883],\n",
              "       [-0.26034218, -0.21717489],\n",
              "       [-0.24250957, -0.21911699],\n",
              "       [-0.28375095, -0.21580498],\n",
              "       [-0.23531452, -0.21656077],\n",
              "       [-0.24461095, -0.22814816],\n",
              "       [-0.2623267 , -0.21478787],\n",
              "       [-0.2632748 , -0.21456507],\n",
              "       [-0.2682293 , -0.23578258],\n",
              "       [-0.25102866, -0.22170524],\n",
              "       [-0.24986304, -0.20943518],\n",
              "       [-0.25946218, -0.22934821],\n",
              "       [-0.26568666, -0.23010892],\n",
              "       [-0.26110795, -0.23022515],\n",
              "       [-0.2207379 , -0.23313795],\n",
              "       [-0.23420577, -0.2227054 ],\n",
              "       [-0.27523988, -0.2051959 ],\n",
              "       [-0.24164264, -0.21766461],\n",
              "       [-0.26190442, -0.21973066],\n",
              "       [-0.25214192, -0.22574888],\n",
              "       [-0.23651792, -0.23202544],\n",
              "       [-0.25979432, -0.23406301],\n",
              "       [-0.24498695, -0.22311653],\n",
              "       [-0.2502488 , -0.2083009 ],\n",
              "       [-0.2270413 , -0.25734815],\n",
              "       [-0.24608465, -0.22659786],\n",
              "       [-0.23314516, -0.17929873],\n",
              "       [-0.26799083, -0.20716707],\n",
              "       [-0.24545282, -0.22106604],\n",
              "       [-0.23145051, -0.22291154],\n",
              "       [-0.24701989, -0.21360572],\n",
              "       [-0.2667677 , -0.22215366],\n",
              "       [-0.26618564, -0.2161835 ],\n",
              "       [-0.27325562, -0.22528277],\n",
              "       [-0.2239769 , -0.2074344 ],\n",
              "       [-0.24322693, -0.22349124],\n",
              "       [-0.27486768, -0.22400011],\n",
              "       [-0.24754167, -0.20852411],\n",
              "       [-0.25999707, -0.236225  ],\n",
              "       [-0.25702196, -0.22356416],\n",
              "       [-0.2272147 , -0.23277411],\n",
              "       [-0.21713412, -0.24905363],\n",
              "       [-0.23491219, -0.21632823],\n",
              "       [-0.25622824, -0.21469595],\n",
              "       [-0.2657223 , -0.19723426],\n",
              "       [-0.26988095, -0.21339808],\n",
              "       [-0.23631082, -0.23205003],\n",
              "       [-0.24413544, -0.24616994],\n",
              "       [-0.2631834 , -0.22277324],\n",
              "       [-0.26593015, -0.22355649],\n",
              "       [-0.23655032, -0.2214305 ],\n",
              "       [-0.2559354 , -0.18213008],\n",
              "       [-0.25041673, -0.22371358],\n",
              "       [-0.23780978, -0.22678325],\n",
              "       [-0.26070368, -0.22236097],\n",
              "       [-0.23165904, -0.22619519],\n",
              "       [-0.23938607, -0.23227556],\n",
              "       [-0.24881032, -0.19784304],\n",
              "       [-0.22403358, -0.22377993],\n",
              "       [-0.24247679, -0.23876159],\n",
              "       [-0.26359832, -0.2070053 ],\n",
              "       [-0.25334102, -0.20436299],\n",
              "       [-0.26620397, -0.20314437],\n",
              "       [-0.2592028 , -0.21862024],\n",
              "       [-0.26449537, -0.22441457],\n",
              "       [-0.27327505, -0.20575163],\n",
              "       [-0.22419524, -0.2335119 ],\n",
              "       [-0.27144545, -0.2073174 ],\n",
              "       [-0.23940353, -0.23408344],\n",
              "       [-0.22785415, -0.2412718 ],\n",
              "       [-0.2553309 , -0.21969223],\n",
              "       [-0.19864263, -0.24146473],\n",
              "       [-0.24590361, -0.22466809],\n",
              "       [-0.2691902 , -0.23666666],\n",
              "       [-0.22850811, -0.23941179],\n",
              "       [-0.23360701, -0.18136781],\n",
              "       [-0.24816817, -0.23080115],\n",
              "       [-0.24757974, -0.23817912],\n",
              "       [-0.26228747, -0.1982311 ],\n",
              "       [-0.23753402, -0.22002648],\n",
              "       [-0.25043097, -0.21037944],\n",
              "       [-0.27998698, -0.21793374],\n",
              "       [-0.2412947 , -0.2122434 ],\n",
              "       [-0.25380433, -0.20890881],\n",
              "       [-0.24697995, -0.22521167],\n",
              "       [-0.25439674, -0.2275567 ],\n",
              "       [-0.24372904, -0.22531581],\n",
              "       [-0.25018024, -0.23304957],\n",
              "       [-0.2721932 , -0.20528261],\n",
              "       [-0.2625358 , -0.22470321],\n",
              "       [-0.2584729 , -0.2250882 ],\n",
              "       [-0.24696545, -0.23093101],\n",
              "       [-0.25047055, -0.2666911 ],\n",
              "       [-0.21482883, -0.22732507],\n",
              "       [-0.24744475, -0.20744415],\n",
              "       [-0.250755  , -0.22054271],\n",
              "       [-0.20021006, -0.25115776],\n",
              "       [-0.23588434, -0.24207202],\n",
              "       [-0.2139875 , -0.23283567],\n",
              "       [-0.2571958 , -0.22090378],\n",
              "       [-0.26372325, -0.22147088],\n",
              "       [-0.20806281, -0.19537823],\n",
              "       [-0.2603088 , -0.2128768 ],\n",
              "       [-0.20958652, -0.22926435],\n",
              "       [-0.247041  , -0.23299105],\n",
              "       [-0.22494054, -0.2205066 ],\n",
              "       [-0.26090324, -0.22084436],\n",
              "       [-0.24768   , -0.2254781 ],\n",
              "       [-0.2594826 , -0.21154442],\n",
              "       [-0.2615987 , -0.21578026],\n",
              "       [-0.2698749 , -0.20323415],\n",
              "       [-0.19979839, -0.20183   ],\n",
              "       [-0.2462815 , -0.2157246 ],\n",
              "       [-0.26533067, -0.17939287],\n",
              "       [-0.22160758, -0.21153007],\n",
              "       [-0.2564842 , -0.21674979],\n",
              "       [-0.23916891, -0.2186079 ],\n",
              "       [-0.25741827, -0.2140726 ],\n",
              "       [-0.22997963, -0.22383873],\n",
              "       [-0.2432199 , -0.25560865],\n",
              "       [-0.2588977 , -0.22319037],\n",
              "       [-0.2682329 , -0.20323741],\n",
              "       [-0.25165913, -0.24844803],\n",
              "       [-0.2557697 , -0.21298273],\n",
              "       [-0.2434685 , -0.22482535],\n",
              "       [-0.26576778, -0.2257848 ],\n",
              "       [-0.2904611 , -0.22114661],\n",
              "       [-0.23905617, -0.21359858],\n",
              "       [-0.24691199, -0.22087827],\n",
              "       [-0.28595275, -0.21175174],\n",
              "       [-0.26304483, -0.23492359],\n",
              "       [-0.27460843, -0.2296447 ],\n",
              "       [-0.23305039, -0.23965643],\n",
              "       [-0.24185613, -0.24290755],\n",
              "       [-0.2570535 , -0.20227474],\n",
              "       [-0.24466746, -0.21354339],\n",
              "       [-0.20968571, -0.22586955],\n",
              "       [-0.22421983, -0.24447721],\n",
              "       [-0.23223726, -0.22555815],\n",
              "       [-0.2580571 , -0.2248825 ],\n",
              "       [-0.24713698, -0.22709382],\n",
              "       [-0.27069935, -0.21023542],\n",
              "       [-0.25116828, -0.23139365],\n",
              "       [-0.24258776, -0.22010896],\n",
              "       [-0.24255311, -0.23160018],\n",
              "       [-0.25122213, -0.20904173],\n",
              "       [-0.24661718, -0.21738279],\n",
              "       [-0.24959444, -0.21382736],\n",
              "       [-0.25518888, -0.21714008],\n",
              "       [-0.2862816 , -0.19708115],\n",
              "       [-0.26434663, -0.2330709 ],\n",
              "       [-0.28193444, -0.22212733],\n",
              "       [-0.24370518, -0.2290304 ],\n",
              "       [-0.2604812 , -0.21086872],\n",
              "       [-0.2582755 , -0.22007026],\n",
              "       [-0.27131686, -0.20450506],\n",
              "       [-0.25158447, -0.21427341],\n",
              "       [-0.24407016, -0.19931625],\n",
              "       [-0.26230022, -0.19988294],\n",
              "       [-0.2546622 , -0.2042789 ],\n",
              "       [-0.27823657, -0.22288737],\n",
              "       [-0.25509462, -0.2058119 ],\n",
              "       [-0.25649545, -0.2248685 ],\n",
              "       [-0.2515558 , -0.20627375],\n",
              "       [-0.20696929, -0.23512557],\n",
              "       [-0.24541482, -0.2358435 ],\n",
              "       [-0.2684954 , -0.19902316],\n",
              "       [-0.2489038 , -0.2202598 ],\n",
              "       [-0.25723976, -0.2112018 ],\n",
              "       [-0.25149545, -0.22697471],\n",
              "       [-0.27080786, -0.21791002],\n",
              "       [-0.24485774, -0.1971283 ],\n",
              "       [-0.26087573, -0.19752066],\n",
              "       [-0.27752402, -0.20953901],\n",
              "       [-0.24866322, -0.21904708],\n",
              "       [-0.23207475, -0.22220539],\n",
              "       [-0.25840867, -0.20220183],\n",
              "       [-0.23696537, -0.23416953],\n",
              "       [-0.25631204, -0.2035307 ],\n",
              "       [-0.26243412, -0.21712562],\n",
              "       [-0.25797236, -0.19450617],\n",
              "       [-0.23950633, -0.2146723 ],\n",
              "       [-0.2631803 , -0.21868432],\n",
              "       [-0.2713912 , -0.20845978],\n",
              "       [-0.2797562 , -0.20869356],\n",
              "       [-0.25695777, -0.23661277],\n",
              "       [-0.24304576, -0.23589352],\n",
              "       [-0.23919384, -0.2158436 ],\n",
              "       [-0.2741592 , -0.2090355 ],\n",
              "       [-0.2565403 , -0.2178601 ],\n",
              "       [-0.26185927, -0.21903005],\n",
              "       [-0.25245053, -0.21622403],\n",
              "       [-0.25165182, -0.21303625],\n",
              "       [-0.22827582, -0.22155645],\n",
              "       [-0.23128141, -0.23756754],\n",
              "       [-0.26002938, -0.21773021],\n",
              "       [-0.24837103, -0.22360337],\n",
              "       [-0.2671102 , -0.20666967],\n",
              "       [-0.252857  , -0.21034253],\n",
              "       [-0.2753751 , -0.21248643],\n",
              "       [-0.23939607, -0.22144346],\n",
              "       [-0.2443559 , -0.18537714],\n",
              "       [-0.25116795, -0.21495229],\n",
              "       [-0.25158268, -0.19920903],\n",
              "       [-0.28139895, -0.20705755],\n",
              "       [-0.25744292, -0.24393263],\n",
              "       [-0.22369933, -0.17081374],\n",
              "       [-0.25899002, -0.2176159 ],\n",
              "       [-0.25163615, -0.21131541],\n",
              "       [-0.26746008, -0.2075729 ],\n",
              "       [-0.23492232, -0.23995641],\n",
              "       [-0.24633121, -0.20895511],\n",
              "       [-0.25770655, -0.20923103],\n",
              "       [-0.2781942 , -0.21656579],\n",
              "       [-0.26239917, -0.20914634],\n",
              "       [-0.23076196, -0.22921188],\n",
              "       [-0.24801514, -0.21943542],\n",
              "       [-0.28320703, -0.21307471],\n",
              "       [-0.23178172, -0.21605267],\n",
              "       [-0.26967236, -0.2321234 ],\n",
              "       [-0.270864  , -0.20694287],\n",
              "       [-0.2610855 , -0.2220149 ],\n",
              "       [-0.24805032, -0.21433842],\n",
              "       [-0.2512863 , -0.2260372 ],\n",
              "       [-0.25796643, -0.21448402],\n",
              "       [-0.24044418, -0.22846618],\n",
              "       [-0.24773447, -0.20772332],\n",
              "       [-0.273713  , -0.22077973],\n",
              "       [-0.26493347, -0.22689134],\n",
              "       [-0.2584293 , -0.2117179 ],\n",
              "       [-0.2679419 , -0.20095648],\n",
              "       [-0.29090226, -0.19381405],\n",
              "       [-0.2541363 , -0.23064706],\n",
              "       [-0.23286687, -0.20276915],\n",
              "       [-0.25533155, -0.19120581],\n",
              "       [-0.21223675, -0.19834258],\n",
              "       [-0.23433436, -0.23737693],\n",
              "       [-0.24494228, -0.23152314],\n",
              "       [-0.23180622, -0.22514844],\n",
              "       [-0.24745236, -0.23051775],\n",
              "       [-0.22279035, -0.23134618],\n",
              "       [-0.26216614, -0.20909029],\n",
              "       [-0.24883984, -0.22207901],\n",
              "       [-0.22940214, -0.21206129],\n",
              "       [-0.21946985, -0.23493347],\n",
              "       [-0.26412097, -0.22172637],\n",
              "       [-0.24667293, -0.21141426],\n",
              "       [-0.254599  , -0.21470976],\n",
              "       [-0.28065568, -0.20539513],\n",
              "       [-0.23312792, -0.20277578],\n",
              "       [-0.25747755, -0.23095971],\n",
              "       [-0.26319054, -0.21328121],\n",
              "       [-0.25246483, -0.19977278],\n",
              "       [-0.24534415, -0.20446542],\n",
              "       [-0.25709012, -0.21716607],\n",
              "       [-0.2544612 , -0.2287888 ],\n",
              "       [-0.274664  , -0.21630526],\n",
              "       [-0.24848115, -0.20249514],\n",
              "       [-0.23802382, -0.23041148],\n",
              "       [-0.26471502, -0.20970218],\n",
              "       [-0.23120148, -0.20626137],\n",
              "       [-0.25030592, -0.21136856],\n",
              "       [-0.2589605 , -0.19435345],\n",
              "       [-0.23783447, -0.24763946],\n",
              "       [-0.27863994, -0.21341395],\n",
              "       [-0.26193765, -0.21861528],\n",
              "       [-0.2574211 , -0.2299445 ],\n",
              "       [-0.2649937 , -0.24169104],\n",
              "       [-0.24061604, -0.25502223],\n",
              "       [-0.28308547, -0.20990801],\n",
              "       [-0.24639489, -0.2110252 ],\n",
              "       [-0.24149692, -0.2368171 ],\n",
              "       [-0.24878037, -0.22606392],\n",
              "       [-0.2752778 , -0.20812441],\n",
              "       [-0.2626    , -0.2059087 ],\n",
              "       [-0.24662112, -0.22228202],\n",
              "       [-0.26663026, -0.21003732],\n",
              "       [-0.26500955, -0.21349739],\n",
              "       [-0.2613028 , -0.22225322],\n",
              "       [-0.24921797, -0.2173662 ],\n",
              "       [-0.24572226, -0.22707865],\n",
              "       [-0.25598627, -0.21082911],\n",
              "       [-0.25024253, -0.18704906],\n",
              "       [-0.23698321, -0.22802834],\n",
              "       [-0.2535161 , -0.23274556],\n",
              "       [-0.25805506, -0.23050147],\n",
              "       [-0.25208426, -0.21665598],\n",
              "       [-0.26392636, -0.20980544],\n",
              "       [-0.25061408, -0.22522207],\n",
              "       [-0.2471227 , -0.22184068],\n",
              "       [-0.19646277, -0.23763396],\n",
              "       [-0.2589185 , -0.22596689],\n",
              "       [-0.25812805, -0.20605347],\n",
              "       [-0.26785588, -0.22218026],\n",
              "       [-0.26246992, -0.22381401],\n",
              "       [-0.2444114 , -0.20960057],\n",
              "       [-0.26666602, -0.22258666],\n",
              "       [-0.280888  , -0.21057191],\n",
              "       [-0.22972256, -0.20747927],\n",
              "       [-0.26632282, -0.2147327 ],\n",
              "       [-0.25082332, -0.23013523],\n",
              "       [-0.25890422, -0.21757881],\n",
              "       [-0.24603227, -0.20641916],\n",
              "       [-0.23987256, -0.2122017 ],\n",
              "       [-0.2585137 , -0.21962553],\n",
              "       [-0.21128897, -0.22110683],\n",
              "       [-0.2621833 , -0.21162267],\n",
              "       [-0.2156506 , -0.24813245],\n",
              "       [-0.22388993, -0.22668672],\n",
              "       [-0.25057745, -0.21404704],\n",
              "       [-0.25510183, -0.19879536],\n",
              "       [-0.25686133, -0.22378781],\n",
              "       [-0.25588873, -0.22722137],\n",
              "       [-0.2632831 , -0.21580102],\n",
              "       [-0.25552332, -0.23212478],\n",
              "       [-0.24522677, -0.24890181],\n",
              "       [-0.2613049 , -0.23440191],\n",
              "       [-0.2562112 , -0.21531194],\n",
              "       [-0.23658702, -0.23329736],\n",
              "       [-0.24180445, -0.22817342],\n",
              "       [-0.23721325, -0.21898234],\n",
              "       [-0.25245878, -0.2177226 ],\n",
              "       [-0.22953933, -0.23549634],\n",
              "       [-0.25102794, -0.22112456],\n",
              "       [-0.25135067, -0.23144855],\n",
              "       [-0.26451162, -0.2156885 ],\n",
              "       [-0.22078267, -0.26410332],\n",
              "       [-0.27402553, -0.20652169],\n",
              "       [-0.24741253, -0.23011617],\n",
              "       [-0.23280619, -0.22728662],\n",
              "       [-0.26870623, -0.2069682 ],\n",
              "       [-0.26360208, -0.21022944],\n",
              "       [-0.25383133, -0.2178459 ],\n",
              "       [-0.25321704, -0.22539733],\n",
              "       [-0.2593189 , -0.21083336],\n",
              "       [-0.27300096, -0.20356905],\n",
              "       [-0.25121638, -0.20666306],\n",
              "       [-0.26431942, -0.21584442],\n",
              "       [-0.26294085, -0.2000475 ],\n",
              "       [-0.26619127, -0.22681695],\n",
              "       [-0.27247778, -0.20953378],\n",
              "       [-0.21977516, -0.22455275],\n",
              "       [-0.26409563, -0.24364394],\n",
              "       [-0.25911656, -0.20104937],\n",
              "       [-0.25392625, -0.21790235],\n",
              "       [-0.26651624, -0.20296964],\n",
              "       [-0.2529742 , -0.23216695],\n",
              "       [-0.2590568 , -0.21062917],\n",
              "       [-0.23965108, -0.24317518],\n",
              "       [-0.24817674, -0.23730247],\n",
              "       [-0.23389976, -0.21874577],\n",
              "       [-0.22340527, -0.21558028],\n",
              "       [-0.26830536, -0.20277748],\n",
              "       [-0.24994987, -0.22462685],\n",
              "       [-0.2560501 , -0.22430462],\n",
              "       [-0.2050602 , -0.24399427],\n",
              "       [-0.25926518, -0.24489273],\n",
              "       [-0.23099156, -0.21123269],\n",
              "       [-0.25958914, -0.21289654],\n",
              "       [-0.25957933, -0.22027594],\n",
              "       [-0.21221954, -0.24212894],\n",
              "       [-0.23956376, -0.21109511],\n",
              "       [-0.26273808, -0.21770662],\n",
              "       [-0.26711056, -0.21063036],\n",
              "       [-0.22337554, -0.23349398],\n",
              "       [-0.26041546, -0.23637787],\n",
              "       [-0.2428292 , -0.20937327],\n",
              "       [-0.25253704, -0.22239259],\n",
              "       [-0.26626256, -0.23240322],\n",
              "       [-0.22958112, -0.22924301],\n",
              "       [-0.24707972, -0.22890413],\n",
              "       [-0.24632853, -0.22364071],\n",
              "       [-0.2507414 , -0.21038216],\n",
              "       [-0.2638582 , -0.22012895],\n",
              "       [-0.23513775, -0.24530539],\n",
              "       [-0.2361632 , -0.21515818],\n",
              "       [-0.25165543, -0.23297428],\n",
              "       [-0.22383161, -0.2519188 ],\n",
              "       [-0.25955662, -0.22449718],\n",
              "       [-0.25596765, -0.19924185],\n",
              "       [-0.25282034, -0.21486227],\n",
              "       [-0.21359862, -0.21953693],\n",
              "       [-0.24339297, -0.24009433],\n",
              "       [-0.22164436, -0.23410097],\n",
              "       [-0.26364005, -0.20616609],\n",
              "       [-0.25922439, -0.21047688],\n",
              "       [-0.26241323, -0.21151775],\n",
              "       [-0.24804041, -0.23036112],\n",
              "       [-0.2570515 , -0.20792727],\n",
              "       [-0.22806899, -0.22121584],\n",
              "       [-0.25828397, -0.21560793],\n",
              "       [-0.2693223 , -0.20571308],\n",
              "       [-0.24330933, -0.22229677],\n",
              "       [-0.24694219, -0.2131391 ],\n",
              "       [-0.26600838, -0.20003225],\n",
              "       [-0.26571253, -0.21821721],\n",
              "       [-0.2594253 , -0.2168516 ],\n",
              "       [-0.24858165, -0.2267271 ],\n",
              "       [-0.23629577, -0.21780989],\n",
              "       [-0.22173022, -0.25697994],\n",
              "       [-0.24530867, -0.22272064],\n",
              "       [-0.2509139 , -0.2287788 ],\n",
              "       [-0.23723146, -0.2237343 ],\n",
              "       [-0.22947718, -0.23121081],\n",
              "       [-0.24886873, -0.21968745],\n",
              "       [-0.26473105, -0.22130571],\n",
              "       [-0.25787142, -0.21469255],\n",
              "       [-0.20583494, -0.2136591 ],\n",
              "       [-0.28381383, -0.20109312],\n",
              "       [-0.25070724, -0.22871883]], dtype=float32), label_ids=array([0, 1, 0, 1, 1, 0, 1, 1, 0, 1, 0, 0, 1, 1, 0, 1, 1, 1, 1, 1, 1, 0,\n",
              "       0, 0, 0, 0, 0, 0, 0, 0, 1, 0, 0, 1, 1, 1, 1, 0, 0, 0, 1, 1, 1, 0,\n",
              "       0, 0, 1, 1, 0, 1, 1, 0, 0, 0, 0, 0, 1, 1, 1, 1, 1, 1, 0, 1, 0, 0,\n",
              "       0, 0, 1, 0, 0, 0, 0, 1, 1, 0, 0, 1, 0, 1, 0, 0, 0, 1, 1, 1, 1, 0,\n",
              "       1, 1, 0, 1, 0, 1, 0, 0, 1, 1, 0, 0, 0, 0, 0, 0, 1, 1, 1, 1, 0, 1,\n",
              "       1, 1, 0, 1, 1, 1, 0, 0, 1, 1, 0, 0, 0, 1, 1, 0, 0, 0, 1, 1, 0, 0,\n",
              "       1, 0, 0, 1, 1, 1, 0, 0, 1, 1, 0, 0, 1, 0, 0, 1, 1, 0, 0, 0, 0, 1,\n",
              "       1, 1, 0, 1, 0, 1, 0, 1, 0, 1, 1, 0, 0, 1, 1, 1, 1, 0, 0, 0, 0, 1,\n",
              "       1, 1, 1, 1, 1, 0, 1, 1, 0, 0, 0, 0, 1, 0, 0, 0, 0, 1, 0, 0, 0, 1,\n",
              "       1, 1, 1, 0, 0, 1, 0, 1, 1, 0, 0, 0, 1, 0, 0, 0, 0, 1, 1, 1, 0, 1,\n",
              "       0, 1, 0, 1, 1, 0, 0, 1, 0, 0, 1, 0, 0, 0, 0, 1, 1, 1, 1, 1, 0, 0,\n",
              "       0, 0, 1, 0, 1, 1, 0, 0, 1, 1, 0, 0, 1, 0, 1, 1, 1, 1, 1, 1, 0, 1,\n",
              "       0, 0, 1, 1, 1, 1, 1, 0, 0, 1, 0, 0, 1, 0, 0, 1, 1, 0, 1, 0, 1, 1,\n",
              "       0, 0, 0, 1, 0, 0, 0, 1, 0, 0, 0, 1, 1, 0, 0, 1, 0, 0, 0, 0, 0, 0,\n",
              "       0, 1, 1, 0, 0, 1, 0, 0, 0, 0, 1, 0, 0, 0, 0, 0, 1, 0, 1, 0, 0, 0,\n",
              "       0, 0, 0, 0, 0, 0, 1, 1, 1, 0, 0, 0, 1, 0, 0, 0, 1, 0, 0, 1, 0, 1,\n",
              "       0, 1, 1, 1, 1, 0, 1, 1, 1, 1, 0, 0, 0, 0, 0, 1, 0, 1, 0, 1, 1, 0,\n",
              "       0, 1, 1, 1, 1, 0, 0, 0, 1, 1, 0, 1, 1, 1, 0, 1, 0, 0, 0, 0, 1, 1,\n",
              "       0, 1, 0, 0, 0, 1, 1, 0, 0, 1, 0, 0, 0, 0, 1, 0, 0, 1, 0, 1, 0, 0,\n",
              "       0, 0, 0, 1, 1, 1, 1, 0, 0, 0, 1, 1, 0, 1, 0, 1, 0, 1, 0, 1, 0, 0,\n",
              "       1, 1, 0, 1, 0, 0, 0, 0, 0, 0, 0, 1, 0, 0, 0, 1, 0, 1, 1, 0, 1, 0,\n",
              "       0, 0, 1, 0, 1, 1, 0, 0, 1, 0, 0, 0, 1, 0, 1, 0, 0, 0, 0, 0, 0, 0,\n",
              "       0, 0, 0, 1, 0, 0, 0, 1, 0, 0, 1, 1, 0, 0, 0, 1]), metrics={'test_loss': 0.6945685744285583, 'test_accuracy': 0.444, 'test_f1': 0.5813253012048193, 'test_precision': 0.4346846846846847, 'test_recall': 0.8772727272727273, 'test_runtime': 32.7076, 'test_samples_per_second': 15.287, 'test_steps_per_second': 1.926})"
            ]
          },
          "metadata": {},
          "execution_count": 53
        }
      ]
    }
  ]
}