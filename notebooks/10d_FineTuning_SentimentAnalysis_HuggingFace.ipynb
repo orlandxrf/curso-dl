{
  "nbformat": 4,
  "nbformat_minor": 0,
  "metadata": {
    "colab": {
      "name": "10d_FineTuning_SentimentAnalysis_HuggingFace.ipynb",
      "provenance": [],
      "collapsed_sections": [],
      "authorship_tag": "ABX9TyMVA4HIvBdeFjYXjQfBdiMQ",
      "include_colab_link": true
    },
    "kernelspec": {
      "name": "python3",
      "display_name": "Python 3"
    },
    "language_info": {
      "name": "python"
    },
    "widgets": {
      "application/vnd.jupyter.widget-state+json": {
        "c0f379c5379149c4b62e2b7b4ca10506": {
          "model_module": "@jupyter-widgets/controls",
          "model_name": "HBoxModel",
          "model_module_version": "1.5.0",
          "state": {
            "_dom_classes": [],
            "_model_module": "@jupyter-widgets/controls",
            "_model_module_version": "1.5.0",
            "_model_name": "HBoxModel",
            "_view_count": null,
            "_view_module": "@jupyter-widgets/controls",
            "_view_module_version": "1.5.0",
            "_view_name": "HBoxView",
            "box_style": "",
            "children": [
              "IPY_MODEL_8eae1d56aa284304a5b7f6f04e59573b",
              "IPY_MODEL_3ee1cfbb15884ad58c5deb80526049b3",
              "IPY_MODEL_c708cc5d422a4dec9a026d4c16b1cd6e"
            ],
            "layout": "IPY_MODEL_8bc71b1a729644f784a5b6524f7b570b"
          }
        },
        "8eae1d56aa284304a5b7f6f04e59573b": {
          "model_module": "@jupyter-widgets/controls",
          "model_name": "HTMLModel",
          "model_module_version": "1.5.0",
          "state": {
            "_dom_classes": [],
            "_model_module": "@jupyter-widgets/controls",
            "_model_module_version": "1.5.0",
            "_model_name": "HTMLModel",
            "_view_count": null,
            "_view_module": "@jupyter-widgets/controls",
            "_view_module_version": "1.5.0",
            "_view_name": "HTMLView",
            "description": "",
            "description_tooltip": null,
            "layout": "IPY_MODEL_8cd527d6b59f4fac8910a1b543f98bd2",
            "placeholder": "​",
            "style": "IPY_MODEL_e3ae24983da040a4a08916d696d8a037",
            "value": "Downloading: 100%"
          }
        },
        "3ee1cfbb15884ad58c5deb80526049b3": {
          "model_module": "@jupyter-widgets/controls",
          "model_name": "FloatProgressModel",
          "model_module_version": "1.5.0",
          "state": {
            "_dom_classes": [],
            "_model_module": "@jupyter-widgets/controls",
            "_model_module_version": "1.5.0",
            "_model_name": "FloatProgressModel",
            "_view_count": null,
            "_view_module": "@jupyter-widgets/controls",
            "_view_module_version": "1.5.0",
            "_view_name": "ProgressView",
            "bar_style": "success",
            "description": "",
            "description_tooltip": null,
            "layout": "IPY_MODEL_0408876779254eb5acfea30b05f09cd9",
            "max": 28,
            "min": 0,
            "orientation": "horizontal",
            "style": "IPY_MODEL_f29ca44bff27412fbd8f877a01020b99",
            "value": 28
          }
        },
        "c708cc5d422a4dec9a026d4c16b1cd6e": {
          "model_module": "@jupyter-widgets/controls",
          "model_name": "HTMLModel",
          "model_module_version": "1.5.0",
          "state": {
            "_dom_classes": [],
            "_model_module": "@jupyter-widgets/controls",
            "_model_module_version": "1.5.0",
            "_model_name": "HTMLModel",
            "_view_count": null,
            "_view_module": "@jupyter-widgets/controls",
            "_view_module_version": "1.5.0",
            "_view_name": "HTMLView",
            "description": "",
            "description_tooltip": null,
            "layout": "IPY_MODEL_0379e15ad7ce488881af307b4dc6fe66",
            "placeholder": "​",
            "style": "IPY_MODEL_7d4990be03bf4d2f97177f205cfe49f5",
            "value": " 28.0/28.0 [00:00&lt;00:00, 204B/s]"
          }
        },
        "8bc71b1a729644f784a5b6524f7b570b": {
          "model_module": "@jupyter-widgets/base",
          "model_name": "LayoutModel",
          "model_module_version": "1.2.0",
          "state": {
            "_model_module": "@jupyter-widgets/base",
            "_model_module_version": "1.2.0",
            "_model_name": "LayoutModel",
            "_view_count": null,
            "_view_module": "@jupyter-widgets/base",
            "_view_module_version": "1.2.0",
            "_view_name": "LayoutView",
            "align_content": null,
            "align_items": null,
            "align_self": null,
            "border": null,
            "bottom": null,
            "display": null,
            "flex": null,
            "flex_flow": null,
            "grid_area": null,
            "grid_auto_columns": null,
            "grid_auto_flow": null,
            "grid_auto_rows": null,
            "grid_column": null,
            "grid_gap": null,
            "grid_row": null,
            "grid_template_areas": null,
            "grid_template_columns": null,
            "grid_template_rows": null,
            "height": null,
            "justify_content": null,
            "justify_items": null,
            "left": null,
            "margin": null,
            "max_height": null,
            "max_width": null,
            "min_height": null,
            "min_width": null,
            "object_fit": null,
            "object_position": null,
            "order": null,
            "overflow": null,
            "overflow_x": null,
            "overflow_y": null,
            "padding": null,
            "right": null,
            "top": null,
            "visibility": null,
            "width": null
          }
        },
        "8cd527d6b59f4fac8910a1b543f98bd2": {
          "model_module": "@jupyter-widgets/base",
          "model_name": "LayoutModel",
          "model_module_version": "1.2.0",
          "state": {
            "_model_module": "@jupyter-widgets/base",
            "_model_module_version": "1.2.0",
            "_model_name": "LayoutModel",
            "_view_count": null,
            "_view_module": "@jupyter-widgets/base",
            "_view_module_version": "1.2.0",
            "_view_name": "LayoutView",
            "align_content": null,
            "align_items": null,
            "align_self": null,
            "border": null,
            "bottom": null,
            "display": null,
            "flex": null,
            "flex_flow": null,
            "grid_area": null,
            "grid_auto_columns": null,
            "grid_auto_flow": null,
            "grid_auto_rows": null,
            "grid_column": null,
            "grid_gap": null,
            "grid_row": null,
            "grid_template_areas": null,
            "grid_template_columns": null,
            "grid_template_rows": null,
            "height": null,
            "justify_content": null,
            "justify_items": null,
            "left": null,
            "margin": null,
            "max_height": null,
            "max_width": null,
            "min_height": null,
            "min_width": null,
            "object_fit": null,
            "object_position": null,
            "order": null,
            "overflow": null,
            "overflow_x": null,
            "overflow_y": null,
            "padding": null,
            "right": null,
            "top": null,
            "visibility": null,
            "width": null
          }
        },
        "e3ae24983da040a4a08916d696d8a037": {
          "model_module": "@jupyter-widgets/controls",
          "model_name": "DescriptionStyleModel",
          "model_module_version": "1.5.0",
          "state": {
            "_model_module": "@jupyter-widgets/controls",
            "_model_module_version": "1.5.0",
            "_model_name": "DescriptionStyleModel",
            "_view_count": null,
            "_view_module": "@jupyter-widgets/base",
            "_view_module_version": "1.2.0",
            "_view_name": "StyleView",
            "description_width": ""
          }
        },
        "0408876779254eb5acfea30b05f09cd9": {
          "model_module": "@jupyter-widgets/base",
          "model_name": "LayoutModel",
          "model_module_version": "1.2.0",
          "state": {
            "_model_module": "@jupyter-widgets/base",
            "_model_module_version": "1.2.0",
            "_model_name": "LayoutModel",
            "_view_count": null,
            "_view_module": "@jupyter-widgets/base",
            "_view_module_version": "1.2.0",
            "_view_name": "LayoutView",
            "align_content": null,
            "align_items": null,
            "align_self": null,
            "border": null,
            "bottom": null,
            "display": null,
            "flex": null,
            "flex_flow": null,
            "grid_area": null,
            "grid_auto_columns": null,
            "grid_auto_flow": null,
            "grid_auto_rows": null,
            "grid_column": null,
            "grid_gap": null,
            "grid_row": null,
            "grid_template_areas": null,
            "grid_template_columns": null,
            "grid_template_rows": null,
            "height": null,
            "justify_content": null,
            "justify_items": null,
            "left": null,
            "margin": null,
            "max_height": null,
            "max_width": null,
            "min_height": null,
            "min_width": null,
            "object_fit": null,
            "object_position": null,
            "order": null,
            "overflow": null,
            "overflow_x": null,
            "overflow_y": null,
            "padding": null,
            "right": null,
            "top": null,
            "visibility": null,
            "width": null
          }
        },
        "f29ca44bff27412fbd8f877a01020b99": {
          "model_module": "@jupyter-widgets/controls",
          "model_name": "ProgressStyleModel",
          "model_module_version": "1.5.0",
          "state": {
            "_model_module": "@jupyter-widgets/controls",
            "_model_module_version": "1.5.0",
            "_model_name": "ProgressStyleModel",
            "_view_count": null,
            "_view_module": "@jupyter-widgets/base",
            "_view_module_version": "1.2.0",
            "_view_name": "StyleView",
            "bar_color": null,
            "description_width": ""
          }
        },
        "0379e15ad7ce488881af307b4dc6fe66": {
          "model_module": "@jupyter-widgets/base",
          "model_name": "LayoutModel",
          "model_module_version": "1.2.0",
          "state": {
            "_model_module": "@jupyter-widgets/base",
            "_model_module_version": "1.2.0",
            "_model_name": "LayoutModel",
            "_view_count": null,
            "_view_module": "@jupyter-widgets/base",
            "_view_module_version": "1.2.0",
            "_view_name": "LayoutView",
            "align_content": null,
            "align_items": null,
            "align_self": null,
            "border": null,
            "bottom": null,
            "display": null,
            "flex": null,
            "flex_flow": null,
            "grid_area": null,
            "grid_auto_columns": null,
            "grid_auto_flow": null,
            "grid_auto_rows": null,
            "grid_column": null,
            "grid_gap": null,
            "grid_row": null,
            "grid_template_areas": null,
            "grid_template_columns": null,
            "grid_template_rows": null,
            "height": null,
            "justify_content": null,
            "justify_items": null,
            "left": null,
            "margin": null,
            "max_height": null,
            "max_width": null,
            "min_height": null,
            "min_width": null,
            "object_fit": null,
            "object_position": null,
            "order": null,
            "overflow": null,
            "overflow_x": null,
            "overflow_y": null,
            "padding": null,
            "right": null,
            "top": null,
            "visibility": null,
            "width": null
          }
        },
        "7d4990be03bf4d2f97177f205cfe49f5": {
          "model_module": "@jupyter-widgets/controls",
          "model_name": "DescriptionStyleModel",
          "model_module_version": "1.5.0",
          "state": {
            "_model_module": "@jupyter-widgets/controls",
            "_model_module_version": "1.5.0",
            "_model_name": "DescriptionStyleModel",
            "_view_count": null,
            "_view_module": "@jupyter-widgets/base",
            "_view_module_version": "1.2.0",
            "_view_name": "StyleView",
            "description_width": ""
          }
        },
        "a96e9850735a4fa99f6ab4b34e83cc1f": {
          "model_module": "@jupyter-widgets/controls",
          "model_name": "HBoxModel",
          "model_module_version": "1.5.0",
          "state": {
            "_dom_classes": [],
            "_model_module": "@jupyter-widgets/controls",
            "_model_module_version": "1.5.0",
            "_model_name": "HBoxModel",
            "_view_count": null,
            "_view_module": "@jupyter-widgets/controls",
            "_view_module_version": "1.5.0",
            "_view_name": "HBoxView",
            "box_style": "",
            "children": [
              "IPY_MODEL_07bfd06f5f4646cda6a824c8369e24c6",
              "IPY_MODEL_02ca56fbd28847e4b25588120d96593a",
              "IPY_MODEL_5d6189113eb44789806000aedb51366d"
            ],
            "layout": "IPY_MODEL_4a0321ba39cd438aa0bafe8a000644f9"
          }
        },
        "07bfd06f5f4646cda6a824c8369e24c6": {
          "model_module": "@jupyter-widgets/controls",
          "model_name": "HTMLModel",
          "model_module_version": "1.5.0",
          "state": {
            "_dom_classes": [],
            "_model_module": "@jupyter-widgets/controls",
            "_model_module_version": "1.5.0",
            "_model_name": "HTMLModel",
            "_view_count": null,
            "_view_module": "@jupyter-widgets/controls",
            "_view_module_version": "1.5.0",
            "_view_name": "HTMLView",
            "description": "",
            "description_tooltip": null,
            "layout": "IPY_MODEL_0207a2ff5e5e4d4590209abcaebe9018",
            "placeholder": "​",
            "style": "IPY_MODEL_5122f1d1e2de47ffae55e1f9faac87ed",
            "value": "Downloading: 100%"
          }
        },
        "02ca56fbd28847e4b25588120d96593a": {
          "model_module": "@jupyter-widgets/controls",
          "model_name": "FloatProgressModel",
          "model_module_version": "1.5.0",
          "state": {
            "_dom_classes": [],
            "_model_module": "@jupyter-widgets/controls",
            "_model_module_version": "1.5.0",
            "_model_name": "FloatProgressModel",
            "_view_count": null,
            "_view_module": "@jupyter-widgets/controls",
            "_view_module_version": "1.5.0",
            "_view_name": "ProgressView",
            "bar_style": "success",
            "description": "",
            "description_tooltip": null,
            "layout": "IPY_MODEL_500b413642b94ca6bdaa9a7620118594",
            "max": 570,
            "min": 0,
            "orientation": "horizontal",
            "style": "IPY_MODEL_fd0ac72526984c6aa77555182f96f552",
            "value": 570
          }
        },
        "5d6189113eb44789806000aedb51366d": {
          "model_module": "@jupyter-widgets/controls",
          "model_name": "HTMLModel",
          "model_module_version": "1.5.0",
          "state": {
            "_dom_classes": [],
            "_model_module": "@jupyter-widgets/controls",
            "_model_module_version": "1.5.0",
            "_model_name": "HTMLModel",
            "_view_count": null,
            "_view_module": "@jupyter-widgets/controls",
            "_view_module_version": "1.5.0",
            "_view_name": "HTMLView",
            "description": "",
            "description_tooltip": null,
            "layout": "IPY_MODEL_940b96e20f824efa99df3e182ae66ad3",
            "placeholder": "​",
            "style": "IPY_MODEL_f3a6dc9c9f984fbabea2e4a26fb95001",
            "value": " 570/570 [00:00&lt;00:00, 4.65kB/s]"
          }
        },
        "4a0321ba39cd438aa0bafe8a000644f9": {
          "model_module": "@jupyter-widgets/base",
          "model_name": "LayoutModel",
          "model_module_version": "1.2.0",
          "state": {
            "_model_module": "@jupyter-widgets/base",
            "_model_module_version": "1.2.0",
            "_model_name": "LayoutModel",
            "_view_count": null,
            "_view_module": "@jupyter-widgets/base",
            "_view_module_version": "1.2.0",
            "_view_name": "LayoutView",
            "align_content": null,
            "align_items": null,
            "align_self": null,
            "border": null,
            "bottom": null,
            "display": null,
            "flex": null,
            "flex_flow": null,
            "grid_area": null,
            "grid_auto_columns": null,
            "grid_auto_flow": null,
            "grid_auto_rows": null,
            "grid_column": null,
            "grid_gap": null,
            "grid_row": null,
            "grid_template_areas": null,
            "grid_template_columns": null,
            "grid_template_rows": null,
            "height": null,
            "justify_content": null,
            "justify_items": null,
            "left": null,
            "margin": null,
            "max_height": null,
            "max_width": null,
            "min_height": null,
            "min_width": null,
            "object_fit": null,
            "object_position": null,
            "order": null,
            "overflow": null,
            "overflow_x": null,
            "overflow_y": null,
            "padding": null,
            "right": null,
            "top": null,
            "visibility": null,
            "width": null
          }
        },
        "0207a2ff5e5e4d4590209abcaebe9018": {
          "model_module": "@jupyter-widgets/base",
          "model_name": "LayoutModel",
          "model_module_version": "1.2.0",
          "state": {
            "_model_module": "@jupyter-widgets/base",
            "_model_module_version": "1.2.0",
            "_model_name": "LayoutModel",
            "_view_count": null,
            "_view_module": "@jupyter-widgets/base",
            "_view_module_version": "1.2.0",
            "_view_name": "LayoutView",
            "align_content": null,
            "align_items": null,
            "align_self": null,
            "border": null,
            "bottom": null,
            "display": null,
            "flex": null,
            "flex_flow": null,
            "grid_area": null,
            "grid_auto_columns": null,
            "grid_auto_flow": null,
            "grid_auto_rows": null,
            "grid_column": null,
            "grid_gap": null,
            "grid_row": null,
            "grid_template_areas": null,
            "grid_template_columns": null,
            "grid_template_rows": null,
            "height": null,
            "justify_content": null,
            "justify_items": null,
            "left": null,
            "margin": null,
            "max_height": null,
            "max_width": null,
            "min_height": null,
            "min_width": null,
            "object_fit": null,
            "object_position": null,
            "order": null,
            "overflow": null,
            "overflow_x": null,
            "overflow_y": null,
            "padding": null,
            "right": null,
            "top": null,
            "visibility": null,
            "width": null
          }
        },
        "5122f1d1e2de47ffae55e1f9faac87ed": {
          "model_module": "@jupyter-widgets/controls",
          "model_name": "DescriptionStyleModel",
          "model_module_version": "1.5.0",
          "state": {
            "_model_module": "@jupyter-widgets/controls",
            "_model_module_version": "1.5.0",
            "_model_name": "DescriptionStyleModel",
            "_view_count": null,
            "_view_module": "@jupyter-widgets/base",
            "_view_module_version": "1.2.0",
            "_view_name": "StyleView",
            "description_width": ""
          }
        },
        "500b413642b94ca6bdaa9a7620118594": {
          "model_module": "@jupyter-widgets/base",
          "model_name": "LayoutModel",
          "model_module_version": "1.2.0",
          "state": {
            "_model_module": "@jupyter-widgets/base",
            "_model_module_version": "1.2.0",
            "_model_name": "LayoutModel",
            "_view_count": null,
            "_view_module": "@jupyter-widgets/base",
            "_view_module_version": "1.2.0",
            "_view_name": "LayoutView",
            "align_content": null,
            "align_items": null,
            "align_self": null,
            "border": null,
            "bottom": null,
            "display": null,
            "flex": null,
            "flex_flow": null,
            "grid_area": null,
            "grid_auto_columns": null,
            "grid_auto_flow": null,
            "grid_auto_rows": null,
            "grid_column": null,
            "grid_gap": null,
            "grid_row": null,
            "grid_template_areas": null,
            "grid_template_columns": null,
            "grid_template_rows": null,
            "height": null,
            "justify_content": null,
            "justify_items": null,
            "left": null,
            "margin": null,
            "max_height": null,
            "max_width": null,
            "min_height": null,
            "min_width": null,
            "object_fit": null,
            "object_position": null,
            "order": null,
            "overflow": null,
            "overflow_x": null,
            "overflow_y": null,
            "padding": null,
            "right": null,
            "top": null,
            "visibility": null,
            "width": null
          }
        },
        "fd0ac72526984c6aa77555182f96f552": {
          "model_module": "@jupyter-widgets/controls",
          "model_name": "ProgressStyleModel",
          "model_module_version": "1.5.0",
          "state": {
            "_model_module": "@jupyter-widgets/controls",
            "_model_module_version": "1.5.0",
            "_model_name": "ProgressStyleModel",
            "_view_count": null,
            "_view_module": "@jupyter-widgets/base",
            "_view_module_version": "1.2.0",
            "_view_name": "StyleView",
            "bar_color": null,
            "description_width": ""
          }
        },
        "940b96e20f824efa99df3e182ae66ad3": {
          "model_module": "@jupyter-widgets/base",
          "model_name": "LayoutModel",
          "model_module_version": "1.2.0",
          "state": {
            "_model_module": "@jupyter-widgets/base",
            "_model_module_version": "1.2.0",
            "_model_name": "LayoutModel",
            "_view_count": null,
            "_view_module": "@jupyter-widgets/base",
            "_view_module_version": "1.2.0",
            "_view_name": "LayoutView",
            "align_content": null,
            "align_items": null,
            "align_self": null,
            "border": null,
            "bottom": null,
            "display": null,
            "flex": null,
            "flex_flow": null,
            "grid_area": null,
            "grid_auto_columns": null,
            "grid_auto_flow": null,
            "grid_auto_rows": null,
            "grid_column": null,
            "grid_gap": null,
            "grid_row": null,
            "grid_template_areas": null,
            "grid_template_columns": null,
            "grid_template_rows": null,
            "height": null,
            "justify_content": null,
            "justify_items": null,
            "left": null,
            "margin": null,
            "max_height": null,
            "max_width": null,
            "min_height": null,
            "min_width": null,
            "object_fit": null,
            "object_position": null,
            "order": null,
            "overflow": null,
            "overflow_x": null,
            "overflow_y": null,
            "padding": null,
            "right": null,
            "top": null,
            "visibility": null,
            "width": null
          }
        },
        "f3a6dc9c9f984fbabea2e4a26fb95001": {
          "model_module": "@jupyter-widgets/controls",
          "model_name": "DescriptionStyleModel",
          "model_module_version": "1.5.0",
          "state": {
            "_model_module": "@jupyter-widgets/controls",
            "_model_module_version": "1.5.0",
            "_model_name": "DescriptionStyleModel",
            "_view_count": null,
            "_view_module": "@jupyter-widgets/base",
            "_view_module_version": "1.2.0",
            "_view_name": "StyleView",
            "description_width": ""
          }
        },
        "8a9e2fa6b62b4c5a913f8568a578f55f": {
          "model_module": "@jupyter-widgets/controls",
          "model_name": "HBoxModel",
          "model_module_version": "1.5.0",
          "state": {
            "_dom_classes": [],
            "_model_module": "@jupyter-widgets/controls",
            "_model_module_version": "1.5.0",
            "_model_name": "HBoxModel",
            "_view_count": null,
            "_view_module": "@jupyter-widgets/controls",
            "_view_module_version": "1.5.0",
            "_view_name": "HBoxView",
            "box_style": "",
            "children": [
              "IPY_MODEL_d96b9cd01dd5412f8e63297935bb0ece",
              "IPY_MODEL_35082bbbc9124b6daa96127890197f4e",
              "IPY_MODEL_d6f67374d43544e68a3bb6e8e5c94047"
            ],
            "layout": "IPY_MODEL_10703b21e2f24903a1644f9bfced620a"
          }
        },
        "d96b9cd01dd5412f8e63297935bb0ece": {
          "model_module": "@jupyter-widgets/controls",
          "model_name": "HTMLModel",
          "model_module_version": "1.5.0",
          "state": {
            "_dom_classes": [],
            "_model_module": "@jupyter-widgets/controls",
            "_model_module_version": "1.5.0",
            "_model_name": "HTMLModel",
            "_view_count": null,
            "_view_module": "@jupyter-widgets/controls",
            "_view_module_version": "1.5.0",
            "_view_name": "HTMLView",
            "description": "",
            "description_tooltip": null,
            "layout": "IPY_MODEL_159e1f8a86fa43c995115c40b3813ac3",
            "placeholder": "​",
            "style": "IPY_MODEL_82f2856f6ec1475287461499d0f6746a",
            "value": "Downloading: 100%"
          }
        },
        "35082bbbc9124b6daa96127890197f4e": {
          "model_module": "@jupyter-widgets/controls",
          "model_name": "FloatProgressModel",
          "model_module_version": "1.5.0",
          "state": {
            "_dom_classes": [],
            "_model_module": "@jupyter-widgets/controls",
            "_model_module_version": "1.5.0",
            "_model_name": "FloatProgressModel",
            "_view_count": null,
            "_view_module": "@jupyter-widgets/controls",
            "_view_module_version": "1.5.0",
            "_view_name": "ProgressView",
            "bar_style": "success",
            "description": "",
            "description_tooltip": null,
            "layout": "IPY_MODEL_0649ff2a394a4d4c8c79c47abd075d56",
            "max": 231508,
            "min": 0,
            "orientation": "horizontal",
            "style": "IPY_MODEL_f293ff4c1f094fc1a577ea0df41609d5",
            "value": 231508
          }
        },
        "d6f67374d43544e68a3bb6e8e5c94047": {
          "model_module": "@jupyter-widgets/controls",
          "model_name": "HTMLModel",
          "model_module_version": "1.5.0",
          "state": {
            "_dom_classes": [],
            "_model_module": "@jupyter-widgets/controls",
            "_model_module_version": "1.5.0",
            "_model_name": "HTMLModel",
            "_view_count": null,
            "_view_module": "@jupyter-widgets/controls",
            "_view_module_version": "1.5.0",
            "_view_name": "HTMLView",
            "description": "",
            "description_tooltip": null,
            "layout": "IPY_MODEL_c14bd85b0fda45f0a3c673d27011f100",
            "placeholder": "​",
            "style": "IPY_MODEL_2c9f2cc8b568405b9f1a8d4f288f9c63",
            "value": " 226k/226k [00:00&lt;00:00, 379kB/s]"
          }
        },
        "10703b21e2f24903a1644f9bfced620a": {
          "model_module": "@jupyter-widgets/base",
          "model_name": "LayoutModel",
          "model_module_version": "1.2.0",
          "state": {
            "_model_module": "@jupyter-widgets/base",
            "_model_module_version": "1.2.0",
            "_model_name": "LayoutModel",
            "_view_count": null,
            "_view_module": "@jupyter-widgets/base",
            "_view_module_version": "1.2.0",
            "_view_name": "LayoutView",
            "align_content": null,
            "align_items": null,
            "align_self": null,
            "border": null,
            "bottom": null,
            "display": null,
            "flex": null,
            "flex_flow": null,
            "grid_area": null,
            "grid_auto_columns": null,
            "grid_auto_flow": null,
            "grid_auto_rows": null,
            "grid_column": null,
            "grid_gap": null,
            "grid_row": null,
            "grid_template_areas": null,
            "grid_template_columns": null,
            "grid_template_rows": null,
            "height": null,
            "justify_content": null,
            "justify_items": null,
            "left": null,
            "margin": null,
            "max_height": null,
            "max_width": null,
            "min_height": null,
            "min_width": null,
            "object_fit": null,
            "object_position": null,
            "order": null,
            "overflow": null,
            "overflow_x": null,
            "overflow_y": null,
            "padding": null,
            "right": null,
            "top": null,
            "visibility": null,
            "width": null
          }
        },
        "159e1f8a86fa43c995115c40b3813ac3": {
          "model_module": "@jupyter-widgets/base",
          "model_name": "LayoutModel",
          "model_module_version": "1.2.0",
          "state": {
            "_model_module": "@jupyter-widgets/base",
            "_model_module_version": "1.2.0",
            "_model_name": "LayoutModel",
            "_view_count": null,
            "_view_module": "@jupyter-widgets/base",
            "_view_module_version": "1.2.0",
            "_view_name": "LayoutView",
            "align_content": null,
            "align_items": null,
            "align_self": null,
            "border": null,
            "bottom": null,
            "display": null,
            "flex": null,
            "flex_flow": null,
            "grid_area": null,
            "grid_auto_columns": null,
            "grid_auto_flow": null,
            "grid_auto_rows": null,
            "grid_column": null,
            "grid_gap": null,
            "grid_row": null,
            "grid_template_areas": null,
            "grid_template_columns": null,
            "grid_template_rows": null,
            "height": null,
            "justify_content": null,
            "justify_items": null,
            "left": null,
            "margin": null,
            "max_height": null,
            "max_width": null,
            "min_height": null,
            "min_width": null,
            "object_fit": null,
            "object_position": null,
            "order": null,
            "overflow": null,
            "overflow_x": null,
            "overflow_y": null,
            "padding": null,
            "right": null,
            "top": null,
            "visibility": null,
            "width": null
          }
        },
        "82f2856f6ec1475287461499d0f6746a": {
          "model_module": "@jupyter-widgets/controls",
          "model_name": "DescriptionStyleModel",
          "model_module_version": "1.5.0",
          "state": {
            "_model_module": "@jupyter-widgets/controls",
            "_model_module_version": "1.5.0",
            "_model_name": "DescriptionStyleModel",
            "_view_count": null,
            "_view_module": "@jupyter-widgets/base",
            "_view_module_version": "1.2.0",
            "_view_name": "StyleView",
            "description_width": ""
          }
        },
        "0649ff2a394a4d4c8c79c47abd075d56": {
          "model_module": "@jupyter-widgets/base",
          "model_name": "LayoutModel",
          "model_module_version": "1.2.0",
          "state": {
            "_model_module": "@jupyter-widgets/base",
            "_model_module_version": "1.2.0",
            "_model_name": "LayoutModel",
            "_view_count": null,
            "_view_module": "@jupyter-widgets/base",
            "_view_module_version": "1.2.0",
            "_view_name": "LayoutView",
            "align_content": null,
            "align_items": null,
            "align_self": null,
            "border": null,
            "bottom": null,
            "display": null,
            "flex": null,
            "flex_flow": null,
            "grid_area": null,
            "grid_auto_columns": null,
            "grid_auto_flow": null,
            "grid_auto_rows": null,
            "grid_column": null,
            "grid_gap": null,
            "grid_row": null,
            "grid_template_areas": null,
            "grid_template_columns": null,
            "grid_template_rows": null,
            "height": null,
            "justify_content": null,
            "justify_items": null,
            "left": null,
            "margin": null,
            "max_height": null,
            "max_width": null,
            "min_height": null,
            "min_width": null,
            "object_fit": null,
            "object_position": null,
            "order": null,
            "overflow": null,
            "overflow_x": null,
            "overflow_y": null,
            "padding": null,
            "right": null,
            "top": null,
            "visibility": null,
            "width": null
          }
        },
        "f293ff4c1f094fc1a577ea0df41609d5": {
          "model_module": "@jupyter-widgets/controls",
          "model_name": "ProgressStyleModel",
          "model_module_version": "1.5.0",
          "state": {
            "_model_module": "@jupyter-widgets/controls",
            "_model_module_version": "1.5.0",
            "_model_name": "ProgressStyleModel",
            "_view_count": null,
            "_view_module": "@jupyter-widgets/base",
            "_view_module_version": "1.2.0",
            "_view_name": "StyleView",
            "bar_color": null,
            "description_width": ""
          }
        },
        "c14bd85b0fda45f0a3c673d27011f100": {
          "model_module": "@jupyter-widgets/base",
          "model_name": "LayoutModel",
          "model_module_version": "1.2.0",
          "state": {
            "_model_module": "@jupyter-widgets/base",
            "_model_module_version": "1.2.0",
            "_model_name": "LayoutModel",
            "_view_count": null,
            "_view_module": "@jupyter-widgets/base",
            "_view_module_version": "1.2.0",
            "_view_name": "LayoutView",
            "align_content": null,
            "align_items": null,
            "align_self": null,
            "border": null,
            "bottom": null,
            "display": null,
            "flex": null,
            "flex_flow": null,
            "grid_area": null,
            "grid_auto_columns": null,
            "grid_auto_flow": null,
            "grid_auto_rows": null,
            "grid_column": null,
            "grid_gap": null,
            "grid_row": null,
            "grid_template_areas": null,
            "grid_template_columns": null,
            "grid_template_rows": null,
            "height": null,
            "justify_content": null,
            "justify_items": null,
            "left": null,
            "margin": null,
            "max_height": null,
            "max_width": null,
            "min_height": null,
            "min_width": null,
            "object_fit": null,
            "object_position": null,
            "order": null,
            "overflow": null,
            "overflow_x": null,
            "overflow_y": null,
            "padding": null,
            "right": null,
            "top": null,
            "visibility": null,
            "width": null
          }
        },
        "2c9f2cc8b568405b9f1a8d4f288f9c63": {
          "model_module": "@jupyter-widgets/controls",
          "model_name": "DescriptionStyleModel",
          "model_module_version": "1.5.0",
          "state": {
            "_model_module": "@jupyter-widgets/controls",
            "_model_module_version": "1.5.0",
            "_model_name": "DescriptionStyleModel",
            "_view_count": null,
            "_view_module": "@jupyter-widgets/base",
            "_view_module_version": "1.2.0",
            "_view_name": "StyleView",
            "description_width": ""
          }
        },
        "07e1d5a3865649bd9193ad9780aab412": {
          "model_module": "@jupyter-widgets/controls",
          "model_name": "HBoxModel",
          "model_module_version": "1.5.0",
          "state": {
            "_dom_classes": [],
            "_model_module": "@jupyter-widgets/controls",
            "_model_module_version": "1.5.0",
            "_model_name": "HBoxModel",
            "_view_count": null,
            "_view_module": "@jupyter-widgets/controls",
            "_view_module_version": "1.5.0",
            "_view_name": "HBoxView",
            "box_style": "",
            "children": [
              "IPY_MODEL_e6d6ac76ba1a4787a7cd4218721388fb",
              "IPY_MODEL_356e6d75a9bf4113a063ffdf1f25c14f",
              "IPY_MODEL_def365049bfb49e1962eb4451ea158af"
            ],
            "layout": "IPY_MODEL_b32ee2d3e69d420198f7e11b875092b2"
          }
        },
        "e6d6ac76ba1a4787a7cd4218721388fb": {
          "model_module": "@jupyter-widgets/controls",
          "model_name": "HTMLModel",
          "model_module_version": "1.5.0",
          "state": {
            "_dom_classes": [],
            "_model_module": "@jupyter-widgets/controls",
            "_model_module_version": "1.5.0",
            "_model_name": "HTMLModel",
            "_view_count": null,
            "_view_module": "@jupyter-widgets/controls",
            "_view_module_version": "1.5.0",
            "_view_name": "HTMLView",
            "description": "",
            "description_tooltip": null,
            "layout": "IPY_MODEL_67a78f5d611c46b5b44ba8fcf82348dd",
            "placeholder": "​",
            "style": "IPY_MODEL_f186d69efd564d86a96ab3695b365545",
            "value": "Downloading: 100%"
          }
        },
        "356e6d75a9bf4113a063ffdf1f25c14f": {
          "model_module": "@jupyter-widgets/controls",
          "model_name": "FloatProgressModel",
          "model_module_version": "1.5.0",
          "state": {
            "_dom_classes": [],
            "_model_module": "@jupyter-widgets/controls",
            "_model_module_version": "1.5.0",
            "_model_name": "FloatProgressModel",
            "_view_count": null,
            "_view_module": "@jupyter-widgets/controls",
            "_view_module_version": "1.5.0",
            "_view_name": "ProgressView",
            "bar_style": "success",
            "description": "",
            "description_tooltip": null,
            "layout": "IPY_MODEL_1dfeaf4ccf3b4fe6884386001721b605",
            "max": 466062,
            "min": 0,
            "orientation": "horizontal",
            "style": "IPY_MODEL_a277feba7c5a4806b4568facdaa1b754",
            "value": 466062
          }
        },
        "def365049bfb49e1962eb4451ea158af": {
          "model_module": "@jupyter-widgets/controls",
          "model_name": "HTMLModel",
          "model_module_version": "1.5.0",
          "state": {
            "_dom_classes": [],
            "_model_module": "@jupyter-widgets/controls",
            "_model_module_version": "1.5.0",
            "_model_name": "HTMLModel",
            "_view_count": null,
            "_view_module": "@jupyter-widgets/controls",
            "_view_module_version": "1.5.0",
            "_view_name": "HTMLView",
            "description": "",
            "description_tooltip": null,
            "layout": "IPY_MODEL_a81b496dfd084a12b1abeca41692a6a1",
            "placeholder": "​",
            "style": "IPY_MODEL_9d152305fed24e0899ef0eeca5f73b59",
            "value": " 455k/455k [00:00&lt;00:00, 652kB/s]"
          }
        },
        "b32ee2d3e69d420198f7e11b875092b2": {
          "model_module": "@jupyter-widgets/base",
          "model_name": "LayoutModel",
          "model_module_version": "1.2.0",
          "state": {
            "_model_module": "@jupyter-widgets/base",
            "_model_module_version": "1.2.0",
            "_model_name": "LayoutModel",
            "_view_count": null,
            "_view_module": "@jupyter-widgets/base",
            "_view_module_version": "1.2.0",
            "_view_name": "LayoutView",
            "align_content": null,
            "align_items": null,
            "align_self": null,
            "border": null,
            "bottom": null,
            "display": null,
            "flex": null,
            "flex_flow": null,
            "grid_area": null,
            "grid_auto_columns": null,
            "grid_auto_flow": null,
            "grid_auto_rows": null,
            "grid_column": null,
            "grid_gap": null,
            "grid_row": null,
            "grid_template_areas": null,
            "grid_template_columns": null,
            "grid_template_rows": null,
            "height": null,
            "justify_content": null,
            "justify_items": null,
            "left": null,
            "margin": null,
            "max_height": null,
            "max_width": null,
            "min_height": null,
            "min_width": null,
            "object_fit": null,
            "object_position": null,
            "order": null,
            "overflow": null,
            "overflow_x": null,
            "overflow_y": null,
            "padding": null,
            "right": null,
            "top": null,
            "visibility": null,
            "width": null
          }
        },
        "67a78f5d611c46b5b44ba8fcf82348dd": {
          "model_module": "@jupyter-widgets/base",
          "model_name": "LayoutModel",
          "model_module_version": "1.2.0",
          "state": {
            "_model_module": "@jupyter-widgets/base",
            "_model_module_version": "1.2.0",
            "_model_name": "LayoutModel",
            "_view_count": null,
            "_view_module": "@jupyter-widgets/base",
            "_view_module_version": "1.2.0",
            "_view_name": "LayoutView",
            "align_content": null,
            "align_items": null,
            "align_self": null,
            "border": null,
            "bottom": null,
            "display": null,
            "flex": null,
            "flex_flow": null,
            "grid_area": null,
            "grid_auto_columns": null,
            "grid_auto_flow": null,
            "grid_auto_rows": null,
            "grid_column": null,
            "grid_gap": null,
            "grid_row": null,
            "grid_template_areas": null,
            "grid_template_columns": null,
            "grid_template_rows": null,
            "height": null,
            "justify_content": null,
            "justify_items": null,
            "left": null,
            "margin": null,
            "max_height": null,
            "max_width": null,
            "min_height": null,
            "min_width": null,
            "object_fit": null,
            "object_position": null,
            "order": null,
            "overflow": null,
            "overflow_x": null,
            "overflow_y": null,
            "padding": null,
            "right": null,
            "top": null,
            "visibility": null,
            "width": null
          }
        },
        "f186d69efd564d86a96ab3695b365545": {
          "model_module": "@jupyter-widgets/controls",
          "model_name": "DescriptionStyleModel",
          "model_module_version": "1.5.0",
          "state": {
            "_model_module": "@jupyter-widgets/controls",
            "_model_module_version": "1.5.0",
            "_model_name": "DescriptionStyleModel",
            "_view_count": null,
            "_view_module": "@jupyter-widgets/base",
            "_view_module_version": "1.2.0",
            "_view_name": "StyleView",
            "description_width": ""
          }
        },
        "1dfeaf4ccf3b4fe6884386001721b605": {
          "model_module": "@jupyter-widgets/base",
          "model_name": "LayoutModel",
          "model_module_version": "1.2.0",
          "state": {
            "_model_module": "@jupyter-widgets/base",
            "_model_module_version": "1.2.0",
            "_model_name": "LayoutModel",
            "_view_count": null,
            "_view_module": "@jupyter-widgets/base",
            "_view_module_version": "1.2.0",
            "_view_name": "LayoutView",
            "align_content": null,
            "align_items": null,
            "align_self": null,
            "border": null,
            "bottom": null,
            "display": null,
            "flex": null,
            "flex_flow": null,
            "grid_area": null,
            "grid_auto_columns": null,
            "grid_auto_flow": null,
            "grid_auto_rows": null,
            "grid_column": null,
            "grid_gap": null,
            "grid_row": null,
            "grid_template_areas": null,
            "grid_template_columns": null,
            "grid_template_rows": null,
            "height": null,
            "justify_content": null,
            "justify_items": null,
            "left": null,
            "margin": null,
            "max_height": null,
            "max_width": null,
            "min_height": null,
            "min_width": null,
            "object_fit": null,
            "object_position": null,
            "order": null,
            "overflow": null,
            "overflow_x": null,
            "overflow_y": null,
            "padding": null,
            "right": null,
            "top": null,
            "visibility": null,
            "width": null
          }
        },
        "a277feba7c5a4806b4568facdaa1b754": {
          "model_module": "@jupyter-widgets/controls",
          "model_name": "ProgressStyleModel",
          "model_module_version": "1.5.0",
          "state": {
            "_model_module": "@jupyter-widgets/controls",
            "_model_module_version": "1.5.0",
            "_model_name": "ProgressStyleModel",
            "_view_count": null,
            "_view_module": "@jupyter-widgets/base",
            "_view_module_version": "1.2.0",
            "_view_name": "StyleView",
            "bar_color": null,
            "description_width": ""
          }
        },
        "a81b496dfd084a12b1abeca41692a6a1": {
          "model_module": "@jupyter-widgets/base",
          "model_name": "LayoutModel",
          "model_module_version": "1.2.0",
          "state": {
            "_model_module": "@jupyter-widgets/base",
            "_model_module_version": "1.2.0",
            "_model_name": "LayoutModel",
            "_view_count": null,
            "_view_module": "@jupyter-widgets/base",
            "_view_module_version": "1.2.0",
            "_view_name": "LayoutView",
            "align_content": null,
            "align_items": null,
            "align_self": null,
            "border": null,
            "bottom": null,
            "display": null,
            "flex": null,
            "flex_flow": null,
            "grid_area": null,
            "grid_auto_columns": null,
            "grid_auto_flow": null,
            "grid_auto_rows": null,
            "grid_column": null,
            "grid_gap": null,
            "grid_row": null,
            "grid_template_areas": null,
            "grid_template_columns": null,
            "grid_template_rows": null,
            "height": null,
            "justify_content": null,
            "justify_items": null,
            "left": null,
            "margin": null,
            "max_height": null,
            "max_width": null,
            "min_height": null,
            "min_width": null,
            "object_fit": null,
            "object_position": null,
            "order": null,
            "overflow": null,
            "overflow_x": null,
            "overflow_y": null,
            "padding": null,
            "right": null,
            "top": null,
            "visibility": null,
            "width": null
          }
        },
        "9d152305fed24e0899ef0eeca5f73b59": {
          "model_module": "@jupyter-widgets/controls",
          "model_name": "DescriptionStyleModel",
          "model_module_version": "1.5.0",
          "state": {
            "_model_module": "@jupyter-widgets/controls",
            "_model_module_version": "1.5.0",
            "_model_name": "DescriptionStyleModel",
            "_view_count": null,
            "_view_module": "@jupyter-widgets/base",
            "_view_module_version": "1.2.0",
            "_view_name": "StyleView",
            "description_width": ""
          }
        },
        "91cb43743cb346769470eeb25bf3f778": {
          "model_module": "@jupyter-widgets/controls",
          "model_name": "HBoxModel",
          "model_module_version": "1.5.0",
          "state": {
            "_dom_classes": [],
            "_model_module": "@jupyter-widgets/controls",
            "_model_module_version": "1.5.0",
            "_model_name": "HBoxModel",
            "_view_count": null,
            "_view_module": "@jupyter-widgets/controls",
            "_view_module_version": "1.5.0",
            "_view_name": "HBoxView",
            "box_style": "",
            "children": [
              "IPY_MODEL_a0ef4404c5fe4339b181e93b4dc6902c",
              "IPY_MODEL_c62125f83e7448f7b9e4a2bb4f317063",
              "IPY_MODEL_08377ab9c43c472ba560414c6c35c77a"
            ],
            "layout": "IPY_MODEL_b519cb23595a4b8ba1107267f0366548"
          }
        },
        "a0ef4404c5fe4339b181e93b4dc6902c": {
          "model_module": "@jupyter-widgets/controls",
          "model_name": "HTMLModel",
          "model_module_version": "1.5.0",
          "state": {
            "_dom_classes": [],
            "_model_module": "@jupyter-widgets/controls",
            "_model_module_version": "1.5.0",
            "_model_name": "HTMLModel",
            "_view_count": null,
            "_view_module": "@jupyter-widgets/controls",
            "_view_module_version": "1.5.0",
            "_view_name": "HTMLView",
            "description": "",
            "description_tooltip": null,
            "layout": "IPY_MODEL_633d42a1b2314ac7a479af196c6a9060",
            "placeholder": "​",
            "style": "IPY_MODEL_63fd3d6d48a74a338ef614fa94f48861",
            "value": "Downloading: 100%"
          }
        },
        "c62125f83e7448f7b9e4a2bb4f317063": {
          "model_module": "@jupyter-widgets/controls",
          "model_name": "FloatProgressModel",
          "model_module_version": "1.5.0",
          "state": {
            "_dom_classes": [],
            "_model_module": "@jupyter-widgets/controls",
            "_model_module_version": "1.5.0",
            "_model_name": "FloatProgressModel",
            "_view_count": null,
            "_view_module": "@jupyter-widgets/controls",
            "_view_module_version": "1.5.0",
            "_view_name": "ProgressView",
            "bar_style": "success",
            "description": "",
            "description_tooltip": null,
            "layout": "IPY_MODEL_90361a78ec3a45d2b429558a194ecfd5",
            "max": 267967963,
            "min": 0,
            "orientation": "horizontal",
            "style": "IPY_MODEL_2cc2fc343ecd4548be110cacbfb3287d",
            "value": 267967963
          }
        },
        "08377ab9c43c472ba560414c6c35c77a": {
          "model_module": "@jupyter-widgets/controls",
          "model_name": "HTMLModel",
          "model_module_version": "1.5.0",
          "state": {
            "_dom_classes": [],
            "_model_module": "@jupyter-widgets/controls",
            "_model_module_version": "1.5.0",
            "_model_name": "HTMLModel",
            "_view_count": null,
            "_view_module": "@jupyter-widgets/controls",
            "_view_module_version": "1.5.0",
            "_view_name": "HTMLView",
            "description": "",
            "description_tooltip": null,
            "layout": "IPY_MODEL_d5e8fed8438e48c6b347657ed10bb91a",
            "placeholder": "​",
            "style": "IPY_MODEL_a76ecbe3a89c41238352a994a8ca385d",
            "value": " 256M/256M [00:08&lt;00:00, 35.6MB/s]"
          }
        },
        "b519cb23595a4b8ba1107267f0366548": {
          "model_module": "@jupyter-widgets/base",
          "model_name": "LayoutModel",
          "model_module_version": "1.2.0",
          "state": {
            "_model_module": "@jupyter-widgets/base",
            "_model_module_version": "1.2.0",
            "_model_name": "LayoutModel",
            "_view_count": null,
            "_view_module": "@jupyter-widgets/base",
            "_view_module_version": "1.2.0",
            "_view_name": "LayoutView",
            "align_content": null,
            "align_items": null,
            "align_self": null,
            "border": null,
            "bottom": null,
            "display": null,
            "flex": null,
            "flex_flow": null,
            "grid_area": null,
            "grid_auto_columns": null,
            "grid_auto_flow": null,
            "grid_auto_rows": null,
            "grid_column": null,
            "grid_gap": null,
            "grid_row": null,
            "grid_template_areas": null,
            "grid_template_columns": null,
            "grid_template_rows": null,
            "height": null,
            "justify_content": null,
            "justify_items": null,
            "left": null,
            "margin": null,
            "max_height": null,
            "max_width": null,
            "min_height": null,
            "min_width": null,
            "object_fit": null,
            "object_position": null,
            "order": null,
            "overflow": null,
            "overflow_x": null,
            "overflow_y": null,
            "padding": null,
            "right": null,
            "top": null,
            "visibility": null,
            "width": null
          }
        },
        "633d42a1b2314ac7a479af196c6a9060": {
          "model_module": "@jupyter-widgets/base",
          "model_name": "LayoutModel",
          "model_module_version": "1.2.0",
          "state": {
            "_model_module": "@jupyter-widgets/base",
            "_model_module_version": "1.2.0",
            "_model_name": "LayoutModel",
            "_view_count": null,
            "_view_module": "@jupyter-widgets/base",
            "_view_module_version": "1.2.0",
            "_view_name": "LayoutView",
            "align_content": null,
            "align_items": null,
            "align_self": null,
            "border": null,
            "bottom": null,
            "display": null,
            "flex": null,
            "flex_flow": null,
            "grid_area": null,
            "grid_auto_columns": null,
            "grid_auto_flow": null,
            "grid_auto_rows": null,
            "grid_column": null,
            "grid_gap": null,
            "grid_row": null,
            "grid_template_areas": null,
            "grid_template_columns": null,
            "grid_template_rows": null,
            "height": null,
            "justify_content": null,
            "justify_items": null,
            "left": null,
            "margin": null,
            "max_height": null,
            "max_width": null,
            "min_height": null,
            "min_width": null,
            "object_fit": null,
            "object_position": null,
            "order": null,
            "overflow": null,
            "overflow_x": null,
            "overflow_y": null,
            "padding": null,
            "right": null,
            "top": null,
            "visibility": null,
            "width": null
          }
        },
        "63fd3d6d48a74a338ef614fa94f48861": {
          "model_module": "@jupyter-widgets/controls",
          "model_name": "DescriptionStyleModel",
          "model_module_version": "1.5.0",
          "state": {
            "_model_module": "@jupyter-widgets/controls",
            "_model_module_version": "1.5.0",
            "_model_name": "DescriptionStyleModel",
            "_view_count": null,
            "_view_module": "@jupyter-widgets/base",
            "_view_module_version": "1.2.0",
            "_view_name": "StyleView",
            "description_width": ""
          }
        },
        "90361a78ec3a45d2b429558a194ecfd5": {
          "model_module": "@jupyter-widgets/base",
          "model_name": "LayoutModel",
          "model_module_version": "1.2.0",
          "state": {
            "_model_module": "@jupyter-widgets/base",
            "_model_module_version": "1.2.0",
            "_model_name": "LayoutModel",
            "_view_count": null,
            "_view_module": "@jupyter-widgets/base",
            "_view_module_version": "1.2.0",
            "_view_name": "LayoutView",
            "align_content": null,
            "align_items": null,
            "align_self": null,
            "border": null,
            "bottom": null,
            "display": null,
            "flex": null,
            "flex_flow": null,
            "grid_area": null,
            "grid_auto_columns": null,
            "grid_auto_flow": null,
            "grid_auto_rows": null,
            "grid_column": null,
            "grid_gap": null,
            "grid_row": null,
            "grid_template_areas": null,
            "grid_template_columns": null,
            "grid_template_rows": null,
            "height": null,
            "justify_content": null,
            "justify_items": null,
            "left": null,
            "margin": null,
            "max_height": null,
            "max_width": null,
            "min_height": null,
            "min_width": null,
            "object_fit": null,
            "object_position": null,
            "order": null,
            "overflow": null,
            "overflow_x": null,
            "overflow_y": null,
            "padding": null,
            "right": null,
            "top": null,
            "visibility": null,
            "width": null
          }
        },
        "2cc2fc343ecd4548be110cacbfb3287d": {
          "model_module": "@jupyter-widgets/controls",
          "model_name": "ProgressStyleModel",
          "model_module_version": "1.5.0",
          "state": {
            "_model_module": "@jupyter-widgets/controls",
            "_model_module_version": "1.5.0",
            "_model_name": "ProgressStyleModel",
            "_view_count": null,
            "_view_module": "@jupyter-widgets/base",
            "_view_module_version": "1.2.0",
            "_view_name": "StyleView",
            "bar_color": null,
            "description_width": ""
          }
        },
        "d5e8fed8438e48c6b347657ed10bb91a": {
          "model_module": "@jupyter-widgets/base",
          "model_name": "LayoutModel",
          "model_module_version": "1.2.0",
          "state": {
            "_model_module": "@jupyter-widgets/base",
            "_model_module_version": "1.2.0",
            "_model_name": "LayoutModel",
            "_view_count": null,
            "_view_module": "@jupyter-widgets/base",
            "_view_module_version": "1.2.0",
            "_view_name": "LayoutView",
            "align_content": null,
            "align_items": null,
            "align_self": null,
            "border": null,
            "bottom": null,
            "display": null,
            "flex": null,
            "flex_flow": null,
            "grid_area": null,
            "grid_auto_columns": null,
            "grid_auto_flow": null,
            "grid_auto_rows": null,
            "grid_column": null,
            "grid_gap": null,
            "grid_row": null,
            "grid_template_areas": null,
            "grid_template_columns": null,
            "grid_template_rows": null,
            "height": null,
            "justify_content": null,
            "justify_items": null,
            "left": null,
            "margin": null,
            "max_height": null,
            "max_width": null,
            "min_height": null,
            "min_width": null,
            "object_fit": null,
            "object_position": null,
            "order": null,
            "overflow": null,
            "overflow_x": null,
            "overflow_y": null,
            "padding": null,
            "right": null,
            "top": null,
            "visibility": null,
            "width": null
          }
        },
        "a76ecbe3a89c41238352a994a8ca385d": {
          "model_module": "@jupyter-widgets/controls",
          "model_name": "DescriptionStyleModel",
          "model_module_version": "1.5.0",
          "state": {
            "_model_module": "@jupyter-widgets/controls",
            "_model_module_version": "1.5.0",
            "_model_name": "DescriptionStyleModel",
            "_view_count": null,
            "_view_module": "@jupyter-widgets/base",
            "_view_module_version": "1.2.0",
            "_view_name": "StyleView",
            "description_width": ""
          }
        }
      }
    }
  },
  "cells": [
    {
      "cell_type": "markdown",
      "metadata": {
        "id": "view-in-github",
        "colab_type": "text"
      },
      "source": [
        "<a href=\"https://colab.research.google.com/github/orlandxrf/curso-dl/blob/main/notebooks/10d_FineTuning_SentimentAnalysis_HuggingFace.ipynb\" target=\"_parent\"><img src=\"https://colab.research.google.com/assets/colab-badge.svg\" alt=\"Open In Colab\"/></a>"
      ]
    },
    {
      "cell_type": "markdown",
      "source": [
        "# Fine-Tuning Análisis de Sentimientos\n",
        "Dado el conjunto de datos se desarrollará una red densa para clasificar sentimientos"
      ],
      "metadata": {
        "id": "_hTucKJsYfEs"
      }
    },
    {
      "cell_type": "code",
      "execution_count": null,
      "metadata": {
        "id": "1nG0PAy0YYhC"
      },
      "outputs": [],
      "source": [
        "# establecer parametros para almacenar y cargar el conjunto de datos del repositorio de Github\n",
        "import os\n",
        "\n",
        "URL = 'https://github.com/orlandxrf/curso-dl/blob/main/data/IMDB.zip?raw=True'\n",
        "data_folder = 'data'\n",
        "filepath = os.path.join(data_folder, 'IMDB.zip')"
      ]
    },
    {
      "cell_type": "markdown",
      "source": [
        "## Obtener el conjunto de datos"
      ],
      "metadata": {
        "id": "4or9B-3jajl_"
      }
    },
    {
      "cell_type": "code",
      "source": [
        "# crear carpeta para almacenar el conjunto de datos\n",
        "! mkdir {data_folder}\n",
        "# descargar conjunto de datos y alamcenar\n",
        "! wget -nc {URL} -O {filepath}"
      ],
      "metadata": {
        "colab": {
          "base_uri": "https://localhost:8080/"
        },
        "id": "Sll0mlf_aszv",
        "outputId": "0489a12d-2af3-4387-b66f-e0c414743931"
      },
      "execution_count": null,
      "outputs": [
        {
          "output_type": "stream",
          "name": "stdout",
          "text": [
            "--2022-04-18 19:53:35--  https://github.com/orlandxrf/curso-dl/blob/main/data/IMDB.zip?raw=True\n",
            "Resolving github.com (github.com)... 52.192.72.89\n",
            "Connecting to github.com (github.com)|52.192.72.89|:443... connected.\n",
            "HTTP request sent, awaiting response... 302 Found\n",
            "Location: https://github.com/orlandxrf/curso-dl/raw/main/data/IMDB.zip [following]\n",
            "--2022-04-18 19:53:35--  https://github.com/orlandxrf/curso-dl/raw/main/data/IMDB.zip\n",
            "Reusing existing connection to github.com:443.\n",
            "HTTP request sent, awaiting response... 302 Found\n",
            "Location: https://raw.githubusercontent.com/orlandxrf/curso-dl/main/data/IMDB.zip [following]\n",
            "--2022-04-18 19:53:36--  https://raw.githubusercontent.com/orlandxrf/curso-dl/main/data/IMDB.zip\n",
            "Resolving raw.githubusercontent.com (raw.githubusercontent.com)... 185.199.108.133, 185.199.109.133, 185.199.110.133, ...\n",
            "Connecting to raw.githubusercontent.com (raw.githubusercontent.com)|185.199.108.133|:443... connected.\n",
            "HTTP request sent, awaiting response... 200 OK\n",
            "Length: 26962657 (26M) [application/zip]\n",
            "Saving to: ‘data/IMDB.zip’\n",
            "\n",
            "data/IMDB.zip       100%[===================>]  25.71M   116MB/s    in 0.2s    \n",
            "\n",
            "2022-04-18 19:53:38 (116 MB/s) - ‘data/IMDB.zip’ saved [26962657/26962657]\n",
            "\n"
          ]
        }
      ]
    },
    {
      "cell_type": "code",
      "source": [
        "# comprobrar\n",
        "! ls -lh data/*\n"
      ],
      "metadata": {
        "colab": {
          "base_uri": "https://localhost:8080/"
        },
        "id": "_aV8rUjwbbBO",
        "outputId": "717d9470-8bfb-4b6d-fa2b-02eb81879dd8"
      },
      "execution_count": null,
      "outputs": [
        {
          "output_type": "stream",
          "name": "stdout",
          "text": [
            "-rw-r--r-- 1 root root 26M Apr 18 19:53 data/IMDB.zip\n"
          ]
        }
      ]
    },
    {
      "cell_type": "markdown",
      "source": [
        "## Analizar conjunto de datos"
      ],
      "metadata": {
        "id": "fbNBV1eaXjZr"
      }
    },
    {
      "cell_type": "code",
      "source": [
        "import pandas as pd\n",
        "\n",
        "# df = pd.read_csv('data/IMDB.zip')\n",
        "df = pd.read_csv('data/IMDB.zip', compression='zip', header=0, sep=',', quotechar='\"')\n",
        "\n",
        "# eliminar columnas 'tweet_id' y 'author'\n",
        "# df.drop('tweet_id',axis=1,inplace=True)\n",
        "# df.drop('author',axis=1,inplace=True)\n",
        "print (df.head(10))\n",
        "print (f\"\\nLongitud de tweets: {len(df):,}\")"
      ],
      "metadata": {
        "colab": {
          "base_uri": "https://localhost:8080/"
        },
        "id": "pijhdpXRXnAs",
        "outputId": "bd4fc53d-ce2c-4ebd-bb97-6fff8b8d5db3"
      },
      "execution_count": null,
      "outputs": [
        {
          "output_type": "stream",
          "name": "stdout",
          "text": [
            "                                              review sentiment\n",
            "0  One of the other reviewers has mentioned that ...  positive\n",
            "1  A wonderful little production. <br /><br />The...  positive\n",
            "2  I thought this was a wonderful way to spend ti...  positive\n",
            "3  Basically there's a family where a little boy ...  negative\n",
            "4  Petter Mattei's \"Love in the Time of Money\" is...  positive\n",
            "5  Probably my all-time favorite movie, a story o...  positive\n",
            "6  I sure would like to see a resurrection of a u...  positive\n",
            "7  This show was an amazing, fresh & innovative i...  negative\n",
            "8  Encouraged by the positive comments about this...  negative\n",
            "9  If you like original gut wrenching laughter yo...  positive\n",
            "\n",
            "Longitud de tweets: 50,000\n"
          ]
        }
      ]
    },
    {
      "cell_type": "code",
      "source": [
        "import matplotlib.pyplot as plt\n",
        "\n",
        "sentiments = dict(pd.value_counts(df['sentiment']))\n",
        "classes = list(sentiments.keys())\n",
        "for i, sent in enumerate(sentiments):\n",
        "  print (f\"{i+1}\\t{sentiments[sent]}\\t{sent}\")\n",
        "print (f\"\\n{len(df):,} tweets\")\n",
        "\n",
        "# Graficar la distribución\n",
        "plt.figure(figsize=(15, 10))\n",
        "pd.value_counts(df['sentiment']).plot.bar(title=\"Distribución de sentimientos\")\n",
        "plt.xlabel(\"Sentimiento\", fontsize=\"15\")\n",
        "plt.ylabel(\"Tweets\", fontsize=\"15\")\n",
        "plt.xticks(rotation=0, fontsize=\"15\")\n",
        "plt.yticks(fontsize=\"15\")\n",
        "plt.show()"
      ],
      "metadata": {
        "colab": {
          "base_uri": "https://localhost:8080/",
          "height": 701
        },
        "id": "rJifibVZYINg",
        "outputId": "f188cc2b-01eb-40f3-98ea-3659d0fa1a09"
      },
      "execution_count": null,
      "outputs": [
        {
          "output_type": "stream",
          "name": "stdout",
          "text": [
            "1\t25000\tpositive\n",
            "2\t25000\tnegative\n",
            "\n",
            "50,000 tweets\n"
          ]
        },
        {
          "output_type": "display_data",
          "data": {
            "text/plain": [
              "<Figure size 1080x720 with 1 Axes>"
            ],
            "image/png": "[encoded data removed]"
          },
          "metadata": {
            "needs_background": "light"
          }
        }
      ]
    },
    {
      "cell_type": "markdown",
      "source": [
        "## Preprocesamiento y división de los datos\n"
      ],
      "metadata": {
        "id": "MGucn7IxiJZy"
      }
    },
    {
      "cell_type": "code",
      "source": [
        "def convert_label(tag):\n",
        "    return 0 if tag == \"negative\" else 1\n",
        "\n",
        "df[\"sentiment\"] = df[\"sentiment\"].apply(lambda x: convert_label(x))\n",
        "\n",
        "print (df.head(10))"
      ],
      "metadata": {
        "id": "HoS4-zFPiVSF",
        "colab": {
          "base_uri": "https://localhost:8080/"
        },
        "outputId": "afd43331-85c6-4319-a253-9718ffb555bf"
      },
      "execution_count": null,
      "outputs": [
        {
          "output_type": "stream",
          "name": "stdout",
          "text": [
            "                                              review  sentiment\n",
            "0  One of the other reviewers has mentioned that ...          1\n",
            "1  A wonderful little production. <br /><br />The...          1\n",
            "2  I thought this was a wonderful way to spend ti...          1\n",
            "3  Basically there's a family where a little boy ...          0\n",
            "4  Petter Mattei's \"Love in the Time of Money\" is...          1\n",
            "5  Probably my all-time favorite movie, a story o...          1\n",
            "6  I sure would like to see a resurrection of a u...          1\n",
            "7  This show was an amazing, fresh & innovative i...          0\n",
            "8  Encouraged by the positive comments about this...          0\n",
            "9  If you like original gut wrenching laughter yo...          1\n"
          ]
        }
      ]
    },
    {
      "cell_type": "code",
      "source": [
        "sentiments = dict(pd.value_counts(df['sentiment']))\n",
        "classes = list(sentiments.keys())\n",
        "for i, sent in enumerate(sentiments):\n",
        "  print (f\"{i+1}\\t{sentiments[sent]}\\t{sent}\")\n",
        "print (f\"\\n{len(df):,} tweets\")\n",
        "\n",
        "# Graficar la distribución\n",
        "plt.figure(figsize=(15, 10))\n",
        "pd.value_counts(df['sentiment']).plot.bar(title=\"Distribución de sentimientos\")\n",
        "plt.xlabel(\"Sentimiento\", fontsize=\"15\")\n",
        "plt.ylabel(\"Tweets\", fontsize=\"15\")\n",
        "plt.xticks(rotation=0, fontsize=\"15\")\n",
        "plt.yticks(fontsize=\"15\")\n",
        "plt.show()"
      ],
      "metadata": {
        "colab": {
          "base_uri": "https://localhost:8080/",
          "height": 701
        },
        "id": "izr-eK3honh7",
        "outputId": "efd18680-a419-4844-95e5-821f7c80a141"
      },
      "execution_count": null,
      "outputs": [
        {
          "output_type": "stream",
          "name": "stdout",
          "text": [
            "1\t25000\t1\n",
            "2\t25000\t0\n",
            "\n",
            "50,000 tweets\n"
          ]
        },
        {
          "output_type": "display_data",
          "data": {
            "text/plain": [
              "<Figure size 1080x720 with 1 Axes>"
            ],
            "image/png": "[encoded data removed]"
          },
          "metadata": {
            "needs_background": "light"
          }
        }
      ]
    },
    {
      "cell_type": "code",
      "source": [
        "# dividir el conjunto de datos\n",
        "# train_set = df[0:40000]\n",
        "# valid_set = df[40000:45000]\n",
        "# test_set  = df[45000:50000]\n",
        "\n",
        "train_set = df[0:3000]\n",
        "valid_set = df[3000:3500]\n",
        "test_set  = df[3500:4000]"
      ],
      "metadata": {
        "id": "UKMjwPaMSNvH"
      },
      "execution_count": null,
      "outputs": []
    },
    {
      "cell_type": "code",
      "source": [
        "train_sent = dict(pd.value_counts(train_set['sentiment']))\n",
        "valid_sent = dict(pd.value_counts(valid_set['sentiment']))\n",
        "test_sent = dict(pd.value_counts(test_set['sentiment']))\n",
        "\n",
        "clases = list(train_sent.keys())\n",
        "\n",
        "print (f\">>> Train set\")\n",
        "for i, sent in enumerate(train_sent):\n",
        "  print (f\"{i+1}\\t{train_sent[sent]:,}\\t{sent}\")\n",
        "print (f\"\\n{len(train_set):,} tweets\\n\\n\")\n",
        "\n",
        "print (f\">>> Valid set\")\n",
        "for i, sent in enumerate(valid_sent):\n",
        "  print (f\"{i+1}\\t{valid_sent[sent]:,}\\t{sent}\")\n",
        "print (f\"\\n{len(valid_set):,} tweets\\n\\n\")\n",
        "\n",
        "print (f\">>> Test set\")\n",
        "for i, sent in enumerate(test_sent):\n",
        "  print (f\"{i+1}\\t{test_sent[sent]:,}\\t{sent}\")\n",
        "print (f\"\\n{len(test_set):,} tweets\\n\\n\")\n",
        "\n",
        "\n"
      ],
      "metadata": {
        "colab": {
          "base_uri": "https://localhost:8080/"
        },
        "id": "gUKswqKPoKJk",
        "outputId": "be1c52df-aae7-490a-fa4b-81378979b049"
      },
      "execution_count": null,
      "outputs": [
        {
          "output_type": "stream",
          "name": "stdout",
          "text": [
            ">>> Train set\n",
            "1\t1,508\t1\n",
            "2\t1,492\t0\n",
            "\n",
            "3,000 tweets\n",
            "\n",
            "\n",
            ">>> Valid set\n",
            "1\t255\t0\n",
            "2\t245\t1\n",
            "\n",
            "500 tweets\n",
            "\n",
            "\n",
            ">>> Test set\n",
            "1\t280\t0\n",
            "2\t220\t1\n",
            "\n",
            "500 tweets\n",
            "\n",
            "\n"
          ]
        }
      ]
    },
    {
      "cell_type": "markdown",
      "source": [
        "## Crear clase para el conjunto de datos"
      ],
      "metadata": {
        "id": "8OIrH51pttga"
      }
    },
    {
      "cell_type": "code",
      "source": [
        "! pip install transformers"
      ],
      "metadata": {
        "colab": {
          "base_uri": "https://localhost:8080/"
        },
        "id": "mFEyI8WguldE",
        "outputId": "9a59b87c-9b7e-401b-95db-5fc55ad13182"
      },
      "execution_count": null,
      "outputs": [
        {
          "output_type": "stream",
          "name": "stdout",
          "text": [
            "Collecting transformers\n",
            "  Downloading transformers-4.18.0-py3-none-any.whl (4.0 MB)\n",
            "\u001b[K     |████████████████████████████████| 4.0 MB 4.3 MB/s \n",
            "\u001b[?25hCollecting pyyaml>=5.1\n",
            "  Downloading PyYAML-6.0-cp37-cp37m-manylinux_2_5_x86_64.manylinux1_x86_64.manylinux_2_12_x86_64.manylinux2010_x86_64.whl (596 kB)\n",
            "\u001b[K     |████████████████████████████████| 596 kB 48.4 MB/s \n",
            "\u001b[?25hCollecting sacremoses\n",
            "  Downloading sacremoses-0.0.49-py3-none-any.whl (895 kB)\n",
            "\u001b[K     |████████████████████████████████| 895 kB 40.8 MB/s \n",
            "\u001b[?25hCollecting tokenizers!=0.11.3,<0.13,>=0.11.1\n",
            "  Downloading tokenizers-0.12.1-cp37-cp37m-manylinux_2_12_x86_64.manylinux2010_x86_64.whl (6.6 MB)\n",
            "\u001b[K     |████████████████████████████████| 6.6 MB 33.3 MB/s \n",
            "\u001b[?25hRequirement already satisfied: numpy>=1.17 in /usr/local/lib/python3.7/dist-packages (from transformers) (1.21.5)\n",
            "Requirement already satisfied: tqdm>=4.27 in /usr/local/lib/python3.7/dist-packages (from transformers) (4.64.0)\n",
            "Collecting huggingface-hub<1.0,>=0.1.0\n",
            "  Downloading huggingface_hub-0.5.1-py3-none-any.whl (77 kB)\n",
            "\u001b[K     |████████████████████████████████| 77 kB 5.6 MB/s \n",
            "\u001b[?25hRequirement already satisfied: filelock in /usr/local/lib/python3.7/dist-packages (from transformers) (3.6.0)\n",
            "Requirement already satisfied: regex!=2019.12.17 in /usr/local/lib/python3.7/dist-packages (from transformers) (2019.12.20)\n",
            "Requirement already satisfied: importlib-metadata in /usr/local/lib/python3.7/dist-packages (from transformers) (4.11.3)\n",
            "Requirement already satisfied: requests in /usr/local/lib/python3.7/dist-packages (from transformers) (2.23.0)\n",
            "Requirement already satisfied: packaging>=20.0 in /usr/local/lib/python3.7/dist-packages (from transformers) (21.3)\n",
            "Requirement already satisfied: typing-extensions>=3.7.4.3 in /usr/local/lib/python3.7/dist-packages (from huggingface-hub<1.0,>=0.1.0->transformers) (4.1.1)\n",
            "Requirement already satisfied: pyparsing!=3.0.5,>=2.0.2 in /usr/local/lib/python3.7/dist-packages (from packaging>=20.0->transformers) (3.0.8)\n",
            "Requirement already satisfied: zipp>=0.5 in /usr/local/lib/python3.7/dist-packages (from importlib-metadata->transformers) (3.8.0)\n",
            "Requirement already satisfied: certifi>=2017.4.17 in /usr/local/lib/python3.7/dist-packages (from requests->transformers) (2021.10.8)\n",
            "Requirement already satisfied: chardet<4,>=3.0.2 in /usr/local/lib/python3.7/dist-packages (from requests->transformers) (3.0.4)\n",
            "Requirement already satisfied: urllib3!=1.25.0,!=1.25.1,<1.26,>=1.21.1 in /usr/local/lib/python3.7/dist-packages (from requests->transformers) (1.24.3)\n",
            "Requirement already satisfied: idna<3,>=2.5 in /usr/local/lib/python3.7/dist-packages (from requests->transformers) (2.10)\n",
            "Requirement already satisfied: joblib in /usr/local/lib/python3.7/dist-packages (from sacremoses->transformers) (1.1.0)\n",
            "Requirement already satisfied: click in /usr/local/lib/python3.7/dist-packages (from sacremoses->transformers) (7.1.2)\n",
            "Requirement already satisfied: six in /usr/local/lib/python3.7/dist-packages (from sacremoses->transformers) (1.15.0)\n",
            "Installing collected packages: pyyaml, tokenizers, sacremoses, huggingface-hub, transformers\n",
            "  Attempting uninstall: pyyaml\n",
            "    Found existing installation: PyYAML 3.13\n",
            "    Uninstalling PyYAML-3.13:\n",
            "      Successfully uninstalled PyYAML-3.13\n",
            "Successfully installed huggingface-hub-0.5.1 pyyaml-6.0 sacremoses-0.0.49 tokenizers-0.12.1 transformers-4.18.0\n"
          ]
        }
      ]
    },
    {
      "cell_type": "code",
      "source": [
        "import torch\n",
        "from transformers import AutoTokenizer"
      ],
      "metadata": {
        "id": "CKEKY5oht2vp"
      },
      "execution_count": null,
      "outputs": []
    },
    {
      "cell_type": "code",
      "source": [
        "# device = \"cuda:0\" if torch.cuda.is_available() else \"cpu\"\n",
        "# print (device)"
      ],
      "metadata": {
        "colab": {
          "base_uri": "https://localhost:8080/"
        },
        "id": "CDWEjUV0RU6P",
        "outputId": "aa1e295c-8ce9-4a2b-edac-81927f3b3b13"
      },
      "execution_count": null,
      "outputs": [
        {
          "output_type": "stream",
          "name": "stdout",
          "text": [
            "cpu\n"
          ]
        }
      ]
    },
    {
      "cell_type": "code",
      "source": [
        "class MakeDataset(torch.utils.data.Dataset):\n",
        "\n",
        "    def __init__(self, reviews, sentiments, tokenizer):\n",
        "        self.reviews    = reviews # columna donde se encuentra el texto\n",
        "        self.sentiments = sentiments # columna de la clase (0 o 1)\n",
        "        self.tokenizer  = tokenizer # tokenizador de los transformers\n",
        "        self.max_len    = tokenizer.model_max_length # longitud máxima (512 para el modelo BERT)\n",
        "  \n",
        "    def __len__(self):\n",
        "        return len(self.reviews)\n",
        "  \n",
        "    def __getitem__(self, index):\n",
        "        review = str(self.reviews[index]) # obtener texto por índice\n",
        "        sentiments = self.sentiments[index] # obtener clase por índice\n",
        "\n",
        "        # codificar (tokenizar) conjunto de datos usando función: encode_plus()\n",
        "        encoded_review = self.tokenizer.encode_plus(\n",
        "            review,\n",
        "            add_special_tokens    = True,\n",
        "            max_length            = self.max_len,\n",
        "            return_token_type_ids = False,\n",
        "            return_attention_mask = True,\n",
        "            return_tensors        = \"pt\",\n",
        "            padding               = \"max_length\",\n",
        "            truncation            = True\n",
        "        )\n",
        "\n",
        "        return {\n",
        "            'input_ids': encoded_review['input_ids'][0],\n",
        "            'attention_mask': encoded_review['attention_mask'][0],\n",
        "            'labels': torch.tensor(sentiments, dtype=torch.long)\n",
        "        }"
      ],
      "metadata": {
        "id": "2FGmG8A6uleQ"
      },
      "execution_count": null,
      "outputs": []
    },
    {
      "cell_type": "code",
      "source": [
        "# cargar tokenizador del modelo BERT de HuggingFace\n",
        "model_checkpoint = \"bert-base-uncased\"\n",
        "tokenizer = AutoTokenizer.from_pretrained(model_checkpoint)"
      ],
      "metadata": {
        "colab": {
          "base_uri": "https://localhost:8080/",
          "height": 145,
          "referenced_widgets": [
            "c0f379c5379149c4b62e2b7b4ca10506",
            "8eae1d56aa284304a5b7f6f04e59573b",
            "3ee1cfbb15884ad58c5deb80526049b3",
            "c708cc5d422a4dec9a026d4c16b1cd6e",
            "8bc71b1a729644f784a5b6524f7b570b",
            "8cd527d6b59f4fac8910a1b543f98bd2",
            "e3ae24983da040a4a08916d696d8a037",
            "0408876779254eb5acfea30b05f09cd9",
            "f29ca44bff27412fbd8f877a01020b99",
            "0379e15ad7ce488881af307b4dc6fe66",
            "7d4990be03bf4d2f97177f205cfe49f5",
            "a96e9850735a4fa99f6ab4b34e83cc1f",
            "07bfd06f5f4646cda6a824c8369e24c6",
            "02ca56fbd28847e4b25588120d96593a",
            "5d6189113eb44789806000aedb51366d",
            "4a0321ba39cd438aa0bafe8a000644f9",
            "0207a2ff5e5e4d4590209abcaebe9018",
            "5122f1d1e2de47ffae55e1f9faac87ed",
            "500b413642b94ca6bdaa9a7620118594",
            "fd0ac72526984c6aa77555182f96f552",
            "940b96e20f824efa99df3e182ae66ad3",
            "f3a6dc9c9f984fbabea2e4a26fb95001",
            "8a9e2fa6b62b4c5a913f8568a578f55f",
            "d96b9cd01dd5412f8e63297935bb0ece",
            "35082bbbc9124b6daa96127890197f4e",
            "d6f67374d43544e68a3bb6e8e5c94047",
            "10703b21e2f24903a1644f9bfced620a",
            "159e1f8a86fa43c995115c40b3813ac3",
            "82f2856f6ec1475287461499d0f6746a",
            "0649ff2a394a4d4c8c79c47abd075d56",
            "f293ff4c1f094fc1a577ea0df41609d5",
            "c14bd85b0fda45f0a3c673d27011f100",
            "2c9f2cc8b568405b9f1a8d4f288f9c63",
            "07e1d5a3865649bd9193ad9780aab412",
            "e6d6ac76ba1a4787a7cd4218721388fb",
            "356e6d75a9bf4113a063ffdf1f25c14f",
            "def365049bfb49e1962eb4451ea158af",
            "b32ee2d3e69d420198f7e11b875092b2",
            "67a78f5d611c46b5b44ba8fcf82348dd",
            "f186d69efd564d86a96ab3695b365545",
            "1dfeaf4ccf3b4fe6884386001721b605",
            "a277feba7c5a4806b4568facdaa1b754",
            "a81b496dfd084a12b1abeca41692a6a1",
            "9d152305fed24e0899ef0eeca5f73b59"
          ]
        },
        "id": "FPM8YwTKxJWn",
        "outputId": "5d409451-ed16-4eb7-9000-95d233f3b430"
      },
      "execution_count": null,
      "outputs": [
        {
          "output_type": "display_data",
          "data": {
            "text/plain": [
              "Downloading:   0%|          | 0.00/28.0 [00:00<?, ?B/s]"
            ],
            "application/vnd.jupyter.widget-view+json": {
              "version_major": 2,
              "version_minor": 0,
              "model_id": "c0f379c5379149c4b62e2b7b4ca10506"
            }
          },
          "metadata": {}
        },
        {
          "output_type": "display_data",
          "data": {
            "text/plain": [
              "Downloading:   0%|          | 0.00/570 [00:00<?, ?B/s]"
            ],
            "application/vnd.jupyter.widget-view+json": {
              "version_major": 2,
              "version_minor": 0,
              "model_id": "a96e9850735a4fa99f6ab4b34e83cc1f"
            }
          },
          "metadata": {}
        },
        {
          "output_type": "display_data",
          "data": {
            "text/plain": [
              "Downloading:   0%|          | 0.00/226k [00:00<?, ?B/s]"
            ],
            "application/vnd.jupyter.widget-view+json": {
              "version_major": 2,
              "version_minor": 0,
              "model_id": "8a9e2fa6b62b4c5a913f8568a578f55f"
            }
          },
          "metadata": {}
        },
        {
          "output_type": "display_data",
          "data": {
            "text/plain": [
              "Downloading:   0%|          | 0.00/455k [00:00<?, ?B/s]"
            ],
            "application/vnd.jupyter.widget-view+json": {
              "version_major": 2,
              "version_minor": 0,
              "model_id": "07e1d5a3865649bd9193ad9780aab412"
            }
          },
          "metadata": {}
        }
      ]
    },
    {
      "cell_type": "markdown",
      "source": [
        "### Crear objetos MakeDataset para train y valid set"
      ],
      "metadata": {
        "id": "FMLq_Zu_xY5P"
      }
    },
    {
      "cell_type": "code",
      "source": [
        "# Create Dataset objects for train/validation sets.\n",
        "train_set_dataset = MakeDataset(\n",
        "    reviews    = train_set.review.tolist(),\n",
        "    sentiments = train_set.sentiment.tolist(),\n",
        "    tokenizer  = tokenizer,\n",
        ")\n",
        "\n",
        "valid_set_dataset = MakeDataset(\n",
        "    reviews    = valid_set.review.tolist(),\n",
        "    sentiments = valid_set.sentiment.tolist(),\n",
        "    tokenizer  = tokenizer,\n",
        ")"
      ],
      "metadata": {
        "id": "-0SiGaWNxSCF"
      },
      "execution_count": null,
      "outputs": []
    },
    {
      "cell_type": "markdown",
      "source": [
        "### Crear DataLoader del train y valid set"
      ],
      "metadata": {
        "id": "I_nj9dIzxtXJ"
      }
    },
    {
      "cell_type": "code",
      "source": [
        "train_set_dataloader = torch.utils.data.DataLoader(\n",
        "    train_set_dataset,\n",
        "    batch_size  = 16,\n",
        "    num_workers = 4\n",
        ")\n",
        "\n",
        "valid_set_dataloader = torch.utils.data.DataLoader(\n",
        "    valid_set_dataset,\n",
        "    batch_size  = 16,\n",
        "    num_workers = 4\n",
        ")"
      ],
      "metadata": {
        "colab": {
          "base_uri": "https://localhost:8080/"
        },
        "id": "3Ok4FSt8x9Tv",
        "outputId": "bb7400e2-859d-43f9-fd7f-ea39fcbc3b44"
      },
      "execution_count": null,
      "outputs": [
        {
          "output_type": "stream",
          "name": "stderr",
          "text": [
            "/usr/local/lib/python3.7/dist-packages/torch/utils/data/dataloader.py:481: UserWarning: This DataLoader will create 4 worker processes in total. Our suggested max number of worker in current system is 2, which is smaller than what this DataLoader is going to create. Please be aware that excessive worker creation might get DataLoader running slow or even freeze, lower the worker number to avoid potential slowness/freeze if necessary.\n",
            "  cpuset_checked))\n"
          ]
        }
      ]
    },
    {
      "cell_type": "markdown",
      "source": [
        "### Visualizar un batch"
      ],
      "metadata": {
        "id": "2UOWcO7fyMn3"
      }
    },
    {
      "cell_type": "code",
      "source": [
        "# Get one batch as example.\n",
        "train_data = next(iter(train_set_dataloader))\n",
        "valid_data = next(iter(valid_set_dataloader))\n",
        "\n",
        "# Print the output sizes.\n",
        "print( train_data[\"input_ids\"].size(), valid_data[\"input_ids\"].size() )"
      ],
      "metadata": {
        "colab": {
          "base_uri": "https://localhost:8080/"
        },
        "id": "SPU8-GbYyNYX",
        "outputId": "d364d5da-cabd-4ff4-e9ed-168af4692775"
      },
      "execution_count": null,
      "outputs": [
        {
          "output_type": "stream",
          "name": "stderr",
          "text": [
            "/usr/local/lib/python3.7/dist-packages/torch/utils/data/dataloader.py:481: UserWarning: This DataLoader will create 4 worker processes in total. Our suggested max number of worker in current system is 2, which is smaller than what this DataLoader is going to create. Please be aware that excessive worker creation might get DataLoader running slow or even freeze, lower the worker number to avoid potential slowness/freeze if necessary.\n",
            "  cpuset_checked))\n"
          ]
        },
        {
          "output_type": "stream",
          "name": "stdout",
          "text": [
            "torch.Size([16, 512]) torch.Size([16, 512])\n"
          ]
        }
      ]
    },
    {
      "cell_type": "markdown",
      "source": [
        "### Cargar el modelo y realizar Fine-Tuning"
      ],
      "metadata": {
        "id": "i3vQ3CCDEE2w"
      }
    },
    {
      "cell_type": "code",
      "source": [
        "from transformers import BertForSequenceClassification"
      ],
      "metadata": {
        "id": "-jn0D7V303PN"
      },
      "execution_count": null,
      "outputs": []
    },
    {
      "cell_type": "code",
      "source": [
        "# model_checkpoint = \"bert-large-uncased\"\n",
        "model_checkpoint = \"distilbert-base-uncased\"\n",
        "model = BertForSequenceClassification.from_pretrained(model_checkpoint)\n"
      ],
      "metadata": {
        "colab": {
          "base_uri": "https://localhost:8080/",
          "height": 173,
          "referenced_widgets": [
            "91cb43743cb346769470eeb25bf3f778",
            "a0ef4404c5fe4339b181e93b4dc6902c",
            "c62125f83e7448f7b9e4a2bb4f317063",
            "08377ab9c43c472ba560414c6c35c77a",
            "b519cb23595a4b8ba1107267f0366548",
            "633d42a1b2314ac7a479af196c6a9060",
            "63fd3d6d48a74a338ef614fa94f48861",
            "90361a78ec3a45d2b429558a194ecfd5",
            "2cc2fc343ecd4548be110cacbfb3287d",
            "d5e8fed8438e48c6b347657ed10bb91a",
            "a76ecbe3a89c41238352a994a8ca385d"
          ]
        },
        "id": "QqC5zHy_EM0H",
        "outputId": "d01f979b-c5da-438a-969c-9890623d2613"
      },
      "execution_count": null,
      "outputs": [
        {
          "output_type": "stream",
          "name": "stderr",
          "text": [
            "You are using a model of type distilbert to instantiate a model of type bert. This is not supported for all configurations of models and can yield errors.\n"
          ]
        },
        {
          "output_type": "display_data",
          "data": {
            "text/plain": [
              "Downloading:   0%|          | 0.00/256M [00:00<?, ?B/s]"
            ],
            "application/vnd.jupyter.widget-view+json": {
              "version_major": 2,
              "version_minor": 0,
              "model_id": "91cb43743cb346769470eeb25bf3f778"
            }
          },
          "metadata": {}
        },
        {
          "output_type": "stream",
          "name": "stderr",
          "text": [
            "Some weights of the model checkpoint at distilbert-base-uncased were not used when initializing BertForSequenceClassification: ['distilbert.transformer.layer.2.output_layer_norm.bias', 'distilbert.transformer.layer.4.ffn.lin2.weight', 'distilbert.transformer.layer.0.attention.v_lin.weight', 'distilbert.transformer.layer.2.attention.out_lin.bias', 'distilbert.transformer.layer.3.attention.k_lin.weight', 'distilbert.embeddings.position_embeddings.weight', 'distilbert.transformer.layer.3.ffn.lin1.weight', 'distilbert.transformer.layer.4.attention.out_lin.bias', 'distilbert.transformer.layer.3.ffn.lin2.bias', 'distilbert.transformer.layer.3.ffn.lin1.bias', 'distilbert.transformer.layer.0.attention.k_lin.bias', 'vocab_transform.bias', 'distilbert.transformer.layer.2.ffn.lin2.bias', 'distilbert.embeddings.word_embeddings.weight', 'distilbert.transformer.layer.5.attention.k_lin.bias', 'distilbert.transformer.layer.5.ffn.lin2.bias', 'distilbert.transformer.layer.4.attention.v_lin.bias', 'distilbert.transformer.layer.4.ffn.lin2.bias', 'distilbert.transformer.layer.1.output_layer_norm.bias', 'distilbert.transformer.layer.2.ffn.lin1.weight', 'distilbert.transformer.layer.0.attention.out_lin.weight', 'distilbert.transformer.layer.5.output_layer_norm.bias', 'distilbert.transformer.layer.0.sa_layer_norm.weight', 'distilbert.transformer.layer.2.attention.q_lin.weight', 'distilbert.transformer.layer.2.attention.q_lin.bias', 'distilbert.transformer.layer.5.attention.q_lin.weight', 'distilbert.transformer.layer.3.attention.v_lin.weight', 'distilbert.embeddings.LayerNorm.weight', 'distilbert.transformer.layer.2.ffn.lin2.weight', 'distilbert.transformer.layer.2.attention.v_lin.weight', 'distilbert.transformer.layer.5.attention.v_lin.bias', 'distilbert.transformer.layer.2.sa_layer_norm.weight', 'distilbert.embeddings.LayerNorm.bias', 'distilbert.transformer.layer.3.output_layer_norm.weight', 'distilbert.transformer.layer.0.attention.q_lin.weight', 'distilbert.transformer.layer.4.output_layer_norm.bias', 'distilbert.transformer.layer.3.output_layer_norm.bias', 'vocab_projector.bias', 'distilbert.transformer.layer.0.ffn.lin2.weight', 'distilbert.transformer.layer.0.output_layer_norm.weight', 'distilbert.transformer.layer.1.output_layer_norm.weight', 'distilbert.transformer.layer.5.attention.out_lin.weight', 'distilbert.transformer.layer.0.ffn.lin1.weight', 'distilbert.transformer.layer.4.attention.q_lin.weight', 'distilbert.transformer.layer.4.attention.out_lin.weight', 'distilbert.transformer.layer.4.sa_layer_norm.bias', 'distilbert.transformer.layer.5.ffn.lin2.weight', 'distilbert.transformer.layer.0.attention.q_lin.bias', 'distilbert.transformer.layer.5.ffn.lin1.bias', 'distilbert.transformer.layer.3.attention.k_lin.bias', 'distilbert.transformer.layer.5.sa_layer_norm.weight', 'distilbert.transformer.layer.1.attention.q_lin.weight', 'distilbert.transformer.layer.0.ffn.lin1.bias', 'distilbert.transformer.layer.1.ffn.lin1.weight', 'distilbert.transformer.layer.5.ffn.lin1.weight', 'distilbert.transformer.layer.0.sa_layer_norm.bias', 'distilbert.transformer.layer.0.attention.v_lin.bias', 'distilbert.transformer.layer.5.attention.k_lin.weight', 'distilbert.transformer.layer.3.attention.q_lin.weight', 'distilbert.transformer.layer.4.attention.k_lin.weight', 'distilbert.transformer.layer.4.ffn.lin1.bias', 'distilbert.transformer.layer.5.output_layer_norm.weight', 'distilbert.transformer.layer.4.attention.v_lin.weight', 'distilbert.transformer.layer.4.output_layer_norm.weight', 'distilbert.transformer.layer.3.ffn.lin2.weight', 'distilbert.transformer.layer.2.attention.k_lin.bias', 'distilbert.transformer.layer.1.attention.k_lin.bias', 'distilbert.transformer.layer.1.attention.v_lin.bias', 'distilbert.transformer.layer.1.attention.q_lin.bias', 'distilbert.transformer.layer.5.attention.v_lin.weight', 'distilbert.transformer.layer.4.attention.k_lin.bias', 'distilbert.transformer.layer.4.attention.q_lin.bias', 'vocab_layer_norm.bias', 'distilbert.transformer.layer.2.attention.k_lin.weight', 'distilbert.transformer.layer.5.attention.q_lin.bias', 'distilbert.transformer.layer.4.sa_layer_norm.weight', 'distilbert.transformer.layer.3.sa_layer_norm.weight', 'distilbert.transformer.layer.2.output_layer_norm.weight', 'distilbert.transformer.layer.3.attention.out_lin.bias', 'distilbert.transformer.layer.1.sa_layer_norm.bias', 'distilbert.transformer.layer.1.attention.out_lin.bias', 'distilbert.transformer.layer.1.ffn.lin2.bias', 'distilbert.transformer.layer.1.attention.v_lin.weight', 'distilbert.transformer.layer.1.attention.out_lin.weight', 'vocab_transform.weight', 'distilbert.transformer.layer.2.attention.v_lin.bias', 'distilbert.transformer.layer.2.sa_layer_norm.bias', 'distilbert.transformer.layer.3.attention.v_lin.bias', 'distilbert.transformer.layer.5.attention.out_lin.bias', 'distilbert.transformer.layer.2.attention.out_lin.weight', 'distilbert.transformer.layer.1.attention.k_lin.weight', 'vocab_projector.weight', 'distilbert.transformer.layer.0.attention.out_lin.bias', 'vocab_layer_norm.weight', 'distilbert.transformer.layer.0.output_layer_norm.bias', 'distilbert.transformer.layer.4.ffn.lin1.weight', 'distilbert.transformer.layer.0.ffn.lin2.bias', 'distilbert.transformer.layer.1.ffn.lin1.bias', 'distilbert.transformer.layer.1.ffn.lin2.weight', 'distilbert.transformer.layer.0.attention.k_lin.weight', 'distilbert.transformer.layer.1.sa_layer_norm.weight', 'distilbert.transformer.layer.3.attention.q_lin.bias', 'distilbert.transformer.layer.2.ffn.lin1.bias', 'distilbert.transformer.layer.3.attention.out_lin.weight', 'distilbert.transformer.layer.3.sa_layer_norm.bias', 'distilbert.transformer.layer.5.sa_layer_norm.bias']\n",
            "- This IS expected if you are initializing BertForSequenceClassification from the checkpoint of a model trained on another task or with another architecture (e.g. initializing a BertForSequenceClassification model from a BertForPreTraining model).\n",
            "- This IS NOT expected if you are initializing BertForSequenceClassification from the checkpoint of a model that you expect to be exactly identical (initializing a BertForSequenceClassification model from a BertForSequenceClassification model).\n",
            "Some weights of BertForSequenceClassification were not initialized from the model checkpoint at distilbert-base-uncased and are newly initialized: ['encoder.layer.11.output.dense.weight', 'encoder.layer.2.attention.output.LayerNorm.bias', 'embeddings.LayerNorm.weight', 'embeddings.position_embeddings.weight', 'encoder.layer.8.intermediate.dense.bias', 'encoder.layer.4.attention.self.value.bias', 'encoder.layer.4.attention.output.LayerNorm.weight', 'encoder.layer.2.output.LayerNorm.bias', 'encoder.layer.0.attention.output.dense.bias', 'encoder.layer.0.attention.output.LayerNorm.weight', 'encoder.layer.1.intermediate.dense.bias', 'encoder.layer.6.attention.output.dense.bias', 'encoder.layer.8.output.dense.weight', 'encoder.layer.9.output.LayerNorm.weight', 'encoder.layer.4.output.dense.weight', 'encoder.layer.1.attention.self.query.weight', 'encoder.layer.3.attention.self.key.weight', 'encoder.layer.10.output.LayerNorm.weight', 'encoder.layer.11.attention.self.query.bias', 'encoder.layer.10.attention.output.LayerNorm.weight', 'encoder.layer.3.output.dense.bias', 'encoder.layer.9.output.dense.weight', 'encoder.layer.3.attention.self.key.bias', 'encoder.layer.5.output.dense.bias', 'encoder.layer.5.attention.output.dense.bias', 'encoder.layer.10.attention.self.query.bias', 'encoder.layer.5.attention.self.query.bias', 'encoder.layer.1.output.LayerNorm.weight', 'encoder.layer.6.attention.output.LayerNorm.bias', 'encoder.layer.1.attention.self.key.bias', 'encoder.layer.3.attention.output.LayerNorm.weight', 'encoder.layer.1.attention.self.key.weight', 'encoder.layer.3.attention.self.value.weight', 'encoder.layer.4.attention.output.dense.weight', 'encoder.layer.7.attention.self.query.bias', 'encoder.layer.7.attention.self.query.weight', 'encoder.layer.7.attention.self.value.weight', 'encoder.layer.8.intermediate.dense.weight', 'encoder.layer.4.attention.self.query.bias', 'encoder.layer.5.attention.self.key.bias', 'encoder.layer.0.attention.self.value.bias', 'encoder.layer.10.attention.self.value.bias', 'encoder.layer.1.attention.output.dense.bias', 'encoder.layer.11.intermediate.dense.weight', 'encoder.layer.2.attention.output.dense.bias', 'encoder.layer.8.attention.output.LayerNorm.bias', 'encoder.layer.5.attention.output.LayerNorm.weight', 'encoder.layer.9.attention.self.query.weight', 'encoder.layer.6.attention.self.value.bias', 'encoder.layer.5.intermediate.dense.bias', 'encoder.layer.8.output.LayerNorm.weight', 'encoder.layer.4.attention.output.dense.bias', 'encoder.layer.6.output.dense.bias', 'encoder.layer.7.output.LayerNorm.bias', 'encoder.layer.4.output.dense.bias', 'encoder.layer.3.attention.output.dense.weight', 'encoder.layer.2.attention.self.query.weight', 'encoder.layer.2.intermediate.dense.bias', 'encoder.layer.8.attention.self.key.weight', 'encoder.layer.10.output.LayerNorm.bias', 'encoder.layer.6.output.LayerNorm.weight', 'encoder.layer.9.attention.output.LayerNorm.bias', 'encoder.layer.0.attention.self.value.weight', 'encoder.layer.8.attention.output.LayerNorm.weight', 'encoder.layer.9.attention.self.value.bias', 'encoder.layer.11.attention.output.LayerNorm.weight', 'encoder.layer.4.attention.self.value.weight', 'encoder.layer.6.attention.output.LayerNorm.weight', 'encoder.layer.8.attention.self.query.bias', 'encoder.layer.1.attention.self.value.weight', 'embeddings.token_type_embeddings.weight', 'encoder.layer.2.output.LayerNorm.weight', 'encoder.layer.1.attention.output.LayerNorm.bias', 'encoder.layer.8.output.dense.bias', 'encoder.layer.6.attention.self.key.bias', 'encoder.layer.2.output.dense.bias', 'encoder.layer.0.output.LayerNorm.weight', 'encoder.layer.7.attention.output.dense.bias', 'encoder.layer.0.attention.self.query.bias', 'encoder.layer.0.attention.output.LayerNorm.bias', 'encoder.layer.1.output.LayerNorm.bias', 'encoder.layer.4.attention.self.key.bias', 'encoder.layer.10.output.dense.weight', 'embeddings.LayerNorm.bias', 'encoder.layer.11.attention.self.key.weight', 'encoder.layer.9.attention.self.value.weight', 'encoder.layer.2.attention.self.value.bias', 'encoder.layer.0.intermediate.dense.weight', 'encoder.layer.11.attention.output.dense.bias', 'encoder.layer.3.attention.output.LayerNorm.bias', 'encoder.layer.10.intermediate.dense.bias', 'encoder.layer.10.attention.self.key.weight', 'encoder.layer.10.attention.output.LayerNorm.bias', 'encoder.layer.1.intermediate.dense.weight', 'encoder.layer.8.attention.self.key.bias', 'classifier.bias', 'encoder.layer.1.output.dense.bias', 'encoder.layer.3.intermediate.dense.bias', 'encoder.layer.5.intermediate.dense.weight', 'encoder.layer.11.attention.self.key.bias', 'embeddings.word_embeddings.weight', 'encoder.layer.3.attention.output.dense.bias', 'pooler.dense.bias', 'encoder.layer.5.attention.self.key.weight', 'encoder.layer.6.output.dense.weight', 'encoder.layer.9.intermediate.dense.weight', 'encoder.layer.8.attention.output.dense.bias', 'encoder.layer.11.intermediate.dense.bias', 'encoder.layer.7.attention.self.key.weight', 'encoder.layer.2.output.dense.weight', 'encoder.layer.7.attention.self.key.bias', 'encoder.layer.10.attention.output.dense.bias', 'encoder.layer.0.output.LayerNorm.bias', 'encoder.layer.2.attention.self.query.bias', 'encoder.layer.7.output.dense.bias', 'encoder.layer.1.attention.self.query.bias', 'encoder.layer.1.attention.output.dense.weight', 'encoder.layer.5.output.dense.weight', 'classifier.weight', 'encoder.layer.3.output.LayerNorm.weight', 'encoder.layer.2.intermediate.dense.weight', 'encoder.layer.9.attention.output.dense.weight', 'encoder.layer.10.attention.self.query.weight', 'encoder.layer.10.intermediate.dense.weight', 'encoder.layer.5.attention.self.query.weight', 'encoder.layer.1.attention.output.LayerNorm.weight', 'encoder.layer.11.attention.self.value.weight', 'encoder.layer.2.attention.self.key.bias', 'encoder.layer.4.attention.output.LayerNorm.bias', 'encoder.layer.6.output.LayerNorm.bias', 'encoder.layer.8.attention.self.value.weight', 'encoder.layer.7.attention.output.dense.weight', 'encoder.layer.4.attention.self.key.weight', 'encoder.layer.3.output.LayerNorm.bias', 'encoder.layer.4.intermediate.dense.weight', 'encoder.layer.8.attention.self.value.bias', 'encoder.layer.5.output.LayerNorm.weight', 'encoder.layer.0.attention.self.query.weight', 'encoder.layer.9.attention.self.key.bias', 'encoder.layer.9.output.LayerNorm.bias', 'encoder.layer.8.output.LayerNorm.bias', 'encoder.layer.4.attention.self.query.weight', 'encoder.layer.9.attention.output.LayerNorm.weight', 'encoder.layer.7.attention.output.LayerNorm.weight', 'encoder.layer.7.intermediate.dense.bias', 'encoder.layer.5.attention.output.LayerNorm.bias', 'encoder.layer.9.attention.self.query.bias', 'encoder.layer.2.attention.self.value.weight', 'encoder.layer.2.attention.output.LayerNorm.weight', 'encoder.layer.4.output.LayerNorm.weight', 'encoder.layer.0.intermediate.dense.bias', 'encoder.layer.7.output.dense.weight', 'encoder.layer.10.attention.output.dense.weight', 'encoder.layer.9.intermediate.dense.bias', 'encoder.layer.10.output.dense.bias', 'encoder.layer.4.intermediate.dense.bias', 'encoder.layer.0.attention.self.key.bias', 'encoder.layer.11.output.LayerNorm.bias', 'encoder.layer.2.attention.self.key.weight', 'encoder.layer.7.attention.self.value.bias', 'encoder.layer.3.intermediate.dense.weight', 'encoder.layer.3.attention.self.value.bias', 'encoder.layer.11.attention.self.query.weight', 'encoder.layer.0.attention.self.key.weight', 'encoder.layer.9.attention.output.dense.bias', 'encoder.layer.6.intermediate.dense.bias', 'encoder.layer.11.output.dense.bias', 'encoder.layer.2.attention.output.dense.weight', 'encoder.layer.11.output.LayerNorm.weight', 'encoder.layer.6.attention.self.value.weight', 'encoder.layer.9.attention.self.key.weight', 'encoder.layer.0.attention.output.dense.weight', 'encoder.layer.6.intermediate.dense.weight', 'encoder.layer.8.attention.output.dense.weight', 'encoder.layer.10.attention.self.value.weight', 'pooler.dense.weight', 'encoder.layer.9.output.dense.bias', 'encoder.layer.5.attention.self.value.weight', 'encoder.layer.4.output.LayerNorm.bias', 'encoder.layer.6.attention.output.dense.weight', 'encoder.layer.11.attention.output.LayerNorm.bias', 'encoder.layer.6.attention.self.key.weight', 'encoder.layer.7.output.LayerNorm.weight', 'encoder.layer.5.attention.self.value.bias', 'encoder.layer.11.attention.output.dense.weight', 'encoder.layer.3.output.dense.weight', 'encoder.layer.0.output.dense.bias', 'encoder.layer.5.attention.output.dense.weight', 'encoder.layer.3.attention.self.query.bias', 'encoder.layer.10.attention.self.key.bias', 'encoder.layer.5.output.LayerNorm.bias', 'encoder.layer.7.intermediate.dense.weight', 'encoder.layer.1.output.dense.weight', 'encoder.layer.8.attention.self.query.weight', 'encoder.layer.6.attention.self.query.weight', 'encoder.layer.0.output.dense.weight', 'encoder.layer.3.attention.self.query.weight', 'encoder.layer.6.attention.self.query.bias', 'encoder.layer.1.attention.self.value.bias', 'encoder.layer.11.attention.self.value.bias', 'encoder.layer.7.attention.output.LayerNorm.bias']\n",
            "You should probably TRAIN this model on a down-stream task to be able to use it for predictions and inference.\n"
          ]
        }
      ]
    },
    {
      "cell_type": "markdown",
      "source": [
        "BERT base es un modelo de 24 capas con parámetros de 330M, y es imposible entrenar sin una configuración potente.\n",
        "\n",
        "Sin embargo, se puede ajustar el modelo para que se familiarice con el conjunto de datos (IMDB) y obtener mejores resultados (esto también se conoce como \"transfer learning\").\n",
        "\n",
        "Se puede hacer \"congelando\" la mayor parte de la red y volviendo a entrenar (ajustar pesos) una pequeña parte de ella.\n",
        "\n",
        "Está comprobado que las primeras capas de las Redes Neuronales capturan características más generales de los datos, y se volverán más específicos a medida que se profundice.\n",
        "\n",
        "Entonces, se va a \"congelar\" todo el modelo BERT."
      ],
      "metadata": {
        "id": "oU3qUPkAEemo"
      }
    },
    {
      "cell_type": "code",
      "source": [
        "# al ejecutar el siguiente código, se está pasando por todos los parámetros y se establece su atributo require_grad en cero.\n",
        "# significa que Huggingface no intentará optimizar estos pesos.\n",
        "# el número total de parámetros entrenables será 2050, que pertenece al classifier head en model.classifier (en lugar de model.bert).\n",
        "# ahora se puede ajustar el modelo.\n",
        "\n",
        "for name, param in model.bert.named_parameters():\n",
        "    param.requires_grad = False"
      ],
      "metadata": {
        "id": "I7Jbk3L4FX_Q"
      },
      "execution_count": null,
      "outputs": []
    },
    {
      "cell_type": "markdown",
      "source": [
        "Definir las métricas"
      ],
      "metadata": {
        "id": "Sk8aAczjGItQ"
      }
    },
    {
      "cell_type": "code",
      "source": [
        "# cargar la métricas que se usarán\n",
        "from sklearn.metrics import accuracy_score, precision_recall_fscore_support\n",
        "\n",
        "# función para calcular las métricas de las predicciones\n",
        "def compute_metrics(pred):\n",
        "    labels = pred.label_ids\n",
        "    preds = pred.predictions.argmax(-1)\n",
        "    precision, recall, f1, _ = precision_recall_fscore_support(labels, preds, average='binary')\n",
        "    acc = accuracy_score(labels, preds)\n",
        "    return {\n",
        "        'accuracy': acc,\n",
        "        'f1': f1,\n",
        "        'precision': precision,\n",
        "        'recall': recall\n",
        "    }"
      ],
      "metadata": {
        "id": "fwAuTv0kGKc5"
      },
      "execution_count": null,
      "outputs": []
    },
    {
      "cell_type": "markdown",
      "source": [
        "### Establecer parámetros de entrenamiento\n",
        "\n",
        "Ver más argumentos para: [*TrainingArguments*](https://huggingface.co/docs/transformers/main_classes/trainer#transformers.TrainingArguments)\n",
        "\n",
        "Argumentos para el [*Trainer*](https://huggingface.co/docs/transformers/main_classes/trainer#transformers.Trainer)"
      ],
      "metadata": {
        "id": "lSbPs7gVGopI"
      }
    },
    {
      "cell_type": "code",
      "source": [
        "from transformers import Trainer, TrainingArguments\n",
        "\n",
        "training_args = TrainingArguments(\n",
        "    output_dir                  = \"./sentiment-analysis\",\n",
        "    num_train_epochs            = 1,\n",
        "    per_device_train_batch_size = 128,\n",
        "    per_device_eval_batch_size  = 64,\n",
        "    warmup_steps                = 500,\n",
        "    weight_decay                = 0.01,\n",
        "    save_strategy               = \"epoch\",\n",
        "    evaluation_strategy         = \"steps\"\n",
        ")\n",
        "\n",
        "trainer = Trainer(\n",
        "    model           = model,\n",
        "    args            = training_args,\n",
        "    train_dataset   = train_set_dataset,\n",
        "    eval_dataset    = valid_set_dataset,\n",
        "    compute_metrics = compute_metrics\n",
        ")\n",
        "\n"
      ],
      "metadata": {
        "id": "49MY-cJiGMNY"
      },
      "execution_count": null,
      "outputs": []
    },
    {
      "cell_type": "markdown",
      "source": [
        "**Nota**: `warmup_steps` es un parámetro que se utiliza para reducir la tasa de aprendizaje a fin de reducir el impacto de desviar el modelo del aprendizaje en la exposición repentina de nuevos conjuntos de datos.\n",
        "\n",
        "> Por ejemplo: Si se establece `warmup_steps` como `500` para una iteración de 10,000 iteraciones, para las primeras 500 iteraciones, el modelo aprenderá el corpus con una tasa de aprendizaje mínima que la tasa que se ha especificado en el modelo. A partir de la iteración 501, el modelo usará la tasa de aprendizaje tal como se da."
      ],
      "metadata": {
        "id": "eeVW9X5MLHkR"
      }
    },
    {
      "cell_type": "markdown",
      "source": [
        "### Entrenar el modelo"
      ],
      "metadata": {
        "id": "DleVPOfFH8TI"
      }
    },
    {
      "cell_type": "code",
      "source": [
        "trainer.train()"
      ],
      "metadata": {
        "colab": {
          "base_uri": "https://localhost:8080/",
          "height": 408
        },
        "id": "P9lEHZooH-EA",
        "outputId": "bb049613-3f7a-42ee-f900-cf5befaa2b15"
      },
      "execution_count": null,
      "outputs": [
        {
          "output_type": "stream",
          "name": "stderr",
          "text": [
            "/usr/local/lib/python3.7/dist-packages/transformers/optimization.py:309: FutureWarning: This implementation of AdamW is deprecated and will be removed in a future version. Use the PyTorch implementation torch.optim.AdamW instead, or set `no_deprecation_warning=True` to disable this warning\n",
            "  FutureWarning,\n",
            "***** Running training *****\n",
            "  Num examples = 3000\n",
            "  Num Epochs = 1\n",
            "  Instantaneous batch size per device = 128\n",
            "  Total train batch size (w. parallel, distributed & accumulation) = 128\n",
            "  Gradient Accumulation steps = 1\n",
            "  Total optimization steps = 24\n"
          ]
        },
        {
          "output_type": "display_data",
          "data": {
            "text/plain": [
              "<IPython.core.display.HTML object>"
            ],
            "text/html": [
              "\n",
              "    <div>\n",
              "      \n",
              "      <progress value='24' max='24' style='width:300px; height:20px; vertical-align: middle;'></progress>\n",
              "      [24/24 1:38:19, Epoch 1/1]\n",
              "    </div>\n",
              "    <table border=\"1\" class=\"dataframe\">\n",
              "  <thead>\n",
              " <tr style=\"text-align: left;\">\n",
              "      <th>Step</th>\n",
              "      <th>Training Loss</th>\n",
              "      <th>Validation Loss</th>\n",
              "    </tr>\n",
              "  </thead>\n",
              "  <tbody>\n",
              "  </tbody>\n",
              "</table><p>"
            ]
          },
          "metadata": {}
        },
        {
          "output_type": "stream",
          "name": "stderr",
          "text": [
            "Saving model checkpoint to ./sentiment-analysis/checkpoint-24\n",
            "Configuration saved in ./sentiment-analysis/checkpoint-24/config.json\n",
            "Model weights saved in ./sentiment-analysis/checkpoint-24/pytorch_model.bin\n",
            "\n",
            "\n",
            "Training completed. Do not forget to share your model on huggingface.co/models =)\n",
            "\n",
            "\n"
          ]
        },
        {
          "output_type": "execute_result",
          "data": {
            "text/plain": [
              "TrainOutput(global_step=24, training_loss=0.717257579167684, metrics={'train_runtime': 6168.0078, 'train_samples_per_second': 0.486, 'train_steps_per_second': 0.004, 'total_flos': 789333166080000.0, 'train_loss': 0.717257579167684, 'epoch': 1.0})"
            ]
          },
          "metadata": {},
          "execution_count": 29
        }
      ]
    },
    {
      "cell_type": "markdown",
      "source": [
        "Usando más datos para el entrenamiento indica que para una época se tardará más de 70 horas\n",
        "\n",
        "<pre>\n",
        "/usr/local/lib/python3.7/dist-packages/transformers/optimization.py:309: FutureWarning: This implementation of AdamW is deprecated and will be removed in a future version. Use the PyTorch implementation torch.optim.AdamW instead, or set `no_deprecation_warning=True` to disable this warning\n",
        "  FutureWarning,\n",
        "***** Running training *****\n",
        "  Num examples = 40000\n",
        "  Num Epochs = 1\n",
        "  Instantaneous batch size per device = 128\n",
        "  Total train batch size (w. parallel, distributed & accumulation) = 128\n",
        "  Gradient Accumulation steps = 1\n",
        "  Total optimization steps = 313\n",
        " [ 3/313 13:40 < 70:39:00, 0.00 it/s, Epoch 0.01/1]\n",
        "Step\tTraining Loss\tValidation Loss\n",
        "</pre>"
      ],
      "metadata": {
        "id": "TkzkgqINQqAA"
      }
    },
    {
      "cell_type": "markdown",
      "source": [
        "### Realizar predicciones con el modelo entrenado\n",
        "\n",
        "Usar el modelo `./sentiment-analysis` para realizar predicciones con el conjunto de prueba\n",
        "\n"
      ],
      "metadata": {
        "id": "ZGM8DuE5Mlgh"
      }
    },
    {
      "cell_type": "code",
      "source": [
        "# Load the checkpoint\n",
        "model = BertForSequenceClassification.from_pretrained(\"./sentiment-analysis/checkpoint-24\")\n",
        "\n",
        "# Make the test set ready\n",
        "test_set_dataset = MakeDataset(\n",
        "    reviews    = test_set.review.tolist(),\n",
        "    sentiments = test_set.sentiment.tolist(),\n",
        "    tokenizer  = tokenizer,\n",
        ")\n",
        "\n",
        "training_args = TrainingArguments(\n",
        "    output_dir = \"./sentiment-analysis\",\n",
        "    do_predict = True\n",
        ")\n",
        "\n",
        "trainer = Trainer(\n",
        "    model           = model,\n",
        "    args            = training_args,\n",
        "    compute_metrics = compute_metrics,\n",
        ")"
      ],
      "metadata": {
        "id": "hlsmenugMt05",
        "colab": {
          "base_uri": "https://localhost:8080/"
        },
        "outputId": "9b977a48-be76-437a-d8ba-c6cf772d7309"
      },
      "execution_count": null,
      "outputs": [
        {
          "output_type": "stream",
          "name": "stderr",
          "text": [
            "loading configuration file ./sentiment-analysis/checkpoint-24/config.json\n",
            "Model config BertConfig {\n",
            "  \"_name_or_path\": \"distilbert-base-uncased\",\n",
            "  \"activation\": \"gelu\",\n",
            "  \"architectures\": [\n",
            "    \"BertForSequenceClassification\"\n",
            "  ],\n",
            "  \"attention_dropout\": 0.1,\n",
            "  \"attention_probs_dropout_prob\": 0.1,\n",
            "  \"classifier_dropout\": null,\n",
            "  \"dim\": 768,\n",
            "  \"dropout\": 0.1,\n",
            "  \"hidden_act\": \"gelu\",\n",
            "  \"hidden_dim\": 3072,\n",
            "  \"hidden_dropout_prob\": 0.1,\n",
            "  \"hidden_size\": 768,\n",
            "  \"initializer_range\": 0.02,\n",
            "  \"intermediate_size\": 3072,\n",
            "  \"layer_norm_eps\": 1e-12,\n",
            "  \"max_position_embeddings\": 512,\n",
            "  \"model_type\": \"bert\",\n",
            "  \"n_heads\": 12,\n",
            "  \"n_layers\": 6,\n",
            "  \"num_attention_heads\": 12,\n",
            "  \"num_hidden_layers\": 12,\n",
            "  \"pad_token_id\": 0,\n",
            "  \"position_embedding_type\": \"absolute\",\n",
            "  \"problem_type\": \"single_label_classification\",\n",
            "  \"qa_dropout\": 0.1,\n",
            "  \"seq_classif_dropout\": 0.2,\n",
            "  \"sinusoidal_pos_embds\": false,\n",
            "  \"tie_weights_\": true,\n",
            "  \"torch_dtype\": \"float32\",\n",
            "  \"transformers_version\": \"4.18.0\",\n",
            "  \"type_vocab_size\": 2,\n",
            "  \"use_cache\": true,\n",
            "  \"vocab_size\": 30522\n",
            "}\n",
            "\n",
            "loading weights file ./sentiment-analysis/checkpoint-24/pytorch_model.bin\n",
            "All model checkpoint weights were used when initializing BertForSequenceClassification.\n",
            "\n",
            "All the weights of BertForSequenceClassification were initialized from the model checkpoint at ./sentiment-analysis/checkpoint-24.\n",
            "If your task is similar to the task the model of the checkpoint was trained on, you can already use BertForSequenceClassification for predictions without further training.\n",
            "PyTorch: setting up devices\n",
            "The default value for the training argument `--report_to` will change in v5 (from all installed integrations to none). In v5, you will need to use `--report_to all` to get the same behavior as now. You should start updating your code and make this info disappear :-).\n"
          ]
        }
      ]
    },
    {
      "cell_type": "code",
      "source": [
        "# realizar predicciones\n",
        "trainer.predict(test_set_dataset)"
      ],
      "metadata": {
        "id": "pT7W1aBoNO-I",
        "colab": {
          "base_uri": "https://localhost:8080/",
          "height": 1000
        },
        "outputId": "21a9c832-5d0e-4a98-f61e-71931c686f3e"
      },
      "execution_count": null,
      "outputs": [
        {
          "output_type": "stream",
          "name": "stderr",
          "text": [
            "***** Running Prediction *****\n",
            "  Num examples = 500\n",
            "  Batch size = 8\n"
          ]
        },
        {
          "output_type": "display_data",
          "data": {
            "text/plain": [
              "<IPython.core.display.HTML object>"
            ],
            "text/html": [
              "\n",
              "    <div>\n",
              "      \n",
              "      <progress value='63' max='63' style='width:300px; height:20px; vertical-align: middle;'></progress>\n",
              "      [63/63 15:37]\n",
              "    </div>\n",
              "    "
            ]
          },
          "metadata": {}
        },
        {
          "output_type": "stream",
          "name": "stderr",
          "text": [
            "/usr/local/lib/python3.7/dist-packages/sklearn/metrics/_classification.py:1318: UndefinedMetricWarning: Precision and F-score are ill-defined and being set to 0.0 due to no predicted samples. Use `zero_division` parameter to control this behavior.\n",
            "  _warn_prf(average, modifier, msg_start, len(result))\n"
          ]
        },
        {
          "output_type": "execute_result",
          "data": {
            "text/plain": [
              "PredictionOutput(predictions=array([[ 0.31534225, -0.10948512],\n",
              "       [ 0.31714407, -0.10539518],\n",
              "       [ 0.3087808 , -0.11946414],\n",
              "       [ 0.2976524 , -0.11329684],\n",
              "       [ 0.32746357, -0.12212855],\n",
              "       [ 0.30493653, -0.09713016],\n",
              "       [ 0.30259866, -0.10008731],\n",
              "       [ 0.3211698 , -0.08967583],\n",
              "       [ 0.31894755, -0.09506567],\n",
              "       [ 0.3370774 , -0.08707042],\n",
              "       [ 0.28859133, -0.16389453],\n",
              "       [ 0.30298817, -0.11294822],\n",
              "       [ 0.28423083, -0.14634103],\n",
              "       [ 0.32116887, -0.13125834],\n",
              "       [ 0.3512805 , -0.13482484],\n",
              "       [ 0.32687694, -0.12210299],\n",
              "       [ 0.30739212, -0.1184788 ],\n",
              "       [ 0.29247338, -0.10481302],\n",
              "       [ 0.3089947 , -0.14538959],\n",
              "       [ 0.35277116, -0.1483289 ],\n",
              "       [ 0.31475252, -0.11574602],\n",
              "       [ 0.31318685, -0.10684155],\n",
              "       [ 0.29024386, -0.10293971],\n",
              "       [ 0.3085937 , -0.10930717],\n",
              "       [ 0.3104079 , -0.10916984],\n",
              "       [ 0.31009775, -0.11978029],\n",
              "       [ 0.3132254 , -0.10674673],\n",
              "       [ 0.30350003, -0.1067536 ],\n",
              "       [ 0.2983756 , -0.10209003],\n",
              "       [ 0.33300176, -0.138459  ],\n",
              "       [ 0.3044021 , -0.13325895],\n",
              "       [ 0.29753247, -0.08839912],\n",
              "       [ 0.31417736, -0.10959191],\n",
              "       [ 0.29633933, -0.11480057],\n",
              "       [ 0.30461296, -0.12010663],\n",
              "       [ 0.30385986, -0.11687146],\n",
              "       [ 0.3227314 , -0.12005107],\n",
              "       [ 0.31681544, -0.11780554],\n",
              "       [ 0.32418403, -0.11209399],\n",
              "       [ 0.3003094 , -0.10593376],\n",
              "       [ 0.31749746, -0.1297636 ],\n",
              "       [ 0.32019642, -0.12770656],\n",
              "       [ 0.33235255, -0.13297711],\n",
              "       [ 0.30718473, -0.12863314],\n",
              "       [ 0.30172622, -0.1259714 ],\n",
              "       [ 0.3122545 , -0.11771015],\n",
              "       [ 0.31810278, -0.08210269],\n",
              "       [ 0.30815494, -0.13103968],\n",
              "       [ 0.28568882, -0.113524  ],\n",
              "       [ 0.31654304, -0.09708948],\n",
              "       [ 0.28934732, -0.12216032],\n",
              "       [ 0.2992856 , -0.11602417],\n",
              "       [ 0.3001422 , -0.12049179],\n",
              "       [ 0.3117514 , -0.11277955],\n",
              "       [ 0.31248212, -0.1197653 ],\n",
              "       [ 0.28934947, -0.09120055],\n",
              "       [ 0.33314484, -0.10926677],\n",
              "       [ 0.3062754 , -0.13658822],\n",
              "       [ 0.31009322, -0.11677267],\n",
              "       [ 0.29490638, -0.08977018],\n",
              "       [ 0.31986907, -0.11210724],\n",
              "       [ 0.31505978, -0.11061506],\n",
              "       [ 0.3247978 , -0.11644819],\n",
              "       [ 0.3497365 , -0.11729912],\n",
              "       [ 0.3103751 , -0.09614506],\n",
              "       [ 0.2641848 , -0.14633325],\n",
              "       [ 0.31821638, -0.08886664],\n",
              "       [ 0.3337511 , -0.1075256 ],\n",
              "       [ 0.31983677, -0.11177891],\n",
              "       [ 0.294765  , -0.12221718],\n",
              "       [ 0.3200534 , -0.10205973],\n",
              "       [ 0.3008507 , -0.14163172],\n",
              "       [ 0.3205896 , -0.1244323 ],\n",
              "       [ 0.3151486 , -0.10792471],\n",
              "       [ 0.30304188, -0.12541959],\n",
              "       [ 0.3116739 , -0.09336571],\n",
              "       [ 0.32930955, -0.12488415],\n",
              "       [ 0.33131647, -0.10317869],\n",
              "       [ 0.3281904 , -0.10157586],\n",
              "       [ 0.29339236, -0.13009134],\n",
              "       [ 0.30660012, -0.10174944],\n",
              "       [ 0.301798  , -0.12889019],\n",
              "       [ 0.3113775 , -0.09516317],\n",
              "       [ 0.2990643 , -0.12138753],\n",
              "       [ 0.31417274, -0.11826594],\n",
              "       [ 0.28308773, -0.13443565],\n",
              "       [ 0.31728768, -0.14144954],\n",
              "       [ 0.30413455, -0.09899639],\n",
              "       [ 0.29432994, -0.13157722],\n",
              "       [ 0.32139853, -0.12777749],\n",
              "       [ 0.3109997 , -0.10216703],\n",
              "       [ 0.31967008, -0.11797296],\n",
              "       [ 0.3191041 , -0.10944688],\n",
              "       [ 0.31880474, -0.10829425],\n",
              "       [ 0.31547913, -0.14848971],\n",
              "       [ 0.30170572, -0.1365119 ],\n",
              "       [ 0.30366513, -0.1445595 ],\n",
              "       [ 0.32465202, -0.11299068],\n",
              "       [ 0.33095735, -0.11490409],\n",
              "       [ 0.29037526, -0.12264799],\n",
              "       [ 0.31915224, -0.10988435],\n",
              "       [ 0.30242717, -0.11127623],\n",
              "       [ 0.31157514, -0.14797758],\n",
              "       [ 0.29479438, -0.10012336],\n",
              "       [ 0.31853122, -0.10283729],\n",
              "       [ 0.29534322, -0.12948962],\n",
              "       [ 0.31818753, -0.12740597],\n",
              "       [ 0.3173929 , -0.10685056],\n",
              "       [ 0.31592667, -0.10971677],\n",
              "       [ 0.31546983, -0.12841077],\n",
              "       [ 0.30366316, -0.18964663],\n",
              "       [ 0.3330832 , -0.10445896],\n",
              "       [ 0.33942896, -0.11312822],\n",
              "       [ 0.28347874, -0.14859702],\n",
              "       [ 0.3276214 , -0.13955954],\n",
              "       [ 0.31050658, -0.11242068],\n",
              "       [ 0.31847462, -0.14334936],\n",
              "       [ 0.32328975, -0.11251432],\n",
              "       [ 0.2988384 , -0.12512563],\n",
              "       [ 0.31013042, -0.09643944],\n",
              "       [ 0.3070618 , -0.0937434 ],\n",
              "       [ 0.29751724, -0.12665135],\n",
              "       [ 0.32598963, -0.13074188],\n",
              "       [ 0.30422747, -0.11065695],\n",
              "       [ 0.318266  , -0.13898005],\n",
              "       [ 0.3129692 , -0.10333861],\n",
              "       [ 0.34722784, -0.10199603],\n",
              "       [ 0.30951047, -0.11619894],\n",
              "       [ 0.30932447, -0.12137529],\n",
              "       [ 0.32350966, -0.13373841],\n",
              "       [ 0.31722242, -0.10031921],\n",
              "       [ 0.32123214, -0.10373858],\n",
              "       [ 0.32563597, -0.11233985],\n",
              "       [ 0.31065178, -0.13908872],\n",
              "       [ 0.307355  , -0.09858649],\n",
              "       [ 0.30876422, -0.09185392],\n",
              "       [ 0.33637255, -0.11600715],\n",
              "       [ 0.30622417, -0.10002007],\n",
              "       [ 0.30331767, -0.10538   ],\n",
              "       [ 0.3165747 , -0.10324945],\n",
              "       [ 0.2935552 , -0.11345869],\n",
              "       [ 0.32430637, -0.14022261],\n",
              "       [ 0.32389143, -0.0949679 ],\n",
              "       [ 0.29488185, -0.10488292],\n",
              "       [ 0.33636248, -0.14028096],\n",
              "       [ 0.31007043, -0.11391877],\n",
              "       [ 0.3049701 , -0.10552265],\n",
              "       [ 0.35495389, -0.11392035],\n",
              "       [ 0.30208802, -0.12241246],\n",
              "       [ 0.29993474, -0.1446847 ],\n",
              "       [ 0.30077377, -0.10641888],\n",
              "       [ 0.3189934 , -0.11398414],\n",
              "       [ 0.30772567, -0.12187122],\n",
              "       [ 0.28939325, -0.11017519],\n",
              "       [ 0.3159518 , -0.1125047 ],\n",
              "       [ 0.32758394, -0.10770112],\n",
              "       [ 0.31146213, -0.12906866],\n",
              "       [ 0.31173366, -0.11722182],\n",
              "       [ 0.31602174, -0.10004007],\n",
              "       [ 0.3239327 , -0.13561925],\n",
              "       [ 0.31687662, -0.10775329],\n",
              "       [ 0.3223655 , -0.11690509],\n",
              "       [ 0.2972291 , -0.11031619],\n",
              "       [ 0.31234437, -0.11917622],\n",
              "       [ 0.28557554, -0.10789952],\n",
              "       [ 0.31565928, -0.14807521],\n",
              "       [ 0.31389567, -0.10898329],\n",
              "       [ 0.30509776, -0.11029197],\n",
              "       [ 0.3039849 , -0.13133202],\n",
              "       [ 0.3168747 , -0.10943147],\n",
              "       [ 0.30926806, -0.10720457],\n",
              "       [ 0.3045686 , -0.13163775],\n",
              "       [ 0.30953717, -0.0971029 ],\n",
              "       [ 0.2943607 , -0.1266001 ],\n",
              "       [ 0.32272202, -0.10220166],\n",
              "       [ 0.3117187 , -0.09056039],\n",
              "       [ 0.28763038, -0.1161568 ],\n",
              "       [ 0.32710597, -0.11930307],\n",
              "       [ 0.32471666, -0.10437296],\n",
              "       [ 0.3231596 , -0.16374913],\n",
              "       [ 0.32131767, -0.10572187],\n",
              "       [ 0.30145383, -0.12263831],\n",
              "       [ 0.3330921 , -0.11678146],\n",
              "       [ 0.32126623, -0.13343057],\n",
              "       [ 0.2994629 , -0.13037242],\n",
              "       [ 0.29585966, -0.12954523],\n",
              "       [ 0.30790538, -0.10515587],\n",
              "       [ 0.31410852, -0.10347824],\n",
              "       [ 0.31018326, -0.13669339],\n",
              "       [ 0.32307333, -0.11536436],\n",
              "       [ 0.28403506, -0.13397422],\n",
              "       [ 0.30138755, -0.135434  ],\n",
              "       [ 0.32356775, -0.11582412],\n",
              "       [ 0.33845708, -0.13020635],\n",
              "       [ 0.31736457, -0.09663713],\n",
              "       [ 0.31972295, -0.12664917],\n",
              "       [ 0.29572517, -0.08831824],\n",
              "       [ 0.29497474, -0.10700738],\n",
              "       [ 0.31438747, -0.12387476],\n",
              "       [ 0.3221385 , -0.09760384],\n",
              "       [ 0.32029486, -0.1168464 ],\n",
              "       [ 0.33365056, -0.1403819 ],\n",
              "       [ 0.29670575, -0.10881917],\n",
              "       [ 0.2896757 , -0.12965265],\n",
              "       [ 0.33059633, -0.12825117],\n",
              "       [ 0.30706787, -0.11129993],\n",
              "       [ 0.3094597 , -0.12003283],\n",
              "       [ 0.30844787, -0.09759073],\n",
              "       [ 0.3539504 , -0.13494998],\n",
              "       [ 0.30424836, -0.13464701],\n",
              "       [ 0.31407773, -0.09564151],\n",
              "       [ 0.31964546, -0.12196282],\n",
              "       [ 0.3022762 , -0.17070964],\n",
              "       [ 0.2981302 , -0.08966896],\n",
              "       [ 0.31487614, -0.11111031],\n",
              "       [ 0.31701252, -0.11403216],\n",
              "       [ 0.3144516 , -0.11491612],\n",
              "       [ 0.26371562, -0.13883895],\n",
              "       [ 0.29403543, -0.12752144],\n",
              "       [ 0.3117492 , -0.12121055],\n",
              "       [ 0.32349554, -0.11751583],\n",
              "       [ 0.30991328, -0.10511519],\n",
              "       [ 0.30393702, -0.10202985],\n",
              "       [ 0.31036395, -0.13075873],\n",
              "       [ 0.29844278, -0.09632967],\n",
              "       [ 0.31999713, -0.14052233],\n",
              "       [ 0.30846784, -0.13108617],\n",
              "       [ 0.3367091 , -0.10555646],\n",
              "       [ 0.3172488 , -0.13612194],\n",
              "       [ 0.30725533, -0.10765708],\n",
              "       [ 0.31734484, -0.09855813],\n",
              "       [ 0.31841576, -0.10462928],\n",
              "       [ 0.32334986, -0.14616415],\n",
              "       [ 0.31346476, -0.10636345],\n",
              "       [ 0.30568755, -0.11767072],\n",
              "       [ 0.3082483 , -0.11135332],\n",
              "       [ 0.33817005, -0.10991324],\n",
              "       [ 0.29741365, -0.12249403],\n",
              "       [ 0.31530687, -0.12335262],\n",
              "       [ 0.2994006 , -0.11807086],\n",
              "       [ 0.33223456, -0.10902728],\n",
              "       [ 0.32689244, -0.10175175],\n",
              "       [ 0.3061224 , -0.10499617],\n",
              "       [ 0.31265408, -0.11428016],\n",
              "       [ 0.28892636, -0.09997868],\n",
              "       [ 0.33679587, -0.11893281],\n",
              "       [ 0.31815475, -0.11009519],\n",
              "       [ 0.322837  , -0.11085086],\n",
              "       [ 0.29555702, -0.11812061],\n",
              "       [ 0.33266953, -0.11757885],\n",
              "       [ 0.33006576, -0.11499718],\n",
              "       [ 0.32140556, -0.12221152],\n",
              "       [ 0.3083646 , -0.10749093],\n",
              "       [ 0.27214897, -0.11112948],\n",
              "       [ 0.308582  , -0.12285499],\n",
              "       [ 0.30892187, -0.12349077],\n",
              "       [ 0.30481267, -0.10807596],\n",
              "       [ 0.30649382, -0.11700733],\n",
              "       [ 0.28786045, -0.1360811 ],\n",
              "       [ 0.28452015, -0.09239867],\n",
              "       [ 0.29646993, -0.11566265],\n",
              "       [ 0.33410352, -0.17090768],\n",
              "       [ 0.3117525 , -0.1000518 ],\n",
              "       [ 0.28360075, -0.11030634],\n",
              "       [ 0.32168636, -0.1270464 ],\n",
              "       [ 0.31355098, -0.13256016],\n",
              "       [ 0.30781305, -0.11633582],\n",
              "       [ 0.31612295, -0.11024797],\n",
              "       [ 0.30533412, -0.11894405],\n",
              "       [ 0.31074315, -0.12721197],\n",
              "       [ 0.31907558, -0.12039758],\n",
              "       [ 0.29566628, -0.11952268],\n",
              "       [ 0.33854473, -0.10991253],\n",
              "       [ 0.3164838 , -0.1305922 ],\n",
              "       [ 0.3037686 , -0.11151926],\n",
              "       [ 0.3265249 , -0.10398391],\n",
              "       [ 0.31935114, -0.09278578],\n",
              "       [ 0.30523401, -0.11258031],\n",
              "       [ 0.32504645, -0.10397431],\n",
              "       [ 0.304286  , -0.11086218],\n",
              "       [ 0.3350056 , -0.10481281],\n",
              "       [ 0.31561077, -0.11372674],\n",
              "       [ 0.3159977 , -0.11010297],\n",
              "       [ 0.30323094, -0.14548726],\n",
              "       [ 0.34023726, -0.13595656],\n",
              "       [ 0.30019027, -0.1226263 ],\n",
              "       [ 0.31751886, -0.12220189],\n",
              "       [ 0.2968309 , -0.10477575],\n",
              "       [ 0.3125133 , -0.10057138],\n",
              "       [ 0.29937184, -0.11845887],\n",
              "       [ 0.31999218, -0.12707199],\n",
              "       [ 0.28964537, -0.11871907],\n",
              "       [ 0.32500723, -0.09762508],\n",
              "       [ 0.32664138, -0.11091564],\n",
              "       [ 0.31870466, -0.10653073],\n",
              "       [ 0.31163105, -0.10615016],\n",
              "       [ 0.276828  , -0.16032487],\n",
              "       [ 0.31173766, -0.08961017],\n",
              "       [ 0.31250015, -0.12148172],\n",
              "       [ 0.31806582, -0.10988443],\n",
              "       [ 0.33028993, -0.1315007 ],\n",
              "       [ 0.30684298, -0.11097217],\n",
              "       [ 0.32410473, -0.11518911],\n",
              "       [ 0.3088661 , -0.12840301],\n",
              "       [ 0.31484455, -0.09284872],\n",
              "       [ 0.30804825, -0.09848092],\n",
              "       [ 0.30665088, -0.11503008],\n",
              "       [ 0.31036812, -0.11386722],\n",
              "       [ 0.29994363, -0.14567049],\n",
              "       [ 0.31359267, -0.10250991],\n",
              "       [ 0.30294678, -0.10821792],\n",
              "       [ 0.29585728, -0.12459771],\n",
              "       [ 0.29899895, -0.11176647],\n",
              "       [ 0.30408555, -0.10451621],\n",
              "       [ 0.31298417, -0.11253771],\n",
              "       [ 0.30773044, -0.11262363],\n",
              "       [ 0.30167258, -0.11843935],\n",
              "       [ 0.31743628, -0.10670567],\n",
              "       [ 0.28608647, -0.13075708],\n",
              "       [ 0.33646446, -0.12419689],\n",
              "       [ 0.31458366, -0.12476926],\n",
              "       [ 0.30613697, -0.11122712],\n",
              "       [ 0.29090688, -0.08881547],\n",
              "       [ 0.32494152, -0.14004652],\n",
              "       [ 0.3006323 , -0.11496535],\n",
              "       [ 0.31045806, -0.13634202],\n",
              "       [ 0.31827408, -0.12172753],\n",
              "       [ 0.30378592, -0.10264248],\n",
              "       [ 0.31141898, -0.12674956],\n",
              "       [ 0.31419185, -0.11434136],\n",
              "       [ 0.30100736, -0.1444688 ],\n",
              "       [ 0.32863522, -0.125984  ],\n",
              "       [ 0.28047478, -0.11114556],\n",
              "       [ 0.2921527 , -0.15814485],\n",
              "       [ 0.3317708 , -0.11968638],\n",
              "       [ 0.30662537, -0.11029997],\n",
              "       [ 0.32083598, -0.1041168 ],\n",
              "       [ 0.3127368 , -0.11224774],\n",
              "       [ 0.29005444, -0.11066408],\n",
              "       [ 0.31727278, -0.11577667],\n",
              "       [ 0.3202078 , -0.1230074 ],\n",
              "       [ 0.31893584, -0.10694785],\n",
              "       [ 0.29546088, -0.11451961],\n",
              "       [ 0.28615832, -0.11786479],\n",
              "       [ 0.32934442, -0.10097651],\n",
              "       [ 0.32992107, -0.12424349],\n",
              "       [ 0.3535938 , -0.12592661],\n",
              "       [ 0.28339016, -0.09779648],\n",
              "       [ 0.31227446, -0.1218892 ],\n",
              "       [ 0.3348989 , -0.10911225],\n",
              "       [ 0.3204489 , -0.15108301],\n",
              "       [ 0.32032233, -0.1077698 ],\n",
              "       [ 0.3164053 , -0.10021369],\n",
              "       [ 0.2936118 , -0.11842556],\n",
              "       [ 0.30433697, -0.10741871],\n",
              "       [ 0.30999374, -0.12028858],\n",
              "       [ 0.31798613, -0.09593609],\n",
              "       [ 0.31478608, -0.11135239],\n",
              "       [ 0.3549096 , -0.14120626],\n",
              "       [ 0.28572983, -0.10853101],\n",
              "       [ 0.2873729 , -0.1107749 ],\n",
              "       [ 0.31958   , -0.1461434 ],\n",
              "       [ 0.32136568, -0.16536169],\n",
              "       [ 0.3145227 , -0.11461356],\n",
              "       [ 0.36231184, -0.10075967],\n",
              "       [ 0.30719078, -0.11030655],\n",
              "       [ 0.31709093, -0.09259512],\n",
              "       [ 0.29625282, -0.14001466],\n",
              "       [ 0.31802958, -0.10524972],\n",
              "       [ 0.31940967, -0.09753719],\n",
              "       [ 0.3114593 , -0.10356541],\n",
              "       [ 0.30015686, -0.11290681],\n",
              "       [ 0.3294861 , -0.11941957],\n",
              "       [ 0.3060723 , -0.13581476],\n",
              "       [ 0.33114773, -0.11304344],\n",
              "       [ 0.32089576, -0.10764514],\n",
              "       [ 0.3210429 , -0.10811815],\n",
              "       [ 0.3100254 , -0.11145161],\n",
              "       [ 0.30672377, -0.11542587],\n",
              "       [ 0.30822933, -0.12756796],\n",
              "       [ 0.31774068, -0.11911198],\n",
              "       [ 0.33250538, -0.10169239],\n",
              "       [ 0.3077767 , -0.10781477],\n",
              "       [ 0.32310072, -0.1055577 ],\n",
              "       [ 0.3309871 , -0.11945951],\n",
              "       [ 0.30405557, -0.1283371 ],\n",
              "       [ 0.31976175, -0.10436507],\n",
              "       [ 0.32975486, -0.11304818],\n",
              "       [ 0.2773711 , -0.09935085],\n",
              "       [ 0.30935067, -0.10820459],\n",
              "       [ 0.316092  , -0.10555898],\n",
              "       [ 0.31749216, -0.11646524],\n",
              "       [ 0.350366  , -0.18862182],\n",
              "       [ 0.3091128 , -0.11808562],\n",
              "       [ 0.2855206 , -0.1123119 ],\n",
              "       [ 0.32298118, -0.18395369],\n",
              "       [ 0.31994253, -0.11109316],\n",
              "       [ 0.30831355, -0.12304498],\n",
              "       [ 0.29793632, -0.10165177],\n",
              "       [ 0.30882826, -0.12271658],\n",
              "       [ 0.3019452 , -0.11399054],\n",
              "       [ 0.29500636, -0.1096662 ],\n",
              "       [ 0.31582308, -0.12720054],\n",
              "       [ 0.30478078, -0.10023831],\n",
              "       [ 0.3199885 , -0.10482395],\n",
              "       [ 0.31214404, -0.12541018],\n",
              "       [ 0.30701143, -0.13541682],\n",
              "       [ 0.31411886, -0.08966546],\n",
              "       [ 0.30353922, -0.12301913],\n",
              "       [ 0.31937152, -0.09577258],\n",
              "       [ 0.31391785, -0.1293002 ],\n",
              "       [ 0.3124678 , -0.14821489],\n",
              "       [ 0.3213249 , -0.11899669],\n",
              "       [ 0.31403887, -0.11060046],\n",
              "       [ 0.31947026, -0.0995224 ],\n",
              "       [ 0.32502246, -0.10169904],\n",
              "       [ 0.3294797 , -0.12509869],\n",
              "       [ 0.29451838, -0.10437413],\n",
              "       [ 0.29242963, -0.1187429 ],\n",
              "       [ 0.3403003 , -0.12378141],\n",
              "       [ 0.33227497, -0.10882449],\n",
              "       [ 0.33927703, -0.1306874 ],\n",
              "       [ 0.30068356, -0.09441809],\n",
              "       [ 0.28320852, -0.1356158 ],\n",
              "       [ 0.31743234, -0.11865927],\n",
              "       [ 0.32088834, -0.11868742],\n",
              "       [ 0.2915837 , -0.11744282],\n",
              "       [ 0.31686985, -0.12805797],\n",
              "       [ 0.2860355 , -0.0986719 ],\n",
              "       [ 0.30664104, -0.0960388 ],\n",
              "       [ 0.33939773, -0.12082677],\n",
              "       [ 0.26823044, -0.10602551],\n",
              "       [ 0.33824933, -0.12898016],\n",
              "       [ 0.26834577, -0.15264523],\n",
              "       [ 0.29273388, -0.10838082],\n",
              "       [ 0.3127258 , -0.11781751],\n",
              "       [ 0.30767554, -0.11410905],\n",
              "       [ 0.28978443, -0.1352665 ],\n",
              "       [ 0.32838356, -0.1039412 ],\n",
              "       [ 0.31784463, -0.12713149],\n",
              "       [ 0.3027193 , -0.1138265 ],\n",
              "       [ 0.29554   , -0.10546771],\n",
              "       [ 0.2973563 , -0.10633557],\n",
              "       [ 0.29565388, -0.12066831],\n",
              "       [ 0.3114964 , -0.1220802 ],\n",
              "       [ 0.307508  , -0.13800694],\n",
              "       [ 0.34075063, -0.1243374 ],\n",
              "       [ 0.30806684, -0.11601576],\n",
              "       [ 0.31144002, -0.10274616],\n",
              "       [ 0.29482394, -0.12592094],\n",
              "       [ 0.3084857 , -0.12638244],\n",
              "       [ 0.31020582, -0.10671774],\n",
              "       [ 0.29453942, -0.10762611],\n",
              "       [ 0.3169008 , -0.10749876],\n",
              "       [ 0.2993825 , -0.11887951],\n",
              "       [ 0.32855362, -0.14331323],\n",
              "       [ 0.32734412, -0.10615033],\n",
              "       [ 0.31556907, -0.11150965],\n",
              "       [ 0.3217109 , -0.10648137],\n",
              "       [ 0.30888233, -0.1152426 ],\n",
              "       [ 0.33929434, -0.11871963],\n",
              "       [ 0.30625308, -0.12485955],\n",
              "       [ 0.30046898, -0.13097677],\n",
              "       [ 0.3167442 , -0.11796644],\n",
              "       [ 0.3609507 , -0.14588045],\n",
              "       [ 0.3223932 , -0.14851743],\n",
              "       [ 0.3033496 , -0.12854172],\n",
              "       [ 0.39838624, -0.14539272],\n",
              "       [ 0.2925771 , -0.1137608 ],\n",
              "       [ 0.29921246, -0.09695715],\n",
              "       [ 0.31871122, -0.08799563],\n",
              "       [ 0.31871426, -0.11987747],\n",
              "       [ 0.3626358 , -0.11195898],\n",
              "       [ 0.3481186 , -0.1505777 ],\n",
              "       [ 0.29758093, -0.10374583],\n",
              "       [ 0.31374404, -0.12208129],\n",
              "       [ 0.30791247, -0.10804778],\n",
              "       [ 0.30555376, -0.1183299 ],\n",
              "       [ 0.33166358, -0.12571771],\n",
              "       [ 0.3358631 , -0.10431848],\n",
              "       [ 0.3038137 , -0.14657193],\n",
              "       [ 0.33641422, -0.10290582],\n",
              "       [ 0.31506553, -0.12959078],\n",
              "       [ 0.29507986, -0.13012393],\n",
              "       [ 0.31997135, -0.11778536],\n",
              "       [ 0.31437027, -0.11113159],\n",
              "       [ 0.2929556 , -0.11751793],\n",
              "       [ 0.30972555, -0.14534152],\n",
              "       [ 0.29804647, -0.13476568],\n",
              "       [ 0.2983479 , -0.15213217],\n",
              "       [ 0.29286024, -0.15850937],\n",
              "       [ 0.3130273 , -0.11678879],\n",
              "       [ 0.31089163, -0.12902792],\n",
              "       [ 0.30994263, -0.1173946 ],\n",
              "       [ 0.32278734, -0.09767687],\n",
              "       [ 0.30829316, -0.11385706],\n",
              "       [ 0.3089068 , -0.10851447],\n",
              "       [ 0.3259747 , -0.16068305],\n",
              "       [ 0.31196076, -0.11902134],\n",
              "       [ 0.3217244 , -0.11944267]], dtype=float32), label_ids=array([0, 1, 0, 1, 1, 0, 1, 1, 0, 1, 0, 0, 1, 1, 0, 1, 1, 1, 1, 1, 1, 0,\n",
              "       0, 0, 0, 0, 0, 0, 0, 0, 1, 0, 0, 1, 1, 1, 1, 0, 0, 0, 1, 1, 1, 0,\n",
              "       0, 0, 1, 1, 0, 1, 1, 0, 0, 0, 0, 0, 1, 1, 1, 1, 1, 1, 0, 1, 0, 0,\n",
              "       0, 0, 1, 0, 0, 0, 0, 1, 1, 0, 0, 1, 0, 1, 0, 0, 0, 1, 1, 1, 1, 0,\n",
              "       1, 1, 0, 1, 0, 1, 0, 0, 1, 1, 0, 0, 0, 0, 0, 0, 1, 1, 1, 1, 0, 1,\n",
              "       1, 1, 0, 1, 1, 1, 0, 0, 1, 1, 0, 0, 0, 1, 1, 0, 0, 0, 1, 1, 0, 0,\n",
              "       1, 0, 0, 1, 1, 1, 0, 0, 1, 1, 0, 0, 1, 0, 0, 1, 1, 0, 0, 0, 0, 1,\n",
              "       1, 1, 0, 1, 0, 1, 0, 1, 0, 1, 1, 0, 0, 1, 1, 1, 1, 0, 0, 0, 0, 1,\n",
              "       1, 1, 1, 1, 1, 0, 1, 1, 0, 0, 0, 0, 1, 0, 0, 0, 0, 1, 0, 0, 0, 1,\n",
              "       1, 1, 1, 0, 0, 1, 0, 1, 1, 0, 0, 0, 1, 0, 0, 0, 0, 1, 1, 1, 0, 1,\n",
              "       0, 1, 0, 1, 1, 0, 0, 1, 0, 0, 1, 0, 0, 0, 0, 1, 1, 1, 1, 1, 0, 0,\n",
              "       0, 0, 1, 0, 1, 1, 0, 0, 1, 1, 0, 0, 1, 0, 1, 1, 1, 1, 1, 1, 0, 1,\n",
              "       0, 0, 1, 1, 1, 1, 1, 0, 0, 1, 0, 0, 1, 0, 0, 1, 1, 0, 1, 0, 1, 1,\n",
              "       0, 0, 0, 1, 0, 0, 0, 1, 0, 0, 0, 1, 1, 0, 0, 1, 0, 0, 0, 0, 0, 0,\n",
              "       0, 1, 1, 0, 0, 1, 0, 0, 0, 0, 1, 0, 0, 0, 0, 0, 1, 0, 1, 0, 0, 0,\n",
              "       0, 0, 0, 0, 0, 0, 1, 1, 1, 0, 0, 0, 1, 0, 0, 0, 1, 0, 0, 1, 0, 1,\n",
              "       0, 1, 1, 1, 1, 0, 1, 1, 1, 1, 0, 0, 0, 0, 0, 1, 0, 1, 0, 1, 1, 0,\n",
              "       0, 1, 1, 1, 1, 0, 0, 0, 1, 1, 0, 1, 1, 1, 0, 1, 0, 0, 0, 0, 1, 1,\n",
              "       0, 1, 0, 0, 0, 1, 1, 0, 0, 1, 0, 0, 0, 0, 1, 0, 0, 1, 0, 1, 0, 0,\n",
              "       0, 0, 0, 1, 1, 1, 1, 0, 0, 0, 1, 1, 0, 1, 0, 1, 0, 1, 0, 1, 0, 0,\n",
              "       1, 1, 0, 1, 0, 0, 0, 0, 0, 0, 0, 1, 0, 0, 0, 1, 0, 1, 1, 0, 1, 0,\n",
              "       0, 0, 1, 0, 1, 1, 0, 0, 1, 0, 0, 0, 1, 0, 1, 0, 0, 0, 0, 0, 0, 0,\n",
              "       0, 0, 0, 1, 0, 0, 0, 1, 0, 0, 1, 1, 0, 0, 0, 1]), metrics={'test_loss': 0.6905221939086914, 'test_accuracy': 0.56, 'test_f1': 0.0, 'test_precision': 0.0, 'test_recall': 0.0, 'test_runtime': 953.1393, 'test_samples_per_second': 0.525, 'test_steps_per_second': 0.066})"
            ]
          },
          "metadata": {},
          "execution_count": 31
        }
      ]
    }
  ]
}