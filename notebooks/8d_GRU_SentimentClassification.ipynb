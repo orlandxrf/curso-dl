{
  "nbformat": 4,
  "nbformat_minor": 0,
  "metadata": {
    "colab": {
      "name": "8d_GRU_SentimentClassification.ipynb",
      "provenance": [],
      "collapsed_sections": [],
      "authorship_tag": "ABX9TyMOKqHlE/6Q05izshhzyL/i",
      "include_colab_link": true
    },
    "kernelspec": {
      "name": "python3",
      "display_name": "Python 3"
    },
    "language_info": {
      "name": "python"
    },
    "widgets": {
      "application/vnd.jupyter.widget-state+json": {
        "05a00fe19d524defbdfb82b4ce4181f5": {
          "model_module": "@jupyter-widgets/controls",
          "model_name": "HBoxModel",
          "model_module_version": "1.5.0",
          "state": {
            "_view_name": "HBoxView",
            "_dom_classes": [],
            "_model_name": "HBoxModel",
            "_view_module": "@jupyter-widgets/controls",
            "_model_module_version": "1.5.0",
            "_view_count": null,
            "_view_module_version": "1.5.0",
            "box_style": "",
            "layout": "IPY_MODEL_6f4401fc653643e7a79a1e4553ea25de",
            "_model_module": "@jupyter-widgets/controls",
            "children": [
              "IPY_MODEL_d1e7152048154a169ff10192a9d8194f",
              "IPY_MODEL_066e844942104e8b8c4dbd2ad976a7ed",
              "IPY_MODEL_1d9c41dc5bd24aebb30f640905d26d9a"
            ]
          }
        },
        "6f4401fc653643e7a79a1e4553ea25de": {
          "model_module": "@jupyter-widgets/base",
          "model_name": "LayoutModel",
          "model_module_version": "1.2.0",
          "state": {
            "_view_name": "LayoutView",
            "grid_template_rows": null,
            "right": null,
            "justify_content": null,
            "_view_module": "@jupyter-widgets/base",
            "overflow": null,
            "_model_module_version": "1.2.0",
            "_view_count": null,
            "flex_flow": null,
            "width": null,
            "min_width": null,
            "border": null,
            "align_items": null,
            "bottom": null,
            "_model_module": "@jupyter-widgets/base",
            "top": null,
            "grid_column": null,
            "overflow_y": null,
            "overflow_x": null,
            "grid_auto_flow": null,
            "grid_area": null,
            "grid_template_columns": null,
            "flex": null,
            "_model_name": "LayoutModel",
            "justify_items": null,
            "grid_row": null,
            "max_height": null,
            "align_content": null,
            "visibility": null,
            "align_self": null,
            "height": null,
            "min_height": null,
            "padding": null,
            "grid_auto_rows": null,
            "grid_gap": null,
            "max_width": null,
            "order": null,
            "_view_module_version": "1.2.0",
            "grid_template_areas": null,
            "object_position": null,
            "object_fit": null,
            "grid_auto_columns": null,
            "margin": null,
            "display": null,
            "left": null
          }
        },
        "d1e7152048154a169ff10192a9d8194f": {
          "model_module": "@jupyter-widgets/controls",
          "model_name": "HTMLModel",
          "model_module_version": "1.5.0",
          "state": {
            "_view_name": "HTMLView",
            "style": "IPY_MODEL_f1a7eb0980ab4894857106f406e7ee7e",
            "_dom_classes": [],
            "description": "",
            "_model_name": "HTMLModel",
            "placeholder": "​",
            "_view_module": "@jupyter-widgets/controls",
            "_model_module_version": "1.5.0",
            "value": "obteniendo vocabulario de tokens: 100%",
            "_view_count": null,
            "_view_module_version": "1.5.0",
            "description_tooltip": null,
            "_model_module": "@jupyter-widgets/controls",
            "layout": "IPY_MODEL_16399621b2e84d7386a26e5e4f5ad69f"
          }
        },
        "066e844942104e8b8c4dbd2ad976a7ed": {
          "model_module": "@jupyter-widgets/controls",
          "model_name": "FloatProgressModel",
          "model_module_version": "1.5.0",
          "state": {
            "_view_name": "ProgressView",
            "style": "IPY_MODEL_a6e32074c0074a3a9afe44b8492fb3b4",
            "_dom_classes": [],
            "description": "",
            "_model_name": "FloatProgressModel",
            "bar_style": "success",
            "max": 39314,
            "_view_module": "@jupyter-widgets/controls",
            "_model_module_version": "1.5.0",
            "value": 39314,
            "_view_count": null,
            "_view_module_version": "1.5.0",
            "orientation": "horizontal",
            "min": 0,
            "description_tooltip": null,
            "_model_module": "@jupyter-widgets/controls",
            "layout": "IPY_MODEL_b79f9b1ef2f247d5a20bc1076dead54e"
          }
        },
        "1d9c41dc5bd24aebb30f640905d26d9a": {
          "model_module": "@jupyter-widgets/controls",
          "model_name": "HTMLModel",
          "model_module_version": "1.5.0",
          "state": {
            "_view_name": "HTMLView",
            "style": "IPY_MODEL_d51ed29eba9343148772b777fd210a80",
            "_dom_classes": [],
            "description": "",
            "_model_name": "HTMLModel",
            "placeholder": "​",
            "_view_module": "@jupyter-widgets/controls",
            "_model_module_version": "1.5.0",
            "value": " 39314/39314 [01:07&lt;00:00, 531.89it/s]",
            "_view_count": null,
            "_view_module_version": "1.5.0",
            "description_tooltip": null,
            "_model_module": "@jupyter-widgets/controls",
            "layout": "IPY_MODEL_be44e214342e4be3badd48b2ca80cb9c"
          }
        },
        "f1a7eb0980ab4894857106f406e7ee7e": {
          "model_module": "@jupyter-widgets/controls",
          "model_name": "DescriptionStyleModel",
          "model_module_version": "1.5.0",
          "state": {
            "_view_name": "StyleView",
            "_model_name": "DescriptionStyleModel",
            "description_width": "",
            "_view_module": "@jupyter-widgets/base",
            "_model_module_version": "1.5.0",
            "_view_count": null,
            "_view_module_version": "1.2.0",
            "_model_module": "@jupyter-widgets/controls"
          }
        },
        "16399621b2e84d7386a26e5e4f5ad69f": {
          "model_module": "@jupyter-widgets/base",
          "model_name": "LayoutModel",
          "model_module_version": "1.2.0",
          "state": {
            "_view_name": "LayoutView",
            "grid_template_rows": null,
            "right": null,
            "justify_content": null,
            "_view_module": "@jupyter-widgets/base",
            "overflow": null,
            "_model_module_version": "1.2.0",
            "_view_count": null,
            "flex_flow": null,
            "width": null,
            "min_width": null,
            "border": null,
            "align_items": null,
            "bottom": null,
            "_model_module": "@jupyter-widgets/base",
            "top": null,
            "grid_column": null,
            "overflow_y": null,
            "overflow_x": null,
            "grid_auto_flow": null,
            "grid_area": null,
            "grid_template_columns": null,
            "flex": null,
            "_model_name": "LayoutModel",
            "justify_items": null,
            "grid_row": null,
            "max_height": null,
            "align_content": null,
            "visibility": null,
            "align_self": null,
            "height": null,
            "min_height": null,
            "padding": null,
            "grid_auto_rows": null,
            "grid_gap": null,
            "max_width": null,
            "order": null,
            "_view_module_version": "1.2.0",
            "grid_template_areas": null,
            "object_position": null,
            "object_fit": null,
            "grid_auto_columns": null,
            "margin": null,
            "display": null,
            "left": null
          }
        },
        "a6e32074c0074a3a9afe44b8492fb3b4": {
          "model_module": "@jupyter-widgets/controls",
          "model_name": "ProgressStyleModel",
          "model_module_version": "1.5.0",
          "state": {
            "_view_name": "StyleView",
            "_model_name": "ProgressStyleModel",
            "description_width": "",
            "_view_module": "@jupyter-widgets/base",
            "_model_module_version": "1.5.0",
            "_view_count": null,
            "_view_module_version": "1.2.0",
            "bar_color": null,
            "_model_module": "@jupyter-widgets/controls"
          }
        },
        "b79f9b1ef2f247d5a20bc1076dead54e": {
          "model_module": "@jupyter-widgets/base",
          "model_name": "LayoutModel",
          "model_module_version": "1.2.0",
          "state": {
            "_view_name": "LayoutView",
            "grid_template_rows": null,
            "right": null,
            "justify_content": null,
            "_view_module": "@jupyter-widgets/base",
            "overflow": null,
            "_model_module_version": "1.2.0",
            "_view_count": null,
            "flex_flow": null,
            "width": null,
            "min_width": null,
            "border": null,
            "align_items": null,
            "bottom": null,
            "_model_module": "@jupyter-widgets/base",
            "top": null,
            "grid_column": null,
            "overflow_y": null,
            "overflow_x": null,
            "grid_auto_flow": null,
            "grid_area": null,
            "grid_template_columns": null,
            "flex": null,
            "_model_name": "LayoutModel",
            "justify_items": null,
            "grid_row": null,
            "max_height": null,
            "align_content": null,
            "visibility": null,
            "align_self": null,
            "height": null,
            "min_height": null,
            "padding": null,
            "grid_auto_rows": null,
            "grid_gap": null,
            "max_width": null,
            "order": null,
            "_view_module_version": "1.2.0",
            "grid_template_areas": null,
            "object_position": null,
            "object_fit": null,
            "grid_auto_columns": null,
            "margin": null,
            "display": null,
            "left": null
          }
        },
        "d51ed29eba9343148772b777fd210a80": {
          "model_module": "@jupyter-widgets/controls",
          "model_name": "DescriptionStyleModel",
          "model_module_version": "1.5.0",
          "state": {
            "_view_name": "StyleView",
            "_model_name": "DescriptionStyleModel",
            "description_width": "",
            "_view_module": "@jupyter-widgets/base",
            "_model_module_version": "1.5.0",
            "_view_count": null,
            "_view_module_version": "1.2.0",
            "_model_module": "@jupyter-widgets/controls"
          }
        },
        "be44e214342e4be3badd48b2ca80cb9c": {
          "model_module": "@jupyter-widgets/base",
          "model_name": "LayoutModel",
          "model_module_version": "1.2.0",
          "state": {
            "_view_name": "LayoutView",
            "grid_template_rows": null,
            "right": null,
            "justify_content": null,
            "_view_module": "@jupyter-widgets/base",
            "overflow": null,
            "_model_module_version": "1.2.0",
            "_view_count": null,
            "flex_flow": null,
            "width": null,
            "min_width": null,
            "border": null,
            "align_items": null,
            "bottom": null,
            "_model_module": "@jupyter-widgets/base",
            "top": null,
            "grid_column": null,
            "overflow_y": null,
            "overflow_x": null,
            "grid_auto_flow": null,
            "grid_area": null,
            "grid_template_columns": null,
            "flex": null,
            "_model_name": "LayoutModel",
            "justify_items": null,
            "grid_row": null,
            "max_height": null,
            "align_content": null,
            "visibility": null,
            "align_self": null,
            "height": null,
            "min_height": null,
            "padding": null,
            "grid_auto_rows": null,
            "grid_gap": null,
            "max_width": null,
            "order": null,
            "_view_module_version": "1.2.0",
            "grid_template_areas": null,
            "object_position": null,
            "object_fit": null,
            "grid_auto_columns": null,
            "margin": null,
            "display": null,
            "left": null
          }
        },
        "49296fdc33c3476eb66b93a26e7f4292": {
          "model_module": "@jupyter-widgets/controls",
          "model_name": "HBoxModel",
          "model_module_version": "1.5.0",
          "state": {
            "_view_name": "HBoxView",
            "_dom_classes": [],
            "_model_name": "HBoxModel",
            "_view_module": "@jupyter-widgets/controls",
            "_model_module_version": "1.5.0",
            "_view_count": null,
            "_view_module_version": "1.5.0",
            "box_style": "",
            "layout": "IPY_MODEL_c50f3be0775448b4b466bbe4108333f8",
            "_model_module": "@jupyter-widgets/controls",
            "children": [
              "IPY_MODEL_791adc13b5bc49d19870fa3b321e6f76",
              "IPY_MODEL_da7bf574450d47be81c6f9c086d02f2d",
              "IPY_MODEL_52c5726d4bb44576aa6305460bc007b7"
            ]
          }
        },
        "c50f3be0775448b4b466bbe4108333f8": {
          "model_module": "@jupyter-widgets/base",
          "model_name": "LayoutModel",
          "model_module_version": "1.2.0",
          "state": {
            "_view_name": "LayoutView",
            "grid_template_rows": null,
            "right": null,
            "justify_content": null,
            "_view_module": "@jupyter-widgets/base",
            "overflow": null,
            "_model_module_version": "1.2.0",
            "_view_count": null,
            "flex_flow": null,
            "width": null,
            "min_width": null,
            "border": null,
            "align_items": null,
            "bottom": null,
            "_model_module": "@jupyter-widgets/base",
            "top": null,
            "grid_column": null,
            "overflow_y": null,
            "overflow_x": null,
            "grid_auto_flow": null,
            "grid_area": null,
            "grid_template_columns": null,
            "flex": null,
            "_model_name": "LayoutModel",
            "justify_items": null,
            "grid_row": null,
            "max_height": null,
            "align_content": null,
            "visibility": null,
            "align_self": null,
            "height": null,
            "min_height": null,
            "padding": null,
            "grid_auto_rows": null,
            "grid_gap": null,
            "max_width": null,
            "order": null,
            "_view_module_version": "1.2.0",
            "grid_template_areas": null,
            "object_position": null,
            "object_fit": null,
            "grid_auto_columns": null,
            "margin": null,
            "display": null,
            "left": null
          }
        },
        "791adc13b5bc49d19870fa3b321e6f76": {
          "model_module": "@jupyter-widgets/controls",
          "model_name": "HTMLModel",
          "model_module_version": "1.5.0",
          "state": {
            "_view_name": "HTMLView",
            "style": "IPY_MODEL_efc7793cbfee4c7ca7a7355865c7c356",
            "_dom_classes": [],
            "description": "",
            "_model_name": "HTMLModel",
            "placeholder": "​",
            "_view_module": "@jupyter-widgets/controls",
            "_model_module_version": "1.5.0",
            "value": "transformando tweets a indices: 100%",
            "_view_count": null,
            "_view_module_version": "1.5.0",
            "description_tooltip": null,
            "_model_module": "@jupyter-widgets/controls",
            "layout": "IPY_MODEL_48611f8476184878b0c01a56eec20a65"
          }
        },
        "da7bf574450d47be81c6f9c086d02f2d": {
          "model_module": "@jupyter-widgets/controls",
          "model_name": "FloatProgressModel",
          "model_module_version": "1.5.0",
          "state": {
            "_view_name": "ProgressView",
            "style": "IPY_MODEL_ad436185de2d450d8be61b6a353135c4",
            "_dom_classes": [],
            "description": "",
            "_model_name": "FloatProgressModel",
            "bar_style": "success",
            "max": 39314,
            "_view_module": "@jupyter-widgets/controls",
            "_model_module_version": "1.5.0",
            "value": 39314,
            "_view_count": null,
            "_view_module_version": "1.5.0",
            "orientation": "horizontal",
            "min": 0,
            "description_tooltip": null,
            "_model_module": "@jupyter-widgets/controls",
            "layout": "IPY_MODEL_69b2b39863b64d399309ef0daf5584f0"
          }
        },
        "52c5726d4bb44576aa6305460bc007b7": {
          "model_module": "@jupyter-widgets/controls",
          "model_name": "HTMLModel",
          "model_module_version": "1.5.0",
          "state": {
            "_view_name": "HTMLView",
            "style": "IPY_MODEL_e4cff411712d4e08a90142215fdd7bab",
            "_dom_classes": [],
            "description": "",
            "_model_name": "HTMLModel",
            "placeholder": "​",
            "_view_module": "@jupyter-widgets/controls",
            "_model_module_version": "1.5.0",
            "value": " 39314/39314 [00:03&lt;00:00, 11313.74it/s]",
            "_view_count": null,
            "_view_module_version": "1.5.0",
            "description_tooltip": null,
            "_model_module": "@jupyter-widgets/controls",
            "layout": "IPY_MODEL_65ec3b554b2646abb93426be926e41b7"
          }
        },
        "efc7793cbfee4c7ca7a7355865c7c356": {
          "model_module": "@jupyter-widgets/controls",
          "model_name": "DescriptionStyleModel",
          "model_module_version": "1.5.0",
          "state": {
            "_view_name": "StyleView",
            "_model_name": "DescriptionStyleModel",
            "description_width": "",
            "_view_module": "@jupyter-widgets/base",
            "_model_module_version": "1.5.0",
            "_view_count": null,
            "_view_module_version": "1.2.0",
            "_model_module": "@jupyter-widgets/controls"
          }
        },
        "48611f8476184878b0c01a56eec20a65": {
          "model_module": "@jupyter-widgets/base",
          "model_name": "LayoutModel",
          "model_module_version": "1.2.0",
          "state": {
            "_view_name": "LayoutView",
            "grid_template_rows": null,
            "right": null,
            "justify_content": null,
            "_view_module": "@jupyter-widgets/base",
            "overflow": null,
            "_model_module_version": "1.2.0",
            "_view_count": null,
            "flex_flow": null,
            "width": null,
            "min_width": null,
            "border": null,
            "align_items": null,
            "bottom": null,
            "_model_module": "@jupyter-widgets/base",
            "top": null,
            "grid_column": null,
            "overflow_y": null,
            "overflow_x": null,
            "grid_auto_flow": null,
            "grid_area": null,
            "grid_template_columns": null,
            "flex": null,
            "_model_name": "LayoutModel",
            "justify_items": null,
            "grid_row": null,
            "max_height": null,
            "align_content": null,
            "visibility": null,
            "align_self": null,
            "height": null,
            "min_height": null,
            "padding": null,
            "grid_auto_rows": null,
            "grid_gap": null,
            "max_width": null,
            "order": null,
            "_view_module_version": "1.2.0",
            "grid_template_areas": null,
            "object_position": null,
            "object_fit": null,
            "grid_auto_columns": null,
            "margin": null,
            "display": null,
            "left": null
          }
        },
        "ad436185de2d450d8be61b6a353135c4": {
          "model_module": "@jupyter-widgets/controls",
          "model_name": "ProgressStyleModel",
          "model_module_version": "1.5.0",
          "state": {
            "_view_name": "StyleView",
            "_model_name": "ProgressStyleModel",
            "description_width": "",
            "_view_module": "@jupyter-widgets/base",
            "_model_module_version": "1.5.0",
            "_view_count": null,
            "_view_module_version": "1.2.0",
            "bar_color": null,
            "_model_module": "@jupyter-widgets/controls"
          }
        },
        "69b2b39863b64d399309ef0daf5584f0": {
          "model_module": "@jupyter-widgets/base",
          "model_name": "LayoutModel",
          "model_module_version": "1.2.0",
          "state": {
            "_view_name": "LayoutView",
            "grid_template_rows": null,
            "right": null,
            "justify_content": null,
            "_view_module": "@jupyter-widgets/base",
            "overflow": null,
            "_model_module_version": "1.2.0",
            "_view_count": null,
            "flex_flow": null,
            "width": null,
            "min_width": null,
            "border": null,
            "align_items": null,
            "bottom": null,
            "_model_module": "@jupyter-widgets/base",
            "top": null,
            "grid_column": null,
            "overflow_y": null,
            "overflow_x": null,
            "grid_auto_flow": null,
            "grid_area": null,
            "grid_template_columns": null,
            "flex": null,
            "_model_name": "LayoutModel",
            "justify_items": null,
            "grid_row": null,
            "max_height": null,
            "align_content": null,
            "visibility": null,
            "align_self": null,
            "height": null,
            "min_height": null,
            "padding": null,
            "grid_auto_rows": null,
            "grid_gap": null,
            "max_width": null,
            "order": null,
            "_view_module_version": "1.2.0",
            "grid_template_areas": null,
            "object_position": null,
            "object_fit": null,
            "grid_auto_columns": null,
            "margin": null,
            "display": null,
            "left": null
          }
        },
        "e4cff411712d4e08a90142215fdd7bab": {
          "model_module": "@jupyter-widgets/controls",
          "model_name": "DescriptionStyleModel",
          "model_module_version": "1.5.0",
          "state": {
            "_view_name": "StyleView",
            "_model_name": "DescriptionStyleModel",
            "description_width": "",
            "_view_module": "@jupyter-widgets/base",
            "_model_module_version": "1.5.0",
            "_view_count": null,
            "_view_module_version": "1.2.0",
            "_model_module": "@jupyter-widgets/controls"
          }
        },
        "65ec3b554b2646abb93426be926e41b7": {
          "model_module": "@jupyter-widgets/base",
          "model_name": "LayoutModel",
          "model_module_version": "1.2.0",
          "state": {
            "_view_name": "LayoutView",
            "grid_template_rows": null,
            "right": null,
            "justify_content": null,
            "_view_module": "@jupyter-widgets/base",
            "overflow": null,
            "_model_module_version": "1.2.0",
            "_view_count": null,
            "flex_flow": null,
            "width": null,
            "min_width": null,
            "border": null,
            "align_items": null,
            "bottom": null,
            "_model_module": "@jupyter-widgets/base",
            "top": null,
            "grid_column": null,
            "overflow_y": null,
            "overflow_x": null,
            "grid_auto_flow": null,
            "grid_area": null,
            "grid_template_columns": null,
            "flex": null,
            "_model_name": "LayoutModel",
            "justify_items": null,
            "grid_row": null,
            "max_height": null,
            "align_content": null,
            "visibility": null,
            "align_self": null,
            "height": null,
            "min_height": null,
            "padding": null,
            "grid_auto_rows": null,
            "grid_gap": null,
            "max_width": null,
            "order": null,
            "_view_module_version": "1.2.0",
            "grid_template_areas": null,
            "object_position": null,
            "object_fit": null,
            "grid_auto_columns": null,
            "margin": null,
            "display": null,
            "left": null
          }
        }
      }
    }
  },
  "cells": [
    {
      "cell_type": "markdown",
      "metadata": {
        "id": "view-in-github",
        "colab_type": "text"
      },
      "source": [
        "<a href=\"https://colab.research.google.com/github/orlandxrf/curso-dl/blob/main/notebooks/8d_GRU_SentimentClassification.ipynb\" target=\"_parent\"><img src=\"https://colab.research.google.com/assets/colab-badge.svg\" alt=\"Open In Colab\"/></a>"
      ]
    },
    {
      "cell_type": "markdown",
      "source": [
        "# Análisis de Sentimientos con GRU"
      ],
      "metadata": {
        "id": "uqJ2YE-jhWsV"
      }
    },
    {
      "cell_type": "code",
      "execution_count": 1,
      "metadata": {
        "id": "vd-Rpna4fiOK",
        "colab": {
          "base_uri": "https://localhost:8080/"
        },
        "outputId": "fba76328-dbe4-4218-ae4d-e3a78c083bad"
      },
      "outputs": [
        {
          "output_type": "stream",
          "name": "stdout",
          "text": [
            "filepath:\tdata/text_emotion.csv\n"
          ]
        }
      ],
      "source": [
        "# establecer parametros para almacenar y cargar el conjunto de datos del repositorio de Github\n",
        "import os\n",
        "\n",
        "URL = 'https://raw.githubusercontent.com/orlandxrf/curso-dl/main/data/text_emotion.csv'\n",
        "data_folder = 'data'\n",
        "filepath = os.path.join(data_folder, 'text_emotion.csv')\n",
        "print (f\"filepath:\\t{filepath}\")"
      ]
    },
    {
      "cell_type": "markdown",
      "source": [
        "## Cargar el conjunto de datos"
      ],
      "metadata": {
        "id": "YMEoN-nnhhGq"
      }
    },
    {
      "cell_type": "code",
      "source": [
        "# crear carpeta para almacenar el conjunto de datos\n",
        "! mkdir {data_folder}\n",
        "# descargar conjunto de datos y alamcenar\n",
        "! wget -nc {URL} -O {filepath}"
      ],
      "metadata": {
        "colab": {
          "base_uri": "https://localhost:8080/"
        },
        "id": "Sll0mlf_aszv",
        "outputId": "41f542ba-3f99-4432-b735-42c4a8e23ac1"
      },
      "execution_count": 2,
      "outputs": [
        {
          "output_type": "stream",
          "name": "stdout",
          "text": [
            "--2022-03-10 15:47:04--  https://raw.githubusercontent.com/orlandxrf/curso-dl/main/data/text_emotion.csv\n",
            "Resolving raw.githubusercontent.com (raw.githubusercontent.com)... 185.199.110.133, 185.199.109.133, 185.199.111.133, ...\n",
            "Connecting to raw.githubusercontent.com (raw.githubusercontent.com)|185.199.110.133|:443... connected.\n",
            "HTTP request sent, awaiting response... 200 OK\n",
            "Length: 4394791 (4.2M) [text/plain]\n",
            "Saving to: ‘data/text_emotion.csv’\n",
            "\n",
            "data/text_emotion.c 100%[===================>]   4.19M  --.-KB/s    in 0.1s    \n",
            "\n",
            "2022-03-10 15:47:04 (31.6 MB/s) - ‘data/text_emotion.csv’ saved [4394791/4394791]\n",
            "\n"
          ]
        }
      ]
    },
    {
      "cell_type": "code",
      "source": [
        "# comprobrar\n",
        "! ls -lh data/*"
      ],
      "metadata": {
        "colab": {
          "base_uri": "https://localhost:8080/"
        },
        "id": "_aV8rUjwbbBO",
        "outputId": "53fa5460-36ee-42a7-cb4a-eee2d2c20702"
      },
      "execution_count": 3,
      "outputs": [
        {
          "output_type": "stream",
          "name": "stdout",
          "text": [
            "-rw-r--r-- 1 root root 4.2M Mar 10 15:47 data/text_emotion.csv\n"
          ]
        }
      ]
    },
    {
      "cell_type": "markdown",
      "source": [
        "## Analizar conjunto de datos"
      ],
      "metadata": {
        "id": "fbNBV1eaXjZr"
      }
    },
    {
      "cell_type": "code",
      "source": [
        "import pandas as pd\n",
        "\n",
        "df = pd.read_csv('data/text_emotion.csv')\n",
        "\n",
        "# eliminar columnas 'tweet_id' y 'author'\n",
        "df.drop('tweet_id',axis=1,inplace=True)\n",
        "df.drop('author',axis=1,inplace=True)\n",
        "print (df.head(10))\n",
        "print (f\"Longitud de tweets: {len(df):,}\")"
      ],
      "metadata": {
        "colab": {
          "base_uri": "https://localhost:8080/"
        },
        "id": "pijhdpXRXnAs",
        "outputId": "6471cc14-2077-4b63-c64c-c6a770afd8b2"
      },
      "execution_count": 4,
      "outputs": [
        {
          "output_type": "stream",
          "name": "stdout",
          "text": [
            "    sentiment                                            content\n",
            "0       empty  @tiffanylue i know  i was listenin to bad habi...\n",
            "1     sadness  Layin n bed with a headache  ughhhh...waitin o...\n",
            "2     sadness                Funeral ceremony...gloomy friday...\n",
            "3  enthusiasm               wants to hang out with friends SOON!\n",
            "4     neutral  @dannycastillo We want to trade with someone w...\n",
            "5       worry  Re-pinging @ghostridah14: why didn't you go to...\n",
            "6     sadness  I should be sleep, but im not! thinking about ...\n",
            "7       worry               Hmmm. http://www.djhero.com/ is down\n",
            "8     sadness            @charviray Charlene my love. I miss you\n",
            "9     sadness         @kelcouch I'm sorry  at least it's Friday?\n",
            "Longitud de tweets: 40,000\n"
          ]
        }
      ]
    },
    {
      "cell_type": "code",
      "source": [
        "import matplotlib.pyplot as plt\n",
        "\n",
        "sentiments = dict(pd.value_counts(df['sentiment']))\n",
        "classes = list(sentiments.keys())\n",
        "for i, sent in enumerate(sentiments):\n",
        "  print (f\"{i+1}\\t{sentiments[sent]}\\t{sent}\")\n",
        "print (f\"\\n{len(df):,} tweets\")\n",
        "\n",
        "# Graficar la distribución\n",
        "plt.figure(figsize=(20, 10))\n",
        "pd.value_counts(df['sentiment']).plot.bar(title=\"Distribución de sentimientos\")\n",
        "plt.xlabel(\"Sentimiento\", fontsize=\"15\")\n",
        "plt.ylabel(\"Tweets\", fontsize=\"15\")\n",
        "plt.xticks(rotation=45, fontsize=\"15\")\n",
        "plt.yticks(fontsize=\"15\")\n",
        "plt.show()"
      ],
      "metadata": {
        "colab": {
          "base_uri": "https://localhost:8080/",
          "height": 949
        },
        "id": "rJifibVZYINg",
        "outputId": "466da07c-3c48-4069-e2dc-0726608614c4"
      },
      "execution_count": 5,
      "outputs": [
        {
          "output_type": "stream",
          "name": "stdout",
          "text": [
            "1\t8638\tneutral\n",
            "2\t8459\tworry\n",
            "3\t5209\thappiness\n",
            "4\t5165\tsadness\n",
            "5\t3842\tlove\n",
            "6\t2187\tsurprise\n",
            "7\t1776\tfun\n",
            "8\t1526\trelief\n",
            "9\t1323\thate\n",
            "10\t827\tempty\n",
            "11\t759\tenthusiasm\n",
            "12\t179\tboredom\n",
            "13\t110\tanger\n",
            "\n",
            "40,000 tweets\n"
          ]
        },
        {
          "output_type": "display_data",
          "data": {
            "image/png": "[encoded data removed]",
            "text/plain": [
              "<Figure size 1440x720 with 1 Axes>"
            ]
          },
          "metadata": {
            "needs_background": "light"
          }
        }
      ]
    },
    {
      "cell_type": "markdown",
      "source": [
        "## Preprocesamiento de los datos\n",
        "Realizar el preprocesamiento necesario, que incluye la limpieza y otros elementos como la toeknización y lematización"
      ],
      "metadata": {
        "id": "MGucn7IxiJZy"
      }
    },
    {
      "cell_type": "markdown",
      "source": [
        "### Limpieza de los tweets"
      ],
      "metadata": {
        "id": "D_dyKegbCCcs"
      }
    },
    {
      "cell_type": "code",
      "source": [
        "# preprocesamiento\n",
        "import numpy as np\n",
        "def limpiezaDeTweets(tweet):\n",
        "  import re\n",
        "  tweet = re.sub(r'RT @\\w+: ',\" \", tweet) # eliminar retweets\n",
        "  tweet = re.sub(r'https?://[A-Za-z0-9./]+', ' ', tweet) # eliminar urls\n",
        "  tweet = re.sub(r'@[A-Za-z0-9]+', '', tweet) # eliminar usuarios\n",
        "  tweet = tweet.lower() # convertir a minúsculas\n",
        "  tweet = re.sub(r'[^a-z0-9\\'\\.,:; ]+', ' ', tweet) # eliminar todos los caracteres que no esten en los definidos\n",
        "  tweet = ' '.join(tweet.split()) # eliminar múltiples espacios, solo conservar un espacio\n",
        "\n",
        "  return tweet\n",
        "\n",
        "\n",
        "df['content'] = df['content'].astype('str')\n",
        "df['content'] = df['content'].apply(lambda x: limpiezaDeTweets(x))\n",
        "\n",
        "df.drop_duplicates(keep=False, inplace=True)\n",
        "\n",
        "df = df.replace(r'^\\s*$', np.NaN, regex=True)\n",
        "\n",
        "df = df.dropna()\n",
        "\n",
        "print (df.head(10))\n",
        "print (f\"\\nTotal:\\t{len(df):,}\\n\")"
      ],
      "metadata": {
        "colab": {
          "base_uri": "https://localhost:8080/"
        },
        "outputId": "2477b235-65d4-4434-c727-2782bebb3d4b",
        "id": "9smcPkBDiNjc"
      },
      "execution_count": 6,
      "outputs": [
        {
          "output_type": "stream",
          "name": "stdout",
          "text": [
            "    sentiment                                            content\n",
            "0       empty  i know i was listenin to bad habit earlier and...\n",
            "1     sadness  layin n bed with a headache ughhhh...waitin on...\n",
            "2     sadness                funeral ceremony...gloomy friday...\n",
            "3  enthusiasm                wants to hang out with friends soon\n",
            "4     neutral  we want to trade with someone who has houston ...\n",
            "5       worry  re pinging : why didn't you go to prom bc my b...\n",
            "6     sadness  i should be sleep, but im not thinking about a...\n",
            "7       worry                                      hmmm. is down\n",
            "8     sadness                       charlene my love. i miss you\n",
            "9     sadness                     i'm sorry at least it's friday\n",
            "\n",
            "Total:\t39,314\n",
            "\n"
          ]
        }
      ]
    },
    {
      "cell_type": "code",
      "source": [
        "# graficar los tweets limpios por clase\n",
        "sentiments = dict(pd.value_counts(df['sentiment']))\n",
        "classes = list(sentiments.keys())\n",
        "for i, sent in enumerate(sentiments):\n",
        "  print (f\"{i+1}\\t{sentiments[sent]}\\t{sent}\")\n",
        "print (f\"\\n{len(df):,} tweets\")"
      ],
      "metadata": {
        "colab": {
          "base_uri": "https://localhost:8080/"
        },
        "id": "fBDh3G5VrqxO",
        "outputId": "c9ac4018-8f2d-4245-ac57-699761d7bb3d"
      },
      "execution_count": 7,
      "outputs": [
        {
          "output_type": "stream",
          "name": "stdout",
          "text": [
            "1\t8380\tneutral\n",
            "2\t8374\tworry\n",
            "3\t5126\tsadness\n",
            "4\t5099\thappiness\n",
            "5\t3695\tlove\n",
            "6\t2181\tsurprise\n",
            "7\t1774\tfun\n",
            "8\t1514\trelief\n",
            "9\t1320\thate\n",
            "10\t805\tempty\n",
            "11\t757\tenthusiasm\n",
            "12\t179\tboredom\n",
            "13\t110\tanger\n",
            "\n",
            "39,314 tweets\n"
          ]
        }
      ]
    },
    {
      "cell_type": "markdown",
      "source": [
        "## Preparar el conjunto de datos"
      ],
      "metadata": {
        "id": "-gPZ-fUgi37N"
      }
    },
    {
      "cell_type": "code",
      "source": [
        "# obtener vocabulario de clases\n",
        "from tqdm.auto import tqdm\n",
        "\n",
        "tag_vocabulary = [sent for sent in sentiments]\n",
        "tag_vocabulary.sort()\n",
        "\n",
        "tok_vocabulary = []\n",
        "# obtener vocabulario de tokens\n",
        "for index, row in tqdm(df.iterrows(), desc=\"obteniendo vocabulario de tokens\", total=len(df)):\n",
        "  for token in row['content'].split():\n",
        "    if token not in tok_vocabulary: tok_vocabulary.append(token)\n",
        "\n",
        "max_tweet_length = max(len(lst.split()) for lst in df['content'].to_list())\n",
        "min_tweet_length = min(len(lst.split()) for lst in df['content'].to_list())\n",
        "\n",
        "print (f'tweet longitud mínima:\\t{min_tweet_length}')\n",
        "print (f'tweet longitud máxima:\\t{max_tweet_length}\\n')\n",
        "\n",
        "print (f'longitud vocabulario de clases:\\t{len(tag_vocabulary)}')\n",
        "print (f'longitud vocabulario de tokens:\\t{len(tok_vocabulary):,}\\n')\n",
        "\n",
        "# visualizar los 10 tokens más frecuentes\n",
        "for i, tok in enumerate(tok_vocabulary):\n",
        "  if i==10: break\n",
        "  print (f\"{i+1}\\t{tok}\")\n"
      ],
      "metadata": {
        "colab": {
          "base_uri": "https://localhost:8080/",
          "height": 327,
          "referenced_widgets": [
            "05a00fe19d524defbdfb82b4ce4181f5",
            "6f4401fc653643e7a79a1e4553ea25de",
            "d1e7152048154a169ff10192a9d8194f",
            "066e844942104e8b8c4dbd2ad976a7ed",
            "1d9c41dc5bd24aebb30f640905d26d9a",
            "f1a7eb0980ab4894857106f406e7ee7e",
            "16399621b2e84d7386a26e5e4f5ad69f",
            "a6e32074c0074a3a9afe44b8492fb3b4",
            "b79f9b1ef2f247d5a20bc1076dead54e",
            "d51ed29eba9343148772b777fd210a80",
            "be44e214342e4be3badd48b2ca80cb9c"
          ]
        },
        "id": "z_wEPQShjAaB",
        "outputId": "b2620c7b-401f-4ac0-f634-0deb2754e4f7"
      },
      "execution_count": 8,
      "outputs": [
        {
          "output_type": "display_data",
          "data": {
            "application/vnd.jupyter.widget-view+json": {
              "model_id": "05a00fe19d524defbdfb82b4ce4181f5",
              "version_minor": 0,
              "version_major": 2
            },
            "text/plain": [
              "obteniendo vocabulario de tokens:   0%|          | 0/39314 [00:00<?, ?it/s]"
            ]
          },
          "metadata": {}
        },
        {
          "output_type": "stream",
          "name": "stdout",
          "text": [
            "tweet longitud mínima:\t1\n",
            "tweet longitud máxima:\t40\n",
            "\n",
            "longitud vocabulario de clases:\t13\n",
            "longitud vocabulario de tokens:\t46,634\n",
            "\n",
            "1\ti\n",
            "2\tknow\n",
            "3\twas\n",
            "4\tlistenin\n",
            "5\tto\n",
            "6\tbad\n",
            "7\thabit\n",
            "8\tearlier\n",
            "9\tand\n",
            "10\tstarted\n"
          ]
        }
      ]
    },
    {
      "cell_type": "code",
      "source": [
        "# construir vocabularios stoi e itos de clases y tokens\n",
        "\n",
        "tag_stoi = {tok : i for i, tok in enumerate(tag_vocabulary)}\n",
        "tag_itos = {i : tok for i, tok in enumerate(tag_vocabulary)}\n",
        "\n",
        "tok_vocabulary.insert(0, '<PAD>')\n",
        "tok_stoi = {tok : i for i, tok in enumerate(tok_vocabulary)}\n",
        "tok_itos = {i : tok for i, tok in enumerate(tok_vocabulary)}\n",
        "\n",
        "print (f\"tag_stoi:\\t{tag_stoi}\")\n",
        "print (f\"tag_itos:\\t{tag_itos}\\n\")\n",
        "\n",
        "print (f\"tok_stoi:\\t{len(tok_stoi):,}\")\n",
        "print (f\"tok_itos:\\t{len(tok_itos):,}\")"
      ],
      "metadata": {
        "colab": {
          "base_uri": "https://localhost:8080/"
        },
        "id": "YN0hHZfC2kyd",
        "outputId": "8e0e6acf-ce64-4ccf-cdee-aa3fa4e98f26"
      },
      "execution_count": 9,
      "outputs": [
        {
          "output_type": "stream",
          "name": "stdout",
          "text": [
            "tag_stoi:\t{'anger': 0, 'boredom': 1, 'empty': 2, 'enthusiasm': 3, 'fun': 4, 'happiness': 5, 'hate': 6, 'love': 7, 'neutral': 8, 'relief': 9, 'sadness': 10, 'surprise': 11, 'worry': 12}\n",
            "tag_itos:\t{0: 'anger', 1: 'boredom', 2: 'empty', 3: 'enthusiasm', 4: 'fun', 5: 'happiness', 6: 'hate', 7: 'love', 8: 'neutral', 9: 'relief', 10: 'sadness', 11: 'surprise', 12: 'worry'}\n",
            "\n",
            "tok_stoi:\t46,635\n",
            "tok_itos:\t46,635\n"
          ]
        }
      ]
    },
    {
      "cell_type": "markdown",
      "source": [
        "### Transformar tweets a indices y rellenar "
      ],
      "metadata": {
        "id": "7W_jyzxqBHCm"
      }
    },
    {
      "cell_type": "code",
      "source": [
        "X, Y = [], []\n",
        "for index, row in tqdm(df.iterrows(), desc=\"transformando tweets a indices\", total=len(df)):\n",
        "  if len(row['content'].split()) < 40: # rellenar tweets menores a 40 con {'<PAD>': 0}\n",
        "    tmp_x = [tok_stoi[token] for token in row['content'].split()]\n",
        "    tmp_x += [tok_stoi['<PAD>']] * (max_tweet_length - len(tmp_x))\n",
        "    X.append(tmp_x)\n",
        "  else:\n",
        "    X.append([tok_stoi[token] for token in row['content'].split()])\n",
        "  Y.append( tag_stoi[row['sentiment']] )"
      ],
      "metadata": {
        "colab": {
          "base_uri": "https://localhost:8080/",
          "height": 49,
          "referenced_widgets": [
            "49296fdc33c3476eb66b93a26e7f4292",
            "c50f3be0775448b4b466bbe4108333f8",
            "791adc13b5bc49d19870fa3b321e6f76",
            "da7bf574450d47be81c6f9c086d02f2d",
            "52c5726d4bb44576aa6305460bc007b7",
            "efc7793cbfee4c7ca7a7355865c7c356",
            "48611f8476184878b0c01a56eec20a65",
            "ad436185de2d450d8be61b6a353135c4",
            "69b2b39863b64d399309ef0daf5584f0",
            "e4cff411712d4e08a90142215fdd7bab",
            "65ec3b554b2646abb93426be926e41b7"
          ]
        },
        "id": "aPqtQ9uYCG9f",
        "outputId": "b4269ad4-61eb-4feb-e7d7-cfeb2f172603"
      },
      "execution_count": 10,
      "outputs": [
        {
          "output_type": "display_data",
          "data": {
            "application/vnd.jupyter.widget-view+json": {
              "model_id": "49296fdc33c3476eb66b93a26e7f4292",
              "version_minor": 0,
              "version_major": 2
            },
            "text/plain": [
              "transformando tweets a indices:   0%|          | 0/39314 [00:00<?, ?it/s]"
            ]
          },
          "metadata": {}
        }
      ]
    },
    {
      "cell_type": "code",
      "source": [
        "import numpy as np\n",
        "\n",
        "Y = np.array(Y, dtype=\"int32\")[:, np.newaxis]\n",
        "X = np.array(X, dtype=\"int32\")\n",
        "\n",
        "print (f\"Shape Y:\\t{Y.shape}\")\n",
        "print (f\"\\nShape X:\\t{X.shape}\")"
      ],
      "metadata": {
        "colab": {
          "base_uri": "https://localhost:8080/"
        },
        "id": "hyoVnlONH6zq",
        "outputId": "5fd8387e-1722-4d9e-cd8e-68b4b735b63c"
      },
      "execution_count": 23,
      "outputs": [
        {
          "output_type": "stream",
          "name": "stdout",
          "text": [
            "Shape Y:\t(39314, 1, 1, 1)\n",
            "\n",
            "Shape X:\t(39314, 40)\n"
          ]
        }
      ]
    },
    {
      "cell_type": "markdown",
      "source": [
        "### Dividir en conjuntos: Entrenamiento, Validación y Pruebas"
      ],
      "metadata": {
        "id": "h1x7QQmLIlJN"
      }
    },
    {
      "cell_type": "code",
      "source": [
        "# dividir en conjuntos de Train, Val y Test\n",
        "from sklearn.model_selection import train_test_split\n",
        "\n",
        "X_train, X_test, Y_train, Y_test = train_test_split(X, Y, test_size=0.30, stratify=Y, random_state=1000)\n",
        "X_test, X_valid, Y_test, Y_valid = train_test_split(X_test, Y_test, test_size=0.60, stratify=Y_test, random_state=1000)\n",
        "\n",
        "print(f\"X_train.shape, Y_train.shape: {X_train.shape}, {Y_train.shape}\")\n",
        "print(f\"X_val.shape, Y_val.shape: {X_valid.shape}, {Y_valid.shape}\")\n",
        "print(f\"X_test.shape, Y_test.shape: {X_test.shape}, {Y_test.shape}\")"
      ],
      "metadata": {
        "colab": {
          "base_uri": "https://localhost:8080/"
        },
        "id": "LF_gG4l4Iumi",
        "outputId": "124e8dd3-03e5-4248-a91c-37ad7107d1a2"
      },
      "execution_count": 12,
      "outputs": [
        {
          "output_type": "stream",
          "name": "stdout",
          "text": [
            "X_train.shape, Y_train.shape: (27519, 40), (27519, 1)\n",
            "X_val.shape, Y_val.shape: (7077, 40), (7077, 1)\n",
            "X_test.shape, Y_test.shape: (4718, 40), (4718, 1)\n"
          ]
        }
      ]
    },
    {
      "cell_type": "markdown",
      "source": [
        "## Crear conjuntos de datos y cargadores de datos"
      ],
      "metadata": {
        "id": "CLvoxP5dKFqH"
      }
    },
    {
      "cell_type": "code",
      "source": [
        "import torch\n",
        "from torch.utils.data import DataLoader, TensorDataset\n",
        "\n",
        "# crear los tensores del conjunto de datos\n",
        "train = TensorDataset(torch.tensor(X_train, dtype=torch.long), torch.tensor(Y_train, dtype=torch.long))\n",
        "valid = TensorDataset(torch.tensor(X_valid, dtype=torch.long), torch.tensor(Y_valid, dtype=torch.long))\n",
        "test = TensorDataset(torch.tensor(X_test, dtype=torch.long), torch.tensor(Y_test, dtype=torch.long))\n",
        "\n",
        "batch_size = 256\n",
        "\n",
        "# crear los cargadores del conjunto de datos\n",
        "trainloader = DataLoader(train, batch_size=batch_size, drop_last=True, shuffle=True)\n",
        "validloader = DataLoader(valid, batch_size=batch_size, drop_last=True, shuffle=True)\n",
        "testloader = DataLoader(test, batch_size=batch_size, drop_last=True, shuffle=True)\n",
        "\n",
        "print (f\"{len(trainloader.dataset):,} es la longitud de muestras en trainloader\")\n",
        "print (f\"{len(validloader.dataset):,} es la longitud de muestras en validloader\")\n",
        "print (f\"{len(testloader.dataset):,} es la longitud de muestras en testloader\\n\")\n",
        "\n",
        "print (f\"{len(trainloader):,} batches de longitud {batch_size} en trainloader\")\n",
        "print (f\"{len(validloader):,} batches de longitud {batch_size} en validloader\")\n",
        "print (f\"{len(testloader):,} batches de longitud {batch_size} en testloader\")"
      ],
      "metadata": {
        "colab": {
          "base_uri": "https://localhost:8080/"
        },
        "id": "yuHU3xzuKO_4",
        "outputId": "df0cc8f6-af25-428a-a479-8ff992a780b7"
      },
      "execution_count": 13,
      "outputs": [
        {
          "output_type": "stream",
          "name": "stdout",
          "text": [
            "27,519 es la longitud de muestras en trainloader\n",
            "7,077 es la longitud de muestras en validloader\n",
            "4,718 es la longitud de muestras en testloader\n",
            "\n",
            "107 batches de longitud 256 en trainloader\n",
            "27 batches de longitud 256 en validloader\n",
            "18 batches de longitud 256 en testloader\n"
          ]
        }
      ]
    },
    {
      "cell_type": "markdown",
      "source": [
        "## Definir el modelo"
      ],
      "metadata": {
        "id": "DmhpSfS3MRDV"
      }
    },
    {
      "cell_type": "markdown",
      "source": [
        "### Bibliotecas a usar"
      ],
      "metadata": {
        "id": "I415hggnMTba"
      }
    },
    {
      "cell_type": "code",
      "source": [
        "import torch.nn as nn\n",
        "import torch.nn.functional as F\n",
        "import torch.optim as optim\n",
        "import time"
      ],
      "metadata": {
        "id": "3vzEyWahMWBi"
      },
      "execution_count": 14,
      "outputs": []
    },
    {
      "cell_type": "markdown",
      "source": [
        "### Modelo GRU"
      ],
      "metadata": {
        "id": "ChOqpgTEMWug"
      }
    },
    {
      "cell_type": "code",
      "source": [
        "class SentimentAnalysis_GRU(nn.Module):\n",
        "    \n",
        "    def __init__(self, vocab_size, embedding_dim, hidden_units, batch_sz, num_layers, output_size):\n",
        "        super().__init__()\n",
        "        self.batch = batch_sz\n",
        "        self.vocab_size = vocab_size\n",
        "        self.embedding_dim = embedding_dim\n",
        "        self.hidden_units = hidden_units\n",
        "        self.output_size = output_size\n",
        "        \n",
        "        # definir la capa de embeddings\n",
        "        self.embedding = nn.Embedding(self.vocab_size, self.embedding_dim)\n",
        "\n",
        "        # definir el Dropout\n",
        "        self.dropout = nn.Dropout(p=0.5)\n",
        "\n",
        "        # definir capa GRU\n",
        "        self.gru = nn.GRU(self.embedding_dim, self.hidden_units, num_layers=num_layers)\n",
        "\n",
        "        # definir capa totalmente conectada (FC)\n",
        "        self.fc = nn.Linear(self.hidden_units, self.output_size)\n",
        "        \n",
        "    def initialize_hidden_state(self):\n",
        "        # inicializar las unidades ocultas en ceros\n",
        "        return torch.zeros((num_layers, self.batch, self.hidden_units)) # .to(device) # (num_layers, batch_size, hidden_units)\n",
        "    \n",
        "    def forward(self, x):\n",
        "        # print (f\"forward x.shape: {x.shape}\") # torch.Size([40, 256] # [longitud_tweet, batch_size]\n",
        "        x = self.embedding(x) # torch.Size([40, 256, 50] # [longitud_tweet, batch_size, embedding_dim]\n",
        "        # print (f\"forward con embeddings x.shape: {x.shape}\") \n",
        "\n",
        "        self.hidden = self.initialize_hidden_state() # (device) # torch.Size([1, 256, 100]) # [1, batch_size, hidden_units]\n",
        "        # print (f\"forward initialize self.hidden.shape: {self.hidden.shape}\")\n",
        "\n",
        "        output, self.hidden = self.gru(x, self.hidden) # output = torch.Size([40, 256, 100] # [tweet_length, batch_size, hidden_units], self.hidden = torch.Size([1, 256, 100]) # [1, batch_size, hidden_units]\n",
        "        # print (f\"forward output.shape: {output.shape}\")\n",
        "        # print (f\"forward self.hidden.shape: {self.hidden.shape}\")\n",
        "        \n",
        "        out = output[-1, :, :] # torch.Size([256, 100]) \n",
        "        # print (f\"forward output[-1, :, :].shape: {output[-1, :, :].shape}\")\n",
        "        \n",
        "        out = self.dropout(out)\n",
        "\n",
        "        out = self.fc(out) # torch.Size([40, 256, 100] # [tweet_length, batch_size, hidden_units]\n",
        "        # print (f\"forward fc output: {output.shape}\")\n",
        "        \n",
        "        return out, self.hidden"
      ],
      "metadata": {
        "id": "DadqxKU1MYgJ"
      },
      "execution_count": 15,
      "outputs": []
    },
    {
      "cell_type": "code",
      "source": [
        "# definir funciones para utilizar en el entrenamiento y evaluación\n",
        "def accuracy(preds, y):\n",
        "    \"\"\"Retorna el accuracy por batch\"\"\"\n",
        "    # preds --> [256, 13] ==> debe permutarse así preds.permute(1, 0) --> [13, 256] # 13 clases, 256 batch_size\n",
        "    # y --> [13]\n",
        "    max_preds = preds.argmax(dim=1, keepdim=True)  # obtener el índice de la máxima probabilidad # [256, 1] # [batch_size, 1]\n",
        "\n",
        "    non_pad_elements = (y != tok_stoi['<PAD>']).nonzero()  # preparar enmascaramiento para rellenos # [256, 1]\n",
        "\n",
        "    correct = max_preds[non_pad_elements].squeeze(1).eq(y[non_pad_elements])\n",
        "    # correct = (torch.round(torch.sigmoid(preds.permute(1,0))) == y).float() # usar sigmoid para la evaluación\n",
        "    # correct = (torch.round(F.softmax(preds)) == y).float() # usar softmax para la evaluación\n",
        "    # correct = [1 for i, j in zip(torch.argmax(y, dim=1), y) if i == j] # elegir el argumento máximo\n",
        "    return correct.sum() / len(correct)\n",
        "\n",
        "def epoch_time(start_time, end_time):\n",
        "    \"\"\"Obtener el tiempo en minutos y segundos\"\"\"\n",
        "    elapsed_time = end_time - start_time\n",
        "    elapsed_mins = int(elapsed_time / 60)\n",
        "    elapsed_secs = int(elapsed_time - (elapsed_mins * 60))\n",
        "    return elapsed_mins, elapsed_secs"
      ],
      "metadata": {
        "id": "_4pX_UeozMGx"
      },
      "execution_count": 16,
      "outputs": []
    },
    {
      "cell_type": "code",
      "source": [
        "# función del entrenamieto\n",
        "def train(model, iterator, optimizer, loss_function):\n",
        "    \"\"\"\n",
        "    Entrenar el modelo, recibe el conjunto de datos (iterator), optimizador, y la función de pérdida\n",
        "    Retorna el loss y el accuracy\n",
        "    \"\"\"\n",
        "    epoch_loss = 0\n",
        "    epoch_acc = 0\n",
        "    \n",
        "    model.train()\n",
        "    \n",
        "    # batch_count = 0\n",
        "    for x_text, y_label in iterator:\n",
        "        # x_text --> torch.Size([256, 40]) # [batch_size, tweets_length]\n",
        "        # y_label --> torch.Size([256, 1]) # [batch_size, label_length]\n",
        "\n",
        "        # x_text = torch.tensor(x_text, dtype=torch.long)\n",
        "        # y_label = torch.tensor(y_label, dtype=torch.long)\n",
        "        \n",
        "        # restablecer el gradiente\n",
        "        optimizer.zero_grad()\n",
        "        \n",
        "        # obtener las predicciones del batch en proceso\n",
        "        predictions, _ = model(x_text.permute(1, 0)) # x_text.permute(1, 0) --> torch.Size([40, 256])\n",
        "\n",
        "        target = y_label.squeeze(1) # torch.Size([256]\n",
        "        \n",
        "        # obtener la pérdida\n",
        "        loss = loss_function(predictions, target)\n",
        "        # loss = criterion(prediction, target) # este es el mío\n",
        "        \n",
        "        # calcular el accuracy\n",
        "        acc = accuracy(predictions, target)\n",
        "        \n",
        "        # Backpropagation\n",
        "        loss.backward()\n",
        "        \n",
        "        # Actualizar (optimizar) los pesos\n",
        "        optimizer.step()\n",
        "        \n",
        "        # Almacenar loss y accuracy\n",
        "        epoch_loss += loss.item()\n",
        "        epoch_acc += acc.item()\n",
        "\n",
        "        # batch_count += 1\n",
        "        # print (f\"Batch {batch_count}/{len(iterator)} Batch train loss: {loss.item()} Batch train acc: {acc.item()}\")\n",
        "        \n",
        "    return epoch_loss / len(iterator), epoch_acc / len(iterator)\n",
        "\n",
        "\n",
        "def evaluate(model, iterator, loss_function):\n",
        "    \"\"\"\n",
        "    Evaluar el conjunto de validación y/o el conjunto de prueba\n",
        "    Retorna el loss y accuracy\n",
        "    \"\"\"\n",
        "    epoch_loss = 0\n",
        "    epoch_acc = 0\n",
        "    \n",
        "    # indicar la evaluación del modelo\n",
        "    model.eval()\n",
        "    \n",
        "    # batch_count = 0\n",
        "\n",
        "    # No utilizar cálculos del gradiente\n",
        "    with torch.no_grad():\n",
        "    \n",
        "        for x_text, y_label in iterator:\n",
        "            # x_text --> torch.Size([256, 40]) # [batch_size, tweets_length]\n",
        "            # y_label --> torch.Size([256, 1]) # [batch_size, label_length]\n",
        "\n",
        "            # x_text = torch.tensor(x_text, dtype=torch.long)\n",
        "            # y_label = torch.tensor(y_label, dtype=torch.long)\n",
        "\n",
        "            predictions, _ = model(x_text.permute(1, 0)) # x_text.permute(1, 0) --> torch.Size([40, 256])\n",
        "            \n",
        "            target = y_label.squeeze(1) # torch.Size([256]\n",
        "            loss = loss_function(predictions, target)\n",
        "            \n",
        "            acc = accuracy(predictions, target)\n",
        "\n",
        "            epoch_loss += loss.item()\n",
        "            epoch_acc += acc.item()\n",
        "\n",
        "            # batch_count += 1\n",
        "            # print (f\"Batch {batch_count}/{len(iterator)} Batch valid loss: {loss.item()} Batch valid acc: {acc.item()}\")\n",
        "        \n",
        "    return epoch_loss / len(iterator), epoch_acc / len(iterator)\n",
        "\n",
        "\n",
        "def testing(model, iterator, loss_function):\n",
        "    \"\"\"\n",
        "    Evaluar el conjunto de de prueba\n",
        "    Retorna el loss, accuracy, y_pred y y_true para visualizar por clase \n",
        "    \"\"\"\n",
        "    epoch_loss = 0\n",
        "    epoch_acc = 0\n",
        "    \n",
        "    # indicar la evaluación del modelo\n",
        "    model.eval()\n",
        "    \n",
        "    # batch_count = 0\n",
        "\n",
        "    y_true, y_pred = [], []\n",
        "\n",
        "    # No utilizar cálculos del gradiente\n",
        "    with torch.no_grad():\n",
        "    \n",
        "        for x_text, y_label in iterator:\n",
        "            # x_text --> torch.Size([256, 40]) # [batch_size, tweets_length]\n",
        "            # y_label --> torch.Size([256, 1]) # [batch_size, label_length]\n",
        "\n",
        "            # x_text = torch.tensor(x_text, dtype=torch.long)\n",
        "            # y_label = torch.tensor(y_label, dtype=torch.long)\n",
        "\n",
        "            predictions, _ = model(x_text.permute(1, 0)) # x_text.permute(1, 0) --> torch.Size([40, 256])\n",
        "            \n",
        "            target = y_label.squeeze(1) # torch.Size([256]\n",
        "            loss = loss_function(predictions, target)\n",
        "            \n",
        "            acc = accuracy(predictions, target)\n",
        "\n",
        "            epoch_loss += loss.item()\n",
        "            epoch_acc += acc.item()\n",
        "\n",
        "            # print (f\"y_label --> {y_label.squeeze(1)}\\n{y_label.squeeze(1).shape}\")\n",
        "            # print (f\"predictions --> {predictions}\\n{predictions.shape}\")\n",
        "\n",
        "            # orlando = torch.argmax(predictions, dim=1)\n",
        "            # print (f\"orlando --> {orlando}\\n{orlando.shape}\")\n",
        "\n",
        "            y_true += list(target.cpu().numpy()) # [256, 1] --> [256]\n",
        "            y_pred += list(torch.argmax(predictions, dim=1).cpu().numpy()) # [256, 13] --> [256]\n",
        "\n",
        "            # batch_count += 1\n",
        "            # print (f\"Batch {batch_count}/{len(iterator)} Batch valid loss: {loss.item()} Batch valid acc: {acc.item()}\")\n",
        "        \n",
        "    return epoch_loss / len(iterator), epoch_acc / len(iterator), y_true, y_pred"
      ],
      "metadata": {
        "id": "MXlTMRz4zveR"
      },
      "execution_count": 17,
      "outputs": []
    },
    {
      "cell_type": "markdown",
      "source": [
        "### Realizar Entrenamiento y validar el modelo"
      ],
      "metadata": {
        "id": "FpL1gZNVOOS-"
      }
    },
    {
      "cell_type": "code",
      "source": [
        "# entrenamiento\n",
        "N_EPOCHS = 10\n",
        "# float('inf') actúa como un valor superior ilimitado para la comparación.\n",
        "# esto es útil para encontrar los valores más bajos\n",
        "best_valid_loss = float('inf')\n",
        "val_loss = []\n",
        "val_acc = []\n",
        "tr_loss = []\n",
        "tr_acc = []\n",
        "\n",
        "# ---------------------------------------------------------------------------------------\n",
        "# # verificar hardware disponible\n",
        "device = torch.device(\"cuda:0\" if torch.cuda.is_available() else \"cpu\")\n",
        "\n",
        "vocab_size = len(tok_vocabulary)\n",
        "embedding_dim = 100 # 100 # 50\n",
        "units = 64 # 256 # 64\n",
        "target_size = len(tag_vocabulary)\n",
        "num_layers = 5\n",
        "\n",
        "# # instanciar el modelo\n",
        "model = SentimentAnalysis_GRU(vocab_size, embedding_dim, units, batch_size, num_layers, target_size)\n",
        "model.to(device)\n",
        "\n",
        "print (model)\n",
        "\n",
        "print ('\\nIniciando entrenamiento...\\n')\n",
        "\n",
        "# #loss criterion and optimizer\n",
        "# loss-function = nn.CrossEntropyLoss()\n",
        "# optimizer = torch.optim.Adam(model.parameters())\n",
        "# ---------------------------------------------------------------------------------------\n",
        "\n",
        "\n",
        "lr = 0.003\n",
        "\n",
        "# definir optimizador\n",
        "optimizer = optim.Adam(model.parameters(), lr=lr) # default lr=0.001\n",
        "\n",
        "# definir la función de perdida\n",
        "loss_function = nn.CrossEntropyLoss(\n",
        "    ignore_index=tok_stoi['<PAD>']\n",
        ")\n",
        "\n",
        "for epoch in range(N_EPOCHS):\n",
        "    \n",
        "    # calcular el tiempo que tarda cada epoca\n",
        "    start_time = time.time() # inicializar\n",
        "    \n",
        "    # obtener el loss del conjunto de entrenamiento\n",
        "    train_loss, train_acc = train(model, trainloader, optimizer, loss_function)\n",
        "\n",
        "    # obtener el loss del conjunto de validación\n",
        "    valid_loss, valid_acc = evaluate(model, validloader, loss_function)\n",
        "    \n",
        "    end_time = time.time() # obtener el tiempo final\n",
        "    # obtener los minutos y segundos del tiempo de ejecución\n",
        "    epoch_mins, epoch_secs = epoch_time(start_time, end_time)\n",
        "    \n",
        "    # Almacenar las metricas del entrenamiento\n",
        "    val_loss.append(valid_loss)\n",
        "    val_acc.append(valid_acc)\n",
        "    tr_loss.append(train_loss)\n",
        "    tr_acc.append(train_acc)\n",
        "    \n",
        "    if valid_loss < best_valid_loss: # guardar el mejor modelo\n",
        "        best_valid_loss = valid_loss\n",
        "        torch.save(model.state_dict(), 'GRU_sentiment_analysis_model.pt')\n",
        "    \n",
        "    print(f'Epoch: {epoch+1:2} | Epoch Time: {epoch_mins}m {epoch_secs}s')\n",
        "    print(f'\\tTrain Loss: {train_loss:.3f} | Train Acc: {train_acc*100:.2f}%')\n",
        "    print(f'\\t Val. Loss: {valid_loss:.3f} |  Val. Acc: {valid_acc*100:.2f}%\\n')"
      ],
      "metadata": {
        "colab": {
          "base_uri": "https://localhost:8080/"
        },
        "id": "mhm8Xg2Ec28t",
        "outputId": "b6a30894-359a-4220-9197-9db349e6a1d6"
      },
      "execution_count": 18,
      "outputs": [
        {
          "output_type": "stream",
          "name": "stdout",
          "text": [
            "SentimentAnalysis_GRU(\n",
            "  (embedding): Embedding(46635, 100)\n",
            "  (dropout): Dropout(p=0.5, inplace=False)\n",
            "  (gru): GRU(100, 64, num_layers=5)\n",
            "  (fc): Linear(in_features=64, out_features=13, bias=True)\n",
            ")\n",
            "\n",
            "Iniciando entrenamiento...\n",
            "\n",
            "Epoch:  1 | Epoch Time: 0m 41s\n",
            "\tTrain Loss: 2.179 | Train Acc: 22.54%\n",
            "\t Val. Loss: 2.123 |  Val. Acc: 24.27%\n",
            "\n",
            "Epoch:  2 | Epoch Time: 0m 52s\n",
            "\tTrain Loss: 2.101 | Train Acc: 27.51%\n",
            "\t Val. Loss: 2.053 |  Val. Acc: 28.50%\n",
            "\n",
            "Epoch:  3 | Epoch Time: 0m 39s\n",
            "\tTrain Loss: 1.950 | Train Acc: 33.90%\n",
            "\t Val. Loss: 1.985 |  Val. Acc: 31.51%\n",
            "\n",
            "Epoch:  4 | Epoch Time: 0m 40s\n",
            "\tTrain Loss: 1.798 | Train Acc: 40.23%\n",
            "\t Val. Loss: 2.035 |  Val. Acc: 30.89%\n",
            "\n",
            "Epoch:  5 | Epoch Time: 0m 41s\n",
            "\tTrain Loss: 1.636 | Train Acc: 46.03%\n",
            "\t Val. Loss: 2.116 |  Val. Acc: 30.48%\n",
            "\n",
            "Epoch:  6 | Epoch Time: 0m 40s\n",
            "\tTrain Loss: 1.470 | Train Acc: 51.39%\n",
            "\t Val. Loss: 2.305 |  Val. Acc: 30.24%\n",
            "\n",
            "Epoch:  7 | Epoch Time: 0m 40s\n",
            "\tTrain Loss: 1.311 | Train Acc: 56.58%\n",
            "\t Val. Loss: 2.539 |  Val. Acc: 28.45%\n",
            "\n",
            "Epoch:  8 | Epoch Time: 0m 40s\n",
            "\tTrain Loss: 1.184 | Train Acc: 61.39%\n",
            "\t Val. Loss: 2.659 |  Val. Acc: 27.39%\n",
            "\n",
            "Epoch:  9 | Epoch Time: 0m 40s\n",
            "\tTrain Loss: 1.050 | Train Acc: 66.66%\n",
            "\t Val. Loss: 2.843 |  Val. Acc: 26.26%\n",
            "\n",
            "Epoch: 10 | Epoch Time: 0m 40s\n",
            "\tTrain Loss: 0.943 | Train Acc: 70.37%\n",
            "\t Val. Loss: 2.951 |  Val. Acc: 25.64%\n",
            "\n"
          ]
        }
      ]
    },
    {
      "cell_type": "markdown",
      "source": [
        "### Visualizar pérdidas y exactitud"
      ],
      "metadata": {
        "id": "vH-X_3RosR9y"
      }
    },
    {
      "cell_type": "code",
      "source": [
        "import matplotlib.pyplot as plt\n",
        "\n",
        "# Graficar accuracy y loss\n",
        "fig, ax = plt.subplots(1, 2, figsize=(15,5))\n",
        "ax[0].plot(tr_loss, label='Training loss')\n",
        "ax[0].plot(val_loss, label='Validation loss')\n",
        "ax[0].set_title('Losses')\n",
        "ax[0].set_xlabel('Epoch')\n",
        "ax[0].set_ylabel('Loss')\n",
        "ax[0].legend()\n",
        "ax[1].plot(tr_acc, label='Training accuracy')\n",
        "ax[1].plot(val_acc, label='Validation accuracy')\n",
        "ax[1].set_title('Accuracies')\n",
        "ax[1].set_xlabel('Epoch')\n",
        "ax[1].set_ylabel('Loss')\n",
        "plt.legend()\n",
        "plt.show()"
      ],
      "metadata": {
        "colab": {
          "base_uri": "https://localhost:8080/",
          "height": 350
        },
        "id": "u4mwaVtPsYo7",
        "outputId": "16272008-1207-42da-abb4-bed7fde6eeb0"
      },
      "execution_count": 19,
      "outputs": [
        {
          "output_type": "display_data",
          "data": {
            "image/png": "[encoded data removed]",
            "text/plain": [
              "<Figure size 1080x360 with 2 Axes>"
            ]
          },
          "metadata": {
            "needs_background": "light"
          }
        }
      ]
    },
    {
      "cell_type": "markdown",
      "source": [
        "### Validar con el conjunto de prueba"
      ],
      "metadata": {
        "id": "aKvhRoMussNj"
      }
    },
    {
      "cell_type": "code",
      "source": [
        "# Evaluarv el modelo con el conjunto de prueba (test)\n",
        "model.load_state_dict(torch.load('GRU_sentiment_analysis_model.pt'))\n",
        "\n",
        "test_loss, test_acc, y_true, y_pred = testing(model, testloader, loss_function)\n",
        "\n",
        "print(f'Test Loss: {test_loss:.3f} | Test Acc: {test_acc*100:.2f}%')"
      ],
      "metadata": {
        "colab": {
          "base_uri": "https://localhost:8080/"
        },
        "id": "RUivbK-Psv18",
        "outputId": "8c5bd8f8-918c-438b-85c2-9daba2de5171"
      },
      "execution_count": 20,
      "outputs": [
        {
          "output_type": "stream",
          "name": "stdout",
          "text": [
            "Test Loss: 2.000 | Test Acc: 30.56%\n"
          ]
        }
      ]
    },
    {
      "cell_type": "markdown",
      "source": [
        "### Visualizar resultados por clase"
      ],
      "metadata": {
        "id": "NAYKq7MWv2SU"
      }
    },
    {
      "cell_type": "code",
      "source": [
        "from sklearn.metrics import classification_report\n",
        "from sklearn.metrics import accuracy_score\n",
        "\n",
        "print( classification_report(y_true, y_pred, target_names=tag_vocabulary) )"
      ],
      "metadata": {
        "colab": {
          "base_uri": "https://localhost:8080/"
        },
        "id": "WULrvPECv8Aq",
        "outputId": "48fee2b1-33d4-4d15-aa17-d0aa6fa43291"
      },
      "execution_count": 21,
      "outputs": [
        {
          "output_type": "stream",
          "name": "stdout",
          "text": [
            "              precision    recall  f1-score   support\n",
            "\n",
            "       anger       0.00      0.00      0.00        13\n",
            "     boredom       0.00      0.00      0.00        21\n",
            "       empty       0.00      0.00      0.00        96\n",
            "  enthusiasm       0.00      0.00      0.00        91\n",
            "         fun       0.00      0.00      0.00       204\n",
            "   happiness       0.27      0.19      0.22       601\n",
            "        hate       0.00      0.00      0.00       156\n",
            "        love       0.28      0.41      0.34       430\n",
            "     neutral       0.34      0.45      0.38       980\n",
            "      relief       0.00      0.00      0.00       178\n",
            "     sadness       0.48      0.02      0.04       596\n",
            "    surprise       0.00      0.00      0.00       259\n",
            "       worry       0.30      0.68      0.41       983\n",
            "\n",
            "    accuracy                           0.30      4608\n",
            "   macro avg       0.13      0.13      0.11      4608\n",
            "weighted avg       0.26      0.30      0.23      4608\n",
            "\n"
          ]
        },
        {
          "output_type": "stream",
          "name": "stderr",
          "text": [
            "/usr/local/lib/python3.7/dist-packages/sklearn/metrics/_classification.py:1318: UndefinedMetricWarning: Precision and F-score are ill-defined and being set to 0.0 in labels with no predicted samples. Use `zero_division` parameter to control this behavior.\n",
            "  _warn_prf(average, modifier, msg_start, len(result))\n",
            "/usr/local/lib/python3.7/dist-packages/sklearn/metrics/_classification.py:1318: UndefinedMetricWarning: Precision and F-score are ill-defined and being set to 0.0 in labels with no predicted samples. Use `zero_division` parameter to control this behavior.\n",
            "  _warn_prf(average, modifier, msg_start, len(result))\n",
            "/usr/local/lib/python3.7/dist-packages/sklearn/metrics/_classification.py:1318: UndefinedMetricWarning: Precision and F-score are ill-defined and being set to 0.0 in labels with no predicted samples. Use `zero_division` parameter to control this behavior.\n",
            "  _warn_prf(average, modifier, msg_start, len(result))\n"
          ]
        }
      ]
    }
  ]
}