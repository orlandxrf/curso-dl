{
  "nbformat": 4,
  "nbformat_minor": 0,
  "metadata": {
    "colab": {
      "name": "6d_Tarea4.ipynb",
      "provenance": [],
      "collapsed_sections": [],
      "authorship_tag": "ABX9TyO2jvOMlK4EvL5QIu4x8EWO",
      "include_colab_link": true
    },
    "kernelspec": {
      "name": "python3",
      "display_name": "Python 3"
    },
    "language_info": {
      "name": "python"
    }
  },
  "cells": [
    {
      "cell_type": "markdown",
      "metadata": {
        "id": "view-in-github",
        "colab_type": "text"
      },
      "source": [
        "<a href=\"https://colab.research.google.com/github/orlandxrf/curso-dl/blob/main/notebooks/6d_Tarea4.ipynb\" target=\"_parent\"><img src=\"https://colab.research.google.com/assets/colab-badge.svg\" alt=\"Open In Colab\"/></a>"
      ]
    },
    {
      "cell_type": "markdown",
      "source": [
        "# Tarea 4\n",
        "\n",
        "\n",
        "1.   Elegir uno de los dos conjuntos de datos\n",
        "2.   Implementar una CNN para la clasificación\n",
        "3.   Mencionar con celdas de texto:\n",
        "     * Conjunto de datos utilizado\n",
        "     * Definición de la CNN (modelo)\n",
        "     * Entrenamiento del modelo\n",
        "     * Evaluación del modelo\n",
        "4.   Calcular la Tabla de parametros (complejidad del modelo)\n",
        "     *   Comprobar con la bibliotea `torchsummary`\n",
        "5.   Proponer un diseño diferente al visto en clase\n",
        "6.   Visualizar gráficas para:\n",
        "     *   Train Loss y Validation Loss\n",
        "     *   Train Acc y Validation Acc\n",
        "7.   Obtener accuracy del conjunto de pruebas\n",
        "\n",
        "**Fecha de entrega (Miércoles 23 a máximo a las 10 pm)**\n",
        "\n",
        "**Nombrar el notebook**: `Tarea_4_Apellido_Paterno_Apellido_Materno_Nombre(s).ipynb`\n",
        "\n"
      ],
      "metadata": {
        "id": "sYPDU_OBBnPO"
      }
    },
    {
      "cell_type": "markdown",
      "source": [
        "## 1. Clasificación de Imágenes de frutas\n",
        "El conjunto de datos de frutas se puede descargar de [Frutas](https://www.kaggle.com/moltean/fruits) o de este [repositorio](https://github.com/Horea94/Fruit-Images-Dataset)\n",
        "\n",
        "\n",
        "* El número total de imágenes: 90,483\n",
        "* Training set: 67,692 imágenes (una fruta o vegetal por imagen).\n",
        "* Test set: 22,688 imágenes (una fruta o vegetal por imagen).\n",
        "* Número de clases: 131 (frutas y vegetales).\n",
        "* Tamaño de cada imagen: 100x100 pixeles."
      ],
      "metadata": {
        "id": "9-60A9qqvG2f"
      }
    },
    {
      "cell_type": "markdown",
      "source": [
        "## 2. Clasificación de Imágenes de gatos y perros\n",
        "\n",
        "Se puede descargar el conjunto de datos en [Dogs vs. Cats](https://www.kaggle.com/c/dogs-vs-cats/data)\n",
        "\n",
        "* Train set: carpeta con 25,000 imágenes de perros y gatos con la etiqueta en el nombre de la imagen, es decir cat.0.jpg, dog.0.jpg (1 = perro, 0 = gato)\n",
        "* Test set: carpeta con 12,500 imágenes de perros y gatos para usar como conjunto de datos de prueba\n",
        "* Las imágenes son RGB y tienen diferentes dimensiones."
      ],
      "metadata": {
        "id": "kfGOmjR9ASL0"
      }
    }
  ]
}