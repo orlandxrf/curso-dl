{
  "nbformat": 4,
  "nbformat_minor": 0,
  "metadata": {
    "colab": {
      "name": "7b_TextCNN_IMDB.ipynb",
      "provenance": [],
      "collapsed_sections": [],
      "authorship_tag": "ABX9TyPK4Oc0FWVs8eXwJOxYayVt",
      "include_colab_link": true
    },
    "kernelspec": {
      "name": "python3",
      "display_name": "Python 3"
    },
    "language_info": {
      "name": "python"
    }
  },
  "cells": [
    {
      "cell_type": "markdown",
      "metadata": {
        "id": "view-in-github",
        "colab_type": "text"
      },
      "source": [
        "<a href=\"https://colab.research.google.com/github/orlandxrf/curso-dl/blob/main/notebooks/7b_TextCNN_IMDB.ipynb\" target=\"_parent\"><img src=\"https://colab.research.google.com/assets/colab-badge.svg\" alt=\"Open In Colab\"/></a>"
      ]
    },
    {
      "cell_type": "code",
      "execution_count": null,
      "metadata": {
        "id": "daZFTYiwumHn"
      },
      "outputs": [],
      "source": [
        "import torch\n",
        "# from torchtext import data # no funciiona correctamente\n",
        "from torchtext.legacy import data\n",
        "from torchtext.legacy import datasets\n",
        "import torch.nn as nn\n",
        "import torch.nn.functional as F\n",
        "import torch.optim as optim\n",
        "import random\n",
        "import numpy as np\n",
        "import spacy\n",
        "import time\n",
        "import matplotlib.pyplot as plt\n",
        "\n",
        "# cargar el idioma del modelo, en este caso inglés\n",
        "nlp = spacy.load('en')"
      ]
    },
    {
      "cell_type": "markdown",
      "source": [
        "# Prepara los datos\n",
        "Usar `torchtext.legacy` para crear instancias de `data.Field` que servirán preprocesar los conjuntos de datos.<br>\n",
        "<br>\n",
        "Para más información ver [data.Field()](https://torchtext.readthedocs.io/en/latest/data.html#torchtext.data.Field)"
      ],
      "metadata": {
        "id": "G1_kWndxC6WJ"
      }
    },
    {
      "cell_type": "code",
      "source": [
        "# Iniciar instancias de clase data.Field con tokenizadores\n",
        "# utilizar spacy para la tokenización\n",
        "TEXT = data.Field(tokenize='spacy', batch_first=True, lower=True)\n",
        "LABEL = data.LabelField(dtype = torch.float)\n",
        "\n",
        "# cargar el conjunto de datos IMDB de torchtext\n",
        "train_data, test_data = datasets.IMDB.splits(TEXT, LABEL)\n",
        "train_data, valid_data = train_data.split()"
      ],
      "metadata": {
        "id": "R-NubFlTuuZA",
        "colab": {
          "base_uri": "https://localhost:8080/"
        },
        "outputId": "2eda83c0-c56f-45e7-f4b2-98cce9e7aeaa"
      },
      "execution_count": null,
      "outputs": [
        {
          "output_type": "stream",
          "name": "stdout",
          "text": [
            "downloading aclImdb_v1.tar.gz\n"
          ]
        },
        {
          "output_type": "stream",
          "name": "stderr",
          "text": [
            "100%|██████████| 84.1M/84.1M [00:07<00:00, 11.1MB/s]\n"
          ]
        }
      ]
    },
    {
      "cell_type": "code",
      "source": [
        "print (f\"Train:\\t{len(train_data.examples):,}\")\n",
        "print (f\"Validation:\\t{len(valid_data.examples):,}\")\n",
        "print (f\"Test:\\t{len(test_data.examples):,}\")\n",
        "\n",
        "print (f\"\\nTag:\\t{test_data.examples[0].label}\")\n",
        "print (f\"Review:\\t{test_data.examples[0].text}\")"
      ],
      "metadata": {
        "colab": {
          "base_uri": "https://localhost:8080/"
        },
        "id": "kU_IA7jnwMaR",
        "outputId": "b5ce6299-0c39-458c-ec27-dfea2a164fcb"
      },
      "execution_count": null,
      "outputs": [
        {
          "output_type": "stream",
          "name": "stdout",
          "text": [
            "Train:\t17,500\n",
            "Validation:\t7,500\n",
            "Test:\t25,000\n",
            "\n",
            "Tag:\tpos\n",
            "Review:\t['i', 'rarely', 'watch', 'short', 'films', 'as', 'they', 'only', 'seem', 'to', 'be', 'on', 'late', 'night', 'television', 'and', 'are', 'not', 'publicised', 'enough', 'for', 'me', 'to', 'know', 'which', 'short', 'films', 'are', 'worth', 'while', '.', 'as', 'the', 'room', 'is', 'an', 'extra', 'feature', 'on', 'the', 'hitcher', 'dvd', ',', 'it', 'gave', 'me', 'a', 'wonderful', 'opportunity', 'to', 'witness', 'a', 'high', 'quality', 'short', 'with', 'rutger', 'hauer', 'in', 'excellent', 'form.<br', '/><br', '/>artistically', 'shot', 'in', 'black', 'and', 'white', ',', 'the', 'room', 'explores', 'a', 'man', \"'s\", 'obsession', 'with', 'a', 'room', 'he', 'passed', 'by', 'in', 'the', 'early', 'stages', 'of', 'adulthood', 'and', 'is', 'expressed', 'in', 'a', 'documentary/', 'interview', 'style', '.', 'the', 'dialogue', 'is', 'very', 'poetic', ',', 'typical', 'of', 'a', 'man', 'expressing', 'his', 'feelings', 'for', 'a', 'woman', ',', 'but', 'is', 'also', 'juxtaposed', 'with', 'ramblings', 'and', 'occasional', 'deficiencies', 'in', 'fluency', '.', 'this', 'adds', 'great', 'realism', 'and', 'depth', 'to', 'hauer', \"'s\", 'performance', 'who', 'is', 'perfect', 'as', 'an', 'eccentric', 'man', 'with', 'most', 'of', 'his', 'life', 'behind', 'him.<br', '/><br', '/>the', 'piano', 'music', 'that', 'harry', '(', 'hauer', ')', 'hears', 'from', 'the', 'room', 'is', 'constantly', 'in', 'the', 'background', 'and', 'enhances', 'the', 'touching', 'atmosphere', 'of', 'the', 'film', 'and', 'intensifies', 'the', 'feelings', 'of', 'sadness', 'expressed', 'by', 'hauer.<br', '/><br', '/>hauer', 'proves', 'he', 'is', 'more', 'than', 'just', 'a', 'psychotic', 'hollywood', 'bad', 'guy', 'with', 'this', 'role', 'and', 'perfectly', 'displays', 'his', 'more', 'sensitive', 'side', '.', 'mattijn', 'hartemink', 'is', 'also', 'effective', 'in', 'the', 'flashback', 'scenes', 'as', 'young', 'harry', 'with', 'a', 'silent', 'role', '.', 'he', 'shows', 'how', 'affected', 'he', 'is', 'by', 'the', 'music', 'and', 'his', 'disappointment', 'when', 'it', 'goes', 'away.<br', '/><br', '/>the', 'ending', 'is', 'prophetic', 'and', 'leaves', 'you', 'in', 'a', 'reflective', 'mood', 'longer', 'than', 'many', 'feature', 'length', 'films', '.', 'a', 'very', 'good', 'effort', '.']\n"
          ]
        }
      ]
    },
    {
      "cell_type": "markdown",
      "source": [
        "### Descargar, utilizar embeddings y Construir vocabularios"
      ],
      "metadata": {
        "id": "cPP9W8RBz23m"
      }
    },
    {
      "cell_type": "code",
      "source": [
        "# seleccionar las 30,000 palabras más importantes del vocabulario\n",
        "MAX_VOCAB_SIZE = 30000\n",
        "\n",
        "# construir vocabaulario\n",
        "TEXT.build_vocab(train_data, \n",
        "                 max_size = MAX_VOCAB_SIZE, \n",
        "                 # descargar y cargar embeddings pre-entredados\n",
        "                 vectors = 'glove.6B.100d', # glove.6B.50d\n",
        "                 # definir los pesos para las palabras no encontradas en los embeddings con: un tensor de números aleatorios extraídos de distribuciones normales\n",
        "                 unk_init = torch.Tensor.normal_)\n",
        "\n",
        "# construir el vocabulario de clases o etiquetas\n",
        "LABEL.build_vocab(train_data)\n",
        "\n"
      ],
      "metadata": {
        "id": "WIfNmHmKv-Jy",
        "colab": {
          "base_uri": "https://localhost:8080/"
        },
        "outputId": "f7e68bad-6ca9-433f-f6b4-ed38d4aa4cf1"
      },
      "execution_count": null,
      "outputs": [
        {
          "output_type": "stream",
          "name": "stderr",
          "text": [
            ".vector_cache/glove.6B.zip: 862MB [02:42, 5.30MB/s]                           \n",
            "100%|█████████▉| 399999/400000 [00:21<00:00, 18182.17it/s]\n"
          ]
        }
      ]
    },
    {
      "cell_type": "code",
      "source": [
        "# print (f\"Palabras Frecuentes: {TEXT.vocab.freqs}\")"
      ],
      "metadata": {
        "id": "ZpHhOfG_0U0n"
      },
      "execution_count": 1,
      "outputs": []
    },
    {
      "cell_type": "code",
      "source": [
        "BATCH_SIZE = 64\n",
        "\n",
        "device = torch.device('cuda' if torch.cuda.is_available() else 'cpu')\n",
        "\n",
        "print (f'hardware:\\t{device}')\n",
        "\n",
        "# crear iteradores para los tres conjuntos de datos\n",
        "train_iterator, valid_iterator, test_iterator = data.BucketIterator.splits(\n",
        "  (train_data, valid_data, test_data), \n",
        "  batch_size = BATCH_SIZE, \n",
        "  device = device)"
      ],
      "metadata": {
        "colab": {
          "base_uri": "https://localhost:8080/"
        },
        "id": "MAuuPETjySM6",
        "outputId": "ddd52e1a-6fae-4b76-8e9a-876af8a2d3ab"
      },
      "execution_count": null,
      "outputs": [
        {
          "output_type": "stream",
          "name": "stdout",
          "text": [
            "hardware:\tcuda\n"
          ]
        }
      ]
    },
    {
      "cell_type": "markdown",
      "source": [
        "## Definir el modelo "
      ],
      "metadata": {
        "id": "nvr1E7aLThsz"
      }
    },
    {
      "cell_type": "code",
      "source": [
        "class CNN_Text(nn.Module):\n",
        "    ''' Define network architecture and forward path. '''\n",
        "    def __init__(self, vocab_size, \n",
        "                 vector_size, n_filters, \n",
        "                 filter_sizes, output_dim, \n",
        "                 dropout, pad_idx):\n",
        "        \n",
        "        super().__init__()\n",
        "        # crear embeddings de palabras a partir de las palabras de entrada\n",
        "        self.embedding = nn.Embedding(vocab_size, vector_size, padding_idx=pad_idx)\n",
        "        \n",
        "        # especificar convoluciones con filtros de diferentes tamaños\n",
        "        self.convs = nn.ModuleList([nn.Conv1d(in_channels = 1, \n",
        "                                              out_channels = n_filters, \n",
        "                                              kernel_size = (fs, vector_size)) \n",
        "                                    for fs in filter_sizes])\n",
        "        \n",
        "        # agregar una capa completamente conectada para predicciones finales\n",
        "        self.linear = nn.Linear(len(filter_sizes) * n_filters, output_dim)\n",
        "        \n",
        "        # definir Dropout\n",
        "        self.dropout = nn.Dropout(dropout)\n",
        "    \n",
        "    def forward(self, text):       \n",
        "        # obtener los embeddings de palabras\n",
        "        embedded = self.embedding(text).unsqueeze(1)\n",
        "        \n",
        "        # realizar convoluciones y aplicar funciones de activación\n",
        "        conved = [F.relu(conv(embedded)).squeeze(3) for conv in self.convs]\n",
        "            \n",
        "        # aplicar max pooling para reducir la dimensionalidad\n",
        "        pooled = [F.max_pool1d(conv, conv.shape[2]).squeeze(2) for conv in conved]\n",
        "        \n",
        "        # concatenar poolings y aplicar Dropout\n",
        "        cat = self.dropout(torch.cat(pooled, dim = 1))\n",
        "\n",
        "        # capa de salida totalemente conectada\n",
        "        return self.linear(cat)"
      ],
      "metadata": {
        "id": "SmBt0CobzJ6S"
      },
      "execution_count": null,
      "outputs": []
    },
    {
      "cell_type": "markdown",
      "source": [
        "## Inicializar datos para el modelo"
      ],
      "metadata": {
        "id": "_mjKUDN9EDph"
      }
    },
    {
      "cell_type": "code",
      "source": [
        "# longitud del vocabulario\n",
        "INPUT_DIM = len(TEXT.vocab)\n",
        "print (f\"Longitud del vocabulario:\\t{INPUT_DIM:,}\")\n",
        "\n",
        "# tamaño del vector de embeddings seleccionado\n",
        "EMBEDDING_DIM = 100\n",
        "\n",
        "# número de filtros\n",
        "N_FILTERS = 100\n",
        "\n",
        "# \"n-gramas\" para ser analizados usando filtros\n",
        "FILTER_SIZES = [1, 2, 3, 4, 5] # kerneles\n",
        "\n",
        "# salida de la capa lineal (densa)\n",
        "OUTPUT_DIM = 1\n",
        "\n",
        "# probabilidad del Dropout\n",
        "DROPOUT = 0.5"
      ],
      "metadata": {
        "id": "qhXD4dixzRoZ",
        "colab": {
          "base_uri": "https://localhost:8080/"
        },
        "outputId": "408c29bf-c956-4c25-9d59-1fcb8415b95e"
      },
      "execution_count": null,
      "outputs": [
        {
          "output_type": "stream",
          "name": "stdout",
          "text": [
            "Longitud del vocabulario:\t30,002\n"
          ]
        }
      ]
    },
    {
      "cell_type": "code",
      "source": [
        "# definir la cadena 'UNK'\n",
        "UNK_IDX = TEXT.vocab.stoi[TEXT.unk_token]\n",
        "\n",
        "# definir la cadena \"<pad>\"\n",
        "PAD_IDX = TEXT.vocab.stoi[TEXT.pad_token]\n",
        "\n",
        "# inicializar el modelo\n",
        "model = CNN_Text(INPUT_DIM, EMBEDDING_DIM, N_FILTERS, FILTER_SIZES, OUTPUT_DIM, DROPOUT, PAD_IDX)\n",
        "\n",
        "# cargar los embeddings pre-entrenados de GloVe\n",
        "model.embedding.weight.data.copy_(TEXT.vocab.vectors)\n",
        "\n",
        "# definir en cero a los pesos iniciales de las palabras desconocidas (UNK) y aquellas para rellenar (PAD)\n",
        "model.embedding.weight.data[UNK_IDX] = torch.zeros(EMBEDDING_DIM)\n",
        "model.embedding.weight.data[PAD_IDX] = torch.zeros(EMBEDDING_DIM)\n",
        "\n",
        "model = model.to(device)\n",
        "\n",
        "print (model)"
      ],
      "metadata": {
        "id": "_ppmmhTxzWvJ",
        "colab": {
          "base_uri": "https://localhost:8080/"
        },
        "outputId": "62d6cb22-1c92-48b4-f3c4-db58e06d6ad7"
      },
      "execution_count": null,
      "outputs": [
        {
          "output_type": "stream",
          "name": "stdout",
          "text": [
            "CNN_Text(\n",
            "  (embedding): Embedding(30002, 100, padding_idx=1)\n",
            "  (convs): ModuleList(\n",
            "    (0): Conv1d(1, 100, kernel_size=(1, 100), stride=(1,))\n",
            "    (1): Conv1d(1, 100, kernel_size=(2, 100), stride=(1,))\n",
            "    (2): Conv1d(1, 100, kernel_size=(3, 100), stride=(1,))\n",
            "    (3): Conv1d(1, 100, kernel_size=(4, 100), stride=(1,))\n",
            "    (4): Conv1d(1, 100, kernel_size=(5, 100), stride=(1,))\n",
            "  )\n",
            "  (linear): Linear(in_features=500, out_features=1, bias=True)\n",
            "  (dropout): Dropout(p=0.5, inplace=False)\n",
            ")\n"
          ]
        }
      ]
    },
    {
      "cell_type": "markdown",
      "source": [
        "# Definir funciones para entrenamiento"
      ],
      "metadata": {
        "id": "ICpdLnRjzr5i"
      }
    },
    {
      "cell_type": "code",
      "source": [
        "# definir funciones para utilizar en el entrenamiento y evaluación\n",
        "def accuracy(preds, y):\n",
        "    \"\"\"Retorna el accuracy por batch\"\"\"\n",
        "    correct = (torch.round(torch.sigmoid(preds)) == y).float() \n",
        "    return correct.sum() / len(correct)\n",
        "\n",
        "def epoch_time(start_time, end_time):\n",
        "    \"\"\"Obtener el tiempo en minutos y segundos\"\"\"\n",
        "    elapsed_time = end_time - start_time\n",
        "    elapsed_mins = int(elapsed_time / 60)\n",
        "    elapsed_secs = int(elapsed_time - (elapsed_mins * 60))\n",
        "    return elapsed_mins, elapsed_secs"
      ],
      "metadata": {
        "id": "_4pX_UeozMGx"
      },
      "execution_count": null,
      "outputs": []
    },
    {
      "cell_type": "code",
      "source": [
        "# función del entrenamieto\n",
        "def train(model, iterator, optimizer, loss_function):\n",
        "    \"\"\"\n",
        "    Entrenar el modelo, recibe el conjunto de datos (iterator), optimizador, y la función de pérdida\n",
        "    Retorna el loss y el accuracy\n",
        "    \"\"\"\n",
        "    epoch_loss = 0\n",
        "    epoch_acc = 0\n",
        "    \n",
        "    model.train()\n",
        "    \n",
        "    for batch in iterator:\n",
        "        \n",
        "        # restablecer el gradiente\n",
        "        optimizer.zero_grad()\n",
        "        \n",
        "        # obtener las predicciones del batch en proceso\n",
        "        predictions = model(batch.text).squeeze(1)\n",
        "        \n",
        "        # obtener la pérdida \n",
        "        loss = loss_function(predictions, batch.label)\n",
        "        \n",
        "        # calcular el accuracy\n",
        "        acc = accuracy(predictions, batch.label)\n",
        "        \n",
        "        # Backpropagation\n",
        "        loss.backward()\n",
        "        \n",
        "        # Actualizar (optimizar) los pesos\n",
        "        optimizer.step()\n",
        "        \n",
        "        # Almacenar loss y accuracy\n",
        "        epoch_loss += loss.item()\n",
        "        epoch_acc += acc.item()\n",
        "        \n",
        "    return epoch_loss / len(iterator), epoch_acc / len(iterator)\n",
        "\n",
        "\n",
        "def evaluate(model, iterator, loss_function):\n",
        "    \"\"\"\n",
        "    Evaluar el conjunto de validación y/o el conjunto de prueba\n",
        "    Retorna el loss y accuracy\n",
        "    \"\"\"\n",
        "    epoch_loss = 0\n",
        "    epoch_acc = 0\n",
        "    \n",
        "    # indicar la evaluación del modelo\n",
        "    model.eval()\n",
        "    \n",
        "    # No utilizar cálculos del gradiente\n",
        "    with torch.no_grad():\n",
        "    \n",
        "        for batch in iterator:\n",
        "\n",
        "            predictions = model(batch.text).squeeze(1)\n",
        "            \n",
        "            loss = loss_function(predictions, batch.label)\n",
        "            \n",
        "            acc = accuracy(predictions, batch.label)\n",
        "\n",
        "            epoch_loss += loss.item()\n",
        "            epoch_acc += acc.item()\n",
        "        \n",
        "    return epoch_loss / len(iterator), epoch_acc / len(iterator)"
      ],
      "metadata": {
        "id": "MXlTMRz4zveR"
      },
      "execution_count": null,
      "outputs": []
    },
    {
      "cell_type": "markdown",
      "source": [
        "# Entrenamiento"
      ],
      "metadata": {
        "id": "puGpvobD-2nK"
      }
    },
    {
      "cell_type": "code",
      "source": [
        "# definir optimizador\n",
        "optimizer = optim.Adam(model.parameters())\n",
        "\n",
        "# definir la función de perdida\n",
        "loss_function = nn.BCEWithLogitsLoss()\n",
        "\n",
        "# instanciar el modelo y el hardware a utilizar\n",
        "model = model.to(device)\n",
        "\n",
        "# \n",
        "loss_function = loss_function.to(device)"
      ],
      "metadata": {
        "id": "bbiOOZZNzzlJ"
      },
      "execution_count": null,
      "outputs": []
    },
    {
      "cell_type": "code",
      "source": [
        "# entrenamiento\n",
        "N_EPOCHS = 5\n",
        "# float('inf') actúa como un valor superior ilimitado para la comparación.\n",
        "# esto es útil para encontrar los valores más bajos para algo\n",
        "best_valid_loss = float('inf')\n",
        "val_loss = []\n",
        "val_acc = []\n",
        "tr_loss = []\n",
        "tr_acc = []\n",
        "\n",
        "for epoch in range(N_EPOCHS):\n",
        "    \n",
        "    # calcular el tiempo que tarda cada epoca\n",
        "    start_time = time.time() # inicializar\n",
        "    \n",
        "    # obtener el loss del conjunto de entrenamiento\n",
        "    train_loss, train_acc = train(model, train_iterator, optimizer, loss_function)\n",
        "\n",
        "    # obtener el loss del conjunto de validación\n",
        "    valid_loss, valid_acc = evaluate(model, valid_iterator, loss_function)\n",
        "    \n",
        "    end_time = time.time() # obtener el tiempo final\n",
        "    # obtener los minutos y segundos del tiempo de ejecución\n",
        "    epoch_mins, epoch_secs = epoch_time(start_time, end_time)\n",
        "    \n",
        "    # Almacenar las metricas del entrenamiento\n",
        "    val_loss.append(valid_loss)\n",
        "    val_acc.append(valid_acc)\n",
        "    tr_loss.append(train_loss)\n",
        "    tr_acc.append(train_acc)\n",
        "    \n",
        "    if valid_loss < best_valid_loss: # guardar el mejor modelo\n",
        "        best_valid_loss = valid_loss\n",
        "        torch.save(model.state_dict(), 'CNN-model.pt')\n",
        "    \n",
        "    print(f'Epoch: {epoch+1:2} | Epoch Time: {epoch_mins}m {epoch_secs}s')\n",
        "    print(f'\\tTrain Loss: {train_loss:.3f} | Train Acc: {train_acc*100:.2f}%')\n",
        "    print(f'\\t Val. Loss: {valid_loss:.3f} |  Val. Acc: {valid_acc*100:.2f}%')"
      ],
      "metadata": {
        "colab": {
          "base_uri": "https://localhost:8080/"
        },
        "id": "S4Bghl_vz4Z4",
        "outputId": "52a52dc0-f16d-4ba7-bdb8-1aeac64f820f"
      },
      "execution_count": null,
      "outputs": [
        {
          "output_type": "stream",
          "name": "stdout",
          "text": [
            "Epoch:  1 | Epoch Time: 6m 55s\n",
            "\tTrain Loss: 0.555 | Train Acc: 69.48%\n",
            "\t Val. Loss: 0.379 |  Val. Acc: 83.52%\n",
            "Epoch:  2 | Epoch Time: 6m 47s\n",
            "\tTrain Loss: 0.323 | Train Acc: 86.27%\n",
            "\t Val. Loss: 0.288 |  Val. Acc: 87.55%\n",
            "Epoch:  3 | Epoch Time: 6m 49s\n",
            "\tTrain Loss: 0.230 | Train Acc: 90.84%\n",
            "\t Val. Loss: 0.284 |  Val. Acc: 88.14%\n",
            "Epoch:  4 | Epoch Time: 6m 50s\n",
            "\tTrain Loss: 0.158 | Train Acc: 94.03%\n",
            "\t Val. Loss: 0.258 |  Val. Acc: 89.32%\n",
            "Epoch:  5 | Epoch Time: 6m 46s\n",
            "\tTrain Loss: 0.098 | Train Acc: 96.74%\n",
            "\t Val. Loss: 0.302 |  Val. Acc: 88.30%\n"
          ]
        }
      ]
    },
    {
      "cell_type": "code",
      "source": [
        "# Graficar accuracy y loss\n",
        "fig, ax = plt.subplots(1, 2, figsize=(15,5))\n",
        "ax[0].plot(val_loss, label='Validation loss')\n",
        "ax[0].plot(tr_loss, label='Training loss')\n",
        "ax[0].set_title('Losses')\n",
        "ax[0].set_xlabel('Epoch')\n",
        "ax[0].set_ylabel('Loss')\n",
        "ax[0].legend()\n",
        "ax[1].plot(val_acc, label='Validation accuracy')\n",
        "ax[1].plot(tr_acc, label='Training accuracy')\n",
        "ax[1].set_title('Accuracies')\n",
        "ax[1].set_xlabel('Epoch')\n",
        "ax[1].set_ylabel('Loss')\n",
        "plt.legend()\n",
        "plt.show()"
      ],
      "metadata": {
        "colab": {
          "base_uri": "https://localhost:8080/",
          "height": 350
        },
        "id": "_lx6V_BW0GSA",
        "outputId": "2166def8-2a40-44f3-d10b-9101d3d5da8e"
      },
      "execution_count": null,
      "outputs": [
        {
          "output_type": "display_data",
          "data": {
            "image/png": "[encoded data removed]",
            "text/plain": [
              "<Figure size 1080x360 with 2 Axes>"
            ]
          },
          "metadata": {
            "needs_background": "light"
          }
        }
      ]
    },
    {
      "cell_type": "markdown",
      "source": [
        "### Pruebas\n",
        "con batch size = 64\n",
        "Con embeddings de longitud 50: Test Loss: 0.333 | Test Acc: 86.00%<br>\n",
        "Overfitting en el epoch 2 o 3<br>\n",
        "<br>\n",
        "Con batch de 128, embeddings=100\n",
        "Test Loss: 0.331 | Test Acc: 85.88%<br>\n",
        "<br>\n",
        "Con batch=64, embeddings=100,<br>\n",
        "Test Loss: 0.311 | Test Acc: 86.71%<br>\n",
        "<br>"
      ],
      "metadata": {
        "id": "64TekBoLA8zt"
      }
    },
    {
      "cell_type": "code",
      "source": [
        "# Evaluar el modelo con el conjunto de prueba (test)\n",
        "model.load_state_dict(torch.load('CNN-model.pt'))\n",
        "\n",
        "test_loss, test_acc = evaluate(model, test_iterator, loss_function)\n",
        "\n",
        "print(f'Test Loss: {test_loss:.3f} | Test Acc: {test_acc*100:.2f}%')"
      ],
      "metadata": {
        "colab": {
          "base_uri": "https://localhost:8080/"
        },
        "id": "VHisItyB0JaQ",
        "outputId": "5bde9820-a200-48cd-9ce9-4e8dac3acb53"
      },
      "execution_count": null,
      "outputs": [
        {
          "output_type": "stream",
          "name": "stdout",
          "text": [
            "Test Loss: 0.286 | Test Acc: 88.21%\n"
          ]
        }
      ]
    }
  ]
}