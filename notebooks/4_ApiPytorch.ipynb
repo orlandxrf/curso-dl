{
  "nbformat": 4,
  "nbformat_minor": 0,
  "metadata": {
    "colab": {
      "name": "4_ApiPytorch.ipynb",
      "provenance": [],
      "authorship_tag": "ABX9TyP3cBc051zA/EV7Cj03z5Yq",
      "include_colab_link": true
    },
    "kernelspec": {
      "name": "python3",
      "display_name": "Python 3"
    },
    "language_info": {
      "name": "python"
    }
  },
  "cells": [
    {
      "cell_type": "markdown",
      "metadata": {
        "id": "view-in-github",
        "colab_type": "text"
      },
      "source": [
        "<a href=\"https://colab.research.google.com/github/orlandxrf/curso-dl/blob/main/notebooks/4_ApiPytorch.ipynb\" target=\"_parent\"><img src=\"https://colab.research.google.com/assets/colab-badge.svg\" alt=\"Open In Colab\"/></a>"
      ]
    },
    {
      "cell_type": "markdown",
      "source": [
        "# APIs de Pytorch\n",
        "A continuación se describen las apis que se utilizarán para la construcción de redes neuronales"
      ],
      "metadata": {
        "id": "SAgI5tpnkirh"
      }
    },
    {
      "cell_type": "markdown",
      "source": [
        "## Bibliotecas"
      ],
      "metadata": {
        "id": "joJxgKmIk22o"
      }
    },
    {
      "cell_type": "code",
      "execution_count": 1,
      "metadata": {
        "id": "HUWbOt1SkZW3"
      },
      "outputs": [],
      "source": [
        "import torch\n",
        "import torch.nn as nn\n",
        "import torch.nn.functional as F\n",
        "import torch.optim as optim\n",
        "\n",
        "from torch.utils.data import DataLoader, TensorDataset\n",
        "\n",
        "import numpy as np\n",
        "\n",
        "import matplotlib.pyplot as plt\n",
        "\n",
        "import pandas as pd"
      ]
    },
    {
      "cell_type": "markdown",
      "source": [
        "## Datos\n",
        "Cargar datos desde el repositorio de Github o desde cualquier URL. Los datos se almacenarán en una carpeta definida por el usuario"
      ],
      "metadata": {
        "id": "vsBPDwfEk8D7"
      }
    },
    {
      "cell_type": "code",
      "source": [
        "import os\n",
        "\n",
        "# el siguiente código define la URL de los datos\n",
        "URL = 'https://raw.githubusercontent.com/orlandxrf/curso-dl/main/data/calificaciones.csv'\n",
        "data_folder = 'data' # nombre de la carpeta contenedora\n",
        "filepath = os.path.join(data_folder, 'calificaciones.csv') # obtener la ruta del archivo"
      ],
      "metadata": {
        "id": "9U9dvmtXlMv6"
      },
      "execution_count": 2,
      "outputs": []
    },
    {
      "cell_type": "markdown",
      "source": [
        "Usar el comando `mkdir` para crear la carpeta. Usar el comando `wget` para descargar el conjunto de datos, que recibe la URL y la ruta donde se almacenará el archivo descargado"
      ],
      "metadata": {
        "id": "hC7G9BfZl84H"
      }
    },
    {
      "cell_type": "code",
      "source": [
        "! mkdir {data_folder}\n",
        "! wget -nc {URL} -O {filepath}\n"
      ],
      "metadata": {
        "colab": {
          "base_uri": "https://localhost:8080/"
        },
        "id": "hwGoX7YhmQy-",
        "outputId": "1dce2a07-95a2-4410-89c3-2e3fb8b0d141"
      },
      "execution_count": 3,
      "outputs": [
        {
          "output_type": "stream",
          "name": "stdout",
          "text": [
            "--2022-02-03 17:25:18--  https://raw.githubusercontent.com/orlandxrf/curso-dl/main/data/calificaciones.csv\n",
            "Resolving raw.githubusercontent.com (raw.githubusercontent.com)... 185.199.108.133, 185.199.109.133, 185.199.110.133, ...\n",
            "Connecting to raw.githubusercontent.com (raw.githubusercontent.com)|185.199.108.133|:443... connected.\n",
            "HTTP request sent, awaiting response... 200 OK\n",
            "Length: 666 [text/plain]\n",
            "Saving to: ‘data/calificaciones.csv’\n",
            "\n",
            "\rdata/calificaciones   0%[                    ]       0  --.-KB/s               \rdata/calificaciones 100%[===================>]     666  --.-KB/s    in 0s      \n",
            "\n",
            "2022-02-03 17:25:18 (44.5 MB/s) - ‘data/calificaciones.csv’ saved [666/666]\n",
            "\n"
          ]
        }
      ]
    },
    {
      "cell_type": "markdown",
      "source": [
        "Mostra los datos con pandas"
      ],
      "metadata": {
        "id": "yaN3WC64oyOW"
      }
    },
    {
      "cell_type": "code",
      "source": [
        "df = pd.read_csv(filepath)\n",
        "df.head(5)"
      ],
      "metadata": {
        "colab": {
          "base_uri": "https://localhost:8080/",
          "height": 206
        },
        "id": "6haufqIbo4rp",
        "outputId": "a7924a1d-0e0d-4500-9edb-5797f9667688"
      },
      "execution_count": 4,
      "outputs": [
        {
          "output_type": "execute_result",
          "data": {
            "text/html": [
              "\n",
              "  <div id=\"df-207d8c87-2035-471e-a28a-de2bbf39694c\">\n",
              "    <div class=\"colab-df-container\">\n",
              "      <div>\n",
              "<style scoped>\n",
              "    .dataframe tbody tr th:only-of-type {\n",
              "        vertical-align: middle;\n",
              "    }\n",
              "\n",
              "    .dataframe tbody tr th {\n",
              "        vertical-align: top;\n",
              "    }\n",
              "\n",
              "    .dataframe thead th {\n",
              "        text-align: right;\n",
              "    }\n",
              "</style>\n",
              "<table border=\"1\" class=\"dataframe\">\n",
              "  <thead>\n",
              "    <tr style=\"text-align: right;\">\n",
              "      <th></th>\n",
              "      <th>prev</th>\n",
              "      <th>horas</th>\n",
              "      <th>calif</th>\n",
              "    </tr>\n",
              "  </thead>\n",
              "  <tbody>\n",
              "    <tr>\n",
              "      <th>0</th>\n",
              "      <td>5.6</td>\n",
              "      <td>8.2</td>\n",
              "      <td>5.1</td>\n",
              "    </tr>\n",
              "    <tr>\n",
              "      <th>1</th>\n",
              "      <td>6.7</td>\n",
              "      <td>9.3</td>\n",
              "      <td>5.9</td>\n",
              "    </tr>\n",
              "    <tr>\n",
              "      <th>2</th>\n",
              "      <td>5.1</td>\n",
              "      <td>10.0</td>\n",
              "      <td>5.4</td>\n",
              "    </tr>\n",
              "    <tr>\n",
              "      <th>3</th>\n",
              "      <td>5.7</td>\n",
              "      <td>10.4</td>\n",
              "      <td>6.5</td>\n",
              "    </tr>\n",
              "    <tr>\n",
              "      <th>4</th>\n",
              "      <td>7.1</td>\n",
              "      <td>10.4</td>\n",
              "      <td>6.7</td>\n",
              "    </tr>\n",
              "  </tbody>\n",
              "</table>\n",
              "</div>\n",
              "      <button class=\"colab-df-convert\" onclick=\"convertToInteractive('df-207d8c87-2035-471e-a28a-de2bbf39694c')\"\n",
              "              title=\"Convert this dataframe to an interactive table.\"\n",
              "              style=\"display:none;\">\n",
              "        \n",
              "  <svg xmlns=\"http://www.w3.org/2000/svg\" height=\"24px\"viewBox=\"0 0 24 24\"\n",
              "       width=\"24px\">\n",
              "    <path d=\"M0 0h24v24H0V0z\" fill=\"none\"/>\n",
              "    <path d=\"M18.56 5.44l.94 2.06.94-2.06 2.06-.94-2.06-.94-.94-2.06-.94 2.06-2.06.94zm-11 1L8.5 8.5l.94-2.06 2.06-.94-2.06-.94L8.5 2.5l-.94 2.06-2.06.94zm10 10l.94 2.06.94-2.06 2.06-.94-2.06-.94-.94-2.06-.94 2.06-2.06.94z\"/><path d=\"M17.41 7.96l-1.37-1.37c-.4-.4-.92-.59-1.43-.59-.52 0-1.04.2-1.43.59L10.3 9.45l-7.72 7.72c-.78.78-.78 2.05 0 2.83L4 21.41c.39.39.9.59 1.41.59.51 0 1.02-.2 1.41-.59l7.78-7.78 2.81-2.81c.8-.78.8-2.07 0-2.86zM5.41 20L4 18.59l7.72-7.72 1.47 1.35L5.41 20z\"/>\n",
              "  </svg>\n",
              "      </button>\n",
              "      \n",
              "  <style>\n",
              "    .colab-df-container {\n",
              "      display:flex;\n",
              "      flex-wrap:wrap;\n",
              "      gap: 12px;\n",
              "    }\n",
              "\n",
              "    .colab-df-convert {\n",
              "      background-color: #E8F0FE;\n",
              "      border: none;\n",
              "      border-radius: 50%;\n",
              "      cursor: pointer;\n",
              "      display: none;\n",
              "      fill: #1967D2;\n",
              "      height: 32px;\n",
              "      padding: 0 0 0 0;\n",
              "      width: 32px;\n",
              "    }\n",
              "\n",
              "    .colab-df-convert:hover {\n",
              "      background-color: #E2EBFA;\n",
              "      box-shadow: 0px 1px 2px rgba(60, 64, 67, 0.3), 0px 1px 3px 1px rgba(60, 64, 67, 0.15);\n",
              "      fill: #174EA6;\n",
              "    }\n",
              "\n",
              "    [theme=dark] .colab-df-convert {\n",
              "      background-color: #3B4455;\n",
              "      fill: #D2E3FC;\n",
              "    }\n",
              "\n",
              "    [theme=dark] .colab-df-convert:hover {\n",
              "      background-color: #434B5C;\n",
              "      box-shadow: 0px 1px 3px 1px rgba(0, 0, 0, 0.15);\n",
              "      filter: drop-shadow(0px 1px 2px rgba(0, 0, 0, 0.3));\n",
              "      fill: #FFFFFF;\n",
              "    }\n",
              "  </style>\n",
              "\n",
              "      <script>\n",
              "        const buttonEl =\n",
              "          document.querySelector('#df-207d8c87-2035-471e-a28a-de2bbf39694c button.colab-df-convert');\n",
              "        buttonEl.style.display =\n",
              "          google.colab.kernel.accessAllowed ? 'block' : 'none';\n",
              "\n",
              "        async function convertToInteractive(key) {\n",
              "          const element = document.querySelector('#df-207d8c87-2035-471e-a28a-de2bbf39694c');\n",
              "          const dataTable =\n",
              "            await google.colab.kernel.invokeFunction('convertToInteractive',\n",
              "                                                     [key], {});\n",
              "          if (!dataTable) return;\n",
              "\n",
              "          const docLinkHtml = 'Like what you see? Visit the ' +\n",
              "            '<a target=\"_blank\" href=https://colab.research.google.com/notebooks/data_table.ipynb>data table notebook</a>'\n",
              "            + ' to learn more about interactive tables.';\n",
              "          element.innerHTML = '';\n",
              "          dataTable['output_type'] = 'display_data';\n",
              "          await google.colab.output.renderOutput(dataTable, element);\n",
              "          const docLink = document.createElement('div');\n",
              "          docLink.innerHTML = docLinkHtml;\n",
              "          element.appendChild(docLink);\n",
              "        }\n",
              "      </script>\n",
              "    </div>\n",
              "  </div>\n",
              "  "
            ],
            "text/plain": [
              "   prev  horas  calif\n",
              "0   5.6    8.2    5.1\n",
              "1   6.7    9.3    5.9\n",
              "2   5.1   10.0    5.4\n",
              "3   5.7   10.4    6.5\n",
              "4   7.1   10.4    6.7"
            ]
          },
          "metadata": {},
          "execution_count": 4
        }
      ]
    },
    {
      "cell_type": "markdown",
      "source": [
        ""
      ],
      "metadata": {
        "id": "PFetBW_WpOZg"
      }
    },
    {
      "cell_type": "code",
      "source": [
        "# filtrar la columna horas\n",
        "print (f\"Shape: {df.iloc[:,1].shape}\")\n",
        "\n",
        "# se define el Train X\n",
        "# agregar una dimensión\n",
        "X = np.array(df.iloc[:,1], dtype='float32')[..., np.newaxis]\n",
        "\n",
        "print (f\"Shape: {X.shape}\")\n",
        "\n",
        "\n",
        "\n",
        "# filtrar la columna calif\n",
        "print (f\"Shape: {df.iloc[:,-1].shape}\")\n",
        "\n",
        "# se define el Test Y\n",
        "Y = np.array(df.iloc[:,-1], dtype='float32')[..., np.newaxis]\n",
        "\n",
        "print (f\"Shape: {Y.shape}\")\n",
        "\n",
        "# graficar los datos\n",
        "plt.plot(X, Y, '.', color='m', markersize=8)\n",
        "plt.xlabel('horas de estudio')\n",
        "plt.ylabel('calificación')\n",
        "plt.show()"
      ],
      "metadata": {
        "colab": {
          "base_uri": "https://localhost:8080/",
          "height": 348
        },
        "id": "LURw0Y9NpfPa",
        "outputId": "f4327627-0bbb-4b67-9cef-e9827ba29ff9"
      },
      "execution_count": 5,
      "outputs": [
        {
          "output_type": "stream",
          "name": "stdout",
          "text": [
            "Shape: (50,)\n",
            "Shape: (50, 1)\n",
            "Shape: (50,)\n",
            "Shape: (50, 1)\n"
          ]
        },
        {
          "output_type": "display_data",
          "data": {
            "image/png": "[encoded data removed]",
            "text/plain": [
              "<Figure size 432x288 with 1 Axes>"
            ]
          },
          "metadata": {
            "needs_background": "light"
          }
        }
      ]
    },
    {
      "cell_type": "code",
      "source": [
        "# filtrar las columnas: prev, horas\n",
        "X = np.array(df.iloc[:,:2], dtype=\"float32\")\n",
        "print (f\"Shape x_trn:\\t{X.shape}\")\n",
        "print (f\"Shape y_trn:\\t{Y.shape}\")\n",
        "print (X)"
      ],
      "metadata": {
        "colab": {
          "base_uri": "https://localhost:8080/"
        },
        "id": "bAytnvrdrj1H",
        "outputId": "88b9ee5d-a668-40fc-b8d5-3e30525ff30d"
      },
      "execution_count": 6,
      "outputs": [
        {
          "output_type": "stream",
          "name": "stdout",
          "text": [
            "Shape x_trn:\t(50, 2)\n",
            "Shape y_trn:\t(50, 1)\n",
            "[[ 5.6  8.2]\n",
            " [ 6.7  9.3]\n",
            " [ 5.1 10. ]\n",
            " [ 5.7 10.4]\n",
            " [ 7.1 10.4]\n",
            " [ 6.4 10.4]\n",
            " [ 6.1 10.4]\n",
            " [ 6.8 10.5]\n",
            " [ 6.3 10.7]\n",
            " [ 6.2 10.9]\n",
            " [ 4.9 10.9]\n",
            " [ 5.6 11.2]\n",
            " [ 5.9 11.3]\n",
            " [ 7.1 11.5]\n",
            " [ 6.2 11.5]\n",
            " [ 7.  11.5]\n",
            " [ 5.4 11.5]\n",
            " [ 7.  11.5]\n",
            " [ 6.4 11.6]\n",
            " [ 4.2 11.7]\n",
            " [ 8.  11.8]\n",
            " [ 6.7 11.8]\n",
            " [ 5.4 11.9]\n",
            " [ 7.5 11.9]\n",
            " [ 5.7 11.9]\n",
            " [ 5.5 11.9]\n",
            " [ 7.5 12. ]\n",
            " [ 7.  12.1]\n",
            " [ 6.1 12.1]\n",
            " [ 7.1 12.2]\n",
            " [ 5.5 12.5]\n",
            " [ 7.9 12.8]\n",
            " [ 6.  12.8]\n",
            " [ 7.1 12.8]\n",
            " [ 5.4 12.8]\n",
            " [ 7.7 12.8]\n",
            " [ 8.  12.9]\n",
            " [ 5.9 12.9]\n",
            " [ 8.4 13. ]\n",
            " [ 7.3 13.1]\n",
            " [ 8.7 13.3]\n",
            " [10.1 13.3]\n",
            " [ 8.  13.4]\n",
            " [ 8.3 13.5]\n",
            " [ 6.5 13.7]\n",
            " [ 6.6 13.7]\n",
            " [ 7.2 13.8]\n",
            " [ 7.2 13.9]\n",
            " [ 8.7 13.9]\n",
            " [ 8.8 14.4]]\n"
          ]
        }
      ]
    },
    {
      "cell_type": "markdown",
      "source": [
        "## Las clases `TensorDataset` y `DataLoader`\n",
        "La clase `TensorDataset` crea un conjunto de datos a partir de varios tensores con la primera dimensión coincidente. Las muestras se extraerán de la primera dimensión (filas)<br>\n",
        "<br>\n",
        "`DataLoader` crea un cargador de datos a partir del conjunto de datos. El tipo de muestreo y el tamaño del lote se especifican aquí."
      ],
      "metadata": {
        "id": "uikYHHXQs19Q"
      }
    },
    {
      "cell_type": "markdown",
      "source": [
        "### TensorDataset"
      ],
      "metadata": {
        "id": "um_gSDsywU2a"
      }
    },
    {
      "cell_type": "code",
      "source": [
        "tds = TensorDataset(torch.Tensor(X), torch.Tensor(Y))\n",
        "print (tds[0])\n",
        "print (len(tds))"
      ],
      "metadata": {
        "colab": {
          "base_uri": "https://localhost:8080/"
        },
        "id": "q9lW3criueT4",
        "outputId": "55857be2-4924-46e6-b664-b1488e4e8c1d"
      },
      "execution_count": 9,
      "outputs": [
        {
          "output_type": "stream",
          "name": "stdout",
          "text": [
            "(tensor([5.6000, 8.2000]), tensor([5.1000]))\n",
            "50\n"
          ]
        }
      ]
    },
    {
      "cell_type": "markdown",
      "source": [
        "### DataLoader"
      ],
      "metadata": {
        "id": "a_lD1cbVwZAS"
      }
    },
    {
      "cell_type": "code",
      "source": [
        "# definir el tamño de los lotes a 16 y shuffle=True\n",
        "def construirDataLoader(batch_size=16, shuffle=True):\n",
        "    return DataLoader(tds, batch_size=batch_size, shuffle=True)\n",
        "\n",
        "# creamos un DataLoader\n",
        "dl = construirDataLoader()\n",
        "\n",
        "# iter() llama al método __iter__() en el DataLoader que devuelve un iterador.\n",
        "# next() luego llama al método __next__() en ese iterador para obtener la primera iteración.\n",
        "# Ejecutar next() nuevamente obtendrá el segundo elemento del iterador, etc.\n",
        "\n",
        "x, y = next(iter(dl))\n",
        "print(f'Lote de x shape={x.shape} dtype={x.dtype}')\n",
        "print(f'Lote de y shape={y.shape} dtype={y.dtype}')"
      ],
      "metadata": {
        "colab": {
          "base_uri": "https://localhost:8080/"
        },
        "id": "Cip9sx9Awb0o",
        "outputId": "d70c1de3-185e-4339-95b5-bec347aebc1a"
      },
      "execution_count": 10,
      "outputs": [
        {
          "output_type": "stream",
          "name": "stdout",
          "text": [
            "Lote de x shape=torch.Size([16, 2]) dtype=torch.float32\n",
            "Lote de y shape=torch.Size([16, 1]) dtype=torch.float32\n"
          ]
        }
      ]
    },
    {
      "cell_type": "markdown",
      "source": [
        "## Entrenamiento"
      ],
      "metadata": {
        "id": "hTaE45WmyYib"
      }
    },
    {
      "cell_type": "code",
      "source": [
        "def set_seed(seed=0):\n",
        "    \"\"\"Initializes pseudo-random number generators.\"\"\"\n",
        "    # números aleatorios\n",
        "    import random\n",
        "    \n",
        "    random.seed(seed)\n",
        "    np.random.seed(seed)\n",
        "    torch.manual_seed(seed)\n",
        "\n",
        "# optimizador\n",
        "def train(model, dl, epochs=5):\n",
        "\n",
        "    opt = optim.SGD(model.parameters(), lr=1e-3)\n",
        "\n",
        "    # historial de pérdida\n",
        "    loss_hist = []\n",
        "\n",
        "    # ciclo de entrenamiento\n",
        "    for epoch in range(epochs):\n",
        "\n",
        "        # historial\n",
        "        loss_hist = []\n",
        "        \n",
        "        # entrenamiento de una época\n",
        "        for x, y_true in dl:\n",
        "            # hacemos inferencia para obtener los logits\n",
        "            y_lgts = model(x)\n",
        "            # calculamos de pérdida\n",
        "            loss = F.mse_loss(y_lgts, y_true)\n",
        "            # vaciamos los gradientes\n",
        "            opt.zero_grad()\n",
        "            # retropropagamos\n",
        "            loss.backward()\n",
        "            # actulizamos parámetros\n",
        "            opt.step()\n",
        "\n",
        "            # guardamos historial de pérdida\n",
        "            loss_hist.append(loss.item() * 100)\n",
        "            \n",
        "        # imprimimos la pérdida de la época\n",
        "        loss = np.mean(loss_hist)\n",
        "        print(f'E{epoch:02} loss=[{loss:6.2f}]')\n",
        "\n",
        "def train_model(build_model, epochs=5):\n",
        "    set_seed()\n",
        "    dl = construirDataLoader()\n",
        "    model = build_model()\n",
        "    train(model, dl, epochs)"
      ],
      "metadata": {
        "id": "pgQYjXcKya2t"
      },
      "execution_count": null,
      "outputs": []
    },
    {
      "cell_type": "markdown",
      "source": [
        "### Definición de la arquitectura\n",
        "Para implementar arquitecturas, PyTorch define dos clases fundamentales.<br>\n",
        "* `nn.Module` define una red neuronal que internamente puede tener otras redes neuronales anidadas (o capas). Tres metodos importantes son:\n",
        "  * `__init__(self, args)` es el inicilizador que define al objeto,\n",
        "  * `fordward(x)` realizar predicción (hacia adelante),\n",
        "  * `parameters(x)` regresa una lista de los parámetros (`nn.Parameter`) de la red y redes anidadas.\n",
        "* `nn.Parameter` envuelve un tensor solo para marcarlo como parámetro y que sea regresado por `nn.Module.parameters(x)`."
      ],
      "metadata": {
        "id": "sga_8yTH3OV8"
      }
    },
    {
      "cell_type": "markdown",
      "source": [
        "### Alto Nivel\n",
        "En esta API basta con apilar las capas (del paquete torch.nn) usando la clase `nn.Sequential`."
      ],
      "metadata": {
        "id": "86J0I0MV47Ui"
      }
    },
    {
      "cell_type": "code",
      "source": [
        "def build_high():\n",
        "    model = nn.Sequential(\n",
        "        nn.Linear(2, 2),\n",
        "        nn.ReLU(),\n",
        "        nn.Linear(2, 1),\n",
        "    )\n",
        "    return model\n",
        "\n",
        "build_high()"
      ],
      "metadata": {
        "colab": {
          "base_uri": "https://localhost:8080/"
        },
        "id": "0LjqDaNs4y-Y",
        "outputId": "53144f87-1071-46ff-d303-a3da762fb0ed"
      },
      "execution_count": null,
      "outputs": [
        {
          "output_type": "execute_result",
          "data": {
            "text/plain": [
              "Sequential(\n",
              "  (0): Linear(in_features=2, out_features=2, bias=True)\n",
              "  (1): ReLU()\n",
              "  (2): Linear(in_features=2, out_features=1, bias=True)\n",
              ")"
            ]
          },
          "metadata": {},
          "execution_count": 69
        }
      ]
    },
    {
      "cell_type": "markdown",
      "source": [
        "### Medio nivel\n",
        "En esta API heredamos de `nn.Module`, creamos las capas en el inicializador e implementamos la inferencia en el método `fordward`."
      ],
      "metadata": {
        "id": "yEgGYcbx5Opu"
      }
    },
    {
      "cell_type": "code",
      "source": [
        "#se define la clase RegLin que hereda de torch.nn.Module\n",
        "class LinRegMed(nn.Module):\n",
        "\n",
        "    #se define el inicializador\n",
        "    def __init__(self):\n",
        "        # se llama al inicializador de la clase padre\n",
        "        super().__init__()\n",
        "        # importante: se definen las capas como atributos de la clase\n",
        "        self.fc1 = nn.Linear(2, 2)\n",
        "        self.fc2 = nn.Linear(2, 1)\n",
        "\n",
        "    # método para inferencia\n",
        "    def forward(self, x):\n",
        "        x = self.fc1(x)\n",
        "        x = F.relu(x)\n",
        "        x = self.fc2(x)\n",
        "        return x\n",
        "\n",
        "def build_med():\n",
        "    return LinRegMed()\n",
        "\n",
        "build_med()"
      ],
      "metadata": {
        "colab": {
          "base_uri": "https://localhost:8080/"
        },
        "id": "9ZafM-vu5gXd",
        "outputId": "a94db066-dd2d-4f13-af4d-cea014345434"
      },
      "execution_count": null,
      "outputs": [
        {
          "output_type": "execute_result",
          "data": {
            "text/plain": [
              "LinRegMed(\n",
              "  (fc1): Linear(in_features=2, out_features=2, bias=True)\n",
              "  (fc2): Linear(in_features=2, out_features=1, bias=True)\n",
              ")"
            ]
          },
          "metadata": {},
          "execution_count": 70
        }
      ]
    },
    {
      "cell_type": "markdown",
      "source": [
        "### Bajo Nivel\n",
        "En esta interfaz debemos implementar las capaz partiendo de los parámetros."
      ],
      "metadata": {
        "id": "H-jOnV8U5lAp"
      }
    },
    {
      "cell_type": "code",
      "source": [
        "import math\n",
        "\n",
        "class MyLinear(nn.Module):\n",
        "\n",
        "    def __init__(self, in_features, out_features, init):\n",
        "        super().__init__()\n",
        "        self.in_features = in_features\n",
        "        self.out_features = out_features\n",
        "        self.init = init\n",
        "        # se envuelven los tensores en parámetros (clase)\n",
        "        # para que model.parameters() los regrese\n",
        "        # y sean visibles al optimizador\n",
        "        self.weight = nn.Parameter(torch.zeros(out_features, in_features))\n",
        "        self.bias = nn.Parameter(torch.zeros(out_features))\n",
        "        if init == 'he':\n",
        "            self.reset_parameters()\n",
        "\n",
        "    def reset_parameters(self):\n",
        "        # Delving Deep into Rectifiers: \n",
        "        # Surpassing Human-Level Performance on ImageNet Classification\n",
        "        # https://arxiv.org/abs/1502.01852\n",
        "        nn.init.kaiming_uniform_(self.weight, a=math.sqrt(5))\n",
        "        fan_in, _ = nn.init._calculate_fan_in_and_fan_out(self.weight)\n",
        "        bound = 1 / math.sqrt(fan_in)\n",
        "        nn.init.uniform_(self.bias, -bound, bound)\n",
        "        \n",
        "    def forward(self, x):\n",
        "        # X * W + B\n",
        "        return F.linear(x, self.weight, self.bias)\n",
        "    \n",
        "    def extra_repr(self):\n",
        "        return 'in_features={}, out_features={}, init={}, bias={}'.format(\n",
        "            self.in_features, self.out_features, self.init, self.bias is not None\n",
        "        )\n",
        "\n",
        "\n",
        "class LinRegLow(nn.Module):\n",
        "\n",
        "    def __init__(self, init='zeros'):\n",
        "        super().__init__()\n",
        "        \n",
        "        self.cls = nn.Sequential(\n",
        "            MyLinear(2, 2, init),\n",
        "            nn.ReLU(),\n",
        "            MyLinear(2, 1, init),\n",
        "        )\n",
        "\n",
        "    def forward(self, x):\n",
        "        return self.cls(x)\n",
        "\n",
        "# ------------------------------------------------------\n",
        "def build_low_he():\n",
        "    return LinRegLow(init='he')\n",
        "\n",
        "build_low_he()"
      ],
      "metadata": {
        "colab": {
          "base_uri": "https://localhost:8080/"
        },
        "id": "y1g22vU75vea",
        "outputId": "f9c5d763-a269-4d90-dc0f-a8aaabafca8e"
      },
      "execution_count": null,
      "outputs": [
        {
          "output_type": "execute_result",
          "data": {
            "text/plain": [
              "LinRegLow(\n",
              "  (cls): Sequential(\n",
              "    (0): MyLinear(in_features=2, out_features=2, init=he, bias=True)\n",
              "    (1): ReLU()\n",
              "    (2): MyLinear(in_features=2, out_features=1, init=he, bias=True)\n",
              "  )\n",
              ")"
            ]
          },
          "metadata": {},
          "execution_count": 73
        }
      ]
    },
    {
      "cell_type": "markdown",
      "source": [
        "### Entrenamos los modelos"
      ],
      "metadata": {
        "id": "jxRUk1gP6-lw"
      }
    },
    {
      "cell_type": "code",
      "source": [
        "train_model(build_high)"
      ],
      "metadata": {
        "colab": {
          "base_uri": "https://localhost:8080/"
        },
        "id": "b_4LuT607Yev",
        "outputId": "7c0730a3-7e22-40cd-f683-371a9a589dde"
      },
      "execution_count": null,
      "outputs": [
        {
          "output_type": "stream",
          "name": "stdout",
          "text": [
            "E00 loss=[5240.13]\n",
            "E01 loss=[2730.91]\n",
            "E02 loss=[622.67]\n",
            "E03 loss=[ 47.03]\n",
            "E04 loss=[ 16.73]\n"
          ]
        }
      ]
    },
    {
      "cell_type": "code",
      "source": [
        "train_model(build_med)"
      ],
      "metadata": {
        "colab": {
          "base_uri": "https://localhost:8080/"
        },
        "id": "f9JPrs0Z7cc5",
        "outputId": "1418bf12-4a13-46fd-97a4-5ac8170f272d"
      },
      "execution_count": null,
      "outputs": [
        {
          "output_type": "stream",
          "name": "stdout",
          "text": [
            "E00 loss=[5240.13]\n",
            "E01 loss=[2730.91]\n",
            "E02 loss=[622.67]\n",
            "E03 loss=[ 47.03]\n",
            "E04 loss=[ 16.73]\n"
          ]
        }
      ]
    },
    {
      "cell_type": "code",
      "source": [
        "train_model(build_low_he)"
      ],
      "metadata": {
        "colab": {
          "base_uri": "https://localhost:8080/"
        },
        "id": "uktCLeSp7iIh",
        "outputId": "546b9ce2-3ec5-4503-c2a9-56be8cb4be5b"
      },
      "execution_count": null,
      "outputs": [
        {
          "output_type": "stream",
          "name": "stdout",
          "text": [
            "E00 loss=[5240.13]\n",
            "E01 loss=[2730.91]\n",
            "E02 loss=[622.67]\n",
            "E03 loss=[ 47.03]\n",
            "E04 loss=[ 16.73]\n"
          ]
        }
      ]
    },
    {
      "cell_type": "markdown",
      "source": [
        "## Diferenciación Automática\n",
        "La [diferenciación automática](https://es.wikipedia.org/wiki/Diferenciaci%C3%B3n_autom%C3%A1tica) es un método para la evaluación de derivadas de una función expresada como un programa de computación usualamente conocido como gráfica de cómputo."
      ],
      "metadata": {
        "id": "YyM1dHY28xC1"
      }
    },
    {
      "cell_type": "markdown",
      "source": [
        "![AD.png](data:image/png;base64,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)"
      ],
      "metadata": {
        "id": "o57hTdta7z2o"
      }
    },
    {
      "cell_type": "markdown",
      "source": [
        "PyTorch permite realizar autodiferenciación manteniendo un arbol de expresiones (gráfica de cómputo) que se ensambla de forma automática conforme se definen las expresiones en el programa.<br>\n",
        "<br>\n",
        "Por ejemplo, consideremos la función $f(x, y) = 2 x^{3} + 3 y^{2} + c$  respecto a dos variables independientes $x$ y $y$. Al codificar esta función con tensores, podemos pensar de forma simplificada que Pytorch ensambla (al vuelo y de forma implícita) la siguiente gráfica de cómputo."
      ],
      "metadata": {
        "id": "TjlT44IJ887J"
      }
    },
    {
      "cell_type": "markdown",
      "source": [
        "![AD_example.png](data:image/png;base64,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)"
      ],
      "metadata": {
        "id": "4GFULp0I9qnR"
      }
    },
    {
      "cell_type": "markdown",
      "source": [
        "En esta gráfica de cómputo $x$ y $y$ son tensores hoja, mientras que $f$ es un tensor interno (no hoja). Para crear la gráfica de cómputo los tensores están equipados con los siguientes atributos:<br>\n",
        "\n",
        "* `.grad`: escalar flotante que almacena la evaluación de la derivada,\n",
        "* `.requires_grad` bandera booleana que indica si tensor\n",
        "* `.grad_fn` es la derivada $f'$ respecto a los tensores padre en la gráfica de computo.\n",
        "\n"
      ],
      "metadata": {
        "id": "IUcJh7VJ9tns"
      }
    },
    {
      "cell_type": "markdown",
      "source": [
        "Para observar como funciona esto, definamos $f(\\cdot)$ y derivemos de forma automática con respecto a $x$ y $y$ para obtener $f'_x(2, 3) = 6(2)^2 = 24$, $f'_y(2, 3) = 6(3) = 18$<br>\n",
        "Primero, definamos tensores con las variables $x$ y $y$ e inspeccionemos sus atributos usados para la autodiferenciación."
      ],
      "metadata": {
        "id": "nu2pc7fn-8Is"
      }
    },
    {
      "cell_type": "code",
      "source": [
        "# creamos el tensor con rastreo de gradiente activado\n",
        "x =  torch.tensor(2.0, requires_grad=True)\n",
        "x, x.grad, x.requires_grad, x.grad_fn"
      ],
      "metadata": {
        "colab": {
          "base_uri": "https://localhost:8080/"
        },
        "id": "yZuUk5jI_gZQ",
        "outputId": "11572468-7da3-4bd9-dd51-c5009230172b"
      },
      "execution_count": 11,
      "outputs": [
        {
          "output_type": "execute_result",
          "data": {
            "text/plain": [
              "(tensor(2., requires_grad=True), None, True, None)"
            ]
          },
          "metadata": {},
          "execution_count": 11
        }
      ]
    },
    {
      "cell_type": "code",
      "source": [
        "# creamos el tensor con rastreo de gradiente activado\n",
        "y =  torch.tensor(3.0, requires_grad=True)\n",
        "y, y.grad, x.requires_grad"
      ],
      "metadata": {
        "colab": {
          "base_uri": "https://localhost:8080/"
        },
        "id": "BKk-nVcN_kgm",
        "outputId": "f16680e7-068f-446e-8c5e-ca9d798bda25"
      },
      "execution_count": 12,
      "outputs": [
        {
          "output_type": "execute_result",
          "data": {
            "text/plain": [
              "(tensor(3., requires_grad=True), None, True)"
            ]
          },
          "metadata": {},
          "execution_count": 12
        }
      ]
    },
    {
      "cell_type": "code",
      "source": [
        "# creamos el tensor sin rastreo de gradiente\n",
        "c =  torch.tensor(1.0)\n",
        "c, c.grad, c.requires_grad"
      ],
      "metadata": {
        "colab": {
          "base_uri": "https://localhost:8080/"
        },
        "id": "jOWs9k4D_liK",
        "outputId": "590c5888-4245-4faf-a680-6f22bdeaeedd"
      },
      "execution_count": 13,
      "outputs": [
        {
          "output_type": "execute_result",
          "data": {
            "text/plain": [
              "(tensor(1.), None, False)"
            ]
          },
          "metadata": {},
          "execution_count": 13
        }
      ]
    },
    {
      "cell_type": "markdown",
      "source": [
        "Ahora definamos la función $f(\\cdot)$ e inspeccionemos sus atributos."
      ],
      "metadata": {
        "id": "QGsEVI_X_qSN"
      }
    },
    {
      "cell_type": "code",
      "source": [
        "f = 2 * (x ** 3) + 3 * (y ** 2) + c"
      ],
      "metadata": {
        "id": "MADDDnwY_uof"
      },
      "execution_count": 14,
      "outputs": []
    },
    {
      "cell_type": "code",
      "source": [
        "f"
      ],
      "metadata": {
        "colab": {
          "base_uri": "https://localhost:8080/"
        },
        "id": "qzH3SnoX_5qm",
        "outputId": "f7047f5c-d267-4b0a-cf88-193155e00f1a"
      },
      "execution_count": 15,
      "outputs": [
        {
          "output_type": "execute_result",
          "data": {
            "text/plain": [
              "tensor(44., grad_fn=<AddBackward0>)"
            ]
          },
          "metadata": {},
          "execution_count": 15
        }
      ]
    },
    {
      "cell_type": "code",
      "source": [
        "f.grad"
      ],
      "metadata": {
        "colab": {
          "base_uri": "https://localhost:8080/"
        },
        "id": "Q2MFrbgw__PM",
        "outputId": "eb264c70-8108-4e72-eaa9-ef6579a1433d"
      },
      "execution_count": 16,
      "outputs": [
        {
          "output_type": "stream",
          "name": "stderr",
          "text": [
            "/usr/local/lib/python3.7/dist-packages/torch/_tensor.py:1013: UserWarning: The .grad attribute of a Tensor that is not a leaf Tensor is being accessed. Its .grad attribute won't be populated during autograd.backward(). If you indeed want the .grad field to be populated for a non-leaf Tensor, use .retain_grad() on the non-leaf Tensor. If you access the non-leaf Tensor by mistake, make sure you access the leaf Tensor instead. See github.com/pytorch/pytorch/pull/30531 for more informations. (Triggered internally at  aten/src/ATen/core/TensorBody.h:417.)\n",
            "  return self._grad\n"
          ]
        }
      ]
    },
    {
      "cell_type": "markdown",
      "source": [
        "PyTorch nos indica con una advertencia ya que $f$ es un tensor interno y su atributo `.grad` no será usado durante la diferenciación automática."
      ],
      "metadata": {
        "id": "C13e0w2TANxb"
      }
    },
    {
      "cell_type": "code",
      "source": [
        "f.requires_grad"
      ],
      "metadata": {
        "colab": {
          "base_uri": "https://localhost:8080/"
        },
        "id": "TL1vocvbACjr",
        "outputId": "7214adf3-e8e7-48e8-8aef-6414c51dc578"
      },
      "execution_count": 17,
      "outputs": [
        {
          "output_type": "execute_result",
          "data": {
            "text/plain": [
              "True"
            ]
          },
          "metadata": {},
          "execution_count": 17
        }
      ]
    },
    {
      "cell_type": "code",
      "source": [
        "f.grad_fn"
      ],
      "metadata": {
        "colab": {
          "base_uri": "https://localhost:8080/"
        },
        "id": "22wj05ZZAEpT",
        "outputId": "5a0b1823-dd6f-4e3b-f1d3-e7ad4e5555e7"
      },
      "execution_count": 18,
      "outputs": [
        {
          "output_type": "execute_result",
          "data": {
            "text/plain": [
              "<AddBackward0 at 0x7ff30aad8250>"
            ]
          },
          "metadata": {},
          "execution_count": 18
        }
      ]
    },
    {
      "cell_type": "markdown",
      "source": [
        "Ahora, computemos las derivadas $f'_x(2, 3)$ y $f'_y(2, 3)$ con el método `backward()`."
      ],
      "metadata": {
        "id": "B5rb4R6gAVJY"
      }
    },
    {
      "cell_type": "code",
      "source": [
        "f.backward()"
      ],
      "metadata": {
        "id": "fWF5DYqGAm-t"
      },
      "execution_count": 19,
      "outputs": []
    },
    {
      "cell_type": "code",
      "source": [
        "x.grad, y.grad, c.grad"
      ],
      "metadata": {
        "id": "TkkhkCeBAsvT",
        "outputId": "e897d3a0-ee71-427d-fbe1-52589fe144b5",
        "colab": {
          "base_uri": "https://localhost:8080/"
        }
      },
      "execution_count": 20,
      "outputs": [
        {
          "output_type": "execute_result",
          "data": {
            "text/plain": [
              "(tensor(24.), tensor(18.), None)"
            ]
          },
          "metadata": {},
          "execution_count": 20
        }
      ]
    }
  ]
}