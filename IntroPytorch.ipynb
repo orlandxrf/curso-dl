{
  "nbformat": 4,
  "nbformat_minor": 0,
  "metadata": {
    "colab": {
      "name": "IntroPytorch.ipynb",
      "provenance": [],
      "authorship_tag": "ABX9TyMJBbJAwpQwmf2312l8QNv5",
      "include_colab_link": true
    },
    "kernelspec": {
      "name": "python3",
      "display_name": "Python 3"
    },
    "language_info": {
      "name": "python"
    }
  },
  "cells": [
    {
      "cell_type": "markdown",
      "metadata": {
        "id": "view-in-github",
        "colab_type": "text"
      },
      "source": [
        "<a href=\"https://colab.research.google.com/github/orlandxrf/curso-dl/blob/main/IntroPytorch.ipynb\" target=\"_parent\"><img src=\"https://colab.research.google.com/assets/colab-badge.svg\" alt=\"Open In Colab\"/></a>"
      ]
    },
    {
      "cell_type": "markdown",
      "source": [
        "# Introducción a Pytorch\n",
        "---"
      ],
      "metadata": {
        "id": "upkeNxDCKW47"
      }
    },
    {
      "cell_type": "markdown",
      "source": [
        "Es una biblioteca en Python que nos permite crear gráficos computacionales para desarrollar modelos de redes neuronales. Esta biblioteca es utilizada para aplicaciones como Visión por Computadora y el Procesamiento del Lenguaje Natural, desarrollado principalmente por el laboratorio de investigación de inteligencia artificial de Facebook (FAIR). Es un software gratuito y de código abierto publicado bajo la licencia BSD modificada. Aunque la interfaz de Python está más pulida y es el enfoque principal del desarrollo, PyTorch también tiene una interfaz C ++.\n",
        "\n",
        "[The evolution of deep learning and PyTorch](https://www.youtube.com/watch?v=vkzr1xu-8Nk)"
      ],
      "metadata": {
        "id": "kBWZVIYNMYs9"
      }
    },
    {
      "cell_type": "code",
      "source": [
        "import torch"
      ],
      "metadata": {
        "id": "giswdR1RVQju"
      },
      "execution_count": 21,
      "outputs": []
    },
    {
      "cell_type": "markdown",
      "source": [
        "---\n",
        "### Escalar\n",
        "Un tensor de escalar contiene un valor único y no \"ejes\". `dtypes` soportados \n",
        "[Dtypes](https://pytorch.org/docs/stable/tensor_attributes.html#torch-dtype)"
      ],
      "metadata": {
        "id": "bdPmwU-eKe43"
      }
    },
    {
      "cell_type": "code",
      "source": [
        "x = torch.tensor(4)\n",
        "print (x)\n",
        "print (x.dtype)\n",
        "print (x.shape)\n",
        "print (f\"Dimensiones: {x.ndim}\")"
      ],
      "metadata": {
        "colab": {
          "base_uri": "https://localhost:8080/"
        },
        "id": "i6xkUipAVpm2",
        "outputId": "bcdd0b3b-6177-446f-884a-fde7df591952"
      },
      "execution_count": 54,
      "outputs": [
        {
          "output_type": "stream",
          "name": "stdout",
          "text": [
            "tensor(4)\n",
            "torch.int64\n",
            "torch.Size([])\n",
            "Dimensiones: 0\n"
          ]
        }
      ]
    },
    {
      "cell_type": "markdown",
      "source": [
        "![scalar.png](data:image/png;base64,iVBORw0KGgoAAAANSUhEUgAAAGcAAABoCAYAAADsF+4sAAABcklEQVR42u3YIU4DQRSA4RWICkQlAlHBAZAIBAkHQCAQFQiOUFGJRCAQHACBQCARlQgOsAKJQCARCEQFAmbTJdlMtrQppTMk35e8pGmn5v1Js52iAAAAAAAAAAAAAAAAAAB+by1MP8xxPbtWko9BmM/GXFlJHrbDfIiTn06YxyiMOJm4aAkjTgb2p4QRJ7FumBdx8nQbxXgWJw/9KMRlHUOcxDbDvDUiPIVZFycP940A1X+bnfp9cTK7BThrfCZO4luAcWP5ZTG5TxMng1uAsrH4cR2rECe982jxg5Yz4iSwFy39Ifo5EyeTW4D3ML0pZ8VZsZto4Sc/nBVnhY6iZd/NOC9OoluA1zAb4uR3C1DN4RzfESfBLcD1nN8T549tRbcA1euD+nF61oyiOKOWMx0rXt5/mmVPz4rFEUec1aqWd7rglFGIsuVM14rT8LQmDuKIgziIIw4LGRaT2+zvGVoJAAAAAAAAAAAAAAAAAPCPfQFTDyAG/yNt5AAAAABJRU5ErkJggg==)"
      ],
      "metadata": {
        "id": "UG-KCFpPVyTv"
      }
    },
    {
      "cell_type": "markdown",
      "source": [
        "---\n",
        "### Vector\n",
        "Un tensor de vector es una lista de valores. Un vector tiene un eje."
      ],
      "metadata": {
        "id": "ixlCl1z-Ypso"
      }
    },
    {
      "cell_type": "code",
      "source": [
        "x = torch.tensor([2.0, 3.0, 4.0])\n",
        "print (x)\n",
        "print (x.shape)\n",
        "print (f\"Dimensiones: {x.ndim}\")"
      ],
      "metadata": {
        "colab": {
          "base_uri": "https://localhost:8080/"
        },
        "id": "Xfj2A0SOY6NV",
        "outputId": "67e88480-dda4-49ca-e2e9-b445d2e47a15"
      },
      "execution_count": 53,
      "outputs": [
        {
          "output_type": "stream",
          "name": "stdout",
          "text": [
            "tensor([2., 3., 4.])\n",
            "torch.Size([3])\n",
            "Dimensiones: 1\n"
          ]
        }
      ]
    },
    {
      "cell_type": "markdown",
      "source": [
        "![vector.png](data:image/png;base64,iVBORw0KGgoAAAANSUhEUgAAAG0AAABjCAYAAACR8o4mAAAESklEQVR42u2dLVAjQRCFR0REREQgEIgVEQhEBAIRkaoTCAQiAoGIOHECgUCcQEScOIFARCAQERERCMQJBAKBiEAgECciIiIQKSoiAoHIbRdvi6m53fxOmFnyvqouyO6SmfSbnun96aAUIYQQQgghhBBCCCErRRDa+pTH5S23ncX75iYcl5nyuHlZRxuT+pl1LdZmaH9Du8fPm4ROyQd6Cq0dWi+0Y0vtl/B+d6F1QjsY088ujnsOrWLZD8XQXiHKpH728NoZt6EdaSNZOvUj5riL0M7wex4dL1hoXwbKHn6X9xuO6WdVE7BvMeKyGIzDMaJ1NKF28doZ+8Z0J+KcxhzXxWiMaFmKtkCbkgKM9kyMU98Mkdqa2Ityjs/STRBtC9Gt07c0aK1MlQN00mRkfKAazBZ1OKaaIOzA2NZKOHZWdhHFaoxoZQwSnUdsdy5Yb8yaIqJtLFG0b6GdoA9BjGg9Y1vDgmhrWKc3phDtztjWdi3a3hSL+8CYDuoJ0+iiXEM807mjmDXuwMK0+IQB0MCadoUBrLMTs4aJwNsuBetN0QHTSQ+IjkUZGKcaMqK/J6ypO1rCZGNNKSFaI+tjwJinPjkIuqZl0kOXqf8z5ueGZvsxyUYZ4kpmeRkzXSwy2ttw2gWyySjhuNeiv4p9Iugf9NM25vTY1abOmtbPtuWlYWaqMVbUFumicS5zilOEnOVor0EQ/X0rRjSVtOMyS/BFxWi/arw+QPsVRQhJOcdsP33tdx13mu3TaRSNTqNobJ+iUTQ6jaKx/aW2/4I/dGVvK97+C0c6p0c6jaKxfYpG0eg0isb2KRrbN+D9rNVunxBCCCGEfHlO6QJn5OZN+aVAL0v/OSEqi54ZqWwp0X9OOFTvZVMzI8UCdfrPCVLZM1fRo9RRSSlTQB9+KlJH111kaZKypEe1vO/eIP8HitTxLVzEfw7hGHHLpYgIs3ah+AhTZR3JSYY+toJMgVLG3ESEVZYRujVklXI60FduHzGLTBbtn2ry1zwV0P9bT/ot9eJSey1lxlKrnV+FUZrHlL2PGaCPn+b6KwXqLcwUv9V7WXHAddofEZsYuTltdpCT1DNeKPAbibZrrLsPSKSI52QQXQ1EHZOmlCBp80jZ+f4r8klsQbQtuiJdSckd3UAIIYQQQgghhMyH3IqR2/VyCauseHXfa+TCsFzRlxu0I83kZuMJ3eMnTYgkN0NriDS56TnE9l90kV+UIYwItJmwT76BZ4Ou8ocGhLlI2P+A/Yd0lV/Jhzz7UaBoX4MipkaxgO7wO/K2kXxEiQi/LcBzWkbaf8nzNf85gknK34NwHU6P6UGegWxDOD6CkCJ2tKmS0ZYiItHKdIUf3CJL3E3Yn9dE26a7/OAKglwn7D9RH9cl+cSxJ5S0SDKv6EvN1yvP1fzkWBOuoz7+y3y0jYUYHkfcjfq4CjLEerdH1xBCCCGEEEIIIYQQ8mn8A2oxr+KvwDAAAAAAAElFTkSuQmCC)"
      ],
      "metadata": {
        "id": "GTcHTypTZwrO"
      }
    },
    {
      "cell_type": "markdown",
      "source": [
        "---\n",
        "### Matriz\n",
        "Un tensor de matriz tiene dos ejes."
      ],
      "metadata": {
        "id": "6xt4gx7TaH0A"
      }
    },
    {
      "cell_type": "code",
      "source": [
        "x = torch.tensor([[1,2],[3,4],[5,6]])\n",
        "print (x)\n",
        "print (x.shape)\n",
        "print (f\"Dimensiones: {x.ndim}\")"
      ],
      "metadata": {
        "colab": {
          "base_uri": "https://localhost:8080/"
        },
        "id": "m-NRRok-auye",
        "outputId": "e6a70baf-5210-4d50-8fa4-af1f7c78c182"
      },
      "execution_count": 52,
      "outputs": [
        {
          "output_type": "stream",
          "name": "stdout",
          "text": [
            "tensor([[1, 2],\n",
            "        [3, 4],\n",
            "        [5, 6]])\n",
            "torch.Size([3, 2])\n",
            "Dimensiones: 2\n"
          ]
        }
      ]
    },
    {
      "cell_type": "markdown",
      "source": [
        "![matrix.png](data:image/png;base64,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)"
      ],
      "metadata": {
        "id": "9X-srBXoa9z1"
      }
    },
    {
      "cell_type": "markdown",
      "source": [
        "---\n",
        "### Tensor con tres ejes\n"
      ],
      "metadata": {
        "id": "ZNEL1QOaa_15"
      }
    },
    {
      "cell_type": "code",
      "source": [
        "x = torch.tensor([[[0, 1, 2, 3, 4], [5, 6, 7, 8, 9]], [[10, 11, 12, 13, 14], [15, 16, 17, 18, 19]], [[20, 21, 22, 23, 24], [25, 26, 27, 28, 29]]])\n",
        "print (f\"{x}\\n\")\n",
        "print (f\"{x.shape}\\n\")\n",
        "print (f\"Dimensiones: {x.ndim}\")"
      ],
      "metadata": {
        "colab": {
          "base_uri": "https://localhost:8080/"
        },
        "id": "fQDZHHW0cP5k",
        "outputId": "642f2799-9582-4a55-d6c8-2d701d299249"
      },
      "execution_count": 60,
      "outputs": [
        {
          "output_type": "stream",
          "name": "stdout",
          "text": [
            "tensor([[[ 0,  1,  2,  3,  4],\n",
            "         [ 5,  6,  7,  8,  9]],\n",
            "\n",
            "        [[10, 11, 12, 13, 14],\n",
            "         [15, 16, 17, 18, 19]],\n",
            "\n",
            "        [[20, 21, 22, 23, 24],\n",
            "         [25, 26, 27, 28, 29]]])\n",
            "\n",
            "torch.Size([3, 2, 5])\n",
            "\n",
            "Dimensiones: 3\n"
          ]
        }
      ]
    },
    {
      "cell_type": "markdown",
      "source": [
        "<table>\n",
        "<caption>Existen varias formas de visualizar un tensor con más de dos ejes:</caption>\n",
        "<tr><td>\n",
        "\n",
        "![3-axis_numpy.png](data:image/png;base64,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)\n",
        "\n",
        "</td><td>\n",
        "\n",
        "![3-axis_front.png](data:image/png;base64,iVBORw0KGgoAAAANSUhEUgAAASQAAADBCAYAAABmB81pAAAWlElEQVR42u2dD5AU5ZmHp4qBnf2Hy7LA8i9u4qprJGHLNYIKikJEXSOJq6KiBbk9DwMhG0QLlRPEw4iBExUChoiiW0iQQzzXgwtGN7KFhlNPI15QczlicQnWkSu8wipSRYrv+tfTPTRTuwPTM929s/s8VW/tTPfA1/3N9DPv93ZPf7EYAAAAAAAAAAAAAAAAAAAAAAAAAAAAAAAAAAAAAAAAAAAAADhUWzHfiq1WvGrFSivG0S0AEDYSzyErTCex2Yp4hNuWsKLGiThvFUDPRgf6YUc+a5xMSQf+RCt+5yxfGfI2qf0WKzqcbdvnxGEne5vO2wbQM1npSKetk3XnO+uOWFER0vaMsmKvM3SckJYVKVtqtKLdiresGMHbB9Cz2OxkHlO6WO9mT2HUk9TGASumnsJrW5wAgB5IZ/WZitjxWlJtSDKikA4AnQrqZ46M2pERAESBCsYrYskismT0XixZ6EZGABA6+zzDtKNWtMaSZ+IKSUZvxY6fmYsi/reXtk37yZos5FkSEtCEWPIUu8SkwnZdoWRGg4cMOvLx/+wxUcXwkcMia7tPnz7Hotz3srLSSNvvX9E/0vYTicQBFBJsHandkdL2QhmmISSEhJB6Lo2e4VtB1IwQEkJCSIWLhmKTM6yv9dSUKrq7jBASQkJIhc1RRzbnd7G+yVNHKoizaQgJISGkwsUtXG/soob0lrP+Z4UgI4SEkBBSYTPWkyXp+iP3mqN6p5Ct5Qc7OfXffoqCmRIL+TojhISQEFJh0xQ7/pu19NjXxXCuxRHZiljn1ynpR7LPOP++PsydQUgICSEVPsqMFsWSv/pvd4ZwzbHkL+y7Qq/TL/P3x5K3Kml3wn2+6CT/HiEhJIQEeb0k4FXP2bgJTkR6WxCEhJAQUu8kkYezbwgJISEkyBv7YsH91g0hISSEBL1HSPMfuMucWVdr6hu+bi674lLz3r7d9vKHViy2l58zqs7cdf/cQIT02z+9b26efqMZVX+u3Y4ee9dv3/WyvTwoIb39uzfN+MvH2fuufV249D57+a4P203DmPPs0PInnn40ECFp/7zt/HTDT+zlL72+2e4TLb/okrHm1x/tDERI67c8Zbd7wcXfsPtZ2+Ndr8+A1iGkwiHuDNnihSikHbv/xZaHxKDn02feZstHB+TpX/6SLSet04f1lZ1b8y4kHYCSoPtcH373oJQEdLBkm21lI6RZd860Q4+1r2pLB/8NtzadIKcBlQPMB/vfybuQJn/ripTsXn/3F6ZqcJX9WCJ6vu1Z+/EP752T2sZ8C6l62BD7M6DHq597wky66vLUOm2P1iOkwkIF7I5CrSHpINO3sfvc/fCvWLvMXHv9Nanlf/eDZrNgyfy8C0kHuz747nMdEO4BOufuWfb6IIWkttWG+1wS1jJlCsqe3D7qf1p5KnPMp5DU967o1F5JaUkqc3Rf0zxrRlYZajZC2rR9Q+qxBKhs0W1fmdnSlUsQUoGhG/HP7glFbR2E+obWAakPooTgrtNj7/MgakhuRpSeiQQpJG9Ixt4MwQ0NI29tvjnQGpIEoLa1DV5ZKzNVdvbG+78MtIYk2aotZUluXyhDbN36NEIqIHQj/r2xbjhXWrZC0rejZOAOEyQkZUVhCWn56qV2+95sJUwhaV+VEXizIEniupummMbvXHVCxpJvIalNyUjD5c7WK1vVEC4oIanPVa9avGxhKmtSe/piUtuqr3X2viCk7oX727RR3XHjshGSm5l4C5rrNj1p1zfc5zpYJI0ghKRvYx0A7hApTCFJNNpP1Yy80pEktE3Z1G78CEn1KslAJxa8yzVEc7dHGWNRUVEgQtJ7rmGqW7dzv4yUFbmFbg1Xu5IlQupeMuq298DOpqitD7sOAH0QFcqSdBDog6pvS9U59DibMz3ZFLVVN9HZHLd9t8gahpAkw6+c+eVU2wplAxKUMgPv8iBqSJKhW6txw62l6T1Rnyt7U5aWbyFJeNp37avbtr6IvK9hyIaMQhWS5KNhiTckB/fbUweCYsuOnwdy2l8HQXr77rDRW9QNUkjp7Wu/1Wb68lMVcjZCSm9D4Ra4lZVIBhoqn6oMsxGS6lLpbacXz9UX2V7ygZCQUV6K2lwYyYWRXBiJjBASQkJI0HNlhJAQEkJCRlkRj/d9u0+f+P6gom+/fseGjxxuuoqBVVUm0/pco19RUcb1AwcF1348Hs+4vqJyQKD7Hu/bN+P6AQG33/ck7XvPniIkZGQzoHLQ4d2f/MVEFYOrR5go2x86/PTI2i4uKY1030vL+kfa/rCRIxASMkJICAkhQTetGSEkhISQoNsUsBESQkJIcDLqwzqbhpAQEkKCTOhWtLrR2pQwGkNICAkhQSYWxJJTFsUQEkJCSAgpajRl0ajeI6ThvVZIieKSiIVUHmn7JaVlpri4+FhQUZQo+j90khuaj21/mA2SIZEhkSFBV0yIJSd3REgICSEhJISEkBASQgKXGqeG1K2F9Kv3/2yHd9kv3/nMtO38fShCenPvF3Z76ct/sfuPgQupszZeav+40+0JSkjp26D+0DZ07Pk8cCGpra76eduuTxFSD2R/LMS51bIVkj6QF15yhVn4yFOpZXp81jmjzaWTrjXjLrvafk2QQrrh1u+Z2+f8/QnLfnDPUnPNdbcFKqS1G183NV85+wQRnXHWueabjTeac0Y1mL+ZdW/gQlq6cqM5b8wlqeeb/vU39jZcNeVm++/6F3cFKiT1e2f9rO3KVu4IqTBYZsWK7iik1n/ebUbVX2AGDhqSEpK+lXWmzM2Y9GFd8lhrIELSN/PlV15nRpx+RkpIal9tShRBCunOBctt6Xpff9OMOeaeB1elRK1+ySZLy1ZI05rn2tLxCum6m29P9feja7faXwhBCEn7JfFq/9P7WZlxet8gpJ5DRSzEex5lI6TH17XZUtIH0hXSuhd2nnCAaLkOkiCEpGxAB53acIWkA0XP17TuCFRIEo/k5329hmnuMEl/KwYMDFRIdy96zGx59T9O6O/07EXSCkJI6vtlqzfbfZ3ez8qYtQ4h9VwmWtHSXWtIXiFJBBouuOtWPbs9KzH4GbJ5heRG0ELK9HplR2pbGVPQQzYNEzsTkjIjCVHDyiCHbOlCUuao4bK2CyFBtxCSd5igWkJvEpKGqhpGKivMpnaWbyG5QycNG0+1uJ2rkJQ1afisLyENG9W2MmaEBJEJSQeB6hruutl3LTF3zH2gVwhJMhrdcJGdIYR12j9dSOpr79lNSeFUz3blKiRlY3qskJSLS8qyGjIiJMi7kNwaglJ3fUAlJ9U5eoOQdLZPRX5tjxvpl0MELSR9Aejs5vOvvGuf5dN7EeaQzbtdDNkgEiGpgKnitjdTkCB0gGZz2tmvkNS2BJR+QGi7ghaSxOstMmu/vZHN9Uh+hKT/3/tloFi8/BlbEsrUsrkWyY+Q1Ped9bO2y9s3foSkOeA0bXb63G+ah07LERJC4kptrtQO5UptTQqqqbw1SaRmJ9ZMtVq+YMl8exrta6+/xp5Zt6tpzhESQkJICClvQtIMKK5sJKPxl4+zn2u5mzEtXrbQzLpzJkJCSAgJIQUrJG/ms/q5J8xlV1xqT5/dMOa81HKJSlkSQsovuiPkdCs2W7H3ZNcbFRcV/XtxouhAYFGcODZ8xJdMVzFo0GCTaX2uUVJcnHH9kCHVwbZfkrn9odVDA2vb6v+M6ysrBwa678WJRMb137xySug/rpWEqocNMVt2/Nx8sP8dUzW4ymzavsH89k/vmxtubTIXXPwNhJRHGmPJ36q1WTHNiloryjJmMKf1P/TXP75roopBAweYKNsfYX04o2y/ZuSwyNoutWQZ5b6PHDEiVCFJQqofrd/yVGqZZKQsSfUl1ZMQUv5ocWQ0NqshFUJCSL1ASM+3PWvL6JWdW0+QyhNPP5p6vHz1UtM8awZCygNNseSN+6uzrvEgJITUw4XkDs0av3OVmXP3LDuWrlxir6tv+LpdzP7php+YM+tq7SEdQsoN98ey9b6KzggJIfVwIamgLQF5Y92mJ1PXIN11/1zzw3vnZCUjhNQ186xo9X0WDCEhpF5SQ+JK7XDoiCV/vY+QEBJCQkiRc9g51Y+QEBJCQkiRcyinCxcjFlJV1EIa2nuFVFKcMFG/97p40n+UZ1w/eOhQhBQB+wpZSGRIZEhkSAgJISEkhISQEBJCQkgICSEFIqQ/vLPNvPZPa83nn3REJiRtw5/3/ip0If3l038zu9rW26HHYQvpi/96y7yxdZ35aNdLkQpp97ZWhATRC+nl5x43o88928z//gxzbt0Z5j9/3Ra6kP77vR2mtmakLcUwhSQZjDnva2bmbdfboX7wK0U/QtJ+19XW2H1/6YUN5scL50YiJMk4Hu+DkCB6Iekg/PCNLfbjpx9bbB+YYQpJQtRBqbNkYQvpxaf/0Uxrujr1vPmWb5vnVi4JTUjPr3nYrH7kPvuxslO/WVYuQlK7F19Qb6oqKxASRC8k7wdRYpKgwhTSjk1rzGd7XrMzhLCFlB7aBgky7BqSMrVHF99lGieND11IkvC2Daty2n6EhJDyJiTvB1HDNb8fzFxrSFELScOliePH+K4j5XJAL5w30x4u62+YQnph7Y/N7O9OzXn7gxZSaVn5scqBlYeDipKS4vfRTzcRkveCQglJB0ZvEpIEpINS2UkuRf1cz7JpO9T37+54PjQh6b1/4qH59lBdmbL++umDoIVUUlp+ED30ogxJQya3pjJ1yuReJaSmxkm2kHI5w+ZXSJKBd4ioDE1n3MISkjIyNyr6l9t//RT1ERJCypuQNFSZcuUEW0b6hvZzQBSqkFTAVmbgPTD9ZCh+haS+VkFfQye13TD6q77EmI/T/t15yIaQetl1SPqWfnD+LN8HYz6EpMKqToOHKSQJQcMUb/i9HsjvAa0+V9+vXX6/XdyO6jokSTGfQtK8b5pC27tME4Nqnrxs5qRDSFypzZXaXKmdk5De3PuFPWW2d+baex5cZc46Z7Q9SaZm8fVOIIqQEBJCQkiBCKlt5+/N6IaLbOl4hVRcUma27frUfrzuhZ1m3GVXI6QciFtRY0UVQkJICCmzkJT9aBpvr5AqBgw8YeiWzTx3COk4k2PJOzketcI4oYuolsVOMi1RlpQhJITUk35cmy4kZUx3zH3AvNT+sbnh1u8hJB/M9khojxXPxJLzpB1xlmnyxoo8tVXr/H8ICSH1SCFpuHbdzbfbQ7XH17UhJB+CcLOi5rR1NY48tG5NntrTZJCbERJC6qlCunPBcvvMmx6vena7XfRGSKfOPzjCaeti/URn/eE8tad2piMkhNRThXTTjDlmyg3fNQseetKcM6rBrH9xF0LKgmecodnsLtZXeYZzNTm2pRlqNVNtAiEhpJ4iJBWu1258/YRLAZat3myf/lcdieuQ8sv5joyO5iiSakdGjbluEEJCSD31jpEI6eS0OkJ6NYf/o945s9aSjw1CSAgJIfVOpnqGa+Oy/LcJp/7U6lw+0JSvjUJICAkh9T6aPGffFmX5b9s9IuvI90WWiaKiv1pSOhZgmMqK07oMzQ2WaX2ucbL2y8tKIm2/f3lZZG3369s30n0fMXwYQoqA6R4ZrfDx73XNUp1zGUGHc+nAWDIkMiQyJITk9zIAP5lRV6iQfTBfwzaEhJAQUs8n4Vyw6J5Rm57n/7/OkdJYhISQEBJCykSZM7SSjA5ZMSGgdhqd4VscISEkhISQusLNjA44mUyQdOQ6dENICAkh9VyaY8d/GjIqpPZaERJCQkgIqTP2eYrYJ4uaPNWS9iAkhISQEFJnmJCFVBEr8PshVUUtpKG9V0i6BizS975ywLH+pw04FFSUlpZ/QAUpmqyscIVkfSijbH/40MHHerGQjkWcHR/m8EVICAkhISRASAgJISEkhBSIkDRTqSZodOPDN7aELiS1qznR/LbtV0iaB8677wpNJx6mkLQN2ndN1Ol39txchKR54dT+7m2tCAmiF5ImCBx97tlm+o3fskMTFoYppAUtf2saJ42329Usrn4PDD9C0kSR7n4rykpL7NlswxKSZKRivKbUnnnb9WZa09WhCknvvWYrVt/rPVj9yH0ICaIV0rw7brO/IaMYsn3+SYctITcz2NW23vd02rkO2dQHTY2TQh2yqU2J0H0ej/cJVUhjzvua3ed6rFlz/WZ5CAkh5U1I+mZUSAw6OPxOZ+1HSMpQJAFNJT1x/Bg7U4iihqRhqzKVXKby9nMw/+GdbXZ2qkxFmeLUKZNDFZKyI+8wuaqywt4mhASRCUlDhR2b1thZyvzvz/CdJfgRkuomiaJ+qfqRpOR3yJiLkH503xzTcvstoRe1P9r1krn4gnq73yUjvRdhCskdLisr1eOK/uW+amgICSEFcpbtsz2v+U7b/QhJB4KGDe7zbRtWnTCECUtIyg5zKaj7FZIE5B0uX3phg68hq18h6UtIdaPmW75t970yJmWLCAkiE5KGDKofuDWchtFfDU1IGiLpQHZrSMqO/GYqfoWkIUo+TtnnQ0jKVpSthiUkyeg3r72QytYkJGpIEKmQNFzQUGnhvJn2B9LPAZHrWTa1r7+So9/T7n6FpMwgl2J2LkKSDGprRtrvgbIUZUh+Tv37FZL2XV9Aeu/1V88REkQ+ZNO1KKrn5FLUzeU6JB2YLz/3uK/hQq5C0j7nOlzL5Tok7bP6XgX+KK5DUmaU63uPkBBSIDUkrtTmSm2EBAgJISEkQEgICSEhJOiKgwgJISEk6C4cieVwo3+EhJAQEuSTt2PZT82NkBASQoJA0ASUKxESQkJI0B2odupINQgJISEk6A7MtuK9WHKSSoSEkBASRM4KR0o1CAkhISToLpnSQaemNO5Uzr4hJISEkCDomtIi5+ybLglYkOnFfePxz8rLSg9GFUVF/Y5G2X5xIhFp+5YUIms/Hu8T6b5X9C/7kMMVAAAAAAAAAAAAAAAAAAAAoMewgC6ACNDPnFroBkgnp/spAfik1oq9dAOkk9P9lAB8Ms2KzXQDpJPT/ZQAfNJmxXS6AdLJ6X5KAD4Ya8V+KxJ0BXSG7/spAfj4ApSMGukKyISv+ykBZEF9LDltF2fX4JQzpazupwRwEjQsm2hFqxUHrGiiSyDblNp7P6WDzrdab449zgHVdAqS1gGoYq3OIO3t5f12yArdhK3DinlWVHB4AeSGDqI6K5qdA0uSGdvFaxud+ojOIOm0tq61oS4HAIHR6GSN6UOPFkdGY+kiAAiTOkdKrnyanCFKNV0DAFFlShq+VcWSxdp6ugQAoqTDiVa6AgCiRoVuE0ue1gYAiJQ6R0j8BAIAIkeXBLTTDQAAAAAAAAAAAAAAAAAAAIWCfipSkyFG0EUAEBa6tYjJEPvoIgAIiwOOePbHOr8pWQddBABhDdcko8N0BQBEzWRHSGRBABA58xwhraArACBqNjpC0v2yJzpiesaKh2PcuhYAQmZP7PiZtM7OsOlGbdzUHwACJ+ERj+6nPd+KCbFkXUmZ0lFn3Wa6CgCCRhc8bo8l56ur7WT9VI+wxtFdABA1HY6QVtIVABA1DztC2k5XAEDULHKE1EZXAECQzI4lz65tzPAa93duD9NdABAk0xzZHIklf0KSTo2zTq/hmiQACJRE7Pj1Rx1pUtJ0SHtjnPYHgBDRdNkHPJmSxKTLAI56RMWFkQAQGtVWLPNkREccKbVYEad7AAAAAAAAAAAAAAAAAAAAAAAAAACg1/D/GL1hI5FHwV4AAAAASUVORK5CYII=)\n",
        "\n",
        "</td><td>\n",
        "\n",
        "![3-axis_block.png](data:image/png;base64,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)\n",
        "</td>\n",
        "</tr>\n",
        "</table>"
      ],
      "metadata": {
        "id": "bzTYgfS3dD5p"
      }
    },
    {
      "cell_type": "markdown",
      "source": [
        "---\n",
        "### Formas de los tensores\n",
        "* **Forma**: La longitud (número de elementos) de cada uno de los ejes de un tensor.\n",
        "* **Rango**: Número de ejes del tensor. Un escalar tiene rango 0, un vector tiene rango 1, una matriz tiene rango 2.\n",
        "* **Eje** o **Dimensión**: Una dimensión particular de un tensor.\n",
        "* **Tamaño**: El número total de elementos en el tensor, el vector de la forma del producto."
      ],
      "metadata": {
        "id": "2CrGAmRZdGkw"
      }
    },
    {
      "cell_type": "code",
      "source": [
        "x = torch.zeros([3, 2, 4, 5])\n",
        "print (x.shape)\n",
        "print (f\"Dimensiones: {x.ndim}\")"
      ],
      "metadata": {
        "colab": {
          "base_uri": "https://localhost:8080/"
        },
        "id": "lQf3NFhHdFd9",
        "outputId": "ffb8fb9f-725c-456e-d504-8a09b4bf3150"
      },
      "execution_count": 64,
      "outputs": [
        {
          "output_type": "stream",
          "name": "stdout",
          "text": [
            "torch.Size([3, 2, 4, 5])\n",
            "Dimensiones: 4\n"
          ]
        }
      ]
    },
    {
      "cell_type": "markdown",
      "source": [
        "La clasificación de este tensor es:\n",
        "\n",
        "![shape.png](data:image/png;base64,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)\n",
        "\n",
        "Graficamente se representa como:\n",
        "\n",
        "![4-axis_block.png](data:image/png;base64,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)\n",
        "\n",
        "Orden de eje típico:\n",
        "\n",
        "![shape2.png](data:image/png;base64,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)\n"
      ],
      "metadata": {
        "id": "Z2F-M58DtRkJ"
      }
    },
    {
      "cell_type": "markdown",
      "source": [
        ""
      ],
      "metadata": {
        "id": "hym2HFjXumeZ"
      }
    },
    {
      "cell_type": "code",
      "source": [
        ""
      ],
      "metadata": {
        "id": "2a3TxTawtpF5"
      },
      "execution_count": null,
      "outputs": []
    }
  ]
}